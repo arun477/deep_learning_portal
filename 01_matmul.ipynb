{
 "cells": [
  {
   "cell_type": "code",
   "execution_count": 46,
   "id": "0692b6da",
   "metadata": {},
   "outputs": [],
   "source": [
    "from pathlib import Path"
   ]
  },
  {
   "cell_type": "code",
   "execution_count": 47,
   "id": "200841c2",
   "metadata": {},
   "outputs": [],
   "source": [
    "mnist_url = \\\n",
    "'https://github.com/mnielsen/neural-networks-and-deep-learning/blob/master/data/mnist.pkl.gz?raw=true'\n",
    "data_dir = Path('data')\n",
    "data_dir.mkdir(exist_ok=True)\n",
    "path_gz = data_dir/'mnist.pkl.gz'"
   ]
  },
  {
   "cell_type": "code",
   "execution_count": 48,
   "id": "c2b94cc5",
   "metadata": {},
   "outputs": [],
   "source": [
    "from urllib.request import urlretrieve\n",
    "if not path_gz.exists():\n",
    "    urlretrieve(mnist_url, path_gz)"
   ]
  },
  {
   "cell_type": "code",
   "execution_count": 49,
   "id": "c65a386a",
   "metadata": {},
   "outputs": [],
   "source": [
    "import pickle, gzip\n",
    "with gzip.open(path_gz, 'rb') as f:\n",
    "    data = pickle.load(f, encoding='latin-1')"
   ]
  },
  {
   "cell_type": "code",
   "execution_count": 50,
   "id": "eb87013d",
   "metadata": {},
   "outputs": [],
   "source": [
    "((x_train, y_train), (x_valid, y_valid), _) = data"
   ]
  },
  {
   "cell_type": "code",
   "execution_count": 51,
   "id": "dd650b9e",
   "metadata": {},
   "outputs": [
    {
     "data": {
      "text/plain": [
       "((50000, 784), (50000,))"
      ]
     },
     "execution_count": 51,
     "metadata": {},
     "output_type": "execute_result"
    }
   ],
   "source": [
    "x_train.shape,y_train.shape"
   ]
  },
  {
   "cell_type": "code",
   "execution_count": 7,
   "id": "858ac8af",
   "metadata": {},
   "outputs": [
    {
     "data": {
      "text/plain": [
       "[0.0,\n",
       " 0.0,\n",
       " 0.0,\n",
       " 0.19140625,\n",
       " 0.9296875,\n",
       " 0.98828125,\n",
       " 0.98828125,\n",
       " 0.98828125,\n",
       " 0.98828125,\n",
       " 0.98828125]"
      ]
     },
     "execution_count": 7,
     "metadata": {},
     "output_type": "execute_result"
    }
   ],
   "source": [
    "lst1 = list(x_train[0])\n",
    "vals = lst1[200:210]\n",
    "vals"
   ]
  },
  {
   "cell_type": "code",
   "execution_count": 8,
   "id": "b5f9ad78",
   "metadata": {},
   "outputs": [],
   "source": [
    "def chunks(x, sz):\n",
    "    for i in range(0, len(x), sz):\n",
    "        yield x[i:i+sz]"
   ]
  },
  {
   "cell_type": "code",
   "execution_count": 9,
   "id": "124f4658",
   "metadata": {},
   "outputs": [
    {
     "data": {
      "text/plain": [
       "[[0.0, 0.0, 0.0, 0.19140625, 0.9296875],\n",
       " [0.98828125, 0.98828125, 0.98828125, 0.98828125, 0.98828125]]"
      ]
     },
     "execution_count": 9,
     "metadata": {},
     "output_type": "execute_result"
    }
   ],
   "source": [
    "t = list(chunks(vals, 5))\n",
    "t"
   ]
  },
  {
   "cell_type": "code",
   "execution_count": 10,
   "id": "8289d3c3",
   "metadata": {},
   "outputs": [
    {
     "data": {
      "image/png": "[encoded data removed]",
      "text/plain": [
       "<Figure size 432x288 with 1 Axes>"
      ]
     },
     "metadata": {
      "needs_background": "light"
     },
     "output_type": "display_data"
    }
   ],
   "source": [
    "import matplotlib.pyplot as plt\n",
    "import matplotlib as mpl\n",
    "mpl.rcParams['image.cmap'] = 'gray'\n",
    "plt.imshow(list(chunks(lst1, 28)));\n",
    "plt.axis('off');"
   ]
  },
  {
   "cell_type": "code",
   "execution_count": 17,
   "id": "174f4a50",
   "metadata": {},
   "outputs": [],
   "source": [
    "iter1 = iter(vals)"
   ]
  },
  {
   "cell_type": "code",
   "execution_count": 12,
   "id": "2f94bc93",
   "metadata": {},
   "outputs": [],
   "source": [
    "from itertools import islice"
   ]
  },
  {
   "cell_type": "code",
   "execution_count": 13,
   "id": "87b89bd4",
   "metadata": {},
   "outputs": [
    {
     "data": {
      "text/plain": [
       "[0.0, 0.0, 0.0, 0.19140625, 0.9296875]"
      ]
     },
     "execution_count": 13,
     "metadata": {},
     "output_type": "execute_result"
    }
   ],
   "source": [
    "list(islice(iter1, 5))"
   ]
  },
  {
   "cell_type": "code",
   "execution_count": 14,
   "id": "fb2e28d8",
   "metadata": {},
   "outputs": [
    {
     "data": {
      "text/plain": [
       "[0.98828125, 0.98828125, 0.98828125, 0.98828125, 0.98828125]"
      ]
     },
     "execution_count": 14,
     "metadata": {},
     "output_type": "execute_result"
    }
   ],
   "source": [
    "list(islice(iter1, 5))"
   ]
  },
  {
   "cell_type": "code",
   "execution_count": 15,
   "id": "5eb67e5a",
   "metadata": {},
   "outputs": [
    {
     "data": {
      "text/plain": [
       "[0.0,\n",
       " 0.0,\n",
       " 0.0,\n",
       " 0.19140625,\n",
       " 0.9296875,\n",
       " 0.98828125,\n",
       " 0.98828125,\n",
       " 0.98828125,\n",
       " 0.98828125,\n",
       " 0.98828125]"
      ]
     },
     "execution_count": 15,
     "metadata": {},
     "output_type": "execute_result"
    }
   ],
   "source": [
    "vals"
   ]
  },
  {
   "cell_type": "code",
   "execution_count": 16,
   "id": "2da4828d",
   "metadata": {},
   "outputs": [
    {
     "data": {
      "image/png": "[encoded data removed]",
      "text/plain": [
       "<Figure size 432x288 with 1 Axes>"
      ]
     },
     "metadata": {
      "needs_background": "light"
     },
     "output_type": "display_data"
    }
   ],
   "source": [
    "it = iter(lst1)\n",
    "img = list(iter(lambda: list(islice(it, 28)), []))\n",
    "plt.imshow(img);\n",
    "plt.axis('off');"
   ]
  },
  {
   "cell_type": "code",
   "execution_count": 24,
   "id": "4660f3fd",
   "metadata": {},
   "outputs": [
    {
     "data": {
      "text/plain": [
       "0.0"
      ]
     },
     "execution_count": 24,
     "metadata": {},
     "output_type": "execute_result"
    }
   ],
   "source": [
    "img[25][25]"
   ]
  },
  {
   "cell_type": "code",
   "execution_count": 25,
   "id": "fa6fd522",
   "metadata": {},
   "outputs": [],
   "source": [
    "class Matrix:\n",
    "    def __init__(self, xs):\n",
    "        self.xs = xs\n",
    "    \n",
    "    def __getitem__(self, idx):\n",
    "        return self.xs[idx[0]][idx[1]]"
   ]
  },
  {
   "cell_type": "code",
   "execution_count": 27,
   "id": "31e1bb0c",
   "metadata": {},
   "outputs": [
    {
     "data": {
      "text/plain": [
       "0.0"
      ]
     },
     "execution_count": 27,
     "metadata": {},
     "output_type": "execute_result"
    }
   ],
   "source": [
    "m = Matrix(img)\n",
    "m[25, 25]"
   ]
  },
  {
   "cell_type": "code",
   "execution_count": 53,
   "id": "9e84828d",
   "metadata": {},
   "outputs": [],
   "source": [
    "import torch\n",
    "from torch import tensor"
   ]
  },
  {
   "cell_type": "code",
   "execution_count": 55,
   "id": "0a9bd541",
   "metadata": {},
   "outputs": [
    {
     "data": {
      "text/plain": [
       "(torch.Size([50000, 784]), torch.Size([10000, 784]))"
      ]
     },
     "execution_count": 55,
     "metadata": {},
     "output_type": "execute_result"
    }
   ],
   "source": [
    "x_train,y_train,x_valid,y_valid = map(tensor, (x_train, y_train, x_valid, y_valid))\n",
    "x_train.shape, x_valid.shape"
   ]
  },
  {
   "cell_type": "code",
   "execution_count": 56,
   "id": "cc22b137",
   "metadata": {},
   "outputs": [
    {
     "data": {
      "text/plain": [
       "'torch.FloatTensor'"
      ]
     },
     "execution_count": 56,
     "metadata": {},
     "output_type": "execute_result"
    }
   ],
   "source": [
    "x_train.type()"
   ]
  },
  {
   "cell_type": "code",
   "execution_count": 57,
   "id": "93d6d065",
   "metadata": {},
   "outputs": [
    {
     "data": {
      "text/plain": [
       "torch.Size([50000, 784])"
      ]
     },
     "execution_count": 57,
     "metadata": {},
     "output_type": "execute_result"
    }
   ],
   "source": [
    "x_train.shape"
   ]
  },
  {
   "cell_type": "code",
   "execution_count": 59,
   "id": "d130e8b7",
   "metadata": {},
   "outputs": [
    {
     "data": {
      "text/plain": [
       "torch.Size([50000, 28, 28])"
      ]
     },
     "execution_count": 59,
     "metadata": {},
     "output_type": "execute_result"
    }
   ],
   "source": [
    "imgs = x_train.reshape(-1, 28, 28)\n",
    "imgs.shape"
   ]
  },
  {
   "cell_type": "code",
   "execution_count": 61,
   "id": "31d81300",
   "metadata": {},
   "outputs": [
    {
     "data": {
      "image/png": "[encoded data removed]",
      "text/plain": [
       "<Figure size 432x288 with 1 Axes>"
      ]
     },
     "metadata": {
      "needs_background": "light"
     },
     "output_type": "display_data"
    }
   ],
   "source": [
    "plt.imshow(imgs[0]);\n",
    "plt.axis('off');"
   ]
  },
  {
   "cell_type": "code",
   "execution_count": 62,
   "id": "e1bde007",
   "metadata": {},
   "outputs": [
    {
     "data": {
      "text/plain": [
       "tensor(0.9883)"
      ]
     },
     "execution_count": 62,
     "metadata": {},
     "output_type": "execute_result"
    }
   ],
   "source": [
    "imgs[0,20,15]"
   ]
  },
  {
   "cell_type": "code",
   "execution_count": 76,
   "id": "66b93b76",
   "metadata": {},
   "outputs": [],
   "source": [
    "torch.manual_seed(1);\n",
    "weights = torch.randn(784, 10)\n",
    "bias = torch.zeros(10)"
   ]
  },
  {
   "cell_type": "code",
   "execution_count": 78,
   "id": "010725e0",
   "metadata": {},
   "outputs": [],
   "source": [
    "m1 = x_valid[:5]\n",
    "m2 = weights"
   ]
  },
  {
   "cell_type": "code",
   "execution_count": 79,
   "id": "08dad227",
   "metadata": {},
   "outputs": [
    {
     "data": {
      "text/plain": [
       "(torch.Size([5, 784]), torch.Size([784, 10]))"
      ]
     },
     "execution_count": 79,
     "metadata": {},
     "output_type": "execute_result"
    }
   ],
   "source": [
    "m1.shape, m2.shape"
   ]
  },
  {
   "cell_type": "code",
   "execution_count": 80,
   "id": "feb5c02e",
   "metadata": {},
   "outputs": [],
   "source": [
    "ar,ac = m1.shape\n",
    "br,bc = m2.shape"
   ]
  },
  {
   "cell_type": "code",
   "execution_count": 89,
   "id": "c449a388",
   "metadata": {},
   "outputs": [],
   "source": [
    "t1 = torch.zeros(ar, bc)"
   ]
  },
  {
   "cell_type": "code",
   "execution_count": 90,
   "id": "35615470",
   "metadata": {},
   "outputs": [],
   "source": [
    "for i in range(ar):\n",
    "    for j in range(bc):\n",
    "        for k in range(ac):\n",
    "            t1[i,j] += m1[i, k] * m2[k, j]"
   ]
  },
  {
   "cell_type": "code",
   "execution_count": 91,
   "id": "fe9f1c22",
   "metadata": {},
   "outputs": [
    {
     "data": {
      "text/plain": [
       "tensor([[-10.9417,  -0.6844,  -7.0038,  -4.0066,  -2.0857,  -3.3588,   3.9127,\n",
       "          -3.4375, -11.4696,  -2.1153],\n",
       "        [ 14.5430,   5.9977,   2.8914,  -4.0777,   6.5914, -14.7383,  -9.2787,\n",
       "           2.1577, -15.2772,  -2.6758],\n",
       "        [  2.2204,  -3.2171,  -4.7988,  -6.0453,  14.1661,  -8.9824,  -4.7922,\n",
       "          -5.4446, -20.6758,  13.5657],\n",
       "        [ -6.7097,   8.8998,  -7.4611,  -7.8966,   2.6994,  -4.7260, -11.0278,\n",
       "         -12.9776,  -6.4443,   3.6376],\n",
       "        [ -2.4444,  -6.4034,  -2.3984,  -9.0371,  11.1772,  -5.7724,  -8.9214,\n",
       "          -3.7862,  -8.9827,   5.2797]])"
      ]
     },
     "execution_count": 91,
     "metadata": {},
     "output_type": "execute_result"
    }
   ],
   "source": [
    "t1"
   ]
  },
  {
   "cell_type": "code",
   "execution_count": 87,
   "id": "ca0dc73c",
   "metadata": {},
   "outputs": [],
   "source": [
    "def matmul(m1, m2):\n",
    "    ar,ac = m1.shape\n",
    "    br,bc = m2.shape\n",
    "    t1 = torch.zeros(ar, bc)\n",
    "    for i in range(ar):\n",
    "        for j in range(bc):\n",
    "            for k in range(br):\n",
    "                t1[i,j] += m1[i,k]*m2[k,j]\n",
    "    return t1"
   ]
  },
  {
   "cell_type": "code",
   "execution_count": 94,
   "id": "58e8c970",
   "metadata": {},
   "outputs": [],
   "source": [
    "t1 = matmul(m1, m2)"
   ]
  },
  {
   "cell_type": "code",
   "execution_count": 107,
   "id": "2968c3c3",
   "metadata": {},
   "outputs": [
    {
     "name": "stdout",
     "output_type": "stream",
     "text": [
      "CPU times: user 689 ms, sys: 4.37 ms, total: 693 ms\n",
      "Wall time: 692 ms\n"
     ]
    }
   ],
   "source": [
    "%time _ = matmul(m1, m2)"
   ]
  },
  {
   "cell_type": "code",
   "execution_count": 93,
   "id": "3d9dcfe5",
   "metadata": {},
   "outputs": [
    {
     "data": {
      "text/plain": [
       "39200"
      ]
     },
     "execution_count": 93,
     "metadata": {},
     "output_type": "execute_result"
    }
   ],
   "source": [
    "ar*bc*br"
   ]
  },
  {
   "cell_type": "code",
   "execution_count": 102,
   "id": "04ffe7ef",
   "metadata": {},
   "outputs": [],
   "source": [
    "def matmul2(m1, m2):\n",
    "    ar,ac = m1.shape\n",
    "    br,bc = m2.shape\n",
    "    t1 = torch.zeros(ar,bc)\n",
    "    for i in range(ar):\n",
    "        for j in range(bc):\n",
    "            t1[i, j] = m1[i,:].dot(m2[:,j])\n",
    "    return t1"
   ]
  },
  {
   "cell_type": "code",
   "execution_count": 103,
   "id": "21b88833",
   "metadata": {},
   "outputs": [],
   "source": [
    "t2 = matmul2(m1, m2)"
   ]
  },
  {
   "cell_type": "code",
   "execution_count": 114,
   "id": "79dd35a7",
   "metadata": {},
   "outputs": [
    {
     "name": "stdout",
     "output_type": "stream",
     "text": [
      "CPU times: user 6.31 ms, sys: 3.39 ms, total: 9.7 ms\n",
      "Wall time: 6.91 ms\n"
     ]
    }
   ],
   "source": [
    "%time _ = matmul2(m1, m2)"
   ]
  },
  {
   "cell_type": "code",
   "execution_count": 115,
   "id": "acb9d04c",
   "metadata": {},
   "outputs": [
    {
     "name": "stdout",
     "output_type": "stream",
     "text": [
      "845 µs ± 302 µs per loop (mean ± std. dev. of 7 runs, 50 loops each)\n"
     ]
    }
   ],
   "source": [
    "%timeit -n 50 _= matmul2(m1, m2)"
   ]
  },
  {
   "cell_type": "code",
   "execution_count": 116,
   "id": "c4764902",
   "metadata": {},
   "outputs": [
    {
     "data": {
      "text/plain": [
       "True"
      ]
     },
     "execution_count": 116,
     "metadata": {},
     "output_type": "execute_result"
    }
   ],
   "source": [
    "torch.allclose(t1, t2)"
   ]
  },
  {
   "cell_type": "code",
   "execution_count": 117,
   "id": "e3886f46",
   "metadata": {},
   "outputs": [
    {
     "data": {
      "text/plain": [
       "tensor([10., -4.,  6.])"
      ]
     },
     "execution_count": 117,
     "metadata": {},
     "output_type": "execute_result"
    }
   ],
   "source": [
    "a = torch.tensor([10,-4.,6])\n",
    "a"
   ]
  },
  {
   "cell_type": "code",
   "execution_count": 118,
   "id": "7528611e",
   "metadata": {},
   "outputs": [
    {
     "data": {
      "text/plain": [
       "tensor([ True, False,  True])"
      ]
     },
     "execution_count": 118,
     "metadata": {},
     "output_type": "execute_result"
    }
   ],
   "source": [
    "a > 0"
   ]
  },
  {
   "cell_type": "code",
   "execution_count": 119,
   "id": "a6b1d446",
   "metadata": {},
   "outputs": [
    {
     "data": {
      "text/plain": [
       "torch.Size([3, 3])"
      ]
     },
     "execution_count": 119,
     "metadata": {},
     "output_type": "execute_result"
    }
   ],
   "source": [
    "m = torch.tensor([\n",
    "    [5., 4, 2],\n",
    "    [5., 4, 2],\n",
    "    [5., 4, 2],\n",
    "])\n",
    "m.shape"
   ]
  },
  {
   "cell_type": "code",
   "execution_count": 121,
   "id": "9b0b9d9f",
   "metadata": {},
   "outputs": [
    {
     "data": {
      "text/plain": [
       "torch.Size([3])"
      ]
     },
     "execution_count": 121,
     "metadata": {},
     "output_type": "execute_result"
    }
   ],
   "source": [
    "c = torch.tensor([1, 4, 5])\n",
    "c.shape"
   ]
  },
  {
   "cell_type": "code",
   "execution_count": 122,
   "id": "124da0c0",
   "metadata": {},
   "outputs": [
    {
     "data": {
      "text/plain": [
       "tensor([[ 5., 16., 10.],\n",
       "        [ 5., 16., 10.],\n",
       "        [ 5., 16., 10.]])"
      ]
     },
     "execution_count": 122,
     "metadata": {},
     "output_type": "execute_result"
    }
   ],
   "source": [
    "m*c"
   ]
  },
  {
   "cell_type": "code",
   "execution_count": 123,
   "id": "94924572",
   "metadata": {},
   "outputs": [
    {
     "data": {
      "text/plain": [
       "tensor([[6., 8., 7.],\n",
       "        [6., 8., 7.],\n",
       "        [6., 8., 7.]])"
      ]
     },
     "execution_count": 123,
     "metadata": {},
     "output_type": "execute_result"
    }
   ],
   "source": [
    "m+c"
   ]
  },
  {
   "cell_type": "code",
   "execution_count": 124,
   "id": "c03bc3d0",
   "metadata": {},
   "outputs": [
    {
     "data": {
      "text/plain": [
       "tensor([[1, 4, 5],\n",
       "        [1, 4, 5],\n",
       "        [1, 4, 5]])"
      ]
     },
     "execution_count": 124,
     "metadata": {},
     "output_type": "execute_result"
    }
   ],
   "source": [
    "t = c.expand_as(m)\n",
    "t"
   ]
  },
  {
   "cell_type": "code",
   "execution_count": 127,
   "id": "9ccdc582",
   "metadata": {
    "scrolled": true
   },
   "outputs": [
    {
     "name": "stderr",
     "output_type": "stream",
     "text": [
      "/var/folders/8k/07c2mpg56x7c31_26k0qj2y00000gn/T/ipykernel_42071/1911556638.py:1: UserWarning: TypedStorage is deprecated. It will be removed in the future and UntypedStorage will be the only storage class. This should only matter to you if you are using storages directly.  To access UntypedStorage directly, use tensor.untyped_storage() instead of tensor.storage()\n",
      "  t.storage()\n"
     ]
    },
    {
     "data": {
      "text/plain": [
       " 1\n",
       " 4\n",
       " 5\n",
       "[torch.storage.TypedStorage(dtype=torch.int64, device=cpu) of size 3]"
      ]
     },
     "execution_count": 127,
     "metadata": {},
     "output_type": "execute_result"
    }
   ],
   "source": [
    "t.storage()"
   ]
  },
  {
   "cell_type": "code",
   "execution_count": 130,
   "id": "f727206d",
   "metadata": {},
   "outputs": [
    {
     "data": {
      "text/plain": [
       "((0, 1), torch.Size([3, 3]))"
      ]
     },
     "execution_count": 130,
     "metadata": {},
     "output_type": "execute_result"
    }
   ],
   "source": [
    "t.stride(), t.shape"
   ]
  },
  {
   "cell_type": "code",
   "execution_count": 131,
   "id": "2708f855",
   "metadata": {},
   "outputs": [
    {
     "data": {
      "text/plain": [
       "((3, 1), torch.Size([3, 3]))"
      ]
     },
     "execution_count": 131,
     "metadata": {},
     "output_type": "execute_result"
    }
   ],
   "source": [
    "m.stride(), m.shape"
   ]
  },
  {
   "cell_type": "code",
   "execution_count": 133,
   "id": "47e16d80",
   "metadata": {},
   "outputs": [
    {
     "data": {
      "text/plain": [
       "(tensor([1, 4, 5]), torch.Size([3]))"
      ]
     },
     "execution_count": 133,
     "metadata": {},
     "output_type": "execute_result"
    }
   ],
   "source": [
    "c, c.shape"
   ]
  },
  {
   "cell_type": "code",
   "execution_count": 149,
   "id": "a31ecf0e",
   "metadata": {},
   "outputs": [
    {
     "data": {
      "text/plain": [
       "(torch.Size([1, 3]), torch.Size([1, 3]))"
      ]
     },
     "execution_count": 149,
     "metadata": {},
     "output_type": "execute_result"
    }
   ],
   "source": [
    "c.unsqueeze(0).shape, c[None,:].shape"
   ]
  },
  {
   "cell_type": "code",
   "execution_count": 159,
   "id": "bb87d88b",
   "metadata": {},
   "outputs": [
    {
     "data": {
      "text/plain": [
       "(torch.Size([3, 3, 1]), torch.Size([3, 3, 1]))"
      ]
     },
     "execution_count": 159,
     "metadata": {},
     "output_type": "execute_result"
    }
   ],
   "source": [
    "m.unsqueeze(2).shape, m[:,:,None].shape"
   ]
  },
  {
   "cell_type": "code",
   "execution_count": 163,
   "id": "c768bc2d",
   "metadata": {},
   "outputs": [
    {
     "data": {
      "text/plain": [
       "True"
      ]
     },
     "execution_count": 163,
     "metadata": {},
     "output_type": "execute_result"
    }
   ],
   "source": [
    "torch.allclose(m.unsqueeze(2), m[:,:,None])"
   ]
  },
  {
   "cell_type": "code",
   "execution_count": 145,
   "id": "7b1d59a0",
   "metadata": {},
   "outputs": [
    {
     "data": {
      "text/plain": [
       "tensor([[[5., 4., 2.]],\n",
       "\n",
       "        [[5., 4., 2.]],\n",
       "\n",
       "        [[5., 4., 2.]]])"
      ]
     },
     "execution_count": 145,
     "metadata": {},
     "output_type": "execute_result"
    }
   ],
   "source": [
    "m.unsqueeze(1)"
   ]
  },
  {
   "cell_type": "code",
   "execution_count": 164,
   "id": "774a241d",
   "metadata": {},
   "outputs": [
    {
     "data": {
      "text/plain": [
       "torch.Size([3, 3])"
      ]
     },
     "execution_count": 164,
     "metadata": {},
     "output_type": "execute_result"
    }
   ],
   "source": [
    "m.shape"
   ]
  },
  {
   "cell_type": "code",
   "execution_count": 173,
   "id": "a38933d4",
   "metadata": {},
   "outputs": [
    {
     "data": {
      "text/plain": [
       "(torch.Size([1, 3]), torch.Size([3, 3]))"
      ]
     },
     "execution_count": 173,
     "metadata": {},
     "output_type": "execute_result"
    }
   ],
   "source": [
    "c[None,:].shape, c[None,:].expand_as(m).shape"
   ]
  },
  {
   "cell_type": "code",
   "execution_count": 174,
   "id": "eec6a54f",
   "metadata": {},
   "outputs": [
    {
     "data": {
      "text/plain": [
       "False"
      ]
     },
     "execution_count": 174,
     "metadata": {},
     "output_type": "execute_result"
    }
   ],
   "source": [
    "torch.allclose(c[None,:].expand_as(m), c[:,None].expand_as(m))"
   ]
  },
  {
   "cell_type": "code",
   "execution_count": 178,
   "id": "0a98c231",
   "metadata": {},
   "outputs": [
    {
     "data": {
      "text/plain": [
       "torch.Size([1, 3])"
      ]
     },
     "execution_count": 178,
     "metadata": {},
     "output_type": "execute_result"
    }
   ],
   "source": [
    "c[None,:].shape"
   ]
  },
  {
   "cell_type": "code",
   "execution_count": 177,
   "id": "afce6a36",
   "metadata": {},
   "outputs": [
    {
     "data": {
      "text/plain": [
       "tensor([[1, 4, 5],\n",
       "        [1, 4, 5],\n",
       "        [1, 4, 5]])"
      ]
     },
     "execution_count": 177,
     "metadata": {},
     "output_type": "execute_result"
    }
   ],
   "source": [
    "c[None,:].expand_as(m)"
   ]
  },
  {
   "cell_type": "code",
   "execution_count": 181,
   "id": "6df44e0a",
   "metadata": {},
   "outputs": [
    {
     "data": {
      "text/plain": [
       "tensor([[1, 1, 1],\n",
       "        [4, 4, 4],\n",
       "        [5, 5, 5]])"
      ]
     },
     "execution_count": 181,
     "metadata": {},
     "output_type": "execute_result"
    }
   ],
   "source": [
    "c[:,None].expand_as(m)"
   ]
  },
  {
   "cell_type": "code",
   "execution_count": 183,
   "id": "599306c5",
   "metadata": {},
   "outputs": [
    {
     "data": {
      "text/plain": [
       "(torch.Size([1, 3]), torch.Size([3, 1]))"
      ]
     },
     "execution_count": 183,
     "metadata": {},
     "output_type": "execute_result"
    }
   ],
   "source": [
    "c[None,:].shape,c[:,None].shape"
   ]
  },
  {
   "cell_type": "code",
   "execution_count": 184,
   "id": "75f34fe5",
   "metadata": {},
   "outputs": [
    {
     "data": {
      "text/plain": [
       "tensor([[ 1,  4,  5],\n",
       "        [ 4, 16, 20],\n",
       "        [ 5, 20, 25]])"
      ]
     },
     "execution_count": 184,
     "metadata": {},
     "output_type": "execute_result"
    }
   ],
   "source": [
    "c[None,:]*c[:,None]"
   ]
  },
  {
   "cell_type": "code",
   "execution_count": 192,
   "id": "a1add747",
   "metadata": {},
   "outputs": [
    {
     "data": {
      "text/plain": [
       "torch.Size([3, 3])"
      ]
     },
     "execution_count": 192,
     "metadata": {},
     "output_type": "execute_result"
    }
   ],
   "source": [
    "t = torch.tensor([\n",
    "    [1, 3, 4],\n",
    "    [5., 5, 7],\n",
    "    [5., 5, 7],\n",
    "])\n",
    "t.shape"
   ]
  },
  {
   "cell_type": "code",
   "execution_count": 193,
   "id": "694622cf",
   "metadata": {},
   "outputs": [
    {
     "data": {
      "text/plain": [
       "torch.Size([2])"
      ]
     },
     "execution_count": 193,
     "metadata": {},
     "output_type": "execute_result"
    }
   ],
   "source": [
    "k = torch.tensor([2, 4])\n",
    "k.shape"
   ]
  },
  {
   "cell_type": "code",
   "execution_count": 196,
   "id": "f5d0d3f7",
   "metadata": {},
   "outputs": [
    {
     "data": {
      "text/plain": [
       "torch.Size([2, 1])"
      ]
     },
     "execution_count": 196,
     "metadata": {},
     "output_type": "execute_result"
    }
   ],
   "source": [
    "k[:,None].shape"
   ]
  },
  {
   "cell_type": "code",
   "execution_count": 194,
   "id": "c5d6369d",
   "metadata": {},
   "outputs": [
    {
     "ename": "RuntimeError",
     "evalue": "The size of tensor a (3) must match the size of tensor b (2) at non-singleton dimension 0",
     "output_type": "error",
     "traceback": [
      "\u001b[0;31m---------------------------------------------------------------------------\u001b[0m",
      "\u001b[0;31mRuntimeError\u001b[0m                              Traceback (most recent call last)",
      "\u001b[0;32m/var/folders/8k/07c2mpg56x7c31_26k0qj2y00000gn/T/ipykernel_42071/1850087893.py\u001b[0m in \u001b[0;36m<module>\u001b[0;34m\u001b[0m\n\u001b[0;32m----> 1\u001b[0;31m \u001b[0mt\u001b[0m\u001b[0;34m*\u001b[0m\u001b[0mk\u001b[0m\u001b[0;34m[\u001b[0m\u001b[0;34m:\u001b[0m\u001b[0;34m,\u001b[0m\u001b[0;32mNone\u001b[0m\u001b[0;34m]\u001b[0m\u001b[0;34m\u001b[0m\u001b[0;34m\u001b[0m\u001b[0m\n\u001b[0m",
      "\u001b[0;31mRuntimeError\u001b[0m: The size of tensor a (3) must match the size of tensor b (2) at non-singleton dimension 0"
     ]
    }
   ],
   "source": [
    "t*k[:,None]"
   ]
  },
  {
   "cell_type": "code",
   "execution_count": 191,
   "id": "502a0082",
   "metadata": {},
   "outputs": [
    {
     "data": {
      "text/plain": [
       "torch.Size([2, 1])"
      ]
     },
     "execution_count": 191,
     "metadata": {},
     "output_type": "execute_result"
    }
   ],
   "source": [
    "k[:,None].shape"
   ]
  },
  {
   "cell_type": "code",
   "execution_count": 202,
   "id": "756c3a05",
   "metadata": {},
   "outputs": [
    {
     "data": {
      "image/png": "[encoded data removed]",
      "text/plain": [
       "<Figure size 432x288 with 1 Axes>"
      ]
     },
     "metadata": {
      "needs_background": "light"
     },
     "output_type": "display_data"
    }
   ],
   "source": [
    "plt.imshow(m1[0].reshape(28, 28));"
   ]
  },
  {
   "cell_type": "code",
   "execution_count": 206,
   "id": "eebc818c",
   "metadata": {},
   "outputs": [
    {
     "data": {
      "text/plain": [
       "(torch.Size([784]), torch.Size([784, 10]))"
      ]
     },
     "execution_count": 206,
     "metadata": {},
     "output_type": "execute_result"
    }
   ],
   "source": [
    "digit = m1[0]\n",
    "digit.shape, m2.shape"
   ]
  },
  {
   "cell_type": "code",
   "execution_count": 209,
   "id": "4b2849d4",
   "metadata": {},
   "outputs": [
    {
     "data": {
      "text/plain": [
       "torch.Size([784, 10])"
      ]
     },
     "execution_count": 209,
     "metadata": {},
     "output_type": "execute_result"
    }
   ],
   "source": [
    "digit[:,None].expand_as(m2).shape"
   ]
  },
  {
   "cell_type": "code",
   "execution_count": 210,
   "id": "c339a3c7",
   "metadata": {},
   "outputs": [
    {
     "data": {
      "text/plain": [
       "torch.Size([784, 10])"
      ]
     },
     "execution_count": 210,
     "metadata": {},
     "output_type": "execute_result"
    }
   ],
   "source": [
    "(digit[:,None]*m2).shape"
   ]
  },
  {
   "cell_type": "code",
   "execution_count": 216,
   "id": "03347258",
   "metadata": {},
   "outputs": [],
   "source": [
    "def matmul3(m1, m2):\n",
    "    ar,bc = m1.shape\n",
    "    br,bc = m2.shape\n",
    "    t = torch.zeros(ar,bc)\n",
    "    for i in range(ar):\n",
    "        t[i] = (m1[i,:,None]*m2).sum(dim=0)\n",
    "    return t"
   ]
  },
  {
   "cell_type": "code",
   "execution_count": 222,
   "id": "d3ccaafa",
   "metadata": {},
   "outputs": [],
   "source": [
    "t3 = matmul3(m1,m2)"
   ]
  },
  {
   "cell_type": "code",
   "execution_count": 223,
   "id": "74ec3fb8",
   "metadata": {},
   "outputs": [
    {
     "name": "stdout",
     "output_type": "stream",
     "text": [
      "CPU times: user 2.6 ms, sys: 1.06 ms, total: 3.66 ms\n",
      "Wall time: 2.95 ms\n"
     ]
    }
   ],
   "source": [
    "%time _ = matmul3(m1, m2)"
   ]
  },
  {
   "cell_type": "code",
   "execution_count": 224,
   "id": "713bae8f",
   "metadata": {},
   "outputs": [
    {
     "data": {
      "text/plain": [
       "True"
      ]
     },
     "execution_count": 224,
     "metadata": {},
     "output_type": "execute_result"
    }
   ],
   "source": [
    "torch.allclose(t3, t2)"
   ]
  },
  {
   "cell_type": "code",
   "execution_count": 238,
   "id": "830215c9",
   "metadata": {},
   "outputs": [
    {
     "name": "stdout",
     "output_type": "stream",
     "text": [
      "180 µs ± 96.2 µs per loop (mean ± std. dev. of 7 runs, 50 loops each)\n"
     ]
    }
   ],
   "source": [
    "%timeit -n 50 _= matmul3(m1, m2)"
   ]
  },
  {
   "cell_type": "code",
   "execution_count": 230,
   "id": "9c0d0af0",
   "metadata": {},
   "outputs": [
    {
     "name": "stdout",
     "output_type": "stream",
     "text": [
      "822 µs ± 223 µs per loop (mean ± std. dev. of 7 runs, 50 loops each)\n"
     ]
    }
   ],
   "source": [
    "%timeit -n 50 _= matmul2(m1, m2)"
   ]
  },
  {
   "cell_type": "code",
   "execution_count": 232,
   "id": "0749687d",
   "metadata": {},
   "outputs": [
    {
     "name": "stdout",
     "output_type": "stream",
     "text": [
      "645 ms ± 5.05 ms per loop (mean ± std. dev. of 7 runs, 5 loops each)\n"
     ]
    }
   ],
   "source": [
    "%timeit -n 5 _= matmul(m1, m2)"
   ]
  },
  {
   "cell_type": "code",
   "execution_count": 233,
   "id": "fe1ef083",
   "metadata": {},
   "outputs": [],
   "source": [
    "broadcast_speed = 242e-6\n",
    "dot_product_speed = 822e-6\n",
    "naive_mutl_speed = 645e-3"
   ]
  },
  {
   "cell_type": "code",
   "execution_count": 234,
   "id": "a7983f8c",
   "metadata": {},
   "outputs": [
    {
     "data": {
      "text/plain": [
       "3.396694214876033"
      ]
     },
     "execution_count": 234,
     "metadata": {},
     "output_type": "execute_result"
    }
   ],
   "source": [
    "dot_product_speed/broadcast_speed"
   ]
  },
  {
   "cell_type": "code",
   "execution_count": 235,
   "id": "135fb206",
   "metadata": {},
   "outputs": [
    {
     "data": {
      "text/plain": [
       "2665.289256198347"
      ]
     },
     "execution_count": 235,
     "metadata": {},
     "output_type": "execute_result"
    }
   ],
   "source": [
    "naive_mutl_speed/broadcast_speed"
   ]
  },
  {
   "cell_type": "code",
   "execution_count": 239,
   "id": "f7f1745d",
   "metadata": {},
   "outputs": [
    {
     "name": "stdout",
     "output_type": "stream",
     "text": [
      "The slowest run took 49.02 times longer than the fastest. This could mean that an intermediate result is being cached.\n",
      "65.1 µs ± 139 µs per loop (mean ± std. dev. of 7 runs, 50 loops each)\n"
     ]
    }
   ],
   "source": [
    "%timeit -n 50 _= torch.matmul(m1, m2)"
   ]
  },
  {
   "cell_type": "code",
   "execution_count": null,
   "id": "84859d28",
   "metadata": {},
   "outputs": [],
   "source": []
  },
  {
   "cell_type": "code",
   "execution_count": null,
   "id": "eaeb6a45",
   "metadata": {},
   "outputs": [],
   "source": []
  }
 ],
 "metadata": {
  "kernelspec": {
   "display_name": "Python 3 (ipykernel)",
   "language": "python",
   "name": "python3"
  },
  "language_info": {
   "codemirror_mode": {
    "name": "ipython",
    "version": 3
   },
   "file_extension": ".py",
   "mimetype": "text/x-python",
   "name": "python",
   "nbconvert_exporter": "python",
   "pygments_lexer": "ipython3",
   "version": "3.9.7"
  }
 },
 "nbformat": 4,
 "nbformat_minor": 5
}
