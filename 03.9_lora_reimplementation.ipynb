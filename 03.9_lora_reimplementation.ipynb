{
 "cells": [
  {
   "cell_type": "markdown",
   "id": "a9367069",
   "metadata": {},
   "source": [
    "https://github.com/microsoft/LoRA/blob/main/loralib/ (ref)"
   ]
  },
  {
   "cell_type": "code",
   "execution_count": 4,
   "id": "353fd6cd",
   "metadata": {},
   "outputs": [],
   "source": [
    "import torch\n",
    "import torch.nn.functional as F\n",
    "import torch.nn as nn\n",
    "import math\n",
    "from typing import Optional, List"
   ]
  },
  {
   "cell_type": "code",
   "execution_count": 15,
   "id": "e6dd1da7",
   "metadata": {},
   "outputs": [],
   "source": [
    "# todo: implement custom dropout\n",
    "\n",
    "class LoRALayer:\n",
    "    def __init__(self, r, lora_alpha, lora_dropout, merge_weights):\n",
    "        self.r = r\n",
    "        self.lora_alpha = lora_alpha\n",
    "        \n",
    "        if lora_dropout > .0:\n",
    "            self.lora_dropout = nn.Dropout(p=lora_dropout)\n",
    "        else:\n",
    "            self.lora_dropout = lambda x: x\n",
    "        \n",
    "        self.merged = False\n",
    "        self.merge_weights = merge_weights"
   ]
  },
  {
   "cell_type": "code",
   "execution_count": 69,
   "id": "fb11ed64",
   "metadata": {},
   "outputs": [],
   "source": [
    "class Embedding(nn.Embedding, LoRALayer):\n",
    "    def __init__(self, num_embeddings, embedding_dim, r, lora_alpha, merge_weights, **kwargs):\n",
    "        nn.Embedding.__init__(self, num_embeddings=num_embeddings, embedding_dim=embedding_dim, **kwargs)\n",
    "        LoRALayer.__init__(self, r=r, lora_alpha=lora_alpha, lora_dropout=0, merge_weights=merge_weights)\n",
    "        \n",
    "        if r > 0:\n",
    "            self.lora_A = nn.Parameter(self.weight.new_zeros((r, num_embeddings)))\n",
    "            self.lora_B = nn.Parameter(self.weight.new_zeros((embedding_dim, r)))\n",
    "            self.scaling = self.lora_alpha/self.r\n",
    "            \n",
    "            self.weight.requires_grad = False\n",
    "        \n",
    "        self.reset_parameters()\n",
    "    \n",
    "    \n",
    "    def reset_parameters(self):\n",
    "        nn.Embedding.reset_parameters(self)\n",
    "        \n",
    "        if hasattr('lora_A'):\n",
    "            # there is a mistake in original source code repo\n",
    "            # raised a pull request to the original repo\n",
    "            nn.init.normal_(self.lora_A)\n",
    "            nn.init.zeros_(self.lora_B)\n",
    "        \n",
    "    \n",
    "            \n",
    "        \n",
    "        "
   ]
  },
  {
   "cell_type": "code",
   "execution_count": null,
   "id": "16487005",
   "metadata": {},
   "outputs": [],
   "source": []
  },
  {
   "cell_type": "code",
   "execution_count": null,
   "id": "772377b7",
   "metadata": {},
   "outputs": [],
   "source": []
  }
 ],
 "metadata": {
  "kernelspec": {
   "display_name": "Python 3 (ipykernel)",
   "language": "python",
   "name": "python3"
  },
  "language_info": {
   "codemirror_mode": {
    "name": "ipython",
    "version": 3
   },
   "file_extension": ".py",
   "mimetype": "text/x-python",
   "name": "python",
   "nbconvert_exporter": "python",
   "pygments_lexer": "ipython3",
   "version": "3.9.7"
  }
 },
 "nbformat": 4,
 "nbformat_minor": 5
}
