{
 "cells": [
  {
   "cell_type": "markdown",
   "id": "a3817c85",
   "metadata": {},
   "source": [
    "https://github.com/microsoft/LoRA/blob/main/loralib/ (ref)"
   ]
  },
  {
   "cell_type": "code",
   "execution_count": 4,
   "id": "4a103828",
   "metadata": {},
   "outputs": [],
   "source": [
    "import torch\n",
    "import torch.nn.functional as F\n",
    "import torch.nn as nn\n",
    "import math\n",
    "from typing import Optional, List"
   ]
  },
  {
   "cell_type": "code",
   "execution_count": 70,
   "id": "aa9239a8",
   "metadata": {},
   "outputs": [],
   "source": [
    "# todo: implement custom dropout\n",
    "\n",
    "class LoRALayer:\n",
    "    def __init__(self, r, lora_alpha, lora_dropout, merge_weights):\n",
    "        self.r = r\n",
    "        self.lora_alpha = lora_alpha\n",
    "        \n",
    "        if lora_dropout > .0:\n",
    "            self.lora_dropout = nn.Dropout(p=lora_dropout)\n",
    "        else:\n",
    "            self.lora_dropout = lambda x: x\n",
    "        \n",
    "        self.merged = False\n",
    "        self.merge_weights = merge_weights"
   ]
  },
  {
   "cell_type": "code",
   "execution_count": 109,
   "id": "f8b64f52",
   "metadata": {},
   "outputs": [],
   "source": [
    "class Embedding(nn.Embedding, LoRALayer):\n",
    "    def __init__(self, num_embeddings, embedding_dim, r, lora_alpha, merge_weights, **kwargs):\n",
    "        nn.Embedding.__init__(self, num_embeddings=num_embeddings, embedding_dim=embedding_dim, **kwargs)\n",
    "        LoRALayer.__init__(self, r=r, lora_alpha=lora_alpha, lora_dropout=0, merge_weights=merge_weights)\n",
    "        \n",
    "        if r > 0:\n",
    "            self.lora_A = nn.Parameter(self.weight.new_zeros((r, num_embeddings)))\n",
    "            self.lora_B = nn.Parameter(self.weight.new_zeros((embedding_dim, r)))\n",
    "            self.scaling = self.lora_alpha/self.r\n",
    "            \n",
    "            self.weight.requires_grad = False\n",
    "        \n",
    "        self.reset_parameters()\n",
    "    \n",
    "    \n",
    "    def reset_parameters(self):\n",
    "        nn.Embedding.reset_parameters(self)\n",
    "        \n",
    "        if hasattr('lora_A'):\n",
    "            # there is a mistake in original source code repo\n",
    "            # raised a pull request to the original repo\n",
    "            nn.init.normal_(self.lora_A)\n",
    "            nn.init.zeros_(self.lora_B)\n",
    "    \n",
    "    def train(self, mode=True):\n",
    "        nn.Embedding.train(self, mode)\n",
    "        \n",
    "        if mode:\n",
    "            if self.merge_weights and self.merged:\n",
    "                if self.r > 0:\n",
    "                    self.weight.data -= (self.lora_B @ self.lora_A).transpose(0, 1) * self.scaling\n",
    "                self.merged = False\n",
    "        else:\n",
    "            if self.merge_weights and not self.merged:\n",
    "                if self.r > 0:\n",
    "                    self.weight.data += (self.lora_B @ slef.lora_A).transpose(0, 1) * self.scaling\n",
    "                    self.merged = True\n",
    "    \n",
    "    def forward(self, x):\n",
    "        if self.r > 0 and not self.merged:\n",
    "            result = nn.Embedding.forward(self, x)\n",
    "            \n",
    "            # x: vocabulary index.\n",
    "            # padding_idx: vocabulary index should be treated as padding,\n",
    "            # shorted lengths can be padded to match common lenght.\n",
    "            # max_norm: maximum allowed l2 norm of the embedding vector,\n",
    "            # if norm > max_norm then vector = (vector/vector_norm) * max_norm.\n",
    "            # norm_type: type of max_norm, l2 or inf norm.\n",
    "            # scale_grad_by_freq: if True will scale down frequent word based on mini-batch graidents,\n",
    "            # to avoid learning dominance by a few words.\n",
    "            # sparse: if true then backward grad computation will be handled by torch.sparse module.\n",
    "            # torch.sparse: ??\n",
    "            \n",
    "            after_A = F.embedding(x, self.lora_A.transpose(0, 1), self.padding_idx, self.max_norm, \\\n",
    "                                 self.norm_type, self.scale_grad_by_freq, self.sparse)\n",
    "            \n",
    "            result += (after_A @ self.lora_B.transpose(0, 1)) * self.scaling\n",
    "            \n",
    "            return result\n",
    "            \n",
    "        else:\n",
    "            return nn.Embedding.forward(self, x)\n",
    "     "
   ]
  },
  {
   "cell_type": "code",
   "execution_count": null,
   "id": "b5839843",
   "metadata": {},
   "outputs": [],
   "source": []
  },
  {
   "cell_type": "code",
   "execution_count": null,
   "id": "d8408fe6",
   "metadata": {},
   "outputs": [],
   "source": []
  },
  {
   "cell_type": "code",
   "execution_count": null,
   "id": "4d658f54",
   "metadata": {},
   "outputs": [],
   "source": []
  },
  {
   "cell_type": "code",
   "execution_count": null,
   "id": "040d972a",
   "metadata": {},
   "outputs": [],
   "source": []
  },
  {
   "cell_type": "code",
   "execution_count": null,
   "id": "66596843",
   "metadata": {},
   "outputs": [],
   "source": []
  }
 ],
 "metadata": {
  "kernelspec": {
   "display_name": "Python 3 (ipykernel)",
   "language": "python",
   "name": "python3"
  },
  "language_info": {
   "codemirror_mode": {
    "name": "ipython",
    "version": 3
   },
   "file_extension": ".py",
   "mimetype": "text/x-python",
   "name": "python",
   "nbconvert_exporter": "python",
   "pygments_lexer": "ipython3",
   "version": "3.9.7"
  }
 },
 "nbformat": 4,
 "nbformat_minor": 5
}
