{
 "cells": [
  {
   "cell_type": "markdown",
   "id": "76f6cb58",
   "metadata": {},
   "source": [
    "https://leetcode.com/problems/longest-repeating-character-replacement/description/?envType=list&envId=xi4ci4ig (ref)"
   ]
  },
  {
   "cell_type": "markdown",
   "id": "4f142737",
   "metadata": {},
   "source": [
    "```python\n",
    "\n",
    "You are given a string s and an integer k. You can choose any character of the string and change it to any other uppercase English character. You can perform this operation at most k times.\n",
    "\n",
    "Return the length of the longest substring containing the same letter you can get after performing the above operations.\n",
    "\n",
    " \n",
    "\n",
    "Example 1:\n",
    "\n",
    "Input: s = \"ABAB\", k = 2\n",
    "Output: 4\n",
    "Explanation: Replace the two 'A's with two 'B's or vice versa.\n",
    "Example 2:\n",
    "\n",
    "Input: s = \"AABABBA\", k = 1\n",
    "Output: 4\n",
    "Explanation: Replace the one 'A' in the middle with 'B' and form \"AABBBBA\".\n",
    "The substring \"BBBB\" has the longest repeating letters, which is 4.\n",
    "There may exists other ways to achieve this answer too.\n",
    " \n",
    "\n",
    "Constraints:\n",
    "\n",
    "1 <= s.length <= 105\n",
    "s consists of only uppercase English letters.\n",
    "0 <= k <= s.length\n",
    "\n",
    "```"
   ]
  },
  {
   "cell_type": "code",
   "execution_count": 4,
   "id": "1468c500",
   "metadata": {},
   "outputs": [],
   "source": [
    "# n: n^2\n",
    "# s: 1\n",
    "# tle"
   ]
  },
  {
   "cell_type": "code",
   "execution_count": 5,
   "id": "d42fe7c8",
   "metadata": {},
   "outputs": [],
   "source": [
    "class Solution:\n",
    "    def characterReplacement(self, s: str, k: int) -> int:\n",
    "        n = len(s)\n",
    "        max_sub = float('-inf')\n",
    "        \n",
    "\n",
    "        for i in range(n):\n",
    "            k_temp = k\n",
    "            count = 1\n",
    "            ch = s[i]\n",
    "            left, right = i-1, i+1\n",
    "\n",
    "            while left >= 0:\n",
    "                if s[left] == ch:\n",
    "                    count += 1\n",
    "                elif k_temp > 0:\n",
    "                    count += 1\n",
    "                    k_temp -= 1\n",
    "                else:\n",
    "                    break\n",
    "\n",
    "                left -= 1\n",
    "            \n",
    "            while right < n:\n",
    "                if s[right] == ch:\n",
    "                    count += 1\n",
    "                elif k_temp > 0:\n",
    "                    count += 1\n",
    "                    k_temp -= 1\n",
    "                else:\n",
    "                    break\n",
    "                \n",
    "                right += 1\n",
    "            \n",
    "            max_sub = max(max_sub, count)\n",
    "        \n",
    "        return max_sub\n",
    "              "
   ]
  },
  {
   "cell_type": "code",
   "execution_count": null,
   "id": "145a287a",
   "metadata": {},
   "outputs": [],
   "source": []
  }
 ],
 "metadata": {
  "kernelspec": {
   "display_name": "Python 3 (ipykernel)",
   "language": "python",
   "name": "python3"
  },
  "language_info": {
   "codemirror_mode": {
    "name": "ipython",
    "version": 3
   },
   "file_extension": ".py",
   "mimetype": "text/x-python",
   "name": "python",
   "nbconvert_exporter": "python",
   "pygments_lexer": "ipython3",
   "version": "3.9.7"
  }
 },
 "nbformat": 4,
 "nbformat_minor": 5
}
