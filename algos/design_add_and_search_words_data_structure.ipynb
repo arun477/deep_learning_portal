{
 "cells": [
  {
   "cell_type": "markdown",
   "id": "de138636",
   "metadata": {},
   "source": [
    "https://leetcode.com/problems/design-add-and-search-words-data-structure/description/?envType=list&envId=xi4ci4ig (ref)"
   ]
  },
  {
   "cell_type": "markdown",
   "id": "4b540d84",
   "metadata": {},
   "source": [
    "```python\n",
    "\n",
    "Design a data structure that supports adding new words and finding if a string matches any previously added string.\n",
    "\n",
    "Implement the WordDictionary class:\n",
    "\n",
    "WordDictionary() Initializes the object.\n",
    "void addWord(word) Adds word to the data structure, it can be matched later.\n",
    "bool search(word) Returns true if there is any string in the data structure that matches word or false otherwise. word may contain dots '.' where dots can be matched with any letter.\n",
    " \n",
    "\n",
    "Example:\n",
    "\n",
    "Input\n",
    "[\"WordDictionary\",\"addWord\",\"addWord\",\"addWord\",\"search\",\"search\",\"search\",\"search\"]\n",
    "[[],[\"bad\"],[\"dad\"],[\"mad\"],[\"pad\"],[\"bad\"],[\".ad\"],[\"b..\"]]\n",
    "Output\n",
    "[null,null,null,null,false,true,true,true]\n",
    "\n",
    "Explanation\n",
    "WordDictionary wordDictionary = new WordDictionary();\n",
    "wordDictionary.addWord(\"bad\");\n",
    "wordDictionary.addWord(\"dad\");\n",
    "wordDictionary.addWord(\"mad\");\n",
    "wordDictionary.search(\"pad\"); // return False\n",
    "wordDictionary.search(\"bad\"); // return True\n",
    "wordDictionary.search(\".ad\"); // return True\n",
    "wordDictionary.search(\"b..\"); // return True\n",
    " \n",
    "\n",
    "Constraints:\n",
    "\n",
    "1 <= word.length <= 25\n",
    "word in addWord consists of lowercase English letters.\n",
    "word in search consist of '.' or lowercase English letters.\n",
    "There will be at most 2 dots in word for search queries.\n",
    "At most 104 calls will be made to addWord and search.\n",
    "\n",
    "```"
   ]
  },
  {
   "cell_type": "code",
   "execution_count": null,
   "id": "1218ac57",
   "metadata": {},
   "outputs": [],
   "source": []
  }
 ],
 "metadata": {
  "kernelspec": {
   "display_name": "Python 3 (ipykernel)",
   "language": "python",
   "name": "python3"
  },
  "language_info": {
   "codemirror_mode": {
    "name": "ipython",
    "version": 3
   },
   "file_extension": ".py",
   "mimetype": "text/x-python",
   "name": "python",
   "nbconvert_exporter": "python",
   "pygments_lexer": "ipython3",
   "version": "3.9.7"
  }
 },
 "nbformat": 4,
 "nbformat_minor": 5
}
