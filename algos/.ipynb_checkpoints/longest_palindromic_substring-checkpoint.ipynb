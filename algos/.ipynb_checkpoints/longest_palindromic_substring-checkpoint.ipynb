{
 "cells": [
  {
   "cell_type": "markdown",
   "id": "f031e5a6",
   "metadata": {},
   "source": [
    "https://leetcode.com/problems/longest-palindromic-substring/description/?envType=list&envId=xi4ci4ig (ref)"
   ]
  },
  {
   "cell_type": "markdown",
   "id": "a23833c1",
   "metadata": {},
   "source": [
    "Given a string s, return the longest \n",
    "palindromic\n",
    " \n",
    "substring\n",
    " in s.\n",
    "\n",
    " \n",
    "\n",
    "Example 1:\n",
    "\n",
    "Input: s = \"babad\"\n",
    "Output: \"bab\"\n",
    "Explanation: \"aba\" is also a valid answer.\n",
    "Example 2:\n",
    "\n",
    "Input: s = \"cbbd\"\n",
    "Output: \"bb\"\n",
    " \n",
    "\n",
    "Constraints:\n",
    "\n",
    "1 <= s.length <= 1000\n",
    "s consist of only digits and English letters."
   ]
  },
  {
   "cell_type": "code",
   "execution_count": 13,
   "id": "89ce8501",
   "metadata": {},
   "outputs": [],
   "source": [
    "# t: n^3\n",
    "# s: 1\n",
    "# tl exceeded"
   ]
  },
  {
   "cell_type": "code",
   "execution_count": 14,
   "id": "f5b3821e",
   "metadata": {},
   "outputs": [],
   "source": [
    "class Solution:\n",
    "    def longestPalindrome(self, s: str) -> str:\n",
    "        substr = ''\n",
    "        for i,c in enumerate(s):\n",
    "            for j,ch2 in enumerate(s):\n",
    "                sub = s[i:j+1]\n",
    "                if sub == sub[::-1]:\n",
    "                    if len(sub) > len(substr):\n",
    "                        substr = sub\n",
    "        return substr"
   ]
  },
  {
   "cell_type": "code",
   "execution_count": 17,
   "id": "e1803e70",
   "metadata": {},
   "outputs": [],
   "source": [
    "# t: n^2\n",
    "# s: 1\n",
    "# 346 ms"
   ]
  },
  {
   "cell_type": "code",
   "execution_count": 18,
   "id": "b854cdd8",
   "metadata": {},
   "outputs": [],
   "source": [
    "class Solution(object):\n",
    "    def longestPalindrome(self, s: str) -> str:\n",
    "        res = \"\"\n",
    "        res_len = 0\n",
    "       \n",
    "        for i in range(len(s)):\n",
    "            l,r = i,i\n",
    "            while l>=0 and r < len(s) and s[l] == s[r]:\n",
    "                if (r-l+1) > res_len:\n",
    "                   res = s[l:r+1]\n",
    "                   res_len = r-l+1\n",
    "                l -= 1\n",
    "                r += 1\n",
    "\n",
    "            l,r = i,i+1\n",
    "            while l>=0 and r < len(s) and s[l] == s[r]:\n",
    "                if (r-l+1) > res_len:\n",
    "                   res = s[l:r+1]\n",
    "                   res_len = r-l+1\n",
    "                l -= 1\n",
    "                r += 1\n",
    "    \n",
    "        return res"
   ]
  },
  {
   "cell_type": "code",
   "execution_count": null,
   "id": "fe94604e",
   "metadata": {},
   "outputs": [],
   "source": []
  }
 ],
 "metadata": {
  "kernelspec": {
   "display_name": "Python 3 (ipykernel)",
   "language": "python",
   "name": "python3"
  },
  "language_info": {
   "codemirror_mode": {
    "name": "ipython",
    "version": 3
   },
   "file_extension": ".py",
   "mimetype": "text/x-python",
   "name": "python",
   "nbconvert_exporter": "python",
   "pygments_lexer": "ipython3",
   "version": "3.9.7"
  }
 },
 "nbformat": 4,
 "nbformat_minor": 5
}
