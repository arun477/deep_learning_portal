{
 "cells": [
  {
   "cell_type": "markdown",
   "id": "5ba0fe8d",
   "metadata": {},
   "source": [
    "https://leetcode.com/problems/3sum/description/?envType=list&envId=xi4ci4ig (ref)"
   ]
  },
  {
   "cell_type": "markdown",
   "id": "74ccd6b1",
   "metadata": {},
   "source": [
    "Given an integer array nums, return all the triplets [nums[i], nums[j], nums[k]] such that i != j, i != k, and j != k, and nums[i] + nums[j] + nums[k] == 0.\n",
    "\n",
    "Notice that the solution set must not contain duplicate triplets.\n",
    "\n",
    " \n",
    "\n",
    "Example 1:\n",
    "\n",
    "Input: nums = [-1,0,1,2,-1,-4]\n",
    "Output: [[-1,-1,2],[-1,0,1]]\n",
    "Explanation: \n",
    "nums[0] + nums[1] + nums[2] = (-1) + 0 + 1 = 0.\n",
    "nums[1] + nums[2] + nums[4] = 0 + 1 + (-1) = 0.\n",
    "nums[0] + nums[3] + nums[4] = (-1) + 2 + (-1) = 0.\n",
    "The distinct triplets are [-1,0,1] and [-1,-1,2].\n",
    "Notice that the order of the output and the order of the triplets does not matter.\n",
    "Example 2:\n",
    "\n",
    "Input: nums = [0,1,1]\n",
    "Output: []\n",
    "Explanation: The only possible triplet does not sum up to 0.\n",
    "Example 3:\n",
    "\n",
    "Input: nums = [0,0,0]\n",
    "Output: [[0,0,0]]\n",
    "Explanation: The only possible triplet sums up to 0.\n",
    " \n",
    "\n",
    "Constraints:\n",
    "\n",
    "3 <= nums.length <= 3000\n",
    "-105 <= nums[i] <= 105"
   ]
  },
  {
   "cell_type": "code",
   "execution_count": null,
   "id": "4917e11b",
   "metadata": {},
   "outputs": [],
   "source": [
    "# n: n^4\n",
    "# s: n\n",
    "# time limit exceeded"
   ]
  },
  {
   "cell_type": "code",
   "execution_count": 1,
   "id": "d714471e",
   "metadata": {},
   "outputs": [],
   "source": [
    "from itertools import permutations\n",
    "   \n",
    "class Solution:\n",
    "    def threeSum(self, nums):\n",
    "        if len(nums) < 3:\n",
    "            return []\n",
    "        if len(nums) ==3:\n",
    "            return [nums] if sum(nums)==0 else []\n",
    "        \n",
    "        outputs = []\n",
    "        tri = set()\n",
    "        for i in range(len(nums)):\n",
    "            for j in range(len(nums)):\n",
    "                for k in range(len(nums)):\n",
    "                    if j != k and i !=k and j != i:\n",
    "                        triplets = [nums[i], nums[j], nums[k]]\n",
    "                        if sum(triplets) == 0:\n",
    "                            perms = list(permutations(triplets))\n",
    "                            isUnique = True\n",
    "                            for p in perms:\n",
    "                                if p in tri:\n",
    "                                    isUnique = False\n",
    "                                    break\n",
    "                            if isUnique:\n",
    "                                outputs.append([nums[i], nums[j], nums[k]])\n",
    "                                tri.add((nums[i], nums[j], nums[k]))                          \n",
    "        outputs = list(outputs)\n",
    "        return outputs"
   ]
  },
  {
   "cell_type": "code",
   "execution_count": 3,
   "id": "725477ca",
   "metadata": {},
   "outputs": [],
   "source": [
    "# n: n^2\n",
    "# s: 1\n",
    "# 698 ms\n",
    "# two pointer approach"
   ]
  },
  {
   "cell_type": "code",
   "execution_count": 2,
   "id": "71ebf2af",
   "metadata": {},
   "outputs": [],
   "source": [
    "class Solution:\n",
    "    def threeSum(self, nums):\n",
    "        result = []\n",
    "        nums.sort()\n",
    "        for i in range(len(nums)):\n",
    "            if i > 0 and nums[i-1]==nums[i]:\n",
    "                continue\n",
    "            left,right = i+1,len(nums)-1\n",
    "            while left < right:\n",
    "                total = nums[i] + nums[left] + nums[right]\n",
    "                if total == 0:\n",
    "                    result.append([nums[i], nums[left], nums[right]])\n",
    "                    while left < right and nums[left] == nums[left+1]:\n",
    "                        left +=1\n",
    "                    while left < right and nums[right] == nums[right-1]:\n",
    "                        right -=1\n",
    "                    left +=1\n",
    "                    right -=1\n",
    "                elif total < 0:\n",
    "                    left += 1\n",
    "                else:\n",
    "                    right -= 1\n",
    "        return result"
   ]
  },
  {
   "cell_type": "code",
   "execution_count": null,
   "id": "2d014b44",
   "metadata": {},
   "outputs": [],
   "source": []
  }
 ],
 "metadata": {
  "kernelspec": {
   "display_name": "Python 3 (ipykernel)",
   "language": "python",
   "name": "python3"
  },
  "language_info": {
   "codemirror_mode": {
    "name": "ipython",
    "version": 3
   },
   "file_extension": ".py",
   "mimetype": "text/x-python",
   "name": "python",
   "nbconvert_exporter": "python",
   "pygments_lexer": "ipython3",
   "version": "3.9.7"
  }
 },
 "nbformat": 4,
 "nbformat_minor": 5
}
