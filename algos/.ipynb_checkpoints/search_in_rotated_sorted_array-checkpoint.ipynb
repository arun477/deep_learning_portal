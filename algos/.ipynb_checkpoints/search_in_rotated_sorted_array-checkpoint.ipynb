{
 "cells": [
  {
   "cell_type": "markdown",
   "id": "5b8ec55a",
   "metadata": {},
   "source": [
    "https://leetcode.com/problems/search-in-rotated-sorted-array/description/?envType=list&envId=xi4ci4ig (ref)"
   ]
  },
  {
   "cell_type": "markdown",
   "id": "72ddaad0",
   "metadata": {},
   "source": [
    "There is an integer array nums sorted in ascending order (with distinct values).\n",
    "\n",
    "Prior to being passed to your function, nums is possibly rotated at an unknown pivot index k (1 <= k < nums.length) such that the resulting array is [nums[k], nums[k+1], ..., nums[n-1], nums[0], nums[1], ..., nums[k-1]] (0-indexed). For example, [0,1,2,4,5,6,7] might be rotated at pivot index 3 and become [4,5,6,7,0,1,2].\n",
    "\n",
    "Given the array nums after the possible rotation and an integer target, return the index of target if it is in nums, or -1 if it is not in nums.\n",
    "\n",
    "You must write an algorithm with O(log n) runtime complexity.\n",
    "\n",
    " \n",
    "\n",
    "Example 1:\n",
    "\n",
    "Input: nums = [4,5,6,7,0,1,2], target = 0\n",
    "Output: 4\n",
    "Example 2:\n",
    "\n",
    "Input: nums = [4,5,6,7,0,1,2], target = 3\n",
    "Output: -1\n",
    "Example 3:\n",
    "\n",
    "Input: nums = [1], target = 0\n",
    "Output: -1\n",
    " \n",
    "\n",
    "Constraints:\n",
    "\n",
    "1 <= nums.length <= 5000\n",
    "-104 <= nums[i] <= 104\n",
    "All values of nums are unique.\n",
    "nums is an ascending array that is possibly rotated.\n",
    "-104 <= target <= 104"
   ]
  },
  {
   "cell_type": "code",
   "execution_count": 1,
   "id": "bf010c28",
   "metadata": {},
   "outputs": [],
   "source": [
    "# n: n\n",
    "# s: 1\n",
    "# 36ms"
   ]
  },
  {
   "cell_type": "code",
   "execution_count": 3,
   "id": "e13ace7f",
   "metadata": {},
   "outputs": [],
   "source": [
    "class Solution:\n",
    "    def search(self, nums, target: int) -> int:\n",
    "        for i,n in enumerate(nums): \n",
    "            if n==target:\n",
    "                return i \n",
    "        return -1"
   ]
  },
  {
   "cell_type": "code",
   "execution_count": 4,
   "id": "b11e105c",
   "metadata": {},
   "outputs": [],
   "source": [
    "# n: logn\n",
    "# s: 1\n",
    "# 46ms\n",
    "# custom binary search approach\n",
    "# note: little bit messy in terms of index going around here and there"
   ]
  },
  {
   "cell_type": "code",
   "execution_count": 6,
   "id": "bb1be270",
   "metadata": {},
   "outputs": [],
   "source": [
    "class Solution:\n",
    "    def search(self, nums, target: int) -> int:\n",
    "        left,right = 0, len(nums)-1\n",
    "        while left <= right:\n",
    "            mid = (left+right)//2\n",
    "            if nums[mid]==target:\n",
    "                return mid\n",
    "            if nums[left] <= nums[mid]:\n",
    "                if nums[left] <= target < nums[mid]:\n",
    "                    right = mid-1\n",
    "                else:\n",
    "                    left = mid+1\n",
    "            else:\n",
    "                if nums[mid] <= target <= nums[right]:\n",
    "                    left = mid+1\n",
    "                else:\n",
    "                    right = mid-1\n",
    "\n",
    "        return -1"
   ]
  },
  {
   "cell_type": "code",
   "execution_count": null,
   "id": "17c20665",
   "metadata": {},
   "outputs": [],
   "source": []
  }
 ],
 "metadata": {
  "kernelspec": {
   "display_name": "Python 3 (ipykernel)",
   "language": "python",
   "name": "python3"
  },
  "language_info": {
   "codemirror_mode": {
    "name": "ipython",
    "version": 3
   },
   "file_extension": ".py",
   "mimetype": "text/x-python",
   "name": "python",
   "nbconvert_exporter": "python",
   "pygments_lexer": "ipython3",
   "version": "3.9.7"
  }
 },
 "nbformat": 4,
 "nbformat_minor": 5
}
