{
 "cells": [
  {
   "cell_type": "markdown",
   "id": "761c80e3",
   "metadata": {},
   "source": [
    "Given a string s, find the length of the longest \n",
    "substring\n",
    " without repeating characters.\n",
    "\n",
    " \n",
    "\n",
    "Example 1:\n",
    "\n",
    "Input: s = \"abcabcbb\"\n",
    "Output: 3\n",
    "Explanation: The answer is \"abc\", with the length of 3.\n",
    "Example 2:\n",
    "\n",
    "Input: s = \"bbbbb\"\n",
    "Output: 1\n",
    "Explanation: The answer is \"b\", with the length of 1.\n",
    "Example 3:\n",
    "\n",
    "Input: s = \"pwwkew\"\n",
    "Output: 3\n",
    "Explanation: The answer is \"wke\", with the length of 3.\n",
    "Notice that the answer must be a substring, \"pwke\" is a subsequence and not a substring.\n",
    " \n",
    "\n",
    "Constraints:\n",
    "\n",
    "0 <= s.length <= 5 * 104\n",
    "s consists of English letters, digits, symbols and spaces."
   ]
  },
  {
   "cell_type": "markdown",
   "id": "58971342",
   "metadata": {},
   "source": [
    "https://leetcode.com/problems/longest-substring-without-repeating-characters/?envType=list&envId=xi4ci4ig (ref)"
   ]
  },
  {
   "cell_type": "code",
   "execution_count": 3,
   "id": "de6b3931",
   "metadata": {},
   "outputs": [],
   "source": [
    "# t: n^2\n",
    "# s: min(len(s), len(t))\n",
    "# 1359 ms"
   ]
  },
  {
   "cell_type": "code",
   "execution_count": 2,
   "id": "31680692",
   "metadata": {},
   "outputs": [],
   "source": [
    "class Solution(object):\n",
    "    def lengthOfLongestSubstring(self, s):\n",
    "        \"\"\"\n",
    "        :type s: str\n",
    "        :rtype: int\n",
    "        \"\"\"\n",
    "        m = 0\n",
    "        for i,n in enumerate(s):\n",
    "            t = []\n",
    "            for j,k in enumerate(s[i:]):\n",
    "                if k in t:\n",
    "                    m = max(len(t), m)\n",
    "                    break\n",
    "                else:\n",
    "                    t.append(k)\n",
    "            m = max(len(t), m)  \n",
    "        return m"
   ]
  },
  {
   "cell_type": "code",
   "execution_count": 7,
   "id": "eed50487",
   "metadata": {},
   "outputs": [],
   "source": [
    "# t: n\n",
    "# s: n\n",
    "# 41 ms"
   ]
  },
  {
   "cell_type": "code",
   "execution_count": 8,
   "id": "2f000886",
   "metadata": {},
   "outputs": [],
   "source": [
    "class Solution(object):\n",
    "    def lengthOfLongestSubstring(self, s):\n",
    "        \"\"\"\n",
    "        :type s: str\n",
    "        :rtype: int\n",
    "        \"\"\"\n",
    "        m = 0\n",
    "        strt = 0\n",
    "        ntoi = {}\n",
    "        for i,n in enumerate(s):\n",
    "            if ntoi.get(n, -1) >= strt:\n",
    "                strt = ntoi[n] + 1\n",
    "            m = max(m, i-strt+1)\n",
    "            ntoi[n] = i \n",
    "        return m      "
   ]
  },
  {
   "cell_type": "code",
   "execution_count": null,
   "id": "1eb46597",
   "metadata": {},
   "outputs": [],
   "source": []
  }
 ],
 "metadata": {
  "kernelspec": {
   "display_name": "Python 3 (ipykernel)",
   "language": "python",
   "name": "python3"
  },
  "language_info": {
   "codemirror_mode": {
    "name": "ipython",
    "version": 3
   },
   "file_extension": ".py",
   "mimetype": "text/x-python",
   "name": "python",
   "nbconvert_exporter": "python",
   "pygments_lexer": "ipython3",
   "version": "3.9.7"
  }
 },
 "nbformat": 4,
 "nbformat_minor": 5
}
