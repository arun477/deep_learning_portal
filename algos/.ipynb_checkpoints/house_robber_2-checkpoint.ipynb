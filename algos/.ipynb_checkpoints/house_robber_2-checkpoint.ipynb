{
 "cells": [
  {
   "cell_type": "markdown",
   "id": "eb6e7146",
   "metadata": {},
   "source": [
    "https://leetcode.com/problems/house-robber-ii/description/?envType=list&envId=xi4ci4ig (ref)"
   ]
  },
  {
   "cell_type": "markdown",
   "id": "fb6dcec8",
   "metadata": {},
   "source": [
    "```python\n",
    "You are a professional robber planning to rob houses along a street. Each house has a certain amount of money stashed. All houses at this place are arranged in a circle. That means the first house is the neighbor of the last one. Meanwhile, adjacent houses have a security system connected, and it will automatically contact the police if two adjacent houses were broken into on the same night.\n",
    "\n",
    "Given an integer array nums representing the amount of money of each house, return the maximum amount of money you can rob tonight without alerting the police.\n",
    "\n",
    " \n",
    "\n",
    "Example 1:\n",
    "\n",
    "Input: nums = [2,3,2]\n",
    "Output: 3\n",
    "Explanation: You cannot rob house 1 (money = 2) and then rob house 3 (money = 2), because they are adjacent houses.\n",
    "Example 2:\n",
    "\n",
    "Input: nums = [1,2,3,1]\n",
    "Output: 4\n",
    "Explanation: Rob house 1 (money = 1) and then rob house 3 (money = 3).\n",
    "Total amount you can rob = 1 + 3 = 4.\n",
    "Example 3:\n",
    "\n",
    "Input: nums = [1,2,3]\n",
    "Output: 3\n",
    " \n",
    "\n",
    "Constraints:\n",
    "\n",
    "1 <= nums.length <= 100\n",
    "0 <= nums[i] <= 1000\n",
    "\n",
    "```"
   ]
  },
  {
   "cell_type": "code",
   "execution_count": null,
   "id": "e47b3cd9",
   "metadata": {},
   "outputs": [],
   "source": []
  }
 ],
 "metadata": {
  "kernelspec": {
   "display_name": "Python 3 (ipykernel)",
   "language": "python",
   "name": "python3"
  },
  "language_info": {
   "codemirror_mode": {
    "name": "ipython",
    "version": 3
   },
   "file_extension": ".py",
   "mimetype": "text/x-python",
   "name": "python",
   "nbconvert_exporter": "python",
   "pygments_lexer": "ipython3",
   "version": "3.9.7"
  }
 },
 "nbformat": 4,
 "nbformat_minor": 5
}
