{
 "cells": [
  {
   "cell_type": "markdown",
   "id": "0680cd1c",
   "metadata": {},
   "source": [
    "https://leetcode.com/problems/counting-bits/description/?envType=list&envId=xi4ci4ig (ref)"
   ]
  },
  {
   "cell_type": "markdown",
   "id": "d947a6a5",
   "metadata": {},
   "source": [
    "```python\n",
    "\n",
    "Given an integer n, return an array ans of length n + 1 such that for each i (0 <= i <= n), ans[i] is the number of 1's in the binary representation of i.\n",
    "\n",
    " \n",
    "\n",
    "Example 1:\n",
    "\n",
    "Input: n = 2\n",
    "Output: [0,1,1]\n",
    "Explanation:\n",
    "0 --> 0\n",
    "1 --> 1\n",
    "2 --> 10\n",
    "Example 2:\n",
    "\n",
    "Input: n = 5\n",
    "Output: [0,1,1,2,1,2]\n",
    "Explanation:\n",
    "0 --> 0\n",
    "1 --> 1\n",
    "2 --> 10\n",
    "3 --> 11\n",
    "4 --> 100\n",
    "5 --> 101\n",
    " \n",
    "\n",
    "Constraints:\n",
    "\n",
    "0 <= n <= 105\n",
    " \n",
    "\n",
    "Follow up:\n",
    "\n",
    "It is very easy to come up with a solution with a runtime of O(n log n). Can you do it in linear time O(n) and possibly in a single pass?\n",
    "Can you do it without using any built-in function (i.e., like __builtin_popcount in C++)?\n",
    "\n",
    "```"
   ]
  },
  {
   "cell_type": "code",
   "execution_count": 3,
   "id": "d5c796e6",
   "metadata": {},
   "outputs": [],
   "source": [
    "# n: n\n",
    "# s: n\n",
    "# 61ms\n",
    "# bit manipulation"
   ]
  },
  {
   "cell_type": "code",
   "execution_count": 9,
   "id": "4b1220f2",
   "metadata": {},
   "outputs": [],
   "source": [
    "class Solution:\n",
    "    def countBits(self, n: int):\n",
    "        ans = [0] * (n+1)\n",
    "        for i in range(1, n+1):\n",
    "            ans[i] = ans[i&(i-1)] + 1\n",
    "        return ans"
   ]
  },
  {
   "cell_type": "code",
   "execution_count": 10,
   "id": "6e8c63dc",
   "metadata": {},
   "outputs": [],
   "source": [
    "# n: n\n",
    "# s: n\n",
    "# 55ms\n",
    "# dp bottom up"
   ]
  },
  {
   "cell_type": "code",
   "execution_count": 11,
   "id": "8e95e881",
   "metadata": {},
   "outputs": [],
   "source": [
    "class Solution:\n",
    "    def countBits(self, n: int):\n",
    "        ans = [0] * (n+1)\n",
    "        for i in range(1, n+1):\n",
    "            ans[i] = ans[i//2] + i%2\n",
    "        return ans"
   ]
  },
  {
   "cell_type": "code",
   "execution_count": null,
   "id": "688da739",
   "metadata": {},
   "outputs": [],
   "source": []
  }
 ],
 "metadata": {
  "kernelspec": {
   "display_name": "Python 3 (ipykernel)",
   "language": "python",
   "name": "python3"
  },
  "language_info": {
   "codemirror_mode": {
    "name": "ipython",
    "version": 3
   },
   "file_extension": ".py",
   "mimetype": "text/x-python",
   "name": "python",
   "nbconvert_exporter": "python",
   "pygments_lexer": "ipython3",
   "version": "3.9.7"
  }
 },
 "nbformat": 4,
 "nbformat_minor": 5
}
