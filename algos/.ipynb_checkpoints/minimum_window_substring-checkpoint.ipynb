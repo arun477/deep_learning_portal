{
 "cells": [
  {
   "cell_type": "markdown",
   "id": "6a55a299",
   "metadata": {},
   "source": [
    "https://leetcode.com/problems/minimum-window-substring/description/?envType=list&envId=xi4ci4ig (ref)"
   ]
  },
  {
   "cell_type": "markdown",
   "id": "5373fcc2",
   "metadata": {},
   "source": [
    "Given two strings s and t of lengths m and n respectively, return the minimum window \n",
    "substring\n",
    " of s such that every character in t (including duplicates) is included in the window. If there is no such substring, return the empty string \"\".\n",
    "\n",
    "The testcases will be generated such that the answer is unique.\n",
    "\n",
    " \n",
    "\n",
    "Example 1:\n",
    "\n",
    "Input: s = \"ADOBECODEBANC\", t = \"ABC\"\n",
    "Output: \"BANC\"\n",
    "Explanation: The minimum window substring \"BANC\" includes 'A', 'B', and 'C' from string t.\n",
    "Example 2:\n",
    "\n",
    "Input: s = \"a\", t = \"a\"\n",
    "Output: \"a\"\n",
    "Explanation: The entire string s is the minimum window.\n",
    "Example 3:\n",
    "\n",
    "Input: s = \"a\", t = \"aa\"\n",
    "Output: \"\"\n",
    "Explanation: Both 'a's from t must be included in the window.\n",
    "Since the largest window of s only has one 'a', return empty string.\n",
    " \n",
    "\n",
    "Constraints:\n",
    "\n",
    "m == s.length\n",
    "n == t.length\n",
    "1 <= m, n <= 105\n",
    "s and t consist of uppercase and lowercase English letters.\n",
    " \n",
    "\n",
    "Follow up: Could you find an algorithm that runs in O(m + n) time?"
   ]
  },
  {
   "cell_type": "code",
   "execution_count": 4,
   "id": "e05fe3fa",
   "metadata": {},
   "outputs": [],
   "source": [
    "# n: n^3\n",
    "# s: n\n",
    "# tle"
   ]
  },
  {
   "cell_type": "code",
   "execution_count": 5,
   "id": "a5174b42",
   "metadata": {},
   "outputs": [],
   "source": [
    "import math\n",
    "\n",
    "class Solution:\n",
    "    def minWindow(self, s: str, t: str) -> str:\n",
    "        min_len = math.inf\n",
    "        min_sub = \"\" \n",
    "        \n",
    "        for i in range(len(s)):\n",
    "            for j in range(i, len(s)):\n",
    "                sub_str_lst = list(s[i:j+1])\n",
    "                all_exists = True\n",
    "                for ch in t:\n",
    "                    if ch in sub_str_lst:\n",
    "                        sub_str_lst.pop(sub_str_lst.index(ch))\n",
    "                    else:\n",
    "                        all_exists = False\n",
    "                        break\n",
    "\n",
    "                if all_exists and min_len > len(s[i:j+1]):\n",
    "                    min_sub = s[i:j+1]\n",
    "                    min_len = len(s[i:j+1])\n",
    "        \n",
    "        return min_sub"
   ]
  },
  {
   "cell_type": "code",
   "execution_count": 15,
   "id": "841a168a",
   "metadata": {},
   "outputs": [],
   "source": [
    "# n: n\n",
    "# s: n\n",
    "# 128ms\n",
    "# sliding window technique"
   ]
  },
  {
   "cell_type": "code",
   "execution_count": 16,
   "id": "68fde16c",
   "metadata": {},
   "outputs": [],
   "source": [
    "from collections import Counter\n",
    "\n",
    "class Solution:\n",
    "    def minWindow(self, s: str, t: str) -> str:\n",
    "        if not s or not t:\n",
    "            return ''\n",
    "        \n",
    "        target_counts, required_char = Counter(t) , len(set(t))\n",
    "        left, right, min_len, min_sub = 0, 0, float('inf'), ''\n",
    "\n",
    "        while right < len(s):\n",
    "            target_counts[s[right]] -= 1\n",
    "            if target_counts[s[right]] == 0:\n",
    "                required_char -= 1\n",
    "\n",
    "            while required_char == 0:\n",
    "                if (right-left+1) < min_len:\n",
    "                    min_len = (right-left+1)\n",
    "                    min_sub = s[left:right+1]\n",
    "                \n",
    "                target_counts[s[left]] += 1\n",
    "                if target_counts[s[left]] > 0:\n",
    "                    required_char += 1\n",
    "\n",
    "                left += 1\n",
    "            \n",
    "            right += 1\n",
    "        \n",
    "        return min_sub\n"
   ]
  },
  {
   "cell_type": "code",
   "execution_count": null,
   "id": "fe34839e",
   "metadata": {},
   "outputs": [],
   "source": []
  }
 ],
 "metadata": {
  "kernelspec": {
   "display_name": "Python 3 (ipykernel)",
   "language": "python",
   "name": "python3"
  },
  "language_info": {
   "codemirror_mode": {
    "name": "ipython",
    "version": 3
   },
   "file_extension": ".py",
   "mimetype": "text/x-python",
   "name": "python",
   "nbconvert_exporter": "python",
   "pygments_lexer": "ipython3",
   "version": "3.9.7"
  }
 },
 "nbformat": 4,
 "nbformat_minor": 5
}
