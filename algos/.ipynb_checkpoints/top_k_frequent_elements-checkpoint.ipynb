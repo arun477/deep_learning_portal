{
 "cells": [
  {
   "cell_type": "markdown",
   "id": "25a7b4c6",
   "metadata": {},
   "source": [
    "https://leetcode.com/problems/top-k-frequent-elements/?envType=list&envId=xi4ci4ig (ref)"
   ]
  },
  {
   "cell_type": "markdown",
   "id": "26b0cb9a",
   "metadata": {},
   "source": [
    "```python\n",
    "\n",
    "Given an integer array nums and an integer k, return the k most frequent elements. You may return the answer in any order.\n",
    "\n",
    " \n",
    "\n",
    "Example 1:\n",
    "\n",
    "Input: nums = [1,1,1,2,2,3], k = 2\n",
    "Output: [1,2]\n",
    "Example 2:\n",
    "\n",
    "Input: nums = [1], k = 1\n",
    "Output: [1]\n",
    " \n",
    "\n",
    "Constraints:\n",
    "\n",
    "1 <= nums.length <= 105\n",
    "-104 <= nums[i] <= 104\n",
    "k is in the range [1, the number of unique elements in the array].\n",
    "It is guaranteed that the answer is unique.\n",
    " \n",
    "\n",
    "Follow up: Your algorithm's time complexity must be better than O(n log n), where n is the array's size.\n",
    "\n",
    "```"
   ]
  },
  {
   "cell_type": "code",
   "execution_count": 13,
   "id": "173e2491",
   "metadata": {},
   "outputs": [],
   "source": [
    "# n: nlogn\n",
    "# s: n\n",
    "# 79ms\n",
    "# sorting"
   ]
  },
  {
   "cell_type": "code",
   "execution_count": 14,
   "id": "b5300eba",
   "metadata": {},
   "outputs": [],
   "source": [
    "class Solution:\n",
    "    def topKFrequent(self, nums, k: int):\n",
    "        count = {}\n",
    "        for num in nums:\n",
    "            count[num] = count.get(num, 0) + 1\n",
    "        o = [ele[0] for ele in sorted([ele for ele in count.items()], key=lambda x: x[1], reverse=True)]\n",
    "        return o[:k]"
   ]
  },
  {
   "cell_type": "code",
   "execution_count": null,
   "id": "af9a2d69",
   "metadata": {},
   "outputs": [],
   "source": [
    "# n: nlogn\n",
    "# s: n\n",
    "# 79ms\n",
    "# heap priority queue"
   ]
  },
  {
   "cell_type": "code",
   "execution_count": 23,
   "id": "5db7b2a4",
   "metadata": {},
   "outputs": [],
   "source": [
    "import heapq\n",
    "from collections import Counter\n",
    "\n",
    "class Solution:\n",
    "    def topKFrequent(self, nums, k: int):\n",
    "        counts = Counter(nums)\n",
    "\n",
    "        heap = []\n",
    "        for kv in counts.items():\n",
    "            heap.append((-kv[1], kv[0]))\n",
    "        heapq.heapify(heap)\n",
    "        \n",
    "        visited = set()\n",
    "        while heap and len(visited) < k:\n",
    "            kv = heapq.heappop(heap)\n",
    "            visited.add(kv[1])\n",
    "\n",
    "        return list(visited)\n",
    "            \n",
    "            "
   ]
  },
  {
   "cell_type": "code",
   "execution_count": 25,
   "id": "5291dcbf",
   "metadata": {},
   "outputs": [],
   "source": [
    "# n: n\n",
    "# s: n\n",
    "# 102ms\n",
    "# bucket sort"
   ]
  },
  {
   "cell_type": "code",
   "execution_count": 26,
   "id": "6ebdda23",
   "metadata": {},
   "outputs": [],
   "source": [
    "import heapq\n",
    "from collections import Counter\n",
    "\n",
    "class Solution:\n",
    "    def topKFrequent(self, nums, k: int):\n",
    "        frqs= Counter(nums)\n",
    "        n = len(nums)\n",
    "\n",
    "        buckets = [None] * (n+1)\n",
    "        for num, frq in frqs.items():\n",
    "            if buckets[frq] is None:\n",
    "                buckets[frq] = []\n",
    "            buckets[frq].append(num)\n",
    "        \n",
    "        results = []\n",
    "        for i in range(len(buckets)-1, 0, -1):\n",
    "            bucket = buckets[i]\n",
    "            if bucket is not None:\n",
    "                results.extend(bucket)\n",
    "                if len(results) >= k:\n",
    "                    break\n",
    "\n",
    "        return results[:k]\n",
    "            "
   ]
  },
  {
   "cell_type": "code",
   "execution_count": null,
   "id": "1e857202",
   "metadata": {},
   "outputs": [],
   "source": []
  }
 ],
 "metadata": {
  "kernelspec": {
   "display_name": "Python 3 (ipykernel)",
   "language": "python",
   "name": "python3"
  },
  "language_info": {
   "codemirror_mode": {
    "name": "ipython",
    "version": 3
   },
   "file_extension": ".py",
   "mimetype": "text/x-python",
   "name": "python",
   "nbconvert_exporter": "python",
   "pygments_lexer": "ipython3",
   "version": "3.9.7"
  }
 },
 "nbformat": 4,
 "nbformat_minor": 5
}
