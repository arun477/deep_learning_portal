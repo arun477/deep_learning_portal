{
 "cells": [
  {
   "cell_type": "markdown",
   "id": "1f231df4",
   "metadata": {},
   "source": [
    "https://leetcode.com/problems/find-median-from-data-stream/description/?envType=list&envId=xi4ci4ig (ref)"
   ]
  },
  {
   "cell_type": "markdown",
   "id": "d990dfcb",
   "metadata": {},
   "source": [
    "```python\n",
    "\n",
    "The median is the middle value in an ordered integer list. If the size of the list is even, there is no middle value, and the median is the mean of the two middle values.\n",
    "\n",
    "For example, for arr = [2,3,4], the median is 3.\n",
    "For example, for arr = [2,3], the median is (2 + 3) / 2 = 2.5.\n",
    "Implement the MedianFinder class:\n",
    "\n",
    "MedianFinder() initializes the MedianFinder object.\n",
    "void addNum(int num) adds the integer num from the data stream to the data structure.\n",
    "double findMedian() returns the median of all elements so far. Answers within 10-5 of the actual answer will be accepted.\n",
    " \n",
    "\n",
    "Example 1:\n",
    "\n",
    "Input\n",
    "[\"MedianFinder\", \"addNum\", \"addNum\", \"findMedian\", \"addNum\", \"findMedian\"]\n",
    "[[], [1], [2], [], [3], []]\n",
    "Output\n",
    "[null, null, null, 1.5, null, 2.0]\n",
    "\n",
    "Explanation\n",
    "MedianFinder medianFinder = new MedianFinder();\n",
    "medianFinder.addNum(1);    // arr = [1]\n",
    "medianFinder.addNum(2);    // arr = [1, 2]\n",
    "medianFinder.findMedian(); // return 1.5 (i.e., (1 + 2) / 2)\n",
    "medianFinder.addNum(3);    // arr[1, 2, 3]\n",
    "medianFinder.findMedian(); // return 2.0\n",
    " \n",
    "\n",
    "Constraints:\n",
    "\n",
    "-105 <= num <= 105\n",
    "There will be at least one element in the data structure before calling findMedian.\n",
    "At most 5 * 104 calls will be made to addNum and findMedian.\n",
    " \n",
    "\n",
    "Follow up:\n",
    "\n",
    "If all integer numbers from the stream are in the range [0, 100], how would you optimize your solution?\n",
    "If 99% of all integer numbers from the stream are in the range [0, 100], how would you optimize your solution?\n",
    "\n",
    "```"
   ]
  },
  {
   "cell_type": "code",
   "execution_count": 15,
   "id": "26eda45a",
   "metadata": {},
   "outputs": [],
   "source": [
    "# addNum\n",
    "# n: 1\n",
    "# s: \n",
    "\n",
    "# findMedian\n",
    "# n: nlogn\n",
    "# s: 1\n",
    "# 2409ms"
   ]
  },
  {
   "cell_type": "code",
   "execution_count": 17,
   "id": "17a834ac",
   "metadata": {},
   "outputs": [],
   "source": [
    "class MedianFinder:\n",
    "\n",
    "    def __init__(self):\n",
    "        self.nums = []\n",
    "\n",
    "    def addNum(self, num: int) -> None:\n",
    "        self.nums.append(num)\n",
    "\n",
    "    def findMedian(self) -> float:\n",
    "        self.nums.sort()\n",
    "        n = len(self.nums)\n",
    "        if n%2==0:\n",
    "            left_mid = int((n//2)-1)\n",
    "            right_mid = left_mid + 1\n",
    "            return (self.nums[left_mid] + self.nums[right_mid])/2\n",
    "        return self.nums[int(n//2)]\n",
    "        "
   ]
  },
  {
   "cell_type": "code",
   "execution_count": 20,
   "id": "3385c336",
   "metadata": {},
   "outputs": [],
   "source": [
    "# addNum\n",
    "# n: logn\n",
    "# s: n\n",
    "\n",
    "# findMedian\n",
    "# n: 1\n",
    "# s: 1\n",
    "# 373ms\n",
    "# heap (priority queue)"
   ]
  },
  {
   "cell_type": "code",
   "execution_count": 22,
   "id": "84b95ed5",
   "metadata": {},
   "outputs": [],
   "source": [
    "import heapq\n",
    "\n",
    "class MedianFinder:\n",
    "    def __init__(self):\n",
    "        self.max_heap = []\n",
    "        self.min_heap = [] \n",
    "\n",
    "    def addNum(self, num: int) -> None:\n",
    "        if not self.max_heap or num <= -self.max_heap[0]:\n",
    "            heapq.heappush(self.max_heap, -num)\n",
    "        else:\n",
    "            heapq.heappush(self.min_heap, num)\n",
    "        \n",
    "        if len(self.max_heap) > len(self.min_heap) + 1:\n",
    "            heapq.heappush(self.min_heap, -heapq.heappop(self.max_heap))\n",
    "        elif len(self.min_heap) > len(self.max_heap):\n",
    "            heapq.heappush(self.max_heap, -heapq.heappop(self.min_heap))\n",
    "\n",
    "    def findMedian(self) -> float:\n",
    "        if len(self.max_heap) == len(self.min_heap):\n",
    "            return (-self.max_heap[0] + self.min_heap[0])/2\n",
    "        else:\n",
    "            return -self.max_heap[0]\n",
    "      "
   ]
  },
  {
   "cell_type": "code",
   "execution_count": null,
   "id": "986dfb09",
   "metadata": {},
   "outputs": [],
   "source": []
  },
  {
   "cell_type": "code",
   "execution_count": null,
   "id": "08c87a2d",
   "metadata": {},
   "outputs": [],
   "source": []
  }
 ],
 "metadata": {
  "kernelspec": {
   "display_name": "Python 3 (ipykernel)",
   "language": "python",
   "name": "python3"
  },
  "language_info": {
   "codemirror_mode": {
    "name": "ipython",
    "version": 3
   },
   "file_extension": ".py",
   "mimetype": "text/x-python",
   "name": "python",
   "nbconvert_exporter": "python",
   "pygments_lexer": "ipython3",
   "version": "3.9.7"
  }
 },
 "nbformat": 4,
 "nbformat_minor": 5
}
