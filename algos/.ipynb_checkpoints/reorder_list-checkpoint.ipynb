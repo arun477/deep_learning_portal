{
 "cells": [
  {
   "cell_type": "markdown",
   "id": "b8126fda",
   "metadata": {},
   "source": [
    "https://leetcode.com/problems/reorder-list/description/?envType=list&envId=xi4ci4ig (ref)"
   ]
  },
  {
   "cell_type": "markdown",
   "id": "97f265f1",
   "metadata": {},
   "source": [
    "You are given the head of a singly linked-list. The list can be represented as:\n",
    "\n",
    "L0 → L1 → … → Ln - 1 → Ln\n",
    "Reorder the list to be on the following form:\n",
    "\n",
    "L0 → Ln → L1 → Ln - 1 → L2 → Ln - 2 → …\n",
    "You may not modify the values in the list's nodes. Only nodes themselves may be changed.\n",
    "\n",
    " \n",
    "\n",
    "Example 1:\n",
    "\n",
    "\n",
    "Input: head = [1,2,3,4]\n",
    "Output: [1,4,2,3]\n",
    "Example 2:\n",
    "\n",
    "\n",
    "Input: head = [1,2,3,4,5]\n",
    "Output: [1,5,2,4,3]\n",
    " \n",
    "\n",
    "Constraints:\n",
    "\n",
    "The number of nodes in the list is in the range [1, 5 * 104].\n",
    "1 <= Node.val <= 1000"
   ]
  },
  {
   "cell_type": "code",
   "execution_count": 13,
   "id": "86a4b0ad",
   "metadata": {},
   "outputs": [],
   "source": [
    "# n: n\n",
    "# s: n\n",
    "# 56ms\n",
    "# two pointer and hashtable approach"
   ]
  },
  {
   "cell_type": "code",
   "execution_count": 17,
   "id": "9f51b681",
   "metadata": {},
   "outputs": [],
   "source": [
    "class ListNode:\n",
    "    def __init__(self, val=0, next=None):\n",
    "        self.val = val\n",
    "        self.next = next\n",
    "\n",
    "class Solution:\n",
    "    def reorderList(self, head) -> None:\n",
    "        \"\"\"\n",
    "        Do not return anything, modify head in-place instead.\n",
    "        \"\"\"\n",
    "        if not head:\n",
    "            return None\n",
    "        \n",
    "        htoi = {}\n",
    "        i = 0\n",
    "        while head:\n",
    "            htoi[i] = head\n",
    "            head = head.next\n",
    "            i += 1\n",
    "        \n",
    "        n = len(htoi)\n",
    "        left, right = 0, n-1\n",
    "        while left < right:\n",
    "            htoi[left].next = htoi[right]\n",
    "            \n",
    "            if left+1 in htoi:\n",
    "                htoi[right].next = htoi[left+1]\n",
    "                htoi[left+1].next = None\n",
    "            else:\n",
    "                htoi[right].next = None\n",
    "\n",
    "            left += 1\n",
    "            right -= 1"
   ]
  },
  {
   "cell_type": "code",
   "execution_count": null,
   "id": "48a348aa",
   "metadata": {},
   "outputs": [],
   "source": [
    "# n: n\n",
    "# s: 1\n",
    "# 53ms"
   ]
  },
  {
   "cell_type": "code",
   "execution_count": 21,
   "id": "cca2ceb6",
   "metadata": {},
   "outputs": [],
   "source": [
    "class ListNode:\n",
    "    def __init__(self, val=0, next=None):\n",
    "        self.val = val\n",
    "        self.next = next\n",
    "\n",
    "class Solution:\n",
    "    def reorderList(self, head):\n",
    "        if not head or not head.next:\n",
    "            return None\n",
    "        \n",
    "        def reverse_list(node):\n",
    "            prev = None\n",
    "            while node:\n",
    "                temp = node.next\n",
    "                node.next = prev\n",
    "                prev = node\n",
    "                node = temp\n",
    "            return prev\n",
    "    \n",
    "        slow, fast = head, head\n",
    "        while fast and fast.next:\n",
    "            slow = slow.next\n",
    "            fast = fast.next.next\n",
    "        \n",
    "        reversed_half = reverse_list(slow)\n",
    "\n",
    "        def merge_list(list1, list2):\n",
    "            while list2.next:\n",
    "                temp1, temp2 = list1.next, list2.next\n",
    "                list1.next, list2.next = list2, temp1\n",
    "                list1, list2 = temp1, temp2\n",
    "\n",
    "        merge_list(head, reversed_half)"
   ]
  },
  {
   "cell_type": "code",
   "execution_count": null,
   "id": "8c072c83",
   "metadata": {},
   "outputs": [],
   "source": []
  }
 ],
 "metadata": {
  "kernelspec": {
   "display_name": "Python 3 (ipykernel)",
   "language": "python",
   "name": "python3"
  },
  "language_info": {
   "codemirror_mode": {
    "name": "ipython",
    "version": 3
   },
   "file_extension": ".py",
   "mimetype": "text/x-python",
   "name": "python",
   "nbconvert_exporter": "python",
   "pygments_lexer": "ipython3",
   "version": "3.9.7"
  }
 },
 "nbformat": 4,
 "nbformat_minor": 5
}
