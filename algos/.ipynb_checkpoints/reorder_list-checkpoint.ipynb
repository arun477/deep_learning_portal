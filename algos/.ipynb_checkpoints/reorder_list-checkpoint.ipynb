{
 "cells": [
  {
   "cell_type": "markdown",
   "id": "dc00e5d5",
   "metadata": {},
   "source": [
    "https://leetcode.com/problems/reorder-list/description/?envType=list&envId=xi4ci4ig (ref)"
   ]
  },
  {
   "cell_type": "markdown",
   "id": "00799135",
   "metadata": {},
   "source": [
    "You are given the head of a singly linked-list. The list can be represented as:\n",
    "\n",
    "L0 → L1 → … → Ln - 1 → Ln\n",
    "Reorder the list to be on the following form:\n",
    "\n",
    "L0 → Ln → L1 → Ln - 1 → L2 → Ln - 2 → …\n",
    "You may not modify the values in the list's nodes. Only nodes themselves may be changed.\n",
    "\n",
    " \n",
    "\n",
    "Example 1:\n",
    "\n",
    "\n",
    "Input: head = [1,2,3,4]\n",
    "Output: [1,4,2,3]\n",
    "Example 2:\n",
    "\n",
    "\n",
    "Input: head = [1,2,3,4,5]\n",
    "Output: [1,5,2,4,3]\n",
    " \n",
    "\n",
    "Constraints:\n",
    "\n",
    "The number of nodes in the list is in the range [1, 5 * 104].\n",
    "1 <= Node.val <= 1000"
   ]
  },
  {
   "cell_type": "code",
   "execution_count": 13,
   "id": "825172c6",
   "metadata": {},
   "outputs": [],
   "source": [
    "# n: n\n",
    "# s: n\n",
    "# 56ms\n",
    "# two pointer and hashtable approach"
   ]
  },
  {
   "cell_type": "code",
   "execution_count": 16,
   "id": "a52dc7d8",
   "metadata": {},
   "outputs": [],
   "source": [
    "class ListNode:\n",
    "    def __init__(self, val=0, next=None):\n",
    "        self.val = val\n",
    "        self.next = next\n",
    "\n",
    "class Solution:\n",
    "    def reorderList(self, head) -> None:\n",
    "        \"\"\"\n",
    "        Do not return anything, modify head in-place instead.\n",
    "        \"\"\"\n",
    "        if not head:\n",
    "            return None\n",
    "        \n",
    "        htoi = {}\n",
    "        i = 0\n",
    "        while head:\n",
    "            htoi[i] = head\n",
    "            head = head.next\n",
    "            i += 1\n",
    "        \n",
    "        n = len(htoi)\n",
    "        left, right = 0, n-1\n",
    "        while left < right:\n",
    "            htoi[left].next = htoi[right]\n",
    "            \n",
    "            if left+1 in htoi:\n",
    "                htoi[right].next = htoi[left+1]\n",
    "                htoi[left+1].next = None\n",
    "            else:\n",
    "                htoi[right].next = None\n",
    "\n",
    "            left += 1\n",
    "            right -= 1"
   ]
  },
  {
   "cell_type": "code",
   "execution_count": null,
   "id": "54315276",
   "metadata": {},
   "outputs": [],
   "source": []
  }
 ],
 "metadata": {
  "kernelspec": {
   "display_name": "Python 3 (ipykernel)",
   "language": "python",
   "name": "python3"
  },
  "language_info": {
   "codemirror_mode": {
    "name": "ipython",
    "version": 3
   },
   "file_extension": ".py",
   "mimetype": "text/x-python",
   "name": "python",
   "nbconvert_exporter": "python",
   "pygments_lexer": "ipython3",
   "version": "3.9.7"
  }
 },
 "nbformat": 4,
 "nbformat_minor": 5
}
