{
 "cells": [
  {
   "cell_type": "markdown",
   "id": "3e81b07d",
   "metadata": {},
   "source": [
    "https://leetcode.com/problems/container-with-most-water/description/?envType=list&envId=xi4ci4ig (ref)"
   ]
  },
  {
   "cell_type": "markdown",
   "id": "8a6ac0f8",
   "metadata": {},
   "source": [
    "You are given an integer array height of length n. There are n vertical lines drawn such that the two endpoints of the ith line are (i, 0) and (i, height[i]).\n",
    "\n",
    "Find two lines that together with the x-axis form a container, such that the container contains the most water.\n",
    "\n",
    "Return the maximum amount of water a container can store.\n",
    "\n",
    "Notice that you may not slant the container.\n",
    "\n",
    " \n",
    "\n",
    "Example 1:\n",
    "\n",
    "\n",
    "Input: height = [1,8,6,2,5,4,8,3,7]\n",
    "Output: 49\n",
    "Explanation: The above vertical lines are represented by array [1,8,6,2,5,4,8,3,7]. In this case, the max area of water (blue section) the container can contain is 49.\n",
    "Example 2:\n",
    "\n",
    "Input: height = [1,1]\n",
    "Output: 1\n",
    " \n",
    "\n",
    "Constraints:\n",
    "\n",
    "n == height.length\n",
    "2 <= n <= 105\n",
    "0 <= height[i] <= 104"
   ]
  },
  {
   "cell_type": "code",
   "execution_count": null,
   "id": "60dc6a73",
   "metadata": {},
   "outputs": [],
   "source": []
  }
 ],
 "metadata": {
  "kernelspec": {
   "display_name": "Python 3 (ipykernel)",
   "language": "python",
   "name": "python3"
  },
  "language_info": {
   "codemirror_mode": {
    "name": "ipython",
    "version": 3
   },
   "file_extension": ".py",
   "mimetype": "text/x-python",
   "name": "python",
   "nbconvert_exporter": "python",
   "pygments_lexer": "ipython3",
   "version": "3.9.7"
  }
 },
 "nbformat": 4,
 "nbformat_minor": 5
}
