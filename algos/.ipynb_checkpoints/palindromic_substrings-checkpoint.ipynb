{
 "cells": [
  {
   "cell_type": "markdown",
   "id": "c0fa3b82",
   "metadata": {},
   "source": [
    "https://leetcode.com/problems/palindromic-substrings/description/?envType=list&envId=xi4ci4ig (ref)"
   ]
  },
  {
   "cell_type": "markdown",
   "id": "4e5070e7",
   "metadata": {},
   "source": [
    "```python\n",
    "Given a string s, return the number of palindromic substrings in it.\n",
    "\n",
    "A string is a palindrome when it reads the same backward as forward.\n",
    "\n",
    "A substring is a contiguous sequence of characters within the string.\n",
    "\n",
    " \n",
    "\n",
    "Example 1:\n",
    "\n",
    "Input: s = \"abc\"\n",
    "Output: 3\n",
    "Explanation: Three palindromic strings: \"a\", \"b\", \"c\".\n",
    "Example 2:\n",
    "\n",
    "Input: s = \"aaa\"\n",
    "Output: 6\n",
    "Explanation: Six palindromic strings: \"a\", \"a\", \"a\", \"aa\", \"aa\", \"aaa\".\n",
    " \n",
    "\n",
    "Constraints:\n",
    "\n",
    "1 <= s.length <= 1000\n",
    "s consists of lowercase English letters.\n",
    "\n",
    "```"
   ]
  },
  {
   "cell_type": "code",
   "execution_count": 3,
   "id": "81e9d61d",
   "metadata": {},
   "outputs": [],
   "source": [
    "# n: n^2\n",
    "# s: n^2\n",
    "# 643ms\n",
    "# dp top down"
   ]
  },
  {
   "cell_type": "code",
   "execution_count": 7,
   "id": "91f25c78",
   "metadata": {},
   "outputs": [],
   "source": [
    "class Solution:\n",
    "    def countSubstrings(self, s: str) -> int:\n",
    "        count, n = 0, len(s)\n",
    "        memo = {}\n",
    "       \n",
    "        def is_palindrome(start, end):\n",
    "            if start >= end:\n",
    "                return True\n",
    "            \n",
    "            if (start, end) in memo:\n",
    "                return memo[(start, end)]\n",
    "            \n",
    "            memo[(start, end)] = s[start]==s[end] and is_palindrome(start+1, end-1)\n",
    "            return memo[(start, end)]\n",
    "        \n",
    "        for i in range(n):\n",
    "            for j in range(i, n):\n",
    "                count += is_palindrome(i, j)\n",
    "        \n",
    "        return count"
   ]
  },
  {
   "cell_type": "code",
   "execution_count": 1,
   "id": "0dc52763",
   "metadata": {},
   "outputs": [],
   "source": [
    "# n: n\n",
    "# s: n\n",
    "# 42ms\n",
    "# manachers algo"
   ]
  },
  {
   "cell_type": "code",
   "execution_count": 3,
   "id": "5f653299",
   "metadata": {},
   "outputs": [],
   "source": [
    "class Solution:\n",
    "    def countSubstrings(self, s: str) -> int:\n",
    "        def pre_process(s):\n",
    "            result = ['#']\n",
    "            for char in s:\n",
    "                result.extend([char, '#'])\n",
    "            result.append('$')\n",
    "            return result\n",
    "        \n",
    "        processed_s = pre_process(s)\n",
    "        center, right, n = 0, 0, len(processed_s)\n",
    "        p = [0] * n\n",
    "\n",
    "        for i in range(1, n-1):\n",
    "            if i < right:\n",
    "                mirror = 2*center - i\n",
    "                p[i] = min(right-i, p[mirror])\n",
    "\n",
    "            while (i-p[i]-1) >=0 and (i+p[i]+1 < n) and processed_s[i-p[i]-1] == processed_s[i+p[i]+1]:\n",
    "                p[i] += 1\n",
    "            \n",
    "            if i+p[i] > right:\n",
    "                center, right = i, i+p[i]\n",
    "        \n",
    "        return sum((sub_len+1)//2 for sub_len in p)\n",
    "        \n",
    "        \n",
    "        \n",
    "            "
   ]
  },
  {
   "cell_type": "code",
   "execution_count": null,
   "id": "c8657879",
   "metadata": {},
   "outputs": [],
   "source": []
  },
  {
   "cell_type": "code",
   "execution_count": null,
   "id": "5734c201",
   "metadata": {},
   "outputs": [],
   "source": []
  }
 ],
 "metadata": {
  "kernelspec": {
   "display_name": "Python 3 (ipykernel)",
   "language": "python",
   "name": "python3"
  },
  "language_info": {
   "codemirror_mode": {
    "name": "ipython",
    "version": 3
   },
   "file_extension": ".py",
   "mimetype": "text/x-python",
   "name": "python",
   "nbconvert_exporter": "python",
   "pygments_lexer": "ipython3",
   "version": "3.9.7"
  }
 },
 "nbformat": 4,
 "nbformat_minor": 5
}
