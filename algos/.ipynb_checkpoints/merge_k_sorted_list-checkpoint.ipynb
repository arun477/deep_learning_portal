{
 "cells": [
  {
   "cell_type": "markdown",
   "id": "b09a3c8c",
   "metadata": {},
   "source": [
    "https://leetcode.com/problems/merge-k-sorted-lists/description/?envType=list&envId=xi4ci4ig (ref)"
   ]
  },
  {
   "cell_type": "markdown",
   "id": "d4ee52df",
   "metadata": {},
   "source": [
    "You are given an array of k linked-lists lists, each linked-list is sorted in ascending order.\n",
    "\n",
    "Merge all the linked-lists into one sorted linked-list and return it.\n",
    "\n",
    " \n",
    "\n",
    "Example 1:\n",
    "\n",
    "Input: lists = [[1,4,5],[1,3,4],[2,6]]\n",
    "Output: [1,1,2,3,4,4,5,6]\n",
    "Explanation: The linked-lists are:\n",
    "[\n",
    "  1->4->5,\n",
    "  1->3->4,\n",
    "  2->6\n",
    "]\n",
    "merging them into one sorted list:\n",
    "1->1->2->3->4->4->5->6\n",
    "Example 2:\n",
    "\n",
    "Input: lists = []\n",
    "Output: []\n",
    "Example 3:\n",
    "\n",
    "Input: lists = [[]]\n",
    "Output: []\n",
    " \n",
    "\n",
    "Constraints:\n",
    "\n",
    "k == lists.length\n",
    "0 <= k <= 104\n",
    "0 <= lists[i].length <= 500\n",
    "-104 <= lists[i][j] <= 104\n",
    "lists[i] is sorted in ascending order.\n",
    "The sum of lists[i].length will not exceed 104."
   ]
  },
  {
   "cell_type": "code",
   "execution_count": null,
   "id": "ba93ce81",
   "metadata": {},
   "outputs": [],
   "source": [
    "# n: k*n\n",
    "# s: 1\n",
    "# 2265ms"
   ]
  },
  {
   "cell_type": "code",
   "execution_count": 1,
   "id": "8b572ee9",
   "metadata": {},
   "outputs": [],
   "source": [
    "# Definition for singly-linked list.\n",
    "class ListNode:\n",
    "    def __init__(self, val=0, next=None):\n",
    "        self.val = val\n",
    "        self.next = next\n",
    "\n",
    "class Solution:\n",
    "    def mergeKLists(self, lists):\n",
    "        if len(lists)==0:\n",
    "            return None\n",
    "        \n",
    "        def compare(list1, list2):\n",
    "            if list1 is None:\n",
    "                return list2\n",
    "            if list2 is None:\n",
    "                return list1\n",
    "            \n",
    "            if list1.val <= list2.val:\n",
    "                list1.next = compare(list2, list1.next)\n",
    "                return list1\n",
    "            else:\n",
    "                list2.next = compare(list1, list2.next)\n",
    "                return list2\n",
    "\n",
    "        head = lists[0]\n",
    "        i = 1\n",
    "        while i<=len(lists)-1:\n",
    "            head = compare(head, lists[i])\n",
    "            i += 1\n",
    "        return head  "
   ]
  },
  {
   "cell_type": "code",
   "execution_count": null,
   "id": "7d13bfea",
   "metadata": {},
   "outputs": [],
   "source": []
  }
 ],
 "metadata": {
  "kernelspec": {
   "display_name": "Python 3 (ipykernel)",
   "language": "python",
   "name": "python3"
  },
  "language_info": {
   "codemirror_mode": {
    "name": "ipython",
    "version": 3
   },
   "file_extension": ".py",
   "mimetype": "text/x-python",
   "name": "python",
   "nbconvert_exporter": "python",
   "pygments_lexer": "ipython3",
   "version": "3.9.7"
  }
 },
 "nbformat": 4,
 "nbformat_minor": 5
}
