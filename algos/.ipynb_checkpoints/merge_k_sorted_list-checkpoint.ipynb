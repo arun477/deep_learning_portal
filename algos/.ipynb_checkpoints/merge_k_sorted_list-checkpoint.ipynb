{
 "cells": [
  {
   "cell_type": "markdown",
   "id": "43ba4eb1",
   "metadata": {},
   "source": [
    "https://leetcode.com/problems/merge-k-sorted-lists/description/?envType=list&envId=xi4ci4ig (ref)"
   ]
  },
  {
   "cell_type": "markdown",
   "id": "ddd25430",
   "metadata": {},
   "source": [
    "You are given an array of k linked-lists lists, each linked-list is sorted in ascending order.\n",
    "\n",
    "Merge all the linked-lists into one sorted linked-list and return it.\n",
    "\n",
    " \n",
    "\n",
    "Example 1:\n",
    "\n",
    "Input: lists = [[1,4,5],[1,3,4],[2,6]]\n",
    "Output: [1,1,2,3,4,4,5,6]\n",
    "Explanation: The linked-lists are:\n",
    "[\n",
    "  1->4->5,\n",
    "  1->3->4,\n",
    "  2->6\n",
    "]\n",
    "merging them into one sorted list:\n",
    "1->1->2->3->4->4->5->6\n",
    "Example 2:\n",
    "\n",
    "Input: lists = []\n",
    "Output: []\n",
    "Example 3:\n",
    "\n",
    "Input: lists = [[]]\n",
    "Output: []\n",
    " \n",
    "\n",
    "Constraints:\n",
    "\n",
    "k == lists.length\n",
    "0 <= k <= 104\n",
    "0 <= lists[i].length <= 500\n",
    "-104 <= lists[i][j] <= 104\n",
    "lists[i] is sorted in ascending order.\n",
    "The sum of lists[i].length will not exceed 104."
   ]
  },
  {
   "cell_type": "code",
   "execution_count": 2,
   "id": "c7971e0f",
   "metadata": {},
   "outputs": [],
   "source": [
    "# n: k*n\n",
    "# s: 1\n",
    "# 2265ms\n",
    "# pair wise mergin approach"
   ]
  },
  {
   "cell_type": "code",
   "execution_count": 3,
   "id": "606cbd93",
   "metadata": {},
   "outputs": [],
   "source": [
    "# Definition for singly-linked list.\n",
    "class ListNode:\n",
    "    def __init__(self, val=0, next=None):\n",
    "        self.val = val\n",
    "        self.next = next\n",
    "\n",
    "class Solution:\n",
    "    def mergeKLists(self, lists):\n",
    "        if len(lists)==0:\n",
    "            return None\n",
    "        \n",
    "        def compare(list1, list2):\n",
    "            if list1 is None:\n",
    "                return list2\n",
    "            if list2 is None:\n",
    "                return list1\n",
    "            \n",
    "            if list1.val <= list2.val:\n",
    "                list1.next = compare(list2, list1.next)\n",
    "                return list1\n",
    "            else:\n",
    "                list2.next = compare(list1, list2.next)\n",
    "                return list2\n",
    "\n",
    "        head = lists[0]\n",
    "        i = 1\n",
    "        while i<=len(lists)-1:\n",
    "            head = compare(head, lists[i])\n",
    "            i += 1\n",
    "        return head  "
   ]
  },
  {
   "cell_type": "code",
   "execution_count": 7,
   "id": "3dd6a183",
   "metadata": {},
   "outputs": [],
   "source": [
    "# n: nlogk \n",
    "# s: log k\n",
    "# 68ms\n",
    "# divide and conquer approach"
   ]
  },
  {
   "cell_type": "code",
   "execution_count": 8,
   "id": "af547271",
   "metadata": {},
   "outputs": [],
   "source": [
    "class ListNode:\n",
    "    def __init__(self, val=0, next=None):\n",
    "        self.val = val\n",
    "        self.next = next\n",
    "\n",
    "class Solution:\n",
    "    def mergeKLists(self, lists):\n",
    "        if len(lists)==0:\n",
    "            return None\n",
    "        \n",
    "        def merge(list1, list2):\n",
    "            if list1 is None:\n",
    "                return list2\n",
    "            if list2 is None:\n",
    "                return list1\n",
    "            \n",
    "            if list1.val <= list2.val:\n",
    "                list1.next = merge(list2, list1.next)\n",
    "                return list1\n",
    "            else:\n",
    "                list2.next = merge(list1, list2.next)\n",
    "                return list2\n",
    "\n",
    "        def merge_lists(lists, start, end):\n",
    "            if start==end:\n",
    "                return lists[start]\n",
    "            mid = (start+end)//2\n",
    "            left = merge_lists(lists, start, mid)\n",
    "            right = merge_lists(lists, mid+1, end)\n",
    "            return merge(left, right)\n",
    "        \n",
    "        head = merge_lists(lists, 0, len(lists)-1)\n",
    "        \n",
    "        return head"
   ]
  },
  {
   "cell_type": "code",
   "execution_count": null,
   "id": "6d90e4ee",
   "metadata": {},
   "outputs": [],
   "source": []
  }
 ],
 "metadata": {
  "kernelspec": {
   "display_name": "Python 3 (ipykernel)",
   "language": "python",
   "name": "python3"
  },
  "language_info": {
   "codemirror_mode": {
    "name": "ipython",
    "version": 3
   },
   "file_extension": ".py",
   "mimetype": "text/x-python",
   "name": "python",
   "nbconvert_exporter": "python",
   "pygments_lexer": "ipython3",
   "version": "3.9.7"
  }
 },
 "nbformat": 4,
 "nbformat_minor": 5
}
