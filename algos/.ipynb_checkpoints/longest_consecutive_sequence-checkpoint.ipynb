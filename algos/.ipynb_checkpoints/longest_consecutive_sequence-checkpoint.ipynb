{
 "cells": [
  {
   "cell_type": "markdown",
   "id": "1a946bfb",
   "metadata": {},
   "source": [
    "https://leetcode.com/problems/longest-consecutive-sequence/description/?envType=list&envId=xi4ci4ig (ref)"
   ]
  },
  {
   "cell_type": "markdown",
   "id": "a542e8b5",
   "metadata": {},
   "source": [
    "Given an unsorted array of integers nums, return the length of the longest consecutive elements sequence.\n",
    "\n",
    "You must write an algorithm that runs in O(n) time.\n",
    "\n",
    " \n",
    "\n",
    "Example 1:\n",
    "\n",
    "Input: nums = [100,4,200,1,3,2]\n",
    "Output: 4\n",
    "Explanation: The longest consecutive elements sequence is [1, 2, 3, 4]. Therefore its length is 4.\n",
    "Example 2:\n",
    "\n",
    "Input: nums = [0,3,7,2,5,8,4,6,0,1]\n",
    "Output: 9\n",
    " \n",
    "\n",
    "Constraints:\n",
    "\n",
    "0 <= nums.length <= 105\n",
    "-109 <= nums[i] <= 109"
   ]
  },
  {
   "cell_type": "code",
   "execution_count": 4,
   "id": "d352e026",
   "metadata": {},
   "outputs": [],
   "source": [
    "# n: nlogn\n",
    "# s: 1\n",
    "# 366 ms"
   ]
  },
  {
   "cell_type": "code",
   "execution_count": 5,
   "id": "6466a378",
   "metadata": {},
   "outputs": [],
   "source": [
    "class Solution:\n",
    "     def longestConsecutive(self, nums):\n",
    "        if not nums:\n",
    "            return 0\n",
    "\n",
    "        nums.sort()\n",
    "        max_sub_seq = 1\n",
    "        cur_sub_seq = 1\n",
    "        for i in range(len(nums)):\n",
    "            if nums[i] - nums[i-1] == 1:\n",
    "                cur_sub_seq += 1\n",
    "            elif nums[i-1] != nums[i]:\n",
    "                cur_sub_seq = 1\n",
    "\n",
    "            max_sub_seq = max(max_sub_seq, cur_sub_seq)\n",
    "\n",
    "        return max_sub_seq"
   ]
  },
  {
   "cell_type": "code",
   "execution_count": null,
   "id": "2a6f7963",
   "metadata": {},
   "outputs": [],
   "source": []
  }
 ],
 "metadata": {
  "kernelspec": {
   "display_name": "Python 3 (ipykernel)",
   "language": "python",
   "name": "python3"
  },
  "language_info": {
   "codemirror_mode": {
    "name": "ipython",
    "version": 3
   },
   "file_extension": ".py",
   "mimetype": "text/x-python",
   "name": "python",
   "nbconvert_exporter": "python",
   "pygments_lexer": "ipython3",
   "version": "3.9.7"
  }
 },
 "nbformat": 4,
 "nbformat_minor": 5
}
