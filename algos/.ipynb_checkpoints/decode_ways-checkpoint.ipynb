{
 "cells": [
  {
   "cell_type": "markdown",
   "id": "43ada8cb",
   "metadata": {},
   "source": [
    "https://leetcode.com/problems/decode-ways/description/?envType=list&envId=xi4ci4ig (ref)"
   ]
  },
  {
   "cell_type": "markdown",
   "id": "847daa74",
   "metadata": {},
   "source": [
    "A message containing letters from A-Z can be encoded into numbers using the following mapping:\n",
    "\n",
    "'A' -> \"1\"\n",
    "'B' -> \"2\"\n",
    "...\n",
    "'Z' -> \"26\"\n",
    "To decode an encoded message, all the digits must be grouped then mapped back into letters using the reverse of the mapping above (there may be multiple ways). For example, \"11106\" can be mapped into:\n",
    "\n",
    "\"AAJF\" with the grouping (1 1 10 6)\n",
    "\"KJF\" with the grouping (11 10 6)\n",
    "Note that the grouping (1 11 06) is invalid because \"06\" cannot be mapped into 'F' since \"6\" is different from \"06\".\n",
    "\n",
    "Given a string s containing only digits, return the number of ways to decode it.\n",
    "\n",
    "The test cases are generated so that the answer fits in a 32-bit integer.\n",
    "\n",
    " \n",
    "\n",
    "Example 1:\n",
    "\n",
    "Input: s = \"12\"\n",
    "Output: 2\n",
    "Explanation: \"12\" could be decoded as \"AB\" (1 2) or \"L\" (12).\n",
    "Example 2:\n",
    "\n",
    "Input: s = \"226\"\n",
    "Output: 3\n",
    "Explanation: \"226\" could be decoded as \"BZ\" (2 26), \"VF\" (22 6), or \"BBF\" (2 2 6).\n",
    "Example 3:\n",
    "\n",
    "Input: s = \"06\"\n",
    "Output: 0\n",
    "Explanation: \"06\" cannot be mapped to \"F\" because of the leading zero (\"6\" is different from \"06\").\n",
    " \n",
    "\n",
    "Constraints:\n",
    "\n",
    "1 <= s.length <= 100\n",
    "s contains only digits and may contain leading zero(s)."
   ]
  },
  {
   "cell_type": "code",
   "execution_count": 8,
   "id": "6530a27d",
   "metadata": {},
   "outputs": [],
   "source": [
    "# n: 2^n : exponential binary split nature\n",
    "# s: n: recurssion depth can go upto len of str\n",
    "# 34ms\n",
    "# dp"
   ]
  },
  {
   "cell_type": "code",
   "execution_count": 9,
   "id": "5f9ad93d",
   "metadata": {},
   "outputs": [],
   "source": [
    "class Solution:\n",
    "    def numDecodings(self, s: str) -> int:\n",
    "        n = len(s)\n",
    "        memo = {}\n",
    "        def decode(index):\n",
    "            if index == n:\n",
    "                return 1\n",
    "\n",
    "            if index in memo:\n",
    "                return memo[index]\n",
    "            \n",
    "            if s[index]== '0':\n",
    "                memo[index] = 0\n",
    "                return 0\n",
    "            \n",
    "            ways = decode(index+1)\n",
    "            if index+1 <= n and 10 <= int(s[index:index+2]) <= 26:\n",
    "                ways += decode(index+2)\n",
    "            memo[index] = ways\n",
    "\n",
    "            return ways\n",
    "\n",
    "        return decode(0)"
   ]
  },
  {
   "cell_type": "code",
   "execution_count": null,
   "id": "4f015de0",
   "metadata": {},
   "outputs": [],
   "source": []
  },
  {
   "cell_type": "code",
   "execution_count": null,
   "id": "239171a5",
   "metadata": {},
   "outputs": [],
   "source": []
  }
 ],
 "metadata": {
  "kernelspec": {
   "display_name": "Python 3 (ipykernel)",
   "language": "python",
   "name": "python3"
  },
  "language_info": {
   "codemirror_mode": {
    "name": "ipython",
    "version": 3
   },
   "file_extension": ".py",
   "mimetype": "text/x-python",
   "name": "python",
   "nbconvert_exporter": "python",
   "pygments_lexer": "ipython3",
   "version": "3.9.7"
  }
 },
 "nbformat": 4,
 "nbformat_minor": 5
}
