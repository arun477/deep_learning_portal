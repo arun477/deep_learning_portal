{
 "cells": [
  {
   "cell_type": "markdown",
   "id": "0f07f4c6",
   "metadata": {},
   "source": [
    "https://leetcode.com/problems/decode-ways/description/?envType=list&envId=xi4ci4ig (ref)"
   ]
  },
  {
   "cell_type": "markdown",
   "id": "8767be67",
   "metadata": {},
   "source": [
    "A message containing letters from A-Z can be encoded into numbers using the following mapping:\n",
    "\n",
    "'A' -> \"1\"\n",
    "'B' -> \"2\"\n",
    "...\n",
    "'Z' -> \"26\"\n",
    "To decode an encoded message, all the digits must be grouped then mapped back into letters using the reverse of the mapping above (there may be multiple ways). For example, \"11106\" can be mapped into:\n",
    "\n",
    "\"AAJF\" with the grouping (1 1 10 6)\n",
    "\"KJF\" with the grouping (11 10 6)\n",
    "Note that the grouping (1 11 06) is invalid because \"06\" cannot be mapped into 'F' since \"6\" is different from \"06\".\n",
    "\n",
    "Given a string s containing only digits, return the number of ways to decode it.\n",
    "\n",
    "The test cases are generated so that the answer fits in a 32-bit integer.\n",
    "\n",
    " \n",
    "\n",
    "Example 1:\n",
    "\n",
    "Input: s = \"12\"\n",
    "Output: 2\n",
    "Explanation: \"12\" could be decoded as \"AB\" (1 2) or \"L\" (12).\n",
    "Example 2:\n",
    "\n",
    "Input: s = \"226\"\n",
    "Output: 3\n",
    "Explanation: \"226\" could be decoded as \"BZ\" (2 26), \"VF\" (22 6), or \"BBF\" (2 2 6).\n",
    "Example 3:\n",
    "\n",
    "Input: s = \"06\"\n",
    "Output: 0\n",
    "Explanation: \"06\" cannot be mapped to \"F\" because of the leading zero (\"6\" is different from \"06\").\n",
    " \n",
    "\n",
    "Constraints:\n",
    "\n",
    "1 <= s.length <= 100\n",
    "s contains only digits and may contain leading zero(s)."
   ]
  },
  {
   "cell_type": "code",
   "execution_count": null,
   "id": "8242b8cd",
   "metadata": {},
   "outputs": [],
   "source": []
  }
 ],
 "metadata": {
  "kernelspec": {
   "display_name": "Python 3 (ipykernel)",
   "language": "python",
   "name": "python3"
  },
  "language_info": {
   "codemirror_mode": {
    "name": "ipython",
    "version": 3
   },
   "file_extension": ".py",
   "mimetype": "text/x-python",
   "name": "python",
   "nbconvert_exporter": "python",
   "pygments_lexer": "ipython3",
   "version": "3.9.7"
  }
 },
 "nbformat": 4,
 "nbformat_minor": 5
}
