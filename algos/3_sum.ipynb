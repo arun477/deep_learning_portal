{
 "cells": [
  {
   "cell_type": "markdown",
   "id": "f207687b",
   "metadata": {},
   "source": [
    "https://leetcode.com/problems/3sum/description/?envType=list&envId=xi4ci4ig (ref)"
   ]
  },
  {
   "cell_type": "markdown",
   "id": "1cb5d0d1",
   "metadata": {},
   "source": [
    "Given an integer array nums, return all the triplets [nums[i], nums[j], nums[k]] such that i != j, i != k, and j != k, and nums[i] + nums[j] + nums[k] == 0.\n",
    "\n",
    "Notice that the solution set must not contain duplicate triplets.\n",
    "\n",
    " \n",
    "\n",
    "Example 1:\n",
    "\n",
    "Input: nums = [-1,0,1,2,-1,-4]\n",
    "Output: [[-1,-1,2],[-1,0,1]]\n",
    "Explanation: \n",
    "nums[0] + nums[1] + nums[2] = (-1) + 0 + 1 = 0.\n",
    "nums[1] + nums[2] + nums[4] = 0 + 1 + (-1) = 0.\n",
    "nums[0] + nums[3] + nums[4] = (-1) + 2 + (-1) = 0.\n",
    "The distinct triplets are [-1,0,1] and [-1,-1,2].\n",
    "Notice that the order of the output and the order of the triplets does not matter.\n",
    "Example 2:\n",
    "\n",
    "Input: nums = [0,1,1]\n",
    "Output: []\n",
    "Explanation: The only possible triplet does not sum up to 0.\n",
    "Example 3:\n",
    "\n",
    "Input: nums = [0,0,0]\n",
    "Output: [[0,0,0]]\n",
    "Explanation: The only possible triplet sums up to 0.\n",
    " \n",
    "\n",
    "Constraints:\n",
    "\n",
    "3 <= nums.length <= 3000\n",
    "-105 <= nums[i] <= 105"
   ]
  },
  {
   "cell_type": "code",
   "execution_count": null,
   "id": "bda76179",
   "metadata": {},
   "outputs": [],
   "source": []
  }
 ],
 "metadata": {
  "kernelspec": {
   "display_name": "Python 3 (ipykernel)",
   "language": "python",
   "name": "python3"
  },
  "language_info": {
   "codemirror_mode": {
    "name": "ipython",
    "version": 3
   },
   "file_extension": ".py",
   "mimetype": "text/x-python",
   "name": "python",
   "nbconvert_exporter": "python",
   "pygments_lexer": "ipython3",
   "version": "3.9.7"
  }
 },
 "nbformat": 4,
 "nbformat_minor": 5
}
