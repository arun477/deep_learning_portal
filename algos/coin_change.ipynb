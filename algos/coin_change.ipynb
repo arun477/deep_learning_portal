{
 "cells": [
  {
   "cell_type": "markdown",
   "id": "02e487cf",
   "metadata": {},
   "source": [
    " https://leetcode.com/problems/coin-change/description/?envType=list&envId=xi4ci4ig (ref)"
   ]
  },
  {
   "cell_type": "markdown",
   "id": "903ccfea",
   "metadata": {},
   "source": [
    "```python\n",
    "\n",
    "You are given an integer array coins representing coins of different denominations and an integer amount representing a total amount of money.\n",
    "\n",
    "Return the fewest number of coins that you need to make up that amount. If that amount of money cannot be made up by any combination of the coins, return -1.\n",
    "\n",
    "You may assume that you have an infinite number of each kind of coin.\n",
    "\n",
    " \n",
    "\n",
    "Example 1:\n",
    "\n",
    "Input: coins = [1,2,5], amount = 11\n",
    "Output: 3\n",
    "Explanation: 11 = 5 + 5 + 1\n",
    "Example 2:\n",
    "\n",
    "Input: coins = [2], amount = 3\n",
    "Output: -1\n",
    "Example 3:\n",
    "\n",
    "Input: coins = [1], amount = 0\n",
    "Output: 0\n",
    " \n",
    "\n",
    "Constraints:\n",
    "\n",
    "1 <= coins.length <= 12\n",
    "1 <= coins[i] <= 231 - 1\n",
    "0 <= amount <= 104\n",
    "\n",
    "```"
   ]
  },
  {
   "cell_type": "code",
   "execution_count": 8,
   "id": "f407aaa2",
   "metadata": {},
   "outputs": [],
   "source": [
    "# n: n*amount\n",
    "# s: amount\n",
    "# 738ms\n",
    "# dp bottom up\n",
    "# little messy, need drill down"
   ]
  },
  {
   "cell_type": "code",
   "execution_count": 7,
   "id": "7bb75817",
   "metadata": {},
   "outputs": [],
   "source": [
    "class Solution:\n",
    "    def coinChange(self, coins, amount: int) -> int:\n",
    "        dp = [float('inf')] * (amount+1)\n",
    "        d[0] = 0\n",
    "\n",
    "        for coin in coins:\n",
    "            for i in range(coin, amount+1):\n",
    "                dp[i] = min(dp[i], dp[i-coin]+1)\n",
    "        \n",
    "        return dp[amount] if dp[amount] != float('inf') else -1"
   ]
  },
  {
   "cell_type": "code",
   "execution_count": 15,
   "id": "5ba757bf",
   "metadata": {},
   "outputs": [],
   "source": [
    "# n: 2^(n * amount)\n",
    "# s: 2^amount\n",
    "# 352ms\n",
    "# breadth first search\n",
    "# complexity analysis need revisit"
   ]
  },
  {
   "cell_type": "code",
   "execution_count": 16,
   "id": "f68d819d",
   "metadata": {},
   "outputs": [],
   "source": [
    "from collections import deque\n",
    "\n",
    "class Solution:\n",
    "    def coinChange(self, coins, amount: int) -> int:\n",
    "        if amount == 0:\n",
    "            return 0\n",
    "\n",
    "        queue = deque([(amount, 0)])\n",
    "        visited = set()\n",
    "\n",
    "        while queue:\n",
    "            remaining, steps = queue.popleft()\n",
    "            for coin in coins:\n",
    "                next_remaining = remaining-coin\n",
    "\n",
    "                if next_remaining == 0:\n",
    "                    return steps + 1\n",
    "                \n",
    "                if next_remaining > 0 and next_remaining not in visited:\n",
    "                    queue.append((next_remaining, steps+1))\n",
    "                    visited.add(next_remaining)\n",
    "        \n",
    "        return -1"
   ]
  },
  {
   "cell_type": "code",
   "execution_count": null,
   "id": "2a114b0f",
   "metadata": {},
   "outputs": [],
   "source": []
  }
 ],
 "metadata": {
  "kernelspec": {
   "display_name": "Python 3 (ipykernel)",
   "language": "python",
   "name": "python3"
  },
  "language_info": {
   "codemirror_mode": {
    "name": "ipython",
    "version": 3
   },
   "file_extension": ".py",
   "mimetype": "text/x-python",
   "name": "python",
   "nbconvert_exporter": "python",
   "pygments_lexer": "ipython3",
   "version": "3.9.7"
  }
 },
 "nbformat": 4,
 "nbformat_minor": 5
}
