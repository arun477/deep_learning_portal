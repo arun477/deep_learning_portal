{
 "cells": [
  {
   "cell_type": "markdown",
   "id": "4a83b5b8",
   "metadata": {},
   "source": [
    "https://leetcode.com/problems/alien-dictionary/description/?envType=list&envId=xi4ci4ig (ref)"
   ]
  },
  {
   "cell_type": "markdown",
   "id": "b68bfdc4",
   "metadata": {},
   "source": [
    "```python\n",
    "There is a new alien language which uses the latin alphabet. However, the order among letters are unknown to you. You receive a list of non-empty words from the dictionary, where words are sorted lexicographically by the rules of this new language. Derive the order of letters in this language\n",
    "\n",
    "Example\n",
    "Example 1:\n",
    "\n",
    "Input：[\"wrt\",\"wrf\",\"er\",\"ett\",\"rftt\"]\n",
    "Output：\"wertf\"\n",
    "Explanation：\n",
    "from \"wrt\"and\"wrf\" ,we can get 't'<'f'\n",
    "from \"wrt\"and\"er\" ,we can get 'w'<'e'\n",
    "from \"er\"and\"ett\" ,we can get 'r'<'t'\n",
    "from \"ett\"and\"rftt\" ,we can get 'e'<'r'\n",
    "So return \"wertf\"\n",
    "Example 2:\n",
    "\n",
    "Input：[\"z\",\"x\"]\n",
    "Output：\"zx\"\n",
    "Explanation：\n",
    "from \"z\" and \"x\"，we can get 'z' < 'x'\n",
    "So return \"zx\"\n",
    "\n",
    "```"
   ]
  },
  {
   "cell_type": "code",
   "execution_count": null,
   "id": "d7a47f7a",
   "metadata": {},
   "outputs": [],
   "source": []
  },
  {
   "cell_type": "code",
   "execution_count": null,
   "id": "2fb912b3",
   "metadata": {},
   "outputs": [],
   "source": []
  }
 ],
 "metadata": {
  "kernelspec": {
   "display_name": "Python 3 (ipykernel)",
   "language": "python",
   "name": "python3"
  },
  "language_info": {
   "codemirror_mode": {
    "name": "ipython",
    "version": 3
   },
   "file_extension": ".py",
   "mimetype": "text/x-python",
   "name": "python",
   "nbconvert_exporter": "python",
   "pygments_lexer": "ipython3",
   "version": "3.9.7"
  }
 },
 "nbformat": 4,
 "nbformat_minor": 5
}
