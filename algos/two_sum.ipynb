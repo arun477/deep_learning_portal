{
 "cells": [
  {
   "cell_type": "markdown",
   "id": "c5e53f87",
   "metadata": {},
   "source": [
    "Given an array of integers nums and an integer target, return indices of the two numbers such that they add up to target.\n",
    "\n",
    "You may assume that each input would have exactly one solution, and you may not use the same element twice.\n",
    "\n",
    "You can return the answer in any order.\n",
    "\n",
    "Example 1:\n",
    "\n",
    "Input: nums = [2,7,11,15], target = 9\n",
    "Output: [0,1]\n",
    "Explanation: Because nums[0] + nums[1] == 9, we return [0, 1].\n",
    "Example 2:\n",
    "\n",
    "Input: nums = [3,2,4], target = 6\n",
    "Output: [1,2]\n",
    "Example 3:\n",
    "\n",
    "Input: nums = [3,3], target = 6\n",
    "Output: [0,1]\n",
    " \n",
    "\n",
    "Constraints:\n",
    "\n",
    "2 <= nums.length <= 104\n",
    "-109 <= nums[i] <= 109\n",
    "-109 <= target <= 109\n",
    "Only one valid answer exists.\n",
    " \n",
    "\n",
    "Follow-up: Can you come up with an algorithm that is less than O(n2) time complexity?"
   ]
  },
  {
   "cell_type": "code",
   "execution_count": 5,
   "id": "5f40ea6d",
   "metadata": {},
   "outputs": [],
   "source": [
    "# t: n^2\n",
    "# s: 1\n",
    "# 5045 ms "
   ]
  },
  {
   "cell_type": "code",
   "execution_count": 3,
   "id": "491501db",
   "metadata": {},
   "outputs": [],
   "source": [
    "class Solution(object):\n",
    "    def twoSum(self, nums, target):\n",
    "        \"\"\"\n",
    "        :type nums: List[int]\n",
    "        :type target: int\n",
    "        :rtype: List[int]\n",
    "        \"\"\"\n",
    "        \n",
    "        for i, n in enumerate(nums):\n",
    "            for j, k in enumerate(nums):\n",
    "                if i!=j:\n",
    "                    if n+k==target:\n",
    "                        return [i,j]"
   ]
  },
  {
   "cell_type": "code",
   "execution_count": 6,
   "id": "9ffd5a2c",
   "metadata": {},
   "outputs": [],
   "source": [
    "# t: n\n",
    "# s: n\n",
    "# 36 ms"
   ]
  },
  {
   "cell_type": "code",
   "execution_count": 7,
   "id": "a7aafa43",
   "metadata": {},
   "outputs": [],
   "source": [
    "class Solution(object):\n",
    "    def twoSum(self, nums, target):\n",
    "        \"\"\"\n",
    "        :type nums: List[int]\n",
    "        :type target: int\n",
    "        :rtype: List[int]\n",
    "        \"\"\"\n",
    "        ntoi = {}\n",
    "        for i, n in enumerate(nums):\n",
    "            diff = target-n\n",
    "            if diff in ntoi:\n",
    "                return [i, ntoi[diff]]\n",
    "            else:\n",
    "                ntoi[n] = i"
   ]
  },
  {
   "cell_type": "code",
   "execution_count": null,
   "id": "e0dd1e60",
   "metadata": {},
   "outputs": [],
   "source": []
  }
 ],
 "metadata": {
  "kernelspec": {
   "display_name": "Python 3 (ipykernel)",
   "language": "python",
   "name": "python3"
  },
  "language_info": {
   "codemirror_mode": {
    "name": "ipython",
    "version": 3
   },
   "file_extension": ".py",
   "mimetype": "text/x-python",
   "name": "python",
   "nbconvert_exporter": "python",
   "pygments_lexer": "ipython3",
   "version": "3.9.7"
  }
 },
 "nbformat": 4,
 "nbformat_minor": 5
}
