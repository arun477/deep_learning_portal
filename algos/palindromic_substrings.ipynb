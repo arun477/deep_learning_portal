{
 "cells": [
  {
   "cell_type": "markdown",
   "id": "eab4b265",
   "metadata": {},
   "source": [
    "https://leetcode.com/problems/palindromic-substrings/description/?envType=list&envId=xi4ci4ig (ref)"
   ]
  },
  {
   "cell_type": "markdown",
   "id": "fdade65e",
   "metadata": {},
   "source": [
    "```python\n",
    "Given a string s, return the number of palindromic substrings in it.\n",
    "\n",
    "A string is a palindrome when it reads the same backward as forward.\n",
    "\n",
    "A substring is a contiguous sequence of characters within the string.\n",
    "\n",
    " \n",
    "\n",
    "Example 1:\n",
    "\n",
    "Input: s = \"abc\"\n",
    "Output: 3\n",
    "Explanation: Three palindromic strings: \"a\", \"b\", \"c\".\n",
    "Example 2:\n",
    "\n",
    "Input: s = \"aaa\"\n",
    "Output: 6\n",
    "Explanation: Six palindromic strings: \"a\", \"a\", \"a\", \"aa\", \"aa\", \"aaa\".\n",
    " \n",
    "\n",
    "Constraints:\n",
    "\n",
    "1 <= s.length <= 1000\n",
    "s consists of lowercase English letters.\n",
    "\n",
    "```"
   ]
  },
  {
   "cell_type": "code",
   "execution_count": 3,
   "id": "d40d7d78",
   "metadata": {},
   "outputs": [],
   "source": [
    "# n: n^2\n",
    "# s: n^2\n",
    "# 643ms\n",
    "# dp top down"
   ]
  },
  {
   "cell_type": "code",
   "execution_count": 6,
   "id": "88e56821",
   "metadata": {},
   "outputs": [],
   "source": [
    "class Solution:\n",
    "    def countSubstrings(self, s: str) -> int:\n",
    "        count, n = 0, len(s)\n",
    "        memo = {}\n",
    "       \n",
    "        def is_palindrome(start, end):\n",
    "            if start >= end:\n",
    "                return True\n",
    "            \n",
    "            if (start, end) in memo:\n",
    "                return memo[(start, end)]\n",
    "            \n",
    "            memo[(start, end)] = s[start]==s[end] and is_palindrome(start+1, end-1)\n",
    "            return memo[(start, end)]\n",
    "        \n",
    "        for i in range(n):\n",
    "            for j in range(i, n):\n",
    "                count += is_palindrome(i, j)\n",
    "        \n",
    "        return count"
   ]
  },
  {
   "cell_type": "code",
   "execution_count": null,
   "id": "b6a2326f",
   "metadata": {},
   "outputs": [],
   "source": []
  }
 ],
 "metadata": {
  "kernelspec": {
   "display_name": "Python 3 (ipykernel)",
   "language": "python",
   "name": "python3"
  },
  "language_info": {
   "codemirror_mode": {
    "name": "ipython",
    "version": 3
   },
   "file_extension": ".py",
   "mimetype": "text/x-python",
   "name": "python",
   "nbconvert_exporter": "python",
   "pygments_lexer": "ipython3",
   "version": "3.9.7"
  }
 },
 "nbformat": 4,
 "nbformat_minor": 5
}
