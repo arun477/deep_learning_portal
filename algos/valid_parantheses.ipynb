{
 "cells": [
  {
   "cell_type": "markdown",
   "id": "d31d41e8",
   "metadata": {},
   "source": [
    "https://leetcode.com/problems/valid-parentheses/description/?envType=list&envId=xi4ci4ig (ref)"
   ]
  },
  {
   "cell_type": "markdown",
   "id": "934b84e7",
   "metadata": {},
   "source": [
    "Given a string s containing just the characters '(', ')', '{', '}', '[' and ']', determine if the input string is valid.\n",
    "\n",
    "An input string is valid if:\n",
    "\n",
    "Open brackets must be closed by the same type of brackets.\n",
    "Open brackets must be closed in the correct order.\n",
    "Every close bracket has a corresponding open bracket of the same type.\n",
    " \n",
    "\n",
    "Example 1:\n",
    "\n",
    "Input: s = \"()\"\n",
    "Output: true\n",
    "Example 2:\n",
    "\n",
    "Input: s = \"()[]{}\"\n",
    "Output: true\n",
    "Example 3:\n",
    "\n",
    "Input: s = \"(]\"\n",
    "Output: false\n",
    " \n",
    "\n",
    "Constraints:\n",
    "\n",
    "1 <= s.length <= 104\n",
    "s consists of parentheses only '()[]{}'."
   ]
  },
  {
   "cell_type": "code",
   "execution_count": null,
   "id": "1e927dba",
   "metadata": {},
   "outputs": [],
   "source": [
    "# n: n\n",
    "# s: n\n",
    "# 38ms"
   ]
  },
  {
   "cell_type": "code",
   "execution_count": 1,
   "id": "e69692f1",
   "metadata": {},
   "outputs": [],
   "source": [
    "class Solution:\n",
    "    def isValid(self, s: str) -> bool:\n",
    "        rmap = {'(': ')', '[': ']', '{': '}'}\n",
    "        opens = []\n",
    "        for i,char in enumerate(s):\n",
    "            if char in list(rmap):\n",
    "                opens.append(char)\n",
    "            else:\n",
    "                if len(opens) > 0 and rmap[opens[-1]] == char:\n",
    "                    opens.pop()\n",
    "                else:\n",
    "                    return False   \n",
    "        return True if len(opens) == 0 else False"
   ]
  },
  {
   "cell_type": "code",
   "execution_count": null,
   "id": "daf132e4",
   "metadata": {},
   "outputs": [],
   "source": []
  }
 ],
 "metadata": {
  "kernelspec": {
   "display_name": "Python 3 (ipykernel)",
   "language": "python",
   "name": "python3"
  },
  "language_info": {
   "codemirror_mode": {
    "name": "ipython",
    "version": 3
   },
   "file_extension": ".py",
   "mimetype": "text/x-python",
   "name": "python",
   "nbconvert_exporter": "python",
   "pygments_lexer": "ipython3",
   "version": "3.9.7"
  }
 },
 "nbformat": 4,
 "nbformat_minor": 5
}
