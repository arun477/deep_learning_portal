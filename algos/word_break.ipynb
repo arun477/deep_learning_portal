{
 "cells": [
  {
   "cell_type": "markdown",
   "id": "2f90bd92",
   "metadata": {},
   "source": [
    "https://leetcode.com/problems/word-break/description/?envType=list&envId=xi4ci4ig (ref)"
   ]
  },
  {
   "cell_type": "markdown",
   "id": "a9290151",
   "metadata": {},
   "source": [
    "Given a string s and a dictionary of strings wordDict, return true if s can be segmented into a space-separated sequence of one or more dictionary words.\n",
    "\n",
    "Note that the same word in the dictionary may be reused multiple times in the segmentation.\n",
    "\n",
    " \n",
    "\n",
    "Example 1:\n",
    "\n",
    "Input: s = \"leetcode\", wordDict = [\"leet\",\"code\"]\n",
    "Output: true\n",
    "Explanation: Return true because \"leetcode\" can be segmented as \"leet code\".\n",
    "Example 2:\n",
    "\n",
    "Input: s = \"applepenapple\", wordDict = [\"apple\",\"pen\"]\n",
    "Output: true\n",
    "Explanation: Return true because \"applepenapple\" can be segmented as \"apple pen apple\".\n",
    "Note that you are allowed to reuse a dictionary word.\n",
    "Example 3:\n",
    "\n",
    "Input: s = \"catsandog\", wordDict = [\"cats\",\"dog\",\"sand\",\"and\",\"cat\"]\n",
    "Output: false\n",
    " \n",
    "\n",
    "Constraints:\n",
    "\n",
    "1 <= s.length <= 300\n",
    "1 <= wordDict.length <= 1000\n",
    "1 <= wordDict[i].length <= 20\n",
    "s and wordDict[i] consist of only lowercase English letters.\n",
    "All the strings of wordDict are unique."
   ]
  },
  {
   "cell_type": "code",
   "execution_count": 4,
   "id": "5ef39850",
   "metadata": {},
   "outputs": [],
   "source": [
    "# n: 2^n\n",
    "# s: n\n",
    "# 43ms\n",
    "# dp top down"
   ]
  },
  {
   "cell_type": "code",
   "execution_count": 6,
   "id": "82687ede",
   "metadata": {},
   "outputs": [],
   "source": [
    "class Solution:\n",
    "    def wordBreak(self, s: str, wordDict):\n",
    "            memo = {}\n",
    "            def can_break(start):\n",
    "                if start == len(s):\n",
    "                    return True\n",
    "                \n",
    "                if start in memo:\n",
    "                    return memo[start]\n",
    "\n",
    "                for end in range(start+1, len(s)+1):\n",
    "                    if s[start:end] in wordDict and can_break(end):\n",
    "                        memo[end] = True\n",
    "                        return True\n",
    "                \n",
    "                memo[start] = False\n",
    "\n",
    "                return False\n",
    "            \n",
    "            return can_break(0)"
   ]
  },
  {
   "cell_type": "code",
   "execution_count": null,
   "id": "8c677762",
   "metadata": {},
   "outputs": [],
   "source": []
  },
  {
   "cell_type": "code",
   "execution_count": null,
   "id": "49078344",
   "metadata": {},
   "outputs": [],
   "source": []
  }
 ],
 "metadata": {
  "kernelspec": {
   "display_name": "Python 3 (ipykernel)",
   "language": "python",
   "name": "python3"
  },
  "language_info": {
   "codemirror_mode": {
    "name": "ipython",
    "version": 3
   },
   "file_extension": ".py",
   "mimetype": "text/x-python",
   "name": "python",
   "nbconvert_exporter": "python",
   "pygments_lexer": "ipython3",
   "version": "3.9.7"
  }
 },
 "nbformat": 4,
 "nbformat_minor": 5
}
