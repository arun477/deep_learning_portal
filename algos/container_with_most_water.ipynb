{
 "cells": [
  {
   "cell_type": "markdown",
   "id": "fbf23163",
   "metadata": {},
   "source": [
    "https://leetcode.com/problems/container-with-most-water/description/?envType=list&envId=xi4ci4ig (ref)"
   ]
  },
  {
   "cell_type": "markdown",
   "id": "958e11d1",
   "metadata": {},
   "source": [
    "You are given an integer array height of length n. There are n vertical lines drawn such that the two endpoints of the ith line are (i, 0) and (i, height[i]).\n",
    "\n",
    "Find two lines that together with the x-axis form a container, such that the container contains the most water.\n",
    "\n",
    "Return the maximum amount of water a container can store.\n",
    "\n",
    "Notice that you may not slant the container.\n",
    "\n",
    " \n",
    "\n",
    "Example 1:\n",
    "\n",
    "\n",
    "Input: height = [1,8,6,2,5,4,8,3,7]\n",
    "Output: 49\n",
    "Explanation: The above vertical lines are represented by array [1,8,6,2,5,4,8,3,7]. In this case, the max area of water (blue section) the container can contain is 49.\n",
    "Example 2:\n",
    "\n",
    "Input: height = [1,1]\n",
    "Output: 1\n",
    " \n",
    "\n",
    "Constraints:\n",
    "\n",
    "n == height.length\n",
    "2 <= n <= 105\n",
    "0 <= height[i] <= 104"
   ]
  },
  {
   "cell_type": "code",
   "execution_count": 1,
   "id": "6eb2c231",
   "metadata": {},
   "outputs": [],
   "source": [
    "# n: n^2\n",
    "# s: 1\n",
    "# time limit exceeded"
   ]
  },
  {
   "cell_type": "code",
   "execution_count": 3,
   "id": "4dcb4fe6",
   "metadata": {},
   "outputs": [],
   "source": [
    "class Solution:\n",
    "    def maxArea(self, height):\n",
    "        max_area = 0\n",
    "        for i,n in enumerate(height):\n",
    "            for j,m in enumerate(height):\n",
    "                h = m if m < n else n\n",
    "                area = abs(i-j)*h\n",
    "                if area > max_area:\n",
    "                    max_area = area\n",
    "        return max_area"
   ]
  },
  {
   "cell_type": "code",
   "execution_count": 5,
   "id": "ed0a78f0",
   "metadata": {},
   "outputs": [],
   "source": [
    "# n: n\n",
    "# s: 1\n",
    "# two pointer approach\n",
    "# insight: \n",
    "# By starting with the widest possible width and gradually narrowing \n",
    "# down the width while maintaining the height as large as possible, \n",
    "# the algorithm can find the container that traps the maximum amount of water."
   ]
  },
  {
   "cell_type": "code",
   "execution_count": 6,
   "id": "2df197f0",
   "metadata": {},
   "outputs": [],
   "source": [
    "class Solution:\n",
    "    def maxArea(self, height):\n",
    "        max_area = 0\n",
    "        left = 0\n",
    "        right = len(height)-1\n",
    "        while left < right:\n",
    "            w = right-left\n",
    "            h = min(height[left], height[right])\n",
    "            max_area = max(max_area, h*w)\n",
    "            if height[left] < height[right]:\n",
    "                left +=1\n",
    "            else:\n",
    "                right -=1\n",
    "        return max_area"
   ]
  },
  {
   "cell_type": "code",
   "execution_count": null,
   "id": "9055eadb",
   "metadata": {},
   "outputs": [],
   "source": []
  }
 ],
 "metadata": {
  "kernelspec": {
   "display_name": "Python 3 (ipykernel)",
   "language": "python",
   "name": "python3"
  },
  "language_info": {
   "codemirror_mode": {
    "name": "ipython",
    "version": 3
   },
   "file_extension": ".py",
   "mimetype": "text/x-python",
   "name": "python",
   "nbconvert_exporter": "python",
   "pygments_lexer": "ipython3",
   "version": "3.10.0"
  }
 },
 "nbformat": 4,
 "nbformat_minor": 5
}
