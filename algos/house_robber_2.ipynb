{
 "cells": [
  {
   "cell_type": "markdown",
   "id": "3d7e9af1",
   "metadata": {},
   "source": [
    "https://leetcode.com/problems/house-robber-ii/description/?envType=list&envId=xi4ci4ig (ref)"
   ]
  },
  {
   "cell_type": "markdown",
   "id": "ef0d6453",
   "metadata": {},
   "source": [
    "```python\n",
    "You are a professional robber planning to rob houses along a street. Each house has a certain amount of money stashed. All houses at this place are arranged in a circle. That means the first house is the neighbor of the last one. Meanwhile, adjacent houses have a security system connected, and it will automatically contact the police if two adjacent houses were broken into on the same night.\n",
    "\n",
    "Given an integer array nums representing the amount of money of each house, return the maximum amount of money you can rob tonight without alerting the police.\n",
    "\n",
    " \n",
    "\n",
    "Example 1:\n",
    "\n",
    "Input: nums = [2,3,2]\n",
    "Output: 3\n",
    "Explanation: You cannot rob house 1 (money = 2) and then rob house 3 (money = 2), because they are adjacent houses.\n",
    "Example 2:\n",
    "\n",
    "Input: nums = [1,2,3,1]\n",
    "Output: 4\n",
    "Explanation: Rob house 1 (money = 1) and then rob house 3 (money = 3).\n",
    "Total amount you can rob = 1 + 3 = 4.\n",
    "Example 3:\n",
    "\n",
    "Input: nums = [1,2,3]\n",
    "Output: 3\n",
    " \n",
    "\n",
    "Constraints:\n",
    "\n",
    "1 <= nums.length <= 100\n",
    "0 <= nums[i] <= 1000\n",
    "\n",
    "```"
   ]
  },
  {
   "cell_type": "code",
   "execution_count": 1,
   "id": "7adee599",
   "metadata": {},
   "outputs": [],
   "source": [
    "# n: n : each house visited once thanks to memo\n",
    "# s: n\n",
    "# 31ms\n",
    "# dp"
   ]
  },
  {
   "cell_type": "code",
   "execution_count": 2,
   "id": "1d123a48",
   "metadata": {},
   "outputs": [],
   "source": [
    "class Solution:\n",
    "    def rob(self, nums) -> int:\n",
    "        if not nums:\n",
    "            return 0\n",
    "        \n",
    "        if len(nums) == 1:\n",
    "            return nums[0]\n",
    "        \n",
    "        n = len(nums)\n",
    "        memo = {}\n",
    "\n",
    "        def rob_amount(start, end):\n",
    "            if start > end:\n",
    "                return 0\n",
    "            \n",
    "            if (start, end) in memo:\n",
    "                return memo[(start, end)]\n",
    "\n",
    "            include_curr_house = nums[start] + rob_amount(start+2, end)\n",
    "            skip_curr_house = rob_amount(start+1, end)\n",
    "            \n",
    "            memo[(start, end)] = max(include_curr_house, skip_curr_house)\n",
    "\n",
    "            return memo[(start, end)]\n",
    "        \n",
    "        return max(rob_amount(0, n-2), rob_amount(1, n-1))"
   ]
  },
  {
   "cell_type": "code",
   "execution_count": null,
   "id": "3300329c",
   "metadata": {},
   "outputs": [],
   "source": []
  }
 ],
 "metadata": {
  "kernelspec": {
   "display_name": "Python 3 (ipykernel)",
   "language": "python",
   "name": "python3"
  },
  "language_info": {
   "codemirror_mode": {
    "name": "ipython",
    "version": 3
   },
   "file_extension": ".py",
   "mimetype": "text/x-python",
   "name": "python",
   "nbconvert_exporter": "python",
   "pygments_lexer": "ipython3",
   "version": "3.9.7"
  }
 },
 "nbformat": 4,
 "nbformat_minor": 5
}
