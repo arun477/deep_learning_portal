{
 "cells": [
  {
   "cell_type": "markdown",
   "id": "26cb64df",
   "metadata": {},
   "source": [
    "https://leetcode.com/problems/maximum-product-subarray/description/?envType=list&envId=xi4ci4ig (ref)"
   ]
  },
  {
   "cell_type": "markdown",
   "id": "9d98d9e9",
   "metadata": {},
   "source": [
    "Given an integer array nums, find a \n",
    "subarray\n",
    " that has the largest product, and return the product.\n",
    "\n",
    "The test cases are generated so that the answer will fit in a 32-bit integer.\n",
    "\n",
    " \n",
    "\n",
    "Example 1:\n",
    "\n",
    "Input: nums = [2,3,-2,4]\n",
    "Output: 6\n",
    "Explanation: [2,3] has the largest product 6.\n",
    "Example 2:\n",
    "\n",
    "Input: nums = [-2,0,-1]\n",
    "Output: 0\n",
    "Explanation: The result cannot be 2, because [-2,-1] is not a subarray.\n",
    " \n",
    "\n",
    "Constraints:\n",
    "\n",
    "1 <= nums.length <= 2 * 104\n",
    "-10 <= nums[i] <= 10\n",
    "The product of any prefix or suffix of nums is guaranteed to fit in a 32-bit integer."
   ]
  },
  {
   "cell_type": "code",
   "execution_count": 1,
   "id": "9df5631a",
   "metadata": {},
   "outputs": [],
   "source": [
    "# n: n^2\n",
    "# s: 1\n",
    "# tl3\n",
    "# naive"
   ]
  },
  {
   "cell_type": "code",
   "execution_count": 4,
   "id": "59242716",
   "metadata": {},
   "outputs": [],
   "source": [
    "class Solution:\n",
    "    def maxProduct(self, nums) -> int:\n",
    "        if not nums:\n",
    "            return None\n",
    "\n",
    "        if len(nums)==1:\n",
    "            return nums[0]\n",
    "\n",
    "        max_product = float('-inf')\n",
    "        n = len(nums)\n",
    "\n",
    "        for i in range(n):\n",
    "            curr_product = nums[i]\n",
    "            max_product = max(max_product, curr_product)\n",
    "            \n",
    "            for j in range(i+1, n):\n",
    "                curr_product = curr_product*nums[j]\n",
    "                max_product = max(max_product, curr_product)\n",
    "                \n",
    "            max_product = max(max_product, curr_product)\n",
    "\n",
    "        return max_product"
   ]
  },
  {
   "cell_type": "code",
   "execution_count": 5,
   "id": "010d7038",
   "metadata": {},
   "outputs": [],
   "source": [
    "# n: n\n",
    "# s: 1\n",
    "# 63ms"
   ]
  },
  {
   "cell_type": "code",
   "execution_count": 6,
   "id": "6b5cf369",
   "metadata": {},
   "outputs": [],
   "source": [
    "class Solution:\n",
    "    def maxProduct(self, nums) -> int:\n",
    "        if not nums:\n",
    "            return None\n",
    "\n",
    "        min_product = max_product = result = nums[0]\n",
    "        for num in nums[1:]:\n",
    "            if num < 0:\n",
    "                min_product, max_product = max_product, min_product\n",
    "            \n",
    "            min_product = min(num, num*min_product)\n",
    "            max_product = max(num, num*max_product)\n",
    "            \n",
    "            result = max(result, max_product)\n",
    "        \n",
    "        return result\n"
   ]
  },
  {
   "cell_type": "code",
   "execution_count": null,
   "id": "e7870064",
   "metadata": {},
   "outputs": [],
   "source": [
    "# n: n\n",
    "# s: n\n",
    "# 72ms"
   ]
  },
  {
   "cell_type": "code",
   "execution_count": 7,
   "id": "a033a7a7",
   "metadata": {},
   "outputs": [],
   "source": [
    "class Solution:\n",
    "    def maxProduct(self, num) -> int:\n",
    "        def max_product(i, prev_min, prev_max):\n",
    "            if i == len(nums):\n",
    "                return prev_max\n",
    "     \n",
    "            curr_num = nums[i]\n",
    "            curr_min = min(curr_num, prev_min*curr_num, prev_max*curr_num)\n",
    "            curr_max = max(curr_num, prev_min*curr_num, prev_max*curr_num)\n",
    "            \n",
    "            return max(curr_max, max_product(i+1, curr_min, curr_max))\n",
    "        \n",
    "        return max_product(0, 1, 1)"
   ]
  },
  {
   "cell_type": "code",
   "execution_count": null,
   "id": "aebe5020",
   "metadata": {},
   "outputs": [],
   "source": []
  }
 ],
 "metadata": {
  "kernelspec": {
   "display_name": "Python 3 (ipykernel)",
   "language": "python",
   "name": "python3"
  },
  "language_info": {
   "codemirror_mode": {
    "name": "ipython",
    "version": 3
   },
   "file_extension": ".py",
   "mimetype": "text/x-python",
   "name": "python",
   "nbconvert_exporter": "python",
   "pygments_lexer": "ipython3",
   "version": "3.9.7"
  }
 },
 "nbformat": 4,
 "nbformat_minor": 5
}
