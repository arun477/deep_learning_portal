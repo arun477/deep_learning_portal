{
 "cells": [
  {
   "cell_type": "markdown",
   "id": "f852233f",
   "metadata": {},
   "source": [
    "https://leetcode.com/problems/insert-interval/description/?envType=list&envId=xi4ci4ig (ref)"
   ]
  },
  {
   "cell_type": "markdown",
   "id": "b720eef4",
   "metadata": {},
   "source": [
    "You are given an array of non-overlapping intervals intervals where intervals[i] = [starti, endi] represent the start and the end of the ith interval and intervals is sorted in ascending order by starti. You are also given an interval newInterval = [start, end] that represents the start and end of another interval.\n",
    "\n",
    "Insert newInterval into intervals such that intervals is still sorted in ascending order by starti and intervals still does not have any overlapping intervals (merge overlapping intervals if necessary).\n",
    "\n",
    "Return intervals after the insertion.\n",
    "\n",
    " \n",
    "\n",
    "Example 1:\n",
    "\n",
    "Input: intervals = [[1,3],[6,9]], newInterval = [2,5]\n",
    "Output: [[1,5],[6,9]]\n",
    "Example 2:\n",
    "\n",
    "Input: intervals = [[1,2],[3,5],[6,7],[8,10],[12,16]], newInterval = [4,8]\n",
    "Output: [[1,2],[3,10],[12,16]]\n",
    "Explanation: Because the new interval [4,8] overlaps with [3,5],[6,7],[8,10].\n",
    " \n",
    "\n",
    "Constraints:\n",
    "\n",
    "0 <= intervals.length <= 104\n",
    "intervals[i].length == 2\n",
    "0 <= starti <= endi <= 105\n",
    "intervals is sorted by starti in ascending order.\n",
    "newInterval.length == 2\n",
    "0 <= start <= end <= 105"
   ]
  },
  {
   "cell_type": "code",
   "execution_count": null,
   "id": "3463c2e7",
   "metadata": {},
   "outputs": [],
   "source": [
    "# n: n\n",
    "# s: n\n",
    "# 71ms\n",
    "# little bit messy solution"
   ]
  },
  {
   "cell_type": "code",
   "execution_count": 1,
   "id": "9661af70",
   "metadata": {},
   "outputs": [],
   "source": [
    "class Solution:\n",
    "    def insert(self, intervals, newInterval):\n",
    "        n = len(intervals)\n",
    "        result = []\n",
    "        loaded = False\n",
    "        for i in range(n):\n",
    "            if newInterval[0] <= intervals[i][0]:\n",
    "                if not loaded:\n",
    "                    result.append(newInterval)\n",
    "                    loaded = True\n",
    "                result.append(intervals[i])    \n",
    "            else:\n",
    "                result.append(intervals[i])\n",
    "                if (i==n-1) and not loaded:\n",
    "                    result.append(newInterval)\n",
    "                    loaded = True\n",
    "        \n",
    "        if not intervals and newInterval:\n",
    "            result.append(newInterval)\n",
    "        \n",
    "        if not result:\n",
    "            return []\n",
    "\n",
    "        merged = [result[0]]\n",
    "        for i in range(1, len(result)):\n",
    "            curr_start, curr_end = result[i]\n",
    "            prev_start, prev_end = merged[-1]\n",
    "            if curr_start <= prev_end:\n",
    "                merged[-1] = [prev_start, max(prev_end, curr_end)]\n",
    "            else:\n",
    "                merged.append([curr_start, curr_end])\n",
    "\n",
    "        return merged \n",
    "        \n"
   ]
  },
  {
   "cell_type": "code",
   "execution_count": 4,
   "id": "c36cdfba",
   "metadata": {},
   "outputs": [],
   "source": [
    "# n: n\n",
    "# s: n\n",
    "# 70ms\n",
    "# cleaner solution"
   ]
  },
  {
   "cell_type": "code",
   "execution_count": 5,
   "id": "afaba83c",
   "metadata": {},
   "outputs": [],
   "source": [
    "class Solution:\n",
    "    def insert(self, intervals, newInterval):\n",
    "        result = []\n",
    "        i, n = 0, len(intervals)\n",
    "        \n",
    "        while i<n and intervals[i][1] < newInterval[0]:\n",
    "            result.append(intervals[i])\n",
    "            i += 1\n",
    "\n",
    "        while i<n and intervals[i][0] <= newInterval[1]:\n",
    "            newInterval = [min(intervals[i][0], newInterval[0]), max(intervals[i][1], newInterval[1])]\n",
    "            i += 1\n",
    "        \n",
    "        result.append(newInterval)\n",
    "        \n",
    "        while i < n:\n",
    "            result.append(intervals[i])\n",
    "            i += 1\n",
    "        \n",
    "        return result"
   ]
  },
  {
   "cell_type": "code",
   "execution_count": null,
   "id": "c4c81d7c",
   "metadata": {},
   "outputs": [],
   "source": []
  }
 ],
 "metadata": {
  "kernelspec": {
   "display_name": "Python 3 (ipykernel)",
   "language": "python",
   "name": "python3"
  },
  "language_info": {
   "codemirror_mode": {
    "name": "ipython",
    "version": 3
   },
   "file_extension": ".py",
   "mimetype": "text/x-python",
   "name": "python",
   "nbconvert_exporter": "python",
   "pygments_lexer": "ipython3",
   "version": "3.10.0"
  }
 },
 "nbformat": 4,
 "nbformat_minor": 5
}
