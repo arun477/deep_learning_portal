{
 "cells": [
  {
   "cell_type": "markdown",
   "id": "3b0437d8",
   "metadata": {},
   "source": [
    "https://leetcode.com/problems/serialize-and-deserialize-bst/description/?envType=list&envId=xi4ci4ig (ref)m"
   ]
  },
  {
   "cell_type": "markdown",
   "id": "70265adc",
   "metadata": {},
   "source": [
    "```python\n",
    "Serialization is converting a data structure or object into a sequence of bits so that it can be stored in a file or memory buffer, or transmitted across a network connection link to be reconstructed later in the same or another computer environment.\n",
    "\n",
    "Design an algorithm to serialize and deserialize a binary search tree. There is no restriction on how your serialization/deserialization algorithm should work. You need to ensure that a binary search tree can be serialized to a string, and this string can be deserialized to the original tree structure.\n",
    "\n",
    "The encoded string should be as compact as possible.\n",
    "\n",
    " \n",
    "\n",
    "Example 1:\n",
    "\n",
    "Input: root = [2,1,3]\n",
    "Output: [2,1,3]\n",
    "Example 2:\n",
    "\n",
    "Input: root = []\n",
    "Output: []\n",
    " \n",
    "\n",
    "Constraints:\n",
    "\n",
    "The number of nodes in the tree is in the range [0, 104].\n",
    "0 <= Node.val <= 104\n",
    "The input tree is guaranteed to be a binary search tree.\n",
    "\n",
    "\n",
    "```"
   ]
  },
  {
   "cell_type": "code",
   "execution_count": 4,
   "id": "e007dd0d",
   "metadata": {},
   "outputs": [],
   "source": [
    "# n: n : for both serialize and deserialize.\n",
    "# s: n : for both serialize and deserialize.\n",
    "# 80ms"
   ]
  },
  {
   "cell_type": "code",
   "execution_count": 6,
   "id": "7a0c0e31",
   "metadata": {},
   "outputs": [],
   "source": [
    "class TreeNode:\n",
    "    def __init__(self, x):\n",
    "        self.val = x\n",
    "        self.left = None\n",
    "        self.right = None\n",
    "\n",
    "class Codec:\n",
    "\n",
    "    def serialize(self, root) -> str:\n",
    "        if not root:\n",
    "            return \"\"\n",
    "        \n",
    "        serialized = []\n",
    "        self._serialize(root, serialized)\n",
    "\n",
    "        return \",\".join(serialized)\n",
    "    \n",
    "    def _serialize(self, root, serialized):\n",
    "        if not root:\n",
    "            serialized.append(\"null\")\n",
    "            return None\n",
    "\n",
    "        serialized.append(str(root.val))\n",
    "        self._serialize(root.left, serialized)\n",
    "        self._serialize(root.right, serialized)\n",
    "    \n",
    "    def deserialize(self, data: str):\n",
    "        if not data:\n",
    "            return None\n",
    "\n",
    "        serialized =  data.split(',')\n",
    "        root = self._deserialize(serialized)\n",
    "        \n",
    "        return root\n",
    "    \n",
    "    def _deserialize(self, serialized):\n",
    "        if not serialized:\n",
    "            return None \n",
    "        \n",
    "        val = serialized.pop(0)\n",
    "        if val == 'null':\n",
    "            return None\n",
    "\n",
    "        root = TreeNode(int(val))\n",
    "        root.left = self._deserialize(serialized)\n",
    "        root.right = self._deserialize(serialized)\n",
    "\n",
    "        return root\n",
    "        "
   ]
  },
  {
   "cell_type": "code",
   "execution_count": null,
   "id": "80a24a10",
   "metadata": {},
   "outputs": [],
   "source": []
  },
  {
   "cell_type": "code",
   "execution_count": null,
   "id": "0760e047",
   "metadata": {},
   "outputs": [],
   "source": []
  }
 ],
 "metadata": {
  "kernelspec": {
   "display_name": "Python 3 (ipykernel)",
   "language": "python",
   "name": "python3"
  },
  "language_info": {
   "codemirror_mode": {
    "name": "ipython",
    "version": 3
   },
   "file_extension": ".py",
   "mimetype": "text/x-python",
   "name": "python",
   "nbconvert_exporter": "python",
   "pygments_lexer": "ipython3",
   "version": "3.9.7"
  }
 },
 "nbformat": 4,
 "nbformat_minor": 5
}
