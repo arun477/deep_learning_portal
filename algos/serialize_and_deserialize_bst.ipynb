{
 "cells": [
  {
   "cell_type": "markdown",
   "id": "8c85c333",
   "metadata": {},
   "source": [
    "https://leetcode.com/problems/serialize-and-deserialize-bst/description/?envType=list&envId=xi4ci4ig (ref)m"
   ]
  },
  {
   "cell_type": "markdown",
   "id": "d4c57f9f",
   "metadata": {},
   "source": [
    "```python\n",
    "Serialization is converting a data structure or object into a sequence of bits so that it can be stored in a file or memory buffer, or transmitted across a network connection link to be reconstructed later in the same or another computer environment.\n",
    "\n",
    "Design an algorithm to serialize and deserialize a binary search tree. There is no restriction on how your serialization/deserialization algorithm should work. You need to ensure that a binary search tree can be serialized to a string, and this string can be deserialized to the original tree structure.\n",
    "\n",
    "The encoded string should be as compact as possible.\n",
    "\n",
    " \n",
    "\n",
    "Example 1:\n",
    "\n",
    "Input: root = [2,1,3]\n",
    "Output: [2,1,3]\n",
    "Example 2:\n",
    "\n",
    "Input: root = []\n",
    "Output: []\n",
    " \n",
    "\n",
    "Constraints:\n",
    "\n",
    "The number of nodes in the tree is in the range [0, 104].\n",
    "0 <= Node.val <= 104\n",
    "The input tree is guaranteed to be a binary search tree.\n",
    "\n",
    "\n",
    "```"
   ]
  },
  {
   "cell_type": "code",
   "execution_count": null,
   "id": "c47936f8",
   "metadata": {},
   "outputs": [],
   "source": []
  }
 ],
 "metadata": {
  "kernelspec": {
   "display_name": "Python 3 (ipykernel)",
   "language": "python",
   "name": "python3"
  },
  "language_info": {
   "codemirror_mode": {
    "name": "ipython",
    "version": 3
   },
   "file_extension": ".py",
   "mimetype": "text/x-python",
   "name": "python",
   "nbconvert_exporter": "python",
   "pygments_lexer": "ipython3",
   "version": "3.9.7"
  }
 },
 "nbformat": 4,
 "nbformat_minor": 5
}
