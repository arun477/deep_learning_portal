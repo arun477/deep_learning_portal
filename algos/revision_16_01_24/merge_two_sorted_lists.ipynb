{
 "cells": [
  {
   "cell_type": "code",
   "execution_count": 3,
   "id": "c1822e82",
   "metadata": {},
   "outputs": [],
   "source": [
    "# n: m+n\n",
    "# s: m+n\n",
    "# recursive\n",
    "\n",
    "class ListNode:\n",
    "    def __init__(self, val=0, next=None):\n",
    "        self.val = val\n",
    "        self.next = next\n",
    "        \n",
    "class Solution:\n",
    "    def mergeTwoLists(self, list1, list2):\n",
    "        def compare(l1, l2):\n",
    "            if l1 is None:\n",
    "                return l2\n",
    "            if l2 is None:\n",
    "                return l1\n",
    "\n",
    "            if l1.val <= l2.val:\n",
    "                l1.next = compare(l1.next, l2)\n",
    "                return l1\n",
    "            else:\n",
    "                l2.next = compare(l2.next, l1)\n",
    "                return l2\n",
    "        head = compare(list1, list2)\n",
    "        return head           "
   ]
  },
  {
   "cell_type": "code",
   "execution_count": null,
   "id": "19b87818",
   "metadata": {},
   "outputs": [],
   "source": []
  }
 ],
 "metadata": {
  "kernelspec": {
   "display_name": "Python 3 (ipykernel)",
   "language": "python",
   "name": "python3"
  },
  "language_info": {
   "codemirror_mode": {
    "name": "ipython",
    "version": 3
   },
   "file_extension": ".py",
   "mimetype": "text/x-python",
   "name": "python",
   "nbconvert_exporter": "python",
   "pygments_lexer": "ipython3",
   "version": "3.9.7"
  }
 },
 "nbformat": 4,
 "nbformat_minor": 5
}
