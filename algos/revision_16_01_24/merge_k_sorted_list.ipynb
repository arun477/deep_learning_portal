{
 "cells": [
  {
   "cell_type": "code",
   "execution_count": 8,
   "id": "c1c9c031",
   "metadata": {},
   "outputs": [],
   "source": [
    "# n: n*k\n",
    "# s: m+n\n",
    "# pairwise merging\n",
    "\n",
    "class ListNode:\n",
    "    def __init__(self, val=0, next=None):\n",
    "        self.val = val\n",
    "        self.next = next\n",
    "        \n",
    "class Solution:\n",
    "    def mergeKLists(self, lists):\n",
    "        def merge(l1, l2):\n",
    "            if l1 is None:\n",
    "                return l2\n",
    "            if l2 is None:\n",
    "                return l1\n",
    "            if l1.val <= l2.val:\n",
    "                l1.next = merge(l1.next, l2)\n",
    "                return l1\n",
    "            else:\n",
    "                l2.next = merge(l2.next, l1)\n",
    "                return l2\n",
    "        \n",
    "        if not lists:\n",
    "            return None\n",
    "        head = lists.pop(0)\n",
    "        while lists:\n",
    "            head = merge(lists[0], head)\n",
    "            lists.pop(0)\n",
    "        return head     "
   ]
  },
  {
   "cell_type": "code",
   "execution_count": null,
   "id": "9b722b9f",
   "metadata": {},
   "outputs": [],
   "source": []
  }
 ],
 "metadata": {
  "kernelspec": {
   "display_name": "Python 3 (ipykernel)",
   "language": "python",
   "name": "python3"
  },
  "language_info": {
   "codemirror_mode": {
    "name": "ipython",
    "version": 3
   },
   "file_extension": ".py",
   "mimetype": "text/x-python",
   "name": "python",
   "nbconvert_exporter": "python",
   "pygments_lexer": "ipython3",
   "version": "3.9.7"
  }
 },
 "nbformat": 4,
 "nbformat_minor": 5
}
