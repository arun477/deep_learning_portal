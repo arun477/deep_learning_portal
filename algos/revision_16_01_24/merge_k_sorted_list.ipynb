{
 "cells": [
  {
   "cell_type": "code",
   "execution_count": 8,
   "id": "eac21251",
   "metadata": {},
   "outputs": [],
   "source": [
    "# n: n*k\n",
    "# s: m+n\n",
    "# pairwise merging\n",
    "\n",
    "class ListNode:\n",
    "    def __init__(self, val=0, next=None):\n",
    "        self.val = val\n",
    "        self.next = next\n",
    "        \n",
    "class Solution:\n",
    "    def mergeKLists(self, lists):\n",
    "        def merge(l1, l2):\n",
    "            if l1 is None:\n",
    "                return l2\n",
    "            if l2 is None:\n",
    "                return l1\n",
    "            if l1.val <= l2.val:\n",
    "                l1.next = merge(l1.next, l2)\n",
    "                return l1\n",
    "            else:\n",
    "                l2.next = merge(l2.next, l1)\n",
    "                return l2\n",
    "        \n",
    "        if not lists:\n",
    "            return None\n",
    "        head = lists.pop(0)\n",
    "        while lists:\n",
    "            head = merge(lists[0], head)\n",
    "            lists.pop(0)\n",
    "        return head     "
   ]
  },
  {
   "cell_type": "code",
   "execution_count": 12,
   "id": "dfab6c7b",
   "metadata": {},
   "outputs": [],
   "source": [
    "# n:\n",
    "# s:\n",
    "# divide and conquer approach\n",
    "\n",
    "class Solution:\n",
    "    def mergeKLists(self, lists):\n",
    "        if len(lists)==0:\n",
    "            return None\n",
    "            \n",
    "        def merge(l1, l2):\n",
    "            if l1 is None:\n",
    "                return l2\n",
    "            if l2 is None:\n",
    "                return l1\n",
    "            if l1.val <= l2.val:\n",
    "                l1.next = merge(l1.next, l2)\n",
    "                return l1\n",
    "            else:\n",
    "                l2.next = merge(l2.next, l1)\n",
    "                return l2\n",
    "        \n",
    "        def merge_list(lists, start, end):\n",
    "            if start==end:\n",
    "                return lists[start]\n",
    "            mid = (start+end)//2\n",
    "            left = merge_list(lists, start, mid)\n",
    "            right = merge_list(lists, mid+1, end)\n",
    "            return merge(left, right)\n",
    "        \n",
    "        return merge_list(lists, 0, len(lists)-1)   "
   ]
  },
  {
   "cell_type": "code",
   "execution_count": null,
   "id": "34aaeedc",
   "metadata": {},
   "outputs": [],
   "source": []
  }
 ],
 "metadata": {
  "kernelspec": {
   "display_name": "Python 3 (ipykernel)",
   "language": "python",
   "name": "python3"
  },
  "language_info": {
   "codemirror_mode": {
    "name": "ipython",
    "version": 3
   },
   "file_extension": ".py",
   "mimetype": "text/x-python",
   "name": "python",
   "nbconvert_exporter": "python",
   "pygments_lexer": "ipython3",
   "version": "3.9.7"
  }
 },
 "nbformat": 4,
 "nbformat_minor": 5
}
