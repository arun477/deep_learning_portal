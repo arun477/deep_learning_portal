{
 "cells": [
  {
   "cell_type": "code",
   "execution_count": 2,
   "id": "6906b231",
   "metadata": {},
   "outputs": [],
   "source": [
    "# n: n^3\n",
    "# s: 1\n",
    "\n",
    "class Solution:\n",
    "    def longestPalindrome(self, s: str) -> str:\n",
    "        longest_sub_str = ''\n",
    "        n = len(s)\n",
    "        for i in range(n):\n",
    "            for j in range(i, n):\n",
    "                sub_str = s[i:j+1]\n",
    "                if sub_str == sub_str[::-1]:\n",
    "                    if len(sub_str) > len(longest_sub_str):\n",
    "                        longest_sub_str = sub_str\n",
    "        return longest_sub_str"
   ]
  },
  {
   "cell_type": "code",
   "execution_count": 8,
   "id": "66d37840",
   "metadata": {},
   "outputs": [],
   "source": [
    "# n: n^2\n",
    "# s: 1\n",
    "\n",
    "class Solution:\n",
    "    def longestPalindrome(self, s: str) -> str:\n",
    "        longest_str = ''\n",
    "        for i in range(len(s)):\n",
    "            l,r = i,i\n",
    "            while l>=0 and r<len(s) and s[l]==s[r]:\n",
    "                if (r-l+1)>len(longest_str):\n",
    "                    longest_str = s[l:r+1]\n",
    "                l -= 1\n",
    "                r += 1\n",
    "                \n",
    "            l,r = i,i+1\n",
    "            while l>=0 and r<len(s) and s[l]==s[r]:\n",
    "                if (r-l+1)>len(longest_str):\n",
    "                    longest_str = s[l:r+1]\n",
    "                l -= 1\n",
    "                r += 1\n",
    "            \n",
    "        return longest_str"
   ]
  },
  {
   "cell_type": "code",
   "execution_count": 9,
   "id": "cec00bf4",
   "metadata": {},
   "outputs": [],
   "source": [
    "# n: n\n",
    "# s: n\n",
    "# manacher algo\n",
    "class Solution:\n",
    "    def longestPalindrome(self, s: str) -> str:\n",
    "        pre_processed_str = \"#\".join('#'+s+'#')\n",
    "        n = len(pre_processed_str)\n",
    "        center,right_boundary = 0,0\n",
    "        max_center,max_len = 0,0\n",
    "        p = [0]*n\n",
    "        \n",
    "        for i in range(n):\n",
    "            mirror = 2*center-i\n",
    "            if i < right_boundary:\n",
    "                p[i] = min(right_boundary-i, p[mirror])\n",
    "            \n",
    "            left,right = i-(1+p[i]), i+(1+p[i])\n",
    "            while left>=0 and right<n and pre_processed_str[left]==pre_processed_str[right]:\n",
    "                p[i] += 1\n",
    "                left -= 1\n",
    "                right += 1\n",
    "            \n",
    "            if i+p[i]>right_boundary:\n",
    "                right_boundary = i+p[i]\n",
    "                center = i\n",
    "            \n",
    "            if p[i] > max_len:\n",
    "                max_len = p[i]\n",
    "                max_center = i\n",
    "        \n",
    "        start = (max_center-max_len)//2\n",
    "        end = start+max_len-1\n",
    "        return s[start:end+1]\n",
    "                "
   ]
  },
  {
   "cell_type": "code",
   "execution_count": null,
   "id": "10e5dc83",
   "metadata": {},
   "outputs": [],
   "source": []
  }
 ],
 "metadata": {
  "kernelspec": {
   "display_name": "Python 3 (ipykernel)",
   "language": "python",
   "name": "python3"
  },
  "language_info": {
   "codemirror_mode": {
    "name": "ipython",
    "version": 3
   },
   "file_extension": ".py",
   "mimetype": "text/x-python",
   "name": "python",
   "nbconvert_exporter": "python",
   "pygments_lexer": "ipython3",
   "version": "3.9.7"
  }
 },
 "nbformat": 4,
 "nbformat_minor": 5
}
