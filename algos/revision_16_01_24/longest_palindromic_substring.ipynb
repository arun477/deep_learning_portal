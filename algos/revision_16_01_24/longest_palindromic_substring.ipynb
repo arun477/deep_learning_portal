{
 "cells": [
  {
   "cell_type": "code",
   "execution_count": 2,
   "id": "70baba70",
   "metadata": {},
   "outputs": [],
   "source": [
    "# n: n^3\n",
    "# s: 1\n",
    "\n",
    "class Solution:\n",
    "    def longestPalindrome(self, s: str) -> str:\n",
    "        longest_sub_str = ''\n",
    "        n = len(s)\n",
    "        for i in range(n):\n",
    "            for j in range(i, n):\n",
    "                sub_str = s[i:j+1]\n",
    "                if sub_str == sub_str[::-1]:\n",
    "                    if len(sub_str) > len(longest_sub_str):\n",
    "                        longest_sub_str = sub_str\n",
    "        return longest_sub_str"
   ]
  },
  {
   "cell_type": "code",
   "execution_count": 7,
   "id": "ec18bb19",
   "metadata": {},
   "outputs": [],
   "source": [
    "# n: n^2\n",
    "# s: 1\n",
    "\n",
    "class Solution:\n",
    "    def longestPalindrome(self, s: str) -> str:\n",
    "        s = \"#\".join('#'+'#')\n",
    "        longest_str = ''\n",
    "        for i in range(len(s)):\n",
    "            l,r = i,i\n",
    "            while l>=0 and r<len(s) and s[l]==s[r]:\n",
    "                if (r-l+1)>len(longest_str):\n",
    "                    longest_str = s[l:r+1]\n",
    "                l -= 1\n",
    "                r += 1\n",
    "                \n",
    "            l,r = i,i+1\n",
    "            while l>=0 and r<len(s) and s[l]==s[r]:\n",
    "                if (r-l+1)>len(longest_str):\n",
    "                    longest_str = s[l:r+1]\n",
    "                l -= 1\n",
    "                r += 1\n",
    "            \n",
    "        return longest_str"
   ]
  },
  {
   "cell_type": "code",
   "execution_count": null,
   "id": "448dc8bd",
   "metadata": {},
   "outputs": [],
   "source": [
    "# n: \n",
    "# s:\n",
    "\n",
    "class Solution:\n",
    "    def longestPalindrome(self, s: str) -> str:\n",
    "        pass"
   ]
  }
 ],
 "metadata": {
  "kernelspec": {
   "display_name": "Python 3 (ipykernel)",
   "language": "python",
   "name": "python3"
  },
  "language_info": {
   "codemirror_mode": {
    "name": "ipython",
    "version": 3
   },
   "file_extension": ".py",
   "mimetype": "text/x-python",
   "name": "python",
   "nbconvert_exporter": "python",
   "pygments_lexer": "ipython3",
   "version": "3.9.7"
  }
 },
 "nbformat": 4,
 "nbformat_minor": 5
}
