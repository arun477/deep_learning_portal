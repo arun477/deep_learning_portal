{
 "cells": [
  {
   "cell_type": "code",
   "execution_count": 2,
   "id": "a35610d3",
   "metadata": {},
   "outputs": [],
   "source": [
    "# n: n\n",
    "# s: 1\n",
    "\n",
    "class Solution:\n",
    "    def canJump(self, nums):\n",
    "        max_jump,n = 0,len(nums)\n",
    "        for i in range(n):\n",
    "            if i>max_jump:\n",
    "                return False\n",
    "            max_jump = max(max_jump, nums[i]+i)\n",
    "            if max_jump >= n-1:\n",
    "                return True \n",
    "        return False"
   ]
  },
  {
   "cell_type": "code",
   "execution_count": 4,
   "id": "abac86c9",
   "metadata": {},
   "outputs": [],
   "source": [
    "# n: n^2\n",
    "# s: n\n",
    "# tle\n",
    "\n",
    "class Solution:\n",
    "    def canJump(self, nums):\n",
    "        n = len(nums)\n",
    "        can_reach = [False]*n\n",
    "        can_reach[0] = True\n",
    "        for i in range(1, n):\n",
    "            for j in range(i):\n",
    "                if can_reach[j] and j+nums[j] >= i:\n",
    "                    can_reach[i] = True\n",
    "                    break\n",
    "        return can_reach[-1]"
   ]
  },
  {
   "cell_type": "code",
   "execution_count": null,
   "id": "f2cdc2ca",
   "metadata": {},
   "outputs": [],
   "source": []
  }
 ],
 "metadata": {
  "kernelspec": {
   "display_name": "Python 3 (ipykernel)",
   "language": "python",
   "name": "python3"
  },
  "language_info": {
   "codemirror_mode": {
    "name": "ipython",
    "version": 3
   },
   "file_extension": ".py",
   "mimetype": "text/x-python",
   "name": "python",
   "nbconvert_exporter": "python",
   "pygments_lexer": "ipython3",
   "version": "3.9.7"
  }
 },
 "nbformat": 4,
 "nbformat_minor": 5
}
