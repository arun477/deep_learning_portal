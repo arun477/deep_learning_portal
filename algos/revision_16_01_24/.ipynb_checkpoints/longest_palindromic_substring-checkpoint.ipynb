{
 "cells": [
  {
   "cell_type": "code",
   "execution_count": 2,
   "id": "bfe3a169",
   "metadata": {},
   "outputs": [],
   "source": [
    "# n: n^3\n",
    "# s: 1\n",
    "\n",
    "class Solution:\n",
    "    def longestPalindrome(self, s: str) -> str:\n",
    "        longest_sub_str = ''\n",
    "        n = len(s)\n",
    "        for i in range(n):\n",
    "            for j in range(i, n):\n",
    "                sub_str = s[i:j+1]\n",
    "                if sub_str == sub_str[::-1]:\n",
    "                    if len(sub_str) > len(longest_sub_str):\n",
    "                        longest_sub_str = sub_str\n",
    "        return longest_sub_str"
   ]
  },
  {
   "cell_type": "code",
   "execution_count": null,
   "id": "b689a830",
   "metadata": {},
   "outputs": [],
   "source": [
    "# n: \n",
    "# s: \n",
    "\n",
    "class Solution:\n",
    "    def longestPalindrome(self, s: str) -> str:\n",
    "        longest_sub_str = ''\n",
    "        return longest_sub_str"
   ]
  }
 ],
 "metadata": {
  "kernelspec": {
   "display_name": "Python 3 (ipykernel)",
   "language": "python",
   "name": "python3"
  },
  "language_info": {
   "codemirror_mode": {
    "name": "ipython",
    "version": 3
   },
   "file_extension": ".py",
   "mimetype": "text/x-python",
   "name": "python",
   "nbconvert_exporter": "python",
   "pygments_lexer": "ipython3",
   "version": "3.9.7"
  }
 },
 "nbformat": 4,
 "nbformat_minor": 5
}
