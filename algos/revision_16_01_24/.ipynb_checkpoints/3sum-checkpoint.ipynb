{
 "cells": [
  {
   "cell_type": "code",
   "execution_count": 3,
   "id": "ba4553da",
   "metadata": {},
   "outputs": [],
   "source": [
    "# n:n^3\n",
    "# s:1\n",
    "# tle\n",
    "\n",
    "from itertools import permutations\n",
    "class Solution:\n",
    "    def threeSum(self, nums):\n",
    "        triplets = []\n",
    "        n = len(nums)\n",
    "        seen = {}\n",
    "        for i in range(n):\n",
    "            for j in range(n):\n",
    "                for k in range(n):\n",
    "                    if i != j and j != k and k != i:\n",
    "                        if (nums[i],nums[j],nums[k]) not in seen:\n",
    "                            for p in permutations((nums[i],nums[j],nums[k])):\n",
    "                                seen[p] = True\n",
    "                            if nums[i]+nums[j]+nums[k]==0:\n",
    "                                triplets.append([nums[i], nums[j], nums[k]])\n",
    "        return triplets"
   ]
  },
  {
   "cell_type": "code",
   "execution_count": 4,
   "id": "64b4b4b0",
   "metadata": {},
   "outputs": [],
   "source": [
    "# n: n^3\n",
    "# s: 1\n",
    "# two pointer approach\n",
    "\n",
    "\n",
    "class Solution:\n",
    "    def threeSum(self, nums):\n",
    "        triplets,n = [],len(nums)\n",
    "        nums.sort()\n",
    "        for i in range(n):\n",
    "            if i>0 and nums[i] == nums[i-1]:\n",
    "                continue\n",
    "            left,right = i+1,n-1\n",
    "            while left<right:\n",
    "                target = nums[i]+nums[left]+nums[right]\n",
    "                if target==0:\n",
    "                    triplets.append([nums[i], nums[left], nums[right]])\n",
    "                    while left<right and nums[left]==nums[left+1]:\n",
    "                        left += 1\n",
    "                    \n",
    "                    while right>0 and nums[right] == nums[right-1]:\n",
    "                        right -= 1\n",
    "\n",
    "                    left += 1\n",
    "                    right -= 1\n",
    "                elif target<0:\n",
    "                    left += 1\n",
    "                else:\n",
    "                    right -= 1\n",
    "        return triplets"
   ]
  },
  {
   "cell_type": "code",
   "execution_count": null,
   "id": "4d29e3fd",
   "metadata": {},
   "outputs": [],
   "source": []
  }
 ],
 "metadata": {
  "kernelspec": {
   "display_name": "Python 3 (ipykernel)",
   "language": "python",
   "name": "python3"
  },
  "language_info": {
   "codemirror_mode": {
    "name": "ipython",
    "version": 3
   },
   "file_extension": ".py",
   "mimetype": "text/x-python",
   "name": "python",
   "nbconvert_exporter": "python",
   "pygments_lexer": "ipython3",
   "version": "3.9.7"
  }
 },
 "nbformat": 4,
 "nbformat_minor": 5
}
