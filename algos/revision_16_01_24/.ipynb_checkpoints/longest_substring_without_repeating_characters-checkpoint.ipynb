{
 "cells": [
  {
   "cell_type": "code",
   "execution_count": 4,
   "id": "c513303f",
   "metadata": {},
   "outputs": [],
   "source": [
    "# n: n^2\n",
    "# s: n\n",
    "\n",
    "class Solution:\n",
    "    def lengthOfLongestSubstring(self, s: str) -> int:\n",
    "        max_len = 0\n",
    "        seen = set()\n",
    "        n = len(s)\n",
    "        for i in range(n):\n",
    "            seen.add(s[i])\n",
    "            for j in range(i+1, n):\n",
    "                if s[j] in seen:\n",
    "                    seen = set()\n",
    "                    max_len = max(max_len, len(s[i:j]))\n",
    "                    break\n",
    "                else:\n",
    "                    seen.add(s[j])\n",
    "            if seen:\n",
    "                max_len = max(max_len, len(s[i:]))     \n",
    "        return max_len"
   ]
  },
  {
   "cell_type": "code",
   "execution_count": 5,
   "id": "99e62b21",
   "metadata": {},
   "outputs": [],
   "source": [
    "# n: \n",
    "# s: \n",
    "\n",
    "class Solution:\n",
    "    def lengthOfLongestSubstring(self, s: str) -> int:\n",
    "        pass"
   ]
  },
  {
   "cell_type": "code",
   "execution_count": null,
   "id": "667b8d72",
   "metadata": {},
   "outputs": [],
   "source": []
  }
 ],
 "metadata": {
  "kernelspec": {
   "display_name": "Python 3 (ipykernel)",
   "language": "python",
   "name": "python3"
  },
  "language_info": {
   "codemirror_mode": {
    "name": "ipython",
    "version": 3
   },
   "file_extension": ".py",
   "mimetype": "text/x-python",
   "name": "python",
   "nbconvert_exporter": "python",
   "pygments_lexer": "ipython3",
   "version": "3.9.7"
  }
 },
 "nbformat": 4,
 "nbformat_minor": 5
}
