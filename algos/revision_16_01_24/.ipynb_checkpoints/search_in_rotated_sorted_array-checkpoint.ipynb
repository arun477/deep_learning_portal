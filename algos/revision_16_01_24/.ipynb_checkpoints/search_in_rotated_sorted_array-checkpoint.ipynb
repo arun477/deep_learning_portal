{
 "cells": [
  {
   "cell_type": "code",
   "execution_count": 4,
   "id": "3aee5c0e",
   "metadata": {},
   "outputs": [],
   "source": [
    "#n:n\n",
    "#s:1\n",
    "#naive solution\n",
    "\n",
    "class Solution:\n",
    "    def search(self, nums, target):\n",
    "        for i in range(len(nums)):\n",
    "            if target==nums[i]:\n",
    "                return i\n",
    "        return -1"
   ]
  },
  {
   "cell_type": "code",
   "execution_count": null,
   "id": "0d5c8126",
   "metadata": {},
   "outputs": [],
   "source": []
  }
 ],
 "metadata": {
  "kernelspec": {
   "display_name": "Python 3 (ipykernel)",
   "language": "python",
   "name": "python3"
  },
  "language_info": {
   "codemirror_mode": {
    "name": "ipython",
    "version": 3
   },
   "file_extension": ".py",
   "mimetype": "text/x-python",
   "name": "python",
   "nbconvert_exporter": "python",
   "pygments_lexer": "ipython3",
   "version": "3.9.7"
  }
 },
 "nbformat": 4,
 "nbformat_minor": 5
}
