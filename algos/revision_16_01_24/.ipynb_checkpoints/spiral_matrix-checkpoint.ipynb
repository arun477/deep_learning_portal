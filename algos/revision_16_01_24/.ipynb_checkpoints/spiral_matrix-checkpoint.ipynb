{
 "cells": [
  {
   "cell_type": "code",
   "execution_count": 1,
   "id": "4d13dfd3",
   "metadata": {},
   "outputs": [],
   "source": [
    "# n: m*n\n",
    "# s: 1\n",
    "\n",
    "\n",
    "class Solution:\n",
    "    def spiralOrder(self, matrix):\n",
    "        result = []\n",
    "        while matrix:\n",
    "            result += matrix.pop(0)\n",
    "            if matrix and matrix[0]:\n",
    "                for row in matrix:\n",
    "                    result.append(row.pop())\n",
    "            \n",
    "            if matrix:\n",
    "                result  += matrix.pop(-1)[::-1]\n",
    "\n",
    "            if matrix and matrix[0]:\n",
    "                for row in matrix[::-1]:\n",
    "                    result.append(row.pop(0))\n",
    "        \n",
    "        return result"
   ]
  },
  {
   "cell_type": "code",
   "execution_count": null,
   "id": "975e3031",
   "metadata": {},
   "outputs": [],
   "source": []
  }
 ],
 "metadata": {
  "kernelspec": {
   "display_name": "Python 3 (ipykernel)",
   "language": "python",
   "name": "python3"
  },
  "language_info": {
   "codemirror_mode": {
    "name": "ipython",
    "version": 3
   },
   "file_extension": ".py",
   "mimetype": "text/x-python",
   "name": "python",
   "nbconvert_exporter": "python",
   "pygments_lexer": "ipython3",
   "version": "3.9.7"
  }
 },
 "nbformat": 4,
 "nbformat_minor": 5
}
