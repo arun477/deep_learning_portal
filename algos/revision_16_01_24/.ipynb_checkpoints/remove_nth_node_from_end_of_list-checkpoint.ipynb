{
 "cells": [
  {
   "cell_type": "code",
   "execution_count": 1,
   "id": "7829d078",
   "metadata": {},
   "outputs": [],
   "source": [
    "# n:n\n",
    "# s:n\n",
    "\n",
    "class ListNode:\n",
    "    def __init__(self, val=0, next=None):\n",
    "        self.val = val\n",
    "        self.next = next\n",
    "        \n",
    "class Solution:\n",
    "    def removeNthFromEnd(self, head, n: int) :\n",
    "        hmap = {}\n",
    "        curr = head\n",
    "        i = 1\n",
    "        while(curr):\n",
    "            hmap[i] = curr\n",
    "            curr = curr.next\n",
    "            i += 1\n",
    "        size = len(hmap)\n",
    "\n",
    "        if size==1:\n",
    "            return None\n",
    "        else:\n",
    "            if size-n <= 0:\n",
    "                hmap[size-n+1].next = None\n",
    "                return hmap[size-n+2]\n",
    "            if (size-n) in hmap:\n",
    "                hmap[size-n].next = None\n",
    "                if (size-n+2) in hmap:\n",
    "                    hmap[size-n].next = hmap[size-n+2]\n",
    "        return head\n",
    "           "
   ]
  },
  {
   "cell_type": "code",
   "execution_count": 2,
   "id": "c40a2fd2",
   "metadata": {},
   "outputs": [],
   "source": [
    "# n:n\n",
    "# s:1\n",
    "# two pointer approach\n",
    "\n",
    "class ListNode:\n",
    "    def __init__(self, val=0, next=None):\n",
    "        self.val = val\n",
    "        self.next = next\n",
    "\n",
    "class Solution:\n",
    "    def removeNthFromEnd(self, head, n: int) :\n",
    "        dummy = ListNode(0)\n",
    "        dummy.next = head\n",
    "        first = dummy\n",
    "        second = dummy\n",
    "        for _ in range(n+1):\n",
    "            first = first.next\n",
    "        while first is not None:\n",
    "            first = first.next\n",
    "            second = second.next\n",
    "        second.next = second.next.next\n",
    "        return dummy.next\n",
    "\n",
    "           "
   ]
  },
  {
   "cell_type": "code",
   "execution_count": null,
   "id": "157c3cca",
   "metadata": {},
   "outputs": [],
   "source": []
  }
 ],
 "metadata": {
  "kernelspec": {
   "display_name": "Python 3 (ipykernel)",
   "language": "python",
   "name": "python3"
  },
  "language_info": {
   "codemirror_mode": {
    "name": "ipython",
    "version": 3
   },
   "file_extension": ".py",
   "mimetype": "text/x-python",
   "name": "python",
   "nbconvert_exporter": "python",
   "pygments_lexer": "ipython3",
   "version": "3.9.7"
  }
 },
 "nbformat": 4,
 "nbformat_minor": 5
}
