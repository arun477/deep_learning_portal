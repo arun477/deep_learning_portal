{
 "cells": [
  {
   "cell_type": "code",
   "execution_count": 3,
   "id": "374b8a9d",
   "metadata": {},
   "outputs": [],
   "source": [
    "# n: n^2\n",
    "# s: 1\n",
    "# tle\n",
    "\n",
    "class Solution:\n",
    "    def maxArea(self, height) -> int:\n",
    "        max_area = 0\n",
    "        n = len(height)\n",
    "        for i in range(n):\n",
    "            for j in range(n):\n",
    "                if i != j:\n",
    "                    max_area = max(max_area, abs(i-j)*min(height[i], height[j]))\n",
    "        return max_area          "
   ]
  },
  {
   "cell_type": "code",
   "execution_count": 4,
   "id": "d521237a",
   "metadata": {},
   "outputs": [],
   "source": [
    "# n: n\n",
    "# s: 1\n",
    "# two pointer approach\n",
    "\n",
    "class Solution:\n",
    "    def maxArea(self, height) -> int:\n",
    "        max_area = 0\n",
    "        left,right = 0, len(height)-1\n",
    "        while left < len(height) and right >= 0:\n",
    "            area = min(height[left], height[right]) * (right-left)\n",
    "            max_area = max(max_area, area)\n",
    "            if height[left] <= height[right]:\n",
    "                left += 1\n",
    "            else:\n",
    "                right -= 1\n",
    "        return max_area           "
   ]
  },
  {
   "cell_type": "code",
   "execution_count": null,
   "id": "2adc3db2",
   "metadata": {},
   "outputs": [],
   "source": []
  }
 ],
 "metadata": {
  "kernelspec": {
   "display_name": "Python 3 (ipykernel)",
   "language": "python",
   "name": "python3"
  },
  "language_info": {
   "codemirror_mode": {
    "name": "ipython",
    "version": 3
   },
   "file_extension": ".py",
   "mimetype": "text/x-python",
   "name": "python",
   "nbconvert_exporter": "python",
   "pygments_lexer": "ipython3",
   "version": "3.9.7"
  }
 },
 "nbformat": 4,
 "nbformat_minor": 5
}
