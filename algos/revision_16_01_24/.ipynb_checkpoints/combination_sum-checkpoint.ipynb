{
 "cells": [
  {
   "cell_type": "code",
   "execution_count": 1,
   "id": "b987e430",
   "metadata": {},
   "outputs": [],
   "source": [
    "# n: 2^n\n",
    "# s: \n",
    "# backtracking\n",
    "\n",
    "class Solution:\n",
    "    def combinationSum(self, candidates, target):\n",
    "        def backtrack(start, target, path):\n",
    "            if target==0:\n",
    "                result.append(path[:])\n",
    "                return\n",
    "            for i in range(start, len(candidates)):\n",
    "                if candidates[i]>target:\n",
    "                    continue\n",
    "                path.append(candidates[i])\n",
    "                backtrack(i, target-candidates[i], path)\n",
    "                path.pop()\n",
    "        result, path = [], []\n",
    "        candidates.sort()\n",
    "        backtrack(0, target, path)\n",
    "        return result"
   ]
  },
  {
   "cell_type": "code",
   "execution_count": null,
   "id": "86c50414",
   "metadata": {},
   "outputs": [],
   "source": []
  }
 ],
 "metadata": {
  "kernelspec": {
   "display_name": "Python 3 (ipykernel)",
   "language": "python",
   "name": "python3"
  },
  "language_info": {
   "codemirror_mode": {
    "name": "ipython",
    "version": 3
   },
   "file_extension": ".py",
   "mimetype": "text/x-python",
   "name": "python",
   "nbconvert_exporter": "python",
   "pygments_lexer": "ipython3",
   "version": "3.9.7"
  }
 },
 "nbformat": 4,
 "nbformat_minor": 5
}
