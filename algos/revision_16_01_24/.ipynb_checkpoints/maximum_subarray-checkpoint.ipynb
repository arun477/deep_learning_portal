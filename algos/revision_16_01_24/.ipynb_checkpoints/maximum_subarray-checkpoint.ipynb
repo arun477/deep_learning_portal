{
 "cells": [
  {
   "cell_type": "code",
   "execution_count": 3,
   "id": "ed1d5f6e",
   "metadata": {},
   "outputs": [],
   "source": [
    "# n:n\n",
    "# s:1\n",
    "\n",
    "class Solution:\n",
    "    def maxSubArray(self, nums):\n",
    "        if not nums:\n",
    "            return 0\n",
    "        max_sum, curr_sum = nums[0], nums[0]\n",
    "        for num in nums[1:]:\n",
    "            curr_sum = max(num, curr_sum+num)\n",
    "            max_sum = max(curr_sum, max_sum)\n",
    "        return max_sum\n",
    "        "
   ]
  },
  {
   "cell_type": "code",
   "execution_count": null,
   "id": "a1f65d55",
   "metadata": {},
   "outputs": [],
   "source": []
  }
 ],
 "metadata": {
  "kernelspec": {
   "display_name": "Python 3 (ipykernel)",
   "language": "python",
   "name": "python3"
  },
  "language_info": {
   "codemirror_mode": {
    "name": "ipython",
    "version": 3
   },
   "file_extension": ".py",
   "mimetype": "text/x-python",
   "name": "python",
   "nbconvert_exporter": "python",
   "pygments_lexer": "ipython3",
   "version": "3.9.7"
  }
 },
 "nbformat": 4,
 "nbformat_minor": 5
}
