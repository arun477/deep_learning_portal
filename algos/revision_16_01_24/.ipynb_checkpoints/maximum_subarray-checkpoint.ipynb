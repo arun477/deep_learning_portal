{
 "cells": [
  {
   "cell_type": "code",
   "execution_count": 3,
   "id": "6cd56958",
   "metadata": {},
   "outputs": [],
   "source": [
    "# n:n\n",
    "# s:1\n",
    "\n",
    "class Solution:\n",
    "    def maxSubArray(self, nums):\n",
    "        if not nums:\n",
    "            return 0\n",
    "        max_sum, curr_sum = nums[0], nums[0]\n",
    "        for num in nums[1:]:\n",
    "            curr_sum = max(num, curr_sum+num)\n",
    "            max_sum = max(curr_sum, max_sum)\n",
    "        return max_sum\n",
    "        "
   ]
  },
  {
   "cell_type": "code",
   "execution_count": 12,
   "id": "56dc1c0a",
   "metadata": {},
   "outputs": [],
   "source": [
    "# n: nlogn\n",
    "# s: logn\n",
    "\n",
    "\n",
    "import math\n",
    "class Solution:\n",
    "    def maxSubArray(self, nums) -> int:\n",
    "        def max_subarray(nums, left, right):\n",
    "            if left > right:\n",
    "                return -math.inf\n",
    "            \n",
    "            mid = (left+right)//2\n",
    "            left_sum,curr_sum = 0,0\n",
    "            for i in range(mid-1, left-1, -1):\n",
    "                curr_sum = nums[i]+curr_sum\n",
    "                left_sum = max(left_sum, curr_sum)\n",
    "\n",
    "            right_sum,curr_sum = 0,0\n",
    "            for i in range(mid+1, right+1):\n",
    "                curr_sum = nums[i]+curr_sum\n",
    "                right_sum = max(curr_sum, right_sum)\n",
    "            \n",
    "            return max(max_subarray(nums, left, mid-1),\\\n",
    "             max_subarray(nums, mid+1, right), left_sum+nums[mid]+right_sum)\n",
    "        \n",
    "        return max_subarray(nums, 0, len(nums)-1)"
   ]
  },
  {
   "cell_type": "code",
   "execution_count": null,
   "id": "5c488255",
   "metadata": {},
   "outputs": [],
   "source": []
  }
 ],
 "metadata": {
  "kernelspec": {
   "display_name": "Python 3 (ipykernel)",
   "language": "python",
   "name": "python3"
  },
  "language_info": {
   "codemirror_mode": {
    "name": "ipython",
    "version": 3
   },
   "file_extension": ".py",
   "mimetype": "text/x-python",
   "name": "python",
   "nbconvert_exporter": "python",
   "pygments_lexer": "ipython3",
   "version": "3.9.7"
  }
 },
 "nbformat": 4,
 "nbformat_minor": 5
}
