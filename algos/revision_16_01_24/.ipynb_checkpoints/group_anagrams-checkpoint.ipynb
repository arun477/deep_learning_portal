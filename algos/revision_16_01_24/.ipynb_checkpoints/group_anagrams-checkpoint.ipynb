{
 "cells": [
  {
   "cell_type": "code",
   "execution_count": 2,
   "id": "f49e6003",
   "metadata": {},
   "outputs": [],
   "source": [
    "# n: nmlogm\n",
    "# s: n\n",
    "\n",
    "from collections import defaultdict\n",
    "\n",
    "class Solution:\n",
    "    def groupAnagrams(self, strs):\n",
    "        hmap = defaultdict(list)\n",
    "        for s in strs:\n",
    "            hmap[tuple(sorted(s))].append(s)\n",
    "        return list(hmap.values())"
   ]
  },
  {
   "cell_type": "code",
   "execution_count": null,
   "id": "c60620aa",
   "metadata": {},
   "outputs": [],
   "source": []
  }
 ],
 "metadata": {
  "kernelspec": {
   "display_name": "Python 3 (ipykernel)",
   "language": "python",
   "name": "python3"
  },
  "language_info": {
   "codemirror_mode": {
    "name": "ipython",
    "version": 3
   },
   "file_extension": ".py",
   "mimetype": "text/x-python",
   "name": "python",
   "nbconvert_exporter": "python",
   "pygments_lexer": "ipython3",
   "version": "3.9.7"
  }
 },
 "nbformat": 4,
 "nbformat_minor": 5
}
