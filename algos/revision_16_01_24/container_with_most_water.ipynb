{
 "cells": [
  {
   "cell_type": "code",
   "execution_count": 3,
   "id": "dc7ba0c7",
   "metadata": {},
   "outputs": [],
   "source": [
    "# n: n^2\n",
    "# s: 1\n",
    "# tle\n",
    "\n",
    "class Solution:\n",
    "    def maxArea(self, height) -> int:\n",
    "        max_area = 0\n",
    "        n = len(height)\n",
    "        for i in range(n):\n",
    "            for j in range(n):\n",
    "                if i != j:\n",
    "                    max_area = max(max_area, abs(i-j)*min(height[i], height[j]))\n",
    "        return max_area          "
   ]
  },
  {
   "cell_type": "code",
   "execution_count": null,
   "id": "29e16008",
   "metadata": {},
   "outputs": [],
   "source": []
  }
 ],
 "metadata": {
  "kernelspec": {
   "display_name": "Python 3 (ipykernel)",
   "language": "python",
   "name": "python3"
  },
  "language_info": {
   "codemirror_mode": {
    "name": "ipython",
    "version": 3
   },
   "file_extension": ".py",
   "mimetype": "text/x-python",
   "name": "python",
   "nbconvert_exporter": "python",
   "pygments_lexer": "ipython3",
   "version": "3.9.7"
  }
 },
 "nbformat": 4,
 "nbformat_minor": 5
}
