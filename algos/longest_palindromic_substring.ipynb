{
 "cells": [
  {
   "cell_type": "markdown",
   "id": "c2494b51",
   "metadata": {},
   "source": [
    "https://leetcode.com/problems/longest-palindromic-substring/description/?envType=list&envId=xi4ci4ig (ref)"
   ]
  },
  {
   "cell_type": "markdown",
   "id": "ba6d1aea",
   "metadata": {},
   "source": [
    "Given a string s, return the longest \n",
    "palindromic\n",
    " \n",
    "substring\n",
    " in s.\n",
    "\n",
    " \n",
    "\n",
    "Example 1:\n",
    "\n",
    "Input: s = \"babad\"\n",
    "Output: \"bab\"\n",
    "Explanation: \"aba\" is also a valid answer.\n",
    "Example 2:\n",
    "\n",
    "Input: s = \"cbbd\"\n",
    "Output: \"bb\"\n",
    " \n",
    "\n",
    "Constraints:\n",
    "\n",
    "1 <= s.length <= 1000\n",
    "s consist of only digits and English letters."
   ]
  },
  {
   "cell_type": "code",
   "execution_count": 13,
   "id": "a9944c5b",
   "metadata": {},
   "outputs": [],
   "source": [
    "# t: n^3\n",
    "# s: 1\n",
    "# tl exceeded"
   ]
  },
  {
   "cell_type": "code",
   "execution_count": 14,
   "id": "2b5f188f",
   "metadata": {},
   "outputs": [],
   "source": [
    "class Solution:\n",
    "    def longestPalindrome(self, s: str) -> str:\n",
    "        substr = ''\n",
    "        for i,c in enumerate(s):\n",
    "            for j,ch2 in enumerate(s):\n",
    "                sub = s[i:j+1]\n",
    "                if sub == sub[::-1]:\n",
    "                    if len(sub) > len(substr):\n",
    "                        substr = sub\n",
    "        return substr"
   ]
  },
  {
   "cell_type": "code",
   "execution_count": null,
   "id": "db8ffc10",
   "metadata": {},
   "outputs": [],
   "source": []
  },
  {
   "cell_type": "code",
   "execution_count": null,
   "id": "8d4b6e54",
   "metadata": {},
   "outputs": [],
   "source": []
  }
 ],
 "metadata": {
  "kernelspec": {
   "display_name": "Python 3 (ipykernel)",
   "language": "python",
   "name": "python3"
  },
  "language_info": {
   "codemirror_mode": {
    "name": "ipython",
    "version": 3
   },
   "file_extension": ".py",
   "mimetype": "text/x-python",
   "name": "python",
   "nbconvert_exporter": "python",
   "pygments_lexer": "ipython3",
   "version": "3.9.7"
  }
 },
 "nbformat": 4,
 "nbformat_minor": 5
}
