{
 "cells": [
  {
   "cell_type": "markdown",
   "id": "fba1493d",
   "metadata": {},
   "source": [
    "https://leetcode.com/problems/set-matrix-zeroes/description/?envType=list&envId=xi4ci4ig (ref)"
   ]
  },
  {
   "cell_type": "markdown",
   "id": "7f41b397",
   "metadata": {},
   "source": [
    "Given an m x n integer matrix matrix, if an element is 0, set its entire row and column to 0's.\n",
    "\n",
    "You must do it in place.\n",
    "\n",
    " \n",
    "\n",
    "Example 1:\n",
    "\n",
    "\n",
    "Input: matrix = [[1,1,1],[1,0,1],[1,1,1]]\n",
    "Output: [[1,0,1],[0,0,0],[1,0,1]]\n",
    "Example 2:\n",
    "\n",
    "\n",
    "Input: matrix = [[0,1,2,0],[3,4,5,2],[1,3,1,5]]\n",
    "Output: [[0,0,0,0],[0,4,5,0],[0,3,1,0]]\n",
    " \n",
    "\n",
    "Constraints:\n",
    "\n",
    "m == matrix.length\n",
    "n == matrix[0].length\n",
    "1 <= m, n <= 200\n",
    "-231 <= matrix[i][j] <= 231 - 1\n",
    " \n",
    "\n",
    "Follow up:\n",
    "\n",
    "A straightforward solution using O(mn) space is probably a bad idea.\n",
    "A simple improvement uses O(m + n) space, but still not the best solution.\n",
    "Could you devise a constant space solution?"
   ]
  },
  {
   "cell_type": "code",
   "execution_count": 1,
   "id": "9db2f6cf",
   "metadata": {},
   "outputs": [],
   "source": [
    "# n: m*n\n",
    "# s: m+n\n",
    "# 93ms"
   ]
  },
  {
   "cell_type": "code",
   "execution_count": 3,
   "id": "993ff7fd",
   "metadata": {},
   "outputs": [],
   "source": [
    "class Solution:\n",
    "    def setZeroes(self, matrix) -> None:\n",
    "        m,n = len(matrix), len(matrix[0])\n",
    "        zero_rows = [False]*m\n",
    "        zero_cols = [False]*n\n",
    "        \n",
    "        for i in range(m):\n",
    "            for j in range(n):\n",
    "                if matrix[i][j]==0:\n",
    "                    zero_rows[i] = True\n",
    "                    zero_cols[j] = True\n",
    "        \n",
    "        for i in range(m):\n",
    "            if zero_rows[i]:\n",
    "                matrix[i] = [0] * n\n",
    "        \n",
    "        for j in range(n):\n",
    "            if zero_cols[j]:\n",
    "                for i in range(m):\n",
    "                    matrix[i][j] = 0"
   ]
  },
  {
   "cell_type": "code",
   "execution_count": 18,
   "id": "ba81ab18",
   "metadata": {},
   "outputs": [],
   "source": [
    "# n: m^2*n\n",
    "# s: m*n\n",
    "# 102ms\n",
    "# naive approach"
   ]
  },
  {
   "cell_type": "code",
   "execution_count": 19,
   "id": "c9b79f88",
   "metadata": {},
   "outputs": [],
   "source": [
    "class Solution:\n",
    "    def setZeroes(self, matrix):\n",
    "        m,n = len(matrix),len(matrix[0])\n",
    "        matrix_clone = [row[:] for row in matrix]\n",
    "        \n",
    "        for i in range(m):\n",
    "            for j in range(n):\n",
    "                if matrix[i][j] == 0:\n",
    "                    matrix_clone[i] = [0]*n\n",
    "                    for k in range(m):\n",
    "                        matrix_clone[k][j] = 0\n",
    "\n",
    "        for i in range(m):\n",
    "            matrix[i] = matrix_clone[i]                        "
   ]
  },
  {
   "cell_type": "code",
   "execution_count": 20,
   "id": "a77266b1",
   "metadata": {},
   "outputs": [],
   "source": [
    "# n: m*n\n",
    "# s: 1\n",
    "# 103ms"
   ]
  },
  {
   "cell_type": "code",
   "execution_count": 22,
   "id": "c8c443c5",
   "metadata": {},
   "outputs": [],
   "source": [
    "class Solution:\n",
    "    def setZeroes(self, matrix):\n",
    "        m,n = len(matrix),len(matrix[0])\n",
    "        first_row_has_zero = any(matrix[0][j]==0 for j in range(n))\n",
    "        first_col_has_zero = any(matrix[i][0]==0 for i in range(m))\n",
    "        \n",
    "        for i in range(1, m):\n",
    "            for j in range(1, n):\n",
    "                if matrix[i][j] == 0:\n",
    "                    matrix[i][0] = 0\n",
    "                    matrix[0][j] = 0\n",
    "\n",
    "        for i in range(1, m):\n",
    "            if matrix[i][0] == 0:\n",
    "                for j in range(1, n):\n",
    "                    matrix[i][j] = 0\n",
    "        \n",
    "        for j in range(1, n):\n",
    "            if matrix[0][j] == 0:\n",
    "                for i in range(1, m):\n",
    "                    matrix[i][j] = 0\n",
    "        \n",
    "        if first_row_has_zero:\n",
    "            matrix[0] = [0]*n\n",
    "        \n",
    "        if first_col_has_zero:\n",
    "            for i in range(m):\n",
    "                matrix[i][0] = 0"
   ]
  },
  {
   "cell_type": "code",
   "execution_count": null,
   "id": "acaafc1d",
   "metadata": {},
   "outputs": [],
   "source": []
  },
  {
   "cell_type": "code",
   "execution_count": null,
   "id": "d3bcaa54",
   "metadata": {},
   "outputs": [],
   "source": []
  }
 ],
 "metadata": {
  "kernelspec": {
   "display_name": "Python 3 (ipykernel)",
   "language": "python",
   "name": "python3"
  },
  "language_info": {
   "codemirror_mode": {
    "name": "ipython",
    "version": 3
   },
   "file_extension": ".py",
   "mimetype": "text/x-python",
   "name": "python",
   "nbconvert_exporter": "python",
   "pygments_lexer": "ipython3",
   "version": "3.10.0"
  }
 },
 "nbformat": 4,
 "nbformat_minor": 5
}
