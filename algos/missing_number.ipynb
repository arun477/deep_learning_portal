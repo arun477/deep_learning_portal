{
 "cells": [
  {
   "cell_type": "markdown",
   "id": "b9ed8871",
   "metadata": {},
   "source": [
    "https://leetcode.com/problems/missing-number/description/?envType=list&envId=xi4ci4ig (ref)"
   ]
  },
  {
   "cell_type": "markdown",
   "id": "c8a06b34",
   "metadata": {},
   "source": [
    "```python\n",
    "Given an array nums containing n distinct numbers in the range [0, n], return the only number in the range that is missing from the array.\n",
    "\n",
    " \n",
    "\n",
    "Example 1:\n",
    "\n",
    "Input: nums = [3,0,1]\n",
    "Output: 2\n",
    "Explanation: n = 3 since there are 3 numbers, so all numbers are in the range [0,3]. 2 is the missing number in the range since it does not appear in nums.\n",
    "Example 2:\n",
    "\n",
    "Input: nums = [0,1]\n",
    "Output: 2\n",
    "Explanation: n = 2 since there are 2 numbers, so all numbers are in the range [0,2]. 2 is the missing number in the range since it does not appear in nums.\n",
    "Example 3:\n",
    "\n",
    "Input: nums = [9,6,4,2,3,5,7,0,1]\n",
    "Output: 8\n",
    "Explanation: n = 9 since there are 9 numbers, so all numbers are in the range [0,9]. 8 is the missing number in the range since it does not appear in nums.\n",
    " \n",
    "\n",
    "Constraints:\n",
    "\n",
    "n == nums.length\n",
    "1 <= n <= 104\n",
    "0 <= nums[i] <= n\n",
    "All the numbers of nums are unique.\n",
    " \n",
    "\n",
    "Follow up: Could you implement a solution using only O(1) extra space complexity and O(n) runtime complexity?\n",
    "\n",
    "```"
   ]
  },
  {
   "cell_type": "code",
   "execution_count": 2,
   "id": "0cfface6",
   "metadata": {},
   "outputs": [],
   "source": [
    "# n: nlogn\n",
    "# s: 1\n",
    "# 112ms"
   ]
  },
  {
   "cell_type": "code",
   "execution_count": 3,
   "id": "d39de686",
   "metadata": {},
   "outputs": [],
   "source": [
    "class Solution:\n",
    "    def missingNumber(self, nums):\n",
    "        nums.sort()\n",
    "        n = len(nums)\n",
    "        for i in range(n+1):\n",
    "            if i >= n:\n",
    "                return i\n",
    "            if i != nums[i]:\n",
    "                return i\n",
    "        return 0    "
   ]
  },
  {
   "cell_type": "code",
   "execution_count": 4,
   "id": "ab11dd94",
   "metadata": {},
   "outputs": [],
   "source": [
    "# n: n\n",
    "# s: 1\n",
    "# 104ms\n",
    "# sum of first n natural numbers"
   ]
  },
  {
   "cell_type": "code",
   "execution_count": 5,
   "id": "5633a92e",
   "metadata": {},
   "outputs": [],
   "source": [
    "class Solution:\n",
    "    def missingNumber(self, nums):\n",
    "        n = len(nums)\n",
    "        range_sum = int((n*(n+1))/2)\n",
    "        s = 0\n",
    "        for i in range(n):\n",
    "            s += nums[i]\n",
    "        \n",
    "        return range_sum-s"
   ]
  },
  {
   "cell_type": "code",
   "execution_count": null,
   "id": "3ef103c7",
   "metadata": {},
   "outputs": [],
   "source": []
  }
 ],
 "metadata": {
  "kernelspec": {
   "display_name": "Python 3 (ipykernel)",
   "language": "python",
   "name": "python3"
  },
  "language_info": {
   "codemirror_mode": {
    "name": "ipython",
    "version": 3
   },
   "file_extension": ".py",
   "mimetype": "text/x-python",
   "name": "python",
   "nbconvert_exporter": "python",
   "pygments_lexer": "ipython3",
   "version": "3.9.7"
  }
 },
 "nbformat": 4,
 "nbformat_minor": 5
}
