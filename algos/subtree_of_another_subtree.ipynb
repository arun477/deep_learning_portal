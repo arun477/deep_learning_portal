{
 "cells": [
  {
   "cell_type": "markdown",
   "id": "c5a5ad4a",
   "metadata": {},
   "source": [
    "https://leetcode.com/problems/subtree-of-another-tree/description/?envType=list&envId=xi4ci4ig (ref)"
   ]
  },
  {
   "cell_type": "markdown",
   "id": "e06e7370",
   "metadata": {},
   "source": [
    "```python\n",
    "\n",
    "Given the roots of two binary trees root and subRoot, return true if there is a subtree of root with the same structure and node values of subRoot and false otherwise.\n",
    "\n",
    "A subtree of a binary tree tree is a tree that consists of a node in tree and all of this node's descendants. The tree tree could also be considered as a subtree of itself.\n",
    "\n",
    " \n",
    "\n",
    "Example 1:\n",
    "\n",
    "\n",
    "Input: root = [3,4,5,1,2], subRoot = [4,1,2]\n",
    "Output: true\n",
    "Example 2:\n",
    "\n",
    "\n",
    "Input: root = [3,4,5,1,2,null,null,null,null,0], subRoot = [4,1,2]\n",
    "Output: false\n",
    " \n",
    "\n",
    "Constraints:\n",
    "\n",
    "The number of nodes in the root tree is in the range [1, 2000].\n",
    "The number of nodes in the subRoot tree is in the range [1, 1000].\n",
    "-104 <= root.val <= 104\n",
    "-104 <= subRoot.val <= 104\n",
    "```"
   ]
  },
  {
   "cell_type": "code",
   "execution_count": null,
   "id": "908e17ed",
   "metadata": {},
   "outputs": [],
   "source": []
  }
 ],
 "metadata": {
  "kernelspec": {
   "display_name": "Python 3 (ipykernel)",
   "language": "python",
   "name": "python3"
  },
  "language_info": {
   "codemirror_mode": {
    "name": "ipython",
    "version": 3
   },
   "file_extension": ".py",
   "mimetype": "text/x-python",
   "name": "python",
   "nbconvert_exporter": "python",
   "pygments_lexer": "ipython3",
   "version": "3.9.7"
  }
 },
 "nbformat": 4,
 "nbformat_minor": 5
}
