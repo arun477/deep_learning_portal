{
 "cells": [
  {
   "cell_type": "markdown",
   "id": "39e46b7d",
   "metadata": {},
   "source": [
    "https://leetcode.com/problems/merge-intervals/description/?envType=list&envId=xi4ci4ig (ref)"
   ]
  },
  {
   "cell_type": "markdown",
   "id": "518c92cc",
   "metadata": {},
   "source": [
    "Given an array of intervals where intervals[i] = [starti, endi], merge all overlapping intervals, and return an array of the non-overlapping intervals that cover all the intervals in the input.\n",
    "\n",
    " \n",
    "\n",
    "Example 1:\n",
    "\n",
    "Input: intervals = [[1,3],[2,6],[8,10],[15,18]]\n",
    "Output: [[1,6],[8,10],[15,18]]\n",
    "Explanation: Since intervals [1,3] and [2,6] overlap, merge them into [1,6].\n",
    "Example 2:\n",
    "\n",
    "Input: intervals = [[1,4],[4,5]]\n",
    "Output: [[1,5]]\n",
    "Explanation: Intervals [1,4] and [4,5] are considered overlapping.\n",
    " \n",
    "\n",
    "Constraints:\n",
    "\n",
    "1 <= intervals.length <= 104\n",
    "intervals[i].length == 2\n",
    "0 <= starti <= endi <= 104m"
   ]
  },
  {
   "cell_type": "code",
   "execution_count": null,
   "id": "039d1581",
   "metadata": {},
   "outputs": [],
   "source": [
    "# n: n^2\n",
    "# s: n\n",
    "# naive approach"
   ]
  },
  {
   "cell_type": "code",
   "execution_count": 20,
   "id": "cf2194c4",
   "metadata": {},
   "outputs": [],
   "source": [
    "class Solution:\n",
    "    def merge(self, intervals):\n",
    "        result, n = [], len(intervals)\n",
    "        intervals.sort(key=lambda x: x[0])\n",
    "        merged = set()\n",
    "        for i in range(n):\n",
    "            if i in merged:\n",
    "                continue\n",
    "            interval = intervals[i][:]\n",
    "            for j in range(i+1, n):\n",
    "                if interval[1] >= intervals[j][0] and interval[1]<=intervals[j][1]:\n",
    "                    interval[1] = intervals[j][1]\n",
    "                    merged.add(j)\n",
    "                elif interval[1]>intervals[j][1]:\n",
    "                    merged.add(j)\n",
    "            result.append(interval)\n",
    "        return result       "
   ]
  },
  {
   "cell_type": "code",
   "execution_count": 21,
   "id": "ea57abd2",
   "metadata": {},
   "outputs": [],
   "source": [
    "# n: nlogn\n",
    "# s: 1\n",
    "\n",
    "class Solution:\n",
    "    def merge(self, intervals):\n",
    "        if not intervals:\n",
    "            return []\n",
    "        \n",
    "        intervals.sort(key=lambda x: x[0])\n",
    "        result = [intervals[0]]\n",
    "        for i in range(1, len(intervals)):\n",
    "            curr_start, curr_end = intervals[i]\n",
    "            prev_start, prev_end = result[-1]\n",
    "            \n",
    "            if curr_start <= prev_end:\n",
    "                result[-1] = [prev_start, max(prev_end, curr_end)]\n",
    "            else:\n",
    "                result.append([curr_start, curr_end])\n",
    "        \n",
    "        return result"
   ]
  },
  {
   "cell_type": "code",
   "execution_count": null,
   "id": "3ddcc533",
   "metadata": {},
   "outputs": [],
   "source": []
  }
 ],
 "metadata": {
  "kernelspec": {
   "display_name": "Python 3 (ipykernel)",
   "language": "python",
   "name": "python3"
  },
  "language_info": {
   "codemirror_mode": {
    "name": "ipython",
    "version": 3
   },
   "file_extension": ".py",
   "mimetype": "text/x-python",
   "name": "python",
   "nbconvert_exporter": "python",
   "pygments_lexer": "ipython3",
   "version": "3.9.7"
  }
 },
 "nbformat": 4,
 "nbformat_minor": 5
}
