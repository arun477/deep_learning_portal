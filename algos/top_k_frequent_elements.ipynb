{
 "cells": [
  {
   "cell_type": "markdown",
   "id": "06219b52",
   "metadata": {},
   "source": [
    "https://leetcode.com/problems/top-k-frequent-elements/?envType=list&envId=xi4ci4ig (ref)"
   ]
  },
  {
   "cell_type": "markdown",
   "id": "a049f91d",
   "metadata": {},
   "source": [
    "```python\n",
    "\n",
    "Given an integer array nums and an integer k, return the k most frequent elements. You may return the answer in any order.\n",
    "\n",
    " \n",
    "\n",
    "Example 1:\n",
    "\n",
    "Input: nums = [1,1,1,2,2,3], k = 2\n",
    "Output: [1,2]\n",
    "Example 2:\n",
    "\n",
    "Input: nums = [1], k = 1\n",
    "Output: [1]\n",
    " \n",
    "\n",
    "Constraints:\n",
    "\n",
    "1 <= nums.length <= 105\n",
    "-104 <= nums[i] <= 104\n",
    "k is in the range [1, the number of unique elements in the array].\n",
    "It is guaranteed that the answer is unique.\n",
    " \n",
    "\n",
    "Follow up: Your algorithm's time complexity must be better than O(n log n), where n is the array's size.\n",
    "\n",
    "```"
   ]
  },
  {
   "cell_type": "code",
   "execution_count": 13,
   "id": "ddef38e3",
   "metadata": {},
   "outputs": [],
   "source": [
    "# n: nlogn\n",
    "# s: n\n",
    "# 79ms\n",
    "# sorting"
   ]
  },
  {
   "cell_type": "code",
   "execution_count": 14,
   "id": "60e83d7e",
   "metadata": {},
   "outputs": [],
   "source": [
    "class Solution:\n",
    "    def topKFrequent(self, nums, k: int):\n",
    "        count = {}\n",
    "        for num in nums:\n",
    "            count[num] = count.get(num, 0) + 1\n",
    "        o = [ele[0] for ele in sorted([ele for ele in count.items()], key=lambda x: x[1], reverse=True)]\n",
    "        return o[:k]"
   ]
  },
  {
   "cell_type": "code",
   "execution_count": null,
   "id": "008cc299",
   "metadata": {},
   "outputs": [],
   "source": [
    "# n: nlogn\n",
    "# s: n\n",
    "# 79ms\n",
    "# heap priority queue"
   ]
  },
  {
   "cell_type": "code",
   "execution_count": 22,
   "id": "92a348f7",
   "metadata": {},
   "outputs": [],
   "source": [
    "import heapq\n",
    "from collections import Counter\n",
    "\n",
    "class Solution:\n",
    "    def topKFrequent(self, nums, k: int):\n",
    "        counts = Counter(nums)\n",
    "\n",
    "        heap = []\n",
    "        for kv in counts.items():\n",
    "            heap.append((-kv[1], kv[0]))\n",
    "        heapq.heapify(heap)\n",
    "        \n",
    "        visited = set()\n",
    "        while heap and len(visited) < k:\n",
    "            kv = heapq.heappop(heap)\n",
    "            visited.add(kv[1])\n",
    "\n",
    "        return list(visited)\n",
    "            \n",
    "            "
   ]
  },
  {
   "cell_type": "code",
   "execution_count": null,
   "id": "10aa4a2c",
   "metadata": {},
   "outputs": [],
   "source": []
  }
 ],
 "metadata": {
  "kernelspec": {
   "display_name": "Python 3 (ipykernel)",
   "language": "python",
   "name": "python3"
  },
  "language_info": {
   "codemirror_mode": {
    "name": "ipython",
    "version": 3
   },
   "file_extension": ".py",
   "mimetype": "text/x-python",
   "name": "python",
   "nbconvert_exporter": "python",
   "pygments_lexer": "ipython3",
   "version": "3.9.7"
  }
 },
 "nbformat": 4,
 "nbformat_minor": 5
}
