{
 "cells": [
  {
   "cell_type": "markdown",
   "id": "3dbd1884",
   "metadata": {},
   "source": [
    "https://leetcode.com/problems/minimum-window-substring/description/?envType=list&envId=xi4ci4ig (ref)"
   ]
  },
  {
   "cell_type": "markdown",
   "id": "7fa75a9e",
   "metadata": {},
   "source": [
    "Given two strings s and t of lengths m and n respectively, return the minimum window \n",
    "substring\n",
    " of s such that every character in t (including duplicates) is included in the window. If there is no such substring, return the empty string \"\".\n",
    "\n",
    "The testcases will be generated such that the answer is unique.\n",
    "\n",
    " \n",
    "\n",
    "Example 1:\n",
    "\n",
    "Input: s = \"ADOBECODEBANC\", t = \"ABC\"\n",
    "Output: \"BANC\"\n",
    "Explanation: The minimum window substring \"BANC\" includes 'A', 'B', and 'C' from string t.\n",
    "Example 2:\n",
    "\n",
    "Input: s = \"a\", t = \"a\"\n",
    "Output: \"a\"\n",
    "Explanation: The entire string s is the minimum window.\n",
    "Example 3:\n",
    "\n",
    "Input: s = \"a\", t = \"aa\"\n",
    "Output: \"\"\n",
    "Explanation: Both 'a's from t must be included in the window.\n",
    "Since the largest window of s only has one 'a', return empty string.\n",
    " \n",
    "\n",
    "Constraints:\n",
    "\n",
    "m == s.length\n",
    "n == t.length\n",
    "1 <= m, n <= 105\n",
    "s and t consist of uppercase and lowercase English letters.\n",
    " \n",
    "\n",
    "Follow up: Could you find an algorithm that runs in O(m + n) time?"
   ]
  },
  {
   "cell_type": "code",
   "execution_count": 4,
   "id": "fa078065",
   "metadata": {},
   "outputs": [],
   "source": [
    "# n: n^3\n",
    "# s: n\n",
    "# tle"
   ]
  },
  {
   "cell_type": "code",
   "execution_count": 5,
   "id": "cea798bc",
   "metadata": {},
   "outputs": [],
   "source": [
    "import math\n",
    "\n",
    "class Solution:\n",
    "    def minWindow(self, s: str, t: str) -> str:\n",
    "        min_len = math.inf\n",
    "        min_sub = \"\" \n",
    "        \n",
    "        for i in range(len(s)):\n",
    "            for j in range(i, len(s)):\n",
    "                sub_str_lst = list(s[i:j+1])\n",
    "                all_exists = True\n",
    "                for ch in t:\n",
    "                    if ch in sub_str_lst:\n",
    "                        sub_str_lst.pop(sub_str_lst.index(ch))\n",
    "                    else:\n",
    "                        all_exists = False\n",
    "                        break\n",
    "\n",
    "                if all_exists and min_len > len(s[i:j+1]):\n",
    "                    min_sub = s[i:j+1]\n",
    "                    min_len = len(s[i:j+1])\n",
    "        \n",
    "        return min_sub"
   ]
  },
  {
   "cell_type": "code",
   "execution_count": 6,
   "id": "0832205d",
   "metadata": {},
   "outputs": [
    {
     "data": {
      "text/plain": [
       "Counter({'a': 1, 'r': 1})"
      ]
     },
     "execution_count": 6,
     "metadata": {},
     "output_type": "execute_result"
    }
   ],
   "source": [
    "from collections import Counter\n",
    "\n",
    "t = 'ar'\n",
    "c = Counter(t)\n",
    "c"
   ]
  },
  {
   "cell_type": "code",
   "execution_count": 7,
   "id": "a2092d16",
   "metadata": {},
   "outputs": [
    {
     "data": {
      "text/plain": [
       "Counter({'a': 1, 'r': 1, 'k': 1})"
      ]
     },
     "execution_count": 7,
     "metadata": {},
     "output_type": "execute_result"
    }
   ],
   "source": [
    "c['k'] += 1\n",
    "c"
   ]
  },
  {
   "cell_type": "code",
   "execution_count": null,
   "id": "4c581503",
   "metadata": {},
   "outputs": [],
   "source": []
  }
 ],
 "metadata": {
  "kernelspec": {
   "display_name": "Python 3 (ipykernel)",
   "language": "python",
   "name": "python3"
  },
  "language_info": {
   "codemirror_mode": {
    "name": "ipython",
    "version": 3
   },
   "file_extension": ".py",
   "mimetype": "text/x-python",
   "name": "python",
   "nbconvert_exporter": "python",
   "pygments_lexer": "ipython3",
   "version": "3.9.7"
  }
 },
 "nbformat": 4,
 "nbformat_minor": 5
}
