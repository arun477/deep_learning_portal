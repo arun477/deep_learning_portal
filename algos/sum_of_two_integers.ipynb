{
 "cells": [
  {
   "cell_type": "markdown",
   "id": "c2360961",
   "metadata": {},
   "source": [
    "https://leetcode.com/problems/sum-of-two-integers/description/?envType=list&envId=xi4ci4ig (ref)"
   ]
  },
  {
   "cell_type": "markdown",
   "id": "541c60cd",
   "metadata": {},
   "source": [
    "```python\n",
    "\n",
    "Given two integers a and b, return the sum of the two integers without using the operators + and -.\n",
    "\n",
    " \n",
    "\n",
    "Example 1:\n",
    "\n",
    "Input: a = 1, b = 2\n",
    "Output: 3\n",
    "Example 2:\n",
    "\n",
    "Input: a = 2, b = 3\n",
    "Output: 5\n",
    " \n",
    "\n",
    "Constraints:\n",
    "\n",
    "-1000 <= a, b <= 1000\n",
    "\n",
    "```"
   ]
  },
  {
   "cell_type": "code",
   "execution_count": 67,
   "id": "c6a84218",
   "metadata": {},
   "outputs": [],
   "source": [
    "# n :1\n",
    "# s : 1\n",
    "# 30ms\n",
    "# bit manipulation\n",
    "# not quite got the picture"
   ]
  },
  {
   "cell_type": "code",
   "execution_count": 69,
   "id": "ac9da4f5",
   "metadata": {},
   "outputs": [],
   "source": [
    "class Solution:\n",
    "    def getSum(self, a: int, b: int) -> int:\n",
    "        mask = 0xFFFFFFFF\n",
    "        _max = 0x7FFFFFFF\n",
    "        \n",
    "        while b != 0:\n",
    "            a, b = (a^b) & mask, ((a&b)<<1) & mask\n",
    "        \n",
    "        return a if a <= _max else ~(a^mask)"
   ]
  },
  {
   "cell_type": "code",
   "execution_count": null,
   "id": "92945504",
   "metadata": {},
   "outputs": [],
   "source": []
  },
  {
   "cell_type": "code",
   "execution_count": null,
   "id": "7071fde7",
   "metadata": {},
   "outputs": [],
   "source": []
  },
  {
   "cell_type": "code",
   "execution_count": null,
   "id": "05684fa1",
   "metadata": {},
   "outputs": [],
   "source": []
  }
 ],
 "metadata": {
  "kernelspec": {
   "display_name": "Python 3 (ipykernel)",
   "language": "python",
   "name": "python3"
  },
  "language_info": {
   "codemirror_mode": {
    "name": "ipython",
    "version": 3
   },
   "file_extension": ".py",
   "mimetype": "text/x-python",
   "name": "python",
   "nbconvert_exporter": "python",
   "pygments_lexer": "ipython3",
   "version": "3.9.7"
  }
 },
 "nbformat": 4,
 "nbformat_minor": 5
}
