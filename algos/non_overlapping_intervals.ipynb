{
 "cells": [
  {
   "cell_type": "markdown",
   "id": "b3482f8f",
   "metadata": {},
   "source": [
    "https://leetcode.com/problems/non-overlapping-intervals/description/?envType=list&envId=xi4ci4ig (ref)"
   ]
  },
  {
   "cell_type": "markdown",
   "id": "6871a190",
   "metadata": {},
   "source": [
    "```python\n",
    "\n",
    "Given an array of intervals intervals where intervals[i] = [starti, endi], return the minimum number of intervals you need to remove to make the rest of the intervals non-overlapping.\n",
    "\n",
    " \n",
    "\n",
    "Example 1:\n",
    "\n",
    "Input: intervals = [[1,2],[2,3],[3,4],[1,3]]\n",
    "Output: 1\n",
    "Explanation: [1,3] can be removed and the rest of the intervals are non-overlapping.\n",
    "Example 2:\n",
    "\n",
    "Input: intervals = [[1,2],[1,2],[1,2]]\n",
    "Output: 2\n",
    "Explanation: You need to remove two [1,2] to make the rest of the intervals non-overlapping.\n",
    "Example 3:\n",
    "\n",
    "Input: intervals = [[1,2],[2,3]]\n",
    "Output: 0\n",
    "Explanation: You don't need to remove any of the intervals since they're already non-overlapping.\n",
    " \n",
    "\n",
    "Constraints:\n",
    "\n",
    "1 <= intervals.length <= 105\n",
    "intervals[i].length == 2\n",
    "-5 * 104 <= starti < endi <= 5 * 104\n",
    "\n",
    "\n",
    "```"
   ]
  },
  {
   "cell_type": "code",
   "execution_count": 5,
   "id": "f934dad0",
   "metadata": {},
   "outputs": [],
   "source": [
    "# n: nlogn\n",
    "# s: 1\n",
    "# 1080ms\n",
    "# sorting; greedy."
   ]
  },
  {
   "cell_type": "code",
   "execution_count": 6,
   "id": "6b60a9a2",
   "metadata": {},
   "outputs": [],
   "source": [
    "class Solution:\n",
    "    def eraseOverlapIntervals(self, intervals):\n",
    "        if not intervals:\n",
    "            return 0\n",
    "\n",
    "        intervals.sort(key=lambda x: x[1])\n",
    "        \n",
    "        prev_interval = intervals[0]\n",
    "        count = 0\n",
    "        \n",
    "        for i in range(1, len(intervals)):\n",
    "            curr_interval = intervals[i]\n",
    "            if prev_interval[1] > curr_interval[0]:\n",
    "                count += 1\n",
    "            else:\n",
    "                prev_interval = curr_interval\n",
    "        \n",
    "        return count"
   ]
  },
  {
   "cell_type": "code",
   "execution_count": null,
   "id": "7a97964f",
   "metadata": {},
   "outputs": [],
   "source": []
  }
 ],
 "metadata": {
  "kernelspec": {
   "display_name": "Python 3 (ipykernel)",
   "language": "python",
   "name": "python3"
  },
  "language_info": {
   "codemirror_mode": {
    "name": "ipython",
    "version": 3
   },
   "file_extension": ".py",
   "mimetype": "text/x-python",
   "name": "python",
   "nbconvert_exporter": "python",
   "pygments_lexer": "ipython3",
   "version": "3.9.7"
  }
 },
 "nbformat": 4,
 "nbformat_minor": 5
}
