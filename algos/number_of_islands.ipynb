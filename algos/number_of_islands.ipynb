{
 "cells": [
  {
   "cell_type": "markdown",
   "id": "efa25ea4",
   "metadata": {},
   "source": [
    "https://leetcode.com/problems/number-of-islands/description/?envType=list&envId=xi4ci4ig (ref)"
   ]
  },
  {
   "cell_type": "markdown",
   "id": "d61448e6",
   "metadata": {},
   "source": [
    "```python\n",
    "Given an m x n 2D binary grid grid which represents a map of '1's (land) and '0's (water), return the number of islands.\n",
    "\n",
    "An island is surrounded by water and is formed by connecting adjacent lands horizontally or vertically. You may assume all four edges of the grid are all surrounded by water.\n",
    "\n",
    " \n",
    "\n",
    "Example 1:\n",
    "\n",
    "Input: grid = [\n",
    "  [\"1\",\"1\",\"1\",\"1\",\"0\"],\n",
    "  [\"1\",\"1\",\"0\",\"1\",\"0\"],\n",
    "  [\"1\",\"1\",\"0\",\"0\",\"0\"],\n",
    "  [\"0\",\"0\",\"0\",\"0\",\"0\"]\n",
    "]\n",
    "Output: 1\n",
    "Example 2:\n",
    "\n",
    "Input: grid = [\n",
    "  [\"1\",\"1\",\"0\",\"0\",\"0\"],\n",
    "  [\"1\",\"1\",\"0\",\"0\",\"0\"],\n",
    "  [\"0\",\"0\",\"1\",\"0\",\"0\"],\n",
    "  [\"0\",\"0\",\"0\",\"1\",\"1\"]\n",
    "]\n",
    "Output: 3\n",
    " \n",
    "\n",
    "Constraints:\n",
    "\n",
    "m == grid.length\n",
    "n == grid[i].length\n",
    "1 <= m, n <= 300\n",
    "grid[i][j] is '0' or '1'.\n",
    "\n",
    "```"
   ]
  },
  {
   "cell_type": "code",
   "execution_count": 10,
   "id": "50abfbca",
   "metadata": {},
   "outputs": [],
   "source": [
    "# n: m*n\n",
    "# s: m*n\n",
    "# 231ms\n",
    "# dfs"
   ]
  },
  {
   "cell_type": "code",
   "execution_count": 7,
   "id": "04a88f07",
   "metadata": {},
   "outputs": [],
   "source": [
    "class Solution:\n",
    "    def numIslands(self, grid) -> int:\n",
    "        if not grid:\n",
    "            return 0\n",
    "\n",
    "        m, n = len(grid), len(grid[0])\n",
    "        def check_island(row, col):\n",
    "            if row >= m or row < 0 or col >= n or col < 0 or grid[row][col]=='0':\n",
    "                return \n",
    "            \n",
    "            grid[row][col] = '0'\n",
    "\n",
    "            check_island(row+1, col)\n",
    "            check_island(row-1, col)\n",
    "            check_island(row, col+1)\n",
    "            check_island(row, col-1)\n",
    "        \n",
    "        num_islands = 0\n",
    "        for i in range(m):\n",
    "            for j in range(n):\n",
    "                if grid[i][j]=='1':\n",
    "                    num_islands +=1\n",
    "                    check_island(i, j)\n",
    "        \n",
    "        return num_islands"
   ]
  },
  {
   "cell_type": "code",
   "execution_count": 15,
   "id": "a8404c86",
   "metadata": {},
   "outputs": [],
   "source": [
    "# n: m*n\n",
    "# s: m*n\n",
    "# 246ms\n",
    "# bfs"
   ]
  },
  {
   "cell_type": "code",
   "execution_count": 17,
   "id": "79e49e3b",
   "metadata": {},
   "outputs": [],
   "source": [
    "from collections import deque\n",
    "\n",
    "class Solution:\n",
    "    def numIslands(self, grid):\n",
    "        if not grid:\n",
    "            return 0\n",
    "\n",
    "        m, n = len(grid), len(grid[0])\n",
    "        num_islands = 0\n",
    "\n",
    "        def bfs(row, col):\n",
    "            q = deque([(row, col)])\n",
    "            while q:\n",
    "                x, y = q.popleft()\n",
    "\n",
    "                if 0 <= x < m and 0 <= y < n and grid[x][y] == '1':\n",
    "                    grid[x][y] = '0'\n",
    "                    q.extend([(x, y+1), (x, y-1), (x+1, y), (x-1, y)])\n",
    "        \n",
    "        for i in range(m):\n",
    "            for j in range(n):\n",
    "                if grid[i][j] == '1':\n",
    "                    num_islands += 1\n",
    "                    bfs(i, j)\n",
    "\n",
    "        return num_islands"
   ]
  },
  {
   "cell_type": "code",
   "execution_count": 20,
   "id": "959d9b65",
   "metadata": {},
   "outputs": [],
   "source": [
    "# union find or disjoint set data structure"
   ]
  },
  {
   "cell_type": "markdown",
   "id": "85c44999",
   "metadata": {},
   "source": [
    "https://chat.openai.com/c/7eb62cb0-40c1-4087-aff6-95b295156bf2 (ref) <br/>\n",
    "https://cp-algorithms.com/data_structures/disjoint_set_union.html (ref)"
   ]
  },
  {
   "cell_type": "code",
   "execution_count": 25,
   "id": "8a78542f",
   "metadata": {},
   "outputs": [],
   "source": [
    "def make_set(v):\n",
    "    parent[v] = v\n",
    "\n",
    "# n: n\n",
    "def find_set(v):\n",
    "    if parent[v] == v:\n",
    "        return v\n",
    "    return find_set(parent[v])\n",
    "\n",
    "def union_sets(a, b):\n",
    "    a = find_set(a)\n",
    "    b = find_set(b)\n",
    "    if(a != b):\n",
    "        parent[b] = a"
   ]
  },
  {
   "cell_type": "code",
   "execution_count": 32,
   "id": "33536f43",
   "metadata": {},
   "outputs": [],
   "source": [
    "# n: logn : thise achevied on avergage\n",
    "# path compression\n",
    "def find_set(v):\n",
    "    if parent[v] == v:\n",
    "        return v\n",
    "    parent[v] = find_set(parent[v])\n",
    "    return parent[v]"
   ]
  },
  {
   "cell_type": "code",
   "execution_count": 33,
   "id": "ce60d049",
   "metadata": {},
   "outputs": [],
   "source": [
    "def make_set(v):\n",
    "    parent[v] = v\n",
    "    size[v] = 1\n",
    "\n",
    "# union by size/rank\n",
    "def union_sets(a, b):\n",
    "    a = find_set(a)\n",
    "    b = find_set(b)\n",
    "    if a != b:\n",
    "        if size[a] < size[b]:\n",
    "            a, b = b, a\n",
    "        parent[b] = a\n",
    "        size[a] += size[b]"
   ]
  },
  {
   "cell_type": "code",
   "execution_count": null,
   "id": "06f889e2",
   "metadata": {},
   "outputs": [],
   "source": []
  },
  {
   "cell_type": "code",
   "execution_count": 23,
   "id": "15fb9779",
   "metadata": {},
   "outputs": [],
   "source": [
    "class UnionFind:\n",
    "    def __init__(self, n):\n",
    "        self.parent = [i for i in range(n)]\n",
    "        self.rank = [0] * n\n",
    "    \n",
    "    def find(self, x):\n",
    "        if self.parent[x] != x:\n",
    "            self.parent[x] = self.find(self.parent[x])\n",
    "        return self.parent[x]\n",
    "    \n",
    "    def union(self, x, y):\n",
    "        x_root = self.find(x)\n",
    "        y_root = self.find(y)\n",
    "        \n",
    "        if x_root != y_root:\n",
    "            if self.rank[root_x] < self.rank[root_y]:\n",
    "                self.parent[root_x] = root_y\n",
    "            elif self.rank[root_x] > self.rank[root_y]:\n",
    "                self.parent[root_y] = root_x\n",
    "            else:\n",
    "                self.parent[root_x] = root_y\n",
    "                self.rank[root_y] += 1"
   ]
  },
  {
   "cell_type": "code",
   "execution_count": null,
   "id": "3c4f040c",
   "metadata": {},
   "outputs": [],
   "source": []
  }
 ],
 "metadata": {
  "kernelspec": {
   "display_name": "Python 3 (ipykernel)",
   "language": "python",
   "name": "python3"
  },
  "language_info": {
   "codemirror_mode": {
    "name": "ipython",
    "version": 3
   },
   "file_extension": ".py",
   "mimetype": "text/x-python",
   "name": "python",
   "nbconvert_exporter": "python",
   "pygments_lexer": "ipython3",
   "version": "3.9.7"
  }
 },
 "nbformat": 4,
 "nbformat_minor": 5
}
