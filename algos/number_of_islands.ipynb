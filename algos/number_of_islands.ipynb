{
 "cells": [
  {
   "cell_type": "markdown",
   "id": "b9db2b4b",
   "metadata": {},
   "source": [
    "https://leetcode.com/problems/number-of-islands/description/?envType=list&envId=xi4ci4ig (ref)"
   ]
  },
  {
   "cell_type": "markdown",
   "id": "ac39ad3f",
   "metadata": {},
   "source": [
    "```python\n",
    "Given an m x n 2D binary grid grid which represents a map of '1's (land) and '0's (water), return the number of islands.\n",
    "\n",
    "An island is surrounded by water and is formed by connecting adjacent lands horizontally or vertically. You may assume all four edges of the grid are all surrounded by water.\n",
    "\n",
    " \n",
    "\n",
    "Example 1:\n",
    "\n",
    "Input: grid = [\n",
    "  [\"1\",\"1\",\"1\",\"1\",\"0\"],\n",
    "  [\"1\",\"1\",\"0\",\"1\",\"0\"],\n",
    "  [\"1\",\"1\",\"0\",\"0\",\"0\"],\n",
    "  [\"0\",\"0\",\"0\",\"0\",\"0\"]\n",
    "]\n",
    "Output: 1\n",
    "Example 2:\n",
    "\n",
    "Input: grid = [\n",
    "  [\"1\",\"1\",\"0\",\"0\",\"0\"],\n",
    "  [\"1\",\"1\",\"0\",\"0\",\"0\"],\n",
    "  [\"0\",\"0\",\"1\",\"0\",\"0\"],\n",
    "  [\"0\",\"0\",\"0\",\"1\",\"1\"]\n",
    "]\n",
    "Output: 3\n",
    " \n",
    "\n",
    "Constraints:\n",
    "\n",
    "m == grid.length\n",
    "n == grid[i].length\n",
    "1 <= m, n <= 300\n",
    "grid[i][j] is '0' or '1'.\n",
    "\n",
    "```"
   ]
  },
  {
   "cell_type": "code",
   "execution_count": 50,
   "id": "0b3e7295",
   "metadata": {},
   "outputs": [],
   "source": [
    "# n: m*n\n",
    "# s: m*n\n",
    "# 231ms\n",
    "# dfs"
   ]
  },
  {
   "cell_type": "code",
   "execution_count": 51,
   "id": "d9d2bfb4",
   "metadata": {},
   "outputs": [],
   "source": [
    "class Solution:\n",
    "    def numIslands(self, grid) -> int:\n",
    "        if not grid:\n",
    "            return 0\n",
    "\n",
    "        m, n = len(grid), len(grid[0])\n",
    "        def check_island(row, col):\n",
    "            if row >= m or row < 0 or col >= n or col < 0 or grid[row][col]=='0':\n",
    "                return \n",
    "            \n",
    "            grid[row][col] = '0'\n",
    "\n",
    "            check_island(row+1, col)\n",
    "            check_island(row-1, col)\n",
    "            check_island(row, col+1)\n",
    "            check_island(row, col-1)\n",
    "        \n",
    "        num_islands = 0\n",
    "        for i in range(m):\n",
    "            for j in range(n):\n",
    "                if grid[i][j]=='1':\n",
    "                    num_islands +=1\n",
    "                    check_island(i, j)\n",
    "        \n",
    "        return num_islands"
   ]
  },
  {
   "cell_type": "code",
   "execution_count": 52,
   "id": "2ba92f9f",
   "metadata": {},
   "outputs": [],
   "source": [
    "# n: m*n\n",
    "# s: m*n\n",
    "# 246ms\n",
    "# bfs"
   ]
  },
  {
   "cell_type": "code",
   "execution_count": 53,
   "id": "071ac4ed",
   "metadata": {},
   "outputs": [],
   "source": [
    "from collections import deque\n",
    "\n",
    "class Solution:\n",
    "    def numIslands(self, grid):\n",
    "        if not grid:\n",
    "            return 0\n",
    "\n",
    "        m, n = len(grid), len(grid[0])\n",
    "        num_islands = 0\n",
    "\n",
    "        def bfs(row, col):\n",
    "            q = deque([(row, col)])\n",
    "            while q:\n",
    "                x, y = q.popleft()\n",
    "\n",
    "                if 0 <= x < m and 0 <= y < n and grid[x][y] == '1':\n",
    "                    grid[x][y] = '0'\n",
    "                    q.extend([(x, y+1), (x, y-1), (x+1, y), (x-1, y)])\n",
    "        \n",
    "        for i in range(m):\n",
    "            for j in range(n):\n",
    "                if grid[i][j] == '1':\n",
    "                    num_islands += 1\n",
    "                    bfs(i, j)\n",
    "\n",
    "        return num_islands"
   ]
  },
  {
   "cell_type": "code",
   "execution_count": 58,
   "id": "af507324",
   "metadata": {},
   "outputs": [],
   "source": [
    "# n: m*n*α(n)\n",
    "# s: m*n\n",
    "# 287ms\n",
    "# union-find data structure"
   ]
  },
  {
   "cell_type": "code",
   "execution_count": 60,
   "id": "f619086e",
   "metadata": {},
   "outputs": [],
   "source": [
    "class UnionFind:\n",
    "    def __init__(self, n):\n",
    "        self.parent = [i for i in range(n)]\n",
    "        self.rank = [1]*n\n",
    "    \n",
    "    def find_set(self, v):\n",
    "        if self.parent[v] == v:\n",
    "            return v\n",
    "        self.parent[v] = self.find_set(self.parent[v])\n",
    "        return self.parent[v]\n",
    "    \n",
    "    def union_sets(self, a, b):\n",
    "        a = self.find_set(a)\n",
    "        b = self.find_set(b)\n",
    "        if a != b:\n",
    "            if self.rank[a] < self.rank[b]:\n",
    "                a, b = b, a\n",
    "            self.parent[b] = a\n",
    "            self.rank[a] += self.rank[b]\n",
    "\n",
    "class Solution:\n",
    "    def numIslands(self, grid) -> int:\n",
    "        if not grid:\n",
    "            return 0\n",
    "        m, n = len(grid), len(grid[0])\n",
    "        ufind = UnionFind(m*n)\n",
    "        \n",
    "        for i in range(m):\n",
    "            for j in range(n):\n",
    "                if grid[i][j] == '1':\n",
    "                    cell_id = i*n + j\n",
    "                    neighbour_dir = [(0, 1), (0, -1), (1, 0), (-1, 0)]\n",
    "                    for step_m, step_n in neighbour_dir:\n",
    "                        row_step, col_step = i+step_m, j+step_n\n",
    "                        if 0<= row_step < m and 0<= col_step < n and grid[row_step][col_step] == '1':\n",
    "                            neighbour_cell_id = row_step*n + col_step\n",
    "                            ufind.union_sets(cell_id, neighbour_cell_id)\n",
    "        \n",
    "        unique_sets = set()\n",
    "        for i in range(m):\n",
    "            for j in range(n):\n",
    "                if grid[i][j] == '1':\n",
    "                    unique_sets.add(ufind.find_set(i*n+j))\n",
    "            \n",
    "        return len(unique_sets)\n",
    "                    \n",
    "    "
   ]
  },
  {
   "cell_type": "code",
   "execution_count": 61,
   "id": "5756f7ad",
   "metadata": {},
   "outputs": [],
   "source": [
    "# union find or disjoint set data structure"
   ]
  },
  {
   "cell_type": "markdown",
   "id": "0620c559",
   "metadata": {},
   "source": [
    "https://cp-algorithms.com/data_structures/disjoint_set_union.html (ref) <br/>\n",
    "https://medium.com/@satorusasozaki/amortized-time-in-the-time-complexity-of-an-algorithm-6dd9a5d38045 (amortized time complexity)"
   ]
  },
  {
   "cell_type": "code",
   "execution_count": 25,
   "id": "3f0ae3d5",
   "metadata": {},
   "outputs": [],
   "source": [
    "def make_set(v):\n",
    "    parent[v] = v\n",
    "\n",
    "# n: n\n",
    "def find_set(v):\n",
    "    if parent[v] == v:\n",
    "        return v\n",
    "    return find_set(parent[v])\n",
    "\n",
    "def union_sets(a, b):\n",
    "    a = find_set(a)\n",
    "    b = find_set(b)\n",
    "    if(a != b):\n",
    "        parent[b] = a"
   ]
  },
  {
   "cell_type": "code",
   "execution_count": 66,
   "id": "090e1c6b",
   "metadata": {},
   "outputs": [],
   "source": [
    "# n: logn : this achevied on avergage\n",
    "# path compression\n",
    "def find_set(v):\n",
    "    if parent[v] == v:\n",
    "        return v\n",
    "    parent[v] = find_set(parent[v])\n",
    "    return parent[v]"
   ]
  },
  {
   "cell_type": "code",
   "execution_count": 34,
   "id": "1121cd69",
   "metadata": {},
   "outputs": [],
   "source": [
    "def make_set(v):\n",
    "    parent[v] = v\n",
    "    size[v] = 1\n",
    "\n",
    "# union by size/rank\n",
    "def union_sets(a, b):\n",
    "    a = find_set(a)\n",
    "    b = find_set(b)\n",
    "    if a != b:\n",
    "        if size[a] < size[b]:\n",
    "            a, b = b, a\n",
    "        parent[b] = a\n",
    "        size[a] += size[b]"
   ]
  },
  {
   "cell_type": "code",
   "execution_count": 64,
   "id": "369d1920",
   "metadata": {},
   "outputs": [],
   "source": [
    "class UnionFind:\n",
    "    def __init__(self, n):\n",
    "        self.parent = [i for i in range(n)]\n",
    "        self.rank = [1]*n\n",
    "    \n",
    "    def find_set(self, v):\n",
    "        if self.parent[v] == v:\n",
    "            return v\n",
    "        self.parent[v] = self.find_set(self.parent[v])\n",
    "        return self.parent[v]\n",
    "    \n",
    "    def union_sets(self, a, b):\n",
    "        a = self.find_set(a)\n",
    "        b = self.find_set(b)\n",
    "        if a != b:\n",
    "            if self.rank[a] < self.rank[b]:\n",
    "                a, b = b, a\n",
    "            self.parent[b] = a\n",
    "            self.rank[a] += self.rank[b]"
   ]
  },
  {
   "cell_type": "code",
   "execution_count": 65,
   "id": "97dff2c5",
   "metadata": {},
   "outputs": [
    {
     "name": "stdout",
     "output_type": "stream",
     "text": [
      "True\n"
     ]
    }
   ],
   "source": [
    "n = 5  # Number of elements\n",
    "uf = UnionFind(n)\n",
    "\n",
    "uf.union_sets(0, 1)\n",
    "uf.union_sets(2, 3)\n",
    "uf.union_sets(1, 4)\n",
    "\n",
    "print(uf.find_set(0) == uf.find_set(4)) "
   ]
  },
  {
   "cell_type": "code",
   "execution_count": null,
   "id": "d68ffa2a",
   "metadata": {},
   "outputs": [],
   "source": []
  },
  {
   "cell_type": "code",
   "execution_count": null,
   "id": "84cc2769",
   "metadata": {},
   "outputs": [],
   "source": []
  },
  {
   "cell_type": "code",
   "execution_count": null,
   "id": "ccf88654",
   "metadata": {},
   "outputs": [],
   "source": []
  }
 ],
 "metadata": {
  "kernelspec": {
   "display_name": "Python 3 (ipykernel)",
   "language": "python",
   "name": "python3"
  },
  "language_info": {
   "codemirror_mode": {
    "name": "ipython",
    "version": 3
   },
   "file_extension": ".py",
   "mimetype": "text/x-python",
   "name": "python",
   "nbconvert_exporter": "python",
   "pygments_lexer": "ipython3",
   "version": "3.9.7"
  }
 },
 "nbformat": 4,
 "nbformat_minor": 5
}
