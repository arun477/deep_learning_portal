{
 "cells": [
  {
   "cell_type": "markdown",
   "id": "70989e00",
   "metadata": {},
   "source": [
    "https://leetcode.com/problems/longest-increasing-subsequence/description/?envType=list&envId=xi4ci4ig (ref)"
   ]
  },
  {
   "cell_type": "markdown",
   "id": "da568080",
   "metadata": {},
   "source": [
    "```python\n",
    "\n",
    "Given an integer array nums, return the length of the longest strictly increasing \n",
    "subsequence\n",
    ".\n",
    "\n",
    " \n",
    "\n",
    "Example 1:\n",
    "\n",
    "Input: nums = [10,9,2,5,3,7,101,18]\n",
    "Output: 4\n",
    "Explanation: The longest increasing subsequence is [2,3,7,101], therefore the length is 4.\n",
    "Example 2:\n",
    "\n",
    "Input: nums = [0,1,0,3,2,3]\n",
    "Output: 4\n",
    "Example 3:\n",
    "\n",
    "Input: nums = [7,7,7,7,7,7,7]\n",
    "Output: 1\n",
    " \n",
    "\n",
    "Constraints:\n",
    "\n",
    "1 <= nums.length <= 2500\n",
    "-104 <= nums[i] <= 104\n",
    " \n",
    "\n",
    "Follow up: Can you come up with an algorithm that runs in O(n log(n)) time complexity?\n",
    "\n",
    "\n",
    "```"
   ]
  },
  {
   "cell_type": "code",
   "execution_count": 9,
   "id": "1fa2dd71",
   "metadata": {
    "scrolled": true
   },
   "outputs": [],
   "source": [
    "# n: n^2\n",
    "# s: n\n",
    "# 1748ms\n",
    "# dp bottom up"
   ]
  },
  {
   "cell_type": "code",
   "execution_count": 19,
   "id": "8b149e4c",
   "metadata": {},
   "outputs": [],
   "source": [
    "class Solution:\n",
    "    def lengthOfLIS(self, nums):\n",
    "        if not nums:\n",
    "            return 0\n",
    "\n",
    "        n = len(nums)\n",
    "        dp = [1] * n\n",
    "\n",
    "        for i in range(1, n):\n",
    "            for j in range(i):\n",
    "                if nums[i] > nums[j]:\n",
    "                    dp[i] = max(dp[i], dp[j]+1)\n",
    "\n",
    "        return max(dp)"
   ]
  },
  {
   "cell_type": "code",
   "execution_count": 20,
   "id": "e10e9f15",
   "metadata": {},
   "outputs": [],
   "source": [
    "# n: n^2\n",
    "# s: n\n",
    "# 2241\n",
    "# dp top down"
   ]
  },
  {
   "cell_type": "code",
   "execution_count": 21,
   "id": "ca5577e8",
   "metadata": {},
   "outputs": [],
   "source": [
    "class Solution:\n",
    "    def lengthOfLIS(self, nums):\n",
    "        if not nums:\n",
    "            return 0\n",
    "\n",
    "        n = len(nums)\n",
    "        memo = [-1] * n\n",
    "\n",
    "        def lis_recursive(i):\n",
    "            if memo[i] != -1:\n",
    "                return memo[i]\n",
    "\n",
    "            max_length = 1\n",
    "            for j in range(i):\n",
    "                if nums[i] > nums[j]:\n",
    "                    max_length = max(max_length, lis_recursive(j) + 1)\n",
    "\n",
    "            memo[i] = max_length\n",
    "            return max_length\n",
    "\n",
    "        result = 1\n",
    "        for i in range(1, n):\n",
    "            result = max(result, lis_recursive(i))\n",
    "\n",
    "        return result\n"
   ]
  },
  {
   "cell_type": "code",
   "execution_count": 22,
   "id": "21b9d772",
   "metadata": {},
   "outputs": [],
   "source": [
    "# n: logn\n",
    "# s: 1\n",
    "# 73ms\n",
    "# binary search\n",
    "# intuition not quite clear yet"
   ]
  },
  {
   "cell_type": "code",
   "execution_count": 23,
   "id": "7006b43e",
   "metadata": {},
   "outputs": [],
   "source": [
    "class Solution:\n",
    "    def lengthOfLIS(self, nums):\n",
    "        piles = []\n",
    "        \n",
    "        for num in nums:\n",
    "            left, right = 0, len(piles)\n",
    "        \n",
    "            while left < right:\n",
    "                mid = (left + right) // 2\n",
    "                if piles[mid] < num:\n",
    "                    left = mid + 1\n",
    "                else:\n",
    "                    right = mid\n",
    "            \n",
    "            if left == len(piles):\n",
    "                piles.append(num)\n",
    "            else:\n",
    "                piles[left] = num\n",
    "    \n",
    "        return len(piles)"
   ]
  },
  {
   "cell_type": "code",
   "execution_count": 17,
   "id": "f56f84cd",
   "metadata": {},
   "outputs": [],
   "source": [
    "# n: 2^n\n",
    "# s: 2^n : memoization fails because (index,prev_index) are exponential 2^n, not used here.\n",
    "# tle and mle (with memoization)\n",
    "# recursive"
   ]
  },
  {
   "cell_type": "code",
   "execution_count": 18,
   "id": "c90d2b4d",
   "metadata": {},
   "outputs": [],
   "source": [
    "class Solution:\n",
    "    def lengthOfLIS(self, nums):\n",
    "        n = len(nums)\n",
    "       \n",
    "        def count(i, prev_i):\n",
    "            if i >= n:\n",
    "                return 0\n",
    "            \n",
    "            if nums[i] > nums[prev_i]:\n",
    "                return max(1 + count(i+1, i), count(i+1, prev_i))\n",
    "               \n",
    "            else:\n",
    "                return count(i+1, prev_i)\n",
    "            \n",
    "        max_len = 0\n",
    "        for i in range(n):\n",
    "            max_len = max(max_len,1+count(i+1, i))\n",
    "\n",
    "        return max_len\n",
    "        "
   ]
  },
  {
   "cell_type": "code",
   "execution_count": null,
   "id": "4e642123",
   "metadata": {},
   "outputs": [],
   "source": []
  }
 ],
 "metadata": {
  "kernelspec": {
   "display_name": "Python 3 (ipykernel)",
   "language": "python",
   "name": "python3"
  },
  "language_info": {
   "codemirror_mode": {
    "name": "ipython",
    "version": 3
   },
   "file_extension": ".py",
   "mimetype": "text/x-python",
   "name": "python",
   "nbconvert_exporter": "python",
   "pygments_lexer": "ipython3",
   "version": "3.9.7"
  }
 },
 "nbformat": 4,
 "nbformat_minor": 5
}
