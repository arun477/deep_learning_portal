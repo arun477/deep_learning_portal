{
 "cells": [
  {
   "cell_type": "markdown",
   "id": "1555cfc7",
   "metadata": {},
   "source": [
    "https://leetcode.com/problems/course-schedule/description/?envType=list&envId=xi4ci4ig (ref)"
   ]
  },
  {
   "cell_type": "markdown",
   "id": "090bde21",
   "metadata": {},
   "source": [
    "```python \n",
    "There are a total of numCourses courses you have to take, labeled from 0 to numCourses - 1. You are given an array prerequisites where prerequisites[i] = [ai, bi] indicates that you must take course bi first if you want to take course ai.\n",
    "\n",
    "For example, the pair [0, 1], indicates that to take course 0 you have to first take course 1.\n",
    "Return true if you can finish all courses. Otherwise, return false.\n",
    "\n",
    " \n",
    "\n",
    "Example 1:\n",
    "\n",
    "Input: numCourses = 2, prerequisites = [[1,0]]\n",
    "Output: true\n",
    "Explanation: There are a total of 2 courses to take. \n",
    "To take course 1 you should have finished course 0. So it is possible.\n",
    "Example 2:\n",
    "\n",
    "Input: numCourses = 2, prerequisites = [[1,0],[0,1]]\n",
    "Output: false\n",
    "Explanation: There are a total of 2 courses to take. \n",
    "To take course 1 you should have finished course 0, and to take course 0 you should also have finished course 1. So it is impossible.\n",
    " \n",
    "\n",
    "Constraints:\n",
    "\n",
    "1 <= numCourses <= 2000\n",
    "0 <= prerequisites.length <= 5000\n",
    "prerequisites[i].length == 2\n",
    "0 <= ai, bi < numCourses\n",
    "All the pairs prerequisites[i] are unique.\n",
    "\n",
    "```"
   ]
  },
  {
   "cell_type": "code",
   "execution_count": 11,
   "id": "ecb4cbca",
   "metadata": {},
   "outputs": [],
   "source": [
    "# n: n : n = edges + vertices\n",
    "# s: n\n",
    "# 75ms\n",
    "# topological sorting by bfs"
   ]
  },
  {
   "cell_type": "code",
   "execution_count": 12,
   "id": "a5a4992c",
   "metadata": {},
   "outputs": [],
   "source": [
    "from collections import defaultdict, deque\n",
    "\n",
    "class Solution:\n",
    "    def canFinish(self, numCourses: int, prerequisites) -> bool:\n",
    "        graph = defaultdict(list)\n",
    "        in_degree = [0] * numCourses\n",
    "\n",
    "        for pairs in prerequisites:\n",
    "            course, prerequisite = pairs\n",
    "            graph[prerequisite].append(course)\n",
    "            in_degree[course] += 1\n",
    "        \n",
    "        queue = deque([course for course in range(numCourses) if in_degree[course]==0])\n",
    "\n",
    "        while queue:\n",
    "            curr_course = queue.popleft() # course prerequisite done, so next courses 1 prereq will reduce\n",
    "            for neighbour in graph[curr_course]:\n",
    "                in_degree[neighbour] -= 1\n",
    "                if in_degree[neighbour] == 0:\n",
    "                    queue.append(neighbour)\n",
    "        \n",
    "        return all(in_degree[course]==0 for course in range(numCourses))        "
   ]
  },
  {
   "cell_type": "code",
   "execution_count": null,
   "id": "c6a734d7",
   "metadata": {},
   "outputs": [],
   "source": []
  }
 ],
 "metadata": {
  "kernelspec": {
   "display_name": "Python 3 (ipykernel)",
   "language": "python",
   "name": "python3"
  },
  "language_info": {
   "codemirror_mode": {
    "name": "ipython",
    "version": 3
   },
   "file_extension": ".py",
   "mimetype": "text/x-python",
   "name": "python",
   "nbconvert_exporter": "python",
   "pygments_lexer": "ipython3",
   "version": "3.9.7"
  }
 },
 "nbformat": 4,
 "nbformat_minor": 5
}
