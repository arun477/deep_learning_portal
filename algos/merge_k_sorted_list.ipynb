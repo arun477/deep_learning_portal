{
 "cells": [
  {
   "cell_type": "markdown",
   "id": "6b4c97ab",
   "metadata": {},
   "source": [
    "https://leetcode.com/problems/merge-k-sorted-lists/description/?envType=list&envId=xi4ci4ig (ref)"
   ]
  },
  {
   "cell_type": "markdown",
   "id": "e01c721b",
   "metadata": {},
   "source": [
    "You are given an array of k linked-lists lists, each linked-list is sorted in ascending order.\n",
    "\n",
    "Merge all the linked-lists into one sorted linked-list and return it.\n",
    "\n",
    " \n",
    "\n",
    "Example 1:\n",
    "\n",
    "Input: lists = [[1,4,5],[1,3,4],[2,6]]\n",
    "Output: [1,1,2,3,4,4,5,6]\n",
    "Explanation: The linked-lists are:\n",
    "[\n",
    "  1->4->5,\n",
    "  1->3->4,\n",
    "  2->6\n",
    "]\n",
    "merging them into one sorted list:\n",
    "1->1->2->3->4->4->5->6\n",
    "Example 2:\n",
    "\n",
    "Input: lists = []\n",
    "Output: []\n",
    "Example 3:\n",
    "\n",
    "Input: lists = [[]]\n",
    "Output: []\n",
    " \n",
    "\n",
    "Constraints:\n",
    "\n",
    "k == lists.length\n",
    "0 <= k <= 104\n",
    "0 <= lists[i].length <= 500\n",
    "-104 <= lists[i][j] <= 104\n",
    "lists[i] is sorted in ascending order.\n",
    "The sum of lists[i].length will not exceed 104."
   ]
  },
  {
   "cell_type": "code",
   "execution_count": 2,
   "id": "5ce0149b",
   "metadata": {},
   "outputs": [],
   "source": [
    "# n: k*n\n",
    "# s: n\n",
    "# 2265ms\n",
    "# pair wise mergin approach"
   ]
  },
  {
   "cell_type": "code",
   "execution_count": 3,
   "id": "eba4bce3",
   "metadata": {},
   "outputs": [],
   "source": [
    "# Definition for singly-linked list.\n",
    "class ListNode:\n",
    "    def __init__(self, val=0, next=None):\n",
    "        self.val = val\n",
    "        self.next = next\n",
    "\n",
    "class Solution:\n",
    "    def mergeKLists(self, lists):\n",
    "        if len(lists)==0:\n",
    "            return None\n",
    "        \n",
    "        def compare(list1, list2):\n",
    "            if list1 is None:\n",
    "                return list2\n",
    "            if list2 is None:\n",
    "                return list1\n",
    "            \n",
    "            if list1.val <= list2.val:\n",
    "                list1.next = compare(list2, list1.next)\n",
    "                return list1\n",
    "            else:\n",
    "                list2.next = compare(list1, list2.next)\n",
    "                return list2\n",
    "\n",
    "        head = lists[0]\n",
    "        i = 1\n",
    "        while i<=len(lists)-1:\n",
    "            head = compare(head, lists[i])\n",
    "            i += 1\n",
    "        return head  "
   ]
  },
  {
   "cell_type": "code",
   "execution_count": 1,
   "id": "8b74186d",
   "metadata": {},
   "outputs": [],
   "source": [
    "# n: nlogk \n",
    "# s: log k\n",
    "# 68ms\n",
    "# divide and conquer approach"
   ]
  },
  {
   "cell_type": "code",
   "execution_count": 8,
   "id": "83444fd4",
   "metadata": {},
   "outputs": [],
   "source": [
    "class ListNode:\n",
    "    def __init__(self, val=0, next=None):\n",
    "        self.val = val\n",
    "        self.next = next\n",
    "\n",
    "class Solution:\n",
    "    def mergeKLists(self, lists):\n",
    "        if len(lists)==0:\n",
    "            return None\n",
    "        \n",
    "        def merge(list1, list2):\n",
    "            if list1 is None:\n",
    "                return list2\n",
    "            if list2 is None:\n",
    "                return list1\n",
    "            \n",
    "            if list1.val <= list2.val:\n",
    "                list1.next = merge(list2, list1.next)\n",
    "                return list1\n",
    "            else:\n",
    "                list2.next = merge(list1, list2.next)\n",
    "                return list2\n",
    "\n",
    "        def merge_lists(lists, start, end):\n",
    "            if start==end:\n",
    "                return lists[start]\n",
    "            mid = (start+end)//2\n",
    "            left = merge_lists(lists, start, mid)\n",
    "            right = merge_lists(lists, mid+1, end)\n",
    "            return merge(left, right)\n",
    "        \n",
    "        head = merge_lists(lists, 0, len(lists)-1)\n",
    "        \n",
    "        return head"
   ]
  },
  {
   "cell_type": "code",
   "execution_count": 10,
   "id": "240c5a94",
   "metadata": {},
   "outputs": [],
   "source": [
    "# n:nlogk\n",
    "# s:l\n",
    "# 77ms\n",
    "# minimum priority queue approach (heap)"
   ]
  },
  {
   "cell_type": "code",
   "execution_count": 9,
   "id": "11f834e5",
   "metadata": {},
   "outputs": [],
   "source": [
    "import heapq\n",
    "\n",
    "class Solution:\n",
    "    def mergeKLists(self, lists):\n",
    "        heap = []\n",
    "        for i,lst in enumerate(lists):\n",
    "            if lst:\n",
    "                heapq.heappush(heap, (lst.val, i, lst))\n",
    "        \n",
    "        dummy = ListNode()\n",
    "        curr = dummy\n",
    "        while heap:\n",
    "            val,index,node = heapq.heappop(heap)\n",
    "            curr.next = node\n",
    "            curr = node\n",
    "            if node.next:\n",
    "                heapq.heappush(heap, (node.next.val, index, node.next))\n",
    "\n",
    "        return dummy.next"
   ]
  },
  {
   "cell_type": "code",
   "execution_count": null,
   "id": "9be06058",
   "metadata": {},
   "outputs": [],
   "source": []
  }
 ],
 "metadata": {
  "kernelspec": {
   "display_name": "Python 3 (ipykernel)",
   "language": "python",
   "name": "python3"
  },
  "language_info": {
   "codemirror_mode": {
    "name": "ipython",
    "version": 3
   },
   "file_extension": ".py",
   "mimetype": "text/x-python",
   "name": "python",
   "nbconvert_exporter": "python",
   "pygments_lexer": "ipython3",
   "version": "3.9.7"
  }
 },
 "nbformat": 4,
 "nbformat_minor": 5
}
