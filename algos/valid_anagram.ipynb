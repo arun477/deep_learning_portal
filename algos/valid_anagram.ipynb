{
 "cells": [
  {
   "cell_type": "markdown",
   "id": "70c8e247",
   "metadata": {},
   "source": [
    "https://leetcode.com/problems/valid-anagram/description/?envType=list&envId=xi4ci4ig (ref)"
   ]
  },
  {
   "cell_type": "markdown",
   "id": "4f67e55b",
   "metadata": {},
   "source": [
    "```python\n",
    "Given two strings s and t, return true if t is an anagram of s, and false otherwise.\n",
    "\n",
    "An Anagram is a word or phrase formed by rearranging the letters of a different word or phrase, typically using all the original letters exactly once.\n",
    "\n",
    " \n",
    "\n",
    "Example 1:\n",
    "\n",
    "Input: s = \"anagram\", t = \"nagaram\"\n",
    "Output: true\n",
    "Example 2:\n",
    "\n",
    "Input: s = \"rat\", t = \"car\"\n",
    "Output: false\n",
    " \n",
    "\n",
    "Constraints:\n",
    "\n",
    "1 <= s.length, t.length <= 5 * 104\n",
    "s and t consist of lowercase English letters.\n",
    " \n",
    "\n",
    "Follow up: What if the inputs contain Unicode characters? How would you adapt your solution to such a case?\n",
    "\n",
    "```"
   ]
  },
  {
   "cell_type": "code",
   "execution_count": 4,
   "id": "c140670b",
   "metadata": {},
   "outputs": [],
   "source": [
    "# n: nlogn\n",
    "# s: 1\n",
    "# 51ms"
   ]
  },
  {
   "cell_type": "code",
   "execution_count": 3,
   "id": "92d4583a",
   "metadata": {},
   "outputs": [],
   "source": [
    "class Solution:\n",
    "    def isAnagram(self, s: str, t: str) -> bool:\n",
    "        return sorted(s) == sorted(t)"
   ]
  },
  {
   "cell_type": "code",
   "execution_count": 6,
   "id": "70335208",
   "metadata": {},
   "outputs": [],
   "source": [
    "# n: n\n",
    "# s: n\n",
    "# 42ms"
   ]
  },
  {
   "cell_type": "code",
   "execution_count": 7,
   "id": "d6be0fdc",
   "metadata": {},
   "outputs": [],
   "source": [
    "from collections import defaultdict\n",
    "\n",
    "class Solution:\n",
    "    def isAnagram(self, s: str, t: str) -> bool:\n",
    "        if len(s) != len(t) or not s or not t:\n",
    "            return False\n",
    "        \n",
    "        s_count = defaultdict(int)\n",
    "        for ch in s:\n",
    "            s_count[ch] += 1\n",
    "        \n",
    "        for ch in t:\n",
    "            s_count[ch] -= 1\n",
    "        \n",
    "        for val in s_count.values():\n",
    "            if val != 0:\n",
    "                return False\n",
    "        \n",
    "        return True\n"
   ]
  },
  {
   "cell_type": "code",
   "execution_count": null,
   "id": "2833ee50",
   "metadata": {},
   "outputs": [],
   "source": []
  },
  {
   "cell_type": "code",
   "execution_count": null,
   "id": "ab260e14",
   "metadata": {},
   "outputs": [],
   "source": []
  }
 ],
 "metadata": {
  "kernelspec": {
   "display_name": "Python 3 (ipykernel)",
   "language": "python",
   "name": "python3"
  },
  "language_info": {
   "codemirror_mode": {
    "name": "ipython",
    "version": 3
   },
   "file_extension": ".py",
   "mimetype": "text/x-python",
   "name": "python",
   "nbconvert_exporter": "python",
   "pygments_lexer": "ipython3",
   "version": "3.9.7"
  }
 },
 "nbformat": 4,
 "nbformat_minor": 5
}
