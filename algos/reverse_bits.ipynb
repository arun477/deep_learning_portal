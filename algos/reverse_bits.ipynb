{
 "cells": [
  {
   "cell_type": "markdown",
   "id": "b6d42bbe",
   "metadata": {},
   "source": [
    "https://leetcode.com/problems/reverse-bits/description/?envType=list&envId=xi4ci4ig (ref)"
   ]
  },
  {
   "cell_type": "markdown",
   "id": "46448f40",
   "metadata": {},
   "source": [
    "Reverse bits of a given 32 bits unsigned integer.\n",
    "\n",
    "Note:\n",
    "\n",
    "Note that in some languages, such as Java, there is no unsigned integer type. In this case, both input and output will be given as a signed integer type. They should not affect your implementation, as the integer's internal binary representation is the same, whether it is signed or unsigned.\n",
    "In Java, the compiler represents the signed integers using 2's complement notation. Therefore, in Example 2 above, the input represents the signed integer -3 and the output represents the signed integer -1073741825.\n",
    " \n",
    "\n",
    "Example 1:\n",
    "\n",
    "Input: n = 00000010100101000001111010011100\n",
    "Output:    964176192 (00111001011110000010100101000000)\n",
    "Explanation: The input binary string 00000010100101000001111010011100 represents the unsigned integer 43261596, so return 964176192 which its binary representation is 00111001011110000010100101000000.\n",
    "Example 2:\n",
    "\n",
    "Input: n = 11111111111111111111111111111101\n",
    "Output:   3221225471 (10111111111111111111111111111111)\n",
    "Explanation: The input binary string 11111111111111111111111111111101 represents the unsigned integer 4294967293, so return 3221225471 which its binary representation is 10111111111111111111111111111111.\n",
    " \n",
    "\n",
    "Constraints:\n",
    "\n",
    "The input must be a binary string of length 32\n",
    " \n",
    "\n",
    "Follow up: If this function is called many times, how would you optimize it?"
   ]
  },
  {
   "cell_type": "code",
   "execution_count": 124,
   "id": "6b8bcffe",
   "metadata": {},
   "outputs": [],
   "source": [
    "# n: 1\n",
    "# s: 1\n",
    "# 27ms"
   ]
  },
  {
   "cell_type": "code",
   "execution_count": 125,
   "id": "1f0fb6d4",
   "metadata": {},
   "outputs": [],
   "source": [
    "class Solution:\n",
    "    def reverseBits(self, n: int) -> int:\n",
    "        result = 0\n",
    "        for _ in range(32):\n",
    "            result = (result << 1) | (n & 1)\n",
    "            n >>= 1\n",
    "        return result"
   ]
  },
  {
   "cell_type": "markdown",
   "id": "bb6d5cbb",
   "metadata": {},
   "source": [
    "https://chat.openai.com/c/db65d863-ea39-4e1b-86bf-8850f6df6a34 (ref)"
   ]
  },
  {
   "cell_type": "markdown",
   "id": "23792a4f",
   "metadata": {},
   "source": [
    "binary operation practice\n",
    "rite a Python program that takes an integer n as input and prints the binary representation of all numbers from 1 to n (inclusive)."
   ]
  },
  {
   "cell_type": "code",
   "execution_count": 50,
   "id": "9f05d04d",
   "metadata": {},
   "outputs": [
    {
     "name": "stdout",
     "output_type": "stream",
     "text": [
      "1\n",
      "10\n",
      "11\n",
      "100\n",
      "101\n"
     ]
    }
   ],
   "source": [
    "def binaray_counter(n):\n",
    "    for i in range(1, n+1):\n",
    "        print(bin(i)[2:])\n",
    "        \n",
    "binaray_counter(5)"
   ]
  },
  {
   "cell_type": "markdown",
   "id": "0f12bafe",
   "metadata": {},
   "source": [
    "Count Set Bits\n",
    "Write a Python function that takes an integer n as input and returns the count of set bits (number of '1' bits) in its binary representation."
   ]
  },
  {
   "cell_type": "code",
   "execution_count": 57,
   "id": "38283f93",
   "metadata": {},
   "outputs": [
    {
     "data": {
      "text/plain": [
       "2"
      ]
     },
     "execution_count": 57,
     "metadata": {},
     "output_type": "execute_result"
    }
   ],
   "source": [
    "def count_set_bits(n):\n",
    "    return bin(n)[2:].count('1')\n",
    "\n",
    "count_set_bits(9)"
   ]
  },
  {
   "cell_type": "markdown",
   "id": "3df72038",
   "metadata": {},
   "source": [
    "Rotate Bits\n",
    "Write a Python function that takes an integer n and a number of positions k as input. Implement a function to rotate the bits of n to the left by k positions. The rotated bits should wrap around.\n",
    "\n",
    "```python\n",
    "\n",
    "Input:\n",
    "n = 5\n",
    "k = 2\n",
    "\n",
    "Output:\n",
    "Result of rotating bits of 5 to the left by 2 positions: 20\n",
    "\n",
    "```"
   ]
  },
  {
   "cell_type": "code",
   "execution_count": 92,
   "id": "cea153c3",
   "metadata": {},
   "outputs": [
    {
     "name": "stdout",
     "output_type": "stream",
     "text": [
      "11111111111111111111111111111111\n",
      "original 101\n",
      "after rotate 10100\n",
      "20\n"
     ]
    }
   ],
   "source": [
    "def rotate_bits_left(n, k):\n",
    "    bit_size = 32\n",
    "    rotated_value = ((n<<k) | (n>>(bit_size-k))) & ((1<<bit_size)-1)\n",
    "    print(bin((1<<bit_size)-1)[2:])\n",
    "    print('original', bin(n)[2:])\n",
    "    print('after rotate', bin(rotated_value)[2:])\n",
    "    print(rotated_value)\n",
    "    \n",
    "n = 5\n",
    "k = 2\n",
    "rotate_bits_left(n, k)"
   ]
  },
  {
   "cell_type": "markdown",
   "id": "3c101c16",
   "metadata": {},
   "source": [
    "Problem 5: Hamming Distance\n",
    "Write a Python function that takes two integers x and y and calculates the Hamming distance between them. The Hamming distance is the number of positions at which the corresponding bits are different.\n",
    "\n",
    "```python\n",
    "\n",
    "Input:\n",
    "x = 4  # binary: 0100\n",
    "y = 7  # binary: 0111\n",
    "\n",
    "Output:\n",
    "Hamming distance between 4 and 7 is: 2\n",
    "\n",
    "    \n",
    "```"
   ]
  },
  {
   "cell_type": "code",
   "execution_count": 96,
   "id": "45d90631",
   "metadata": {},
   "outputs": [
    {
     "data": {
      "text/plain": [
       "2"
      ]
     },
     "execution_count": 96,
     "metadata": {},
     "output_type": "execute_result"
    }
   ],
   "source": [
    "def hamming_distance(x, y):\n",
    "    dist = x^y\n",
    "    return bin(dist)[2:].count('1')\n",
    "\n",
    "x = 4\n",
    "y = 7\n",
    "result = hamming_distance(x, y)\n",
    "result"
   ]
  },
  {
   "cell_type": "markdown",
   "id": "8fc44dad",
   "metadata": {},
   "source": [
    "```python\n",
    "\n",
    "Problem 6: Single Number\n",
    "Write a Python function that takes a list of integers where every element appears twice except for one. The function should find and return the number that appears only once.\n",
    "\n",
    "Example:\n",
    "\n",
    "Input: [4, 2, 4, 2, 7, 5, 7]\n",
    "Output: 5\n",
    "    \n",
    " ```"
   ]
  },
  {
   "cell_type": "code",
   "execution_count": 101,
   "id": "cad1ab1e",
   "metadata": {},
   "outputs": [
    {
     "data": {
      "text/plain": [
       "5"
      ]
     },
     "execution_count": 101,
     "metadata": {},
     "output_type": "execute_result"
    }
   ],
   "source": [
    "def single_number(nums):\n",
    "    result = 0\n",
    "    for num in nums:\n",
    "        result ^= num\n",
    "    return result\n",
    "\n",
    "nums = [4, 2, 4, 2, 7, 5, 7]\n",
    "result = single_number(nums)\n",
    "result"
   ]
  },
  {
   "cell_type": "code",
   "execution_count": null,
   "id": "893bb122",
   "metadata": {},
   "outputs": [],
   "source": []
  }
 ],
 "metadata": {
  "kernelspec": {
   "display_name": "Python 3 (ipykernel)",
   "language": "python",
   "name": "python3"
  },
  "language_info": {
   "codemirror_mode": {
    "name": "ipython",
    "version": 3
   },
   "file_extension": ".py",
   "mimetype": "text/x-python",
   "name": "python",
   "nbconvert_exporter": "python",
   "pygments_lexer": "ipython3",
   "version": "3.9.7"
  }
 },
 "nbformat": 4,
 "nbformat_minor": 5
}
