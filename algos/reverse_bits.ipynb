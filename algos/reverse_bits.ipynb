{
 "cells": [
  {
   "cell_type": "markdown",
   "id": "acd39f05",
   "metadata": {},
   "source": [
    "https://leetcode.com/problems/reverse-bits/description/?envType=list&envId=xi4ci4ig (ref)"
   ]
  },
  {
   "cell_type": "markdown",
   "id": "81776684",
   "metadata": {},
   "source": [
    "Reverse bits of a given 32 bits unsigned integer.\n",
    "\n",
    "Note:\n",
    "\n",
    "Note that in some languages, such as Java, there is no unsigned integer type. In this case, both input and output will be given as a signed integer type. They should not affect your implementation, as the integer's internal binary representation is the same, whether it is signed or unsigned.\n",
    "In Java, the compiler represents the signed integers using 2's complement notation. Therefore, in Example 2 above, the input represents the signed integer -3 and the output represents the signed integer -1073741825.\n",
    " \n",
    "\n",
    "Example 1:\n",
    "\n",
    "Input: n = 00000010100101000001111010011100\n",
    "Output:    964176192 (00111001011110000010100101000000)\n",
    "Explanation: The input binary string 00000010100101000001111010011100 represents the unsigned integer 43261596, so return 964176192 which its binary representation is 00111001011110000010100101000000.\n",
    "Example 2:\n",
    "\n",
    "Input: n = 11111111111111111111111111111101\n",
    "Output:   3221225471 (10111111111111111111111111111111)\n",
    "Explanation: The input binary string 11111111111111111111111111111101 represents the unsigned integer 4294967293, so return 3221225471 which its binary representation is 10111111111111111111111111111111.\n",
    " \n",
    "\n",
    "Constraints:\n",
    "\n",
    "The input must be a binary string of length 32\n",
    " \n",
    "\n",
    "Follow up: If this function is called many times, how would you optimize it?"
   ]
  },
  {
   "cell_type": "markdown",
   "id": "092ff243",
   "metadata": {},
   "source": []
  },
  {
   "cell_type": "code",
   "execution_count": null,
   "id": "76cfc3b3",
   "metadata": {},
   "outputs": [],
   "source": []
  },
  {
   "cell_type": "code",
   "execution_count": null,
   "id": "ac56f12e",
   "metadata": {},
   "outputs": [],
   "source": []
  },
  {
   "cell_type": "code",
   "execution_count": null,
   "id": "f0c83f9d",
   "metadata": {},
   "outputs": [],
   "source": []
  },
  {
   "cell_type": "markdown",
   "id": "6ac638b1",
   "metadata": {},
   "source": [
    "binary operation practice\n",
    "rite a Python program that takes an integer n as input and prints the binary representation of all numbers from 1 to n (inclusive)."
   ]
  },
  {
   "cell_type": "code",
   "execution_count": 50,
   "id": "74f8d6a4",
   "metadata": {},
   "outputs": [
    {
     "name": "stdout",
     "output_type": "stream",
     "text": [
      "1\n",
      "10\n",
      "11\n",
      "100\n",
      "101\n"
     ]
    }
   ],
   "source": [
    "def binaray_counter(n):\n",
    "    for i in range(1, n+1):\n",
    "        print(bin(i)[2:])\n",
    "        \n",
    "binaray_counter(5)"
   ]
  },
  {
   "cell_type": "markdown",
   "id": "91ade8c4",
   "metadata": {},
   "source": [
    "Count Set Bits\n",
    "Write a Python function that takes an integer n as input and returns the count of set bits (number of '1' bits) in its binary representation."
   ]
  },
  {
   "cell_type": "code",
   "execution_count": 57,
   "id": "7dc013e8",
   "metadata": {},
   "outputs": [
    {
     "data": {
      "text/plain": [
       "2"
      ]
     },
     "execution_count": 57,
     "metadata": {},
     "output_type": "execute_result"
    }
   ],
   "source": [
    "def count_set_bits(n):\n",
    "    return bin(n)[2:].count('1')\n",
    "\n",
    "count_set_bits(9)"
   ]
  },
  {
   "cell_type": "markdown",
   "id": "9aa22815",
   "metadata": {},
   "source": [
    "Rotate Bits\n",
    "Write a Python function that takes an integer n and a number of positions k as input. Implement a function to rotate the bits of n to the left by k positions. The rotated bits should wrap around.\n",
    "\n",
    "```python\n",
    "\n",
    "Input:\n",
    "n = 5\n",
    "k = 2\n",
    "\n",
    "Output:\n",
    "Result of rotating bits of 5 to the left by 2 positions: 20\n",
    "\n",
    "```"
   ]
  },
  {
   "cell_type": "code",
   "execution_count": null,
   "id": "d4014b90",
   "metadata": {},
   "outputs": [],
   "source": []
  },
  {
   "cell_type": "code",
   "execution_count": null,
   "id": "fc37a0c8",
   "metadata": {},
   "outputs": [],
   "source": []
  }
 ],
 "metadata": {
  "kernelspec": {
   "display_name": "Python 3 (ipykernel)",
   "language": "python",
   "name": "python3"
  },
  "language_info": {
   "codemirror_mode": {
    "name": "ipython",
    "version": 3
   },
   "file_extension": ".py",
   "mimetype": "text/x-python",
   "name": "python",
   "nbconvert_exporter": "python",
   "pygments_lexer": "ipython3",
   "version": "3.9.7"
  }
 },
 "nbformat": 4,
 "nbformat_minor": 5
}
