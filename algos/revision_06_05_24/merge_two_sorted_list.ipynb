{
 "cells": [
  {
   "cell_type": "code",
   "execution_count": 3,
   "id": "c632ac81",
   "metadata": {},
   "outputs": [],
   "source": [
    "# t: n\n",
    "# s: n\n",
    "\n",
    "class ListNode:\n",
    "    def __init__(self, val=0, next=None):\n",
    "        self.val = val\n",
    "        self.next = next\n",
    "\n",
    "class Solution:\n",
    "    def mergeTwoLists(self, list1: [ListNode], list2: [ListNode]) -> [ListNode]:\n",
    "        left, right = list1, list2\n",
    "\n",
    "        if left and not right:\n",
    "            return left\n",
    "        if right and not left:\n",
    "            return right\n",
    "        \n",
    "        if not (left and right):\n",
    "            return None\n",
    "                 \n",
    "        head = ListNode()\n",
    "        tail = head\n",
    "\n",
    "        while left and right:\n",
    "            if left.val <= right.val:\n",
    "                temp = left.next \n",
    "                left.next = None\n",
    "                tail.next = left\n",
    "                left = temp\n",
    "                tail = tail.next\n",
    "            else:\n",
    "                temp = right.next\n",
    "                right.next = None\n",
    "                tail.next = right\n",
    "                right = temp\n",
    "                tail = tail.next\n",
    "        \n",
    "        if left:\n",
    "            tail.next = left\n",
    "        if right:\n",
    "            tail.next = right\n",
    "          \n",
    "        return head.next         "
   ]
  },
  {
   "cell_type": "code",
   "execution_count": null,
   "id": "5e31b6a8",
   "metadata": {},
   "outputs": [],
   "source": []
  }
 ],
 "metadata": {
  "kernelspec": {
   "display_name": "m",
   "language": "python",
   "name": "m"
  },
  "language_info": {
   "codemirror_mode": {
    "name": "ipython",
    "version": 3
   },
   "file_extension": ".py",
   "mimetype": "text/x-python",
   "name": "python",
   "nbconvert_exporter": "python",
   "pygments_lexer": "ipython3",
   "version": "3.9.19"
  }
 },
 "nbformat": 4,
 "nbformat_minor": 5
}
