{
 "cells": [
  {
   "cell_type": "code",
   "execution_count": 1,
   "id": "64acb805",
   "metadata": {},
   "outputs": [],
   "source": [
    "# t:n\n",
    "# s:n\n",
    "\n",
    "from collections import Counter\n",
    "\n",
    "class Solution:\n",
    "    def minWindow(self, s: str, t: str) -> str:\n",
    "        if not s or not t:\n",
    "            return ''\n",
    "        \n",
    "        target_counts = Counter(t)\n",
    "        required_char_len = len(set(t))\n",
    "        left, right = 0, 0\n",
    "        min_len, sub_str = float('inf'), ''\n",
    "        \n",
    "        while right < len(s):\n",
    "            target_counts[s[right]] -= 1\n",
    "            if target_counts[s[right]] == 0:\n",
    "                required_char_len -= 1\n",
    "            \n",
    "            while required_char_len == 0:\n",
    "                if (right - left + 1) < min_len:\n",
    "                    min_len = right-left+1\n",
    "                    sub_str = s[left: right+1]\n",
    "                \n",
    "                target_counts[s[left]] += 1\n",
    "                if target_counts[s[left]] > 0:\n",
    "                    required_char_len += 1\n",
    "                \n",
    "                left += 1\n",
    "            \n",
    "            right += 1\n",
    "        \n",
    "        return sub_str"
   ]
  },
  {
   "cell_type": "code",
   "execution_count": null,
   "id": "44db5422",
   "metadata": {},
   "outputs": [],
   "source": []
  }
 ],
 "metadata": {
  "kernelspec": {
   "display_name": "m",
   "language": "python",
   "name": "m"
  },
  "language_info": {
   "codemirror_mode": {
    "name": "ipython",
    "version": 3
   },
   "file_extension": ".py",
   "mimetype": "text/x-python",
   "name": "python",
   "nbconvert_exporter": "python",
   "pygments_lexer": "ipython3",
   "version": "3.9.19"
  }
 },
 "nbformat": 4,
 "nbformat_minor": 5
}
