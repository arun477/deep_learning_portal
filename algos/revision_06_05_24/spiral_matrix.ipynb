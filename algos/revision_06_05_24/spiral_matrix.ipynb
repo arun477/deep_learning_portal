{
 "cells": [
  {
   "cell_type": "code",
   "execution_count": 2,
   "id": "cdb54c6e",
   "metadata": {},
   "outputs": [],
   "source": [
    "# n: m*n\n",
    "# s: 1\n",
    "\n",
    "class Solution:\n",
    "    def spiralOrder(self, matrix):\n",
    "        result = []\n",
    "    \n",
    "        if not matrix:\n",
    "            return result\n",
    "        \n",
    "        top, bottom = 0, len(matrix)-1\n",
    "        left, right = 0, len(matrix[0])-1\n",
    "        \n",
    "        while top <= bottom and left <= right:\n",
    "            # left to right\n",
    "            for i in range(left, right+1):\n",
    "                result.append(matrix[top][i])\n",
    "            top += 1\n",
    "            \n",
    "            # top to bottom\n",
    "            for i in range(top, bottom+1):\n",
    "                result.append(matrix[i][right])\n",
    "            right -= 1\n",
    "            \n",
    "            # right to left\n",
    "            if top <= bottom:\n",
    "                for i in range(right, left-1, -1):\n",
    "                    result.append(matrix[bottom][i])\n",
    "                bottom -= 1\n",
    "            \n",
    "            # bottom to top\n",
    "            if left <= right:\n",
    "                for i in range(bottom, top-1, -1):\n",
    "                    result.append(matrix[i][left])\n",
    "                left += 1\n",
    "        \n",
    "        return result   "
   ]
  },
  {
   "cell_type": "code",
   "execution_count": null,
   "id": "93cf66f3",
   "metadata": {},
   "outputs": [],
   "source": []
  }
 ],
 "metadata": {
  "kernelspec": {
   "display_name": "m",
   "language": "python",
   "name": "m"
  },
  "language_info": {
   "codemirror_mode": {
    "name": "ipython",
    "version": 3
   },
   "file_extension": ".py",
   "mimetype": "text/x-python",
   "name": "python",
   "nbconvert_exporter": "python",
   "pygments_lexer": "ipython3",
   "version": "3.9.19"
  }
 },
 "nbformat": 4,
 "nbformat_minor": 5
}
