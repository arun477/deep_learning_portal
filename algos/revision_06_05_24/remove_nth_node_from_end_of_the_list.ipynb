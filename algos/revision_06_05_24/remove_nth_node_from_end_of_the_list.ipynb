{
 "cells": [
  {
   "cell_type": "code",
   "execution_count": 2,
   "id": "e5a9520f",
   "metadata": {},
   "outputs": [],
   "source": [
    "# t: n\n",
    "# s: n\n",
    "\n",
    "class ListNode:\n",
    "    def __init__(self, val=0, next=None):\n",
    "        self.val = val\n",
    "        self.next = next\n",
    "        \n",
    "class Solution:\n",
    "    def removeNthFromEnd(self, head: [ListNode], n: int) ->[ListNode]:\n",
    "        if not head:\n",
    "            return head\n",
    "            \n",
    "        nodes = {}\n",
    "        i = 0\n",
    "        pointer = head\n",
    "\n",
    "        while pointer:\n",
    "            i += 1\n",
    "            nodes[i] = pointer\n",
    "            pointer = pointer.next\n",
    "        \n",
    "        position = len(nodes)-n+1\n",
    "        nth_node = nodes[position]\n",
    "\n",
    "        if position == 1:\n",
    "            return nth_node.next\n",
    "        else: \n",
    "            temp = nth_node.next\n",
    "            nth_node.next = None\n",
    "            prev_node = nodes[position-1]\n",
    "            prev_node.next = temp\n",
    "            \n",
    "            return nodes[1]   "
   ]
  },
  {
   "cell_type": "code",
   "execution_count": null,
   "id": "4a111d69",
   "metadata": {},
   "outputs": [],
   "source": []
  },
  {
   "cell_type": "code",
   "execution_count": null,
   "id": "98b2e135",
   "metadata": {},
   "outputs": [],
   "source": []
  }
 ],
 "metadata": {
  "kernelspec": {
   "display_name": "m",
   "language": "python",
   "name": "m"
  },
  "language_info": {
   "codemirror_mode": {
    "name": "ipython",
    "version": 3
   },
   "file_extension": ".py",
   "mimetype": "text/x-python",
   "name": "python",
   "nbconvert_exporter": "python",
   "pygments_lexer": "ipython3",
   "version": "3.9.19"
  }
 },
 "nbformat": 4,
 "nbformat_minor": 5
}
