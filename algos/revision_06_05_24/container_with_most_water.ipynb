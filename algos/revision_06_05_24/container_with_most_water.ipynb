{
 "cells": [
  {
   "cell_type": "code",
   "execution_count": 1,
   "id": "4826d791",
   "metadata": {},
   "outputs": [],
   "source": [
    "# t: n^2\n",
    "# s: 1\n",
    "\n",
    "class Solution:\n",
    "    def maxArea(self, height):\n",
    "        max_volume = 0\n",
    "        for i, h in enumerate(height):\n",
    "            for j, h2 in enumerate(height):\n",
    "                volume = (j - i) * min(h, h2)\n",
    "                max_volume = max(max_volume, volume)\n",
    "        return max_volume      "
   ]
  },
  {
   "cell_type": "code",
   "execution_count": null,
   "id": "9c034a3c",
   "metadata": {},
   "outputs": [],
   "source": [
    "# t: n\n",
    "# s: 1\n",
    "\n",
    "class Solution:\n",
    "    def maxArea(self, height):\n",
    "        max_volume, n = 0, len(height)\n",
    "        left, right = 0, n-1\n",
    "\n",
    "        while left < right and (left < n) and (right >=0):\n",
    "            volume = (right - left) * min(height[left], height[right])\n",
    "            max_volume = max(max_volume, volume)\n",
    "            if height[left] < height[right]:\n",
    "                left += 1\n",
    "            else:\n",
    "                right -=1\n",
    "                \n",
    "        return max_volume\n",
    "        "
   ]
  }
 ],
 "metadata": {
  "kernelspec": {
   "display_name": "m",
   "language": "python",
   "name": "m"
  },
  "language_info": {
   "codemirror_mode": {
    "name": "ipython",
    "version": 3
   },
   "file_extension": ".py",
   "mimetype": "text/x-python",
   "name": "python",
   "nbconvert_exporter": "python",
   "pygments_lexer": "ipython3",
   "version": "3.9.19"
  }
 },
 "nbformat": 4,
 "nbformat_minor": 5
}
