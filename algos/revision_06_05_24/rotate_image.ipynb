{
 "cells": [
  {
   "cell_type": "code",
   "execution_count": 4,
   "id": "a1b48c55",
   "metadata": {},
   "outputs": [],
   "source": [
    "# t: n^2\n",
    "# s: 1\n",
    "\n",
    "class Solution:\n",
    "    def rotate(self, matrix) -> None:\n",
    "        n = len(matrix)\n",
    "\n",
    "        for i in range(n):\n",
    "            for j in range(i, n):\n",
    "                matrix[i][j], matrix[j][i] = matrix[j][i], matrix[i][j]\n",
    "\n",
    "        for i in range(n):\n",
    "            matrix[i].reverse() "
   ]
  },
  {
   "cell_type": "code",
   "execution_count": null,
   "id": "36c4fbac",
   "metadata": {},
   "outputs": [],
   "source": []
  },
  {
   "cell_type": "code",
   "execution_count": null,
   "id": "7060a53a",
   "metadata": {},
   "outputs": [],
   "source": []
  }
 ],
 "metadata": {
  "kernelspec": {
   "display_name": "m",
   "language": "python",
   "name": "m"
  },
  "language_info": {
   "codemirror_mode": {
    "name": "ipython",
    "version": 3
   },
   "file_extension": ".py",
   "mimetype": "text/x-python",
   "name": "python",
   "nbconvert_exporter": "python",
   "pygments_lexer": "ipython3",
   "version": "3.9.19"
  }
 },
 "nbformat": 4,
 "nbformat_minor": 5
}
