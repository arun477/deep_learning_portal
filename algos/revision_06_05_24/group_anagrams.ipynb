{
 "cells": [
  {
   "cell_type": "code",
   "execution_count": 5,
   "id": "3986f18c",
   "metadata": {},
   "outputs": [],
   "source": [
    "# t: n*k*logk,k:str len\n",
    "# s: n*k\n",
    "\n",
    "from collections import defaultdict\n",
    "\n",
    "class Solution:\n",
    "    def groupAnagrams(self, strs):\n",
    "        grps = defaultdict(list)\n",
    "        for s in strs:\n",
    "            grps[str(sorted(s))].append(s)\n",
    "        return list(grps.values())"
   ]
  },
  {
   "cell_type": "code",
   "execution_count": 11,
   "id": "aca1e67f",
   "metadata": {},
   "outputs": [],
   "source": [
    "# n: n*k: k:str len\n",
    "# s: n*k\n",
    "\n",
    "from collections import defaultdict\n",
    "\n",
    "class Solution:\n",
    "    def groupAnagrams(self, strs):\n",
    "        grps = defaultdict(list)\n",
    "        for s in strs:\n",
    "            counts = [0] * 26\n",
    "            for char in s:\n",
    "                counts[ord(char)-ord('a')] += 1\n",
    "            grps[tuple(counts)].append(s)\n",
    "\n",
    "        return list(grps.values())"
   ]
  },
  {
   "cell_type": "code",
   "execution_count": null,
   "id": "abdd4942",
   "metadata": {},
   "outputs": [],
   "source": []
  }
 ],
 "metadata": {
  "kernelspec": {
   "display_name": "m",
   "language": "python",
   "name": "m"
  },
  "language_info": {
   "codemirror_mode": {
    "name": "ipython",
    "version": 3
   },
   "file_extension": ".py",
   "mimetype": "text/x-python",
   "name": "python",
   "nbconvert_exporter": "python",
   "pygments_lexer": "ipython3",
   "version": "3.9.19"
  }
 },
 "nbformat": 4,
 "nbformat_minor": 5
}
