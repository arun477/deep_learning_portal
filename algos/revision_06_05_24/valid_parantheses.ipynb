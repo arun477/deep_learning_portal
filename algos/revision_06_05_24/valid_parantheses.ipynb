{
 "cells": [
  {
   "cell_type": "code",
   "execution_count": 9,
   "id": "f079038c",
   "metadata": {},
   "outputs": [],
   "source": [
    "# t: n\n",
    "# s: n\n",
    "\n",
    "class Solution:\n",
    "    def isValid(self, s: str) -> bool:\n",
    "        if len(s) % 2 != 0:\n",
    "            return False\n",
    "\n",
    "        open_to_close_map = {'(': ')', '{': '}', '[': ']'}\n",
    "        temp = []\n",
    "        for char in s:\n",
    "            if char in open_to_close_map:\n",
    "                temp.append(char)\n",
    "            else:\n",
    "                if temp and open_to_close_map[temp[-1]] == char:\n",
    "                    temp.pop()\n",
    "                else:\n",
    "                    return False\n",
    "        \n",
    "        return True if len(temp) == 0 else False\n",
    "\n",
    "       "
   ]
  },
  {
   "cell_type": "code",
   "execution_count": null,
   "id": "7d6318d1",
   "metadata": {},
   "outputs": [],
   "source": []
  }
 ],
 "metadata": {
  "kernelspec": {
   "display_name": "m",
   "language": "python",
   "name": "m"
  },
  "language_info": {
   "codemirror_mode": {
    "name": "ipython",
    "version": 3
   },
   "file_extension": ".py",
   "mimetype": "text/x-python",
   "name": "python",
   "nbconvert_exporter": "python",
   "pygments_lexer": "ipython3",
   "version": "3.9.19"
  }
 },
 "nbformat": 4,
 "nbformat_minor": 5
}
