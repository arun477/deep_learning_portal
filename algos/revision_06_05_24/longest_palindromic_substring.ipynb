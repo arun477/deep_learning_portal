{
 "cells": [
  {
   "cell_type": "code",
   "execution_count": 1,
   "id": "6537c778",
   "metadata": {},
   "outputs": [],
   "source": [
    "# t: n^3\n",
    "# s: 1\n",
    "class Solution:\n",
    "    def longestPalindrome(self, s: str) -> str:\n",
    "        longest_p = \"\"\n",
    "        if not s:\n",
    "            return longest_p\n",
    "\n",
    "        for i in range(len(s)):\n",
    "            for j in range(i, len(s)):\n",
    "                sub_str = s[i:j+1]\n",
    "                if sub_str == sub_str[::-1]:\n",
    "                    if len(longest_p) < len(sub_str):\n",
    "                        longest_p = sub_str\n",
    "                        \n",
    "        return longest_p     "
   ]
  },
  {
   "cell_type": "code",
   "execution_count": 2,
   "id": "b24927c3",
   "metadata": {},
   "outputs": [],
   "source": [
    "# t: n\n",
    "# s: n\n",
    "\n",
    "class Solution:\n",
    "    def longestPalindrome(self, s: str) -> str:\n",
    "        modified_s = \"^#\" + \"#\".join(s) + '#$'\n",
    "\n",
    "        n = len(modified_s)\n",
    "        p = [0] * n\n",
    "        max_len = 0\n",
    "        start_idx = 0\n",
    "        center, right = 0, 0\n",
    "        \n",
    "        for i in range(1, n-1):\n",
    "            mirror = 2*center - i\n",
    "            if i < right:\n",
    "                p[i] = min(p[mirror], right-i)\n",
    "    \n",
    "            while (modified_s[i+1+p[i]]) == (modified_s[i-1-p[i]]):\n",
    "                p[i] += 1   \n",
    "            \n",
    "            if p[i] + i > right:\n",
    "                center = i\n",
    "                right = p[i] + i\n",
    "            \n",
    "            if p[i] > max_len:\n",
    "                max_len = p[i]\n",
    "                start_idx = (i-p[i]) // 2\n",
    "        \n",
    "        return s[start_idx: start_idx+max_len]"
   ]
  },
  {
   "cell_type": "code",
   "execution_count": null,
   "id": "5aece88f",
   "metadata": {},
   "outputs": [],
   "source": []
  }
 ],
 "metadata": {
  "kernelspec": {
   "display_name": "m",
   "language": "python",
   "name": "m"
  },
  "language_info": {
   "codemirror_mode": {
    "name": "ipython",
    "version": 3
   },
   "file_extension": ".py",
   "mimetype": "text/x-python",
   "name": "python",
   "nbconvert_exporter": "python",
   "pygments_lexer": "ipython3",
   "version": "3.9.19"
  }
 },
 "nbformat": 4,
 "nbformat_minor": 5
}
