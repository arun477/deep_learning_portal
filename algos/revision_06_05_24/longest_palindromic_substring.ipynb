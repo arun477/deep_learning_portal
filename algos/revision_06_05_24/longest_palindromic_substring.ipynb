{
 "cells": [
  {
   "cell_type": "code",
   "execution_count": 1,
   "id": "a759f62f",
   "metadata": {},
   "outputs": [],
   "source": [
    "# t: n^3\n",
    "# s: 1\n",
    "class Solution:\n",
    "    def longestPalindrome(self, s: str) -> str:\n",
    "        longest_p = \"\"\n",
    "        if not s:\n",
    "            return longest_p\n",
    "\n",
    "        for i in range(len(s)):\n",
    "            for j in range(i, len(s)):\n",
    "                sub_str = s[i:j+1]\n",
    "                if sub_str == sub_str[::-1]:\n",
    "                    if len(longest_p) < len(sub_str):\n",
    "                        longest_p = sub_str\n",
    "                        \n",
    "        return longest_p     "
   ]
  },
  {
   "cell_type": "code",
   "execution_count": null,
   "id": "fe4c2ae7",
   "metadata": {},
   "outputs": [],
   "source": []
  }
 ],
 "metadata": {
  "kernelspec": {
   "display_name": "m",
   "language": "python",
   "name": "m"
  },
  "language_info": {
   "codemirror_mode": {
    "name": "ipython",
    "version": 3
   },
   "file_extension": ".py",
   "mimetype": "text/x-python",
   "name": "python",
   "nbconvert_exporter": "python",
   "pygments_lexer": "ipython3",
   "version": "3.9.19"
  }
 },
 "nbformat": 4,
 "nbformat_minor": 5
}
