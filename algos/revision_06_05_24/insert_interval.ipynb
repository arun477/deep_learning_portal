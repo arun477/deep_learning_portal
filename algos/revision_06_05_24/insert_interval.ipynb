{
 "cells": [
  {
   "cell_type": "code",
   "execution_count": 2,
   "id": "13609e1d",
   "metadata": {},
   "outputs": [],
   "source": [
    "# t: n\n",
    "# s: 1\n",
    "\n",
    "class Solution:\n",
    "    def insert(self, intervals: [[int]], newInterval: [int]) -> [[int]]:\n",
    "        merged_results = []\n",
    "        i, n = 0, len(intervals)\n",
    "        \n",
    "        while i < n and intervals[i][1] < newInterval[0]:\n",
    "            merged_results.append(intervals[i])\n",
    "            i += 1\n",
    "        \n",
    "        while i < n and intervals[i][0] <= newInterval[1]:\n",
    "            newInterval = [min(intervals[i][0], newInterval[0]), max(intervals[i][1], newInterval[1])]\n",
    "            i += 1\n",
    "        \n",
    "        merged_results.append(newInterval)\n",
    "        \n",
    "        while i < n:\n",
    "            merged_results.append(intervals[i])\n",
    "            i += 1\n",
    "        \n",
    "        return merged_results\n",
    "        "
   ]
  },
  {
   "cell_type": "code",
   "execution_count": null,
   "id": "612c6a33",
   "metadata": {},
   "outputs": [],
   "source": []
  }
 ],
 "metadata": {
  "kernelspec": {
   "display_name": "m",
   "language": "python",
   "name": "m"
  },
  "language_info": {
   "codemirror_mode": {
    "name": "ipython",
    "version": 3
   },
   "file_extension": ".py",
   "mimetype": "text/x-python",
   "name": "python",
   "nbconvert_exporter": "python",
   "pygments_lexer": "ipython3",
   "version": "3.9.19"
  }
 },
 "nbformat": 4,
 "nbformat_minor": 5
}
