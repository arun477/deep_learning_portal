{
 "cells": [
  {
   "cell_type": "code",
   "execution_count": 4,
   "id": "678e65c8",
   "metadata": {},
   "outputs": [],
   "source": [
    "# t: m*n*4^k\n",
    "# s: k\n",
    "\n",
    "class Solution:\n",
    "    def exist(self, board: [[str]], word: str) -> bool:\n",
    "        if not board:\n",
    "            return False\n",
    "\n",
    "        m, n = len(board), len(board[0])\n",
    "\n",
    "        def search(i, j, k):\n",
    "            if not (0 <= i < m) or not (0 <= j < n) or not (word[k] == board[i][j]):\n",
    "                return False\n",
    "            \n",
    "            if k == len(word) - 1:\n",
    "                return True\n",
    "            \n",
    "            temp, board[i][j] = board[i][j], '/'\n",
    "            directions = [(i, j+1), (i+1, j), (i, j-1), (i-1, j)]\n",
    "\n",
    "            for x, y in directions:\n",
    "                if search(x, y, k+1):\n",
    "                    return True\n",
    "            \n",
    "            board[i][j] = temp\n",
    "        \n",
    "        for i in range(m):\n",
    "            for j in range(n):\n",
    "                if search(i, j, 0):\n",
    "                    return True\n",
    "        \n",
    "        return False"
   ]
  },
  {
   "cell_type": "code",
   "execution_count": null,
   "id": "cd899967",
   "metadata": {},
   "outputs": [],
   "source": []
  }
 ],
 "metadata": {
  "kernelspec": {
   "display_name": "m",
   "language": "python",
   "name": "m"
  },
  "language_info": {
   "codemirror_mode": {
    "name": "ipython",
    "version": 3
   },
   "file_extension": ".py",
   "mimetype": "text/x-python",
   "name": "python",
   "nbconvert_exporter": "python",
   "pygments_lexer": "ipython3",
   "version": "3.9.19"
  }
 },
 "nbformat": 4,
 "nbformat_minor": 5
}
