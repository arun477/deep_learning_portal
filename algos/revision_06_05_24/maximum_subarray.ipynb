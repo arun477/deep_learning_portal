{
 "cells": [
  {
   "cell_type": "code",
   "execution_count": 1,
   "id": "1f906c10",
   "metadata": {},
   "outputs": [],
   "source": [
    "# t: n \n",
    "# s: 1\n",
    "\n",
    "class Solution:\n",
    "    def maxSubArray(self, nums: [int]) -> int:\n",
    "        max_sum = nums[0]\n",
    "        curr_sum = nums[0]\n",
    "\n",
    "        for i in range(1, len(nums)):\n",
    "            curr_sum = max(nums[i], curr_sum + nums[i])\n",
    "            max_sum = max(curr_sum, max_sum)\n",
    "        \n",
    "        return max_sum"
   ]
  },
  {
   "cell_type": "code",
   "execution_count": null,
   "id": "7fc1915c",
   "metadata": {},
   "outputs": [],
   "source": []
  }
 ],
 "metadata": {
  "kernelspec": {
   "display_name": "m",
   "language": "python",
   "name": "m"
  },
  "language_info": {
   "codemirror_mode": {
    "name": "ipython",
    "version": 3
   },
   "file_extension": ".py",
   "mimetype": "text/x-python",
   "name": "python",
   "nbconvert_exporter": "python",
   "pygments_lexer": "ipython3",
   "version": "3.9.19"
  }
 },
 "nbformat": 4,
 "nbformat_minor": 5
}
