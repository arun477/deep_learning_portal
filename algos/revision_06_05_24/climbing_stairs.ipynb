{
 "cells": [
  {
   "cell_type": "code",
   "execution_count": 1,
   "id": "47e53a31",
   "metadata": {},
   "outputs": [],
   "source": [
    "# t: n\n",
    "# s: n\n",
    "# dp top down\n",
    "\n",
    "class Solution:\n",
    "    def climbStairs(self, n: int) -> int:\n",
    "\n",
    "        def move(curr_step):\n",
    "            if curr_step in memo:\n",
    "                return memo[curr_step]\n",
    "\n",
    "            if curr_step > n:\n",
    "                return 0\n",
    "            if curr_step == n:\n",
    "                return 1\n",
    "            \n",
    "            num_paths = move(curr_step+1)+ move(curr_step+2)\n",
    "            memo[curr_step] = num_paths\n",
    "\n",
    "            return num_paths \n",
    "\n",
    "        memo = {}\n",
    "        return move(0)            "
   ]
  },
  {
   "cell_type": "code",
   "execution_count": null,
   "id": "5d592eae",
   "metadata": {},
   "outputs": [],
   "source": []
  }
 ],
 "metadata": {
  "kernelspec": {
   "display_name": "m",
   "language": "python",
   "name": "m"
  },
  "language_info": {
   "codemirror_mode": {
    "name": "ipython",
    "version": 3
   },
   "file_extension": ".py",
   "mimetype": "text/x-python",
   "name": "python",
   "nbconvert_exporter": "python",
   "pygments_lexer": "ipython3",
   "version": "3.9.19"
  }
 },
 "nbformat": 4,
 "nbformat_minor": 5
}
