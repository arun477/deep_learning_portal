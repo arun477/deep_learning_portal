{
 "cells": [
  {
   "cell_type": "code",
   "execution_count": 16,
   "id": "c27d7315",
   "metadata": {},
   "outputs": [],
   "source": [
    "#t:n^3 s:n^3\n",
    "\n",
    "class Solution:\n",
    "    def threeSum(self, nums):\n",
    "        n, triplets = len(nums), []\n",
    "        for i in range(n):\n",
    "            for j in range(n):\n",
    "                for k in range(n):\n",
    "                    if i != j and i != k and j != k:\n",
    "                        s = nums[i] + nums[j] + nums[k]\n",
    "                        if s == 0:\n",
    "                            triplets.append([nums[i], nums[j], nums[k]])\n",
    "\n",
    "        unique_triplets = []\n",
    "        exists = set()\n",
    "        for t in triplets:\n",
    "            key = str(sorted(t))\n",
    "            if key not in exists:\n",
    "                unique_triplets.append(t)\n",
    "                exists.add(key)\n",
    "     \n",
    "        return unique_triplets"
   ]
  },
  {
   "cell_type": "code",
   "execution_count": null,
   "id": "cfb1fef4",
   "metadata": {},
   "outputs": [],
   "source": []
  }
 ],
 "metadata": {
  "kernelspec": {
   "display_name": "m",
   "language": "python",
   "name": "m"
  },
  "language_info": {
   "codemirror_mode": {
    "name": "ipython",
    "version": 3
   },
   "file_extension": ".py",
   "mimetype": "text/x-python",
   "name": "python",
   "nbconvert_exporter": "python",
   "pygments_lexer": "ipython3",
   "version": "3.9.19"
  }
 },
 "nbformat": 4,
 "nbformat_minor": 5
}
