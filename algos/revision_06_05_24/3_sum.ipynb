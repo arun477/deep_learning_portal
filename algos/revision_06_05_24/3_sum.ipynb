{
 "cells": [
  {
   "cell_type": "code",
   "execution_count": 16,
   "id": "c27d7315",
   "metadata": {},
   "outputs": [],
   "source": [
    "#t:n^3 s:n^3\n",
    "\n",
    "class Solution:\n",
    "    def threeSum(self, nums):\n",
    "        n, triplets = len(nums), []\n",
    "        for i in range(n):\n",
    "            for j in range(n):\n",
    "                for k in range(n):\n",
    "                    if i != j and i != k and j != k:\n",
    "                        s = nums[i] + nums[j] + nums[k]\n",
    "                        if s == 0:\n",
    "                            triplets.append([nums[i], nums[j], nums[k]])\n",
    "\n",
    "        unique_triplets = []\n",
    "        exists = set()\n",
    "        for t in triplets:\n",
    "            key = str(sorted(t))\n",
    "            if key not in exists:\n",
    "                unique_triplets.append(t)\n",
    "                exists.add(key)\n",
    "     \n",
    "        return unique_triplets"
   ]
  },
  {
   "cell_type": "code",
   "execution_count": 17,
   "id": "9f127f37",
   "metadata": {},
   "outputs": [
    {
     "data": {
      "text/plain": [
       "[6, 4, 2]"
      ]
     },
     "execution_count": 17,
     "metadata": {},
     "output_type": "execute_result"
    }
   ],
   "source": [
    "x = [6, 4, 2]\n",
    "sorted(x)\n",
    "x"
   ]
  },
  {
   "cell_type": "code",
   "execution_count": 18,
   "id": "36f1b5d5",
   "metadata": {},
   "outputs": [],
   "source": [
    "x.sort()"
   ]
  },
  {
   "cell_type": "code",
   "execution_count": 19,
   "id": "9b783fdd",
   "metadata": {},
   "outputs": [
    {
     "data": {
      "text/plain": [
       "[2, 4, 6]"
      ]
     },
     "execution_count": 19,
     "metadata": {},
     "output_type": "execute_result"
    }
   ],
   "source": [
    "x"
   ]
  },
  {
   "cell_type": "code",
   "execution_count": null,
   "id": "63ff4034",
   "metadata": {},
   "outputs": [],
   "source": []
  }
 ],
 "metadata": {
  "kernelspec": {
   "display_name": "m",
   "language": "python",
   "name": "m"
  },
  "language_info": {
   "codemirror_mode": {
    "name": "ipython",
    "version": 3
   },
   "file_extension": ".py",
   "mimetype": "text/x-python",
   "name": "python",
   "nbconvert_exporter": "python",
   "pygments_lexer": "ipython3",
   "version": "3.9.19"
  }
 },
 "nbformat": 4,
 "nbformat_minor": 5
}
