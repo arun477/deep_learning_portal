{
 "cells": [
  {
   "cell_type": "code",
   "execution_count": 16,
   "id": "c27d7315",
   "metadata": {},
   "outputs": [],
   "source": [
    "#t:n^3 s:n^3\n",
    "\n",
    "class Solution:\n",
    "    def threeSum(self, nums):\n",
    "        n, triplets = len(nums), []\n",
    "        for i in range(n):\n",
    "            for j in range(n):\n",
    "                for k in range(n):\n",
    "                    if i != j and i != k and j != k:\n",
    "                        s = nums[i] + nums[j] + nums[k]\n",
    "                        if s == 0:\n",
    "                            triplets.append([nums[i], nums[j], nums[k]])\n",
    "\n",
    "        unique_triplets = []\n",
    "        exists = set()\n",
    "        for t in triplets:\n",
    "            key = str(sorted(t))\n",
    "            if key not in exists:\n",
    "                unique_triplets.append(t)\n",
    "                exists.add(key)\n",
    "     \n",
    "        return unique_triplets"
   ]
  },
  {
   "cell_type": "code",
   "execution_count": 20,
   "id": "6dca1019",
   "metadata": {},
   "outputs": [],
   "source": [
    "# t: nlogn + n*n = n^2\n",
    "# s: ??\n",
    "\n",
    "class Solution:\n",
    "    def threeSum(self, nums):\n",
    "        nums.sort()\n",
    "        n, unique_triplets = len(nums), []\n",
    "        for i in range(n-2):\n",
    "            if i > 0 and nums[i] == nums[i-1]:\n",
    "                continue\n",
    "                \n",
    "            left, right = i+1, n-1\n",
    "            while left < right:\n",
    "                s = nums[i] + nums[left] + nums[right]\n",
    "                if s == 0:\n",
    "                    unique_triplets.append([nums[i], nums[left], nums[right]])\n",
    "                    while left < right and nums[left] == nums[left+1]:\n",
    "                        left += 1\n",
    "                    while left < right and nums[right] == nums[right-1]:\n",
    "                        right -= 1\n",
    "                    left += 1\n",
    "                    right -= 1\n",
    "                elif s < 0:\n",
    "                    left += 1\n",
    "                else: \n",
    "                    right -= 1\n",
    "\n",
    "        return unique_triplets"
   ]
  },
  {
   "cell_type": "code",
   "execution_count": null,
   "id": "39255e55",
   "metadata": {},
   "outputs": [],
   "source": []
  }
 ],
 "metadata": {
  "kernelspec": {
   "display_name": "m",
   "language": "python",
   "name": "m"
  },
  "language_info": {
   "codemirror_mode": {
    "name": "ipython",
    "version": 3
   },
   "file_extension": ".py",
   "mimetype": "text/x-python",
   "name": "python",
   "nbconvert_exporter": "python",
   "pygments_lexer": "ipython3",
   "version": "3.9.19"
  }
 },
 "nbformat": 4,
 "nbformat_minor": 5
}
