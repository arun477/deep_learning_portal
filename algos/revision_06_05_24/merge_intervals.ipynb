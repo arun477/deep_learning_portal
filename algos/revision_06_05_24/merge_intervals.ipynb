{
 "cells": [
  {
   "cell_type": "code",
   "execution_count": 1,
   "id": "0f74312d",
   "metadata": {},
   "outputs": [],
   "source": [
    "# t: nlogn\n",
    "# s: n\n",
    "\n",
    "class Solution:\n",
    "    def merge(self, intervals: [[int]]) -> [[int]]:\n",
    "        if not intervals:\n",
    "            return []\n",
    "\n",
    "        intervals.sort(key=lambda x: x[0])\n",
    "        \n",
    "        merged_intervals = [intervals[0]]\n",
    "        n = len(intervals)\n",
    "        \n",
    "        for i in range(1, n):\n",
    "            prev_start, prev_end = merged_intervals[-1]\n",
    "            curr_start, curr_end = intervals[i]\n",
    "            \n",
    "            if curr_start <= prev_end:\n",
    "                merged_intervals[-1] = [prev_start, max(curr_end, prev_end)]\n",
    "            else:\n",
    "                merged_intervals.append(intervals[i])\n",
    "        \n",
    "        return merged_intervals\n",
    "        \n",
    "        return merged_intervals"
   ]
  },
  {
   "cell_type": "code",
   "execution_count": null,
   "id": "bda311b3",
   "metadata": {},
   "outputs": [],
   "source": []
  }
 ],
 "metadata": {
  "kernelspec": {
   "display_name": "m",
   "language": "python",
   "name": "m"
  },
  "language_info": {
   "codemirror_mode": {
    "name": "ipython",
    "version": 3
   },
   "file_extension": ".py",
   "mimetype": "text/x-python",
   "name": "python",
   "nbconvert_exporter": "python",
   "pygments_lexer": "ipython3",
   "version": "3.9.19"
  }
 },
 "nbformat": 4,
 "nbformat_minor": 5
}
