{
 "cells": [
  {
   "cell_type": "code",
   "execution_count": null,
   "id": "84df222f",
   "metadata": {},
   "outputs": [],
   "source": [
    "class Solution:\n",
    "    def canJump(self, nums: List[int]) -> bool:\n",
    "        curr_pos = 0\n",
    "        n = len(nums)\n",
    "        for i in range(n):\n",
    "            if i > curr_pos:\n",
    "                return False\n",
    "            curr_pos = max(curr_pos, i+nums[i])\n",
    "            if curr_pos >= n-1:\n",
    "                return True\n",
    "        return False\n",
    "        "
   ]
  }
 ],
 "metadata": {
  "kernelspec": {
   "display_name": "m",
   "language": "python",
   "name": "m"
  },
  "language_info": {
   "codemirror_mode": {
    "name": "ipython",
    "version": 3
   },
   "file_extension": ".py",
   "mimetype": "text/x-python",
   "name": "python",
   "nbconvert_exporter": "python",
   "pygments_lexer": "ipython3",
   "version": "3.9.19"
  }
 },
 "nbformat": 4,
 "nbformat_minor": 5
}
