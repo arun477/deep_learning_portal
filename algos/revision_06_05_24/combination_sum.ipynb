{
 "cells": [
  {
   "cell_type": "code",
   "execution_count": 3,
   "id": "828fba89",
   "metadata": {},
   "outputs": [],
   "source": [
    "# t: n^m, m: target sum\n",
    "# s: m, due to recurssio stack\n",
    "\n",
    "class Solution:\n",
    "    def combinationSum(self, candidates: [int], target: int) -> [[int]]:\n",
    "        def backtrack(remaining, combo, start):\n",
    "            if remaining == 0:\n",
    "                result.append(list(combo))\n",
    "                return\n",
    "            if remaining < 0:\n",
    "                return\n",
    "            \n",
    "            for i in range(start, len(candidates)):\n",
    "                combo.append(candidates[i])\n",
    "                backtrack(remaining-candidates[i], combo, i)\n",
    "                combo.pop()\n",
    "        \n",
    "        result = []\n",
    "        backtrack(target, [], 0)\n",
    "        \n",
    "        return result"
   ]
  },
  {
   "cell_type": "code",
   "execution_count": null,
   "id": "680ab0a8",
   "metadata": {},
   "outputs": [],
   "source": []
  }
 ],
 "metadata": {
  "kernelspec": {
   "display_name": "m",
   "language": "python",
   "name": "m"
  },
  "language_info": {
   "codemirror_mode": {
    "name": "ipython",
    "version": 3
   },
   "file_extension": ".py",
   "mimetype": "text/x-python",
   "name": "python",
   "nbconvert_exporter": "python",
   "pygments_lexer": "ipython3",
   "version": "3.9.19"
  }
 },
 "nbformat": 4,
 "nbformat_minor": 5
}
