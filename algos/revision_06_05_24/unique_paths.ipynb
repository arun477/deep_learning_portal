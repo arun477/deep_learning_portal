{
 "cells": [
  {
   "cell_type": "code",
   "execution_count": 1,
   "id": "016412ac",
   "metadata": {},
   "outputs": [],
   "source": [
    "# t: m*n\n",
    "# s: m*s\n",
    "# dp top down approach\n",
    "\n",
    "\n",
    "class Solution:\n",
    "    def uniquePaths(self, m: int, n: int) -> int:\n",
    "        def move(curr_m, curr_n):\n",
    "            if (curr_m, curr_n) in memo:\n",
    "                return memo[(curr_m, curr_n)]\n",
    "\n",
    "            if curr_m == m-1 and curr_n ==  n-1:\n",
    "                memo[(curr_m, curr_n)] = 1\n",
    "                return 1\n",
    "            elif curr_m > m or curr_n > n:\n",
    "                memo[(curr_m, curr_n)] = 0\n",
    "                return 0    \n",
    "   \n",
    "            num_path = move(curr_m+1, curr_n) + move(curr_m , curr_n+1)\n",
    "            memo[(curr_m, curr_n)] = num_path\n",
    "\n",
    "            return num_path\n",
    "        \n",
    "        memo = {}\n",
    "        return move(0, 0)\n",
    "        "
   ]
  },
  {
   "cell_type": "code",
   "execution_count": null,
   "id": "256385ec",
   "metadata": {},
   "outputs": [],
   "source": []
  }
 ],
 "metadata": {
  "kernelspec": {
   "display_name": "m",
   "language": "python",
   "name": "m"
  },
  "language_info": {
   "codemirror_mode": {
    "name": "ipython",
    "version": 3
   },
   "file_extension": ".py",
   "mimetype": "text/x-python",
   "name": "python",
   "nbconvert_exporter": "python",
   "pygments_lexer": "ipython3",
   "version": "3.9.19"
  }
 },
 "nbformat": 4,
 "nbformat_minor": 5
}
