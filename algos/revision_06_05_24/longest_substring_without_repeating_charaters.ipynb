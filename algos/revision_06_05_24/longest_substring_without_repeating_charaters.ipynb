{
 "cells": [
  {
   "cell_type": "code",
   "execution_count": 7,
   "id": "fd0c7e4f",
   "metadata": {},
   "outputs": [],
   "source": [
    "x = ['a', 'a', 'a']"
   ]
  },
  {
   "cell_type": "code",
   "execution_count": 8,
   "id": "1a1d3f81",
   "metadata": {},
   "outputs": [
    {
     "data": {
      "text/plain": [
       "True"
      ]
     },
     "execution_count": 8,
     "metadata": {},
     "output_type": "execute_result"
    }
   ],
   "source": [
    "len(set(x)) == 1 "
   ]
  },
  {
   "cell_type": "code",
   "execution_count": null,
   "id": "8342363d",
   "metadata": {},
   "outputs": [],
   "source": []
  }
 ],
 "metadata": {
  "kernelspec": {
   "display_name": "m",
   "language": "python",
   "name": "m"
  },
  "language_info": {
   "codemirror_mode": {
    "name": "ipython",
    "version": 3
   },
   "file_extension": ".py",
   "mimetype": "text/x-python",
   "name": "python",
   "nbconvert_exporter": "python",
   "pygments_lexer": "ipython3",
   "version": "3.9.19"
  }
 },
 "nbformat": 4,
 "nbformat_minor": 5
}
