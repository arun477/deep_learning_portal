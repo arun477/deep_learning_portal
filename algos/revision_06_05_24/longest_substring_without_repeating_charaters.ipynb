{
 "cells": [
  {
   "cell_type": "code",
   "execution_count": 12,
   "id": "e673cc8a",
   "metadata": {},
   "outputs": [],
   "source": [
    "# t: n^2\n",
    "# s: n\n",
    "\n",
    "class Solution:\n",
    "    def lengthOfLongestSubstring(self, s: str) -> int:\n",
    "        max_len = 0\n",
    "        for i, m in enumerate(s):\n",
    "            temp = []\n",
    "            for char in s[i:]:\n",
    "                if char in temp:\n",
    "                    max_len = max(len(temp), max_len)\n",
    "                    break\n",
    "                else:\n",
    "                    temp.append(char)\n",
    "            max_len = max(len(temp), max_len)\n",
    "        return max_len                "
   ]
  },
  {
   "cell_type": "code",
   "execution_count": null,
   "id": "d2966eb8",
   "metadata": {},
   "outputs": [],
   "source": []
  },
  {
   "cell_type": "code",
   "execution_count": null,
   "id": "6200367b",
   "metadata": {},
   "outputs": [],
   "source": []
  }
 ],
 "metadata": {
  "kernelspec": {
   "display_name": "m",
   "language": "python",
   "name": "m"
  },
  "language_info": {
   "codemirror_mode": {
    "name": "ipython",
    "version": 3
   },
   "file_extension": ".py",
   "mimetype": "text/x-python",
   "name": "python",
   "nbconvert_exporter": "python",
   "pygments_lexer": "ipython3",
   "version": "3.9.19"
  }
 },
 "nbformat": 4,
 "nbformat_minor": 5
}
