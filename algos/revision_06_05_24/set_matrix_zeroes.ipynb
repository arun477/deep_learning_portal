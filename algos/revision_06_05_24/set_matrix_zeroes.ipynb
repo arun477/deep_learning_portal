{
 "cells": [
  {
   "cell_type": "code",
   "execution_count": 2,
   "id": "8823f17e",
   "metadata": {},
   "outputs": [],
   "source": [
    "# t: m*n\n",
    "# s: m*n\n",
    "\n",
    "class Solution:\n",
    "    def setZeroes(self, matrix: [[int]]) -> None:\n",
    "        marker = {}\n",
    "        m, n = len(matrix), len(matrix[0])\n",
    "\n",
    "        for i in range(m):\n",
    "            for j in range(n):\n",
    "                if matrix[i][j] == 0:\n",
    "                        marker[f'row_{i}'] = True\n",
    "                        marker[f'col_{j}'] = True\n",
    "        \n",
    "        for i in range(m):\n",
    "            for j in range(n):\n",
    "                if f'row_{i}' in marker or  f'col_{j}' in marker:\n",
    "                    matrix[i][j] = 0\n",
    "        \n",
    "        return matrix "
   ]
  },
  {
   "cell_type": "code",
   "execution_count": 3,
   "id": "adb47af0",
   "metadata": {},
   "outputs": [],
   "source": [
    "# t: m*n\n",
    "# s: 1\n",
    "\n",
    "class Solution:\n",
    "    def setZeroes(self, matrix: [[int]]) -> None:\n",
    "        m, n = len(matrix), len(matrix[0])\n",
    "        first_row_has_zero = any(matrix[0][j]==0 for j in range(n))\n",
    "        first_col_has_zero = any(matrix[i][0]==0 for i in range(m))\n",
    "        \n",
    "        for i in range(1, m):\n",
    "            for j in range(1, n):\n",
    "                if matrix[i][j] == 0:\n",
    "                    matrix[0][j] = 0\n",
    "                    matrix[i][0] = 0\n",
    "        \n",
    "        for i in range(1, m):\n",
    "            if matrix[i][0] == 0:\n",
    "                for j in range(1, n):\n",
    "                    matrix[i][j] = 0\n",
    "        \n",
    "        for j in range(1, n):\n",
    "            if matrix[0][j] == 0:\n",
    "                for i in range(1, m):\n",
    "                    matrix[i][j] = 0\n",
    "        \n",
    "        if first_row_has_zero:\n",
    "            matrix[0] = [0] * n\n",
    "        \n",
    "        if first_col_has_zero:\n",
    "            for i in range(m):\n",
    "                matrix[i][0] = 0\n",
    "        \n",
    "        return matrix"
   ]
  },
  {
   "cell_type": "code",
   "execution_count": null,
   "id": "97cae2cb",
   "metadata": {},
   "outputs": [],
   "source": []
  }
 ],
 "metadata": {
  "kernelspec": {
   "display_name": "m",
   "language": "python",
   "name": "m"
  },
  "language_info": {
   "codemirror_mode": {
    "name": "ipython",
    "version": 3
   },
   "file_extension": ".py",
   "mimetype": "text/x-python",
   "name": "python",
   "nbconvert_exporter": "python",
   "pygments_lexer": "ipython3",
   "version": "3.9.19"
  }
 },
 "nbformat": 4,
 "nbformat_minor": 5
}
