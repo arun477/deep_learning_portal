{
 "cells": [
  {
   "cell_type": "markdown",
   "id": "fcaa8722",
   "metadata": {},
   "source": [
    "https://github.com/microsoft/LoRA/blob/main/loralib/ (ref)"
   ]
  },
  {
   "cell_type": "code",
   "execution_count": 4,
   "id": "5d73fa7f",
   "metadata": {},
   "outputs": [],
   "source": [
    "import torch\n",
    "import torch.nn.functional as F\n",
    "import torch.nn as nn\n",
    "import math\n",
    "from typing import Optional, List"
   ]
  },
  {
   "cell_type": "code",
   "execution_count": 6,
   "id": "218bb069",
   "metadata": {},
   "outputs": [],
   "source": [
    "class LoRALayer:\n",
    "    def __init__(self, r, lora_alpha, lora_dropout, merge_weights):\n",
    "        self.r = r\n",
    "        self.lora_alpha = lora_alpha\n",
    "        \n",
    "        if lora_dropout > .0:\n",
    "            self.lora_dropout = nn.Dropout(lora_dropout)\n",
    "        else:\n",
    "            self.lora_dropout = lambda x: x\n",
    "        \n",
    "        self.merged = False\n",
    "        self.merge_weights = merge_weights"
   ]
  },
  {
   "cell_type": "code",
   "execution_count": null,
   "id": "d6d16c9b",
   "metadata": {},
   "outputs": [],
   "source": []
  }
 ],
 "metadata": {
  "kernelspec": {
   "display_name": "Python 3 (ipykernel)",
   "language": "python",
   "name": "python3"
  },
  "language_info": {
   "codemirror_mode": {
    "name": "ipython",
    "version": 3
   },
   "file_extension": ".py",
   "mimetype": "text/x-python",
   "name": "python",
   "nbconvert_exporter": "python",
   "pygments_lexer": "ipython3",
   "version": "3.9.7"
  }
 },
 "nbformat": 4,
 "nbformat_minor": 5
}
