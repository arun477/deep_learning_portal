{
 "cells": [
  {
   "cell_type": "markdown",
   "id": "36c8b011",
   "metadata": {},
   "source": [
    "https://arxiv.org/abs/1706.03762 (original paper) <br/>\n",
    "https://jalammar.github.io/illustrated-transformer/ (blog illustrated explanation) <br/>\n",
    "https://nlp.seas.harvard.edu/2018/04/03/attention.html (paper with annotation with code) <br/>\n",
    "https://www.youtube.com/watch?v=kCc8FmEb1nY (karpathy gpt from scratch video) <br/>\n",
    "https://github.com/karpathy/ng-video-lecture (karpathy gpt from scratch notebooks) <br/>"
   ]
  },
  {
   "cell_type": "code",
   "execution_count": 1,
   "id": "aaa66b24",
   "metadata": {},
   "outputs": [],
   "source": [
    "import torch\n",
    "from torch import nn\n",
    "import torch.nn.functional as F\n",
    "import matplotlib.pyplot as plt"
   ]
  },
  {
   "cell_type": "code",
   "execution_count": 18,
   "id": "73414931",
   "metadata": {},
   "outputs": [],
   "source": [
    "batch_size = 64\n",
    "block_size = 256\n",
    "max_iters = 5000\n",
    "eval_interval = 500\n",
    "learning_rate = 3e-4\n",
    "n_embd = 384 # embedding dim\n",
    "n_head = 6 # dim of key, query, value, embedding\n",
    "device = 'cuda' if torch.cuda.is_available() else 'cpu'\n",
    "eval_iters = 200\n",
    "dropout = 0.2"
   ]
  },
  {
   "cell_type": "code",
   "execution_count": 4,
   "id": "1eee5d34",
   "metadata": {},
   "outputs": [],
   "source": [
    "torch.manual_seed(1337);"
   ]
  },
  {
   "cell_type": "code",
   "execution_count": 5,
   "id": "c5ca419b",
   "metadata": {},
   "outputs": [],
   "source": [
    "with open('./data/tinyshakespeare.txt', 'r') as f:\n",
    "    text = f.read()"
   ]
  },
  {
   "cell_type": "code",
   "execution_count": 10,
   "id": "7dcfc8ca",
   "metadata": {},
   "outputs": [],
   "source": [
    "chars = sorted(list(set(text)))\n",
    "vocab_size = len(chars)\n",
    "stoi = {s:i for i, s in enumerate(chars)}\n",
    "itos = {i:s for s, i in stoi.items()}\n",
    "encode = lambda s: [stoi[c] for c in s]\n",
    "decode = lambda l : \"\".join(itos[c] for c in l)"
   ]
  },
  {
   "cell_type": "code",
   "execution_count": 11,
   "id": "d6dab3db",
   "metadata": {},
   "outputs": [],
   "source": [
    "data = torch.tensor(encode(text), dtype=torch.long)\n",
    "n = int(0.9*len(data))\n",
    "train_data = data[:n]\n",
    "val_data = data[n:]"
   ]
  },
  {
   "cell_type": "code",
   "execution_count": 13,
   "id": "e06fa0f0",
   "metadata": {},
   "outputs": [],
   "source": [
    "def get_batch(split):\n",
    "    data = train_data if split=='train' else val_data\n",
    "    idx = torch.randint(len(data)-block_size, (batch_size,))\n",
    "    xs = torch.stack([data[i:i+block_size] for i in idx])\n",
    "    ys = torch.stack([data[i+1:i+block_size+1] for i in idx])\n",
    "    xs, ys = xs.to(device), ys.to(device)\n",
    "    return xs, ys"
   ]
  },
  {
   "cell_type": "code",
   "execution_count": 16,
   "id": "48b10880",
   "metadata": {},
   "outputs": [],
   "source": [
    "@torch.no_grad()\n",
    "def estimate_loss(model):\n",
    "    o = {}\n",
    "    model.eval()\n",
    "    for split in ['train', 'test']:\n",
    "        losses = torch.zeros(eval_iters)\n",
    "        for k in range(eval_iters):\n",
    "            x, y = get_batch(split)\n",
    "            logits, loss = model(x, y)\n",
    "            losses[k] = loss.item()\n",
    "        o[split] = losses.mean().item()\n",
    "    model.train()\n",
    "    return o"
   ]
  },
  {
   "cell_type": "code",
   "execution_count": 57,
   "id": "817c0d0c",
   "metadata": {},
   "outputs": [],
   "source": [
    "# self attention single head.\n",
    "class Head(nn.Module):\n",
    "    def __init__(self, head_size):\n",
    "        super().__init__()\n",
    "        \n",
    "        self.key = nn.Linear(n_embd, n_head, bias=False)\n",
    "        self.query = nn.Linear(n_embd, n_head, bias=False)\n",
    "        self.value = nn.Linear(n_embd, n_head, bias=False)\n",
    "        \n",
    "        self.dropout = nn.Dropout(dropout)\n",
    "        \n",
    "        # .register_buffer: to store non-trainable tensors.\n",
    "        # torch.tril will create lower triangle matrix.\n",
    "        # used for masking future chars. \n",
    "        self.register_buffer('tril', torch.tril(torch.ones(block_size, block_size)))\n",
    "        \n",
    "    \n",
    "    def forward(self, x):\n",
    "        # x shape: B,T,C\n",
    "        B,T,C = x.shape\n",
    "        \n",
    "        # get the key embedding of each token in the context.\n",
    "        k = self.key(x) # shape: B,T,h\n",
    "        \n",
    "        # get the query embedding of each token in the context.\n",
    "        q = self.query(x) # shape: B,T,h\n",
    "        \n",
    "        # calc dot product each query embedding with key embedding, this will give\n",
    "        # sort of 'affinitity or attention' score for each token against each other token.\n",
    "        # k.shape[-1]**0.5 : this is kind of initialization, graident stabilzing factor, k.shape[-1] is the\n",
    "        # head size (n_head), this suggested scaling factor as per paper.\n",
    "        wei = q @ k.transpose(-2, -1) * k.shape[-1]**-0.5 # shape: B,T,h -> B,T,T \n",
    "        \n",
    "        # masking of future token. e.g first can only see itself, and second one see itself and prev\n",
    "        # one.\n",
    "        # float('-inf'): because during exponential those will go to zero.\n",
    "        # todo: the need for tril[:T, :T] not clear yet because tril already defined in T shae???\n",
    "        wei = wei.masked_fill(self.tril[:T, :T]==0, float('-inf')) # shape: B,T,T\n",
    "        \n",
    "        # convert wei is probs\n",
    "        wei = F.softmax(wei, dim=-1) # shape: B,T,T\n",
    "        wei = self.dropout(wei)\n",
    "        "
   ]
  },
  {
   "cell_type": "code",
   "execution_count": 50,
   "id": "2aa0b55f",
   "metadata": {},
   "outputs": [
    {
     "data": {
      "text/plain": [
       "torch.Size([5, 3, 3])"
      ]
     },
     "execution_count": 50,
     "metadata": {},
     "output_type": "execute_result"
    }
   ],
   "source": [
    "x = torch.ones(5, 3, 3)\n",
    "x.shape"
   ]
  },
  {
   "cell_type": "code",
   "execution_count": 51,
   "id": "676ab231",
   "metadata": {},
   "outputs": [],
   "source": [
    "tr = torch.tril(torch.ones(3, 3))"
   ]
  },
  {
   "cell_type": "code",
   "execution_count": 53,
   "id": "a46fdff6",
   "metadata": {},
   "outputs": [
    {
     "data": {
      "text/plain": [
       "torch.Size([3, 3, 3])"
      ]
     },
     "execution_count": 53,
     "metadata": {},
     "output_type": "execute_result"
    }
   ],
   "source": [
    "tr[:3, :3].shape"
   ]
  },
  {
   "cell_type": "code",
   "execution_count": 54,
   "id": "b4cdeb47",
   "metadata": {},
   "outputs": [
    {
     "data": {
      "text/plain": [
       "torch.Size([3, 3])"
      ]
     },
     "execution_count": 54,
     "metadata": {},
     "output_type": "execute_result"
    }
   ],
   "source": [
    "tr.shape"
   ]
  },
  {
   "cell_type": "code",
   "execution_count": 55,
   "id": "454f60c3",
   "metadata": {},
   "outputs": [
    {
     "data": {
      "text/plain": [
       "tensor([[1., 0., 0.],\n",
       "        [1., 1., 0.],\n",
       "        [1., 1., 1.]])"
      ]
     },
     "execution_count": 55,
     "metadata": {},
     "output_type": "execute_result"
    }
   ],
   "source": [
    "tr"
   ]
  },
  {
   "cell_type": "code",
   "execution_count": 56,
   "id": "a539e996",
   "metadata": {},
   "outputs": [
    {
     "data": {
      "text/plain": [
       "tensor([[1., 0., 0.],\n",
       "        [1., 1., 0.],\n",
       "        [1., 1., 1.]])"
      ]
     },
     "execution_count": 56,
     "metadata": {},
     "output_type": "execute_result"
    }
   ],
   "source": [
    "tr[:3, :3]"
   ]
  },
  {
   "cell_type": "code",
   "execution_count": null,
   "id": "bda7072e",
   "metadata": {},
   "outputs": [],
   "source": []
  }
 ],
 "metadata": {
  "kernelspec": {
   "display_name": "Python 3 (ipykernel)",
   "language": "python",
   "name": "python3"
  },
  "language_info": {
   "codemirror_mode": {
    "name": "ipython",
    "version": 3
   },
   "file_extension": ".py",
   "mimetype": "text/x-python",
   "name": "python",
   "nbconvert_exporter": "python",
   "pygments_lexer": "ipython3",
   "version": "3.9.7"
  }
 },
 "nbformat": 4,
 "nbformat_minor": 5
}
