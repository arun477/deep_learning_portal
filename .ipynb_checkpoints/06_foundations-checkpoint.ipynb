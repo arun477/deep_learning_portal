{
 "cells": [
  {
   "cell_type": "code",
   "execution_count": 1,
   "id": "ea38a065",
   "metadata": {},
   "outputs": [],
   "source": [
    "import torch\n",
    "import matplotlib.pyplot as plt\n",
    "import random"
   ]
  },
  {
   "cell_type": "markdown",
   "id": "a074e88f",
   "metadata": {},
   "source": [
    "#### widgets"
   ]
  },
  {
   "cell_type": "code",
   "execution_count": 3,
   "id": "1fc718a6",
   "metadata": {},
   "outputs": [],
   "source": [
    "import ipywidgets as widgets"
   ]
  },
  {
   "cell_type": "code",
   "execution_count": 9,
   "id": "547acd7a",
   "metadata": {},
   "outputs": [
    {
     "data": {
      "application/vnd.jupyter.widget-view+json": {
       "model_id": "3bcf4975f3ca49239bd1b2fa833ade24",
       "version_major": 2,
       "version_minor": 0
      },
      "text/plain": [
       "Button(description='click', style=ButtonStyle())"
      ]
     },
     "metadata": {},
     "output_type": "display_data"
    },
    {
     "name": "stdout",
     "output_type": "stream",
     "text": [
      "hi\n",
      "hi\n"
     ]
    }
   ],
   "source": [
    "w = widgets.Button(description='click')\n",
    "w.on_click(lambda x: print('hi'))\n",
    "w"
   ]
  },
  {
   "cell_type": "markdown",
   "id": "9d9aaa60",
   "metadata": {},
   "source": [
    "#### callback basics"
   ]
  },
  {
   "cell_type": "code",
   "execution_count": null,
   "id": "2a23ebb6",
   "metadata": {},
   "outputs": [],
   "source": []
  }
 ],
 "metadata": {
  "kernelspec": {
   "display_name": "Python 3 (ipykernel)",
   "language": "python",
   "name": "python3"
  },
  "language_info": {
   "codemirror_mode": {
    "name": "ipython",
    "version": 3
   },
   "file_extension": ".py",
   "mimetype": "text/x-python",
   "name": "python",
   "nbconvert_exporter": "python",
   "pygments_lexer": "ipython3",
   "version": "3.9.7"
  }
 },
 "nbformat": 4,
 "nbformat_minor": 5
}
