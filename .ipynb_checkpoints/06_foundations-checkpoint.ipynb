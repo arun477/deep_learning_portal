{
 "cells": [
  {
   "cell_type": "code",
   "execution_count": 1,
   "id": "ac13120d",
   "metadata": {},
   "outputs": [],
   "source": [
    "import torch\n",
    "import matplotlib.pyplot as plt\n",
    "import random"
   ]
  },
  {
   "cell_type": "markdown",
   "id": "bcf5c2df",
   "metadata": {},
   "source": [
    "#### widgets"
   ]
  },
  {
   "cell_type": "code",
   "execution_count": 3,
   "id": "6ab04cab",
   "metadata": {},
   "outputs": [],
   "source": [
    "import ipywidgets as widgets"
   ]
  },
  {
   "cell_type": "code",
   "execution_count": 9,
   "id": "7c1c9909",
   "metadata": {},
   "outputs": [
    {
     "data": {
      "application/vnd.jupyter.widget-view+json": {
       "model_id": "3bcf4975f3ca49239bd1b2fa833ade24",
       "version_major": 2,
       "version_minor": 0
      },
      "text/plain": [
       "Button(description='click', style=ButtonStyle())"
      ]
     },
     "metadata": {},
     "output_type": "display_data"
    },
    {
     "name": "stdout",
     "output_type": "stream",
     "text": [
      "hi\n",
      "hi\n"
     ]
    }
   ],
   "source": [
    "w = widgets.Button(description='click')\n",
    "w.on_click(lambda x: print('hi'))\n",
    "w"
   ]
  },
  {
   "cell_type": "markdown",
   "id": "7257a083",
   "metadata": {},
   "source": [
    "#### callback basics"
   ]
  },
  {
   "cell_type": "code",
   "execution_count": 10,
   "id": "c6f9f2d1",
   "metadata": {},
   "outputs": [],
   "source": [
    "import time"
   ]
  },
  {
   "cell_type": "code",
   "execution_count": 11,
   "id": "e8833261",
   "metadata": {},
   "outputs": [],
   "source": [
    "def slow_calc():\n",
    "    res = 0\n",
    "    for i in range(5):\n",
    "        res += i**2\n",
    "        time.sleep(1)\n",
    "    return res"
   ]
  },
  {
   "cell_type": "code",
   "execution_count": 12,
   "id": "0c852d4e",
   "metadata": {},
   "outputs": [
    {
     "data": {
      "text/plain": [
       "30"
      ]
     },
     "execution_count": 12,
     "metadata": {},
     "output_type": "execute_result"
    }
   ],
   "source": [
    "slow_calc()"
   ]
  },
  {
   "cell_type": "code",
   "execution_count": 18,
   "id": "cced854c",
   "metadata": {},
   "outputs": [],
   "source": [
    "def slow_calc(cb=None):\n",
    "    res = 0\n",
    "    for i in range(5):\n",
    "        res += i**2\n",
    "        time.sleep(1)\n",
    "        if cb:\n",
    "            cb(i+1)\n",
    "    return res"
   ]
  },
  {
   "cell_type": "code",
   "execution_count": 19,
   "id": "a9a7a187",
   "metadata": {},
   "outputs": [],
   "source": [
    "def show_progress(i):\n",
    "    print(f\"completed: {i}\")"
   ]
  },
  {
   "cell_type": "code",
   "execution_count": 20,
   "id": "254b89f9",
   "metadata": {},
   "outputs": [
    {
     "name": "stdout",
     "output_type": "stream",
     "text": [
      "completed: 1\n",
      "completed: 2\n",
      "completed: 3\n",
      "completed: 4\n",
      "completed: 5\n"
     ]
    },
    {
     "data": {
      "text/plain": [
       "30"
      ]
     },
     "execution_count": 20,
     "metadata": {},
     "output_type": "execute_result"
    }
   ],
   "source": [
    "slow_calc(cb=show_progress)"
   ]
  },
  {
   "cell_type": "markdown",
   "id": "6c2980a5",
   "metadata": {},
   "source": [
    "#### partials"
   ]
  },
  {
   "cell_type": "code",
   "execution_count": 21,
   "id": "0d4f859a",
   "metadata": {},
   "outputs": [],
   "source": [
    "def show_progress(msg, i):\n",
    "    print(f\"{msg}: {i}\")"
   ]
  },
  {
   "cell_type": "code",
   "execution_count": 22,
   "id": "76105c0d",
   "metadata": {},
   "outputs": [
    {
     "name": "stdout",
     "output_type": "stream",
     "text": [
      "hey completed!: 1\n",
      "hey completed!: 2\n",
      "hey completed!: 3\n",
      "hey completed!: 4\n",
      "hey completed!: 5\n"
     ]
    },
    {
     "data": {
      "text/plain": [
       "30"
      ]
     },
     "execution_count": 22,
     "metadata": {},
     "output_type": "execute_result"
    }
   ],
   "source": [
    "slow_calc(lambda i: show_progress('hey completed!', i))"
   ]
  },
  {
   "cell_type": "code",
   "execution_count": 23,
   "id": "52d45ba9",
   "metadata": {},
   "outputs": [],
   "source": [
    "def make_show_progress(msg):\n",
    "    def _f(i):\n",
    "        print(f\"{msg}: {i}\")\n",
    "    return _f"
   ]
  },
  {
   "cell_type": "code",
   "execution_count": 24,
   "id": "e2129a1a",
   "metadata": {},
   "outputs": [
    {
     "name": "stdout",
     "output_type": "stream",
     "text": [
      "Nice: 1\n",
      "Nice: 2\n",
      "Nice: 3\n",
      "Nice: 4\n",
      "Nice: 5\n"
     ]
    },
    {
     "data": {
      "text/plain": [
       "30"
      ]
     },
     "execution_count": 24,
     "metadata": {},
     "output_type": "execute_result"
    }
   ],
   "source": [
    "slow_calc(make_show_progress('Nice'))"
   ]
  },
  {
   "cell_type": "code",
   "execution_count": 25,
   "id": "220cc095",
   "metadata": {},
   "outputs": [],
   "source": [
    "from functools import partial"
   ]
  },
  {
   "cell_type": "code",
   "execution_count": 27,
   "id": "dc4acb1f",
   "metadata": {},
   "outputs": [
    {
     "name": "stdout",
     "output_type": "stream",
     "text": [
      "oha: 1\n",
      "oha: 2\n",
      "oha: 3\n",
      "oha: 4\n",
      "oha: 5\n"
     ]
    },
    {
     "data": {
      "text/plain": [
       "30"
      ]
     },
     "execution_count": 27,
     "metadata": {},
     "output_type": "execute_result"
    }
   ],
   "source": [
    "slow_calc(partial(show_progress, 'oha'))"
   ]
  },
  {
   "cell_type": "markdown",
   "id": "8670c1dd",
   "metadata": {},
   "source": [
    "#### callback as callable classes"
   ]
  },
  {
   "cell_type": "code",
   "execution_count": 31,
   "id": "d6a42d7c",
   "metadata": {},
   "outputs": [],
   "source": [
    "class ProgressShowClb():\n",
    "    def __init__(self, msg):\n",
    "        self.msg = msg\n",
    "    \n",
    "    def __call__(self, i):\n",
    "        print(f\"{self.msg}: {i}\")"
   ]
  },
  {
   "cell_type": "code",
   "execution_count": 32,
   "id": "505546de",
   "metadata": {},
   "outputs": [],
   "source": [
    "cb = ProgressShowClb('ola ola')"
   ]
  },
  {
   "cell_type": "code",
   "execution_count": 33,
   "id": "a0960852",
   "metadata": {},
   "outputs": [
    {
     "name": "stdout",
     "output_type": "stream",
     "text": [
      "ola ola: 1\n",
      "ola ola: 2\n",
      "ola ola: 3\n",
      "ola ola: 4\n",
      "ola ola: 5\n"
     ]
    },
    {
     "data": {
      "text/plain": [
       "30"
      ]
     },
     "execution_count": 33,
     "metadata": {},
     "output_type": "execute_result"
    }
   ],
   "source": [
    "slow_calc(cb)"
   ]
  },
  {
   "cell_type": "markdown",
   "id": "9f8b6f2f",
   "metadata": {},
   "source": [
    "#### multiple callback funcs; *args and **kwargs"
   ]
  },
  {
   "cell_type": "code",
   "execution_count": 34,
   "id": "eb3787e0",
   "metadata": {},
   "outputs": [],
   "source": [
    "def f(*args, **kwargs):\n",
    "     print(f\"args: {args}, kwargs:{kwargs}\")"
   ]
  },
  {
   "cell_type": "code",
   "execution_count": 37,
   "id": "8469d12c",
   "metadata": {},
   "outputs": [
    {
     "name": "stdout",
     "output_type": "stream",
     "text": [
      "args: ('h', '0'), kwargs:{'t': 'v', 'k': 'n'}\n"
     ]
    }
   ],
   "source": [
    "f('h', '0', t='v', k='n')"
   ]
  },
  {
   "cell_type": "code",
   "execution_count": 38,
   "id": "bca27b05",
   "metadata": {},
   "outputs": [],
   "source": [
    "def g(a, b, c=0):\n",
    "    print(a, b, c)"
   ]
  },
  {
   "cell_type": "code",
   "execution_count": 40,
   "id": "b8e8b14d",
   "metadata": {},
   "outputs": [
    {
     "name": "stdout",
     "output_type": "stream",
     "text": [
      "h e o\n"
     ]
    }
   ],
   "source": [
    "args = ['h', 'e']\n",
    "kwargs = {'c': 'o'}\n",
    "g(*args, **kwargs)"
   ]
  },
  {
   "cell_type": "code",
   "execution_count": 47,
   "id": "3f58b691",
   "metadata": {},
   "outputs": [],
   "source": [
    "def slow_calc(cb=None):\n",
    "    res = 0\n",
    "    for i in range(5):\n",
    "        if cb:\n",
    "            cb.before_clb(i)\n",
    "        res += i**2\n",
    "        if cb:\n",
    "            cb.after_clb(i, val=res)\n",
    "    return res"
   ]
  },
  {
   "cell_type": "code",
   "execution_count": 48,
   "id": "74ac5646",
   "metadata": {},
   "outputs": [],
   "source": [
    "class ProgressCB():\n",
    "    def before_clb(self, *args, **kwargs):\n",
    "        print('sted started')\n",
    "    \n",
    "    def after_clb(self, *args, **kwargs):\n",
    "        print('step done')"
   ]
  },
  {
   "cell_type": "code",
   "execution_count": 49,
   "id": "29b2d6cd",
   "metadata": {},
   "outputs": [
    {
     "name": "stdout",
     "output_type": "stream",
     "text": [
      "sted started\n",
      "step done\n",
      "sted started\n",
      "step done\n",
      "sted started\n",
      "step done\n",
      "sted started\n",
      "step done\n",
      "sted started\n",
      "step done\n"
     ]
    },
    {
     "data": {
      "text/plain": [
       "30"
      ]
     },
     "execution_count": 49,
     "metadata": {},
     "output_type": "execute_result"
    }
   ],
   "source": [
    "slow_calc(ProgressCB())"
   ]
  },
  {
   "cell_type": "code",
   "execution_count": 50,
   "id": "335cf193",
   "metadata": {},
   "outputs": [],
   "source": [
    "class ProgressCB():\n",
    "    def before_clb(self, *args, **kwargs):\n",
    "        print('sted started')\n",
    "    \n",
    "    def after_clb(self, epoch, val, **kwargs):\n",
    "        print(f'step:{epoch}, val:{val}')"
   ]
  },
  {
   "cell_type": "code",
   "execution_count": 51,
   "id": "e16d166f",
   "metadata": {},
   "outputs": [
    {
     "name": "stdout",
     "output_type": "stream",
     "text": [
      "sted started\n",
      "step:0, val:0\n",
      "sted started\n",
      "step:1, val:1\n",
      "sted started\n",
      "step:2, val:5\n",
      "sted started\n",
      "step:3, val:14\n",
      "sted started\n",
      "step:4, val:30\n"
     ]
    },
    {
     "data": {
      "text/plain": [
       "30"
      ]
     },
     "execution_count": 51,
     "metadata": {},
     "output_type": "execute_result"
    }
   ],
   "source": [
    "slow_calc(ProgressCB())"
   ]
  },
  {
   "cell_type": "markdown",
   "id": "391e2228",
   "metadata": {},
   "source": [
    "#### modifying func behaviour through callbacks"
   ]
  },
  {
   "cell_type": "code",
   "execution_count": 53,
   "id": "db7b0a5c",
   "metadata": {},
   "outputs": [],
   "source": [
    "def slow_calc(cb=None):\n",
    "    res = 0\n",
    "    for i in range(5):\n",
    "        if cb:\n",
    "            cb.before_clb(i)\n",
    "        res += i**2\n",
    "        if cb:\n",
    "            if cb.after_clb(i, res):\n",
    "                break\n",
    "    return res"
   ]
  },
  {
   "cell_type": "code",
   "execution_count": 54,
   "id": "5be3e7c7",
   "metadata": {},
   "outputs": [],
   "source": [
    "class ProgressCB():\n",
    "    def before_clb(self, *args, **kwargs):\n",
    "        print('sted started')\n",
    "    \n",
    "    def after_clb(self, epoch, val, **kwargs):\n",
    "        if val == 5:\n",
    "            return True\n",
    "        print(f'step:{epoch}, val:{val}')"
   ]
  },
  {
   "cell_type": "code",
   "execution_count": 55,
   "id": "200e18a7",
   "metadata": {},
   "outputs": [
    {
     "name": "stdout",
     "output_type": "stream",
     "text": [
      "sted started\n",
      "step:0, val:0\n",
      "sted started\n",
      "step:1, val:1\n",
      "sted started\n"
     ]
    },
    {
     "data": {
      "text/plain": [
       "5"
      ]
     },
     "execution_count": 55,
     "metadata": {},
     "output_type": "execute_result"
    }
   ],
   "source": [
    "slow_calc(cb=ProgressCB())"
   ]
  },
  {
   "cell_type": "code",
   "execution_count": 73,
   "id": "75364803",
   "metadata": {},
   "outputs": [],
   "source": [
    "class SlowCalc():\n",
    "    def __init__(self, cb=None):\n",
    "        self.res, self.cb = 0, cb\n",
    "    \n",
    "    def callback(self, cb_name, *args):\n",
    "        if not self.cb:\n",
    "            return\n",
    "        cb = getattr(self.cb, cb_name, None)\n",
    "        if cb:\n",
    "            return cb(self, *args)\n",
    "    \n",
    "    def calc(self):\n",
    "        for i in range(5):\n",
    "            self.callback('before_cb', i)\n",
    "            self.res += i**2\n",
    "            time.sleep(1)\n",
    "            if self.callback('after_cb', i):\n",
    "                print('early stopping')\n",
    "                break"
   ]
  },
  {
   "cell_type": "code",
   "execution_count": 74,
   "id": "042d967a",
   "metadata": {},
   "outputs": [],
   "source": [
    "class ProgressCB():\n",
    "    def after_cb(self, calc, epoch):\n",
    "        if calc.res >= 10:\n",
    "            return True\n",
    "        print(f'step:{epoch}, val:{calc.res}')"
   ]
  },
  {
   "cell_type": "code",
   "execution_count": 76,
   "id": "dd160d2d",
   "metadata": {},
   "outputs": [
    {
     "name": "stdout",
     "output_type": "stream",
     "text": [
      "step:0, val:0\n",
      "step:1, val:1\n",
      "step:2, val:5\n",
      "early stopping\n"
     ]
    },
    {
     "data": {
      "text/plain": [
       "14"
      ]
     },
     "execution_count": 76,
     "metadata": {},
     "output_type": "execute_result"
    }
   ],
   "source": [
    "calc = SlowCalc(cb=ProgressCB())\n",
    "calc.calc()\n",
    "calc.res"
   ]
  },
  {
   "cell_type": "markdown",
   "id": "c4013270",
   "metadata": {},
   "source": [
    "#### __dunder__ methods"
   ]
  },
  {
   "cell_type": "code",
   "execution_count": 80,
   "id": "1affdd77",
   "metadata": {},
   "outputs": [],
   "source": [
    "class SloppyAdd():\n",
    "    def __init__(self, o):\n",
    "        self.o = o\n",
    "    \n",
    "    def __add__(self, b):\n",
    "        return SloppyAdd(self.o+b.o+0.02)\n",
    "    \n",
    "    def __repr__(self):\n",
    "        return f\"{self.o}\""
   ]
  },
  {
   "cell_type": "code",
   "execution_count": 81,
   "id": "7b8a7e7d",
   "metadata": {},
   "outputs": [
    {
     "data": {
      "text/plain": [
       "3.02"
      ]
     },
     "execution_count": 81,
     "metadata": {},
     "output_type": "execute_result"
    }
   ],
   "source": [
    "a = SloppyAdd(1)\n",
    "b = SloppyAdd(2)\n",
    "a + b"
   ]
  },
  {
   "cell_type": "code",
   "execution_count": 82,
   "id": "4d155350",
   "metadata": {},
   "outputs": [],
   "source": [
    "class A():\n",
    "    a = 1\n",
    "    b = 2"
   ]
  },
  {
   "cell_type": "code",
   "execution_count": 84,
   "id": "81576164",
   "metadata": {},
   "outputs": [],
   "source": [
    "a = A()"
   ]
  },
  {
   "cell_type": "code",
   "execution_count": 87,
   "id": "26aff04e",
   "metadata": {},
   "outputs": [
    {
     "data": {
      "text/plain": [
       "2"
      ]
     },
     "execution_count": 87,
     "metadata": {},
     "output_type": "execute_result"
    }
   ],
   "source": [
    "getattr(a, 'a'); getattr(a, 'b')"
   ]
  },
  {
   "cell_type": "code",
   "execution_count": 93,
   "id": "8dbfba2c",
   "metadata": {},
   "outputs": [
    {
     "data": {
      "text/plain": [
       "1"
      ]
     },
     "execution_count": 93,
     "metadata": {},
     "output_type": "execute_result"
    }
   ],
   "source": [
    "getattr(a, 'a' if random.random() > 0.5 else 'b')"
   ]
  },
  {
   "cell_type": "code",
   "execution_count": 105,
   "id": "1751b8ba",
   "metadata": {},
   "outputs": [],
   "source": [
    "class B():\n",
    "    a = 1\n",
    "    b = 2\n",
    "    \n",
    "    def __getattr__(self, k):\n",
    "        if k[0] == '_':\n",
    "            raise AttributeError(k)\n",
    "        return f\"helo from {k}\""
   ]
  },
  {
   "cell_type": "code",
   "execution_count": 106,
   "id": "403304ee",
   "metadata": {},
   "outputs": [],
   "source": [
    "b = B()"
   ]
  },
  {
   "cell_type": "code",
   "execution_count": 107,
   "id": "b73ef209",
   "metadata": {},
   "outputs": [
    {
     "data": {
      "text/plain": [
       "(1, 2)"
      ]
     },
     "execution_count": 107,
     "metadata": {},
     "output_type": "execute_result"
    }
   ],
   "source": [
    "b.a, b.b"
   ]
  },
  {
   "cell_type": "code",
   "execution_count": 110,
   "id": "148a7052",
   "metadata": {},
   "outputs": [
    {
     "data": {
      "text/plain": [
       "'helo from h'"
      ]
     },
     "execution_count": 110,
     "metadata": {},
     "output_type": "execute_result"
    }
   ],
   "source": [
    "b.h"
   ]
  },
  {
   "cell_type": "code",
   "execution_count": 109,
   "id": "745f434e",
   "metadata": {},
   "outputs": [
    {
     "ename": "AttributeError",
     "evalue": "_",
     "output_type": "error",
     "traceback": [
      "\u001b[0;31m---------------------------------------------------------------------------\u001b[0m",
      "\u001b[0;31mAttributeError\u001b[0m                            Traceback (most recent call last)",
      "\u001b[0;32m/var/folders/8k/07c2mpg56x7c31_26k0qj2y00000gn/T/ipykernel_19497/3734525018.py\u001b[0m in \u001b[0;36m<module>\u001b[0;34m\u001b[0m\n\u001b[0;32m----> 1\u001b[0;31m \u001b[0mb\u001b[0m\u001b[0;34m.\u001b[0m\u001b[0m_\u001b[0m\u001b[0;34m\u001b[0m\u001b[0;34m\u001b[0m\u001b[0m\n\u001b[0m",
      "\u001b[0;32m/var/folders/8k/07c2mpg56x7c31_26k0qj2y00000gn/T/ipykernel_19497/376679609.py\u001b[0m in \u001b[0;36m__getattr__\u001b[0;34m(self, k)\u001b[0m\n\u001b[1;32m      5\u001b[0m     \u001b[0;32mdef\u001b[0m \u001b[0m__getattr__\u001b[0m\u001b[0;34m(\u001b[0m\u001b[0mself\u001b[0m\u001b[0;34m,\u001b[0m \u001b[0mk\u001b[0m\u001b[0;34m)\u001b[0m\u001b[0;34m:\u001b[0m\u001b[0;34m\u001b[0m\u001b[0;34m\u001b[0m\u001b[0m\n\u001b[1;32m      6\u001b[0m         \u001b[0;32mif\u001b[0m \u001b[0mk\u001b[0m\u001b[0;34m[\u001b[0m\u001b[0;36m0\u001b[0m\u001b[0;34m]\u001b[0m \u001b[0;34m==\u001b[0m \u001b[0;34m'_'\u001b[0m\u001b[0;34m:\u001b[0m\u001b[0;34m\u001b[0m\u001b[0;34m\u001b[0m\u001b[0m\n\u001b[0;32m----> 7\u001b[0;31m             \u001b[0;32mraise\u001b[0m \u001b[0mAttributeError\u001b[0m\u001b[0;34m(\u001b[0m\u001b[0mk\u001b[0m\u001b[0;34m)\u001b[0m\u001b[0;34m\u001b[0m\u001b[0;34m\u001b[0m\u001b[0m\n\u001b[0m\u001b[1;32m      8\u001b[0m         \u001b[0;32mreturn\u001b[0m \u001b[0;34mf\"helo from {k}\"\u001b[0m\u001b[0;34m\u001b[0m\u001b[0;34m\u001b[0m\u001b[0m\n",
      "\u001b[0;31mAttributeError\u001b[0m: _"
     ]
    }
   ],
   "source": [
    "b._"
   ]
  },
  {
   "cell_type": "code",
   "execution_count": 111,
   "id": "2e7995d8",
   "metadata": {},
   "outputs": [],
   "source": [
    "getattr??"
   ]
  },
  {
   "cell_type": "code",
   "execution_count": null,
   "id": "0354c27b",
   "metadata": {},
   "outputs": [],
   "source": []
  }
 ],
 "metadata": {
  "kernelspec": {
   "display_name": "Python 3 (ipykernel)",
   "language": "python",
   "name": "python3"
  },
  "language_info": {
   "codemirror_mode": {
    "name": "ipython",
    "version": 3
   },
   "file_extension": ".py",
   "mimetype": "text/x-python",
   "name": "python",
   "nbconvert_exporter": "python",
   "pygments_lexer": "ipython3",
   "version": "3.9.7"
  }
 },
 "nbformat": 4,
 "nbformat_minor": 5
}
