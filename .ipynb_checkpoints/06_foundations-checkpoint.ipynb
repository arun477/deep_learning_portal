{
 "cells": [
  {
   "cell_type": "code",
   "execution_count": 1,
   "id": "391c9df0",
   "metadata": {},
   "outputs": [],
   "source": [
    "import torch\n",
    "import matplotlib.pyplot as plt\n",
    "import random"
   ]
  },
  {
   "cell_type": "markdown",
   "id": "6e341189",
   "metadata": {},
   "source": [
    "#### widgets"
   ]
  },
  {
   "cell_type": "code",
   "execution_count": 3,
   "id": "28ce104a",
   "metadata": {},
   "outputs": [],
   "source": [
    "import ipywidgets as widgets"
   ]
  },
  {
   "cell_type": "code",
   "execution_count": 9,
   "id": "eb009d4f",
   "metadata": {},
   "outputs": [
    {
     "data": {
      "application/vnd.jupyter.widget-view+json": {
       "model_id": "3bcf4975f3ca49239bd1b2fa833ade24",
       "version_major": 2,
       "version_minor": 0
      },
      "text/plain": [
       "Button(description='click', style=ButtonStyle())"
      ]
     },
     "metadata": {},
     "output_type": "display_data"
    },
    {
     "name": "stdout",
     "output_type": "stream",
     "text": [
      "hi\n",
      "hi\n"
     ]
    }
   ],
   "source": [
    "w = widgets.Button(description='click')\n",
    "w.on_click(lambda x: print('hi'))\n",
    "w"
   ]
  },
  {
   "cell_type": "markdown",
   "id": "04e8ea27",
   "metadata": {},
   "source": [
    "#### callback basics"
   ]
  },
  {
   "cell_type": "code",
   "execution_count": 10,
   "id": "99b3e0fd",
   "metadata": {},
   "outputs": [],
   "source": [
    "import time"
   ]
  },
  {
   "cell_type": "code",
   "execution_count": 11,
   "id": "742b4789",
   "metadata": {},
   "outputs": [],
   "source": [
    "def slow_calc():\n",
    "    res = 0\n",
    "    for i in range(5):\n",
    "        res += i**2\n",
    "        time.sleep(1)\n",
    "    return res"
   ]
  },
  {
   "cell_type": "code",
   "execution_count": 12,
   "id": "9b62304e",
   "metadata": {},
   "outputs": [
    {
     "data": {
      "text/plain": [
       "30"
      ]
     },
     "execution_count": 12,
     "metadata": {},
     "output_type": "execute_result"
    }
   ],
   "source": [
    "slow_calc()"
   ]
  },
  {
   "cell_type": "code",
   "execution_count": 18,
   "id": "5baf38c9",
   "metadata": {},
   "outputs": [],
   "source": [
    "def slow_calc(cb=None):\n",
    "    res = 0\n",
    "    for i in range(5):\n",
    "        res += i**2\n",
    "        time.sleep(1)\n",
    "        if cb:\n",
    "            cb(i+1)\n",
    "    return res"
   ]
  },
  {
   "cell_type": "code",
   "execution_count": 19,
   "id": "022cc49c",
   "metadata": {},
   "outputs": [],
   "source": [
    "def show_progress(i):\n",
    "    print(f\"completed: {i}\")"
   ]
  },
  {
   "cell_type": "code",
   "execution_count": 20,
   "id": "2fbef484",
   "metadata": {},
   "outputs": [
    {
     "name": "stdout",
     "output_type": "stream",
     "text": [
      "completed: 1\n",
      "completed: 2\n",
      "completed: 3\n",
      "completed: 4\n",
      "completed: 5\n"
     ]
    },
    {
     "data": {
      "text/plain": [
       "30"
      ]
     },
     "execution_count": 20,
     "metadata": {},
     "output_type": "execute_result"
    }
   ],
   "source": [
    "slow_calc(cb=show_progress)"
   ]
  },
  {
   "cell_type": "markdown",
   "id": "4323ea62",
   "metadata": {},
   "source": [
    "#### partials"
   ]
  },
  {
   "cell_type": "code",
   "execution_count": null,
   "id": "9db08be3",
   "metadata": {},
   "outputs": [],
   "source": []
  }
 ],
 "metadata": {
  "kernelspec": {
   "display_name": "Python 3 (ipykernel)",
   "language": "python",
   "name": "python3"
  },
  "language_info": {
   "codemirror_mode": {
    "name": "ipython",
    "version": 3
   },
   "file_extension": ".py",
   "mimetype": "text/x-python",
   "name": "python",
   "nbconvert_exporter": "python",
   "pygments_lexer": "ipython3",
   "version": "3.9.7"
  }
 },
 "nbformat": 4,
 "nbformat_minor": 5
}
