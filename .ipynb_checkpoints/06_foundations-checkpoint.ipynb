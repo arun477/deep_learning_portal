{
 "cells": [
  {
   "cell_type": "code",
   "execution_count": 1,
   "id": "92426e63",
   "metadata": {},
   "outputs": [],
   "source": [
    "import torch\n",
    "import matplotlib.pyplot as plt\n",
    "import random"
   ]
  },
  {
   "cell_type": "markdown",
   "id": "d86f8b62",
   "metadata": {},
   "source": [
    "#### widgets"
   ]
  },
  {
   "cell_type": "code",
   "execution_count": 3,
   "id": "dcd3db53",
   "metadata": {},
   "outputs": [],
   "source": [
    "import ipywidgets as widgets"
   ]
  },
  {
   "cell_type": "code",
   "execution_count": 9,
   "id": "17afa60b",
   "metadata": {},
   "outputs": [
    {
     "data": {
      "application/vnd.jupyter.widget-view+json": {
       "model_id": "3bcf4975f3ca49239bd1b2fa833ade24",
       "version_major": 2,
       "version_minor": 0
      },
      "text/plain": [
       "Button(description='click', style=ButtonStyle())"
      ]
     },
     "metadata": {},
     "output_type": "display_data"
    },
    {
     "name": "stdout",
     "output_type": "stream",
     "text": [
      "hi\n",
      "hi\n"
     ]
    }
   ],
   "source": [
    "w = widgets.Button(description='click')\n",
    "w.on_click(lambda x: print('hi'))\n",
    "w"
   ]
  },
  {
   "cell_type": "markdown",
   "id": "f8a2870f",
   "metadata": {},
   "source": [
    "#### callback basics"
   ]
  },
  {
   "cell_type": "code",
   "execution_count": 10,
   "id": "b9fc6660",
   "metadata": {},
   "outputs": [],
   "source": [
    "import time"
   ]
  },
  {
   "cell_type": "code",
   "execution_count": 11,
   "id": "641832cf",
   "metadata": {},
   "outputs": [],
   "source": [
    "def slow_calc():\n",
    "    res = 0\n",
    "    for i in range(5):\n",
    "        res += i**2\n",
    "        time.sleep(1)\n",
    "    return res"
   ]
  },
  {
   "cell_type": "code",
   "execution_count": 12,
   "id": "3bb18ede",
   "metadata": {},
   "outputs": [
    {
     "data": {
      "text/plain": [
       "30"
      ]
     },
     "execution_count": 12,
     "metadata": {},
     "output_type": "execute_result"
    }
   ],
   "source": [
    "slow_calc()"
   ]
  },
  {
   "cell_type": "code",
   "execution_count": 18,
   "id": "d656d1a4",
   "metadata": {},
   "outputs": [],
   "source": [
    "def slow_calc(cb=None):\n",
    "    res = 0\n",
    "    for i in range(5):\n",
    "        res += i**2\n",
    "        time.sleep(1)\n",
    "        if cb:\n",
    "            cb(i+1)\n",
    "    return res"
   ]
  },
  {
   "cell_type": "code",
   "execution_count": 19,
   "id": "f4746792",
   "metadata": {},
   "outputs": [],
   "source": [
    "def show_progress(i):\n",
    "    print(f\"completed: {i}\")"
   ]
  },
  {
   "cell_type": "code",
   "execution_count": 20,
   "id": "e61b3511",
   "metadata": {},
   "outputs": [
    {
     "name": "stdout",
     "output_type": "stream",
     "text": [
      "completed: 1\n",
      "completed: 2\n",
      "completed: 3\n",
      "completed: 4\n",
      "completed: 5\n"
     ]
    },
    {
     "data": {
      "text/plain": [
       "30"
      ]
     },
     "execution_count": 20,
     "metadata": {},
     "output_type": "execute_result"
    }
   ],
   "source": [
    "slow_calc(cb=show_progress)"
   ]
  },
  {
   "cell_type": "markdown",
   "id": "1718f3d1",
   "metadata": {},
   "source": [
    "#### partials"
   ]
  },
  {
   "cell_type": "code",
   "execution_count": 21,
   "id": "7ff3e59b",
   "metadata": {},
   "outputs": [],
   "source": [
    "def show_progress(msg, i):\n",
    "    print(f\"{msg}: {i}\")"
   ]
  },
  {
   "cell_type": "code",
   "execution_count": 22,
   "id": "eb11cd5c",
   "metadata": {},
   "outputs": [
    {
     "name": "stdout",
     "output_type": "stream",
     "text": [
      "hey completed!: 1\n",
      "hey completed!: 2\n",
      "hey completed!: 3\n",
      "hey completed!: 4\n",
      "hey completed!: 5\n"
     ]
    },
    {
     "data": {
      "text/plain": [
       "30"
      ]
     },
     "execution_count": 22,
     "metadata": {},
     "output_type": "execute_result"
    }
   ],
   "source": [
    "slow_calc(lambda i: show_progress('hey completed!', i))"
   ]
  },
  {
   "cell_type": "code",
   "execution_count": 23,
   "id": "e39143f3",
   "metadata": {},
   "outputs": [],
   "source": [
    "def make_show_progress(msg):\n",
    "    def _f(i):\n",
    "        print(f\"{msg}: {i}\")\n",
    "    return _f"
   ]
  },
  {
   "cell_type": "code",
   "execution_count": 24,
   "id": "cc2c3082",
   "metadata": {},
   "outputs": [
    {
     "name": "stdout",
     "output_type": "stream",
     "text": [
      "Nice: 1\n",
      "Nice: 2\n",
      "Nice: 3\n",
      "Nice: 4\n",
      "Nice: 5\n"
     ]
    },
    {
     "data": {
      "text/plain": [
       "30"
      ]
     },
     "execution_count": 24,
     "metadata": {},
     "output_type": "execute_result"
    }
   ],
   "source": [
    "slow_calc(make_show_progress('Nice'))"
   ]
  },
  {
   "cell_type": "code",
   "execution_count": 25,
   "id": "a3ef8ef9",
   "metadata": {},
   "outputs": [],
   "source": [
    "from functools import partial"
   ]
  },
  {
   "cell_type": "code",
   "execution_count": 27,
   "id": "3e74173e",
   "metadata": {},
   "outputs": [
    {
     "name": "stdout",
     "output_type": "stream",
     "text": [
      "oha: 1\n",
      "oha: 2\n",
      "oha: 3\n",
      "oha: 4\n",
      "oha: 5\n"
     ]
    },
    {
     "data": {
      "text/plain": [
       "30"
      ]
     },
     "execution_count": 27,
     "metadata": {},
     "output_type": "execute_result"
    }
   ],
   "source": [
    "slow_calc(partial(show_progress, 'oha'))"
   ]
  },
  {
   "cell_type": "markdown",
   "id": "bb5ced52",
   "metadata": {},
   "source": [
    "#### callback as callable classes"
   ]
  },
  {
   "cell_type": "code",
   "execution_count": 31,
   "id": "4a5808b5",
   "metadata": {},
   "outputs": [],
   "source": [
    "class ProgressShowClb():\n",
    "    def __init__(self, msg):\n",
    "        self.msg = msg\n",
    "    \n",
    "    def __call__(self, i):\n",
    "        print(f\"{self.msg}: {i}\")"
   ]
  },
  {
   "cell_type": "code",
   "execution_count": 32,
   "id": "428f2a6d",
   "metadata": {},
   "outputs": [],
   "source": [
    "cb = ProgressShowClb('ola ola')"
   ]
  },
  {
   "cell_type": "code",
   "execution_count": 33,
   "id": "218e604b",
   "metadata": {},
   "outputs": [
    {
     "name": "stdout",
     "output_type": "stream",
     "text": [
      "ola ola: 1\n",
      "ola ola: 2\n",
      "ola ola: 3\n",
      "ola ola: 4\n",
      "ola ola: 5\n"
     ]
    },
    {
     "data": {
      "text/plain": [
       "30"
      ]
     },
     "execution_count": 33,
     "metadata": {},
     "output_type": "execute_result"
    }
   ],
   "source": [
    "slow_calc(cb)"
   ]
  },
  {
   "cell_type": "markdown",
   "id": "7f08fbf5",
   "metadata": {},
   "source": [
    "#### multiple callback funcs; *args and **kwargs"
   ]
  },
  {
   "cell_type": "code",
   "execution_count": 34,
   "id": "243cb363",
   "metadata": {},
   "outputs": [],
   "source": [
    "def f(*args, **kwargs):\n",
    "     print(f\"args: {args}, kwargs:{kwargs}\")"
   ]
  },
  {
   "cell_type": "code",
   "execution_count": 37,
   "id": "73a4e270",
   "metadata": {},
   "outputs": [
    {
     "name": "stdout",
     "output_type": "stream",
     "text": [
      "args: ('h', '0'), kwargs:{'t': 'v', 'k': 'n'}\n"
     ]
    }
   ],
   "source": [
    "f('h', '0', t='v', k='n')"
   ]
  },
  {
   "cell_type": "code",
   "execution_count": 38,
   "id": "372b51cc",
   "metadata": {},
   "outputs": [],
   "source": [
    "def g(a, b, c=0):\n",
    "    print(a, b, c)"
   ]
  },
  {
   "cell_type": "code",
   "execution_count": 40,
   "id": "ccc81132",
   "metadata": {},
   "outputs": [
    {
     "name": "stdout",
     "output_type": "stream",
     "text": [
      "h e o\n"
     ]
    }
   ],
   "source": [
    "args = ['h', 'e']\n",
    "kwargs = {'c': 'o'}\n",
    "g(*args, **kwargs)"
   ]
  },
  {
   "cell_type": "code",
   "execution_count": 47,
   "id": "803a7b4f",
   "metadata": {},
   "outputs": [],
   "source": [
    "def slow_calc(cb=None):\n",
    "    res = 0\n",
    "    for i in range(5):\n",
    "        if cb:\n",
    "            cb.before_clb(i)\n",
    "        res += i**2\n",
    "        if cb:\n",
    "            cb.after_clb(i, val=res)\n",
    "    return res"
   ]
  },
  {
   "cell_type": "code",
   "execution_count": 48,
   "id": "d77fb6cc",
   "metadata": {},
   "outputs": [],
   "source": [
    "class ProgressCB():\n",
    "    def before_clb(self, *args, **kwargs):\n",
    "        print('sted started')\n",
    "    \n",
    "    def after_clb(self, *args, **kwargs):\n",
    "        print('step done')"
   ]
  },
  {
   "cell_type": "code",
   "execution_count": 49,
   "id": "ab2eaece",
   "metadata": {},
   "outputs": [
    {
     "name": "stdout",
     "output_type": "stream",
     "text": [
      "sted started\n",
      "step done\n",
      "sted started\n",
      "step done\n",
      "sted started\n",
      "step done\n",
      "sted started\n",
      "step done\n",
      "sted started\n",
      "step done\n"
     ]
    },
    {
     "data": {
      "text/plain": [
       "30"
      ]
     },
     "execution_count": 49,
     "metadata": {},
     "output_type": "execute_result"
    }
   ],
   "source": [
    "slow_calc(ProgressCB())"
   ]
  },
  {
   "cell_type": "code",
   "execution_count": 50,
   "id": "cc324eef",
   "metadata": {},
   "outputs": [],
   "source": [
    "class ProgressCB():\n",
    "    def before_clb(self, *args, **kwargs):\n",
    "        print('sted started')\n",
    "    \n",
    "    def after_clb(self, epoch, val, **kwargs):\n",
    "        print(f'step:{epoch}, val:{val}')"
   ]
  },
  {
   "cell_type": "code",
   "execution_count": 51,
   "id": "61648f70",
   "metadata": {},
   "outputs": [
    {
     "name": "stdout",
     "output_type": "stream",
     "text": [
      "sted started\n",
      "step:0, val:0\n",
      "sted started\n",
      "step:1, val:1\n",
      "sted started\n",
      "step:2, val:5\n",
      "sted started\n",
      "step:3, val:14\n",
      "sted started\n",
      "step:4, val:30\n"
     ]
    },
    {
     "data": {
      "text/plain": [
       "30"
      ]
     },
     "execution_count": 51,
     "metadata": {},
     "output_type": "execute_result"
    }
   ],
   "source": [
    "slow_calc(ProgressCB())"
   ]
  },
  {
   "cell_type": "markdown",
   "id": "b9075819",
   "metadata": {},
   "source": [
    "#### modifying func behaviour through callbacks"
   ]
  },
  {
   "cell_type": "code",
   "execution_count": 53,
   "id": "9745953b",
   "metadata": {},
   "outputs": [],
   "source": [
    "def slow_calc(cb=None):\n",
    "    res = 0\n",
    "    for i in range(5):\n",
    "        if cb:\n",
    "            cb.before_clb(i)\n",
    "        res += i**2\n",
    "        if cb:\n",
    "            if cb.after_clb(i, res):\n",
    "                break\n",
    "    return res"
   ]
  },
  {
   "cell_type": "code",
   "execution_count": 54,
   "id": "11a5119e",
   "metadata": {},
   "outputs": [],
   "source": [
    "class ProgressCB():\n",
    "    def before_clb(self, *args, **kwargs):\n",
    "        print('sted started')\n",
    "    \n",
    "    def after_clb(self, epoch, val, **kwargs):\n",
    "        if val == 5:\n",
    "            return True\n",
    "        print(f'step:{epoch}, val:{val}')"
   ]
  },
  {
   "cell_type": "code",
   "execution_count": 55,
   "id": "c52c8d0f",
   "metadata": {},
   "outputs": [
    {
     "name": "stdout",
     "output_type": "stream",
     "text": [
      "sted started\n",
      "step:0, val:0\n",
      "sted started\n",
      "step:1, val:1\n",
      "sted started\n"
     ]
    },
    {
     "data": {
      "text/plain": [
       "5"
      ]
     },
     "execution_count": 55,
     "metadata": {},
     "output_type": "execute_result"
    }
   ],
   "source": [
    "slow_calc(cb=ProgressCB())"
   ]
  },
  {
   "cell_type": "code",
   "execution_count": 73,
   "id": "895c0d98",
   "metadata": {},
   "outputs": [],
   "source": [
    "class SlowCalc():\n",
    "    def __init__(self, cb=None):\n",
    "        self.res, self.cb = 0, cb\n",
    "    \n",
    "    def callback(self, cb_name, *args):\n",
    "        if not self.cb:\n",
    "            return\n",
    "        cb = getattr(self.cb, cb_name, None)\n",
    "        if cb:\n",
    "            return cb(self, *args)\n",
    "    \n",
    "    def calc(self):\n",
    "        for i in range(5):\n",
    "            self.callback('before_cb', i)\n",
    "            self.res += i**2\n",
    "            time.sleep(1)\n",
    "            if self.callback('after_cb', i):\n",
    "                print('early stopping')\n",
    "                break"
   ]
  },
  {
   "cell_type": "code",
   "execution_count": 74,
   "id": "ba39b6a3",
   "metadata": {},
   "outputs": [],
   "source": [
    "class ProgressCB():\n",
    "    def after_cb(self, calc, epoch):\n",
    "        if calc.res >= 10:\n",
    "            return True\n",
    "        print(f'step:{epoch}, val:{calc.res}')"
   ]
  },
  {
   "cell_type": "code",
   "execution_count": 76,
   "id": "9957bd9a",
   "metadata": {},
   "outputs": [
    {
     "name": "stdout",
     "output_type": "stream",
     "text": [
      "step:0, val:0\n",
      "step:1, val:1\n",
      "step:2, val:5\n",
      "early stopping\n"
     ]
    },
    {
     "data": {
      "text/plain": [
       "14"
      ]
     },
     "execution_count": 76,
     "metadata": {},
     "output_type": "execute_result"
    }
   ],
   "source": [
    "calc = SlowCalc(cb=ProgressCB())\n",
    "calc.calc()\n",
    "calc.res"
   ]
  },
  {
   "cell_type": "code",
   "execution_count": null,
   "id": "8cbb5502",
   "metadata": {},
   "outputs": [],
   "source": []
  }
 ],
 "metadata": {
  "kernelspec": {
   "display_name": "Python 3 (ipykernel)",
   "language": "python",
   "name": "python3"
  },
  "language_info": {
   "codemirror_mode": {
    "name": "ipython",
    "version": 3
   },
   "file_extension": ".py",
   "mimetype": "text/x-python",
   "name": "python",
   "nbconvert_exporter": "python",
   "pygments_lexer": "ipython3",
   "version": "3.9.7"
  }
 },
 "nbformat": 4,
 "nbformat_minor": 5
}
