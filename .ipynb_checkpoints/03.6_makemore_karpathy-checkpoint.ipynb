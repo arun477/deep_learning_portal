{
 "cells": [
  {
   "cell_type": "code",
   "execution_count": 58,
   "id": "b0e9377e",
   "metadata": {},
   "outputs": [],
   "source": [
    "import torch, math\n",
    "import matplotlib.pyplot as plt\n",
    "%matplotlib inline"
   ]
  },
  {
   "cell_type": "code",
   "execution_count": 59,
   "id": "adb70662",
   "metadata": {},
   "outputs": [
    {
     "data": {
      "text/plain": [
       "21974"
      ]
     },
     "execution_count": 59,
     "metadata": {},
     "output_type": "execute_result"
    }
   ],
   "source": [
    "words = open('data/names.txt').read().splitlines()\n",
    "words = list(set(w.lower() for w in words))\n",
    "len(words)"
   ]
  },
  {
   "cell_type": "code",
   "execution_count": 60,
   "id": "8f3e1d27",
   "metadata": {},
   "outputs": [
    {
     "data": {
      "text/plain": [
       "29"
      ]
     },
     "execution_count": 60,
     "metadata": {},
     "output_type": "execute_result"
    }
   ],
   "source": [
    "chars = sorted(list(set(\"\".join(words))))\n",
    "stoi = {s:i for i,s in enumerate(chars)}\n",
    "stoi['.'] = 0\n",
    "itos = {i:s for s,i in stoi.items()}\n",
    "vocab_size = len(itos)\n",
    "vocab_size"
   ]
  },
  {
   "cell_type": "code",
   "execution_count": 67,
   "id": "f82b5afe",
   "metadata": {},
   "outputs": [],
   "source": [
    "block_size = 3\n",
    "\n",
    "def build_dataset(words):\n",
    "    X,Y = [], []\n",
    "    context = [0]*block_size\n",
    "    for w in words:\n",
    "        for ch in w+'.':\n",
    "            ix = stoi[ch]\n",
    "            Y.append(ix)\n",
    "            X.append(context)\n",
    "            context = context[1:] + [ix]\n",
    "    X,Y = torch.tensor(X), torch.tensor(Y)\n",
    "    print(X.shape, Y.shape)\n",
    "    return X,Y"
   ]
  },
  {
   "cell_type": "code",
   "execution_count": 68,
   "id": "898dd50f",
   "metadata": {},
   "outputs": [
    {
     "name": "stdout",
     "output_type": "stream",
     "text": [
      "torch.Size([125808, 3]) torch.Size([125808])\n",
      "torch.Size([15762, 3]) torch.Size([15762])\n",
      "torch.Size([15710, 3]) torch.Size([15710])\n"
     ]
    }
   ],
   "source": [
    "import random\n",
    "\n",
    "random.shuffle(words)\n",
    "\n",
    "n1 = int(0.8*len(words))\n",
    "n2 = int(0.9*len(words))\n",
    "\n",
    "Xtr,Ytr = build_dataset(words[:n1])\n",
    "Xdev,Ydev = build_dataset(words[n1:n2])\n",
    "Xte,Yte = build_dataset(words[n2:])"
   ]
  },
  {
   "cell_type": "code",
   "execution_count": 69,
   "id": "675a5bfb",
   "metadata": {},
   "outputs": [],
   "source": [
    "def cmp(s, dt, t):\n",
    "    exc = torch.all(dt==t.grad).item()\n",
    "    app = torch.allclose(dt, t.grad)\n",
    "    maxdiff = (dt-t.grad).abs().max().item()\n",
    "    print(f\"{s:15s} | exact {str(exc):5s} | abs {str(app):5s} | maxdiff {maxdiff:}\")"
   ]
  },
  {
   "cell_type": "code",
   "execution_count": 70,
   "id": "6535fa31",
   "metadata": {},
   "outputs": [
    {
     "name": "stdout",
     "output_type": "stream",
     "text": [
      "4287\n"
     ]
    }
   ],
   "source": [
    "n_emb = 10\n",
    "n_hidden = 64\n",
    "\n",
    "C = torch.randn((vocab_size, n_emb))\n",
    "\n",
    "W1 = torch.randn((n_emb*block_size, n_hidden)) * (5/3)/((n_emb*block_size)**0.5)\n",
    "b1 = torch.randn(n_hidden) * 0.1\n",
    "\n",
    "bngain = torch.randn((1, n_hidden))*0.1 + 1.0\n",
    "bnbias = torch.randn((1, n_hidden))*0.1\n",
    "\n",
    "W2 = torch.randn((n_hidden, vocab_size)) * 0.1\n",
    "b2 = torch.randn(vocab_size) * 0.1\n",
    "\n",
    "\n",
    "parameters = [C, W1, b1, W2, b2, bngain, bnbias]\n",
    "print(sum(p.nelement() for p in parameters))\n",
    "for p in parameters:\n",
    "    p.requires_grad = True"
   ]
  },
  {
   "cell_type": "code",
   "execution_count": 71,
   "id": "05ea0dbf",
   "metadata": {},
   "outputs": [
    {
     "data": {
      "text/plain": [
       "(torch.Size([32, 3]), torch.Size([32]))"
      ]
     },
     "execution_count": 71,
     "metadata": {},
     "output_type": "execute_result"
    }
   ],
   "source": [
    "batch_size = 32\n",
    "n = batch_size\n",
    "bix = torch.randint(0, Xtr.shape[0], (n,))\n",
    "Xb,Yb = Xtr[bix], Ytr[bix]\n",
    "Xb.shape, Yb.shape"
   ]
  },
  {
   "cell_type": "code",
   "execution_count": 106,
   "id": "973d6e0b",
   "metadata": {},
   "outputs": [],
   "source": [
    "emb = C[Xb]\n",
    "emb_cat = emb.view(emb.shape[0], -1)\n",
    "hprebn = emb_cat @ W1 + b1\n",
    "\n",
    "bnmeani = 1/n*hprebn.sum(0, keepdim=True)\n",
    "bndiff = hprebn - bnmeani\n",
    "bndiff2 = bndiff**2\n",
    "\n",
    "bnvar = 1/(n-1)*bndiff2.sum(0, keepdim=True)\n",
    "bnvar_inv = (bnvar + 1e-5)**-0.5\n",
    "\n",
    "bnraw = bndiff * bnvar_inv\n",
    "\n",
    "hpreact = bngain * bnraw + bnbias\n",
    "\n",
    "h = torch.tanh(hpreact)\n",
    "\n",
    "logits = h @ W2 + b2\n",
    "\n",
    "logits_max = logits.max(1, keepdim=True).values\n",
    "logits_norm = logits - logits_max\n",
    "counts = logits_norm.exp()\n",
    "counts_sum = counts.sum(1, keepdim=True)\n",
    "counts_sum_inv = counts_sum**-1\n",
    "probs = counts*counts_sum_inv\n",
    "logprobs = probs.log()\n",
    "loss = -logprobs[range(n), Yb]\n",
    "\n",
    "\n",
    "for p in parameters:\n",
    "    p.grad = None\n",
    "    \n",
    "    \n",
    "for t in [logprobs, probs, counts, counts_sum, counts_sum_inv,\n",
    "          logits_norm, logits_max, logits, h, hpreact, bnraw, bnvar,\n",
    "          bnvar_inv, bndiff2, bndiff, hprebn, bnmeani,emb_cat, emb\n",
    "         ]:\n",
    "    t.retain_grad()"
   ]
  },
  {
   "cell_type": "code",
   "execution_count": null,
   "id": "bf9ddbe1",
   "metadata": {},
   "outputs": [],
   "source": []
  },
  {
   "cell_type": "code",
   "execution_count": null,
   "id": "dff394ce",
   "metadata": {},
   "outputs": [],
   "source": []
  }
 ],
 "metadata": {
  "kernelspec": {
   "display_name": "Python 3 (ipykernel)",
   "language": "python",
   "name": "python3"
  },
  "language_info": {
   "codemirror_mode": {
    "name": "ipython",
    "version": 3
   },
   "file_extension": ".py",
   "mimetype": "text/x-python",
   "name": "python",
   "nbconvert_exporter": "python",
   "pygments_lexer": "ipython3",
   "version": "3.9.7"
  }
 },
 "nbformat": 4,
 "nbformat_minor": 5
}
