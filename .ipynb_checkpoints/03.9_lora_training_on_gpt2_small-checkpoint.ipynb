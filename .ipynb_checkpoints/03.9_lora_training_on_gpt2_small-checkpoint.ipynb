{
 "cells": [
  {
   "cell_type": "code",
   "execution_count": 1,
   "id": "0d8d25bc",
   "metadata": {},
   "outputs": [],
   "source": [
    "# todo: load pre-trained gpt-2 small model from hugging face if possible detach layers.\n",
    "# directly modify layers with lora. porting weight should be done carefully"
   ]
  },
  {
   "cell_type": "code",
   "execution_count": null,
   "id": "b46ece9e",
   "metadata": {},
   "outputs": [],
   "source": []
  }
 ],
 "metadata": {
  "kernelspec": {
   "display_name": "Python 3 (ipykernel)",
   "language": "python",
   "name": "python3"
  },
  "language_info": {
   "codemirror_mode": {
    "name": "ipython",
    "version": 3
   },
   "file_extension": ".py",
   "mimetype": "text/x-python",
   "name": "python",
   "nbconvert_exporter": "python",
   "pygments_lexer": "ipython3",
   "version": "3.9.7"
  }
 },
 "nbformat": 4,
 "nbformat_minor": 5
}
