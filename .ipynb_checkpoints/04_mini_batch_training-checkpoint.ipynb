{
 "cells": [
  {
   "cell_type": "code",
   "execution_count": 12,
   "id": "91984cd1",
   "metadata": {},
   "outputs": [],
   "source": [
    "import torch, torch.nn as nn\n",
    "import torch.nn.functional as F\n",
    "from pathlib import Path\n",
    "import gzip, pickle, matplotlib.pyplot as plt"
   ]
  },
  {
   "cell_type": "code",
   "execution_count": 7,
   "id": "ade25648",
   "metadata": {},
   "outputs": [
    {
     "data": {
      "text/plain": [
       "(torch.Size([50000, 784]),\n",
       " torch.Size([50000]),\n",
       " torch.Size([10000, 784]),\n",
       " torch.Size([10000]))"
      ]
     },
     "execution_count": 7,
     "metadata": {},
     "output_type": "execute_result"
    }
   ],
   "source": [
    "data_path = Path('data/mnist.pkl.gz')\n",
    "with gzip.open(data_path, 'r') as f:\n",
    "    ((x_train, y_train), (x_test, y_test), _) = pickle.load(f, encoding='latin') \n",
    "x_train, y_train, x_test, y_test = map(torch.tensor, (x_train, y_train, x_test, y_test))\n",
    "x_train.shape, y_train.shape, x_test.shape, y_test.shape"
   ]
  },
  {
   "cell_type": "code",
   "execution_count": 11,
   "id": "8a4b8340",
   "metadata": {},
   "outputs": [
    {
     "data": {
      "image/png": "[encoded data removed]",
      "text/plain": [
       "<Figure size 432x288 with 1 Axes>"
      ]
     },
     "metadata": {
      "needs_background": "light"
     },
     "output_type": "display_data"
    }
   ],
   "source": [
    "img = x_train[0]\n",
    "img = img.view(28, 28)\n",
    "plt.imshow(img);\n",
    "plt.axis('off');"
   ]
  },
  {
   "cell_type": "markdown",
   "id": "0545d5a6",
   "metadata": {},
   "source": [
    "```python\n",
    "# simple 2 layer nn\n",
    "\n",
    "```"
   ]
  },
  {
   "cell_type": "code",
   "execution_count": 19,
   "id": "750c8d2e",
   "metadata": {},
   "outputs": [],
   "source": [
    "class Model(nn.Module):\n",
    "    def __init__(self, n_in, n_h, n_o):\n",
    "        super().__init__()\n",
    "        self.layers = [nn.Linear(n_in, n_h), nn.ReLU(), nn.Linear(n_h, n_o)]\n",
    "    \n",
    "    def __call__(self, x):\n",
    "        for l in self.layers:\n",
    "            x = l(x)\n",
    "        return x"
   ]
  },
  {
   "cell_type": "code",
   "execution_count": 25,
   "id": "dd08e8aa",
   "metadata": {},
   "outputs": [
    {
     "data": {
      "text/plain": [
       "torch.Size([50000, 10])"
      ]
     },
     "execution_count": 25,
     "metadata": {},
     "output_type": "execute_result"
    }
   ],
   "source": [
    "n_in = x_train.shape[1]\n",
    "n_h = 50\n",
    "n_o = 10\n",
    "\n",
    "m = Model(n_in, n_h, n_o)\n",
    "pred = m(x_train)\n",
    "pred.shape"
   ]
  },
  {
   "cell_type": "markdown",
   "id": "5f9023f1",
   "metadata": {},
   "source": [
    "```python\n",
    "# cross entropy loss\n",
    "\n",
    "```"
   ]
  },
  {
   "cell_type": "code",
   "execution_count": 28,
   "id": "194b59cd",
   "metadata": {},
   "outputs": [],
   "source": [
    "def log_softmax(x):\n",
    "    return (x.exp()/x.exp().sum(-1, keepdim=True)).log()"
   ]
  },
  {
   "cell_type": "code",
   "execution_count": 27,
   "id": "3e9e37a4",
   "metadata": {},
   "outputs": [
    {
     "data": {
      "text/plain": [
       "tensor([[-2.3409, -2.2223, -2.2488,  ..., -2.2479, -2.2836, -2.3605],\n",
       "        [-2.2370, -2.3459, -2.3272,  ..., -2.1997, -2.2807, -2.4286],\n",
       "        [-2.3528, -2.3656, -2.3088,  ..., -2.2208, -2.3294, -2.3476],\n",
       "        ...,\n",
       "        [-2.3864, -2.2722, -2.2351,  ..., -2.3467, -2.2651, -2.3086],\n",
       "        [-2.4108, -2.2949, -2.2758,  ..., -2.3276, -2.3008, -2.2835],\n",
       "        [-2.3530, -2.2503, -2.3203,  ..., -2.2206, -2.2502, -2.4000]],\n",
       "       grad_fn=<LogBackward0>)"
      ]
     },
     "execution_count": 27,
     "metadata": {},
     "output_type": "execute_result"
    }
   ],
   "source": [
    "log_softmax(pred)"
   ]
  },
  {
   "cell_type": "markdown",
   "id": "fbd7c885",
   "metadata": {},
   "source": [
    "```python\n",
    "# log product to sum trick\n",
    "\n",
    "```"
   ]
  },
  {
   "cell_type": "code",
   "execution_count": 32,
   "id": "3097408a",
   "metadata": {},
   "outputs": [],
   "source": [
    "def log_softmax(x):\n",
    "    return x - x.exp().sum(-1, keepdim=True).log()"
   ]
  },
  {
   "cell_type": "code",
   "execution_count": 33,
   "id": "2ddf989c",
   "metadata": {},
   "outputs": [
    {
     "data": {
      "text/plain": [
       "tensor([[-2.3409, -2.2223, -2.2488,  ..., -2.2479, -2.2836, -2.3605],\n",
       "        [-2.2370, -2.3459, -2.3272,  ..., -2.1997, -2.2807, -2.4286],\n",
       "        [-2.3528, -2.3656, -2.3088,  ..., -2.2208, -2.3294, -2.3476],\n",
       "        ...,\n",
       "        [-2.3864, -2.2722, -2.2351,  ..., -2.3467, -2.2651, -2.3086],\n",
       "        [-2.4108, -2.2949, -2.2758,  ..., -2.3276, -2.3008, -2.2835],\n",
       "        [-2.3530, -2.2503, -2.3203,  ..., -2.2206, -2.2502, -2.4000]],\n",
       "       grad_fn=<SubBackward0>)"
      ]
     },
     "execution_count": 33,
     "metadata": {},
     "output_type": "execute_result"
    }
   ],
   "source": [
    "log_softmax(pred)"
   ]
  },
  {
   "cell_type": "markdown",
   "id": "df7ed097",
   "metadata": {},
   "source": [
    "```python\n",
    "# log sum exp trick\n",
    "* normalize with the maximum value, so avoid exploding big activations.\n",
    "\n",
    "```"
   ]
  },
  {
   "cell_type": "code",
   "execution_count": 65,
   "id": "9872c1a6",
   "metadata": {},
   "outputs": [],
   "source": [
    "def logsumexp(x):\n",
    "    m = x.max(-1)[-1]\n",
    "    return m + (x-m[:,None]).exp().sum(-1).log()"
   ]
  },
  {
   "cell_type": "code",
   "execution_count": 66,
   "id": "645b8437",
   "metadata": {},
   "outputs": [],
   "source": [
    "def log_softmax(x):\n",
    "    return x - logsumexp(x)[:,None]"
   ]
  },
  {
   "cell_type": "code",
   "execution_count": 67,
   "id": "8dcb0829",
   "metadata": {},
   "outputs": [
    {
     "data": {
      "text/plain": [
       "tensor([[-2.3409, -2.2223, -2.2488,  ..., -2.2479, -2.2836, -2.3605],\n",
       "        [-2.2370, -2.3459, -2.3272,  ..., -2.1997, -2.2807, -2.4286],\n",
       "        [-2.3528, -2.3656, -2.3088,  ..., -2.2208, -2.3294, -2.3476],\n",
       "        ...,\n",
       "        [-2.3864, -2.2722, -2.2351,  ..., -2.3467, -2.2651, -2.3086],\n",
       "        [-2.4108, -2.2949, -2.2758,  ..., -2.3276, -2.3008, -2.2835],\n",
       "        [-2.3530, -2.2503, -2.3203,  ..., -2.2206, -2.2502, -2.4000]],\n",
       "       grad_fn=<SubBackward0>)"
      ]
     },
     "execution_count": 67,
     "metadata": {},
     "output_type": "execute_result"
    }
   ],
   "source": [
    "log_softmax(pred)"
   ]
  },
  {
   "cell_type": "markdown",
   "id": "8409bb53",
   "metadata": {},
   "source": [
    "```python\n",
    "# pytorch logsumexp function\n",
    "\n",
    "```"
   ]
  },
  {
   "cell_type": "code",
   "execution_count": 71,
   "id": "9ef5ce3e",
   "metadata": {},
   "outputs": [],
   "source": [
    "def log_softmax(x):\n",
    "    return x - x.logsumexp(-1, keepdim=True)"
   ]
  },
  {
   "cell_type": "code",
   "execution_count": 72,
   "id": "80123d28",
   "metadata": {},
   "outputs": [
    {
     "data": {
      "text/plain": [
       "tensor([[-2.3409, -2.2223, -2.2488,  ..., -2.2479, -2.2836, -2.3605],\n",
       "        [-2.2370, -2.3459, -2.3272,  ..., -2.1997, -2.2807, -2.4286],\n",
       "        [-2.3528, -2.3656, -2.3088,  ..., -2.2208, -2.3294, -2.3476],\n",
       "        ...,\n",
       "        [-2.3864, -2.2722, -2.2351,  ..., -2.3467, -2.2651, -2.3086],\n",
       "        [-2.4108, -2.2949, -2.2758,  ..., -2.3276, -2.3008, -2.2835],\n",
       "        [-2.3530, -2.2503, -2.3203,  ..., -2.2206, -2.2502, -2.4000]],\n",
       "       grad_fn=<SubBackward0>)"
      ]
     },
     "execution_count": 72,
     "metadata": {},
     "output_type": "execute_result"
    }
   ],
   "source": [
    "log_softmax(pred)"
   ]
  },
  {
   "cell_type": "code",
   "execution_count": null,
   "id": "65c54e97",
   "metadata": {},
   "outputs": [],
   "source": []
  }
 ],
 "metadata": {
  "kernelspec": {
   "display_name": "Python 3 (ipykernel)",
   "language": "python",
   "name": "python3"
  },
  "language_info": {
   "codemirror_mode": {
    "name": "ipython",
    "version": 3
   },
   "file_extension": ".py",
   "mimetype": "text/x-python",
   "name": "python",
   "nbconvert_exporter": "python",
   "pygments_lexer": "ipython3",
   "version": "3.9.7"
  }
 },
 "nbformat": 4,
 "nbformat_minor": 5
}
