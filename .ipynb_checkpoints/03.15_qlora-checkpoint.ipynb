{
 "cells": [
  {
   "cell_type": "markdown",
   "id": "107ffa19",
   "metadata": {},
   "source": [
    "https://arxiv.org/abs/2305.14314 (original paper) <br/>\n",
    "https://github.com/artidoro/qlora (qlora official github repo) <br/>\n",
    "https://github.com/TimDettmers/bitsandbytes (bitsandbytes github 8-bit quantisation technique) <br/>\n",
    "https://github.com/huggingface/peft (hugging face fine-tuning lib) <br/>"
   ]
  },
  {
   "cell_type": "code",
   "execution_count": 5,
   "id": "7a99094c",
   "metadata": {},
   "outputs": [],
   "source": [
    "# basic idea is quantise the original model weights with low bits than original bits for reducing \n",
    "# original weight memory, an use the lora technique to fine tune the down stream tasks without reducing \n",
    "# the pre trained weights.\n",
    "\n",
    "# why this is exciting idea?\n",
    "# LLaMA 65B requires ~780GB GPU memory.🥵\n",
    "# same model with qlora techniques can run on ~48GB GPU memor."
   ]
  },
  {
   "cell_type": "code",
   "execution_count": null,
   "id": "55c87cb2",
   "metadata": {},
   "outputs": [],
   "source": []
  }
 ],
 "metadata": {
  "kernelspec": {
   "display_name": "Python 3 (ipykernel)",
   "language": "python",
   "name": "python3"
  },
  "language_info": {
   "codemirror_mode": {
    "name": "ipython",
    "version": 3
   },
   "file_extension": ".py",
   "mimetype": "text/x-python",
   "name": "python",
   "nbconvert_exporter": "python",
   "pygments_lexer": "ipython3",
   "version": "3.9.7"
  }
 },
 "nbformat": 4,
 "nbformat_minor": 5
}
