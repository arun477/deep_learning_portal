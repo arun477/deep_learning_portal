{
 "cells": [
  {
   "cell_type": "markdown",
   "id": "56dd690d",
   "metadata": {},
   "source": [
    "https://arxiv.org/abs/2305.14314 (original paper) <br/>\n",
    "https://github.com/artidoro/qlora (qlora official github repo) <br/>\n",
    "https://github.com/TimDettmers/bitsandbytes (bitsandbytes github 8-bit quantisation technique) <br/>\n",
    "https://github.com/huggingface/peft (hugging face fine-tuning lib) <br/>"
   ]
  },
  {
   "cell_type": "code",
   "execution_count": 3,
   "id": "9f5ca273",
   "metadata": {},
   "outputs": [],
   "source": [
    "# basic idea is quantise the original model weights with low bits than original bits for reducing \n",
    "# original weight memory, an use the lora technique to fine tune the down stream tasks without reducing \n",
    "# the pre trained weights."
   ]
  },
  {
   "cell_type": "code",
   "execution_count": null,
   "id": "02644c0b",
   "metadata": {},
   "outputs": [],
   "source": []
  }
 ],
 "metadata": {
  "kernelspec": {
   "display_name": "Python 3 (ipykernel)",
   "language": "python",
   "name": "python3"
  },
  "language_info": {
   "codemirror_mode": {
    "name": "ipython",
    "version": 3
   },
   "file_extension": ".py",
   "mimetype": "text/x-python",
   "name": "python",
   "nbconvert_exporter": "python",
   "pygments_lexer": "ipython3",
   "version": "3.9.7"
  }
 },
 "nbformat": 4,
 "nbformat_minor": 5
}
