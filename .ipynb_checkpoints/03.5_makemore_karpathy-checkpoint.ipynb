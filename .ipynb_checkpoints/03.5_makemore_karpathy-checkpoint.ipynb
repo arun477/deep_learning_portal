{
 "cells": [
  {
   "cell_type": "code",
   "execution_count": 2,
   "id": "f70291c1",
   "metadata": {},
   "outputs": [],
   "source": [
    "import torch\n",
    "import matplotlib.pyplot as plt\n",
    "import torch.nn.functional as F\n",
    "%matplotlib inline"
   ]
  },
  {
   "cell_type": "code",
   "execution_count": 3,
   "id": "c965dace",
   "metadata": {},
   "outputs": [
    {
     "data": {
      "text/plain": [
       "21985"
      ]
     },
     "execution_count": 3,
     "metadata": {},
     "output_type": "execute_result"
    }
   ],
   "source": [
    "words = open('data/names.txt').read().splitlines()\n",
    "words = list(w.lower() for w in words)\n",
    "len(words)"
   ]
  },
  {
   "cell_type": "code",
   "execution_count": 12,
   "id": "a2e1c3f0",
   "metadata": {},
   "outputs": [],
   "source": [
    "chars = sorted(list(set(\"\".join(words))))\n",
    "stoi = {s:i+1 for i,s in enumerate(chars)}\n",
    "stoi['.'] = 0\n",
    "itos = {i:s for s,i in stoi.items()}\n",
    "block_size = 3\n",
    "vocab_size = len(stoi)"
   ]
  },
  {
   "cell_type": "code",
   "execution_count": 9,
   "id": "2a46f026",
   "metadata": {},
   "outputs": [],
   "source": [
    "def build_dataset(words):\n",
    "    X,Y = [],[]\n",
    "    context = [0]*block_size\n",
    "    for w in words:\n",
    "        for ch in w+'.':\n",
    "            ix = stoi[ch]\n",
    "            X.append(context)\n",
    "            Y.append(ix)\n",
    "            context = context[1:] + [ix]\n",
    "    X = torch.tensor(X)\n",
    "    Y = torch.tensor(Y)\n",
    "    print(X.shape, Y.shape)\n",
    "    return X, Y"
   ]
  },
  {
   "cell_type": "code",
   "execution_count": 11,
   "id": "40e066f8",
   "metadata": {},
   "outputs": [
    {
     "name": "stdout",
     "output_type": "stream",
     "text": [
      "torch.Size([125725, 3]) torch.Size([125725])\n",
      "torch.Size([16100, 3]) torch.Size([16100])\n",
      "torch.Size([15535, 3]) torch.Size([15535])\n"
     ]
    }
   ],
   "source": [
    "n1 = int(0.8*len(words))\n",
    "n2 = int(0.9*len(words))\n",
    "Xtr,Ytr = build_dataset(words[:n1])\n",
    "Xdev,Ydev = build_dataset(words[n1:n2])\n",
    "Xte,Yte = build_dataset(words[n2:])"
   ]
  },
  {
   "cell_type": "code",
   "execution_count": 27,
   "id": "8c426d08",
   "metadata": {},
   "outputs": [
    {
     "name": "stdout",
     "output_type": "stream",
     "text": [
      "total params:  12730\n"
     ]
    }
   ],
   "source": [
    "n_emb = 10\n",
    "n_hidden = 200\n",
    "\n",
    "C = torch.randn((vocab_size, n_emb))\n",
    "W1 = torch.randn((n_emb*block_size, n_hidden)) * (5/3)/((n_emb * block_size)**0.5)\n",
    "# b1 = torch.randn(n_hidden) * 0\n",
    "W2 = torch.randn((n_hidden, vocab_size)) * 0.01\n",
    "b2 = torch.randn(vocab_size) * 0\n",
    "\n",
    "bngain = torch.ones((1, n_hidden))\n",
    "bnbias = torch.zeros((1, n_hidden))\n",
    "\n",
    "bnmean_running = torch.zeros((1, n_hidden))\n",
    "bnstd_running = torch.ones((1, n_hidden))\n",
    "\n",
    "parameters = [C, W1, W2, b2, bngain, bnbias]\n",
    "print('total params: ', sum(p.nelement() for p in parameters))\n",
    "for p in parameters:\n",
    "    p.requires_grad = True"
   ]
  },
  {
   "cell_type": "code",
   "execution_count": 29,
   "id": "1008d378",
   "metadata": {},
   "outputs": [
    {
     "name": "stdout",
     "output_type": "stream",
     "text": [
      "0/200000, loss:3.3858\n",
      "10000/200000, loss:2.7203\n",
      "20000/200000, loss:2.6779\n",
      "30000/200000, loss:2.4910\n",
      "40000/200000, loss:2.3609\n",
      "50000/200000, loss:2.4546\n",
      "60000/200000, loss:2.6440\n",
      "70000/200000, loss:2.2570\n",
      "80000/200000, loss:2.5402\n",
      "90000/200000, loss:2.3324\n",
      "100000/200000, loss:2.0268\n",
      "110000/200000, loss:2.1141\n",
      "120000/200000, loss:2.0083\n",
      "130000/200000, loss:2.4298\n",
      "140000/200000, loss:2.1889\n",
      "150000/200000, loss:2.0937\n",
      "160000/200000, loss:1.8692\n",
      "170000/200000, loss:2.0202\n",
      "180000/200000, loss:2.2238\n",
      "190000/200000, loss:1.9614\n"
     ]
    }
   ],
   "source": [
    "batch_size = 32\n",
    "max_steps = 200000\n",
    "lossi = []\n",
    "\n",
    "for i in range(max_steps):\n",
    "    ix = torch.randint(0, Xtr.shape[0], (batch_size,))\n",
    "    Xb,Yb = Xtr[ix], Ytr[ix]\n",
    "    emb = C[Xb]\n",
    "    emb_cat = emb.view(emb.shape[0], -1)\n",
    "    hpreact = emb_cat @ W1 + b1\n",
    "    \n",
    "    bnmeani = hpreact.mean(0, keepdim=True)\n",
    "    bnstdi = hpreact.std(0, keepdim=True)\n",
    "    hpreact = bngain*(hpreact-bnmeani)/bnstdi+bnbias\n",
    "    with torch.no_grad():\n",
    "        bnmean_running = 0.999*bnmean_running + 0.001*bnmeani\n",
    "        bnstd_running = 0.999*bnstd_running + 0.001*bnstdi\n",
    "    \n",
    "    h = torch.tanh(hpreact)\n",
    "    logits = h @ W2 + b2\n",
    "    loss = F.cross_entropy(logits, Yb)\n",
    "    \n",
    "    for p in parameters:\n",
    "        p.grad = None\n",
    "    loss.backward()\n",
    "    \n",
    "    lr = 0.1 if i<100000 else 0.001\n",
    "    for p in parameters:\n",
    "        p.data += -lr*p.grad\n",
    "        \n",
    "    if i%10000==0:\n",
    "        print(f'{i}/{max_steps}, loss:{loss.item():.4f}')\n",
    "    lossi.append(loss.log10().item())"
   ]
  },
  {
   "cell_type": "code",
   "execution_count": 33,
   "id": "53afa711",
   "metadata": {},
   "outputs": [
    {
     "data": {
      "image/png": "[encoded data removed]",
      "text/plain": [
       "<Figure size 432x288 with 1 Axes>"
      ]
     },
     "metadata": {
      "needs_background": "light"
     },
     "output_type": "display_data"
    }
   ],
   "source": [
    "plt.plot(lossi);"
   ]
  },
  {
   "cell_type": "code",
   "execution_count": 38,
   "id": "e6b91e73",
   "metadata": {},
   "outputs": [],
   "source": [
    "with torch.no_grad():\n",
    "    emb = C[Xtr]\n",
    "    emb_cat = emb.view(emb.shape[0], -1)\n",
    "    hpreact = emb_cat@W1\n",
    "    bnmean = hpreact.mean(0, keepdim=True)\n",
    "    bnstd = hpreact.std(0, keepdim=True)\n",
    "    "
   ]
  },
  {
   "cell_type": "code",
   "execution_count": 43,
   "id": "2bad18bf",
   "metadata": {},
   "outputs": [
    {
     "name": "stdout",
     "output_type": "stream",
     "text": [
      "train 2.110860586166382\n",
      "val 3.067075490951538\n"
     ]
    }
   ],
   "source": [
    "@torch.no_grad()\n",
    "def split_loss(split):\n",
    "    x,y = {\n",
    "        'train':(Xtr,Ytr),\n",
    "        'val': (Xdev, Ydev),\n",
    "        'test': (Xte, Yte)\n",
    "    }[split]\n",
    "    emb = C[x]\n",
    "    emb_cat = emb.view(emb.shape[0], -1)\n",
    "    hpreact = emb_cat @ W1\n",
    "    hpreact = bngain * (hpreact-bnmean_running)/bnstd_running + bnbias\n",
    "    h = torch.tanh(hpreact)\n",
    "    logits = h @ W2 + b2\n",
    "    loss = F.cross_entropy(logits, y)\n",
    "    print(split, loss.item())\n",
    "\n",
    "split_loss('train')\n",
    "split_loss('val')"
   ]
  },
  {
   "cell_type": "code",
   "execution_count": 55,
   "id": "c94dd708",
   "metadata": {},
   "outputs": [],
   "source": [
    "class Linear:\n",
    "    def __init__(self, fan_in, fan_out, bias=True):\n",
    "        self.weight = torch.randn((fan_in, fan_out))/fan_in**0.5\n",
    "        self.bias = None\n",
    "        if bias:\n",
    "            self.bias = torch.zeros(fan_out)\n",
    "    \n",
    "    def __call__(self, x):\n",
    "        self.out = x@self.weight\n",
    "        if self.bias is not None:\n",
    "            self.out += self.bias\n",
    "        return self.out\n",
    "    \n",
    "    def parameters(self):\n",
    "        return [self.weight] + ([] if self.bias is None else [bias])"
   ]
  },
  {
   "cell_type": "code",
   "execution_count": 60,
   "id": "c8563fe1",
   "metadata": {},
   "outputs": [],
   "source": [
    "class BatchNorm1D:\n",
    "    def __init__(self, dim, eps=1e-5, momentum=0.1):\n",
    "        self.eps = eps\n",
    "        self.momentum = momentum\n",
    "        self.training = True\n",
    "        self.gamma = torch.ones(dim)\n",
    "        self.beta = torch.zeros(dim)\n",
    "        self.running_mean = torch.zeros(dim)\n",
    "        self.running_var = torch.zeros(dim)\n",
    "    \n",
    "    def __call__(self, x):\n",
    "        if self.training:\n",
    "            xmean = x.mean(0, keepdim=True)\n",
    "            xvar = x.var(0, keepdim=True)\n",
    "        else:\n",
    "            xmean = self.running_mean\n",
    "            xvar = self.running_var\n",
    "            \n",
    "        xhat = (x-xmean)/torch.sqrt(xvar+self.eps)\n",
    "        self.out = self.gamma * xhat + self.beta\n",
    "        \n",
    "        if self.training:\n",
    "            with torch.no_grad():\n",
    "                self.running_mean = (1-self.momentum)*self.running_mean + self.momentum*xmean\n",
    "                self.running_var = (1-self.momentum)*self.running_var + self.momentum*xvar\n",
    "        return self.out\n",
    "    \n",
    "    def parameters(self):\n",
    "        return [self.gamma, self.beta]"
   ]
  },
  {
   "cell_type": "code",
   "execution_count": 64,
   "id": "1eee5ea4",
   "metadata": {},
   "outputs": [],
   "source": [
    "class Tanh:\n",
    "    def __call__(self, x):\n",
    "        self.out = torch.tanh(x)\n",
    "        return self.out\n",
    "    \n",
    "    def parameters(self):\n",
    "        return []"
   ]
  },
  {
   "cell_type": "code",
   "execution_count": 65,
   "id": "b769e3da",
   "metadata": {},
   "outputs": [
    {
     "name": "stdout",
     "output_type": "stream",
     "text": [
      "total params: 47360\n"
     ]
    }
   ],
   "source": [
    "n_emb = 10\n",
    "n_hidden = 100\n",
    "\n",
    "C = torch.randn((vocab_size, n_emb))\n",
    "layers = [\n",
    "    Linear(n_emb*block_size, n_hidden, bias=False), BatchNorm1D(n_hidden), Tanh(),\n",
    "    Linear(n_hidden, n_hidden, bias=False), BatchNorm1D(n_hidden), Tanh(),\n",
    "    Linear(n_hidden, n_hidden, bias=False), BatchNorm1D(n_hidden), Tanh(),\n",
    "    Linear(n_hidden, n_hidden, bias=False), BatchNorm1D(n_hidden), Tanh(),\n",
    "    Linear(n_hidden, n_hidden, bias=False), BatchNorm1D(n_hidden), Tanh(),\n",
    "    Linear(n_hidden, vocab_size, bias=False), BatchNorm1D(vocab_size)\n",
    "]\n",
    "\n",
    "with torch.no_grad():\n",
    "    layers[-1].gamma *= 0.1\n",
    "    \n",
    "parameters = [C] + [p for layer in layers for p in layer.parameters()]\n",
    "print('total params:', sum(p.nelement() for p in parameters))\n",
    "\n",
    "for p in parameters:\n",
    "    p.requires_grad = True"
   ]
  },
  {
   "cell_type": "code",
   "execution_count": 121,
   "id": "8b052da0",
   "metadata": {},
   "outputs": [
    {
     "name": "stdout",
     "output_type": "stream",
     "text": [
      "0/2000000, loss:  2.2141\n"
     ]
    }
   ],
   "source": [
    "max_steps = 2000000\n",
    "batch_size = 32 \n",
    "losses = []\n",
    "ud = []\n",
    "\n",
    "for i in range(max_steps):\n",
    "    ix = torch.randint(0, Xtr.shape[0], (batch_size,))\n",
    "    Xb,Yb = Xtr[ix], Ytr[ix]\n",
    "    emb = C[Xb]\n",
    "    x = emb.view(emb.shape[0], -1)\n",
    "    for l in layers:\n",
    "        x = l(x)\n",
    "    loss = F.cross_entropy(x, Yb)\n",
    "    \n",
    "    for l in layers:\n",
    "        l.out.retain_grad()\n",
    "    for p in parameters:\n",
    "        p.grad = None\n",
    "    loss.backward()\n",
    "    \n",
    "    lr = 0.1 if i < 150000 else 0.01\n",
    "    for p in parameters:\n",
    "        p.data += -lr*p.grad\n",
    "        \n",
    "    if i%10000==0:\n",
    "        print(f\"{i}/{max_steps}, loss: {loss.item(): .4f}\")\n",
    "    losses.append(loss.log10().item())\n",
    "    with torch.no_grad():\n",
    "        ud.append([((lr*p.grad).std()/p.data.std()).log10().item for p in parameters])\n",
    "    \n",
    "    if i>1000:\n",
    "        break"
   ]
  },
  {
   "cell_type": "code",
   "execution_count": 139,
   "id": "c5f4c08d",
   "metadata": {},
   "outputs": [
    {
     "name": "stdout",
     "output_type": "stream",
     "text": [
      "torch.Size([32, 100])\n",
      "layer 2: Tanh,        m:-0.0059045422822237015, std:0.630691409111023 saturation:3.25%\n"
     ]
    },
    {
     "data": {
      "image/png": "[encoded data removed]",
      "text/plain": [
       "<Figure size 1440x288 with 1 Axes>"
      ]
     },
     "metadata": {
      "needs_background": "light"
     },
     "output_type": "display_data"
    }
   ],
   "source": [
    "plt.figure(figsize=(20, 4));\n",
    "legends =[]\n",
    "for i, layer in enumerate(layers[:-1]):\n",
    "    if isinstance(layer, Tanh):\n",
    "        t = layer.out\n",
    "        print(t.shape)\n",
    "        print(f\"layer {i}: {layer.__class__.__name__},\\\n",
    "        m:{t.mean()}, std:{t.std()} saturation:{(t.abs() > 0.97).float().mean()*100}%\")\n",
    "        hy,hx = torch.histogram(t, density=True)\n",
    "        plt.plot(hx[:-1].detach(), hy.detach())\n",
    "        legends.append(f\"layer {i}: {layer.__class__.__name__}\")\n",
    "        break\n",
    "plt.legend(legends);     \n",
    "plt.title('activation distribution');"
   ]
  },
  {
   "cell_type": "code",
   "execution_count": 120,
   "id": "6d1967ed",
   "metadata": {},
   "outputs": [
    {
     "data": {
      "text/plain": [
       "(torch.Size([101]), torch.Size([100]))"
      ]
     },
     "execution_count": 120,
     "metadata": {},
     "output_type": "execute_result"
    }
   ],
   "source": [
    "hy,hx = torch.histogram(t, density=True)\n",
    "hx.shape, hy.shape"
   ]
  },
  {
   "cell_type": "code",
   "execution_count": 124,
   "id": "83182f13",
   "metadata": {},
   "outputs": [
    {
     "data": {
      "text/plain": [
       "tensor([-0.9880, -0.9682, -0.9484, -0.9286, -0.9089, -0.8891, -0.8693, -0.8495,\n",
       "        -0.8297, -0.8099, -0.7901, -0.7704, -0.7506, -0.7308, -0.7110, -0.6912,\n",
       "        -0.6714, -0.6517, -0.6319, -0.6121, -0.5923, -0.5725, -0.5527, -0.5329,\n",
       "        -0.5132, -0.4934, -0.4736, -0.4538, -0.4340, -0.4142, -0.3945, -0.3747,\n",
       "        -0.3549, -0.3351, -0.3153, -0.2955, -0.2758, -0.2560, -0.2362, -0.2164,\n",
       "        -0.1966, -0.1768, -0.1570, -0.1373, -0.1175, -0.0977, -0.0779, -0.0581,\n",
       "        -0.0383, -0.0186,  0.0012,  0.0210,  0.0408,  0.0606,  0.0804,  0.1002,\n",
       "         0.1199,  0.1397,  0.1595,  0.1793,  0.1991,  0.2189,  0.2386,  0.2584,\n",
       "         0.2782,  0.2980,  0.3178,  0.3376,  0.3574,  0.3771,  0.3969,  0.4167,\n",
       "         0.4365,  0.4563,  0.4761,  0.4958,  0.5156,  0.5354,  0.5552,  0.5750,\n",
       "         0.5948,  0.6146,  0.6343,  0.6541,  0.6739,  0.6937,  0.7135,  0.7333,\n",
       "         0.7530,  0.7728,  0.7926,  0.8124,  0.8322,  0.8520,  0.8718,  0.8915,\n",
       "         0.9113,  0.9311,  0.9509,  0.9707,  0.9905], grad_fn=<NotImplemented>)"
      ]
     },
     "execution_count": 124,
     "metadata": {},
     "output_type": "execute_result"
    }
   ],
   "source": [
    "hx"
   ]
  },
  {
   "cell_type": "code",
   "execution_count": 127,
   "id": "7b513636",
   "metadata": {},
   "outputs": [
    {
     "data": {
      "text/plain": [
       "tensor([0.5686, 0.7898, 0.6792, 1.2162, 0.9319, 1.0109, 0.9003, 0.9161, 0.9003,\n",
       "        0.7266, 0.7898, 0.8687, 0.7740, 0.4423, 0.4739, 0.5212, 0.6002, 0.4739,\n",
       "        0.4581, 0.4265, 0.5528, 0.6318, 0.5054, 0.3791, 0.4581, 0.3633, 0.4107,\n",
       "        0.3949, 0.4739, 0.4423, 0.3475, 0.3159, 0.2843, 0.3475, 0.2685, 0.3475,\n",
       "        0.3001, 0.2211, 0.3159, 0.2369, 0.3159, 0.3633, 0.3791, 0.2369, 0.3001,\n",
       "        0.2685, 0.3317, 0.3633, 0.3633, 0.2843, 0.2685, 0.3317, 0.2843, 0.2527,\n",
       "        0.1264, 0.3159, 0.3633, 0.2843, 0.2527, 0.3001, 0.3791, 0.2685, 0.4107,\n",
       "        0.3633, 0.2843, 0.3949, 0.4423, 0.4107, 0.5212, 0.4896, 0.3317, 0.3159,\n",
       "        0.5212, 0.3475, 0.2685, 0.3633, 0.4581, 0.3159, 0.3949, 0.5686, 0.4581,\n",
       "        0.4897, 0.5370, 0.5844, 0.4897, 0.7266, 0.7898, 0.8213, 0.6634, 0.6002,\n",
       "        1.0267, 1.0109, 0.9161, 0.9003, 1.1215, 0.8687, 0.8687, 0.8529, 0.6792,\n",
       "        0.2369], grad_fn=<NotImplemented>)"
      ]
     },
     "execution_count": 127,
     "metadata": {},
     "output_type": "execute_result"
    }
   ],
   "source": [
    "hyp"
   ]
  },
  {
   "cell_type": "code",
   "execution_count": 146,
   "id": "5da3d2a0",
   "metadata": {},
   "outputs": [],
   "source": [
    "hy,hx = torch.histogram(torch.tensor([1., 2, 3, 4, 1, 1]), density=True)"
   ]
  },
  {
   "cell_type": "code",
   "execution_count": 145,
   "id": "88b41128",
   "metadata": {},
   "outputs": [
    {
     "data": {
      "image/png": "[encoded data removed]",
      "text/plain": [
       "<Figure size 432x288 with 1 Axes>"
      ]
     },
     "metadata": {
      "needs_background": "light"
     },
     "output_type": "display_data"
    }
   ],
   "source": [
    "plt.plot(hx[:-1], hy);"
   ]
  },
  {
   "cell_type": "code",
   "execution_count": null,
   "id": "ee03ab3e",
   "metadata": {},
   "outputs": [],
   "source": []
  },
  {
   "cell_type": "code",
   "execution_count": null,
   "id": "8febfe1b",
   "metadata": {},
   "outputs": [],
   "source": []
  }
 ],
 "metadata": {
  "kernelspec": {
   "display_name": "Python 3 (ipykernel)",
   "language": "python",
   "name": "python3"
  },
  "language_info": {
   "codemirror_mode": {
    "name": "ipython",
    "version": 3
   },
   "file_extension": ".py",
   "mimetype": "text/x-python",
   "name": "python",
   "nbconvert_exporter": "python",
   "pygments_lexer": "ipython3",
   "version": "3.9.7"
  }
 },
 "nbformat": 4,
 "nbformat_minor": 5
}
