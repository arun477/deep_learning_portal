{
 "cells": [
  {
   "cell_type": "code",
   "execution_count": 111,
   "id": "5e875bec",
   "metadata": {},
   "outputs": [],
   "source": [
    "import matplotlib.pyplot as plt\n",
    "from datasets import load_dataset, load_dataset_builder\n",
    "import torchvision.transforms.functional as TF\n",
    "from torch.utils.data import DataLoader, default_collate\n",
    "import torch\n",
    "from operator import itemgetter\n",
    "import fastcore.all as fc\n",
    "import numpy as np"
   ]
  },
  {
   "cell_type": "markdown",
   "id": "9967b148",
   "metadata": {},
   "source": [
    "####   transform and collate"
   ]
  },
  {
   "cell_type": "code",
   "execution_count": 7,
   "id": "8e3662c9",
   "metadata": {},
   "outputs": [
    {
     "name": "stderr",
     "output_type": "stream",
     "text": [
      "Found cached dataset fashion_mnist (/Users/arun/.cache/huggingface/datasets/fashion_mnist/fashion_mnist/1.0.0/0a671f063342996f19779d38c0ab4abef9c64f757b35af8134b331c294d7ba48)\n"
     ]
    },
    {
     "data": {
      "application/vnd.jupyter.widget-view+json": {
       "model_id": "129249610b2d43b88c755c5fa3cf4e29",
       "version_major": 2,
       "version_minor": 0
      },
      "text/plain": [
       "  0%|          | 0/2 [00:00<?, ?it/s]"
      ]
     },
     "metadata": {},
     "output_type": "display_data"
    },
    {
     "data": {
      "text/plain": [
       "DatasetDict({\n",
       "    train: Dataset({\n",
       "        features: ['image', 'label'],\n",
       "        num_rows: 60000\n",
       "    })\n",
       "    test: Dataset({\n",
       "        features: ['image', 'label'],\n",
       "        num_rows: 10000\n",
       "    })\n",
       "})"
      ]
     },
     "execution_count": 7,
     "metadata": {},
     "output_type": "execute_result"
    }
   ],
   "source": [
    "name = \"fashion_mnist\"\n",
    "dsd = load_dataset(name)\n",
    "dsd"
   ]
  },
  {
   "cell_type": "code",
   "execution_count": 8,
   "id": "4bfa3638",
   "metadata": {},
   "outputs": [],
   "source": [
    "train, test = dsd['train'], dsd['test']"
   ]
  },
  {
   "cell_type": "code",
   "execution_count": 10,
   "id": "b647fab2",
   "metadata": {},
   "outputs": [],
   "source": [
    "x,y = 'image', 'label'"
   ]
  },
  {
   "cell_type": "code",
   "execution_count": 14,
   "id": "9cca0e3c",
   "metadata": {},
   "outputs": [
    {
     "data": {
      "text/plain": [
       "[<PIL.PngImagePlugin.PngImageFile image mode=L size=28x28 at 0x7F85F8B00640>,\n",
       " <PIL.PngImagePlugin.PngImageFile image mode=L size=28x28 at 0x7F862047B460>,\n",
       " <PIL.PngImagePlugin.PngImageFile image mode=L size=28x28 at 0x7F861A36F340>,\n",
       " <PIL.PngImagePlugin.PngImageFile image mode=L size=28x28 at 0x7F85F8B00EE0>,\n",
       " <PIL.PngImagePlugin.PngImageFile image mode=L size=28x28 at 0x7F861A6E3D00>]"
      ]
     },
     "execution_count": 14,
     "metadata": {},
     "output_type": "execute_result"
    }
   ],
   "source": [
    "train[:5][x]"
   ]
  },
  {
   "cell_type": "code",
   "execution_count": 20,
   "id": "5faf25e1",
   "metadata": {},
   "outputs": [
    {
     "data": {
      "text/plain": [
       "['Ankle boot', 'Pullover', 'Trouser', 'Trouser', 'Shirt']"
      ]
     },
     "execution_count": 20,
     "metadata": {},
     "output_type": "execute_result"
    }
   ],
   "source": [
    "train.features[y].int2str(yb)"
   ]
  },
  {
   "cell_type": "code",
   "execution_count": 22,
   "id": "87df5a69",
   "metadata": {},
   "outputs": [
    {
     "data": {
      "image/png": "[encoded data removed]",
      "text/plain": [
       "<PIL.PngImagePlugin.PngImageFile image mode=L size=28x28 at 0x7F861A37B8B0>"
      ]
     },
     "execution_count": 22,
     "metadata": {},
     "output_type": "execute_result"
    }
   ],
   "source": [
    "xb[0]"
   ]
  },
  {
   "cell_type": "code",
   "execution_count": 43,
   "id": "5848dd14",
   "metadata": {},
   "outputs": [],
   "source": [
    "def collate_fn(b):\n",
    "    return {\n",
    "        x: torch.stack([TF.to_tensor(o[x]) for o in b]),\n",
    "        y: torch.tensor([o[y] for o in b])\n",
    "    }"
   ]
  },
  {
   "cell_type": "code",
   "execution_count": 52,
   "id": "396ca5ed",
   "metadata": {},
   "outputs": [
    {
     "data": {
      "text/plain": [
       "(torch.Size([16, 1, 28, 28]), torch.Size([16]))"
      ]
     },
     "execution_count": 52,
     "metadata": {},
     "output_type": "execute_result"
    }
   ],
   "source": [
    "dl = DataLoader(train, collate_fn=collate_fn, batch_size=16)\n",
    "b = next(iter(dl))\n",
    "b[x].shape, b[y].shape"
   ]
  },
  {
   "cell_type": "code",
   "execution_count": 54,
   "id": "de2c981e",
   "metadata": {},
   "outputs": [],
   "source": [
    "def transform(b):\n",
    "    b[x] = [TF.to_tensor(o) for o in b[x]]\n",
    "    return b"
   ]
  },
  {
   "cell_type": "code",
   "execution_count": 56,
   "id": "d8b63391",
   "metadata": {},
   "outputs": [
    {
     "data": {
      "text/plain": [
       "(torch.Size([16, 1, 28, 28]), torch.Size([16]))"
      ]
     },
     "execution_count": 56,
     "metadata": {},
     "output_type": "execute_result"
    }
   ],
   "source": [
    "tds = train.with_transform(transform=transform)\n",
    "dl = DataLoader(tds, batch_size=16)\n",
    "b = next(iter(dl))\n",
    "b[x].shape, b[y].shape"
   ]
  },
  {
   "cell_type": "code",
   "execution_count": 71,
   "id": "d47a9a79",
   "metadata": {},
   "outputs": [],
   "source": [
    "def _transformi(b):\n",
    "    b[x] = [torch.flatten(TF.to_tensor(o)) for o in b[x]]"
   ]
  },
  {
   "cell_type": "code",
   "execution_count": 72,
   "id": "648f0156",
   "metadata": {},
   "outputs": [],
   "source": [
    "def inplace(f):\n",
    "    def _f(b):\n",
    "        f(b)\n",
    "        return b\n",
    "    return _f"
   ]
  },
  {
   "cell_type": "code",
   "execution_count": 73,
   "id": "f2c883b5",
   "metadata": {},
   "outputs": [],
   "source": [
    "transformi = inplace(_transformi)"
   ]
  },
  {
   "cell_type": "code",
   "execution_count": 80,
   "id": "73b6bf55",
   "metadata": {},
   "outputs": [
    {
     "data": {
      "text/plain": [
       "(torch.Size([784]), 9)"
      ]
     },
     "execution_count": 80,
     "metadata": {},
     "output_type": "execute_result"
    }
   ],
   "source": [
    "r = train.with_transform(transformi)[0]\n",
    "r[x].shape, r[y]"
   ]
  },
  {
   "cell_type": "code",
   "execution_count": 79,
   "id": "9ca75182",
   "metadata": {},
   "outputs": [],
   "source": [
    "@inplace\n",
    "def transformi(b):\n",
    "    b[x] = [torch.flatten(TF.to_tensor(o)) for o in b[x]]"
   ]
  },
  {
   "cell_type": "code",
   "execution_count": 78,
   "id": "6efc75a3",
   "metadata": {},
   "outputs": [
    {
     "data": {
      "text/plain": [
       "(torch.Size([784]), 9)"
      ]
     },
     "execution_count": 78,
     "metadata": {},
     "output_type": "execute_result"
    }
   ],
   "source": [
    "r = train.with_transform(transformi)[0]\n",
    "r[x].shape, r[y]"
   ]
  },
  {
   "cell_type": "code",
   "execution_count": 84,
   "id": "fd29149b",
   "metadata": {},
   "outputs": [
    {
     "data": {
      "text/plain": [
       "(1, 5)"
      ]
     },
     "execution_count": 84,
     "metadata": {},
     "output_type": "execute_result"
    }
   ],
   "source": [
    "d = {'a': 1, 'b': 5, 'c': 3}\n",
    "ig = itemgetter('a', 'b')\n",
    "ig(d)"
   ]
  },
  {
   "cell_type": "code",
   "execution_count": 104,
   "id": "7fb84752",
   "metadata": {},
   "outputs": [],
   "source": [
    "def collacte_dict(ds):\n",
    "    get = itemgetter(*ds.features)\n",
    "    def _f(b):\n",
    "        return get(default_collate(b))\n",
    "    return _f"
   ]
  },
  {
   "cell_type": "code",
   "execution_count": 105,
   "id": "9ff90cab",
   "metadata": {},
   "outputs": [
    {
     "data": {
      "text/plain": [
       "(torch.Size([4, 1, 28, 28]), torch.Size([4]))"
      ]
     },
     "execution_count": 105,
     "metadata": {},
     "output_type": "execute_result"
    }
   ],
   "source": [
    "dlf = DataLoader(tds, batch_size=4, collate_fn=collacte_dict(tds))\n",
    "xb, yb = next(iter(dlf))\n",
    "xb.shape, yb.shape"
   ]
  },
  {
   "cell_type": "markdown",
   "id": "c5247cd3",
   "metadata": {},
   "source": [
    "#### plotting imgs"
   ]
  },
  {
   "cell_type": "code",
   "execution_count": 109,
   "id": "b0038eac",
   "metadata": {},
   "outputs": [
    {
     "data": {
      "image/png": "[encoded data removed]",
      "text/plain": [
       "<Figure size 432x288 with 1 Axes>"
      ]
     },
     "metadata": {
      "needs_background": "light"
     },
     "output_type": "display_data"
    }
   ],
   "source": [
    "b = next(iter(dl))\n",
    "xb = b[x]\n",
    "img = xb[0]\n",
    "plt.imshow(img[0]);"
   ]
  },
  {
   "cell_type": "code",
   "execution_count": 132,
   "id": "aa6a8e49",
   "metadata": {},
   "outputs": [],
   "source": [
    "def show_image(im, ax=None, figsize=None, title=None, noframe=True, **kwargs):\n",
    "    if fc.hasattrs(im, ('permute', 'cpu', 'detach')):\n",
    "        im = im.detach().cpu()\n",
    "        if len(im.shape)== 3 and im.shape[0] < 5:\n",
    "            im = im.permute(1, 2, 0)\n",
    "    elif not isinstance(im, np.ndarray):\n",
    "        im = np.array(im)\n",
    "    if ax is None:\n",
    "        _, ax = plt.subplots(figsize=figsize)\n",
    "    ax.imshow(im, **kwargs)\n",
    "    if title is not None:\n",
    "        ax.set_title(title)\n",
    "    ax.set_xticks([]) \n",
    "    ax.set_yticks([]) \n",
    "    if noframe:\n",
    "        ax.axis('off')\n",
    "    return ax"
   ]
  },
  {
   "cell_type": "code",
   "execution_count": 133,
   "id": "b00642b7",
   "metadata": {},
   "outputs": [
    {
     "data": {
      "image/png": "[encoded data removed]",
      "text/plain": [
       "<Figure size 144x144 with 1 Axes>"
      ]
     },
     "metadata": {},
     "output_type": "display_data"
    }
   ],
   "source": [
    "show_image(img[0], figsize=(2, 2));"
   ]
  },
  {
   "cell_type": "code",
   "execution_count": 162,
   "id": "86e9221b",
   "metadata": {},
   "outputs": [],
   "source": [
    "def subplots(nrows=1, ncols=1, imsize=3, figsize=None, suptitle=None, **kwargs):\n",
    "    if not figsize:\n",
    "        figsize = (ncols*imsize, nrows*imsize)\n",
    "    fig, axs = plt.subplots(nrows, ncols, figsize=figsize, **kwargs)\n",
    "    if not suptitle:\n",
    "        fig.suptitle(suptitle)\n",
    "    if nrows*ncols == 1:\n",
    "        axs = np.array([axs])\n",
    "    return fig, axs  "
   ]
  },
  {
   "cell_type": "code",
   "execution_count": 163,
   "id": "b1cc415c",
   "metadata": {},
   "outputs": [
    {
     "data": {
      "image/png": "[encoded data removed]",
      "text/plain": [
       "<Figure size 216x216 with 9 Axes>"
      ]
     },
     "metadata": {
      "needs_background": "light"
     },
     "output_type": "display_data"
    }
   ],
   "source": [
    "fig, axs = subplots(3, 3, imsize=1)\n",
    "imgs = xb[:8]\n",
    "for ax, im in zip(axs.flat, imgs):\n",
    "    show_image(im, ax)"
   ]
  },
  {
   "cell_type": "code",
   "execution_count": 164,
   "id": "887234d4",
   "metadata": {},
   "outputs": [],
   "source": [
    "def get_grid(n, nrows=None, ncols=None, suptitle=None, **kwargs):\n",
    "    if nrows:\n",
    "        ncols = ncols or int(np.floor(n/nrows))\n",
    "    elif ncols:\n",
    "        nrows = nrows or int(np.ceil(n/ncols))\n",
    "    else:\n",
    "        nrows = int(np.sqrt(n))\n",
    "        ncols = int(np.floor(n/nrows))\n",
    "    fig, axs = subplots(nrows, ncols, **kwargs)\n",
    "    if suptitle is not None:\n",
    "        fig.suptitle(suptitle)\n",
    "    return fig, axs"
   ]
  },
  {
   "cell_type": "code",
   "execution_count": 165,
   "id": "a22b3d22",
   "metadata": {},
   "outputs": [
    {
     "data": {
      "image/png": "[encoded data removed]",
      "text/plain": [
       "<Figure size 144x216 with 6 Axes>"
      ]
     },
     "metadata": {},
     "output_type": "display_data"
    }
   ],
   "source": [
    "fig, axs = get_grid(8, 3, imsize=1)\n",
    "imgs = xb[:8]\n",
    "for ax, im in zip(axs.flat, imgs):\n",
    "    show_image(im, ax)"
   ]
  },
  {
   "cell_type": "code",
   "execution_count": null,
   "id": "1bc6591d",
   "metadata": {},
   "outputs": [],
   "source": []
  },
  {
   "cell_type": "code",
   "execution_count": null,
   "id": "591e9dd1",
   "metadata": {},
   "outputs": [],
   "source": []
  }
 ],
 "metadata": {
  "kernelspec": {
   "display_name": "Python 3 (ipykernel)",
   "language": "python",
   "name": "python3"
  },
  "language_info": {
   "codemirror_mode": {
    "name": "ipython",
    "version": 3
   },
   "file_extension": ".py",
   "mimetype": "text/x-python",
   "name": "python",
   "nbconvert_exporter": "python",
   "pygments_lexer": "ipython3",
   "version": "3.9.7"
  }
 },
 "nbformat": 4,
 "nbformat_minor": 5
}
