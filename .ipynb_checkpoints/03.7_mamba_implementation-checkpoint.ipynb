{
 "cells": [
  {
   "cell_type": "code",
   "execution_count": 251,
   "id": "ae5b7c83",
   "metadata": {},
   "outputs": [],
   "source": [
    "import torch\n",
    "from torch import nn\n",
    "from einops import repeat, einsum\n",
    "import torch.nn.functional as F\n",
    "import matplotlib.pyplot as plt"
   ]
  },
  {
   "cell_type": "markdown",
   "id": "b4b551f7",
   "metadata": {},
   "source": [
    "https://dl.acm.org/doi/pdf/10.5555/3454287.3455397#:~:text=RMSNorm%20regularizes%20the%20summed%20inputs,thus%20more%20efficient%20than%20LayerNorm. (rms norm)"
   ]
  },
  {
   "cell_type": "code",
   "execution_count": 10,
   "id": "c7bb9cfe",
   "metadata": {},
   "outputs": [],
   "source": [
    "class RMSNorm(nn.Module):\n",
    "    def __init__(self, d_model, eps=1e-5):\n",
    "        super().__init__()\n",
    "        self.eps = eps\n",
    "        self.weight = nn.Parameter(torch.ones(d_model))\n",
    "        \n",
    "    def forward(self, x):\n",
    "        return x * torch.rsqrt(x.pow(2).mean(-1, keepdim=True) + self.eps) * self.weight"
   ]
  },
  {
   "cell_type": "code",
   "execution_count": 252,
   "id": "74bcce01",
   "metadata": {},
   "outputs": [],
   "source": [
    "class MambaBlock(nn.Module):\n",
    "    def __init__(self, args):\n",
    "        super().__init__()\n",
    "        self.args = args\n",
    "        \n",
    "        self.in_proj = nn.Linear(args.d_model, args.d_inner*2, bias=args.bias)\n",
    "        \n",
    "        self.conv1d = nn.Conv1d(\n",
    "            in_channels=args.d_inner,\n",
    "            out_channels=args.d_inner,\n",
    "            kernel_size=args.d_conv,\n",
    "            bias=args.conv_bias,\n",
    "            groups=args.d_inner,\n",
    "            padding=args.d_conv-1\n",
    "        )\n",
    "        \n",
    "        self.x_proj = nn.Linear(args.d_inner, args.dt_rank + args.dt_state*2, bias=False)\n",
    "        \n",
    "        self.dt_proj = nn.Linear(args.dt_rank, args.d_inner, bias=True)\n",
    "        \n",
    "        A = repeat(torch.arange(1, args.d_state+1), 'n -> d n', d=args.d_inner)\n",
    "        \n",
    "        self.A_log = nn.Parameter(torch.log(A))\n",
    "        \n",
    "        self.D = nn.Parameter(torch.ones(args.d_inner))\n",
    "        \n",
    "        self.out_proj = nn.Linear(d_inner, args.d_model, bias=args.bias)\n",
    "        \n",
    "    \n",
    "    def ssm(self, x):\n",
    "        (d_in, n) = self.A_log.shape\n",
    "        \n",
    "        A = -torch.exp(self.A_log.float())\n",
    "        D = self.D.float()\n",
    "        \n",
    "        x_dbl = self.x_proj(x)\n",
    "        \n",
    "        (delta, B, C) = x_dbl.split(split_size=[self.args.dt_rank, n, n], dim=-1)\n",
    "        \n",
    "        delta = F.softplus(self.dt_proj(delta))\n",
    "        \n",
    "        y = self.selective_scan(x, delta, A, B, C, D)\n",
    "        \n",
    "        return y\n",
    "    \n",
    "    \n",
    "    def selective_scan(self, u, delta, A, B, C, D):\n",
    "        (b, l, d_in) = u.shape\n",
    "        \n",
    "        n = A.shape[1]\n",
    "        \n",
    "        deltaA = einsum(delta, A, 'b l d_in, d_in n -> b d_in l n')\n",
    "        \n",
    "        \n",
    "        \n",
    "    "
   ]
  },
  {
   "cell_type": "code",
   "execution_count": null,
   "id": "638672e9",
   "metadata": {},
   "outputs": [],
   "source": []
  },
  {
   "cell_type": "code",
   "execution_count": null,
   "id": "854143e1",
   "metadata": {},
   "outputs": [],
   "source": []
  },
  {
   "cell_type": "code",
   "execution_count": null,
   "id": "fe333932",
   "metadata": {},
   "outputs": [],
   "source": []
  },
  {
   "cell_type": "markdown",
   "id": "0c612e8d",
   "metadata": {},
   "source": [
    "tensor contraction"
   ]
  },
  {
   "cell_type": "code",
   "execution_count": 460,
   "id": "e5d81f71",
   "metadata": {},
   "outputs": [
    {
     "name": "stdout",
     "output_type": "stream",
     "text": [
      "(2, 2)\n",
      "(2, 2)\n"
     ]
    },
    {
     "data": {
      "text/plain": [
       "array([[ True,  True],\n",
       "       [ True,  True]])"
      ]
     },
     "execution_count": 460,
     "metadata": {},
     "output_type": "execute_result"
    }
   ],
   "source": [
    "import numpy as np\n",
    "\n",
    "x = np.array([[1, 2, 3],\n",
    "       [2, 3, 4]])\n",
    "y = np.array([[4, 5],\n",
    "       [5, 6],\n",
    "       [6, 7]])\n",
    "\n",
    "o1 = np.dot(x, y)\n",
    "print(o1.shape)\n",
    "\n",
    "# first tuple axis of the first matrix and second tuple is the axis of the second matrix\n",
    "# tensordot takes axes along needs to be dot product peformed, here first matrix axis along x needs to be dot\n",
    "# with axis along y of the second matrix\n",
    "# o2 = np.tensordot(x, y, axes=((1), (0))) # tuple-form \n",
    "o2 = np.tensordot(x, y, axes=1)  # int-form last 1-axes from first matrix and first 1-axes from second matrix\n",
    "print(o2.shape)\n",
    "\n",
    "np.isclose(o1, o2)"
   ]
  },
  {
   "cell_type": "code",
   "execution_count": 472,
   "id": "8cf865ca",
   "metadata": {},
   "outputs": [
    {
     "name": "stdout",
     "output_type": "stream",
     "text": [
      "(3, 3)\n",
      "()\n",
      "tuple index out of range\n"
     ]
    }
   ],
   "source": [
    "x = np.array([1, 2, 3])\n",
    "y = np.array([4, 5, 6])\n",
    "\n",
    "o1 = np.tensordot(x, y, axes=0) # tensor product\n",
    "print(o1.shape)\n",
    "\n",
    "o2 = np.tensordot(x, y, axes=1) # tensor dot product\n",
    "print(o2.shape)\n",
    "\n",
    "try:\n",
    "    o3 = np.tensordot(x, y, axes=2) # exception vector contains only two axes\n",
    "except Exception as e:\n",
    "    print(e)"
   ]
  },
  {
   "cell_type": "code",
   "execution_count": 475,
   "id": "e3b555d2",
   "metadata": {},
   "outputs": [
    {
     "name": "stdout",
     "output_type": "stream",
     "text": [
      "x shape (2, 3)\n",
      "y shape (2, 3)\n",
      "(2, 3, 2, 3)\n"
     ]
    }
   ],
   "source": [
    "x = np.array([[1, 2, 3],\n",
    "       [2, 3, 4]])\n",
    "y = np.array([[4, 5, 6],\n",
    "       [5, 6, 7]])\n",
    "print('x shape', x.shape)\n",
    "print('y shape', y.shape)\n",
    "\n",
    "\n",
    "o1 = np.tensordot(x, y, axes=0)\n",
    "print(o1.shape)\n"
   ]
  },
  {
   "cell_type": "code",
   "execution_count": 514,
   "id": "eaca6905",
   "metadata": {},
   "outputs": [
    {
     "name": "stdout",
     "output_type": "stream",
     "text": [
      "x shape torch.Size([2, 1])\n",
      "w shape torch.Size([1, 2])\n",
      "b shape torch.Size([2])\n",
      "torch.Size([2, 2])\n"
     ]
    }
   ],
   "source": [
    "x = torch.tensor([[6.],\n",
    "        [7.]])\n",
    "\n",
    "print('x shape', x.shape)\n",
    "w = torch.randn((1, 2)) \n",
    "b = torch.randn(2)\n",
    "print('w shape', w.shape)\n",
    "print('b shape', b.shape)\n",
    "\n",
    "o = x@w + b # proper matrix multiplication operation for perceptron\n",
    "print(o.shape)"
   ]
  },
  {
   "cell_type": "code",
   "execution_count": 496,
   "id": "324d9aee",
   "metadata": {},
   "outputs": [
    {
     "data": {
      "text/plain": [
       "(torch.Size([2, 1]), torch.Size([2]))"
      ]
     },
     "execution_count": 496,
     "metadata": {},
     "output_type": "execute_result"
    }
   ],
   "source": [
    "x.shape, w.shape"
   ]
  },
  {
   "cell_type": "code",
   "execution_count": 498,
   "id": "82404c74",
   "metadata": {},
   "outputs": [
    {
     "data": {
      "text/plain": [
       "torch.Size([2])"
      ]
     },
     "execution_count": 498,
     "metadata": {},
     "output_type": "execute_result"
    }
   ],
   "source": []
  },
  {
   "cell_type": "code",
   "execution_count": null,
   "id": "b8ef890e",
   "metadata": {},
   "outputs": [],
   "source": []
  },
  {
   "cell_type": "code",
   "execution_count": null,
   "id": "465e35df",
   "metadata": {},
   "outputs": [],
   "source": []
  },
  {
   "cell_type": "code",
   "execution_count": null,
   "id": "2e03966e",
   "metadata": {},
   "outputs": [],
   "source": []
  },
  {
   "cell_type": "code",
   "execution_count": null,
   "id": "1265ee65",
   "metadata": {},
   "outputs": [],
   "source": []
  },
  {
   "cell_type": "markdown",
   "id": "38c14119",
   "metadata": {},
   "source": [
    "einsum"
   ]
  },
  {
   "cell_type": "code",
   "execution_count": 341,
   "id": "ebf49e59",
   "metadata": {},
   "outputs": [
    {
     "name": "stdout",
     "output_type": "stream",
     "text": [
      "x shape torch.Size([2, 2])\n",
      "tensor(6)\n",
      "tensor([2, 4])\n",
      "y.shape torch.Size([4])\n"
     ]
    }
   ],
   "source": [
    "x = torch.arange(4).view(2, 2)\n",
    "y = torch.arange(4)\n",
    "print('x shape', x.shape)\n",
    "print(sum(sum(x)))\n",
    "print(sum(x))\n",
    "print('y.shape', y.shape)"
   ]
  },
  {
   "cell_type": "code",
   "execution_count": 323,
   "id": "7505cf65",
   "metadata": {},
   "outputs": [
    {
     "data": {
      "text/plain": [
       "tensor([[0, 1],\n",
       "        [2, 3]])"
      ]
     },
     "execution_count": 323,
     "metadata": {},
     "output_type": "execute_result"
    }
   ],
   "source": [
    "x"
   ]
  },
  {
   "cell_type": "code",
   "execution_count": 366,
   "id": "0b60f527",
   "metadata": {},
   "outputs": [
    {
     "name": "stdout",
     "output_type": "stream",
     "text": [
      "tensor(3)\n",
      "tensor([0, 3])\n",
      "tensor(6)\n",
      "tensor([1, 5])\n",
      "tensor([2, 4])\n",
      "tensor([[0, 2],\n",
      "        [1, 3]])\n",
      "tensor(14)\n",
      "tensor([[ 2,  3],\n",
      "        [ 6, 11]])\n"
     ]
    }
   ],
   "source": [
    "print(einsum(x, 'i i->')) # trace of the matrix\n",
    "print(einsum(x, 'i i-> i')) # extract the diagnol of the matrix\n",
    "print(einsum(x, 'i j->')) # sum of all the elements\n",
    "print(einsum(x, 'i j-> i')) # sum over the x axis\n",
    "print(einsum(x, 'i j-> j')) # sum over the y axis\n",
    "print(einsum(x, 'i j -> j i')) # transpose\n",
    "print(einsum(y,y, 'i,i->')) # vector dot product\n",
    "print(einsum(x, x, 'i j, j n -> i n')) # matrix matrix multiplication"
   ]
  },
  {
   "cell_type": "markdown",
   "id": "88ed27f3",
   "metadata": {},
   "source": [
    "N,C,L = batch size, channels, sequence length"
   ]
  },
  {
   "cell_type": "markdown",
   "id": "620c09e7",
   "metadata": {},
   "source": [
    "softplus is smooth approximation to the relu"
   ]
  },
  {
   "cell_type": "code",
   "execution_count": 250,
   "id": "900bda9f",
   "metadata": {},
   "outputs": [
    {
     "name": "stdout",
     "output_type": "stream",
     "text": [
      "torch.Size([9])\n",
      "relu tensor(0.) tensor(4.)\n",
      "softplus tensor(0.0181) tensor(4.0181)\n"
     ]
    },
    {
     "data": {
      "image/png": "[encoded data removed]",
      "text/plain": [
       "<Figure size 432x288 with 1 Axes>"
      ]
     },
     "metadata": {
      "needs_background": "light"
     },
     "output_type": "display_data"
    }
   ],
   "source": [
    "k = 10\n",
    "x = torch.arange(1, k).float() - k/2\n",
    "print(x.shape)\n",
    "o1 = F.relu(x)\n",
    "o2 = F.softplus(x, beta=1)\n",
    "print('relu', o1.min(), o1.max())\n",
    "print('softplus', o2.min(), o2.max())\n",
    "plt.plot(x, o1, c='green', label='relu');\n",
    "plt.plot(x, o2, c='red', label='softplus');\n",
    "plt.show()"
   ]
  },
  {
   "cell_type": "code",
   "execution_count": null,
   "id": "70efd186",
   "metadata": {},
   "outputs": [],
   "source": []
  },
  {
   "cell_type": "code",
   "execution_count": null,
   "id": "976ab53e",
   "metadata": {},
   "outputs": [],
   "source": []
  }
 ],
 "metadata": {
  "kernelspec": {
   "display_name": "Python 3 (ipykernel)",
   "language": "python",
   "name": "python3"
  },
  "language_info": {
   "codemirror_mode": {
    "name": "ipython",
    "version": 3
   },
   "file_extension": ".py",
   "mimetype": "text/x-python",
   "name": "python",
   "nbconvert_exporter": "python",
   "pygments_lexer": "ipython3",
   "version": "3.9.7"
  }
 },
 "nbformat": 4,
 "nbformat_minor": 5
}
