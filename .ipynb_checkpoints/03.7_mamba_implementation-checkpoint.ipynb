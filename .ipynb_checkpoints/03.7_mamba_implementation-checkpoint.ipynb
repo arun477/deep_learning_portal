{
 "cells": [
  {
   "cell_type": "code",
   "execution_count": 5,
   "id": "ae5b7c83",
   "metadata": {},
   "outputs": [],
   "source": [
    "import torch\n",
    "from torch import nn"
   ]
  },
  {
   "cell_type": "markdown",
   "id": "96d29414",
   "metadata": {},
   "source": [
    "https://dl.acm.org/doi/pdf/10.5555/3454287.3455397#:~:text=RMSNorm%20regularizes%20the%20summed%20inputs,thus%20more%20efficient%20than%20LayerNorm. (rms norm)"
   ]
  },
  {
   "cell_type": "code",
   "execution_count": 7,
   "id": "cd9df9a9",
   "metadata": {},
   "outputs": [],
   "source": [
    "class RMSNorm(nn.Module):\n",
    "    def __init__(self, d_model, eps=1e-5):\n",
    "        super().__init__()\n",
    "        self.eps = eps\n",
    "        self.weight = nn.Parameter(torch.ones(d_model))\n",
    "        \n",
    "    def forward(self, x):\n",
    "        return x * torch.rsqrt(x.pow(2).mean(-1, keepdim=True) + self.eps) * self.weight"
   ]
  },
  {
   "cell_type": "code",
   "execution_count": null,
   "id": "932566e1",
   "metadata": {},
   "outputs": [],
   "source": []
  }
 ],
 "metadata": {
  "kernelspec": {
   "display_name": "Python 3 (ipykernel)",
   "language": "python",
   "name": "python3"
  },
  "language_info": {
   "codemirror_mode": {
    "name": "ipython",
    "version": 3
   },
   "file_extension": ".py",
   "mimetype": "text/x-python",
   "name": "python",
   "nbconvert_exporter": "python",
   "pygments_lexer": "ipython3",
   "version": "3.9.7"
  }
 },
 "nbformat": 4,
 "nbformat_minor": 5
}
