{
 "cells": [
  {
   "cell_type": "code",
   "execution_count": 2,
   "id": "776a01ff",
   "metadata": {},
   "outputs": [],
   "source": [
    "import math\n",
    "import numpy as np\n",
    "import matplotlib.pyplot as plt\n",
    "%matplotlib inline"
   ]
  },
  {
   "cell_type": "code",
   "execution_count": 3,
   "id": "66d49775",
   "metadata": {},
   "outputs": [],
   "source": [
    "def f(x):\n",
    "    return 3*x**2 - 4*x + 5"
   ]
  },
  {
   "cell_type": "code",
   "execution_count": 4,
   "id": "a595390a",
   "metadata": {},
   "outputs": [
    {
     "data": {
      "text/plain": [
       "20.0"
      ]
     },
     "execution_count": 4,
     "metadata": {},
     "output_type": "execute_result"
    }
   ],
   "source": [
    "f(3.0)"
   ]
  },
  {
   "cell_type": "code",
   "execution_count": 5,
   "id": "46bccf54",
   "metadata": {},
   "outputs": [
    {
     "data": {
      "image/png": "[encoded data removed]",
      "text/plain": [
       "<Figure size 432x288 with 1 Axes>"
      ]
     },
     "metadata": {
      "needs_background": "light"
     },
     "output_type": "display_data"
    }
   ],
   "source": [
    "xs = np.arange(-5, 5, 0.25)\n",
    "ys = f(xs)\n",
    "plt.plot(xs, ys);"
   ]
  },
  {
   "cell_type": "code",
   "execution_count": 6,
   "id": "ce20a73b",
   "metadata": {},
   "outputs": [
    {
     "data": {
      "text/plain": [
       "2.999378523327323e-06"
      ]
     },
     "execution_count": 6,
     "metadata": {},
     "output_type": "execute_result"
    }
   ],
   "source": [
    "h = 0.000001\n",
    "x = 2/3\n",
    "delx = (f(x+h)-f(x))/h\n",
    "\n",
    "def lin(x, m, b):\n",
    "    return m*x+b\n",
    "\n",
    "tarngetxs = np.arange(x-2, x+2, 0.25)\n",
    "tangent_line = lin(tarngetxs, delx, 0)\n",
    "delx"
   ]
  },
  {
   "cell_type": "code",
   "execution_count": 7,
   "id": "cd9db51e",
   "metadata": {},
   "outputs": [
    {
     "data": {
      "text/plain": [
       "3.666666666666667"
      ]
     },
     "execution_count": 7,
     "metadata": {},
     "output_type": "execute_result"
    }
   ],
   "source": [
    "f(x)"
   ]
  },
  {
   "cell_type": "code",
   "execution_count": 8,
   "id": "0fd77b21",
   "metadata": {},
   "outputs": [
    {
     "data": {
      "image/png": "[encoded data removed]",
      "text/plain": [
       "<Figure size 432x288 with 1 Axes>"
      ]
     },
     "metadata": {
      "needs_background": "light"
     },
     "output_type": "display_data"
    }
   ],
   "source": [
    "plt.plot(xs, ys)\n",
    "plt.plot(tarngetxs, tangent_line)\n",
    "plt.scatter(x, f(x), c='red', s=9);"
   ]
  },
  {
   "cell_type": "code",
   "execution_count": 9,
   "id": "ecc57228",
   "metadata": {},
   "outputs": [
    {
     "data": {
      "text/plain": [
       "4"
      ]
     },
     "execution_count": 9,
     "metadata": {},
     "output_type": "execute_result"
    }
   ],
   "source": [
    "a = 2\n",
    "b = -3\n",
    "c = 10\n",
    "d = a*b+c\n",
    "d"
   ]
  },
  {
   "cell_type": "code",
   "execution_count": 10,
   "id": "ce7615f2",
   "metadata": {},
   "outputs": [
    {
     "name": "stdout",
     "output_type": "stream",
     "text": [
      "d1 4\n",
      "d2 4.0001\n",
      "slope_wth_c 0.9999999999976694\n"
     ]
    }
   ],
   "source": [
    "h = 0.0001\n",
    "a = 2\n",
    "b = -3\n",
    "c = 10\n",
    "d1 = a*b+c\n",
    "c += h\n",
    "d2 = a*b+c\n",
    "slope_wth_c = (d2-d1)/h\n",
    "print('d1', d1)\n",
    "print('d2', d2)\n",
    "print('slope_wth_c', slope_wth_c)"
   ]
  },
  {
   "cell_type": "code",
   "execution_count": null,
   "id": "2aab18c2",
   "metadata": {},
   "outputs": [],
   "source": []
  },
  {
   "cell_type": "code",
   "execution_count": 11,
   "id": "114ea7dd",
   "metadata": {},
   "outputs": [],
   "source": [
    "class Value:\n",
    "    def __init__(self, data, children=(), op='', label=''):\n",
    "        self.data = data\n",
    "        self.grad = 0.0\n",
    "        self._prev = set(children)\n",
    "        self._op = op\n",
    "        self._label = label\n",
    "        self._backward = lambda:None\n",
    "    \n",
    "    def __repr__(self):\n",
    "        return f'Value=(data={self.data})'\n",
    "        \n",
    "    def __add__(self, other):\n",
    "        out = Value(self.data+other.data, (self, other), '+')\n",
    "        def _backward():\n",
    "            self.grad += 1.0*out.grad\n",
    "            other.grad += 1.0*out.grad\n",
    "        out._backward = _backward\n",
    "        return out\n",
    "        \n",
    "    def __mul__(self, other):\n",
    "        out = Value(self.data*other.data, (self, other), '*')\n",
    "        def _backward():\n",
    "            self.grad += other.data*out.grad\n",
    "            other.grad += self.data*out.grad\n",
    "        out._backward = _backward\n",
    "        return out\n",
    "    \n",
    "    def tanh(self):\n",
    "        x = self.data\n",
    "        t = (math.exp(2*x)-1)/(math.exp(2*x)+1)\n",
    "        out = Value(t, (self,), 'tanh')\n",
    "        def _backward():\n",
    "            self.grad += (1-t**2)*out.g\n",
    "        out._backward = _backward\n",
    "        return out\n",
    "    \n",
    "    def backward(self):\n",
    "        topo = []\n",
    "        visted = set()\n",
    "        def build_topo(node):\n",
    "            if node not in visted:\n",
    "                visted.add(node)\n",
    "                for child in node._prev:\n",
    "                    build_topo(child)\n",
    "                topo.append(node)\n",
    "        build_topo(self)\n",
    "        self.grad = 1.0\n",
    "        for node in reversed(topo):\n",
    "            node._backward()"
   ]
  },
  {
   "cell_type": "code",
   "execution_count": 12,
   "id": "188684cf",
   "metadata": {},
   "outputs": [
    {
     "data": {
      "text/plain": [
       "Value=(data=-8.0)"
      ]
     },
     "execution_count": 12,
     "metadata": {},
     "output_type": "execute_result"
    }
   ],
   "source": [
    "a = Value(2., label='a')\n",
    "b = Value(-3, label='b')\n",
    "c = Value(10, label='c')\n",
    "e = a*b; e.lable = 'e'\n",
    "d = e+c;d.label='d'\n",
    "f = Value(-2, label='f')\n",
    "L = d*f; L.label='L'\n",
    "L"
   ]
  },
  {
   "cell_type": "code",
   "execution_count": 13,
   "id": "0710868f",
   "metadata": {},
   "outputs": [],
   "source": [
    "L.backward()"
   ]
  },
  {
   "cell_type": "code",
   "execution_count": 14,
   "id": "eb57d5f9",
   "metadata": {},
   "outputs": [],
   "source": [
    "def trace(root):\n",
    "    nodes,edges = set(), set()\n",
    "    def build(v):\n",
    "        if v not in nodes:\n",
    "            nodes.add(v)\n",
    "            for child in v._prev:\n",
    "                edges.add((child, v))\n",
    "                build(child)\n",
    "    build(root)\n",
    "    return nodes,edges"
   ]
  },
  {
   "cell_type": "code",
   "execution_count": 15,
   "id": "02608125",
   "metadata": {},
   "outputs": [],
   "source": [
    "from graphviz import Digraph\n",
    "\n",
    "def draw_dot(root):\n",
    "    dot = Digraph(format='svg', graph_attr={'rankdir': 'LR'})\n",
    "    nodes,edges = trace(root)\n",
    "    for n in nodes:\n",
    "        uid = str(id(n))\n",
    "        dot.node(name=uid, label=f\"{n._label} | data {n.data:.4f} | grad {n.grad:.4f}\", shape='record')\n",
    "        if n._op:\n",
    "            dot.node(name=uid+n._op, label=n._op)\n",
    "            dot.edge(uid+n._op, uid)\n",
    "    for n1,n2 in edges:\n",
    "        dot.edge(str(id(n1)), str(id(n2)) + n2._op)\n",
    "    \n",
    "    return dot"
   ]
  },
  {
   "cell_type": "code",
   "execution_count": 18,
   "id": "aa5ecd9e",
   "metadata": {},
   "outputs": [
    {
     "data": {
      "image/svg+xml": [
       "<?xml version=\"1.0\" encoding=\"UTF-8\" standalone=\"no\"?>\n",
       "<!DOCTYPE svg PUBLIC \"-//W3C//DTD SVG 1.1//EN\"\n",
       " \"http://www.w3.org/Graphics/SVG/1.1/DTD/svg11.dtd\">\n",
       "<!-- Generated by graphviz version 9.0.0 (20230911.1827)\n",
       " -->\n",
       "<!-- Pages: 1 -->\n",
       "<svg width=\"728pt\" height=\"270pt\"\n",
       " viewBox=\"0.00 0.00 728.25 269.50\" xmlns=\"http://www.w3.org/2000/svg\" xmlns:xlink=\"http://www.w3.org/1999/xlink\">\n",
       "<g id=\"graph0\" class=\"graph\" transform=\"scale(1 1) rotate(0) translate(4 265.5)\">\n",
       "<polygon fill=\"white\" stroke=\"none\" points=\"-4,4 -4,-265.5 724.25,-265.5 724.25,4 -4,4\"/>\n",
       "<!-- 140441274836592 -->\n",
       "<g id=\"node1\" class=\"node\">\n",
       "<title>140441274836592</title>\n",
       "<polygon fill=\"none\" stroke=\"black\" points=\"2.25,-187.5 2.25,-261 83.5,-261 83.5,-187.5 2.25,-187.5\"/>\n",
       "<text text-anchor=\"middle\" x=\"42.88\" y=\"-243.7\" font-family=\"Times,serif\" font-size=\"14.00\">a</text>\n",
       "<polyline fill=\"none\" stroke=\"black\" points=\"2.25,-236.5 83.5,-236.5\"/>\n",
       "<text text-anchor=\"middle\" x=\"42.88\" y=\"-219.2\" font-family=\"Times,serif\" font-size=\"14.00\">data 2.0000</text>\n",
       "<polyline fill=\"none\" stroke=\"black\" points=\"2.25,-212 83.5,-212\"/>\n",
       "<text text-anchor=\"middle\" x=\"42.88\" y=\"-194.7\" font-family=\"Times,serif\" font-size=\"14.00\">grad 6.0000</text>\n",
       "</g>\n",
       "<!-- 140441274753184* -->\n",
       "<g id=\"node6\" class=\"node\">\n",
       "<title>140441274753184*</title>\n",
       "<ellipse fill=\"none\" stroke=\"black\" cx=\"148.75\" cy=\"-177.25\" rx=\"27\" ry=\"18\"/>\n",
       "<text text-anchor=\"middle\" x=\"148.75\" y=\"-172.2\" font-family=\"Times,serif\" font-size=\"14.00\">*</text>\n",
       "</g>\n",
       "<!-- 140441274836592&#45;&gt;140441274753184* -->\n",
       "<g id=\"edge6\" class=\"edge\">\n",
       "<title>140441274836592&#45;&gt;140441274753184*</title>\n",
       "<path fill=\"none\" stroke=\"black\" d=\"M83.74,-206.21C94.24,-201.46 105.44,-196.39 115.49,-191.85\"/>\n",
       "<polygon fill=\"black\" stroke=\"black\" points=\"116.81,-195.09 124.48,-187.78 113.92,-188.71 116.81,-195.09\"/>\n",
       "</g>\n",
       "<!-- 140441274756736 -->\n",
       "<g id=\"node2\" class=\"node\">\n",
       "<title>140441274756736</title>\n",
       "<polygon fill=\"none\" stroke=\"black\" points=\"636,-46.5 636,-120 720.25,-120 720.25,-46.5 636,-46.5\"/>\n",
       "<text text-anchor=\"middle\" x=\"678.12\" y=\"-102.7\" font-family=\"Times,serif\" font-size=\"14.00\"> </text>\n",
       "<polyline fill=\"none\" stroke=\"black\" points=\"636,-95.5 720.25,-95.5\"/>\n",
       "<text text-anchor=\"middle\" x=\"678.12\" y=\"-78.2\" font-family=\"Times,serif\" font-size=\"14.00\">data &#45;8.0000</text>\n",
       "<polyline fill=\"none\" stroke=\"black\" points=\"636,-71 720.25,-71\"/>\n",
       "<text text-anchor=\"middle\" x=\"678.12\" y=\"-53.7\" font-family=\"Times,serif\" font-size=\"14.00\">grad 3.0000</text>\n",
       "</g>\n",
       "<!-- 140441274756736* -->\n",
       "<g id=\"node3\" class=\"node\">\n",
       "<title>140441274756736*</title>\n",
       "<ellipse fill=\"none\" stroke=\"black\" cx=\"573\" cy=\"-83.25\" rx=\"27\" ry=\"18\"/>\n",
       "<text text-anchor=\"middle\" x=\"573\" y=\"-78.2\" font-family=\"Times,serif\" font-size=\"14.00\">*</text>\n",
       "</g>\n",
       "<!-- 140441274756736*&#45;&gt;140441274756736 -->\n",
       "<g id=\"edge1\" class=\"edge\">\n",
       "<title>140441274756736*&#45;&gt;140441274756736</title>\n",
       "<path fill=\"none\" stroke=\"black\" d=\"M600.29,-83.25C607.67,-83.25 615.98,-83.25 624.32,-83.25\"/>\n",
       "<polygon fill=\"black\" stroke=\"black\" points=\"624.14,-86.75 634.14,-83.25 624.14,-79.75 624.14,-86.75\"/>\n",
       "</g>\n",
       "<!-- 140441274756208 -->\n",
       "<g id=\"node4\" class=\"node\">\n",
       "<title>140441274756208</title>\n",
       "<polygon fill=\"none\" stroke=\"black\" points=\"425,-0.5 425,-74 509.25,-74 509.25,-0.5 425,-0.5\"/>\n",
       "<text text-anchor=\"middle\" x=\"467.12\" y=\"-56.7\" font-family=\"Times,serif\" font-size=\"14.00\">f</text>\n",
       "<polyline fill=\"none\" stroke=\"black\" points=\"425,-49.5 509.25,-49.5\"/>\n",
       "<text text-anchor=\"middle\" x=\"467.12\" y=\"-32.2\" font-family=\"Times,serif\" font-size=\"14.00\">data &#45;2.0000</text>\n",
       "<polyline fill=\"none\" stroke=\"black\" points=\"425,-25 509.25,-25\"/>\n",
       "<text text-anchor=\"middle\" x=\"467.12\" y=\"-7.7\" font-family=\"Times,serif\" font-size=\"14.00\">grad 4.0000</text>\n",
       "</g>\n",
       "<!-- 140441274756208&#45;&gt;140441274756736* -->\n",
       "<g id=\"edge8\" class=\"edge\">\n",
       "<title>140441274756208&#45;&gt;140441274756736*</title>\n",
       "<path fill=\"none\" stroke=\"black\" d=\"M509.48,-55.56C519.51,-60 530.09,-64.69 539.63,-68.92\"/>\n",
       "<polygon fill=\"black\" stroke=\"black\" points=\"537.94,-72 548.51,-72.85 540.78,-65.6 537.94,-72\"/>\n",
       "</g>\n",
       "<!-- 140441274753184 -->\n",
       "<g id=\"node5\" class=\"node\">\n",
       "<title>140441274753184</title>\n",
       "<polygon fill=\"none\" stroke=\"black\" points=\"212.12,-140.5 212.12,-214 297.88,-214 297.88,-140.5 212.12,-140.5\"/>\n",
       "<text text-anchor=\"middle\" x=\"255\" y=\"-196.7\" font-family=\"Times,serif\" font-size=\"14.00\"> </text>\n",
       "<polyline fill=\"none\" stroke=\"black\" points=\"212.12,-189.5 297.88,-189.5\"/>\n",
       "<text text-anchor=\"middle\" x=\"255\" y=\"-172.2\" font-family=\"Times,serif\" font-size=\"14.00\">data &#45;6.0000</text>\n",
       "<polyline fill=\"none\" stroke=\"black\" points=\"212.12,-165 297.88,-165\"/>\n",
       "<text text-anchor=\"middle\" x=\"255\" y=\"-147.7\" font-family=\"Times,serif\" font-size=\"14.00\">grad &#45;2.0000</text>\n",
       "</g>\n",
       "<!-- 140441274755344+ -->\n",
       "<g id=\"node9\" class=\"node\">\n",
       "<title>140441274755344+</title>\n",
       "<ellipse fill=\"none\" stroke=\"black\" cx=\"361.25\" cy=\"-130.25\" rx=\"27\" ry=\"18\"/>\n",
       "<text text-anchor=\"middle\" x=\"361.25\" y=\"-125.2\" font-family=\"Times,serif\" font-size=\"14.00\">+</text>\n",
       "</g>\n",
       "<!-- 140441274753184&#45;&gt;140441274755344+ -->\n",
       "<g id=\"edge5\" class=\"edge\">\n",
       "<title>140441274753184&#45;&gt;140441274755344+</title>\n",
       "<path fill=\"none\" stroke=\"black\" d=\"M298.1,-158.27C308.01,-153.8 318.43,-149.11 327.83,-144.86\"/>\n",
       "<polygon fill=\"black\" stroke=\"black\" points=\"329.27,-148.06 336.95,-140.76 326.39,-141.68 329.27,-148.06\"/>\n",
       "</g>\n",
       "<!-- 140441274753184*&#45;&gt;140441274753184 -->\n",
       "<g id=\"edge2\" class=\"edge\">\n",
       "<title>140441274753184*&#45;&gt;140441274753184</title>\n",
       "<path fill=\"none\" stroke=\"black\" d=\"M176.06,-177.25C183.52,-177.25 191.93,-177.25 200.39,-177.25\"/>\n",
       "<polygon fill=\"black\" stroke=\"black\" points=\"200.37,-180.75 210.37,-177.25 200.37,-173.75 200.37,-180.75\"/>\n",
       "</g>\n",
       "<!-- 140441274836736 -->\n",
       "<g id=\"node7\" class=\"node\">\n",
       "<title>140441274836736</title>\n",
       "<polygon fill=\"none\" stroke=\"black\" points=\"0,-94.5 0,-168 85.75,-168 85.75,-94.5 0,-94.5\"/>\n",
       "<text text-anchor=\"middle\" x=\"42.88\" y=\"-150.7\" font-family=\"Times,serif\" font-size=\"14.00\">b</text>\n",
       "<polyline fill=\"none\" stroke=\"black\" points=\"0,-143.5 85.75,-143.5\"/>\n",
       "<text text-anchor=\"middle\" x=\"42.88\" y=\"-126.2\" font-family=\"Times,serif\" font-size=\"14.00\">data &#45;3.0000</text>\n",
       "<polyline fill=\"none\" stroke=\"black\" points=\"0,-119 85.75,-119\"/>\n",
       "<text text-anchor=\"middle\" x=\"42.88\" y=\"-101.7\" font-family=\"Times,serif\" font-size=\"14.00\">grad &#45;4.0000</text>\n",
       "</g>\n",
       "<!-- 140441274836736&#45;&gt;140441274753184* -->\n",
       "<g id=\"edge4\" class=\"edge\">\n",
       "<title>140441274836736&#45;&gt;140441274753184*</title>\n",
       "<path fill=\"none\" stroke=\"black\" d=\"M86.12,-149.96C95.89,-154.29 106.14,-158.82 115.41,-162.93\"/>\n",
       "<polygon fill=\"black\" stroke=\"black\" points=\"113.81,-166.05 124.37,-166.9 116.64,-159.65 113.81,-166.05\"/>\n",
       "</g>\n",
       "<!-- 140441274755344 -->\n",
       "<g id=\"node8\" class=\"node\">\n",
       "<title>140441274755344</title>\n",
       "<polygon fill=\"none\" stroke=\"black\" points=\"424.25,-93.5 424.25,-167 510,-167 510,-93.5 424.25,-93.5\"/>\n",
       "<text text-anchor=\"middle\" x=\"467.12\" y=\"-149.7\" font-family=\"Times,serif\" font-size=\"14.00\"> </text>\n",
       "<polyline fill=\"none\" stroke=\"black\" points=\"424.25,-142.5 510,-142.5\"/>\n",
       "<text text-anchor=\"middle\" x=\"467.12\" y=\"-125.2\" font-family=\"Times,serif\" font-size=\"14.00\">data 4.0000</text>\n",
       "<polyline fill=\"none\" stroke=\"black\" points=\"424.25,-118 510,-118\"/>\n",
       "<text text-anchor=\"middle\" x=\"467.12\" y=\"-100.7\" font-family=\"Times,serif\" font-size=\"14.00\">grad &#45;2.0000</text>\n",
       "</g>\n",
       "<!-- 140441274755344&#45;&gt;140441274756736* -->\n",
       "<g id=\"edge9\" class=\"edge\">\n",
       "<title>140441274755344&#45;&gt;140441274756736*</title>\n",
       "<path fill=\"none\" stroke=\"black\" d=\"M510.37,-111.13C520.14,-106.71 530.39,-102.08 539.66,-97.88\"/>\n",
       "<polygon fill=\"black\" stroke=\"black\" points=\"540.96,-101.14 548.62,-93.83 538.07,-94.76 540.96,-101.14\"/>\n",
       "</g>\n",
       "<!-- 140441274755344+&#45;&gt;140441274755344 -->\n",
       "<g id=\"edge3\" class=\"edge\">\n",
       "<title>140441274755344+&#45;&gt;140441274755344</title>\n",
       "<path fill=\"none\" stroke=\"black\" d=\"M388.73,-130.25C396.09,-130.25 404.35,-130.25 412.66,-130.25\"/>\n",
       "<polygon fill=\"black\" stroke=\"black\" points=\"412.44,-133.75 422.44,-130.25 412.44,-126.75 412.44,-133.75\"/>\n",
       "</g>\n",
       "<!-- 140441274756448 -->\n",
       "<g id=\"node10\" class=\"node\">\n",
       "<title>140441274756448</title>\n",
       "<polygon fill=\"none\" stroke=\"black\" points=\"211.75,-47.5 211.75,-121 298.25,-121 298.25,-47.5 211.75,-47.5\"/>\n",
       "<text text-anchor=\"middle\" x=\"255\" y=\"-103.7\" font-family=\"Times,serif\" font-size=\"14.00\">c</text>\n",
       "<polyline fill=\"none\" stroke=\"black\" points=\"211.75,-96.5 298.25,-96.5\"/>\n",
       "<text text-anchor=\"middle\" x=\"255\" y=\"-79.2\" font-family=\"Times,serif\" font-size=\"14.00\">data 10.0000</text>\n",
       "<polyline fill=\"none\" stroke=\"black\" points=\"211.75,-72 298.25,-72\"/>\n",
       "<text text-anchor=\"middle\" x=\"255\" y=\"-54.7\" font-family=\"Times,serif\" font-size=\"14.00\">grad &#45;2.0000</text>\n",
       "</g>\n",
       "<!-- 140441274756448&#45;&gt;140441274755344+ -->\n",
       "<g id=\"edge7\" class=\"edge\">\n",
       "<title>140441274756448&#45;&gt;140441274755344+</title>\n",
       "<path fill=\"none\" stroke=\"black\" d=\"M298.7,-103.09C308.4,-107.37 318.55,-111.85 327.75,-115.91\"/>\n",
       "<polygon fill=\"black\" stroke=\"black\" points=\"326.07,-119 336.64,-119.83 328.9,-112.59 326.07,-119\"/>\n",
       "</g>\n",
       "</g>\n",
       "</svg>\n"
      ],
      "text/plain": [
       "<graphviz.graphs.Digraph at 0x7fbb084c9730>"
      ]
     },
     "execution_count": 18,
     "metadata": {},
     "output_type": "execute_result"
    }
   ],
   "source": [
    "draw_dot(L)"
   ]
  },
  {
   "cell_type": "code",
   "execution_count": null,
   "id": "cd3d37ab",
   "metadata": {},
   "outputs": [],
   "source": []
  },
  {
   "cell_type": "code",
   "execution_count": null,
   "id": "f1b7cc98",
   "metadata": {},
   "outputs": [],
   "source": []
  }
 ],
 "metadata": {
  "kernelspec": {
   "display_name": "Python 3 (ipykernel)",
   "language": "python",
   "name": "python3"
  },
  "language_info": {
   "codemirror_mode": {
    "name": "ipython",
    "version": 3
   },
   "file_extension": ".py",
   "mimetype": "text/x-python",
   "name": "python",
   "nbconvert_exporter": "python",
   "pygments_lexer": "ipython3",
   "version": "3.9.7"
  }
 },
 "nbformat": 4,
 "nbformat_minor": 5
}
