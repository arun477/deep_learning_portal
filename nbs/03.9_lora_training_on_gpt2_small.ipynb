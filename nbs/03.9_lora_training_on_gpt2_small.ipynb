{
 "cells": [
  {
   "cell_type": "code",
   "execution_count": 3,
   "id": "6dd935d1",
   "metadata": {},
   "outputs": [],
   "source": [
    "# todo: \n",
    "\n",
    "# 1) load pre-trained gpt-2 small model from hugging face if possible detach layers.\n",
    "# directly modify layers with lora. porting weight should be done carefully\n",
    "\n",
    "# 2) check  peft from hugginface to https://huggingface.co/docs/peft/index"
   ]
  },
  {
   "cell_type": "code",
   "execution_count": null,
   "id": "c019cb5a",
   "metadata": {},
   "outputs": [],
   "source": []
  }
 ],
 "metadata": {
  "kernelspec": {
   "display_name": "Python 3 (ipykernel)",
   "language": "python",
   "name": "python3"
  },
  "language_info": {
   "codemirror_mode": {
    "name": "ipython",
    "version": 3
   },
   "file_extension": ".py",
   "mimetype": "text/x-python",
   "name": "python",
   "nbconvert_exporter": "python",
   "pygments_lexer": "ipython3",
   "version": "3.9.7"
  }
 },
 "nbformat": 4,
 "nbformat_minor": 5
}
