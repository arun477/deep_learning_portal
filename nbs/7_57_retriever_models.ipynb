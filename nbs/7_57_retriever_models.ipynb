{
 "cells": [
  {
   "cell_type": "code",
   "execution_count": 1,
   "id": "34980881-5fd5-4acf-a0ed-aaa7929cf75d",
   "metadata": {},
   "outputs": [
    {
     "data": {
      "text/plain": [
       "Dataset({\n",
       "    features: ['id', 'title', 'context', 'question', 'answers'],\n",
       "    num_rows: 130319\n",
       "})"
      ]
     },
     "execution_count": 1,
     "metadata": {},
     "output_type": "execute_result"
    }
   ],
   "source": [
    "import datasets\n",
    "\n",
    "squad = datasets.load_dataset('squad_v2', split='train')\n",
    "squad"
   ]
  },
  {
   "cell_type": "code",
   "execution_count": 2,
   "id": "9d0ae4f0-a6f3-4f85-964f-f6491f7e8ed5",
   "metadata": {},
   "outputs": [
    {
     "data": {
      "text/plain": [
       "{'id': '56be85543aeaaa14008c9063',\n",
       " 'title': 'Beyoncé',\n",
       " 'context': 'Beyoncé Giselle Knowles-Carter (/biːˈjɒnseɪ/ bee-YON-say) (born September 4, 1981) is an American singer, songwriter, record producer and actress. Born and raised in Houston, Texas, she performed in various singing and dancing competitions as a child, and rose to fame in the late 1990s as lead singer of R&B girl-group Destiny\\'s Child. Managed by her father, Mathew Knowles, the group became one of the world\\'s best-selling girl groups of all time. Their hiatus saw the release of Beyoncé\\'s debut album, Dangerously in Love (2003), which established her as a solo artist worldwide, earned five Grammy Awards and featured the Billboard Hot 100 number-one singles \"Crazy in Love\" and \"Baby Boy\".',\n",
       " 'question': 'When did Beyonce start becoming popular?',\n",
       " 'answers': {'text': ['in the late 1990s'], 'answer_start': [269]}}"
      ]
     },
     "execution_count": 2,
     "metadata": {},
     "output_type": "execute_result"
    }
   ],
   "source": [
    "squad[0]"
   ]
  },
  {
   "cell_type": "code",
   "execution_count": 3,
   "id": "5bad26e0-e92c-4b8c-a52f-a2d1965dfd4c",
   "metadata": {},
   "outputs": [
    {
     "name": "stderr",
     "output_type": "stream",
     "text": [
      "100%|██████████| 130319/130319 [00:08<00:00, 16132.63it/s]\n"
     ]
    },
    {
     "data": {
      "text/plain": [
       "130319"
      ]
     },
     "execution_count": 3,
     "metadata": {},
     "output_type": "execute_result"
    }
   ],
   "source": [
    "from sentence_transformers import InputExample\n",
    "from tqdm import tqdm\n",
    "\n",
    "samples = []\n",
    "for row in tqdm(squad):\n",
    "    samples.append(InputExample(texts=[row['question'], row['context']]))\n",
    "len(samples)"
   ]
  },
  {
   "cell_type": "code",
   "execution_count": 4,
   "id": "008c6127-d053-4941-9633-577475743f27",
   "metadata": {},
   "outputs": [
    {
     "data": {
      "text/plain": [
       "6"
      ]
     },
     "execution_count": 4,
     "metadata": {},
     "output_type": "execute_result"
    }
   ],
   "source": [
    "from sentence_transformers.datasets import NoDuplicatesDataLoader\n",
    "\n",
    "batch_size = 16\n",
    "loader = NoDuplicatesDataLoader(samples[:100], batch_size=batch_size)\n",
    "len(loader)"
   ]
  },
  {
   "cell_type": "code",
   "execution_count": 5,
   "id": "a108a2b2-6680-46cd-b15a-ce0e572b1913",
   "metadata": {},
   "outputs": [
    {
     "name": "stderr",
     "output_type": "stream",
     "text": [
      "Some weights of MPNetModel were not initialized from the model checkpoint at microsoft/mpnet-base and are newly initialized: ['mpnet.pooler.dense.bias', 'mpnet.pooler.dense.weight']\n",
      "You should probably TRAIN this model on a down-stream task to be able to use it for predictions and inference.\n"
     ]
    },
    {
     "data": {
      "text/plain": [
       "SentenceTransformer(\n",
       "  (0): Transformer({'max_seq_length': 512, 'do_lower_case': False}) with Transformer model: MPNetModel \n",
       "  (1): Pooling({'word_embedding_dimension': 768, 'pooling_mode_cls_token': False, 'pooling_mode_mean_tokens': True, 'pooling_mode_max_tokens': False, 'pooling_mode_mean_sqrt_len_tokens': False, 'pooling_mode_weightedmean_tokens': False, 'pooling_mode_lasttoken': False, 'include_prompt': True})\n",
       ")"
      ]
     },
     "execution_count": 5,
     "metadata": {},
     "output_type": "execute_result"
    }
   ],
   "source": [
    "from sentence_transformers import models, SentenceTransformer\n",
    "\n",
    "bert = models.Transformer('microsoft/mpnet-base')\n",
    "pooling = models.Pooling(bert.get_word_embedding_dimension(), pooling_mode_mean_tokens=True)\n",
    "model = SentenceTransformer(modules=[bert, pooling])\n",
    "model"
   ]
  },
  {
   "cell_type": "code",
   "execution_count": 6,
   "id": "a62a33db-ce86-43e3-8ea1-d8cca0581ea6",
   "metadata": {},
   "outputs": [],
   "source": [
    "from sentence_transformers import losses\n",
    "\n",
    "loss = losses.MultipleNegativesRankingLoss(model)"
   ]
  },
  {
   "cell_type": "code",
   "execution_count": 9,
   "id": "6c705a87-446f-4c8c-b7fc-7ac227051009",
   "metadata": {
    "scrolled": true
   },
   "outputs": [],
   "source": [
    "epochs = 1\n",
    "warmup_steps = int(len(loader)*epochs*0.1)\n",
    "model.fit(\n",
    "    train_objectives=[(loader, loss)],\n",
    "    epochs = epochs,\n",
    "    warmup_steps=warmup_steps,\n",
    "    # output_path='mpnet-mnr-squad2',\n",
    "    show_progress_bar=True\n",
    ")"
   ]
  },
  {
   "cell_type": "code",
   "execution_count": 8,
   "id": "bc29349c-e28f-42c3-87f5-690f5987bcb0",
   "metadata": {},
   "outputs": [],
   "source": [
    "# model.save('mpnet-mnr-squad2')"
   ]
  },
  {
   "cell_type": "code",
   "execution_count": 10,
   "id": "c0d73fac-8763-4876-84e9-10f53bc39a93",
   "metadata": {},
   "outputs": [
    {
     "data": {
      "text/plain": [
       "Dataset({\n",
       "    features: ['id', 'title', 'context', 'question', 'answers'],\n",
       "    num_rows: 11873\n",
       "})"
      ]
     },
     "execution_count": 10,
     "metadata": {},
     "output_type": "execute_result"
    }
   ],
   "source": [
    "squad_dev = datasets.load_dataset('squad_v2', split='validation')\n",
    "squad_dev"
   ]
  },
  {
   "cell_type": "code",
   "execution_count": 17,
   "id": "5bdd37c9-30bd-4327-bd62-0bc634bcca64",
   "metadata": {},
   "outputs": [
    {
     "name": "stderr",
     "output_type": "stream",
     "text": [
      "100%|██████████| 11873/11873 [00:00<00:00, 16320.33it/s]\n"
     ]
    },
    {
     "data": {
      "text/html": [
       "<div>\n",
       "<style scoped>\n",
       "    .dataframe tbody tr th:only-of-type {\n",
       "        vertical-align: middle;\n",
       "    }\n",
       "\n",
       "    .dataframe tbody tr th {\n",
       "        vertical-align: top;\n",
       "    }\n",
       "\n",
       "    .dataframe thead th {\n",
       "        text-align: right;\n",
       "    }\n",
       "</style>\n",
       "<table border=\"1\" class=\"dataframe\">\n",
       "  <thead>\n",
       "    <tr style=\"text-align: right;\">\n",
       "      <th></th>\n",
       "      <th>question</th>\n",
       "      <th>context</th>\n",
       "      <th>id</th>\n",
       "    </tr>\n",
       "  </thead>\n",
       "  <tbody>\n",
       "    <tr>\n",
       "      <th>0</th>\n",
       "      <td>In what country is Normandy located?</td>\n",
       "      <td>The Normans (Norman: Nourmands; French: Norman...</td>\n",
       "      <td>56ddde6b9a695914005b9628</td>\n",
       "    </tr>\n",
       "    <tr>\n",
       "      <th>1</th>\n",
       "      <td>When were the Normans in Normandy?</td>\n",
       "      <td>The Normans (Norman: Nourmands; French: Norman...</td>\n",
       "      <td>56ddde6b9a695914005b9629</td>\n",
       "    </tr>\n",
       "    <tr>\n",
       "      <th>2</th>\n",
       "      <td>From which countries did the Norse originate?</td>\n",
       "      <td>The Normans (Norman: Nourmands; French: Norman...</td>\n",
       "      <td>56ddde6b9a695914005b962a</td>\n",
       "    </tr>\n",
       "    <tr>\n",
       "      <th>3</th>\n",
       "      <td>Who was the Norse leader?</td>\n",
       "      <td>The Normans (Norman: Nourmands; French: Norman...</td>\n",
       "      <td>56ddde6b9a695914005b962b</td>\n",
       "    </tr>\n",
       "    <tr>\n",
       "      <th>4</th>\n",
       "      <td>What century did the Normans first gain their ...</td>\n",
       "      <td>The Normans (Norman: Nourmands; French: Norman...</td>\n",
       "      <td>56ddde6b9a695914005b962c</td>\n",
       "    </tr>\n",
       "  </tbody>\n",
       "</table>\n",
       "</div>"
      ],
      "text/plain": [
       "                                            question  \\\n",
       "0               In what country is Normandy located?   \n",
       "1                 When were the Normans in Normandy?   \n",
       "2      From which countries did the Norse originate?   \n",
       "3                          Who was the Norse leader?   \n",
       "4  What century did the Normans first gain their ...   \n",
       "\n",
       "                                             context                        id  \n",
       "0  The Normans (Norman: Nourmands; French: Norman...  56ddde6b9a695914005b9628  \n",
       "1  The Normans (Norman: Nourmands; French: Norman...  56ddde6b9a695914005b9629  \n",
       "2  The Normans (Norman: Nourmands; French: Norman...  56ddde6b9a695914005b962a  \n",
       "3  The Normans (Norman: Nourmands; French: Norman...  56ddde6b9a695914005b962b  \n",
       "4  The Normans (Norman: Nourmands; French: Norman...  56ddde6b9a695914005b962c  "
      ]
     },
     "execution_count": 17,
     "metadata": {},
     "output_type": "execute_result"
    }
   ],
   "source": [
    "import pandas as pd\n",
    "from tqdm import tqdm\n",
    "\n",
    "squad_df = []\n",
    "for row in tqdm(squad_dev):\n",
    "    squad_df.append({\n",
    "        'question': row['question'],\n",
    "        'context': row['context'],\n",
    "        'id': row['id']\n",
    "    })\n",
    "squad_df = pd.DataFrame(squad_df)\n",
    "squad_df.head()"
   ]
  },
  {
   "cell_type": "code",
   "execution_count": 18,
   "id": "a18bc1d8-cb0f-4f92-8307-0b5744c8459a",
   "metadata": {},
   "outputs": [
    {
     "data": {
      "text/plain": [
       "(11873, 3)"
      ]
     },
     "execution_count": 18,
     "metadata": {},
     "output_type": "execute_result"
    }
   ],
   "source": [
    "squad_df.shape"
   ]
  },
  {
   "cell_type": "code",
   "execution_count": 23,
   "id": "ce4114c0-e1f7-4dcc-8302-5f037cf88a62",
   "metadata": {},
   "outputs": [
    {
     "name": "stdout",
     "output_type": "stream",
     "text": [
      "(1204, 2)\n"
     ]
    },
    {
     "data": {
      "text/html": [
       "<div>\n",
       "<style scoped>\n",
       "    .dataframe tbody tr th:only-of-type {\n",
       "        vertical-align: middle;\n",
       "    }\n",
       "\n",
       "    .dataframe tbody tr th {\n",
       "        vertical-align: top;\n",
       "    }\n",
       "\n",
       "    .dataframe thead th {\n",
       "        text-align: right;\n",
       "    }\n",
       "</style>\n",
       "<table border=\"1\" class=\"dataframe\">\n",
       "  <thead>\n",
       "    <tr style=\"text-align: right;\">\n",
       "      <th></th>\n",
       "      <th>context</th>\n",
       "      <th>id</th>\n",
       "    </tr>\n",
       "  </thead>\n",
       "  <tbody>\n",
       "    <tr>\n",
       "      <th>0</th>\n",
       "      <td>The Normans (Norman: Nourmands; French: Norman...</td>\n",
       "      <td>56ddde6b9a695914005b9628con</td>\n",
       "    </tr>\n",
       "    <tr>\n",
       "      <th>9</th>\n",
       "      <td>The Norman dynasty had a major political, cult...</td>\n",
       "      <td>56dddf4066d3e219004dad5fcon</td>\n",
       "    </tr>\n",
       "    <tr>\n",
       "      <th>17</th>\n",
       "      <td>The English name \"Normans\" comes from the Fren...</td>\n",
       "      <td>56dde0379a695914005b9636con</td>\n",
       "    </tr>\n",
       "    <tr>\n",
       "      <th>21</th>\n",
       "      <td>In the course of the 10th century, the initial...</td>\n",
       "      <td>56dde0ba66d3e219004dad75con</td>\n",
       "    </tr>\n",
       "    <tr>\n",
       "      <th>28</th>\n",
       "      <td>Before Rollo's arrival, its populations did no...</td>\n",
       "      <td>56dde1d966d3e219004dad8dcon</td>\n",
       "    </tr>\n",
       "  </tbody>\n",
       "</table>\n",
       "</div>"
      ],
      "text/plain": [
       "                                              context  \\\n",
       "0   The Normans (Norman: Nourmands; French: Norman...   \n",
       "9   The Norman dynasty had a major political, cult...   \n",
       "17  The English name \"Normans\" comes from the Fren...   \n",
       "21  In the course of the 10th century, the initial...   \n",
       "28  Before Rollo's arrival, its populations did no...   \n",
       "\n",
       "                             id  \n",
       "0   56ddde6b9a695914005b9628con  \n",
       "9   56dddf4066d3e219004dad5fcon  \n",
       "17  56dde0379a695914005b9636con  \n",
       "21  56dde0ba66d3e219004dad75con  \n",
       "28  56dde1d966d3e219004dad8dcon  "
      ]
     },
     "execution_count": 23,
     "metadata": {},
     "output_type": "execute_result"
    }
   ],
   "source": [
    "no_dup_df = squad_df.drop_duplicates(subset='context', keep='first')\n",
    "no_dup_df = no_dup_df.drop(columns=['question'])\n",
    "no_dup_df['id'] = no_dup_df['id'] + 'con'\n",
    "print(no_dup_df.shape)\n",
    "no_dup_df.head()"
   ]
  },
  {
   "cell_type": "code",
   "execution_count": 24,
   "id": "3bc5ee21-03e1-4675-b2dc-8562a1d30bd4",
   "metadata": {},
   "outputs": [
    {
     "name": "stdout",
     "output_type": "stream",
     "text": [
      "(11873, 4)\n"
     ]
    },
    {
     "data": {
      "text/html": [
       "<div>\n",
       "<style scoped>\n",
       "    .dataframe tbody tr th:only-of-type {\n",
       "        vertical-align: middle;\n",
       "    }\n",
       "\n",
       "    .dataframe tbody tr th {\n",
       "        vertical-align: top;\n",
       "    }\n",
       "\n",
       "    .dataframe thead th {\n",
       "        text-align: right;\n",
       "    }\n",
       "</style>\n",
       "<table border=\"1\" class=\"dataframe\">\n",
       "  <thead>\n",
       "    <tr style=\"text-align: right;\">\n",
       "      <th></th>\n",
       "      <th>question</th>\n",
       "      <th>context</th>\n",
       "      <th>id_x</th>\n",
       "      <th>id_y</th>\n",
       "    </tr>\n",
       "  </thead>\n",
       "  <tbody>\n",
       "    <tr>\n",
       "      <th>0</th>\n",
       "      <td>In what country is Normandy located?</td>\n",
       "      <td>The Normans (Norman: Nourmands; French: Norman...</td>\n",
       "      <td>56ddde6b9a695914005b9628</td>\n",
       "      <td>56ddde6b9a695914005b9628con</td>\n",
       "    </tr>\n",
       "    <tr>\n",
       "      <th>1</th>\n",
       "      <td>When were the Normans in Normandy?</td>\n",
       "      <td>The Normans (Norman: Nourmands; French: Norman...</td>\n",
       "      <td>56ddde6b9a695914005b9629</td>\n",
       "      <td>56ddde6b9a695914005b9628con</td>\n",
       "    </tr>\n",
       "    <tr>\n",
       "      <th>2</th>\n",
       "      <td>From which countries did the Norse originate?</td>\n",
       "      <td>The Normans (Norman: Nourmands; French: Norman...</td>\n",
       "      <td>56ddde6b9a695914005b962a</td>\n",
       "      <td>56ddde6b9a695914005b9628con</td>\n",
       "    </tr>\n",
       "    <tr>\n",
       "      <th>3</th>\n",
       "      <td>Who was the Norse leader?</td>\n",
       "      <td>The Normans (Norman: Nourmands; French: Norman...</td>\n",
       "      <td>56ddde6b9a695914005b962b</td>\n",
       "      <td>56ddde6b9a695914005b9628con</td>\n",
       "    </tr>\n",
       "    <tr>\n",
       "      <th>4</th>\n",
       "      <td>What century did the Normans first gain their ...</td>\n",
       "      <td>The Normans (Norman: Nourmands; French: Norman...</td>\n",
       "      <td>56ddde6b9a695914005b962c</td>\n",
       "      <td>56ddde6b9a695914005b9628con</td>\n",
       "    </tr>\n",
       "  </tbody>\n",
       "</table>\n",
       "</div>"
      ],
      "text/plain": [
       "                                            question  \\\n",
       "0               In what country is Normandy located?   \n",
       "1                 When were the Normans in Normandy?   \n",
       "2      From which countries did the Norse originate?   \n",
       "3                          Who was the Norse leader?   \n",
       "4  What century did the Normans first gain their ...   \n",
       "\n",
       "                                             context  \\\n",
       "0  The Normans (Norman: Nourmands; French: Norman...   \n",
       "1  The Normans (Norman: Nourmands; French: Norman...   \n",
       "2  The Normans (Norman: Nourmands; French: Norman...   \n",
       "3  The Normans (Norman: Nourmands; French: Norman...   \n",
       "4  The Normans (Norman: Nourmands; French: Norman...   \n",
       "\n",
       "                       id_x                         id_y  \n",
       "0  56ddde6b9a695914005b9628  56ddde6b9a695914005b9628con  \n",
       "1  56ddde6b9a695914005b9629  56ddde6b9a695914005b9628con  \n",
       "2  56ddde6b9a695914005b962a  56ddde6b9a695914005b9628con  \n",
       "3  56ddde6b9a695914005b962b  56ddde6b9a695914005b9628con  \n",
       "4  56ddde6b9a695914005b962c  56ddde6b9a695914005b9628con  "
      ]
     },
     "execution_count": 24,
     "metadata": {},
     "output_type": "execute_result"
    }
   ],
   "source": [
    "squad_df2 = squad_df.merge(no_dup_df, how='inner', on='context')\n",
    "print(squad_df2.shape)\n",
    "squad_df2.head()"
   ]
  },
  {
   "cell_type": "code",
   "execution_count": 27,
   "id": "2b982a7f-d48a-4107-8c3b-37123e1bc370",
   "metadata": {},
   "outputs": [],
   "source": [
    "ir_queries = { row['id_x']: row['question'] for _,row in squad_df2.iterrows()}\n",
    "ir_corpus = { row['id_y']: row['context'] for _,row in squad_df2.iterrows()}"
   ]
  },
  {
   "cell_type": "code",
   "execution_count": 42,
   "id": "886e23d5-554a-4198-b193-980b73da0c1d",
   "metadata": {
    "scrolled": true
   },
   "outputs": [],
   "source": [
    "ir_relevant_docs = {key:[] for key in squad_df2.id_x.unique()}\n",
    "[ir_relevant_docs[row['id_x']].append(row['id_y']) for _, row in squad_df2.iterrows()];\n",
    "ir_relevant_docs = {key:set(val) for key, val in ir_relevant_docs.items()}\n"
   ]
  },
  {
   "cell_type": "code",
   "execution_count": 44,
   "id": "15cd643c-6c99-4128-9073-505514562ffd",
   "metadata": {
    "scrolled": true
   },
   "outputs": [],
   "source": [
    "from sentence_transformers.evaluation import InformationRetrievalEvaluator\n",
    "\n",
    "eval = InformationRetrievalEvaluator(ir_queries, ir_corpus, ir_relevant_docs)"
   ]
  },
  {
   "cell_type": "code",
   "execution_count": 45,
   "id": "37a1f13a-cce1-4cb6-8df0-d931f9e7a980",
   "metadata": {},
   "outputs": [
    {
     "data": {
      "text/plain": [
       "SentenceTransformer(\n",
       "  (0): Transformer({'max_seq_length': 512, 'do_lower_case': False}) with Transformer model: MPNetModel \n",
       "  (1): Pooling({'word_embedding_dimension': 768, 'pooling_mode_cls_token': False, 'pooling_mode_mean_tokens': True, 'pooling_mode_max_tokens': False, 'pooling_mode_mean_sqrt_len_tokens': False, 'pooling_mode_weightedmean_tokens': False, 'pooling_mode_lasttoken': False, 'include_prompt': True})\n",
       ")"
      ]
     },
     "execution_count": 45,
     "metadata": {},
     "output_type": "execute_result"
    }
   ],
   "source": [
    "model = SentenceTransformer('mpnet-mnr-squad2')\n",
    "model"
   ]
  },
  {
   "cell_type": "code",
   "execution_count": 46,
   "id": "9ecfe37a-9615-44af-8fa4-b49cd876511d",
   "metadata": {},
   "outputs": [
    {
     "data": {
      "text/plain": [
       "0.2383023453093362"
      ]
     },
     "execution_count": 46,
     "metadata": {},
     "output_type": "execute_result"
    }
   ],
   "source": [
    "eval(model)"
   ]
  },
  {
   "cell_type": "code",
   "execution_count": null,
   "id": "74d3ebf2-884d-408d-9b0d-a9ab7bfa666c",
   "metadata": {},
   "outputs": [],
   "source": [
    "qa = SentenceTransformer('multi-qa-mpnet-base-cos-v1')\n",
    "\n",
    "eval(qa)"
   ]
  },
  {
   "cell_type": "code",
   "execution_count": null,
   "id": "dc1c1254-69c6-4baa-9d70-4031274f3969",
   "metadata": {},
   "outputs": [],
   "source": []
  }
 ],
 "metadata": {
  "kernelspec": {
   "display_name": "Python 3 (ipykernel)",
   "language": "python",
   "name": "python3"
  },
  "language_info": {
   "codemirror_mode": {
    "name": "ipython",
    "version": 3
   },
   "file_extension": ".py",
   "mimetype": "text/x-python",
   "name": "python",
   "nbconvert_exporter": "python",
   "pygments_lexer": "ipython3",
   "version": "3.10.0"
  }
 },
 "nbformat": 4,
 "nbformat_minor": 5
}
