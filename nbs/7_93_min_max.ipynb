{
 "cells": [
  {
   "cell_type": "code",
   "execution_count": 15,
   "metadata": {
    "colab": {
     "base_uri": "https://localhost:8080/"
    },
    "id": "jNqsV9lGIU7o",
    "outputId": "fc4aa27b-53cf-4910-c6fe-64a38121fb19"
   },
   "outputs": [
    {
     "data": {
      "text/plain": [
       "12"
      ]
     },
     "execution_count": 15,
     "metadata": {},
     "output_type": "execute_result"
    }
   ],
   "source": [
    "import math\n",
    "import numpy as np\n",
    "\n",
    "scores = [3, 5, 2, 9, 12, 5, 23, 23]\n",
    "b = 2\n",
    "d = math.log(len(scores), b)\n",
    "\n",
    "\n",
    "def min_max(curr_node, curr_depth, turn, scores, d):\n",
    "  if curr_depth == d:\n",
    "    return scores[curr_node]\n",
    "\n",
    "  if turn == 'max':\n",
    "    return max(\n",
    "        min_max(curr_node * 2, curr_depth + 1, 'min', scores, d),\n",
    "        min_max(curr_node * 2 + 1, curr_depth + 1, 'min', scores, d),\n",
    "    )\n",
    "  else:\n",
    "    return min(\n",
    "        min_max(curr_node * 2, curr_depth + 1, 'max', scores, d),\n",
    "        min_max(curr_node * 2 + 1, curr_depth + 1, 'max', scores, d),\n",
    "    )\n",
    "\n",
    "min_max(0, 0, 'max', scores, d)"
   ]
  },
  {
   "cell_type": "code",
   "execution_count": 16,
   "metadata": {
    "id": "tNjR0fUMKo8z"
   },
   "outputs": [],
   "source": []
  },
  {
   "cell_type": "code",
   "execution_count": 28,
   "metadata": {
    "colab": {
     "base_uri": "https://localhost:8080/"
    },
    "id": "-tuuRzlcIWWb",
    "outputId": "fa09816d-e75b-4698-e7bc-9d5f3402b55b"
   },
   "outputs": [
    {
     "name": "stdout",
     "output_type": "stream",
     "text": [
      "depth 3.0\n",
      "size: 8, took 0.00 sec, score: return_val: 8\n",
      "------\n",
      "depth 9.0\n",
      "size: 512, took 0.00 sec, score: return_val: 6\n",
      "------\n",
      "depth 15.0\n",
      "size: 32768, took 0.05 sec, score: return_val: 6\n",
      "------\n",
      "depth 24.0\n",
      "size: 16777216, took 14.39 sec, score: return_val: 4\n",
      "------\n"
     ]
    }
   ],
   "source": [
    "import time\n",
    "\n",
    "num_of_paths = [8, 8**3, 8**5, 8**8]\n",
    "for n in num_of_paths:\n",
    "  scores = np.random.randint(1, 9, n)\n",
    "  d = math.log(n, 2)\n",
    "  print('depth', d)\n",
    "  start_time = time.time()\n",
    "  return_val = min_max(0, 0, 'max', scores, d)\n",
    "  end_time = time.time()\n",
    "  print(f\"size: {n}, took {end_time-start_time:.2f} sec, score: return_val: {return_val}\")\n",
    "  print('------')"
   ]
  },
  {
   "cell_type": "code",
   "execution_count": 28,
   "metadata": {
    "id": "v8RpsljOIWbu"
   },
   "outputs": [],
   "source": []
  },
  {
   "cell_type": "code",
   "execution_count": 23,
   "metadata": {
    "id": "fZw88IZvIWdV"
   },
   "outputs": [],
   "source": []
  },
  {
   "cell_type": "code",
   "execution_count": null,
   "metadata": {
    "id": "4gtu2th4IWeQ"
   },
   "outputs": [],
   "source": []
  },
  {
   "cell_type": "code",
   "execution_count": null,
   "metadata": {
    "id": "xgG_9YndIWfE"
   },
   "outputs": [],
   "source": []
  },
  {
   "cell_type": "code",
   "execution_count": null,
   "metadata": {
    "id": "WGWZC-jsIWhl"
   },
   "outputs": [],
   "source": []
  }
 ],
 "metadata": {
  "colab": {
   "provenance": []
  },
  "kernelspec": {
   "display_name": "Python 3",
   "name": "python3"
  },
  "language_info": {
   "name": "python"
  }
 },
 "nbformat": 4,
 "nbformat_minor": 0
}
