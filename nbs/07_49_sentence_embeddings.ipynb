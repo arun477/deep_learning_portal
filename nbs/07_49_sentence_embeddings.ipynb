{
 "cells": [
  {
   "cell_type": "code",
   "execution_count": 1,
   "id": "6f90c5d3-620d-4990-b075-4a8968566b7b",
   "metadata": {},
   "outputs": [],
   "source": [
    "from sentence_transformers import SentenceTransformer, util"
   ]
  },
  {
   "cell_type": "code",
   "execution_count": 2,
   "id": "48f8e8e9-d029-4e31-b8c4-ba21fda127b2",
   "metadata": {
    "scrolled": true
   },
   "outputs": [],
   "source": [
    "model = SentenceTransformer('sentence-transformers/all-MiniLM-L6-v2')"
   ]
  },
  {
   "cell_type": "code",
   "execution_count": 3,
   "id": "649a19ba-edbf-4293-8ded-77b76f08c7ce",
   "metadata": {},
   "outputs": [
    {
     "name": "stdout",
     "output_type": "stream",
     "text": [
      "score: tensor([[0.6973]]) The weather today is beautiful\n",
      "score: tensor([[0.5133]]) It's raining!\n",
      "score: tensor([[0.1889]]) Dogs are awesome\n"
     ]
    }
   ],
   "source": [
    "sentences = [\"The weather today is beautiful\", \"It's raining!\", \"Dogs are awesome\"]\n",
    "embeddings = model.encode(sentences)\n",
    "query_embedding = model.encode(\"today is sunny day!\")\n",
    "\n",
    "for sentence, emb in zip(sentences, embeddings):\n",
    "    score = util.pytorch_cos_sim(query_embedding, emb)\n",
    "    print(f\"score: {score}\", sentence)"
   ]
  },
  {
   "cell_type": "code",
   "execution_count": 4,
   "id": "68982d03-84e7-4fc9-ba49-f4f43067f5b5",
   "metadata": {},
   "outputs": [],
   "source": [
    "faq = {\n",
    "    \"How do I get a replacement Medicare card?\": \"If your Medicare card was lost, stolen, or destroyed, you can request a replacement online at Medicare.gov.\",\n",
    "    \"How do I sign up for Medicare?\": \"If you already get Social Security benefits, you do not need to sign up for Medicare. We will automatically enroll you in Original Medicare (Part A and Part B) when you become eligible. We will mail you the information a few months before you become eligible.\",\n",
    "    \"What are Medicare late enrollment penalties?\": \"In most cases, if you don’t sign up for Medicare when you’re first eligible, you may have to pay a higher monthly premium. Find more information at https://faq.ssa.gov/en-us/Topic/article/KA-02995\",\n",
    "    \"Will my Medicare premiums be higher because of my higher income?\": \"Some people with higher income may pay a larger percentage of their monthly Medicare Part B and prescription drug costs based on their income. We call the additional amount the income-related monthly adjustment amount.\",\n",
    "    \"What is Medicare and who can get it?\": \"Medicare is a health insurance program for people age 65 or older. Some younger people are eligible for Medicare including people with disabilities, permanent kidney failure and amyotrophic lateral sclerosis (Lou Gehrig’s disease or ALS). Medicare helps with the cost of health care, but it does not cover all medical expenses or the cost of most long-term care.\",\n",
    "}"
   ]
  },
  {
   "cell_type": "code",
   "execution_count": 5,
   "id": "2c6625b4-acb4-421f-a077-8fc3b8a28853",
   "metadata": {},
   "outputs": [
    {
     "name": "stdout",
     "output_type": "stream",
     "text": [
      "score:0.46, query: Will my Medicare premiums be higher because of my higher income?, answer: Some people with higher income may pay a larger percentage of their monthly Medicare Part B and prescription drug costs based on their income. We call the additional amount the income-related monthly adjustment amount.\n",
      "\n",
      "score:0.14, query: What is Medicare and who can get it?, answer: Medicare is a health insurance program for people age 65 or older. Some younger people are eligible for Medicare including people with disabilities, permanent kidney failure and amyotrophic lateral sclerosis (Lou Gehrig’s disease or ALS). Medicare helps with the cost of health care, but it does not cover all medical expenses or the cost of most long-term care.\n",
      "\n",
      "score:0.13, query: What are Medicare late enrollment penalties?, answer: In most cases, if you don’t sign up for Medicare when you’re first eligible, you may have to pay a higher monthly premium. Find more information at https://faq.ssa.gov/en-us/Topic/article/KA-02995\n",
      "\n"
     ]
    }
   ],
   "source": [
    "corpus_embeddings = model.encode(list(faq.keys()))\n",
    "query_emb = model.encode('do i have to pay more after my raise?')\n",
    "similarities = util.semantic_search(query_emb, corpus_embeddings, top_k=3)\n",
    "\n",
    "for i, res in enumerate(similarities[0]):\n",
    "    id, score = res['corpus_id'], res['score']\n",
    "    query =  list(faq.keys())[id]\n",
    "    answer = faq[query]\n",
    "    print(f\"score:{score:.2f}, query: {query}, answer: {answer}\\n\")"
   ]
  },
  {
   "cell_type": "code",
   "execution_count": 7,
   "id": "12fe6caf-a3d0-445f-8aec-ad5b6f478198",
   "metadata": {},
   "outputs": [],
   "source": [
    "from transformers import AutoTokenizer, AutoModel"
   ]
  },
  {
   "cell_type": "code",
   "execution_count": 9,
   "id": "ea4bfbfd-7496-488f-904b-84aa0fe6d417",
   "metadata": {
    "scrolled": true
   },
   "outputs": [],
   "source": [
    "tokenizer = AutoTokenizer.from_pretrained('bert-base-uncased')\n",
    "model = AutoModel.from_pretrained('bert-base-uncased')"
   ]
  },
  {
   "cell_type": "code",
   "execution_count": 16,
   "id": "423a7331-2d88-47fa-8f54-814d8885463b",
   "metadata": {},
   "outputs": [
    {
     "name": "stdout",
     "output_type": "stream",
     "text": [
      "['[CLS]', 'the', 'king', 'and', 'the', 'queen', 'are', 'happy', '.', '[SEP]']\n"
     ]
    }
   ],
   "source": [
    "text = 'The king and the queen are happy.'\n",
    "tokens = tokenizer.tokenize(text, add_special_tokens=True)\n",
    "print(tokens)"
   ]
  },
  {
   "cell_type": "code",
   "execution_count": 17,
   "id": "2c49bda6-8618-42b8-b463-8b7b61be597e",
   "metadata": {},
   "outputs": [
    {
     "name": "stdout",
     "output_type": "stream",
     "text": [
      "torch.Size([1, 10, 768])\n"
     ]
    }
   ],
   "source": [
    "encoded_input = tokenizer(text, return_tensors='pt')\n",
    "output = model(**encoded_input)\n",
    "print(output['last_hidden_state'].shape)"
   ]
  },
  {
   "cell_type": "code",
   "execution_count": 22,
   "id": "967e38c5-bdc7-4ff1-aa73-4c78bd72c912",
   "metadata": {},
   "outputs": [
    {
     "name": "stdout",
     "output_type": "stream",
     "text": [
      "similarity (king vs queen): 0.7920713424682617\n",
      "similarity (king vs happy): 0.5239201784133911\n"
     ]
    }
   ],
   "source": [
    "king_emb = output['last_hidden_state'][0][2]\n",
    "queen_emb = output['last_hidden_state'][0][5]\n",
    "happy_emb = output['last_hidden_state'][0][7]\n",
    "\n",
    "print(f'similarity (king vs queen): {util.pytorch_cos_sim(king_emb, queen_emb)[0][0]}')\n",
    "print(f'similarity (king vs happy): {util.pytorch_cos_sim(king_emb, happy_emb)[0][0]}')"
   ]
  },
  {
   "cell_type": "code",
   "execution_count": 23,
   "id": "7808e6a5-7078-4372-83ea-80da3583ed75",
   "metadata": {},
   "outputs": [
    {
     "name": "stdout",
     "output_type": "stream",
     "text": [
      "torch.Size([1, 7, 768])\n"
     ]
    }
   ],
   "source": [
    "text = \"The angry and unhappy king\"\n",
    "encoded_input = tokenizer(text, return_tensors='pt')\n",
    "output  = model(**encoded_input)\n",
    "print(output['last_hidden_state'].shape)"
   ]
  },
  {
   "cell_type": "code",
   "execution_count": 24,
   "id": "ace88842-d1e9-424f-bc15-9c6ab73e695d",
   "metadata": {},
   "outputs": [
    {
     "data": {
      "text/plain": [
       "['[CLS]', 'the', 'angry', 'and', 'unhappy', 'king', '[SEP]']"
      ]
     },
     "execution_count": 24,
     "metadata": {},
     "output_type": "execute_result"
    }
   ],
   "source": [
    "tokenizer.tokenize(text, add_special_tokens=True)"
   ]
  },
  {
   "cell_type": "code",
   "execution_count": 25,
   "id": "6166f162-0bc8-4e6a-96d3-c12e0becb9fb",
   "metadata": {},
   "outputs": [
    {
     "name": "stdout",
     "output_type": "stream",
     "text": [
      "similarity (king1 vs king2): 0.5740004777908325\n"
     ]
    }
   ],
   "source": [
    "king2_emb = output['last_hidden_state'][0][5]\n",
    "print(f'similarity (king1 vs king2): {util.pytorch_cos_sim(king_emb, king2_emb)[0][0]}')"
   ]
  },
  {
   "cell_type": "code",
   "execution_count": 26,
   "id": "92d37cda-84da-4f06-bfc3-53bbc85a8ad7",
   "metadata": {},
   "outputs": [
    {
     "name": "stdout",
     "output_type": "stream",
     "text": [
      "['token', '##ization']\n"
     ]
    }
   ],
   "source": [
    "print(tokenizer.tokenize('tokenization'))"
   ]
  },
  {
   "cell_type": "code",
   "execution_count": 28,
   "id": "1e7620cd-1aee-469b-95ff-3c315bb77a41",
   "metadata": {},
   "outputs": [
    {
     "data": {
      "text/plain": [
       "['[CLS]', '<', 'html', '>', '<', '/', 'html', '>', '[SEP]']"
      ]
     },
     "execution_count": 28,
     "metadata": {},
     "output_type": "execute_result"
    }
   ],
   "source": [
    "text =\"\"\"\n",
    "<html>\n",
    "</html>\n",
    "\"\"\"\n",
    "tokenizer.tokenize(text, add_special_tokens=True)"
   ]
  },
  {
   "cell_type": "code",
   "execution_count": 66,
   "id": "9bb5fd70-9afd-44f0-a924-0c85f557131b",
   "metadata": {
    "scrolled": true
   },
   "outputs": [],
   "source": [
    "text = 'this is about tokenization'\n",
    "encoded_input = tokenizer(text, return_tensors='pt')\n",
    "output = model(**encoded_input)"
   ]
  },
  {
   "cell_type": "code",
   "execution_count": 67,
   "id": "034ad323-8a8e-469b-9c74-639be2596ede",
   "metadata": {},
   "outputs": [
    {
     "data": {
      "text/plain": [
       "['[CLS]', 'this', 'is', 'about', 'token', '##ization', '[SEP]']"
      ]
     },
     "execution_count": 67,
     "metadata": {},
     "output_type": "execute_result"
    }
   ],
   "source": [
    "tokenizer.tokenize(text, add_special_tokens=True)"
   ]
  },
  {
   "cell_type": "code",
   "execution_count": 68,
   "id": "6cedb0f3-098d-42dd-a990-0f8cd9f4fdac",
   "metadata": {},
   "outputs": [
    {
     "data": {
      "text/plain": [
       "torch.Size([2, 768])"
      ]
     },
     "execution_count": 68,
     "metadata": {},
     "output_type": "execute_result"
    }
   ],
   "source": [
    "word_token_indices = [4, 5]\n",
    "word_embeddings = output['last_hidden_state'][0, word_token_indices]\n",
    "word_embeddings.shape"
   ]
  },
  {
   "cell_type": "code",
   "execution_count": 69,
   "id": "12616879-77a4-442c-b9e4-220d285dd3cb",
   "metadata": {},
   "outputs": [],
   "source": [
    "import torch\n",
    "word_embeddings = torch.mean(word_embeddings, dim=0)"
   ]
  },
  {
   "cell_type": "code",
   "execution_count": 70,
   "id": "201708ce-47e7-4d85-a75b-70bcf8d7462e",
   "metadata": {},
   "outputs": [
    {
     "data": {
      "text/plain": [
       "[2023, 2003, 2055, 19204, 3989]"
      ]
     },
     "execution_count": 70,
     "metadata": {},
     "output_type": "execute_result"
    }
   ],
   "source": [
    "tokenizer.encode(text, add_special_tokens=False)"
   ]
  },
  {
   "cell_type": "code",
   "execution_count": 71,
   "id": "09c0b443-83b1-437f-9259-0854d99f35ea",
   "metadata": {},
   "outputs": [
    {
     "data": {
      "text/plain": [
       "[19204, 3989]"
      ]
     },
     "execution_count": 71,
     "metadata": {},
     "output_type": "execute_result"
    }
   ],
   "source": [
    "tokenizer.encode('tokenization', add_special_tokens=False)"
   ]
  },
  {
   "cell_type": "code",
   "execution_count": 72,
   "id": "c4a7d7af-a71a-44ec-b831-3667ec9ec3bd",
   "metadata": {},
   "outputs": [],
   "source": [
    "def get_word_embedding(text, word):\n",
    "    encoded_input = tokenizer(text, return_tensors='pt')\n",
    "    with torch.no_grad():\n",
    "        output = model(**encoded_input)\n",
    "    word_ids = tokenizer.encode(word, add_special_tokens=False)\n",
    "    word_indices = [i for i, token_id in enumerate(encoded_input['input_ids'][0]) if token_id in word_ids]\n",
    "    word_embeddings = output['last_hidden_state'][0, word_indices]\n",
    "    return torch.mean(word_embeddings, dim=0)"
   ]
  },
  {
   "cell_type": "code",
   "execution_count": 73,
   "id": "1213ec6e-40b2-4094-b1d4-7e9619e3b066",
   "metadata": {},
   "outputs": [
    {
     "name": "stdout",
     "output_type": "stream",
     "text": [
      "torch.Size([768])\n",
      "True\n"
     ]
    }
   ],
   "source": [
    "word_embeddings2 = get_word_embedding(text, 'tokenization')\n",
    "print(word_embeddings2.shape)\n",
    "print(torch.allclose(word_embeddings, word_embeddings2))"
   ]
  },
  {
   "cell_type": "code",
   "execution_count": 74,
   "id": "4efd2397-4170-45b2-a108-7612debaa6d8",
   "metadata": {},
   "outputs": [
    {
     "data": {
      "text/plain": [
       "tensor([[0.8564]])"
      ]
     },
     "execution_count": 74,
     "metadata": {},
     "output_type": "execute_result"
    }
   ],
   "source": [
    "util.pytorch_cos_sim(\n",
    "    get_word_embedding('the king is angry', 'king'),\n",
    "    get_word_embedding('the queen is angry', 'queen')\n",
    ")"
   ]
  },
  {
   "cell_type": "code",
   "execution_count": 75,
   "id": "64bea021-44aa-46d8-8181-27371adb17a1",
   "metadata": {},
   "outputs": [
    {
     "data": {
      "text/plain": [
       "tensor([[0.8059]])"
      ]
     },
     "execution_count": 75,
     "metadata": {},
     "output_type": "execute_result"
    }
   ],
   "source": [
    "util.pytorch_cos_sim(\n",
    "    get_word_embedding('the king is angry', 'king'),\n",
    "    get_word_embedding('the queen is happy', 'queen')\n",
    ")"
   ]
  },
  {
   "cell_type": "code",
   "execution_count": null,
   "id": "a07a14fa-df4a-4736-b45b-36d8a3e24df4",
   "metadata": {
    "scrolled": true
   },
   "outputs": [],
   "source": []
  },
  {
   "cell_type": "code",
   "execution_count": null,
   "id": "1a01a8ae-f158-41e1-9bf7-e8717e61ab70",
   "metadata": {},
   "outputs": [],
   "source": []
  }
 ],
 "metadata": {
  "kernelspec": {
   "display_name": "Python 3",
   "language": "python",
   "name": "python3"
  },
  "language_info": {
   "codemirror_mode": {
    "name": "ipython",
    "version": 3
   },
   "file_extension": ".py",
   "mimetype": "text/x-python",
   "name": "python",
   "nbconvert_exporter": "python",
   "pygments_lexer": "ipython3",
   "version": "3.10.10"
  }
 },
 "nbformat": 4,
 "nbformat_minor": 5
}
