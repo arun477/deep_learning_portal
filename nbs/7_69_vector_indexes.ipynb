{
 "cells": [
  {
   "cell_type": "code",
   "execution_count": 102,
   "id": "r340KeS5FmVA",
   "metadata": {
    "id": "r340KeS5FmVA"
   },
   "outputs": [],
   "source": [
    "import shutil\n",
    "from contextlib import closing\n",
    "from urllib import request\n",
    "\n",
    "with closing(request.urlopen('ftp://ftp.irisa.fr/local/texmex/corpus/sift.tar.gz')) as r:\n",
    "  with open('sift.tar.gz', 'wb') as f:\n",
    "    shutil.copyfileobj(r, f)"
   ]
  },
  {
   "cell_type": "code",
   "execution_count": 103,
   "id": "bubP6CLEKSgp",
   "metadata": {
    "id": "bubP6CLEKSgp"
   },
   "outputs": [],
   "source": [
    "import tarfile\n",
    "tar = tarfile.open('sift.tar.gz', 'r:gz')\n",
    "tar.extractall()"
   ]
  },
  {
   "cell_type": "code",
   "execution_count": 104,
   "id": "6s5oHMUdLI_h",
   "metadata": {
    "colab": {
     "base_uri": "https://localhost:8080/"
    },
    "id": "6s5oHMUdLI_h",
    "outputId": "44ab5808-2fd8-4de5-da24-543ce65e930b"
   },
   "outputs": [
    {
     "name": "stdout",
     "output_type": "stream",
     "text": [
      "128\n"
     ]
    }
   ],
   "source": [
    "import numpy as np\n",
    "\n",
    "a = np.fromfile('./sift/sift_base.fvecs', dtype='int32')\n",
    "d = a[0]\n",
    "print(d)"
   ]
  },
  {
   "cell_type": "code",
   "execution_count": 105,
   "id": "FcVEUwAiLjxp",
   "metadata": {
    "colab": {
     "base_uri": "https://localhost:8080/"
    },
    "id": "FcVEUwAiLjxp",
    "outputId": "3e1d5e59-9dfa-4759-c932-b815f1a5d3d4"
   },
   "outputs": [
    {
     "data": {
      "text/plain": [
       "(1000000, 128)"
      ]
     },
     "execution_count": 105,
     "metadata": {},
     "output_type": "execute_result"
    }
   ],
   "source": [
    "a.reshape(-1, d + 1)[:, 1:].shape"
   ]
  },
  {
   "cell_type": "code",
   "execution_count": 106,
   "id": "oCp0h840Lkba",
   "metadata": {
    "id": "oCp0h840Lkba"
   },
   "outputs": [],
   "source": [
    "def read_fvecs(fvecfile):\n",
    "  a = np.fromfile(fvecfile, dtype='int32')\n",
    "  d = a[0]\n",
    "  return a.reshape(-1, d+1)[:, 1:].copy().view('float32')"
   ]
  },
  {
   "cell_type": "code",
   "execution_count": 107,
   "id": "8jGvjMnkM7ki",
   "metadata": {
    "colab": {
     "base_uri": "https://localhost:8080/"
    },
    "id": "8jGvjMnkM7ki",
    "outputId": "9d953f5f-aafe-49ea-d01b-25c4d45ddc40"
   },
   "outputs": [
    {
     "name": "stdout",
     "output_type": "stream",
     "text": [
      "(1000000, 128) (10000, 128)\n"
     ]
    }
   ],
   "source": [
    "xb = read_fvecs('./sift/sift_base.fvecs')\n",
    "xq = read_fvecs('./sift/sift_query.fvecs')\n",
    "print(xb.shape, xq.shape)"
   ]
  },
  {
   "cell_type": "code",
   "execution_count": 108,
   "id": "0GlRmG69NApY",
   "metadata": {
    "colab": {
     "base_uri": "https://localhost:8080/"
    },
    "id": "0GlRmG69NApY",
    "outputId": "3c06d214-14e4-4eab-b33b-edef79134c42"
   },
   "outputs": [
    {
     "data": {
      "text/plain": [
       "(1, 128)"
      ]
     },
     "execution_count": 108,
     "metadata": {},
     "output_type": "execute_result"
    }
   ],
   "source": [
    "xq = xq[0][None]\n",
    "xq.shape"
   ]
  },
  {
   "cell_type": "code",
   "execution_count": 109,
   "id": "Hegl4wwpNP6B",
   "metadata": {
    "colab": {
     "base_uri": "https://localhost:8080/"
    },
    "id": "Hegl4wwpNP6B",
    "outputId": "ce8b06e2-6dab-423a-a512-35fd9fbc53c1"
   },
   "outputs": [
    {
     "data": {
      "text/plain": [
       "array([[  1.,   3.,  11., 110.,  62.,  22.,   4.,   0.,  43.,  21.,  22.,\n",
       "         18.,   6.,  28.,  64.,   9.,  11.,   1.,   0.,   0.,   1.,  40.,\n",
       "        101.,  21.,  20.,   2.,   4.,   2.,   2.,   9.,  18.,  35.,   1.,\n",
       "          1.,   7.,  25., 108., 116.,  63.,   2.,   0.,   0.,  11.,  74.,\n",
       "         40., 101., 116.,   3.,  33.,   1.,   1.,  11.,  14.,  18., 116.,\n",
       "        116.,  68.,  12.,   5.,   4.,   2.,   2.,   9., 102.,  17.,   3.,\n",
       "         10.,  18.,   8.,  15.,  67.,  63.,  15.,   0.,  14., 116.,  80.,\n",
       "          0.,   2.,  22.,  96.,  37.,  28.,  88.,  43.,   1.,   4.,  18.,\n",
       "        116.,  51.,   5.,  11.,  32.,  14.,   8.,  23.,  44.,  17.,  12.,\n",
       "          9.,   0.,   0.,  19.,  37.,  85.,  18.,  16., 104.,  22.,   6.,\n",
       "          2.,  26.,  12.,  58.,  67.,  82.,  25.,  12.,   2.,   2.,  25.,\n",
       "         18.,   8.,   2.,  19.,  42.,  48.,  11.]], dtype=float32)"
      ]
     },
     "execution_count": 109,
     "metadata": {},
     "output_type": "execute_result"
    }
   ],
   "source": [
    "xq"
   ]
  },
  {
   "cell_type": "code",
   "execution_count": 110,
   "id": "dS8hKFjoNY61",
   "metadata": {
    "colab": {
     "base_uri": "https://localhost:8080/"
    },
    "id": "dS8hKFjoNY61",
    "outputId": "3f1fb5d9-e4f2-4b72-a5c1-9f17c5d83ccc"
   },
   "outputs": [
    {
     "name": "stdout",
     "output_type": "stream",
     "text": [
      "CPU times: user 157 ms, sys: 277 ms, total: 434 ms\n",
      "Wall time: 421 ms\n"
     ]
    },
    {
     "data": {
      "text/plain": [
       "1000000"
      ]
     },
     "execution_count": 110,
     "metadata": {},
     "output_type": "execute_result"
    }
   ],
   "source": [
    "%%time\n",
    "import faiss\n",
    "d = 128\n",
    "k = 10\n",
    "index = faiss.IndexFlatIP(d)\n",
    "index.add(xb)\n",
    "index.ntotal"
   ]
  },
  {
   "cell_type": "code",
   "execution_count": 111,
   "id": "UtyMEuJ9OLHg",
   "metadata": {
    "colab": {
     "base_uri": "https://localhost:8080/"
    },
    "id": "UtyMEuJ9OLHg",
    "outputId": "f8cf6a0b-6c02-4059-c9ce-749039e7d611"
   },
   "outputs": [
    {
     "name": "stdout",
     "output_type": "stream",
     "text": [
      "CPU times: user 47 ms, sys: 0 ns, total: 47 ms\n",
      "Wall time: 46.2 ms\n"
     ]
    }
   ],
   "source": [
    "%%time\n",
    "D, I = index.search(xq, k)"
   ]
  },
  {
   "cell_type": "code",
   "execution_count": 112,
   "id": "9goJ73JlOab-",
   "metadata": {
    "id": "9goJ73JlOab-"
   },
   "outputs": [],
   "source": [
    "nbit = d*4\n",
    "index = faiss.IndexLSH(d, nbit)"
   ]
  },
  {
   "cell_type": "code",
   "execution_count": 113,
   "id": "fZhV4LulPYoP",
   "metadata": {
    "colab": {
     "base_uri": "https://localhost:8080/"
    },
    "id": "fZhV4LulPYoP",
    "outputId": "2afdb3b1-309b-4f63-9614-4026ecb8ce0e"
   },
   "outputs": [
    {
     "name": "stdout",
     "output_type": "stream",
     "text": [
      "CPU times: user 3.35 s, sys: 1.3 s, total: 4.65 s\n",
      "Wall time: 5.03 s\n"
     ]
    }
   ],
   "source": [
    "%%time\n",
    "index.add(xb)"
   ]
  },
  {
   "cell_type": "code",
   "execution_count": 114,
   "id": "TZb35gsuPwlJ",
   "metadata": {
    "colab": {
     "base_uri": "https://localhost:8080/"
    },
    "id": "TZb35gsuPwlJ",
    "outputId": "2362aceb-06fb-49bb-9b5b-caaa74c25624"
   },
   "outputs": [
    {
     "name": "stdout",
     "output_type": "stream",
     "text": [
      "CPU times: user 9.85 ms, sys: 0 ns, total: 9.85 ms\n",
      "Wall time: 19.8 ms\n"
     ]
    },
    {
     "data": {
      "text/plain": [
       "array([[435345, 931632, 708177, 813701, 934876]])"
      ]
     },
     "execution_count": 114,
     "metadata": {},
     "output_type": "execute_result"
    }
   ],
   "source": [
    "%%time\n",
    "D, I = index.search(xq, 5)\n",
    "I"
   ]
  },
  {
   "cell_type": "code",
   "execution_count": 116,
   "id": "5Y7XVXlPT8ho",
   "metadata": {
    "colab": {
     "base_uri": "https://localhost:8080/"
    },
    "id": "5Y7XVXlPT8ho",
    "outputId": "8bfc657e-1f94-403d-a015-b175d55df06e"
   },
   "outputs": [
    {
     "name": "stdout",
     "output_type": "stream",
     "text": [
      "CPU times: user 9min 17s, sys: 1.56 s, total: 9min 18s\n",
      "Wall time: 9min 29s\n"
     ]
    }
   ],
   "source": [
    "%%time\n",
    "M = 64\n",
    "ef_search = 32\n",
    "ef_construction = 64\n",
    "index = faiss.IndexHNSWFlat(d, M)\n",
    "index.hnsw.efConstruction = ef_construction\n",
    "index.hnsw.efSearch = ef_search\n",
    "index.add(xb)"
   ]
  },
  {
   "cell_type": "code",
   "execution_count": 117,
   "id": "JnkNgUBgcRw5",
   "metadata": {
    "colab": {
     "base_uri": "https://localhost:8080/"
    },
    "id": "JnkNgUBgcRw5",
    "outputId": "cde6444b-14b1-4cac-91ff-9f7bce95a2d1"
   },
   "outputs": [
    {
     "name": "stdout",
     "output_type": "stream",
     "text": [
      "CPU times: user 1.65 ms, sys: 0 ns, total: 1.65 ms\n",
      "Wall time: 4.07 ms\n"
     ]
    },
    {
     "data": {
      "text/plain": [
       "array([[932085, 934876, 561813, 708177, 706771]])"
      ]
     },
     "execution_count": 117,
     "metadata": {},
     "output_type": "execute_result"
    }
   ],
   "source": [
    "%%time\n",
    "D, I = index.search(xq, 5)\n",
    "I"
   ]
  },
  {
   "cell_type": "code",
   "execution_count": 124,
   "id": "J5KCXguFcbTg",
   "metadata": {
    "colab": {
     "base_uri": "https://localhost:8080/"
    },
    "id": "J5KCXguFcbTg",
    "outputId": "5bb83c8f-2830-4209-dad7-fe39db466eab"
   },
   "outputs": [
    {
     "name": "stdout",
     "output_type": "stream",
     "text": [
      "CPU times: user 564 µs, sys: 0 ns, total: 564 µs\n",
      "Wall time: 489 µs\n"
     ]
    }
   ],
   "source": [
    "%%time\n",
    "nlist = 128\n",
    "quantizer = faiss.IndexFlatIP(d)\n",
    "index = faiss.IndexIVFFlat(quantizer, d, nlist)"
   ]
  },
  {
   "cell_type": "code",
   "execution_count": 125,
   "id": "HLe319yAeimF",
   "metadata": {
    "colab": {
     "base_uri": "https://localhost:8080/"
    },
    "id": "HLe319yAeimF",
    "outputId": "85817154-9454-46f7-992c-d2c15466dd34"
   },
   "outputs": [
    {
     "name": "stdout",
     "output_type": "stream",
     "text": [
      "CPU times: user 1.61 s, sys: 298 ms, total: 1.9 s\n",
      "Wall time: 1.89 s\n"
     ]
    }
   ],
   "source": [
    "%%time\n",
    "index.train(xb)\n",
    "index.add(xb)"
   ]
  },
  {
   "cell_type": "code",
   "execution_count": 126,
   "id": "M1U4mq8aelyC",
   "metadata": {
    "colab": {
     "base_uri": "https://localhost:8080/"
    },
    "id": "M1U4mq8aelyC",
    "outputId": "1da9dea1-65f5-408f-8900-c7eb167433b5"
   },
   "outputs": [
    {
     "name": "stdout",
     "output_type": "stream",
     "text": [
      "CPU times: user 2.51 ms, sys: 0 ns, total: 2.51 ms\n",
      "Wall time: 1.37 ms\n"
     ]
    },
    {
     "data": {
      "text/plain": [
       "array([[932085, 708177, 706771, 701258, 455537]])"
      ]
     },
     "execution_count": 126,
     "metadata": {},
     "output_type": "execute_result"
    }
   ],
   "source": [
    "%%time\n",
    "D, I = index.search(xq, 5)\n",
    "I"
   ]
  },
  {
   "cell_type": "code",
   "execution_count": null,
   "id": "cVAdcyZYe3wk",
   "metadata": {
    "id": "cVAdcyZYe3wk"
   },
   "outputs": [],
   "source": []
  }
 ],
 "metadata": {
  "accelerator": "GPU",
  "colab": {
   "gpuType": "T4",
   "provenance": []
  },
  "kernelspec": {
   "display_name": "m",
   "language": "python",
   "name": "m"
  },
  "language_info": {
   "codemirror_mode": {
    "name": "ipython",
    "version": 3
   },
   "file_extension": ".py",
   "mimetype": "text/x-python",
   "name": "python",
   "nbconvert_exporter": "python",
   "pygments_lexer": "ipython3",
   "version": "3.9.19"
  }
 },
 "nbformat": 4,
 "nbformat_minor": 5
}
