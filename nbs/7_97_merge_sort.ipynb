{
 "cells": [
  {
   "cell_type": "code",
   "execution_count": 16,
   "metadata": {
    "colab": {
     "base_uri": "https://localhost:8080/"
    },
    "id": "vnems_nO3-Hg",
    "outputId": "109b8782-70e2-45ba-e54d-91b799bf205b"
   },
   "outputs": [
    {
     "data": {
      "text/plain": [
       "array([91, 56,  0,  0, 22, 36, 94, 76, 65, 30])"
      ]
     },
     "execution_count": 16,
     "metadata": {},
     "output_type": "execute_result"
    }
   ],
   "source": [
    "import numpy as np\n",
    "x = np.random.randint(0, 100, 10)\n",
    "x"
   ]
  },
  {
   "cell_type": "code",
   "execution_count": 17,
   "metadata": {
    "id": "ZglFYiJy4R0n"
   },
   "outputs": [],
   "source": [
    "x = list(x)\n",
    "mid = len(x) // 2\n",
    "mid\n",
    "left_x, right_x = x[:mid], x[mid:]\n",
    "left_x.sort(); right_x.sort()"
   ]
  },
  {
   "cell_type": "code",
   "execution_count": 20,
   "metadata": {
    "colab": {
     "base_uri": "https://localhost:8080/"
    },
    "id": "mgscPjiU4b5W",
    "outputId": "9ba61355-616e-40ee-9a79-9c539fa3ea7c"
   },
   "outputs": [
    {
     "data": {
      "text/plain": [
       "([0, 0, 22, 56, 91], [30, 36, 65, 76, 94])"
      ]
     },
     "execution_count": 20,
     "metadata": {},
     "output_type": "execute_result"
    }
   ],
   "source": [
    "left_x, right_x"
   ]
  },
  {
   "cell_type": "code",
   "execution_count": 25,
   "metadata": {
    "colab": {
     "base_uri": "https://localhost:8080/"
    },
    "id": "vdLYyicW4dO-",
    "outputId": "53621eaa-c6a5-428b-f11d-d7f66c4d2e44"
   },
   "outputs": [
    {
     "data": {
      "text/plain": [
       "[0, 0, 22, 30, 36, 56, 65, 76, 91, 94]"
      ]
     },
     "execution_count": 25,
     "metadata": {},
     "output_type": "execute_result"
    }
   ],
   "source": [
    "merged_x = []\n",
    "left_i,right_i = 0, 0\n",
    "while left_i < len(left_x) and right_i < len(right_x):\n",
    "  if left_x[left_i] < right_x[right_i]:\n",
    "    merged_x.append(left_x[left_i])\n",
    "    left_i += 1\n",
    "  else:\n",
    "    merged_x.append(right_x[right_i])\n",
    "    right_i += 1\n",
    "\n",
    "merged_x.extend(left_x[left_i:])\n",
    "merged_x.extend(right_x[right_i:])\n",
    "merged_x"
   ]
  },
  {
   "cell_type": "code",
   "execution_count": 27,
   "metadata": {
    "colab": {
     "base_uri": "https://localhost:8080/"
    },
    "id": "9n_TN9mi6UAQ",
    "outputId": "5b6dc5c6-6cd9-4c26-bc8e-75f73ebbf17a"
   },
   "outputs": [
    {
     "data": {
      "text/plain": [
       "True"
      ]
     },
     "execution_count": 27,
     "metadata": {},
     "output_type": "execute_result"
    }
   ],
   "source": [
    "merged_x == sorted(x)"
   ]
  },
  {
   "cell_type": "code",
   "execution_count": 30,
   "metadata": {
    "id": "-9EC8VJx6mHF"
   },
   "outputs": [],
   "source": [
    "def merge(left_x, right_x):\n",
    "  merged_x = []\n",
    "  left_i,right_i = 0, 0\n",
    "\n",
    "  while left_i < len(left_x) and right_i < len(right_x):\n",
    "    if left_x[left_i] < right_x[right_i]:\n",
    "      merged_x.append(left_x[left_i])\n",
    "      left_i += 1\n",
    "    else:\n",
    "      merged_x.append(right_x[right_i])\n",
    "      right_i += 1\n",
    "\n",
    "  merged_x.extend(left_x[left_i:])\n",
    "  merged_x.extend(right_x[right_i:])\n",
    "\n",
    "  return merged_x\n"
   ]
  },
  {
   "cell_type": "code",
   "execution_count": 32,
   "metadata": {
    "id": "F2nToaBV7b20"
   },
   "outputs": [],
   "source": [
    "# time: O(nlogn)\n",
    "# space: O(n)\n",
    "\n",
    "def merge_sort(x):\n",
    "  if not x or len(x) == 1:\n",
    "    return x\n",
    "  mid = len(x) // 2\n",
    "  merged_x = merge(merge_sort(x[:mid]), merge_sort(x[mid:]))\n",
    "  return merged_x"
   ]
  },
  {
   "cell_type": "code",
   "execution_count": 33,
   "metadata": {
    "colab": {
     "base_uri": "https://localhost:8080/"
    },
    "id": "epbaOIs47665",
    "outputId": "8edddb7e-0786-4d9b-dfcf-99a79e283861"
   },
   "outputs": [
    {
     "data": {
      "text/plain": [
       "[91, 56, 0, 0, 22, 36, 94, 76, 65, 30]"
      ]
     },
     "execution_count": 33,
     "metadata": {},
     "output_type": "execute_result"
    }
   ],
   "source": [
    "x"
   ]
  },
  {
   "cell_type": "code",
   "execution_count": 34,
   "metadata": {
    "colab": {
     "base_uri": "https://localhost:8080/"
    },
    "id": "SXlrtMU09X5U",
    "outputId": "2fbc2d0e-067b-43bb-ecc2-249774bb5522"
   },
   "outputs": [
    {
     "data": {
      "text/plain": [
       "[0, 0, 22, 30, 36, 56, 65, 76, 91, 94]"
      ]
     },
     "execution_count": 34,
     "metadata": {},
     "output_type": "execute_result"
    }
   ],
   "source": [
    "merge_sort(x)"
   ]
  },
  {
   "cell_type": "code",
   "execution_count": 35,
   "metadata": {
    "colab": {
     "base_uri": "https://localhost:8080/"
    },
    "id": "IaONzwU-9ZXj",
    "outputId": "1a7a3f24-7c15-4108-c517-4a7879c60ba2"
   },
   "outputs": [
    {
     "data": {
      "text/plain": [
       "True"
      ]
     },
     "execution_count": 35,
     "metadata": {},
     "output_type": "execute_result"
    }
   ],
   "source": [
    "sorted(x) == merge_sort(x)"
   ]
  },
  {
   "cell_type": "code",
   "execution_count": 36,
   "metadata": {
    "colab": {
     "base_uri": "https://localhost:8080/"
    },
    "id": "0vMbHP5L9fAl",
    "outputId": "3cc00cdb-c36d-477b-c887-dcbc2f00ad81"
   },
   "outputs": [
    {
     "data": {
      "text/plain": [
       "True"
      ]
     },
     "execution_count": 36,
     "metadata": {},
     "output_type": "execute_result"
    }
   ],
   "source": [
    "test = np.random.randint(-100, 100, (5, 80))\n",
    "results = []\n",
    "for x in test:\n",
    "  x = list(x)\n",
    "  sorted_x = merge_sort(x)\n",
    "  results.append(sorted(x)==sorted_x)\n",
    "all(results)"
   ]
  },
  {
   "cell_type": "code",
   "execution_count": null,
   "metadata": {
    "id": "jI1LlXdH9zJE"
   },
   "outputs": [],
   "source": []
  }
 ],
 "metadata": {
  "colab": {
   "provenance": []
  },
  "kernelspec": {
   "display_name": "Python 3",
   "name": "python3"
  },
  "language_info": {
   "name": "python"
  }
 },
 "nbformat": 4,
 "nbformat_minor": 0
}
