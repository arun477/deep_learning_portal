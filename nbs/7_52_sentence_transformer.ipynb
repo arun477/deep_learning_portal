{
 "cells": [
  {
   "cell_type": "code",
   "execution_count": 1,
   "id": "ea050eb7-030e-4e27-9735-4d98a76e2287",
   "metadata": {},
   "outputs": [],
   "source": [
    "from sentence_transformers import SentenceTransformer, util"
   ]
  },
  {
   "cell_type": "code",
   "execution_count": 2,
   "id": "8bc8e3a7-b165-44a6-9688-38dab04206a9",
   "metadata": {
    "scrolled": true
   },
   "outputs": [],
   "source": [
    "model = SentenceTransformer('bert-base-nli-mean-tokens')"
   ]
  },
  {
   "cell_type": "code",
   "execution_count": 3,
   "id": "30bac2ea-fd40-4248-a573-d161fa3f7272",
   "metadata": {},
   "outputs": [
    {
     "data": {
      "text/plain": [
       "(5, 768)"
      ]
     },
     "execution_count": 3,
     "metadata": {},
     "output_type": "execute_result"
    }
   ],
   "source": [
    "sentences = [\n",
    "    \"the fifty mannequin heads floating in the pool kind of freaked them out\",\n",
    "    \"she swore she just saw her sushi move\",\n",
    "    \"he embraced his new life as an eggplant\",\n",
    "    \"my dentist tells me that chewing bricks is very bad for your teeth\",\n",
    "    \"the dental specialist recommended an immediate stop to flossing with construction materials\"\n",
    "]\n",
    "embeddings = model.encode(sentences)\n",
    "embeddings.shape"
   ]
  },
  {
   "cell_type": "code",
   "execution_count": 4,
   "id": "f49a88a0-b836-4512-8636-ab513ceb514c",
   "metadata": {},
   "outputs": [
    {
     "data": {
      "text/plain": [
       "array([[1.        , 0.        , 0.        , 0.        , 0.        ],\n",
       "       [0.40914282, 1.        , 0.        , 0.        , 0.        ],\n",
       "       [0.10909006, 0.44547969, 1.00000012, 0.        , 0.        ],\n",
       "       [0.50074875, 0.30693936, 0.20791629, 1.        , 0.        ],\n",
       "       [0.29936197, 0.38607204, 0.28499246, 0.63849503, 0.99999994]])"
      ]
     },
     "execution_count": 4,
     "metadata": {},
     "output_type": "execute_result"
    }
   ],
   "source": [
    "import numpy as np\n",
    "\n",
    "sim = np.zeros((len(sentences), len(sentences)))\n",
    "for i in range(len(sentences)):\n",
    "    sim[i:, i] = util.cos_sim(embeddings[i], embeddings[i:])\n",
    "sim"
   ]
  },
  {
   "cell_type": "code",
   "execution_count": 5,
   "id": "7cc561cf-3cc3-445b-8934-963d84cb3bf2",
   "metadata": {},
   "outputs": [
    {
     "data": {
      "text/plain": [
       "array([[ 1.00000024,  0.        ,  0.        ,  0.        ,  0.        ],\n",
       "       [ 0.26406279,  1.00000024,  0.        ,  0.        ,  0.        ],\n",
       "       [ 0.16503477,  0.16126668,  1.00000012,  0.        ,  0.        ],\n",
       "       [ 0.0433445 ,  0.04615868,  0.05670126,  1.00000012,  0.        ],\n",
       "       [ 0.05398509,  0.0610119 , -0.01122268,  0.51847214,  0.99999994]])"
      ]
     },
     "execution_count": 5,
     "metadata": {},
     "output_type": "execute_result"
    }
   ],
   "source": [
    "model = SentenceTransformer('all-mpnet-base-v2')\n",
    "embeddings = model.encode(sentences)\n",
    "sim = np.zeros((len(sentences), len(sentences)))\n",
    "for i in range(len(sentences)):\n",
    "    sim[i:, i] = util.cos_sim(embeddings[i], embeddings[i:])\n",
    "sim"
   ]
  },
  {
   "cell_type": "code",
   "execution_count": 6,
   "id": "af2622f3-ae81-4794-8fd4-49ce7a1c2559",
   "metadata": {},
   "outputs": [],
   "source": [
    "import datasets"
   ]
  },
  {
   "cell_type": "code",
   "execution_count": 7,
   "id": "f03cede7-e968-4f27-a4ed-69711830d18b",
   "metadata": {},
   "outputs": [
    {
     "data": {
      "text/plain": [
       "Dataset({\n",
       "    features: ['premise', 'hypothesis', 'label'],\n",
       "    num_rows: 550152\n",
       "})"
      ]
     },
     "execution_count": 7,
     "metadata": {},
     "output_type": "execute_result"
    }
   ],
   "source": [
    "snli = datasets.load_dataset('snli', split='train')\n",
    "snli"
   ]
  },
  {
   "cell_type": "code",
   "execution_count": 8,
   "id": "e840e843-57b7-40fa-8c0f-00dc45c2e2f1",
   "metadata": {},
   "outputs": [
    {
     "name": "stdout",
     "output_type": "stream",
     "text": [
      "{'premise': 'A person on a horse jumps over a broken down airplane.', 'hypothesis': 'A person is training his horse for a competition.', 'label': 1}\n"
     ]
    }
   ],
   "source": [
    "print(snli[0])"
   ]
  },
  {
   "cell_type": "code",
   "execution_count": 10,
   "id": "83ef8369-7ac6-4d00-916a-5d45a5b7b746",
   "metadata": {},
   "outputs": [
    {
     "data": {
      "text/plain": [
       "Dataset({\n",
       "    features: ['premise', 'hypothesis', 'label', 'idx'],\n",
       "    num_rows: 392702\n",
       "})"
      ]
     },
     "execution_count": 10,
     "metadata": {},
     "output_type": "execute_result"
    }
   ],
   "source": [
    "mnli = datasets.load_dataset('glue', 'mnli', split='train')\n",
    "mnli"
   ]
  },
  {
   "cell_type": "code",
   "execution_count": 11,
   "id": "846d90ec-d436-446e-999b-e9744b0fba59",
   "metadata": {},
   "outputs": [
    {
     "data": {
      "text/plain": [
       "{'premise': 'Conceptually cream skimming has two basic dimensions - product and geography.',\n",
       " 'hypothesis': 'Product and geography are what make cream skimming work. ',\n",
       " 'label': 1,\n",
       " 'idx': 0}"
      ]
     },
     "execution_count": 11,
     "metadata": {},
     "output_type": "execute_result"
    }
   ],
   "source": [
    "mnli[0]"
   ]
  },
  {
   "cell_type": "code",
   "execution_count": 12,
   "id": "4ab8d2e2-3bce-4eea-b1a0-d86af3570c4f",
   "metadata": {},
   "outputs": [
    {
     "data": {
      "text/plain": [
       "Dataset({\n",
       "    features: ['premise', 'hypothesis', 'label'],\n",
       "    num_rows: 392702\n",
       "})"
      ]
     },
     "execution_count": 12,
     "metadata": {},
     "output_type": "execute_result"
    }
   ],
   "source": [
    "mnli = mnli.remove_columns(['idx'])\n",
    "mnli"
   ]
  },
  {
   "cell_type": "code",
   "execution_count": 13,
   "id": "823fbf4b-1871-4faa-84ae-3b34eb90caa7",
   "metadata": {},
   "outputs": [
    {
     "data": {
      "text/plain": [
       "Dataset({\n",
       "    features: ['premise', 'hypothesis', 'label'],\n",
       "    num_rows: 942854\n",
       "})"
      ]
     },
     "execution_count": 13,
     "metadata": {},
     "output_type": "execute_result"
    }
   ],
   "source": [
    "snli = snli.cast(mnli.features)\n",
    "dataset = datasets.concatenate_datasets([snli, mnli])\n",
    "dataset"
   ]
  },
  {
   "cell_type": "code",
   "execution_count": 14,
   "id": "1f3aedc1-57c5-4030-9220-db888ed88489",
   "metadata": {},
   "outputs": [
    {
     "data": {
      "application/vnd.jupyter.widget-view+json": {
       "model_id": "7d27978916f84091aab9b0d1598bb501",
       "version_major": 2,
       "version_minor": 0
      },
      "text/plain": [
       "Filter:   0%|          | 0/942854 [00:00<?, ? examples/s]"
      ]
     },
     "metadata": {},
     "output_type": "display_data"
    },
    {
     "data": {
      "text/plain": [
       "942069"
      ]
     },
     "execution_count": 14,
     "metadata": {},
     "output_type": "execute_result"
    }
   ],
   "source": [
    "dataset = dataset.filter(lambda x: 0 if x['label']==-1 else 1)\n",
    "len(dataset)"
   ]
  },
  {
   "cell_type": "code",
   "execution_count": 15,
   "id": "c9c04a7e-8ec2-41e5-ac4f-39359a08440a",
   "metadata": {},
   "outputs": [],
   "source": [
    "from transformers import BertTokenizer\n",
    "\n",
    "tokenizer = BertTokenizer.from_pretrained('bert-base-uncased')"
   ]
  },
  {
   "cell_type": "code",
   "execution_count": 16,
   "id": "b1bbf735-2a60-463c-bc37-c606818d2cdd",
   "metadata": {},
   "outputs": [
    {
     "data": {
      "application/vnd.jupyter.widget-view+json": {
       "model_id": "2e1955685cb148e2abc492405cf97839",
       "version_major": 2,
       "version_minor": 0
      },
      "text/plain": [
       "Map:   0%|          | 0/942069 [00:00<?, ? examples/s]"
      ]
     },
     "metadata": {},
     "output_type": "display_data"
    },
    {
     "data": {
      "application/vnd.jupyter.widget-view+json": {
       "model_id": "4536cb9c65ee41998261ff7fdc20b1ed",
       "version_major": 2,
       "version_minor": 0
      },
      "text/plain": [
       "Map:   0%|          | 0/942069 [00:00<?, ? examples/s]"
      ]
     },
     "metadata": {},
     "output_type": "display_data"
    },
    {
     "data": {
      "text/plain": [
       "Dataset({\n",
       "    features: ['premise', 'hypothesis', 'label', 'premise_input_ids', 'token_type_ids', 'premise_attention_mask', 'hypothesis_input_ids', 'hypothesis_attention_mask'],\n",
       "    num_rows: 942069\n",
       "})"
      ]
     },
     "execution_count": 16,
     "metadata": {},
     "output_type": "execute_result"
    }
   ],
   "source": [
    "all_cols = ['label']\n",
    "for part in ['premise', 'hypothesis']:\n",
    "    dataset = dataset.map(\n",
    "        lambda x: tokenizer(x[part], max_length=128, padding='max_length', truncation=True),\n",
    "        batched=True\n",
    "    ) \n",
    "    for col in ['input_ids', 'attention_mask']:\n",
    "        dataset = dataset.rename_column(col, part+'_'+col)\n",
    "        all_cols.append(part+'_'+col)\n",
    "dataset        "
   ]
  },
  {
   "cell_type": "code",
   "execution_count": 17,
   "id": "29dd71c6-1b86-4e75-b367-32c02985214f",
   "metadata": {},
   "outputs": [
    {
     "data": {
      "text/plain": [
       "['label',\n",
       " 'premise_input_ids',\n",
       " 'premise_attention_mask',\n",
       " 'hypothesis_input_ids',\n",
       " 'hypothesis_attention_mask']"
      ]
     },
     "execution_count": 17,
     "metadata": {},
     "output_type": "execute_result"
    }
   ],
   "source": [
    "all_cols"
   ]
  },
  {
   "cell_type": "code",
   "execution_count": 18,
   "id": "c36facda-3195-40e3-818a-fff7228452f6",
   "metadata": {},
   "outputs": [],
   "source": [
    "dataset.set_format(type='torch', columns=all_cols) "
   ]
  },
  {
   "cell_type": "code",
   "execution_count": 123,
   "id": "d684f5d1-5d31-4573-ad95-dc02df8856d4",
   "metadata": {},
   "outputs": [
    {
     "data": {
      "text/plain": [
       "<torch.utils.data.dataloader.DataLoader at 0x7fb4f094b5e0>"
      ]
     },
     "execution_count": 123,
     "metadata": {},
     "output_type": "execute_result"
    }
   ],
   "source": [
    "import torch\n",
    "\n",
    "batch_size = 32\n",
    "loader = torch.utils.data.DataLoader(dataset, batch_size=batch_size, shuffle=True)\n",
    "loader"
   ]
  },
  {
   "cell_type": "code",
   "execution_count": 124,
   "id": "2cc76a48-e599-402b-83df-9d60ad21d5db",
   "metadata": {},
   "outputs": [
    {
     "name": "stdout",
     "output_type": "stream",
     "text": [
      "dict_keys(['label', 'premise_input_ids', 'premise_attention_mask', 'hypothesis_input_ids', 'hypothesis_attention_mask'])\n"
     ]
    }
   ],
   "source": [
    "for batch in  loader:\n",
    "    print(batch.keys())\n",
    "    break"
   ]
  },
  {
   "cell_type": "code",
   "execution_count": 125,
   "id": "9501f8f6-6202-4d98-8efe-61e78789fa8c",
   "metadata": {},
   "outputs": [
    {
     "data": {
      "text/plain": [
       "'cuda'"
      ]
     },
     "execution_count": 125,
     "metadata": {},
     "output_type": "execute_result"
    }
   ],
   "source": [
    "device = 'cuda' if torch.cuda.is_available() else 'cpu'\n",
    "device"
   ]
  },
  {
   "cell_type": "code",
   "execution_count": 132,
   "id": "5c4eddcf-1aa9-49ec-91bf-07dc105cd171",
   "metadata": {},
   "outputs": [
    {
     "name": "stdout",
     "output_type": "stream",
     "text": [
      "15657655808\n",
      "23546822656\n"
     ]
    }
   ],
   "source": [
    "import gc\n",
    "gc.collect()\n",
    "\n",
    "torch.cuda.reset_max_memory_allocated()\n",
    "print(torch.cuda.memory_allocated())  # prints the allocated memory\n",
    "print(torch.cuda.memory_cached())"
   ]
  },
  {
   "cell_type": "code",
   "execution_count": 133,
   "id": "2db1b51f-f9b0-4607-8c2b-5452b76df9c3",
   "metadata": {},
   "outputs": [
    {
     "data": {
      "text/plain": [
       "device(type='cuda', index=0)"
      ]
     },
     "execution_count": 133,
     "metadata": {},
     "output_type": "execute_result"
    }
   ],
   "source": [
    "from transformers import BertModel\n",
    "\n",
    "model = BertModel.from_pretrained('bert-base-uncased').to(device)\n",
    "model.device"
   ]
  },
  {
   "cell_type": "code",
   "execution_count": 134,
   "id": "a7749ad9-2c0b-447d-a1da-15b420ac0f3e",
   "metadata": {},
   "outputs": [],
   "source": [
    "def mean_pool(token_embedds, attention_mask): \n",
    "    in_mask = attention_mask.unsqueeze(-1).expand(token_embedds.size()).float()\n",
    "    pool = torch.sum(token_embedds*in_mask, 1) / torch.clamp(in_mask.sum(1), min=1e-9)\n",
    "    return pool"
   ]
  },
  {
   "cell_type": "code",
   "execution_count": 135,
   "id": "92b8a70c-da7f-4821-8796-58dd98326c27",
   "metadata": {},
   "outputs": [
    {
     "data": {
      "text/plain": [
       "Linear(in_features=2304, out_features=3, bias=True)"
      ]
     },
     "execution_count": 135,
     "metadata": {},
     "output_type": "execute_result"
    }
   ],
   "source": [
    "ffn = torch.nn.Linear(768*3, 3).to(device)\n",
    "ffn "
   ]
  },
  {
   "cell_type": "code",
   "execution_count": 136,
   "id": "4f78de5a-3bdc-4e59-a7d6-82a793c98870",
   "metadata": {},
   "outputs": [],
   "source": [
    "from transformers.optimization import get_linear_schedule_with_warmup\n",
    "\n",
    "optim = torch.optim.Adam(model.parameters(), lr=2e-5)\n",
    "total_steps = int(len(dataset)) / batch_size\n",
    "warmup_steps = int(0.1*total_steps)\n",
    "scheduler = get_linear_schedule_with_warmup(optim, num_warmup_steps=warmup_steps, \n",
    "                                            num_training_steps=total_steps-warmup_steps) "
   ]
  },
  {
   "cell_type": "code",
   "execution_count": 137,
   "id": "d972a46d-4405-4134-b717-535cc73c0516",
   "metadata": {},
   "outputs": [],
   "source": [
    "loss_func = torch.nn.CrossEntropyLoss()"
   ]
  },
  {
   "cell_type": "code",
   "execution_count": null,
   "id": "0668a9fd-5086-4561-be93-a582ef6445f0",
   "metadata": {},
   "outputs": [
    {
     "name": "stderr",
     "output_type": "stream",
     "text": [
      "epoch 0:   4%|▍         | 1272/29440 [12:29<4:39:42,  1.68it/s, loss=0.855]"
     ]
    }
   ],
   "source": [
    "from tqdm import tqdm\n",
    "\n",
    "for epoch in range(1):\n",
    "    model.train()\n",
    "    loop = tqdm(loader, leave=True)\n",
    "    for batch in loop:\n",
    "        optim.zero_grad()\n",
    "        input_ids_a = batch['premise_input_ids'].to(device)\n",
    "        input_ids_b = batch['hypothesis_input_ids'].to(device)\n",
    "        attention_a = batch['premise_attention_mask'].to(device)\n",
    "        attention_b = batch['hypothesis_attention_mask'].to(device)\n",
    "        label = batch['label'].to(device)\n",
    "\n",
    "        u = model(input_ids_a, attention_mask=attention_a).last_hidden_state\n",
    "        v = model(input_ids_b, attention_mask=attention_b).last_hidden_state\n",
    "\n",
    "        u = mean_pool(u, attention_a)\n",
    "        v = mean_pool(v, attention_b)\n",
    "\n",
    "        uv = torch.sub(u, v)\n",
    "        uv_abs = torch.abs(uv)\n",
    "\n",
    "        x = torch.cat([u, v, uv_abs], dim=-1)\n",
    "        x = ffn(x)\n",
    "        loss = loss_func(x, label)\n",
    "        loss.backward()\n",
    "        optim.step()\n",
    "        scheduler.step()\n",
    "        loop.set_description(f\"epoch {epoch}\")\n",
    "        loop.set_postfix(loss=loss.item())"
   ]
  },
  {
   "cell_type": "code",
   "execution_count": null,
   "id": "f7182457-0a6f-49e6-8017-e1db177ec7da",
   "metadata": {},
   "outputs": [],
   "source": [
    "import os\n",
    "\n",
    "model_path = './sbert_test_a'\n",
    "\n",
    "if not os.path.exists(model_path):\n",
    "    os.mkdir(model_path)\n",
    "\n",
    "model.save_pretrained(model_path)"
   ]
  },
  {
   "cell_type": "code",
   "execution_count": null,
   "id": "af487cbc-020d-4209-90e8-51c843d0a285",
   "metadata": {},
   "outputs": [],
   "source": []
  }
 ],
 "metadata": {
  "kernelspec": {
   "display_name": "Python 3",
   "language": "python",
   "name": "python3"
  },
  "language_info": {
   "codemirror_mode": {
    "name": "ipython",
    "version": 3
   },
   "file_extension": ".py",
   "mimetype": "text/x-python",
   "name": "python",
   "nbconvert_exporter": "python",
   "pygments_lexer": "ipython3",
   "version": "3.10.10"
  }
 },
 "nbformat": 4,
 "nbformat_minor": 5
}
