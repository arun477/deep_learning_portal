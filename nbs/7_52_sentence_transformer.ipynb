{
 "cells": [
  {
   "cell_type": "code",
   "execution_count": 5,
   "id": "ea050eb7-030e-4e27-9735-4d98a76e2287",
   "metadata": {},
   "outputs": [],
   "source": [
    "from sentence_transformers import SentenceTransformer, util"
   ]
  },
  {
   "cell_type": "code",
   "execution_count": 3,
   "id": "8bc8e3a7-b165-44a6-9688-38dab04206a9",
   "metadata": {
    "scrolled": true
   },
   "outputs": [],
   "source": [
    " model = SentenceTransformer('bert-base-nli-mean-tokens')"
   ]
  },
  {
   "cell_type": "code",
   "execution_count": 4,
   "id": "30bac2ea-fd40-4248-a573-d161fa3f7272",
   "metadata": {},
   "outputs": [
    {
     "data": {
      "text/plain": [
       "(5, 768)"
      ]
     },
     "execution_count": 4,
     "metadata": {},
     "output_type": "execute_result"
    }
   ],
   "source": [
    "sentences = [\n",
    "    \"the fifty mannequin heads floating in the pool kind of freaked them out\",\n",
    "    \"she swore she just saw her sushi move\",\n",
    "    \"he embraced his new life as an eggplant\",\n",
    "    \"my dentist tells me that chewing bricks is very bad for your teeth\",\n",
    "    \"the dental specialist recommended an immediate stop to flossing with construction materials\"\n",
    "]\n",
    "embeddings = model.encode(sentences)\n",
    "embeddings.shape"
   ]
  },
  {
   "cell_type": "code",
   "execution_count": 10,
   "id": "f49a88a0-b836-4512-8636-ab513ceb514c",
   "metadata": {},
   "outputs": [
    {
     "data": {
      "text/plain": [
       "array([[1.00000024, 0.        , 0.        , 0.        , 0.        ],\n",
       "       [0.40914291, 0.99999988, 0.        , 0.        , 0.        ],\n",
       "       [0.10909007, 0.44547939, 1.00000012, 0.        , 0.        ],\n",
       "       [0.50074863, 0.30693936, 0.20791638, 1.        , 0.        ],\n",
       "       [0.29936203, 0.38607204, 0.28499252, 0.63849491, 0.99999994]])"
      ]
     },
     "execution_count": 10,
     "metadata": {},
     "output_type": "execute_result"
    }
   ],
   "source": [
    "import numpy as np\n",
    "\n",
    "sim = np.zeros((len(sentences), len(sentences)))\n",
    "for i in range(len(sentences)):\n",
    "    sim[i:, i] = util.cos_sim(embeddings[i], embeddings[i:])\n",
    "sim"
   ]
  },
  {
   "cell_type": "code",
   "execution_count": 20,
   "id": "7cc561cf-3cc3-445b-8934-963d84cb3bf2",
   "metadata": {},
   "outputs": [
    {
     "data": {
      "text/plain": [
       "array([[ 1.        ,  0.        ,  0.        ,  0.        ,  0.        ],\n",
       "       [ 0.26406276,  1.00000012,  0.        ,  0.        ,  0.        ],\n",
       "       [ 0.16503473,  0.16126668,  1.        ,  0.        ,  0.        ],\n",
       "       [ 0.04334432,  0.04615867,  0.05670122,  1.        ,  0.        ],\n",
       "       [ 0.05398508,  0.06101188, -0.01122267,  0.51847178,  1.        ]])"
      ]
     },
     "execution_count": 20,
     "metadata": {},
     "output_type": "execute_result"
    }
   ],
   "source": [
    "model = SentenceTransformer('all-mpnet-base-v2')\n",
    "embeddings = model.encode(sentences)\n",
    "sim = np.zeros((len(sentences), len(sentences)))\n",
    "for i in range(len(sentences)):\n",
    "    sim[i:, i] = util.cos_sim(embeddings[i], embeddings[i:])\n",
    "sim"
   ]
  },
  {
   "cell_type": "code",
   "execution_count": null,
   "id": "af2622f3-ae81-4794-8fd4-49ce7a1c2559",
   "metadata": {},
   "outputs": [],
   "source": []
  }
 ],
 "metadata": {
  "kernelspec": {
   "display_name": "Python 3",
   "language": "python",
   "name": "python3"
  },
  "language_info": {
   "codemirror_mode": {
    "name": "ipython",
    "version": 3
   },
   "file_extension": ".py",
   "mimetype": "text/x-python",
   "name": "python",
   "nbconvert_exporter": "python",
   "pygments_lexer": "ipython3",
   "version": "3.10.10"
  }
 },
 "nbformat": 4,
 "nbformat_minor": 5
}
