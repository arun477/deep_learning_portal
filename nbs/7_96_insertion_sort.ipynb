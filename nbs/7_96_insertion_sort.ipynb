{
 "cells": [
  {
   "cell_type": "code",
   "execution_count": 4,
   "metadata": {
    "colab": {
     "base_uri": "https://localhost:8080/"
    },
    "id": "2cEehs-L1dyw",
    "outputId": "9aa4be45-4ae0-405b-f50d-b393609132cb"
   },
   "outputs": [
    {
     "data": {
      "text/plain": [
       "array([49, 87, 22, 75,  5, 80,  7, 29, 36, 73])"
      ]
     },
     "execution_count": 4,
     "metadata": {},
     "output_type": "execute_result"
    }
   ],
   "source": [
    "import numpy as np\n",
    "\n",
    "x = np.random.randint(0, 100, 10)\n",
    "x"
   ]
  },
  {
   "cell_type": "code",
   "execution_count": 5,
   "metadata": {
    "id": "BrJCnsJe1yH-"
   },
   "outputs": [],
   "source": [
    "for i in range(1, len(x)):\n",
    "  k = i\n",
    "  while k > 0:\n",
    "    if x[k-1] > x[k]:\n",
    "      x[k-1], x[k] = x[k], x[k-1]\n",
    "      k -= 1\n",
    "    else:\n",
    "      break"
   ]
  },
  {
   "cell_type": "code",
   "execution_count": 6,
   "metadata": {
    "colab": {
     "base_uri": "https://localhost:8080/"
    },
    "id": "UhEmqtAe2--R",
    "outputId": "cf159317-fbec-4905-835d-6ab3f7b6151b"
   },
   "outputs": [
    {
     "data": {
      "text/plain": [
       "array([ 5,  7, 22, 29, 36, 49, 73, 75, 80, 87])"
      ]
     },
     "execution_count": 6,
     "metadata": {},
     "output_type": "execute_result"
    }
   ],
   "source": [
    "x"
   ]
  },
  {
   "cell_type": "code",
   "execution_count": 7,
   "metadata": {
    "id": "ueyOQToM3AA0"
   },
   "outputs": [],
   "source": [
    "# time: O(n^2)\n",
    "# space: O(1)\n",
    "\n",
    "def insertion_sort(x):\n",
    "  for i in range(1, len(x)):\n",
    "    k = i\n",
    "    while k > 0:\n",
    "      if x[k-1] > x[k]:\n",
    "        x[k-1], x[k] = x[k], x[k-1]\n",
    "        k -= 1\n",
    "      else:\n",
    "        break"
   ]
  },
  {
   "cell_type": "code",
   "execution_count": 11,
   "metadata": {
    "colab": {
     "base_uri": "https://localhost:8080/"
    },
    "id": "WzoCo4Fl3MVh",
    "outputId": "92e0946d-9475-4547-d3f1-02cd9d27cb7c"
   },
   "outputs": [
    {
     "data": {
      "text/plain": [
       "True"
      ]
     },
     "execution_count": 11,
     "metadata": {},
     "output_type": "execute_result"
    }
   ],
   "source": [
    "test = np.random.randint(1, 100, (5, 100))\n",
    "results = []\n",
    "for x in test:\n",
    "  inp_x = list(x)\n",
    "  insertion_sort(inp_x)\n",
    "  sorted_x = sorted(list(x))\n",
    "  results.append(inp_x == sorted_x)\n",
    "all(results)"
   ]
  },
  {
   "cell_type": "code",
   "execution_count": 12,
   "metadata": {
    "id": "cMfj0CGS3R-h"
   },
   "outputs": [],
   "source": []
  },
  {
   "cell_type": "code",
   "execution_count": null,
   "metadata": {
    "id": "e44ndai03vdM"
   },
   "outputs": [],
   "source": []
  }
 ],
 "metadata": {
  "colab": {
   "provenance": []
  },
  "kernelspec": {
   "display_name": "Python 3",
   "name": "python3"
  },
  "language_info": {
   "name": "python"
  }
 },
 "nbformat": 4,
 "nbformat_minor": 0
}
