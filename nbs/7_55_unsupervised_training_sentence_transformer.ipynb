{
 "cells": [
  {
   "cell_type": "code",
   "execution_count": 1,
   "id": "e690d259-3f3b-482b-a518-fc0aff46672f",
   "metadata": {},
   "outputs": [
    {
     "name": "stderr",
     "output_type": "stream",
     "text": [
      "/home/zeus/miniconda3/envs/cloudspace/lib/python3.10/site-packages/datasets/load.py:1486: FutureWarning: The repository for oscar contains custom code which must be executed to correctly load the dataset. You can inspect the repository content at https://hf.co/datasets/oscar\n",
      "You can avoid this message in future by passing the argument `trust_remote_code=True`.\n",
      "Passing `trust_remote_code=True` will be mandatory to load this dataset from the next major release of `datasets`.\n",
      "  warnings.warn(\n"
     ]
    }
   ],
   "source": [
    "import datasets\n",
    "\n",
    "oscar = datasets.load_dataset('oscar', 'unshuffled_deduplicated_en', split='train', streaming=True)"
   ]
  },
  {
   "cell_type": "code",
   "execution_count": 2,
   "id": "f8e998d4-fb19-4178-ac70-3b76ae37e4d8",
   "metadata": {
    "scrolled": true
   },
   "outputs": [
    {
     "name": "stdout",
     "output_type": "stream",
     "text": [
      "{'id': 0, 'text': 'Mtendere Village was inspired by the vision of Chief Napoleon Dzombe, which he shared with John Blanchard during his first visit to Malawi. Chief Napoleon conveyed the desperate need for a program to intervene and care for the orphans and vulnerable children (OVC) in Malawi, and John committed to help.\\nEstablished in honor of John & Lindy’s son, Christopher Blanchard, this particular program is very dear to the Blanchard family. Dana Blanchard, or Mama Dana as she is more commonly referred to at Mtendere, lived on site during the initial development, and she returns each summer to spend the season with her Malawian family. The heart of the program is to be His hands and feet by caring for the children at Mtendere, and meeting their spiritual, physical, academic, and emotional needs.\\nMtendere Village is home to 134 children, living in 16 homes with a housemother and several brothers and sisters. This family environment is one that many of the children have never previously experienced. 100X has also built a library and multipurpose building on the property—giving the children a place to gather together, learn and build community.\\nThe children attend a local primary school and receive afterschool tutoring at home in the afternoon. All of the school fees, uniforms, and supplies are paid for through our sponsorship program. Once children progress to secondary school (9th grade), they attend boarding school and return home during school breaks. Through education, these children will have the resources necessary to provide a better future for themselves and for their families—one where they are never faced with the decision of whether or not to abandon their own children.\\nMaternal Health. Right now, 1 in 18 women in Malawi will die during their lifetime due to complications and the lack of medical care during pregnancy and delivery. For every 100,000 births that occur in Malawi this year, more than 800 mothers will die during delivery or shortly after because of complications. The correlation between high rates of maternal mortality and the number of orphaned children in a country is strong, and Malawi estimates that there are already more than one million orphans.\\n100X Development is working with several key government, nonprofit, and academic partners to develop the Live to Love program. Live to Love will provide education, nutrition and HIV screening to pregnant mothers, and then strengthen the capacity of midwives and community healthcare workers to respond to the needs of mothers in areas where obstetric care is systematically lacking.\\nCommunity Health. Through local collaboration with partners such as Blessings Hospital, Lumbadzi Clinic and the Kamuzu College of Nursing, we provide health assessments and treatment to women and children in the rural villages of Malawi. For many, this is their only access to healthcare.\\nIn some respects, it was the partnership with Blessings Hospital that catalyzed our involvement in Malawi. We are committed to expanding resources available through Blessings, and are currently working with them to provide an outpatient clinic, a free “Under 5” clinic, a weekly pediatric physical therapy session, and a free ART clinic for patients who are HIV+.\\nNursing Education. In a country with only 16 obstetricians serving a population of over 16 million, it is evident that nurses play a critical role in the healthcare system. With high rates of maternal death, and the 10th highest infant mortality rate in the world, it is essential that the hospitals and clinics in Malawi be staffed with fully trained medical personnel. Unfortunately, while there are more nurses than doctors, the human resource shortage also extends to nurses, and services in rural areas are limited.\\nThrough partnership with Kamuzu College of Nursing (Malawi) and Auburn University’s School of Nursing (US), we are working to train and equip nursing students with the resources they need to care for the well-being of every patient.\\nIn 2012, we launched a collaborative training program that allowed students from both universities to work together and implement what they learned in the classroom in clinical settings ranging from home-based care to rural clinics. In just one week, students provided care to more than 600 women and children.\\nWe are also working with the University of Alabama at Birmingham to facilitate the development of a curriculum for a PhD nursing program at Kamuzu College of Nursing. This will be one of the few PhD nursing programs available in in sub-Saharan Africa.\\n100X Development Foundation, Inc. is registered 503 (c)(3) nonprofit organization. Donations are deductable to the full extent allowable under IRS regulations.'}\n"
     ]
    }
   ],
   "source": [
    "for row in oscar:\n",
    "    print(row)\n",
    "    break"
   ]
  },
  {
   "cell_type": "code",
   "execution_count": 3,
   "id": "c64f24d5-8634-4218-9791-4eab9ee149e5",
   "metadata": {},
   "outputs": [],
   "source": [
    "import re\n",
    "\n",
    "splitter = re.compile(r'\\.\\s?\\n?')"
   ]
  },
  {
   "cell_type": "code",
   "execution_count": 4,
   "id": "6ae4ea9d-d46d-4e50-aa2e-1f3cb5797211",
   "metadata": {
    "scrolled": true
   },
   "outputs": [
    {
     "data": {
      "text/plain": [
       "['Mtendere Village was inspired by the vision of Chief Napoleon Dzombe, which he shared with John Blanchard during his first visit to Malawi',\n",
       " 'Chief Napoleon conveyed the desperate need for a program to intervene and care for the orphans and vulnerable children (OVC) in Malawi, and John committed to help',\n",
       " 'Established in honor of John & Lindy’s son, Christopher Blanchard, this particular program is very dear to the Blanchard family',\n",
       " 'Dana Blanchard, or Mama Dana as she is more commonly referred to at Mtendere, lived on site during the initial development, and she returns each summer to spend the season with her Malawian family',\n",
       " 'The heart of the program is to be His hands and feet by caring for the children at Mtendere, and meeting their spiritual, physical, academic, and emotional needs',\n",
       " 'Mtendere Village is home to 134 children, living in 16 homes with a housemother and several brothers and sisters',\n",
       " 'This family environment is one that many of the children have never previously experienced',\n",
       " '100X has also built a library and multipurpose building on the property—giving the children a place to gather together, learn and build community',\n",
       " 'The children attend a local primary school and receive afterschool tutoring at home in the afternoon',\n",
       " 'All of the school fees, uniforms, and supplies are paid for through our sponsorship program',\n",
       " 'Once children progress to secondary school (9th grade), they attend boarding school and return home during school breaks',\n",
       " 'Through education, these children will have the resources necessary to provide a better future for themselves and for their families—one where they are never faced with the decision of whether or not to abandon their own children',\n",
       " 'Maternal Health',\n",
       " 'Right now, 1 in 18 women in Malawi will die during their lifetime due to complications and the lack of medical care during pregnancy and delivery',\n",
       " 'For every 100,000 births that occur in Malawi this year, more than 800 mothers will die during delivery or shortly after because of complications',\n",
       " 'The correlation between high rates of maternal mortality and the number of orphaned children in a country is strong, and Malawi estimates that there are already more than one million orphans',\n",
       " '100X Development is working with several key government, nonprofit, and academic partners to develop the Live to Love program',\n",
       " 'Live to Love will provide education, nutrition and HIV screening to pregnant mothers, and then strengthen the capacity of midwives and community healthcare workers to respond to the needs of mothers in areas where obstetric care is systematically lacking',\n",
       " 'Community Health',\n",
       " 'Through local collaboration with partners such as Blessings Hospital, Lumbadzi Clinic and the Kamuzu College of Nursing, we provide health assessments and treatment to women and children in the rural villages of Malawi',\n",
       " 'For many, this is their only access to healthcare',\n",
       " 'In some respects, it was the partnership with Blessings Hospital that catalyzed our involvement in Malawi',\n",
       " 'We are committed to expanding resources available through Blessings, and are currently working with them to provide an outpatient clinic, a free “Under 5” clinic, a weekly pediatric physical therapy session, and a free ART clinic for patients who are HIV+',\n",
       " 'Nursing Education',\n",
       " 'In a country with only 16 obstetricians serving a population of over 16 million, it is evident that nurses play a critical role in the healthcare system',\n",
       " 'With high rates of maternal death, and the 10th highest infant mortality rate in the world, it is essential that the hospitals and clinics in Malawi be staffed with fully trained medical personnel',\n",
       " 'Unfortunately, while there are more nurses than doctors, the human resource shortage also extends to nurses, and services in rural areas are limited',\n",
       " 'Through partnership with Kamuzu College of Nursing (Malawi) and Auburn University’s School of Nursing (US), we are working to train and equip nursing students with the resources they need to care for the well-being of every patient',\n",
       " 'In 2012, we launched a collaborative training program that allowed students from both universities to work together and implement what they learned in the classroom in clinical settings ranging from home-based care to rural clinics',\n",
       " 'In just one week, students provided care to more than 600 women and children',\n",
       " 'We are also working with the University of Alabama at Birmingham to facilitate the development of a curriculum for a PhD nursing program at Kamuzu College of Nursing',\n",
       " 'This will be one of the few PhD nursing programs available in in sub-Saharan Africa',\n",
       " '100X Development Foundation, Inc',\n",
       " 'is registered 503 (c)(3) nonprofit organization',\n",
       " 'Donations are deductable to the full extent allowable under IRS regulations',\n",
       " '']"
      ]
     },
     "execution_count": 4,
     "metadata": {},
     "output_type": "execute_result"
    }
   ],
   "source": [
    "splitter.split(row['text'])"
   ]
  },
  {
   "cell_type": "code",
   "execution_count": 5,
   "id": "7a17d0e8-c212-478e-8145-951d6c205c0f",
   "metadata": {},
   "outputs": [
    {
     "name": "stdout",
     "output_type": "stream",
     "text": [
      "100041\n"
     ]
    }
   ],
   "source": [
    "sentences = []\n",
    "for row in oscar:\n",
    "    new_sentences = splitter.split(row['text'])\n",
    "    new_sentences = [ele for ele in new_sentences if len(ele) > 10]\n",
    "    sentences.extend(new_sentences)\n",
    "    if len(sentences) > 100_000:\n",
    "        break\n",
    "print(len(sentences))    "
   ]
  },
  {
   "cell_type": "code",
   "execution_count": 6,
   "id": "670620a1-2c03-489d-891b-9fb7a91b9822",
   "metadata": {},
   "outputs": [
    {
     "data": {
      "text/plain": [
       "12505"
      ]
     },
     "execution_count": 6,
     "metadata": {},
     "output_type": "execute_result"
    }
   ],
   "source": [
    "from sentence_transformers.datasets import DenoisingAutoEncoderDataset\n",
    "from torch.utils.data import DataLoader\n",
    "\n",
    "dataset = DenoisingAutoEncoderDataset(sentences)\n",
    "loader = DataLoader(dataset, batch_size=8, shuffle=True, drop_last=True)\n",
    "len(loader)"
   ]
  },
  {
   "cell_type": "code",
   "execution_count": 7,
   "id": "4b2dcf57-8832-4ac7-81d2-baafd3a70ef2",
   "metadata": {},
   "outputs": [
    {
     "data": {
      "text/plain": [
       "SentenceTransformer(\n",
       "  (0): Transformer({'max_seq_length': 512, 'do_lower_case': False}) with Transformer model: BertModel \n",
       "  (1): Pooling({'word_embedding_dimension': 768, 'pooling_mode_cls_token': True, 'pooling_mode_mean_tokens': False, 'pooling_mode_max_tokens': False, 'pooling_mode_mean_sqrt_len_tokens': False, 'pooling_mode_weightedmean_tokens': False, 'pooling_mode_lasttoken': False, 'include_prompt': True})\n",
       ")"
      ]
     },
     "execution_count": 7,
     "metadata": {},
     "output_type": "execute_result"
    }
   ],
   "source": [
    "from sentence_transformers import SentenceTransformer, models\n",
    "\n",
    "bert = models.Transformer('bert-base-uncased')\n",
    "pooling = models.Pooling(bert.get_word_embedding_dimension(), 'cls')\n",
    "\n",
    "model = SentenceTransformer(modules=[bert, pooling])\n",
    "model"
   ]
  },
  {
   "cell_type": "code",
   "execution_count": 8,
   "id": "d7dea71e-f07c-4d06-ae62-355b609a202a",
   "metadata": {
    "scrolled": true
   },
   "outputs": [
    {
     "name": "stderr",
     "output_type": "stream",
     "text": [
      "Some weights of BertLMHeadModel were not initialized from the model checkpoint at bert-base-uncased and are newly initialized: ['bert.encoder.layer.0.crossattention.output.LayerNorm.bias', 'bert.encoder.layer.0.crossattention.output.LayerNorm.weight', 'bert.encoder.layer.0.crossattention.output.dense.bias', 'bert.encoder.layer.0.crossattention.output.dense.weight', 'bert.encoder.layer.0.crossattention.self.key.bias', 'bert.encoder.layer.0.crossattention.self.key.weight', 'bert.encoder.layer.0.crossattention.self.query.bias', 'bert.encoder.layer.0.crossattention.self.query.weight', 'bert.encoder.layer.0.crossattention.self.value.bias', 'bert.encoder.layer.0.crossattention.self.value.weight', 'bert.encoder.layer.1.crossattention.output.LayerNorm.bias', 'bert.encoder.layer.1.crossattention.output.LayerNorm.weight', 'bert.encoder.layer.1.crossattention.output.dense.bias', 'bert.encoder.layer.1.crossattention.output.dense.weight', 'bert.encoder.layer.1.crossattention.self.key.bias', 'bert.encoder.layer.1.crossattention.self.key.weight', 'bert.encoder.layer.1.crossattention.self.query.bias', 'bert.encoder.layer.1.crossattention.self.query.weight', 'bert.encoder.layer.1.crossattention.self.value.bias', 'bert.encoder.layer.1.crossattention.self.value.weight', 'bert.encoder.layer.10.crossattention.output.LayerNorm.bias', 'bert.encoder.layer.10.crossattention.output.LayerNorm.weight', 'bert.encoder.layer.10.crossattention.output.dense.bias', 'bert.encoder.layer.10.crossattention.output.dense.weight', 'bert.encoder.layer.10.crossattention.self.key.bias', 'bert.encoder.layer.10.crossattention.self.key.weight', 'bert.encoder.layer.10.crossattention.self.query.bias', 'bert.encoder.layer.10.crossattention.self.query.weight', 'bert.encoder.layer.10.crossattention.self.value.bias', 'bert.encoder.layer.10.crossattention.self.value.weight', 'bert.encoder.layer.11.crossattention.output.LayerNorm.bias', 'bert.encoder.layer.11.crossattention.output.LayerNorm.weight', 'bert.encoder.layer.11.crossattention.output.dense.bias', 'bert.encoder.layer.11.crossattention.output.dense.weight', 'bert.encoder.layer.11.crossattention.self.key.bias', 'bert.encoder.layer.11.crossattention.self.key.weight', 'bert.encoder.layer.11.crossattention.self.query.bias', 'bert.encoder.layer.11.crossattention.self.query.weight', 'bert.encoder.layer.11.crossattention.self.value.bias', 'bert.encoder.layer.11.crossattention.self.value.weight', 'bert.encoder.layer.2.crossattention.output.LayerNorm.bias', 'bert.encoder.layer.2.crossattention.output.LayerNorm.weight', 'bert.encoder.layer.2.crossattention.output.dense.bias', 'bert.encoder.layer.2.crossattention.output.dense.weight', 'bert.encoder.layer.2.crossattention.self.key.bias', 'bert.encoder.layer.2.crossattention.self.key.weight', 'bert.encoder.layer.2.crossattention.self.query.bias', 'bert.encoder.layer.2.crossattention.self.query.weight', 'bert.encoder.layer.2.crossattention.self.value.bias', 'bert.encoder.layer.2.crossattention.self.value.weight', 'bert.encoder.layer.3.crossattention.output.LayerNorm.bias', 'bert.encoder.layer.3.crossattention.output.LayerNorm.weight', 'bert.encoder.layer.3.crossattention.output.dense.bias', 'bert.encoder.layer.3.crossattention.output.dense.weight', 'bert.encoder.layer.3.crossattention.self.key.bias', 'bert.encoder.layer.3.crossattention.self.key.weight', 'bert.encoder.layer.3.crossattention.self.query.bias', 'bert.encoder.layer.3.crossattention.self.query.weight', 'bert.encoder.layer.3.crossattention.self.value.bias', 'bert.encoder.layer.3.crossattention.self.value.weight', 'bert.encoder.layer.4.crossattention.output.LayerNorm.bias', 'bert.encoder.layer.4.crossattention.output.LayerNorm.weight', 'bert.encoder.layer.4.crossattention.output.dense.bias', 'bert.encoder.layer.4.crossattention.output.dense.weight', 'bert.encoder.layer.4.crossattention.self.key.bias', 'bert.encoder.layer.4.crossattention.self.key.weight', 'bert.encoder.layer.4.crossattention.self.query.bias', 'bert.encoder.layer.4.crossattention.self.query.weight', 'bert.encoder.layer.4.crossattention.self.value.bias', 'bert.encoder.layer.4.crossattention.self.value.weight', 'bert.encoder.layer.5.crossattention.output.LayerNorm.bias', 'bert.encoder.layer.5.crossattention.output.LayerNorm.weight', 'bert.encoder.layer.5.crossattention.output.dense.bias', 'bert.encoder.layer.5.crossattention.output.dense.weight', 'bert.encoder.layer.5.crossattention.self.key.bias', 'bert.encoder.layer.5.crossattention.self.key.weight', 'bert.encoder.layer.5.crossattention.self.query.bias', 'bert.encoder.layer.5.crossattention.self.query.weight', 'bert.encoder.layer.5.crossattention.self.value.bias', 'bert.encoder.layer.5.crossattention.self.value.weight', 'bert.encoder.layer.6.crossattention.output.LayerNorm.bias', 'bert.encoder.layer.6.crossattention.output.LayerNorm.weight', 'bert.encoder.layer.6.crossattention.output.dense.bias', 'bert.encoder.layer.6.crossattention.output.dense.weight', 'bert.encoder.layer.6.crossattention.self.key.bias', 'bert.encoder.layer.6.crossattention.self.key.weight', 'bert.encoder.layer.6.crossattention.self.query.bias', 'bert.encoder.layer.6.crossattention.self.query.weight', 'bert.encoder.layer.6.crossattention.self.value.bias', 'bert.encoder.layer.6.crossattention.self.value.weight', 'bert.encoder.layer.7.crossattention.output.LayerNorm.bias', 'bert.encoder.layer.7.crossattention.output.LayerNorm.weight', 'bert.encoder.layer.7.crossattention.output.dense.bias', 'bert.encoder.layer.7.crossattention.output.dense.weight', 'bert.encoder.layer.7.crossattention.self.key.bias', 'bert.encoder.layer.7.crossattention.self.key.weight', 'bert.encoder.layer.7.crossattention.self.query.bias', 'bert.encoder.layer.7.crossattention.self.query.weight', 'bert.encoder.layer.7.crossattention.self.value.bias', 'bert.encoder.layer.7.crossattention.self.value.weight', 'bert.encoder.layer.8.crossattention.output.LayerNorm.bias', 'bert.encoder.layer.8.crossattention.output.LayerNorm.weight', 'bert.encoder.layer.8.crossattention.output.dense.bias', 'bert.encoder.layer.8.crossattention.output.dense.weight', 'bert.encoder.layer.8.crossattention.self.key.bias', 'bert.encoder.layer.8.crossattention.self.key.weight', 'bert.encoder.layer.8.crossattention.self.query.bias', 'bert.encoder.layer.8.crossattention.self.query.weight', 'bert.encoder.layer.8.crossattention.self.value.bias', 'bert.encoder.layer.8.crossattention.self.value.weight', 'bert.encoder.layer.9.crossattention.output.LayerNorm.bias', 'bert.encoder.layer.9.crossattention.output.LayerNorm.weight', 'bert.encoder.layer.9.crossattention.output.dense.bias', 'bert.encoder.layer.9.crossattention.output.dense.weight', 'bert.encoder.layer.9.crossattention.self.key.bias', 'bert.encoder.layer.9.crossattention.self.key.weight', 'bert.encoder.layer.9.crossattention.self.query.bias', 'bert.encoder.layer.9.crossattention.self.query.weight', 'bert.encoder.layer.9.crossattention.self.value.bias', 'bert.encoder.layer.9.crossattention.self.value.weight']\n",
      "You should probably TRAIN this model on a down-stream task to be able to use it for predictions and inference.\n",
      "The following encoder weights were not tied to the decoder ['bert/pooler']\n"
     ]
    }
   ],
   "source": [
    "from sentence_transformers.losses import DenoisingAutoEncoderLoss\n",
    "\n",
    "loss = DenoisingAutoEncoderLoss(model, tie_encoder_decoder=True)"
   ]
  },
  {
   "cell_type": "code",
   "execution_count": 11,
   "id": "b24673e5-323b-462c-a73d-60b471ea24d5",
   "metadata": {
    "scrolled": true
   },
   "outputs": [],
   "source": [
    "model.fit(\n",
    "    train_objectives=[(loader, loss)],\n",
    "    epochs=1,\n",
    "    weight_decay=0,\n",
    "    scheduler='constantlr',\n",
    "    optimizer_params={'lr': 3e-5},\n",
    "    show_progress_bar=True\n",
    ")\n",
    "\n",
    "model.save('output/tsdae-bert-base-uncased')"
   ]
  },
  {
   "cell_type": "code",
   "execution_count": 38,
   "id": "06a07f81-e42e-4936-83f5-26505ac1a6ae",
   "metadata": {},
   "outputs": [
    {
     "data": {
      "text/plain": [
       "SentenceTransformer(\n",
       "  (0): Transformer({'max_seq_length': 512, 'do_lower_case': False}) with Transformer model: BertModel \n",
       "  (1): Pooling({'word_embedding_dimension': 768, 'pooling_mode_cls_token': True, 'pooling_mode_mean_tokens': False, 'pooling_mode_max_tokens': False, 'pooling_mode_mean_sqrt_len_tokens': False, 'pooling_mode_weightedmean_tokens': False, 'pooling_mode_lasttoken': False, 'include_prompt': True})\n",
       ")"
      ]
     },
     "execution_count": 38,
     "metadata": {},
     "output_type": "execute_result"
    }
   ],
   "source": [
    "model = SentenceTransformer('output/tsdae-bert-base-uncased')\n",
    "model"
   ]
  },
  {
   "cell_type": "code",
   "execution_count": 39,
   "id": "ae7bd377-8887-4ac0-8203-b9956063ffef",
   "metadata": {},
   "outputs": [
    {
     "data": {
      "text/plain": [
       "Dataset({\n",
       "    features: ['sentence1', 'sentence2', 'label', 'idx'],\n",
       "    num_rows: 1500\n",
       "})"
      ]
     },
     "execution_count": 39,
     "metadata": {},
     "output_type": "execute_result"
    }
   ],
   "source": [
    "sts = datasets.load_dataset('glue', 'stsb', split='validation')\n",
    "sts"
   ]
  },
  {
   "cell_type": "code",
   "execution_count": 40,
   "id": "08bb53e8-50aa-405d-9134-b1e1ed32cd16",
   "metadata": {},
   "outputs": [],
   "source": [
    "sts = sts.map(lambda x: {'label':x['label']/5.0})"
   ]
  },
  {
   "cell_type": "code",
   "execution_count": 41,
   "id": "4e9efbad-dfb3-4d7f-8c65-f4c13d9bce5f",
   "metadata": {},
   "outputs": [
    {
     "data": {
      "text/plain": [
       "1500"
      ]
     },
     "execution_count": 41,
     "metadata": {},
     "output_type": "execute_result"
    }
   ],
   "source": [
    "from sentence_transformers import InputExample\n",
    "\n",
    "samples = []\n",
    "for row in sts:\n",
    "    samples.append(InputExample(texts=[row['sentence1'], row['sentence2']], label=row['label']))\n",
    "len(samples)"
   ]
  },
  {
   "cell_type": "code",
   "execution_count": null,
   "id": "e89d3068-5ccd-4804-98eb-6e7504b3e561",
   "metadata": {
    "scrolled": true
   },
   "outputs": [],
   "source": []
  },
  {
   "cell_type": "code",
   "execution_count": 42,
   "id": "612c3bb4-e979-490b-ae06-a0a45e8c5e3c",
   "metadata": {},
   "outputs": [],
   "source": [
    "from sentence_transformers.evaluation import EmbeddingSimilarityEvaluator\n",
    "\n",
    "eval = EmbeddingSimilarityEvaluator.from_input_examples(samples, write_csv=False) "
   ]
  },
  {
   "cell_type": "code",
   "execution_count": 43,
   "id": "8955bb83-6713-4987-87d9-8051d761e578",
   "metadata": {},
   "outputs": [
    {
     "data": {
      "text/plain": [
       "0.7355641517487856"
      ]
     },
     "execution_count": 43,
     "metadata": {},
     "output_type": "execute_result"
    }
   ],
   "source": [
    "eval(model)"
   ]
  },
  {
   "cell_type": "code",
   "execution_count": 44,
   "id": "5faeebb7-b2ad-4360-8f6b-ab0ad01a8646",
   "metadata": {},
   "outputs": [
    {
     "data": {
      "text/plain": [
       "0.3173615247822984"
      ]
     },
     "execution_count": 44,
     "metadata": {},
     "output_type": "execute_result"
    }
   ],
   "source": [
    "bert = models.Transformer('bert-base-uncased')\n",
    "pooling = models.Pooling(bert.get_word_embedding_dimension(), 'cls')\n",
    "\n",
    "model = SentenceTransformer(modules=[bert, pooling])\n",
    "eval(model)"
   ]
  },
  {
   "cell_type": "code",
   "execution_count": 47,
   "id": "a429741e-5b08-4d0c-9eeb-2f8b064050f9",
   "metadata": {},
   "outputs": [
    {
     "data": {
      "text/plain": [
       "0.807870792395701"
      ]
     },
     "execution_count": 47,
     "metadata": {},
     "output_type": "execute_result"
    }
   ],
   "source": [
    "model = SentenceTransformer('bert-base-nli-mean-tokens')\n",
    "eval(model)"
   ]
  },
  {
   "cell_type": "code",
   "execution_count": 49,
   "id": "087b74bb-ff85-45e7-bb89-f9da7f9a3f36",
   "metadata": {},
   "outputs": [
    {
     "data": {
      "text/plain": [
       "0.8883451646579028"
      ]
     },
     "execution_count": 49,
     "metadata": {},
     "output_type": "execute_result"
    }
   ],
   "source": [
    "model = SentenceTransformer('flax-sentence-embeddings/all_datasets_v3_mpnet-base')\n",
    "eval(model)"
   ]
  },
  {
   "cell_type": "code",
   "execution_count": null,
   "id": "d95fa3ca-2bec-4ff0-be45-8f2d4f4531ee",
   "metadata": {},
   "outputs": [],
   "source": []
  }
 ],
 "metadata": {
  "kernelspec": {
   "display_name": "Python 3",
   "language": "python",
   "name": "python3"
  },
  "language_info": {
   "codemirror_mode": {
    "name": "ipython",
    "version": 3
   },
   "file_extension": ".py",
   "mimetype": "text/x-python",
   "name": "python",
   "nbconvert_exporter": "python",
   "pygments_lexer": "ipython3",
   "version": "3.10.10"
  }
 },
 "nbformat": 4,
 "nbformat_minor": 5
}
