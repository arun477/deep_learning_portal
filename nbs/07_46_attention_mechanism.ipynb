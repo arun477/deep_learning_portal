{
 "cells": [
  {
   "cell_type": "code",
   "execution_count": 1,
   "id": "e546ea74",
   "metadata": {},
   "outputs": [],
   "source": [
    "import torch"
   ]
  },
  {
   "cell_type": "code",
   "execution_count": 2,
   "id": "0bc936aa",
   "metadata": {},
   "outputs": [],
   "source": [
    "inputs = torch.tensor(\n",
    "  [[0.43, 0.15, 0.89], # Your     (x^1)\n",
    "   [0.55, 0.87, 0.66], # journey  (x^2)\n",
    "   [0.57, 0.85, 0.64], # starts   (x^3)\n",
    "   [0.22, 0.58, 0.33], # with     (x^4)\n",
    "   [0.77, 0.25, 0.10], # one      (x^5)\n",
    "   [0.05, 0.80, 0.55]] # step     (x^6)\n",
    ")\n",
    "\n",
    " \n"
   ]
  },
  {
   "cell_type": "code",
   "execution_count": 5,
   "id": "e9779e63",
   "metadata": {},
   "outputs": [
    {
     "data": {
      "text/plain": [
       "tensor([0.9544, 1.4950, 1.4754, 0.8434, 0.7070, 1.0865])"
      ]
     },
     "execution_count": 5,
     "metadata": {},
     "output_type": "execute_result"
    }
   ],
   "source": [
    "query_2 = inputs[1]\n",
    "attention_score_2 = torch.empty(inputs.shape[0])\n",
    "for i, x_i in enumerate(inputs):\n",
    "    attention_score_2[i] = torch.dot(query_2, x_i)\n",
    "attention_score_2\n"
   ]
  },
  {
   "cell_type": "code",
   "execution_count": 8,
   "id": "34427bcf",
   "metadata": {},
   "outputs": [
    {
     "name": "stdout",
     "output_type": "stream",
     "text": [
      "tensor([0.1455, 0.2278, 0.2249, 0.1285, 0.1077, 0.1656])\n",
      "tensor(1.0000)\n"
     ]
    }
   ],
   "source": [
    "attn_weights_2_temp = attention_score_2/attention_score_2.sum()\n",
    "print(attn_weights_2_temp)\n",
    "print(attn_weights_2_temp.sum())"
   ]
  },
  {
   "cell_type": "code",
   "execution_count": 9,
   "id": "bc44076b",
   "metadata": {},
   "outputs": [
    {
     "name": "stdout",
     "output_type": "stream",
     "text": [
      "tensor([0.1385, 0.2379, 0.2333, 0.1240, 0.1082, 0.1581])\n",
      "tensor(1.)\n"
     ]
    }
   ],
   "source": [
    "def softmax_naive(x):\n",
    "    return torch.exp(x)/torch.exp(x).sum(dim=0)\n",
    "\n",
    "attn_weights_2_naive = softmax_naive(attention_score_2)\n",
    "print(attn_weights_2_naive)\n",
    "print(attn_weights_2_naive.sum())"
   ]
  },
  {
   "cell_type": "code",
   "execution_count": 10,
   "id": "4284ac54",
   "metadata": {},
   "outputs": [
    {
     "name": "stdout",
     "output_type": "stream",
     "text": [
      "tensor([0.1385, 0.2379, 0.2333, 0.1240, 0.1082, 0.1581])\n",
      "tensor(1.)\n"
     ]
    }
   ],
   "source": [
    "attn_weights_2 = torch.softmax(attention_score_2, dim=0)\n",
    "print(attn_weights_2)\n",
    "print(attn_weights_2.sum())"
   ]
  },
  {
   "cell_type": "code",
   "execution_count": 11,
   "id": "841565d3",
   "metadata": {},
   "outputs": [
    {
     "name": "stdout",
     "output_type": "stream",
     "text": [
      "tensor([0.4419, 0.6515, 0.5683])\n"
     ]
    }
   ],
   "source": [
    "query_2 = inputs[1]\n",
    "\n",
    "contex_vec_2 = torch.zeros(query_2.shape)\n",
    "for i, x_i in enumerate(inputs):\n",
    "    contex_vec_2 += attn_weights_2[i] * x_i\n",
    "print(contex_vec_2)"
   ]
  },
  {
   "cell_type": "code",
   "execution_count": 12,
   "id": "0ca87986",
   "metadata": {},
   "outputs": [
    {
     "name": "stdout",
     "output_type": "stream",
     "text": [
      "tensor([[0.9995, 0.9544, 0.9422, 0.4753, 0.4576, 0.6310],\n",
      "        [0.9544, 1.4950, 1.4754, 0.8434, 0.7070, 1.0865],\n",
      "        [0.9422, 1.4754, 1.4570, 0.8296, 0.7154, 1.0605],\n",
      "        [0.4753, 0.8434, 0.8296, 0.4937, 0.3474, 0.6565],\n",
      "        [0.4576, 0.7070, 0.7154, 0.3474, 0.6654, 0.2935],\n",
      "        [0.6310, 1.0865, 1.0605, 0.6565, 0.2935, 0.9450]])\n"
     ]
    }
   ],
   "source": [
    "attn_scores = torch.empty(6, 6)\n",
    "for i, x_i in enumerate(inputs):\n",
    "    for j, x_j in enumerate(inputs):\n",
    "        attn_scores[i, j] = torch.dot(x_i, x_j)\n",
    "print(attn_scores)"
   ]
  },
  {
   "cell_type": "code",
   "execution_count": 13,
   "id": "99455076",
   "metadata": {},
   "outputs": [
    {
     "name": "stdout",
     "output_type": "stream",
     "text": [
      "tensor([[0.9995, 0.9544, 0.9422, 0.4753, 0.4576, 0.6310],\n",
      "        [0.9544, 1.4950, 1.4754, 0.8434, 0.7070, 1.0865],\n",
      "        [0.9422, 1.4754, 1.4570, 0.8296, 0.7154, 1.0605],\n",
      "        [0.4753, 0.8434, 0.8296, 0.4937, 0.3474, 0.6565],\n",
      "        [0.4576, 0.7070, 0.7154, 0.3474, 0.6654, 0.2935],\n",
      "        [0.6310, 1.0865, 1.0605, 0.6565, 0.2935, 0.9450]])\n"
     ]
    }
   ],
   "source": [
    "attn_scores = inputs @ inputs.T\n",
    "print(attn_scores)"
   ]
  },
  {
   "cell_type": "code",
   "execution_count": 15,
   "id": "8e0bb72d",
   "metadata": {},
   "outputs": [
    {
     "name": "stdout",
     "output_type": "stream",
     "text": [
      "tensor([[0.2098, 0.2006, 0.1981, 0.1242, 0.1220, 0.1452],\n",
      "        [0.1385, 0.2379, 0.2333, 0.1240, 0.1082, 0.1581],\n",
      "        [0.1390, 0.2369, 0.2326, 0.1242, 0.1108, 0.1565],\n",
      "        [0.1435, 0.2074, 0.2046, 0.1462, 0.1263, 0.1720],\n",
      "        [0.1526, 0.1958, 0.1975, 0.1367, 0.1879, 0.1295],\n",
      "        [0.1385, 0.2184, 0.2128, 0.1420, 0.0988, 0.1896]])\n"
     ]
    }
   ],
   "source": [
    "attn_weights = torch.softmax(attn_scores, dim=1)\n",
    "print(attn_weights)"
   ]
  },
  {
   "cell_type": "code",
   "execution_count": 16,
   "id": "ad2f65c1",
   "metadata": {},
   "outputs": [
    {
     "name": "stdout",
     "output_type": "stream",
     "text": [
      "tensor([1.0000, 1.0000, 1.0000, 1.0000, 1.0000, 1.0000])\n"
     ]
    }
   ],
   "source": [
    "print(attn_weights.sum(dim=1))"
   ]
  },
  {
   "cell_type": "code",
   "execution_count": 17,
   "id": "631b76b8",
   "metadata": {},
   "outputs": [
    {
     "name": "stdout",
     "output_type": "stream",
     "text": [
      "tensor([[0.4421, 0.5931, 0.5790],\n",
      "        [0.4419, 0.6515, 0.5683],\n",
      "        [0.4431, 0.6496, 0.5671],\n",
      "        [0.4304, 0.6298, 0.5510],\n",
      "        [0.4671, 0.5910, 0.5266],\n",
      "        [0.4177, 0.6503, 0.5645]])\n"
     ]
    }
   ],
   "source": [
    "all_context_vecs = attn_weights @ inputs\n",
    "print(all_context_vecs)"
   ]
  },
  {
   "cell_type": "code",
   "execution_count": 19,
   "id": "383d93b0",
   "metadata": {},
   "outputs": [],
   "source": [
    "x_2 = inputs[1]\n",
    "d_in = 3\n",
    "d_out = 2"
   ]
  },
  {
   "cell_type": "code",
   "execution_count": 21,
   "id": "9d914ca9",
   "metadata": {},
   "outputs": [],
   "source": [
    "w_query = torch.nn.Parameter(torch.randn(d_in, d_out), requires_grad=False)\n",
    "w_key = torch.nn.Parameter(torch.randn(d_in, d_out), requires_grad=False)\n",
    "w_val = torch.nn.Parameter(torch.randn(d_in, d_out), requires_grad=False)"
   ]
  },
  {
   "cell_type": "code",
   "execution_count": 23,
   "id": "284c442f",
   "metadata": {},
   "outputs": [
    {
     "name": "stdout",
     "output_type": "stream",
     "text": [
      "tensor([ 0.0405, -2.2939]) tensor([ 0.3934, -1.0397])\n"
     ]
    }
   ],
   "source": [
    "query_2 = x_2 @ w_query\n",
    "key_2 = x_2 @ w_key\n",
    "val_2 = x_2 @ w_val\n",
    "print(key_2, val_2)"
   ]
  },
  {
   "cell_type": "code",
   "execution_count": 24,
   "id": "701f4434",
   "metadata": {},
   "outputs": [
    {
     "name": "stdout",
     "output_type": "stream",
     "text": [
      "keys.shape torch.Size([6, 2])\n",
      "vals.shape torch.Size([6, 2])\n"
     ]
    }
   ],
   "source": [
    "keys = inputs @ w_key\n",
    "vals = inputs @ w_val\n",
    "print('keys.shape', keys.shape)\n",
    "print('vals.shape', vals.shape)"
   ]
  },
  {
   "cell_type": "code",
   "execution_count": 26,
   "id": "ceea174c",
   "metadata": {},
   "outputs": [
    {
     "name": "stdout",
     "output_type": "stream",
     "text": [
      "tensor([ 7.4407,  4.3438,  4.1664,  2.0499, -0.1962,  3.9487])\n"
     ]
    }
   ],
   "source": [
    "attn_score_2 = query_2 @ keys.T\n",
    "print(attn_score_2)"
   ]
  },
  {
   "cell_type": "code",
   "execution_count": 30,
   "id": "2667fd2a",
   "metadata": {},
   "outputs": [
    {
     "name": "stdout",
     "output_type": "stream",
     "text": [
      "tensor([0.7565, 0.0847, 0.0747, 0.0167, 0.0034, 0.0640])\n",
      "tensor(1.)\n"
     ]
    }
   ],
   "source": [
    "d_k = keys.shape[1]\n",
    "attn_weights_2 = torch.softmax(attn_score_2/d_k**0.5, dim=-1)\n",
    "print(attn_weights_2)\n",
    "print(attn_weights_2.sum())"
   ]
  },
  {
   "cell_type": "code",
   "execution_count": 31,
   "id": "fc36e83a",
   "metadata": {},
   "outputs": [
    {
     "name": "stdout",
     "output_type": "stream",
     "text": [
      "tensor([ 0.4610, -0.5297])\n"
     ]
    }
   ],
   "source": [
    "context_vec_2 = attn_weights_2 @ vals\n",
    "print(context_vec_2)"
   ]
  },
  {
   "cell_type": "code",
   "execution_count": 42,
   "id": "92c5ecac",
   "metadata": {},
   "outputs": [
    {
     "name": "stdout",
     "output_type": "stream",
     "text": [
      "tensor([[-1.2544, -0.2752],\n",
      "        [-1.3024, -0.3520],\n",
      "        [-1.3020, -0.3507],\n",
      "        [-1.2687, -0.2915],\n",
      "        [-1.2711, -0.2862],\n",
      "        [-1.2775, -0.3101]], grad_fn=<MmBackward0>)\n"
     ]
    }
   ],
   "source": [
    "import torch.nn as nn\n",
    "\n",
    "class SelfAtttentionV1(nn.Module):\n",
    "    def __init__(self, d_in, d_out):\n",
    "        super().__init__()\n",
    "        self.d_out = d_out\n",
    "        self.w_key = nn.Parameter(torch.randn(d_in, d_out))\n",
    "        self.w_query = nn.Parameter(torch.randn(d_in, d_out))        \n",
    "        self.w_value = nn.Parameter(torch.randn(d_in, d_out)) \n",
    "    \n",
    "    def forward(self, x):\n",
    "        keys = x @ self.w_key\n",
    "        queries = x @ self.w_query\n",
    "        values = x @ self.w_value\n",
    "        \n",
    "        attn_scores = queries @ keys.T\n",
    "        attn_weights = torch.softmax(attn_scores/keys.shape[-1]**0.5, dim=-1)\n",
    "        \n",
    "        context_vecs = attn_weights @ values\n",
    "        return context_vecs\n",
    "    \n",
    "sa_v1 = SelfAtttentionV1(3, 2)\n",
    "print(sa_v1(inputs))"
   ]
  },
  {
   "cell_type": "code",
   "execution_count": 44,
   "id": "04c51708",
   "metadata": {},
   "outputs": [
    {
     "name": "stdout",
     "output_type": "stream",
     "text": [
      "tensor([[-0.2754,  0.0925],\n",
      "        [-0.2746,  0.0947],\n",
      "        [-0.2746,  0.0947],\n",
      "        [-0.2745,  0.0921],\n",
      "        [-0.2742,  0.0940],\n",
      "        [-0.2748,  0.0919]], grad_fn=<MmBackward0>)\n"
     ]
    }
   ],
   "source": [
    "class SelfAtttentionV2(nn.Module):\n",
    "    def __init__(self, d_in, d_out, qkv_bias=False):\n",
    "        super().__init__()\n",
    "        self.d_out = d_out\n",
    "        self.w_key = nn.Linear(d_in, d_out, bias=qkv_bias)\n",
    "        self.w_query = nn.Linear(d_in, d_out, bias=qkv_bias)        \n",
    "        self.w_value = nn.Linear(d_in, d_out, bias=qkv_bias) \n",
    "    \n",
    "    def forward(self, x):\n",
    "        keys = self.w_key(x)\n",
    "        queries = self.w_query(x)\n",
    "        values = self.w_value(x)\n",
    "        \n",
    "        attn_scores = queries @ keys.T\n",
    "        attn_weights = torch.softmax(attn_scores/keys.shape[-1]**0.5, dim=-1)\n",
    "        \n",
    "        context_vecs = attn_weights @ values\n",
    "        return context_vecs\n",
    "    \n",
    "sa_v2 = SelfAtttentionV2(3, 2)\n",
    "print(sa_v2(inputs))"
   ]
  },
  {
   "cell_type": "code",
   "execution_count": 48,
   "id": "65bbf9eb",
   "metadata": {},
   "outputs": [
    {
     "name": "stdout",
     "output_type": "stream",
     "text": [
      "tensor([[0.1599, 0.1758, 0.1762, 0.1589, 0.1722, 0.1571],\n",
      "        [0.1683, 0.1688, 0.1688, 0.1639, 0.1656, 0.1646],\n",
      "        [0.1683, 0.1688, 0.1687, 0.1640, 0.1655, 0.1647],\n",
      "        [0.1687, 0.1668, 0.1668, 0.1659, 0.1651, 0.1667],\n",
      "        [0.1679, 0.1666, 0.1665, 0.1664, 0.1657, 0.1669],\n",
      "        [0.1687, 0.1678, 0.1678, 0.1649, 0.1652, 0.1656]],\n",
      "       grad_fn=<SoftmaxBackward0>)\n"
     ]
    }
   ],
   "source": [
    "keys = sa_v2.w_query(inputs)\n",
    "queries = sa_v2.w_key(inputs)\n",
    "attn_scores = queries @ keys.T\n",
    "attn_weights = torch.softmax(attn_scores/keys.shape[-1]**0.5, dim=-1)\n",
    "print(attn_weights)"
   ]
  },
  {
   "cell_type": "code",
   "execution_count": 51,
   "id": "bfa0eb3f",
   "metadata": {},
   "outputs": [
    {
     "name": "stdout",
     "output_type": "stream",
     "text": [
      "tensor([[1., 0., 0., 0., 0., 0.],\n",
      "        [1., 1., 0., 0., 0., 0.],\n",
      "        [1., 1., 1., 0., 0., 0.],\n",
      "        [1., 1., 1., 1., 0., 0.],\n",
      "        [1., 1., 1., 1., 1., 0.],\n",
      "        [1., 1., 1., 1., 1., 1.]])\n"
     ]
    }
   ],
   "source": [
    "context_length = attn_scores.shape[0]\n",
    "mask_simple = torch.tril(torch.ones(context_lenghts, context_length))\n",
    "print(mask_simple)"
   ]
  },
  {
   "cell_type": "code",
   "execution_count": 52,
   "id": "0227176f",
   "metadata": {},
   "outputs": [
    {
     "name": "stdout",
     "output_type": "stream",
     "text": [
      "tensor([[0.1599, 0.0000, 0.0000, 0.0000, 0.0000, 0.0000],\n",
      "        [0.1683, 0.1688, 0.0000, 0.0000, 0.0000, 0.0000],\n",
      "        [0.1683, 0.1688, 0.1687, 0.0000, 0.0000, 0.0000],\n",
      "        [0.1687, 0.1668, 0.1668, 0.1659, 0.0000, 0.0000],\n",
      "        [0.1679, 0.1666, 0.1665, 0.1664, 0.1657, 0.0000],\n",
      "        [0.1687, 0.1678, 0.1678, 0.1649, 0.1652, 0.1656]],\n",
      "       grad_fn=<MulBackward0>)\n"
     ]
    }
   ],
   "source": [
    "masked_simple = attn_weights * mask_simple\n",
    "print(masked_simple)"
   ]
  },
  {
   "cell_type": "code",
   "execution_count": 58,
   "id": "5b3c982a",
   "metadata": {},
   "outputs": [
    {
     "name": "stdout",
     "output_type": "stream",
     "text": [
      "tensor([[1.0000, 0.0000, 0.0000, 0.0000, 0.0000, 0.0000],\n",
      "        [0.4991, 0.5009, 0.0000, 0.0000, 0.0000, 0.0000],\n",
      "        [0.3327, 0.3337, 0.3336, 0.0000, 0.0000, 0.0000],\n",
      "        [0.2525, 0.2497, 0.2496, 0.2483, 0.0000, 0.0000],\n",
      "        [0.2015, 0.1999, 0.1999, 0.1998, 0.1989, 0.0000],\n",
      "        [0.1687, 0.1678, 0.1678, 0.1649, 0.1652, 0.1656]],\n",
      "       grad_fn=<DivBackward0>)\n"
     ]
    }
   ],
   "source": [
    "masked_simple_norm = masked_simple/masked_simple.sum(dim=-1, keepdims=True)\n",
    "print(masked_simple_norm)"
   ]
  },
  {
   "cell_type": "code",
   "execution_count": 59,
   "id": "a5160b35",
   "metadata": {},
   "outputs": [
    {
     "name": "stdout",
     "output_type": "stream",
     "text": [
      "tensor([1.0000, 1.0000, 1.0000, 1.0000, 1.0000, 1.0000],\n",
      "       grad_fn=<SumBackward1>)\n"
     ]
    }
   ],
   "source": [
    "print(masked_simple_norm.sum(dim=-1))"
   ]
  },
  {
   "cell_type": "code",
   "execution_count": 66,
   "id": "8d0d49b5",
   "metadata": {},
   "outputs": [
    {
     "name": "stdout",
     "output_type": "stream",
     "text": [
      "tensor([[ 1.6012e-01,        -inf,        -inf,        -inf,        -inf,\n",
      "                -inf],\n",
      "        [ 7.6724e-02,  8.1533e-02,        -inf,        -inf,        -inf,\n",
      "                -inf],\n",
      "        [ 7.4395e-02,  7.8419e-02,  7.8147e-02,        -inf,        -inf,\n",
      "                -inf],\n",
      "        [ 2.9339e-02,  1.3211e-02,  1.2619e-02,  5.3151e-03,        -inf,\n",
      "                -inf],\n",
      "        [ 1.1602e-02,  4.8609e-04,  1.2230e-04, -5.0591e-04, -6.4550e-03,\n",
      "                -inf],\n",
      "        [ 5.5462e-02,  4.8191e-02,  4.7707e-02,  2.2826e-02,  2.5587e-02,\n",
      "          2.9469e-02]], grad_fn=<MaskedFillBackward0>)\n"
     ]
    }
   ],
   "source": [
    "mask = torch.triu(torch.ones(context_length, context_length), diagonal=1)\n",
    "masked = attn_scores.masked_fill(mask.bool(), -torch.inf)\n",
    "print(masked)"
   ]
  },
  {
   "cell_type": "code",
   "execution_count": 76,
   "id": "879120c9",
   "metadata": {},
   "outputs": [
    {
     "name": "stdout",
     "output_type": "stream",
     "text": [
      "tensor([[1.0000, 0.0000, 0.0000, 0.0000, 0.0000, 0.0000],\n",
      "        [0.4991, 0.5009, 0.0000, 0.0000, 0.0000, 0.0000],\n",
      "        [0.3327, 0.3337, 0.3336, 0.0000, 0.0000, 0.0000],\n",
      "        [0.2525, 0.2497, 0.2496, 0.2483, 0.0000, 0.0000],\n",
      "        [0.2015, 0.1999, 0.1999, 0.1998, 0.1989, 0.0000],\n",
      "        [0.1687, 0.1678, 0.1678, 0.1649, 0.1652, 0.1656]],\n",
      "       grad_fn=<SoftmaxBackward0>)\n",
      "tensor([1.0000, 1.0000, 1.0000, 1.0000, 1.0000, 1.0000],\n",
      "       grad_fn=<SumBackward1>)\n"
     ]
    }
   ],
   "source": [
    "attn_weights = torch.softmax(masked/keys.shape[-1]**0.5, -1)\n",
    "print(attn_weights)\n",
    "print(attn_weights.sum(-1))"
   ]
  },
  {
   "cell_type": "code",
   "execution_count": 77,
   "id": "0c92f037",
   "metadata": {},
   "outputs": [
    {
     "name": "stdout",
     "output_type": "stream",
     "text": [
      "tensor([[2., 0., 0., 0., 2., 0.],\n",
      "        [2., 2., 2., 2., 0., 2.],\n",
      "        [2., 0., 2., 2., 0., 0.],\n",
      "        [0., 2., 0., 0., 2., 2.],\n",
      "        [0., 0., 2., 2., 2., 0.],\n",
      "        [2., 2., 0., 0., 2., 2.]])\n"
     ]
    }
   ],
   "source": [
    "dropout = torch.nn.Dropout(0.5)\n",
    "example = torch.ones(6, 6)\n",
    "print(dropout(example))"
   ]
  },
  {
   "cell_type": "code",
   "execution_count": 78,
   "id": "b60880ed",
   "metadata": {},
   "outputs": [
    {
     "name": "stdout",
     "output_type": "stream",
     "text": [
      "tensor([[0.0000, 0.0000, 0.0000, 0.0000, 0.0000, 0.0000],\n",
      "        [0.9983, 1.0017, 0.0000, 0.0000, 0.0000, 0.0000],\n",
      "        [0.6654, 0.6673, 0.6672, 0.0000, 0.0000, 0.0000],\n",
      "        [0.5050, 0.4993, 0.4991, 0.0000, 0.0000, 0.0000],\n",
      "        [0.4030, 0.0000, 0.3997, 0.3996, 0.3979, 0.0000],\n",
      "        [0.3374, 0.3357, 0.0000, 0.3297, 0.0000, 0.0000]],\n",
      "       grad_fn=<MulBackward0>)\n"
     ]
    }
   ],
   "source": [
    "print(dropout(attn_weights))"
   ]
  },
  {
   "cell_type": "code",
   "execution_count": 95,
   "id": "bcdf2767",
   "metadata": {},
   "outputs": [],
   "source": [
    "class CasualAttention(nn.Module):\n",
    "    def __init__(self, d_in, d_out, context_length, dropout, qkv_bias=False):\n",
    "        super().__init__()\n",
    "        self.d_out = d_out\n",
    "        self.w_key = nn.Linear(d_in, d_out, bias=qkv_bias)\n",
    "        self.w_query = nn.Linear(d_in, d_out, bias=qkv_bias)        \n",
    "        self.w_value = nn.Linear(d_in, d_out, bias=qkv_bias)\n",
    "        self.dropout = nn.Dropout(dropout)\n",
    "        self.register_buffer('mask', torch.triu(torch.ones(context_length, context_length), diagonal=1))\n",
    "        \n",
    "    def forward(self, x):\n",
    "        b, num_tokens, d_in = x.shape\n",
    "        keys = self.w_key(x)\n",
    "        queries = self.w_query(x)\n",
    "        values = self.w_value(x)\n",
    "        \n",
    "        attn_scores = queries @ keys.transpose(1, 2)\n",
    "        attn_scores.masked_fill_(self.mask.bool()[:num_tokens, :num_tokens], -torch.inf)\n",
    "        \n",
    "        attn_weights = torch.softmax(attn_scores/keys.shape[-1]**0.5, dim=-1)\n",
    "        attn_weights = self.dropout(attn_weights)\n",
    "        \n",
    "        context_vec = attn_weights @ values\n",
    "        return context_vec"
   ]
  },
  {
   "cell_type": "code",
   "execution_count": 96,
   "id": "1221be6d",
   "metadata": {},
   "outputs": [
    {
     "name": "stdout",
     "output_type": "stream",
     "text": [
      "torch.Size([2, 6, 3])\n"
     ]
    }
   ],
   "source": [
    "batch = torch.stack([inputs, inputs], dim=0)\n",
    "print(batch.shape)"
   ]
  },
  {
   "cell_type": "code",
   "execution_count": 98,
   "id": "f4c02795",
   "metadata": {},
   "outputs": [
    {
     "name": "stdout",
     "output_type": "stream",
     "text": [
      "torch.Size([2, 6, 2])\n",
      "tensor([[[-4.0917e-02,  3.0951e-01],\n",
      "         [ 4.6911e-05,  1.1021e-01],\n",
      "         [ 1.4573e-02,  4.5926e-02],\n",
      "         [ 1.4835e-02,  1.3604e-02],\n",
      "         [ 3.3838e-02, -1.2378e-02],\n",
      "         [ 2.2990e-02, -2.0141e-02]],\n",
      "\n",
      "        [[-4.0917e-02,  3.0951e-01],\n",
      "         [ 4.6911e-05,  1.1021e-01],\n",
      "         [ 1.4573e-02,  4.5926e-02],\n",
      "         [ 1.4835e-02,  1.3604e-02],\n",
      "         [ 3.3838e-02, -1.2378e-02],\n",
      "         [ 2.2990e-02, -2.0141e-02]]], grad_fn=<UnsafeViewBackward0>)\n"
     ]
    }
   ],
   "source": [
    "context_length = batch.shape[1]\n",
    "ca = CasualAttention(d_in, d_out, context_length, 0.0)\n",
    "context_vec = ca(batch)\n",
    "print(context_vec.shape)\n",
    "print(context_vec)"
   ]
  },
  {
   "cell_type": "code",
   "execution_count": 101,
   "id": "4f4e5df6",
   "metadata": {},
   "outputs": [],
   "source": [
    "class MultiHeadAttentionWrapper(nn.Module):\n",
    "    def __init__(self, d_in, d_out, context_length, dropout, num_heads, qkv_bias=False):\n",
    "        super().__init__()\n",
    "        self.heads = nn.ModuleList([CasualAttention(d_in, d_out, context_length, dropout, qkv_bias) for _ in \\\n",
    "                                   range(num_heads)])\n",
    "    \n",
    "    def forward(self, x):\n",
    "        return torch.cat([head(x) for head in self.heads], dim=-1)"
   ]
  },
  {
   "cell_type": "code",
   "execution_count": 105,
   "id": "2ba16b2a",
   "metadata": {},
   "outputs": [
    {
     "name": "stdout",
     "output_type": "stream",
     "text": [
      "torch.Size([2, 6, 4])\n",
      "tensor([[[-0.3399, -0.2629, -0.3469,  0.2974],\n",
      "         [-0.1567, -0.0901, -0.4227,  0.2765],\n",
      "         [-0.0977, -0.0359, -0.4354,  0.2652],\n",
      "         [-0.0445,  0.0100, -0.4111,  0.2374],\n",
      "         [-0.0764, -0.0387, -0.2987,  0.1821],\n",
      "         [-0.0232,  0.0207, -0.3479,  0.1965]],\n",
      "\n",
      "        [[-0.3399, -0.2629, -0.3469,  0.2974],\n",
      "         [-0.1567, -0.0901, -0.4227,  0.2765],\n",
      "         [-0.0977, -0.0359, -0.4354,  0.2652],\n",
      "         [-0.0445,  0.0100, -0.4111,  0.2374],\n",
      "         [-0.0764, -0.0387, -0.2987,  0.1821],\n",
      "         [-0.0232,  0.0207, -0.3479,  0.1965]]], grad_fn=<CatBackward0>)\n"
     ]
    }
   ],
   "source": [
    "context_length = batch.shape[1]\n",
    "ma = MultiHeadAttentionWrapper(d_in, d_out, context_length, 0.0, 2)\n",
    "context_vec = ma(batch)\n",
    "print(context_vec.shape)\n",
    "print(context_vec)"
   ]
  },
  {
   "cell_type": "code",
   "execution_count": 1,
   "id": "68c881a1",
   "metadata": {},
   "outputs": [
    {
     "ename": "NameError",
     "evalue": "name 'nn' is not defined",
     "output_type": "error",
     "traceback": [
      "\u001b[0;31m---------------------------------------------------------------------------\u001b[0m",
      "\u001b[0;31mNameError\u001b[0m                                 Traceback (most recent call last)",
      "Cell \u001b[0;32mIn[1], line 1\u001b[0m\n\u001b[0;32m----> 1\u001b[0m \u001b[38;5;28;01mclass\u001b[39;00m \u001b[38;5;21;01mMultiHeadAttention\u001b[39;00m(\u001b[43mnn\u001b[49m\u001b[38;5;241m.\u001b[39mModule):\n\u001b[1;32m      2\u001b[0m     \u001b[38;5;28;01mdef\u001b[39;00m \u001b[38;5;21m__init__\u001b[39m(\u001b[38;5;28mself\u001b[39m, d_in, d_out, context_length, dropout, num_heads, qkv_bias\u001b[38;5;241m=\u001b[39m\u001b[38;5;28;01mFalse\u001b[39;00m):\n\u001b[1;32m      3\u001b[0m         \u001b[38;5;28msuper\u001b[39m()\u001b[38;5;241m.\u001b[39m\u001b[38;5;21m__init__\u001b[39m()\n",
      "\u001b[0;31mNameError\u001b[0m: name 'nn' is not defined"
     ]
    }
   ],
   "source": [
    "class MultiHeadAttention(nn.Module):\n",
    "    def __init__(self, d_in, d_out, context_length, dropout, num_heads, qkv_bias=False):\n",
    "        super().__init__()\n",
    "        assert d_out % num_heads == 0, \"d_out must be divisible by num_heads\"\n",
    "        \n",
    "        self.d_out = d_out\n",
    "        self.num_heads = num_heads\n",
    "        self.head_dim = d_out//num_heads\n",
    "        \n",
    "        self.w_query = nn.Linear(d_in, d_out, bias=qkv_bias)\n",
    "        self.w_key = nn.Linear(d_in, d_out, bias=qkv_bias)        \n",
    "        self.w_value = nn.Linear(d_in, d_out, bias=qkv_bias)\n",
    "        self.out_proj = nn.Linear(d_out, d_out)\n",
    "        self.dropout = nn.Dropout(dropout)\n",
    "        \n",
    "        self.register_buffer('mask', torch.triu(torch.ones(context_length, context_length), diagonal=1))\n",
    "    \n",
    "    def forward(self, x):\n",
    "        b, num_tokens, d_in = x.shape\n",
    "        \n",
    "        keys = self.w_key(x)\n",
    "        values = self.w_value(x)\n",
    "        queries = self.w_query(x)\n",
    "        \n",
    "        keys = keys.view(b, num_tokens, self.num_heads, self.head_dim)\n",
    "        values = values.view(b, num_tokens, self.num_heads, self.head_dim)        \n",
    "        queries = queries.view(b, num_tokens, self.num_heads, self.head_dim) \n",
    "        \n",
    "        keys = keys.transpose(1, 2)\n",
    "        values = values.transpose(1, 2)\n",
    "        queries = queries.transpose(1, 2)\n",
    "        \n",
    "        attn_scores = queries @ keys.transpose(2, 3)\n",
    "        \n",
    "        mask_bool = self.mask.bool()[:num_tokens, :num_tokens]\n",
    "        \n",
    "        attn_scores.masked_fill_(mask_bool, -torch.inf)\n",
    "        \n",
    "        attn_weights = torch.softmax(attn_scores/keys.shape[-1]**0.5, dim=-1)\n",
    "        attn_weights = self.dropout(attn_weights)\n",
    "        \n",
    "        context_vec = (attn_weights @ values).transpose(1, 2)\n",
    "        \n",
    "        context_vec = context_vec.contiguous().view(b, num_tokens, self.d_out)\n",
    "        contex_vec = self.out_proj(context_vec)\n",
    "        \n",
    "        return context_vec"
   ]
  },
  {
   "cell_type": "code",
   "execution_count": 120,
   "id": "12abf85b",
   "metadata": {},
   "outputs": [
    {
     "name": "stdout",
     "output_type": "stream",
     "text": [
      "torch.Size([2, 6, 2])\n",
      "tensor([[[-0.0967, -0.5155],\n",
      "         [-0.2412, -0.4633],\n",
      "         [-0.2911, -0.4457],\n",
      "         [-0.2700, -0.3799],\n",
      "         [-0.2931, -0.3600],\n",
      "         [-0.2725, -0.3349]],\n",
      "\n",
      "        [[-0.0967, -0.5155],\n",
      "         [-0.2412, -0.4633],\n",
      "         [-0.2911, -0.4457],\n",
      "         [-0.2700, -0.3799],\n",
      "         [-0.2931, -0.3600],\n",
      "         [-0.2725, -0.3349]]], grad_fn=<ViewBackward0>)\n"
     ]
    }
   ],
   "source": [
    "batch_size, context_length, d_in = batch.shape\n",
    "d_out = 2\n",
    "mha = MultiHeadAttention(d_in, d_out, context_length, 0.0, num_heads=2)\n",
    "context_vecs = mha(batch)\n",
    "print(context_vecs.shape)\n",
    "print(context_vecs)"
   ]
  },
  {
   "cell_type": "code",
   "execution_count": 122,
   "id": "b90f4b27",
   "metadata": {},
   "outputs": [
    {
     "name": "stdout",
     "output_type": "stream",
     "text": [
      "torch.Size([1, 2, 3, 4])\n"
     ]
    }
   ],
   "source": [
    "a = torch.tensor([[[[0.2745, 0.6584, 0.2775, 0.8573],\n",
    "                    [0.8993, 0.0390, 0.9268, 0.7388],\n",
    "                    [0.7179, 0.7058, 0.9156, 0.4340]],\n",
    "\n",
    "                   [[0.0772, 0.3565, 0.1479, 0.5331],\n",
    "                    [0.4066, 0.2318, 0.4545, 0.9737],\n",
    "                    [0.4606, 0.5159, 0.4220, 0.5786]]]])\n",
    "print(a.shape)"
   ]
  },
  {
   "cell_type": "code",
   "execution_count": 124,
   "id": "56cab843",
   "metadata": {},
   "outputs": [
    {
     "name": "stdout",
     "output_type": "stream",
     "text": [
      "torch.Size([1, 2, 3, 3])\n",
      "tensor([[[[1.3208, 1.1631, 1.2879],\n",
      "          [1.1631, 2.2150, 1.8424],\n",
      "          [1.2879, 1.8424, 2.0402]],\n",
      "\n",
      "         [[0.4391, 0.7003, 0.5903],\n",
      "          [0.7003, 1.3737, 1.0620],\n",
      "          [0.5903, 1.0620, 0.9912]]]])\n"
     ]
    }
   ],
   "source": [
    "print((a @ a.transpose(2, 3)).shape)\n",
    "print(a @ a.transpose(2, 3))"
   ]
  },
  {
   "cell_type": "code",
   "execution_count": 128,
   "id": "00c9b496",
   "metadata": {},
   "outputs": [
    {
     "name": "stdout",
     "output_type": "stream",
     "text": [
      "torch.Size([3, 4])\n",
      "tensor([[1.3208, 1.1631, 1.2879],\n",
      "        [1.1631, 2.2150, 1.8424],\n",
      "        [1.2879, 1.8424, 2.0402]])\n"
     ]
    }
   ],
   "source": [
    "first_head = a[0, 0, :, :]\n",
    "print(first_head.shape)\n",
    "print(first_head @ first_head.T)"
   ]
  },
  {
   "cell_type": "code",
   "execution_count": 129,
   "id": "f68e4b24",
   "metadata": {},
   "outputs": [
    {
     "name": "stdout",
     "output_type": "stream",
     "text": [
      "torch.Size([3, 4])\n",
      "tensor([[0.4391, 0.7003, 0.5903],\n",
      "        [0.7003, 1.3737, 1.0620],\n",
      "        [0.5903, 1.0620, 0.9912]])\n"
     ]
    }
   ],
   "source": [
    "second_head = a[0, 1, :, :]\n",
    "print(second_head.shape)\n",
    "print(second_head @ second_head.T)"
   ]
  },
  {
   "cell_type": "code",
   "execution_count": null,
   "id": "86a36fe1",
   "metadata": {},
   "outputs": [],
   "source": []
  }
 ],
 "metadata": {
  "kernelspec": {
   "display_name": "m",
   "language": "python",
   "name": "m"
  },
  "language_info": {
   "codemirror_mode": {
    "name": "ipython",
    "version": 3
   },
   "file_extension": ".py",
   "mimetype": "text/x-python",
   "name": "python",
   "nbconvert_exporter": "python",
   "pygments_lexer": "ipython3",
   "version": "3.9.19"
  }
 },
 "nbformat": 4,
 "nbformat_minor": 5
}
