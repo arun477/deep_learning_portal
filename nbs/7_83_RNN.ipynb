{
 "cells": [
  {
   "cell_type": "code",
   "execution_count": 34,
   "metadata": {
    "id": "OxVxr8tVL_s2"
   },
   "outputs": [],
   "source": [
    "import math, sys, os, numpy as np\n",
    "from numpy.random import random\n",
    "from matplotlib import pyplot as plt, rcParams, animation, rc\n",
    "from ipywidgets import interact, fixed, interactive\n",
    "from __future__ import print_function, division\n",
    "from ipywidgets.widgets import *\n",
    "\n",
    "rc('animation', html='html5')\n",
    "rcParams['figure.figsize'] = 3, 3\n",
    "%precision 4\n",
    "np.set_printoptions(precision=4, linewidth=100)"
   ]
  },
  {
   "cell_type": "code",
   "execution_count": 35,
   "metadata": {
    "id": "aiwSCYxvU7Ku"
   },
   "outputs": [],
   "source": [
    "def lin(a, b, x): return a * x + b"
   ]
  },
  {
   "cell_type": "code",
   "execution_count": 36,
   "metadata": {
    "id": "0mNoVAYaVJqA"
   },
   "outputs": [],
   "source": [
    "a = 3\n",
    "b = 8\n",
    "n = 30\n",
    "\n",
    "x = random(n)\n",
    "y = lin(a, b, x)"
   ]
  },
  {
   "cell_type": "code",
   "execution_count": 37,
   "metadata": {
    "colab": {
     "base_uri": "https://localhost:8080/",
     "height": 311
    },
    "id": "4knPHXIhXD7O",
    "outputId": "47b88797-209c-4482-a149-2e579fb9b411"
   },
   "outputs": [
    {
     "data": {
      "image/png": "[encoded data removed]",
      "text/plain": [
       "<Figure size 300x300 with 1 Axes>"
      ]
     },
     "metadata": {},
     "output_type": "display_data"
    }
   ],
   "source": [
    "plt.scatter(x, y);\n",
    "plt.xlabel('x')\n",
    "plt.ylabel('y')\n",
    "plt.show()"
   ]
  },
  {
   "cell_type": "code",
   "execution_count": 38,
   "metadata": {
    "id": "BhtN2Z7cXKpW"
   },
   "outputs": [],
   "source": [
    "def sse(y, y_pred): return ((y-y_pred)**2).sum()\n",
    "def loss(y, a, b, x): return sse(y, lin(a, b, x))\n",
    "def avg_loss(y, a, b, x): return np.sqrt(loss(y, a, b, x)/n)\n"
   ]
  },
  {
   "cell_type": "code",
   "execution_count": 55,
   "metadata": {
    "colab": {
     "base_uri": "https://localhost:8080/"
    },
    "id": "HBcb4MpQYdQ9",
    "outputId": "56794313-e34b-4a1f-f496-f92a8730ee03"
   },
   "outputs": [
    {
     "data": {
      "text/plain": [
       "11.484242136075148"
      ]
     },
     "execution_count": 55,
     "metadata": {},
     "output_type": "execute_result"
    }
   ],
   "source": [
    "a_guess = -1\n",
    "b_guess = -1\n",
    "avg_loss(y, a_guess, b_guess, x)"
   ]
  },
  {
   "cell_type": "code",
   "execution_count": 56,
   "metadata": {
    "id": "1AaV8miEYg7p"
   },
   "outputs": [],
   "source": [
    "lr = 0.01\n",
    "\n",
    "def upd():\n",
    "  global a_guess, b_guess\n",
    "  y_pred = lin(a_guess, b_guess, x)\n",
    "  dydb = 2 * (y_pred-y)\n",
    "  dyda = x * dydb\n",
    "  a_guess -= lr*dyda.mean()\n",
    "  b_guess -= lr*dydb.mean()"
   ]
  },
  {
   "cell_type": "code",
   "execution_count": 57,
   "metadata": {
    "colab": {
     "base_uri": "https://localhost:8080/",
     "height": 421
    },
    "id": "wGsnJUpYb0m5",
    "outputId": "33912568-5371-47e1-a7da-454382414420"
   },
   "outputs": [
    {
     "data": {
      "text/html": [
       "<video width=\"500\" height=\"400\" controls autoplay loop>\n",
       "  <source type=\"video/mp4\" src=\"data:video/mp4;base64,AAAAIGZ0eXBNNFYgAAACAE00ViBpc29taXNvMmF2YzEAAAAIZnJlZQAAaS9tZGF0AAACrQYF//+p\n",
       "3EXpvebZSLeWLNgg2SPu73gyNjQgLSBjb3JlIDE2MyByMzA2MCA1ZGI2YWE2IC0gSC4yNjQvTVBF\n",
       "Ry00IEFWQyBjb2RlYyAtIENvcHlsZWZ0IDIwMDMtMjAyMSAtIGh0dHA6Ly93d3cudmlkZW9sYW4u\n",
       "b3JnL3gyNjQuaHRtbCAtIG9wdGlvbnM6IGNhYmFjPTEgcmVmPTMgZGVibG9jaz0xOjA6MCBhbmFs\n",
       "eXNlPTB4MzoweDExMyBtZT1oZXggc3VibWU9NyBwc3k9MSBwc3lfcmQ9MS4wMDowLjAwIG1peGVk\n",
       "X3JlZj0xIG1lX3JhbmdlPTE2IGNocm9tYV9tZT0xIHRyZWxsaXM9MSA4eDhkY3Q9MSBjcW09MCBk\n",
       "ZWFkem9uZT0yMSwxMSBmYXN0X3Bza2lwPTEgY2hyb21hX3FwX29mZnNldD0tMiB0aHJlYWRzPTMg\n",
       "bG9va2FoZWFkX3RocmVhZHM9MSBzbGljZWRfdGhyZWFkcz0wIG5yPTAgZGVjaW1hdGU9MSBpbnRl\n",
       "cmxhY2VkPTAgYmx1cmF5X2NvbXBhdD0wIGNvbnN0cmFpbmVkX2ludHJhPTAgYmZyYW1lcz0zIGJf\n",
       "cHlyYW1pZD0yIGJfYWRhcHQ9MSBiX2JpYXM9MCBkaXJlY3Q9MSB3ZWlnaHRiPTEgb3Blbl9nb3A9\n",
       "MCB3ZWlnaHRwPTIga2V5aW50PTI1MCBrZXlpbnRfbWluPTUgc2NlbmVjdXQ9NDAgaW50cmFfcmVm\n",
       "cmVzaD0wIHJjX2xvb2thaGVhZD00MCByYz1jcmYgbWJ0cmVlPTEgY3JmPTIzLjAgcWNvbXA9MC42\n",
       "MCBxcG1pbj0wIHFwbWF4PTY5IHFwc3RlcD00IGlwX3JhdGlvPTEuNDAgYXE9MToxLjAwAIAAABWH\n",
       "ZYiEABL//vet34FNwEDta7pXOLTLq5Q0PVH2lKZ4tkgAAAMAAAMAsBteBnzlzDhaCAAAmLoP4LR/\n",
       "kiGEZvzXcDJC6tEieQB+yjP0zpcvVAEHOhpCW4Ub1XJLm7ik03X/nwY4TClz8q8w4IayWFSQXKeD\n",
       "pj99l8FpKzztP1bUCmJPXNBrh7gABO1iT/JyoHJbnl7PfjxxHYefBy9+AY97bVRZM567JWPSqBvt\n",
       "3Rzz/kVwvrNeZazWiK6EjO4A6Myt4qtuKH/budG2yDilE1E8Kjf8dN5/0V3YDBSfHXCb9FoxBMFl\n",
       "8PQHnjHlGf1Q/W1+YUf3AXzNdHuEYEKFLkCvuAok2/B5mmyNsW360mMCcv7WaS4LW6J9bC850nK1\n",
       "bhty2amofjm8M0VGHiw25fYAezqS4owQXCJHE+ZqZCiHPXhaFPEI0NMRuMxO4zwSJJ4ZJWXhyXMQ\n",
       "ynCZXCuKmrxTAnOVP3jwJ7q9PRiMrsZVBBB3Twkww21KCFXD+qYDKIqZOU8kGD7AjPxbL+7PVMks\n",
       "Z56b0bdvLd3tMJHW6qm7DxMq/iMc8AF+8yOPix+U2mBWqB53TFNJ7pXc9uLYlyoJrc+4Pzho5sTP\n",
       "W/zCEb6hyAnTFvMEnmmI/qclIx7Ktx2zbbsAn1aukv0YHXQEuDC7afgluxY+uvIQ7eB/V6a4g54w\n",
       "PiQ7HaU/I+YrKkqS6GYQc8c9njGDaqMAbw/NnXowmFIdTd0F77AnOYYK+7+GlWcAoeZLv8sUOExA\n",
       "vt9Aol6gjF6cH/TOBJSF44rXKXoHtp0TtpQaSCVE3Ou6Yk4nJNFht/t9rANM8eh2xLhgK2//qhAs\n",
       "vJ2dF1ZT8qjT9tss5QgWcEFnS53NdqTwzMVRc24s4Pw0mhU4AteXVpOwje3pkRQ9neO67AlpuclJ\n",
       "MzF8vPmCWC93itx7Q/o2mfSpUGaLOKPeljE24RyjlQOK5sok/tKEWkOuVvQCQ4KyPThjj2s6zJgR\n",
       "c2QMnsW/ZI/WkHEo7vmvipsMUugE+vo5C+WVWHJhVbjOtJr223CSAeBEIMXfeY1Wt/e+t8r/e6Ve\n",
       "cAnw4aR7sIBlVl1K0dhAta/oCgWgLVfkNFTeOnc7B2rJLSwPeNtz+n+LymX4yaNBqs31i4BeS9wy\n",
       "DeMTGm47RAhrU1/PLmAjFhIIV2ramrnb8LPJjhLs2FsfsOChPhYANLXt93SAFWeWn5Isfgsg3Mvq\n",
       "gZ5Zg64+WQZLUnaVqFDmYSdI/w1FW02zLxoxGiqbquH83yojyN30hYGyx4diisefG9dHJjlDdnpz\n",
       "zhfI9UE/U990at4bClRh52xaUt7y1wJRKShxIw5lEJlw8PqIAMcP+XkigKs3z5tJtDb3dgNex0ik\n",
       "Z+GadYUTHslnmEfsfLQ/VA+BETvMjBOZQqC3GoM1+h7n3NDcRVJPrBeS9CeqH54EMJW2iUx7QIW4\n",
       "svqxqbnCil2cFj0wiVrmoeSzp4ISKqBViuQf0cOPoodsYKkhQ/Ul2OgEp9tniAxIIPHny8STJyiS\n",
       "DQoV56Uuuvi2BMnv51diOOxlg0ipsK7lAfgFEP498jjdFxmUnZtu6SBI5nWY0gbFT8DwmRJboVOT\n",
       "KCA6o1gDa0hds9klaHzknvkOUWk+ij+jLParcnNOOBeMHc/TpqycyCZOipMMkrzoHaK4QSv0qPAL\n",
       "gH6+ZMZtH24YXUkOzZ99S+h56B2NVWNGBwfKebkWU8mxbNBk/jWrxZs6XTqyMUql2eT92Ydc+c7W\n",
       "zXeUoL/6bWoUnbwieopCPfyFrecxrzWw6W3ZP+1BMNAsEegrGofR/gy9t5w3Bzrdvoty/6bySCTm\n",
       "kTrOdsdrX1LHfkNXD61nP6jpLi8TET8P4X/C5k6Foste/zghQoVuDDH0UGR24X8uP/46r6qkPXbO\n",
       "NFm8Wg28PVYhy094nhe+67mvq2Hyfx9EcTBGQdKe60TQhEihdrM6pXObiqyMkQo7y/PToVsKSX1c\n",
       "fQxyI/GVuhKyspw0aQn/lMmfvCLOm2eze+hxIQFyvkCnPyDxKVNk4AK/VVVFollWP5Xe8pm6TtwJ\n",
       "gjGZizafxnX+RVMeQsyYu+hR9vimpFv5J7eD3u2KAYXni0mUvRCkwguOFonUvE+mvDFpcj22Aa/V\n",
       "LOI8+JkROD/8s1QW2SirxSwqU4zsSn0tTHqPwgaoQczFgXp7G2VAlo8Xtm/mvhxgJLWubJf/Bugl\n",
       "uKcawgRTTLEQf8X/xPqkPHnwgBckNdttNZbb1Dggm5GI2MuZ0vl600XxYvBm6Cnp4Cld6oxzzxmt\n",
       "XepYwA9Q11N79F9nlS+kJzfdYhGfhS/+/lNCtTIaaHyljqahmUHwVv/cA8gOoH6ggVmGnvlndfpE\n",
       "awh+83trAV41EK6CbBj1+cLrqfoEGQ+nEGYkXLxp0IE6NOd83MEpTOliBPqm48or+YfTVgQE1YU7\n",
       "1YnJ/WUTBPo8A7+zSqxFpt9/8DvXbfvprt+dPdCPXE/uGnQPp93n46DzKI5L+6KOxWrWjjit42lN\n",
       "xps6VVBHAMdwTzlk6rKLYMxx8r94hG/fsS4HO+JtaMvDAUBETB4VETMArBfbDjS8CC5ICGgqjh7g\n",
       "F3OTziz+SjjA23Bc+5IDC3+OrUYZL6MOI4W/T9kEV8TWZEyNade7neXCb/Y1Xygxe09Wy30R6Eeu\n",
       "cQbKr2kWaBWraVNhwqOPAgSDhEIxKDTVjjN2+CvlxCCfM3YG3fC6IKX8P/fEr5jWuUVF0HOAuRpB\n",
       "qVyGwu+JAZzT6/i+zcbMY3EnsWMgYueiOUnZUHp9WCZrUmtKXi/ciCHbKwLVpGTuf2Ya0E7hh/Mq\n",
       "kgYBGYhgjGSQzLB5gVZFuEash/c5HsrnyW3USHiFWVxwBMX+sAostdGZVUZPAewyFJUSyfujiCSB\n",
       "lstBTfL9WWemhG8RuID45ZAOIk302PSuQm7aX5BunIYE0dFh3naFN/V8iGOZBJ7BLxnQ+W3qiG1F\n",
       "gNfmxuRPULyd2RI3tAg4eE7Md6b5YTh/PivLk5YaGyymfBldyYlAAfatdKoInwPiGWHXO+48cvfo\n",
       "LWdjIbkhXloa3Qu3pIva5zAFPM6ghNqMBJB3iKi4ZzsBM0gwiAx4JxEgLjgVY1Rz/qWSz4RGf60X\n",
       "yZs5SllzIwZq5o8h05b0yyag4H8Uz5DJhHI2KDkZTK0Uxu7eWM6NSlvSG8NCuxUQDfOgMH3Zrr3/\n",
       "KIwqCAHk9ZnWTCZB31qr4+7axEVq7j6QODgSBcz/1vvH9nvWg2lp6DDc67itbqMyeZT+fX9jZ7E3\n",
       "zBjXacfjBYIs0OUc5UGmMgc+pIfTF2bcYmU9FxW2bhk3YZISEzg33922l0T85wobYlt2vJoUsYIX\n",
       "SiEAFOdRC2HrTh5FaIeJ39eqri7dmwSXYSGnglT+NFB9lnjel/2WyMfAk4XpdLGZI1VNOmWrP4qw\n",
       "5bzcWSm0awtCJxU+HtGckVhh0JMpDv/vstaxunPAftlmebjJwmT5hWmXJWIFPkQuzB6ebidLLf1g\n",
       "/U+6Zk68gs+eL2CduQ+t7XuhKFUX4yg/WMWudz3M9xOB21o6YFcarFxfEcminy0qLSl2P50vFx/6\n",
       "wQy+EQJ0MRpLHbgYwAeux7X0aOZwxKWMTK8t4JtCttrJzZdAMgWOhtEgDi1mBZMdYI/WIM3daCIt\n",
       "ATC0fNKi7sh0IEurd8ksk5+OE2L3MsqhujxFeXQ4iKYdWfUTCIAP2d6uHpxVTrBJkmMyN/nI2Cue\n",
       "iFSkeBaopRQEyrwtyKJVVaE+EDAxlql1ywWwETeqE8TKlJrhDoYKV0BmeIiEvvoAY7elcnFjwACt\n",
       "94BgcNfidbFswcBnL5642ZH4uGusG5OoWanBy0HwH5gYJDFj/6Jhras7LfPGwTXYSUKfCS7mHHGt\n",
       "jwHzkZ99TZw1bUYJ2VEDbAJhqn5HD4L7XIcVsLLrg36aCaPepedXzDM1soOqHp6xBckDrlcGMWXp\n",
       "WNk+aOFKOkX+gXyxl7l2hJwSgWuEhZcnLuss8muJapFpqNjn4CnAABKOSkJaBmox+8ABHr8qh14A\n",
       "j4tKWHJsqYCToErWu29ihZIoZoD43hrKaP45/8xe82qcEDNwlCoAM4ZSsdTEhkKCnOuw0DyUqf69\n",
       "a+Xr/R8LMzRXgCdOto6cDORKw6OiplWefrcAzWPoJCQnzFMW8kugI2HhIk53EfXhdZzW5BQMzt1I\n",
       "5ByMTfSSYyD+vh2j70B1TIABOnO1qcaKsAVUzsXuIkWb/lq1KhLDDpL2TFHYlNumaW9Bc4wjk5aQ\n",
       "/PWW5P6QL0pfseB7qKCAIT3rxZ7P/PHmaOsRGdkxQIDLueekJ2SyFnEeM1AUXvARdMsblABEmnaM\n",
       "BMhh21nceX6uI5hY+wCpQDRosDYsHAAC/3VLPjw7YQAHI0sPgEhR/mU6Mdt1gbYRMGVUEPqGiCJ+\n",
       "uAQyQWPuNa57AlSdcNErOdrd10sBT8npti6H6ek+1bXV1KblMCUo2PuCscm8Z9+3AFYRZpwNIHqn\n",
       "fJy+eMubjEkm2VrIMDVnBOMRVVzJoYGfGW7FuwPflb7fscK8lPcCd3K/f44afluHAt3y3LvHrU7V\n",
       "/R22EMdkY70KEK/RbQrMyDhrl9CU6NAUM11hmf9hBK/+nzNVprKvaMDT4uxQO1qPxGOcjNoJ73Pz\n",
       "AFOakcmce73sK7wv/nd3U4Fx73P+OneSfm9aDJ4K0fgJQTpAe/4VajzwqjSSD5J8EsMvjd27Cp4m\n",
       "0+ZojCx4J9b0tSxKigYCtagPjV07YqpZdrQS+XPDpDa4DPbjdgRX640iqeZjdPTTVzup/NNegvOj\n",
       "0dXuA4ozr8iw/92JJ+THmL2r0U8dqWvAFqh+tIQsc/dq+b4Wf6LGonHdkMK7PtC0dMo3NkAQzHzW\n",
       "0q8fbIQtvmVpo2Q/9l0nsKJyplsb4nzXmCgMVZLIbyS2OyS2zNjZQc23ZGbX1CJLfPvSleaWEVpD\n",
       "oOpwVRqOpDJpa+gzLQ0gRxxGA60FaYdb5VqeoCsM4zUi2mVt/UsGhJoGaPSrTSy+13shM0udbmJG\n",
       "kNtguAs/7c4f/+AfVCXDFxKWcOTS16/lY2f46OjV0oLQsVb32/5HbMj+lHWksDew2LLidbT+kzn6\n",
       "kntIHwBBTVd9//QJuqYkBvmeH3kb3p9saKFeD/+FBnc32qKVMvYVkbhcXW8DV6ZM/T8ismfVUYKu\n",
       "HcjuH8vbgcC/kGQd5GRNosyuJDquA0MHg9L6TPwCAtwrjtd05R+qiGNekU4Vl01xmEZUSHAnfCxG\n",
       "IeR0mfrtUS54X0I6IehO7h5heiwtifDkkozcobGAAF9phWwQACCnBHbwofv1RKL0JlS8EJ7RsmNd\n",
       "i9xtgCV7Vd7otuMCTGYIZMc4qUQ1DFT6hkoD1dm7gvSshYxWeaEt+OWaBgbfh47j6pNnRl7CXr63\n",
       "oxdtNYCxBo/8SWkAblqIokjIz9WogQ7pJvaHhia2Oh+LCXqEW+lGQH8lE1Z0N/xWbbZptMDhuTaT\n",
       "jHxbBPnHsNQ3ZMHP4XZq+A0kOf3lIlVerAYGTGsgx319U55Qp3XyW6VP7OMCH+8FllY+rqSJDVx4\n",
       "CkU+9yWzqluHShjSBmrfzWvt6SzNRm3m2ktfvjUFdJXPE64OfgjG6FDieJgkRDPF4FfcEGf82iDT\n",
       "05nA8MxkiQjCgDy8MCjSPpV8hqKP0oszf7nWP5ncN/vrLqXxZQoTY1wAt6kC9gN1z6Wrla9ElteL\n",
       "KOYmNDwk+L07gZZasYLjJocRn0sU0HC1E8QDbZuEORenNqzVINJKHwJb0jYtsJ7gi7F40F06IiCw\n",
       "JGU92WFnwcj/cZ07SZRd9sGphV60P8jWOCbwyh+uz1TO0/NBduuKoWts7QiG789JFjHiHwh1pH6j\n",
       "MGLxazOU1QyMmr/gTnQywIoIFr5nwPY0qW5l8zdX09efuWWR7RA8vQHfGW8l9vOJXMVM6nLVShV2\n",
       "Dh6TVZUQnET1dK6aI7rNhWtCO5qhrS3s7M8HW7dACgndy/vAFBtQbMOaMF/Vbjeo+2f7UUZLrm+K\n",
       "qw3JUkqHQNOBNj/t1W1jTANZXpRytqYtKsyZdm/POAeWHVUZ0DARuShJAH5LOAd2hlueRSg+dSNg\n",
       "gOLhYoLsfhbWALne5qNadU6O3jN/pqH/Lab8EAFgg81SB/BIPzapKkP+tWIEv9Y34CTqHSbQ2S8g\n",
       "4z/lL/Tg8uxTRIWzMYNV2eQl4sS3u8f0fgV0ehFFy+h4a8lyXxCYbGjDs8swyRVxkgYU6aFYjWYG\n",
       "fMZSnat8RGCKWbjWCMoo8G0pQy4InNMXr9Q3mNETPFaqAjaLd1Khzi/JU+zXwaqEtX46RNR11Pr/\n",
       "/iiONoV5hqV14O7PNsQh+V4Ml0+f39njT9kHzNTILHjRIQ5hAwDJC8+hYEiChfhhDGtIA0QwpJDN\n",
       "xYXqPTnutONeYma8bnsmRX0Mq/rML+26tVaqYhVKoJcbD/mJHGDPPN8Q+HrNojDMUp8c9ZqpWaAe\n",
       "krWOiFsmkO+BZA1Da/adwZl315sXTNtpgg3LHVLXpv+mgGZfvunuPc2KeVpsVyRrDkhNbFW60ztQ\n",
       "09nJfvZodF3dUJSUgSOKsfWNk5XmpqFni1/Qor2VZtvGPp28IiUS1es8Ia4Pk5pr+EclrtmidXRv\n",
       "Lglk10RntCCf+a27LWIOJWVtMmYrMov4zQoEOOYI0zfFPa2pGyWMpXifeaVXPWBZdEnQ2DmltydJ\n",
       "IJQONFdRLaPig2jpOBTCqifg0ONG5RrrAyllW9UhEsr6yeo9VwfXHLh7gAjggvDCzC7I2wHxINu2\n",
       "HcEuqHK8xcC6paK9VpsJJmHBI9tROEkMLJ/zmyzbTfBSbDG+QQbq2W4WhchpZRDIzCksPuSCBa3B\n",
       "+KcibBZzmuACeQFHvL69Bx9ZCVYa+PW2NikFXK3DBf4aExzTnjer3fg0mwNkbHDgy9N1a1n9P0oZ\n",
       "jdT86EJWqTMqi86uhgTx5z38QThI7x9uHBuMucdpOBObelU1Ux4uHLKABLmfJFwbRCaiBYg63vFM\n",
       "m6V3SS9kIdxJBacEmpXxr7tILbpoafmPYMNip6P4LbKxk09tn9PHrCH8lY9bCf8bs7K7DHeP7hBb\n",
       "M8Eq8lUkqja1fqnNT6gCz/NaoPnNM1Tkg0YSU6mU16EtmznbaPZN71bfGNuswZHZh0LOiVG15dAG\n",
       "ad+Gq++fY7PCPECAt7cZ33PmXVO9U4JzKhtXo4nfP7XD2PXIKCXx/CkuaAnTk0xwTcG5yVEUAI2t\n",
       "emkpc7NgqTwekF3cbngfBnMJJReOXWcmd4gc3t+eHYG6DPIheYFXEO9MwyYBx5n8EXcd48Y0q9pM\n",
       "dTY0x8BKsbIbajHv69VLRVAhhVjTp2cZEOvZ64SEwyfc/CWAAAddAAADeUGaIWxBL/61KoAFcHDt\n",
       "wA4mR9mcTU8mE20NJbaiPZycHGlFn53/++hZUi23MlHnFGCumQaY+DKH97fqjdVEzKudIu/FfjBt\n",
       "fJSMjToCtmUo+SejA8bGMl40Bqlc+BwWEVfQ9cbgBKy0AzlwT8V/DWD2uicMn3ZhXlCSbhk4tq2v\n",
       "YTZWpz4yGbWcAag4nGxZtXbFdPVOKYl6oxd64eINFRr+0sfwBWlaUhj3uGbBZch1/B99rn9J30cR\n",
       "vdv6cH1e79Nq0ssLi8Vt3dQ+a6YQSrK8aLJsdEnCWTujxKGyfyx7+BhTOKkQSaDNLu6q8g2IgIXs\n",
       "W86d0ec1LUif0JyyVSKRnpF9n+7sCBvkF9XQsK6I79mrf6P8zX+aa570hqvRWjTYjOuKk1CkdP2H\n",
       "IagwJ9Ioxrq0pLCr5ZeHFsyRm+eMUx22vuc1vZIqgY4zWTQhf24+BxTDb86NV8BH8Qw0xFryzk1G\n",
       "QMNVfCJzRvl+8gvTrdOt6iJHyoWsNFGjd1JJORj4U52EHPbLTaUvgjcUiq48BclAby0wd1BoatHr\n",
       "Ks3GtJ1ZMNvBbevg05F3Dn/SlpXNbUqWJhHSlaO6+HvB4o6rQ9Jf26uUiE4hRVOY7z0syLFGptWK\n",
       "Xlm8MiOzcU7ug/NBsJjAScXTlLcaUItDHtDnkFWNlofNNvcXRms/HhfhElbbJ3Gv2t+iTtWI8Jh4\n",
       "w4nxvH8oA4dwYHRz86gmnAoTYG31kXfrSSP3oK7mdA6uN40l7Ns/stq4dmoClgvd25Wqc9GO7XKd\n",
       "UDPrau0wQgyqtU/PTKLyVsaAphJLpAFgkDG+HGyn+d+ylWO+TDj6EUPdLo1pWuDR/toCxlwKCu+G\n",
       "4+aF4KUAgYiAnUzrd9xtPZm6TVWNxQQN07aTn4IGlUIBY/Zhra61HhqngixZs/98JL4mZhTt3UhX\n",
       "37+YTCklW9Kv0ABK+hfxgMQDeJjTX7Q1AfYQOFkh0KVJDzzkXbIxVaPHeeER5lRWoY0p5VkthMKq\n",
       "eeNDninhS280+WSv3LbC9f8p7yTzAXy8PZnSVsaJxl/NPUonMZg+X/fJtB4UyaqfP8cfYHbZrQWY\n",
       "RyEfZTv5Z6e8QbB83g3dexjS+aa572+lEBTMZ7hSVPvLUJE8zbZTNVbQkg18s7rHLKgjpI6XYCc/\n",
       "RoZN3gAAOAe/dAC/AACPeeIAEfAAAASNQZpCPCGTKYQS//61KoAABGG9BUA+lJGYM98zI9mDTh+B\n",
       "NptzH/YHDmVGk0iW0HG0Y4dr78uipAgRP/61YhhBjCAtUe/8Fod3xxRS9hoWvKGTN15pMPxXTAeK\n",
       "K82u8mzWuNqoztlNwHQwmRflQ0tEKRlm0kEsaQxmFMy+BMSZpoaV0/18LoL/48Yf8Uh5rx20XqA8\n",
       "qS1yE+0j6t8QULIxuTu503xaMHZXXen+z8Rjt6azL1Rz0Td0KOKLf3pEJQbfsU/p4syJE6lIF7Oo\n",
       "51y8JoHmIeUPsDkFSnfRzjU3g2yYV7PFvhaXRnSKProev98czdkBbXaShz/fhz6JgY94fStfVUW1\n",
       "ffBk1ycg66OfUko4Q9tE5I5D1tUrT0nT6AZJELHx9QWoqUAiIb0CHgf0C7hJgwqAGtbRqu/WSg82\n",
       "G7afXfiQP2oM+dUuIucF77HFq0FMey1Fgax8uucL6zCawkwC7jyVfKb0GEVva4yKuw/bAPqCUBEf\n",
       "mRL4JYd3eZMXZdaOCYlmtRHSt9YsrO0MuRD/4S72siPrk4amc1AnexOhXrUuwjMUxxmoYjrJnnyX\n",
       "O037fuYRDmudZvY/2rjt38X/llvpbx3aoSs27LCxV+4hulM1BryvetqeGIyjn0RI+2uHOW1Bjo1+\n",
       "etlEUsvfsYc5EOfJtFgbcyq/IvYqSgUiReIKuqyZzxcuvj769+/8zWaquQFmgAdpCOtlBogMxG1Q\n",
       "CbEG92YLDHsCgmUEA30qXAgcRoJPy38nEWoV58uCM/N55lhkDnz8UKlndLv0JK1/2hXXf1/lJfjw\n",
       "HzfOZooWKz2/GaiAsKDaLDU+Uph0JkHw5OYDQGpLrD6I6MWOgCFRCu841dcMqQkHJSedp5DnD340\n",
       "IZ2IlW1rDPHjyaxmeVHAKh61AWIp9W30Qy8KYlAjBzlsDZbHIaByKU4aZW6fJBMxXpMSLuZAcy+N\n",
       "M/wSMvWrp9ZZOjQZeclmznre5ckluuIi8FinzRLSqbrrtl1WfRYNPcR5xpe8CDv04Vw2ZmWrmTMx\n",
       "DW/Q76kp2TKeXFjz3PqOowB7DJXutqUAyuJ7n+qChptCHmGD1g2HHNqoHKMxbBClgTuPWBU4WWAk\n",
       "D9YRTWN2XkQ9XjV9bm7OzvUEqp7dr4HZIS8ZhWd56SmvTEpLJXXWTMcOSwlNenqOvdq/UxcGa8K6\n",
       "cTdOCbPTVCO6E9U8gQVUAPJU0V+y2Zyb2HRLpx9hTLzaxjyb2LUxbukuKLJNMHaJWG+b9oaFa2kg\n",
       "vzBVrmxq7fO5rhkFmOLHzQQpsbPQPfuZMyuSyWp9M13eKWCptksx3R1Ipx6pdhd3lPRY/grHDMUh\n",
       "1fMZgeVtrrciRtOBDXGBaq3cBOBunuAOQ+2sMvukDT8O+/R4tSpq43wPTkgLwO2finzbIoXTosEY\n",
       "fi18QPdQr+kTCp0mRrN4mhNiqEpdsxpXzlLSKGaUSlruFPvDmy5zfQCAcI2XqlmxFd6ZjsudWWPu\n",
       "Nlf2nWfAnrSR/fBTjEVcz39b/5+0RX9+9CqIgx2KsAsOK8NgBLgBKuANwF90qgAC2wAABL1BmmNJ\n",
       "4Q8mUwIJf/61KoAADBfy+B6QjpHL+PJGGQ4xgrhTJgX/+GfMleyrXAlT58FFJI6zybYGZazYKkG/\n",
       "8n26zJYaQcIvVy3dxLbgvQ3kz08hJOwahyno/p36c++R7Ihtd2wl8ktwWNK1/h5NmhdNOa30jVeu\n",
       "NpbBHidJWSp0ob2D3LohOzcGMJaTC4KZNWZ5JCNAOZH8dGVIGPDaQ92HeX3O8ohajR9H3Zap2zj5\n",
       "t6BHcb1jrsNGk40tnEHAfu4m8rkJdrBKFzKHJWk2FrdGLgdsIimGlthpDAvDQ/tQsix89wHwdlLo\n",
       "ihIQWKQ9UExc4zPbO23b4/7XNv8LtCcdsIUXE6u9N/vLuEYK3LyBXRKh2xasFG3OAbiQOqqgMrFc\n",
       "0MS2VI5VzPhVPjNMPF1Rg6pz+zT8NDC6gq3Ypb2uGnxXWP8X5hygAzYAAfxOLckJNxQigAeJM9nF\n",
       "pdFHd4OKr8qRVyPVcJoXHbhZxq7Ym6RNoyE5udUvzz1ZH36Tg1aKCErTObi3XAaBz0atMIlfT+3G\n",
       "w4iy17HlSkpjxQ/uZih8oLPKu+pC/Xh+U+9toBm6rvegp24quIeJv/zW7R7U7qgJRvomaxVvC76M\n",
       "7g4KxUDP22bHVKOj7Gdsta9maVjIQvrm8UYs/CNYIvlT+j5kKP/Mjv1YcYsRERPH8hg6bG4L8+r9\n",
       "fv6pMSeQB93P8YNZ+Q6DmD/bIHGtXKCSHd3xVqqdIy+5gmm0mkGqRY5vZsAWgevWLv9hR2on1P0e\n",
       "zq1mB0k10I2rEzZUPyzOGqp8pmCGZgVVSev/nkILKPMPTnqdi4fOkQWKI2lBHnFa6hV5N24hC68T\n",
       "yja0yy/703bwU0+iopc4RooEY/bC32vi+EmOToN0FzBD10W4AUBEH4wwe+f81O/9xXJm+HPQlJyK\n",
       "ZC1pqoYUBpYl0j2/Hca9uW/9/OmTJxc+m4WKA7wKrePN5GGzUuk3yuTHqD+0W2UnPrV/gP5GrHWf\n",
       "LMcfrogONTVZTEMWhAOCK1UTwlRqacxg/Qxe7kSCtBlAtZ9QYkKCmEO3QE0A8z3gr0BqY2Y1oeTW\n",
       "hIcy64d+4FS039BSH4/l66dQyTlGr3cRGhSIInWWh7zs+wk1MqAM/QRhehU86HhgcdV2GKjnieVG\n",
       "2j6//YMCIAORl7eayZm7oogO3esDH1CCgJGmiflagoxfGKnY/DUDc5t8jIkLy/Nh4IlXbhy2ARKP\n",
       "uDKSCRpJ+07YWyJStMebCAi5jQ4waWl0I1oUm1FDsT61iVVdNwbak4/9EYToJt4nM1Nbp6i3cb9S\n",
       "T+J/BvZqZbZP5jwUTfz12ZYCm35H73LFWVnL1XIHPxyX73CkarGbgb4+PpRuzi3W0LmVs/Zyujge\n",
       "h/HkNLL37bsnwaRgybi1Q92VQWwH3P7qGvtEih3NTqKUWrzVmoQRjLlLlrMaFjxyXjbC8DUlbeNk\n",
       "lhQJosIGxTa90MDOOJ8wSRy6zlcBVeu8CloJWqHsQx6QyBSU7EO5qt85VQ99RpSZaC5RFj0QrULp\n",
       "Vvkh00pKj4lAOSQhlsU6yqDi+4LZbSrAzbB54AYjDr9Y0TE4f/Dwwx3pNSG+2ebogO5agE9CU5Rj\n",
       "0y4MZedmrYAUQh8wAAAC3EGahEnhDyZTAgl//rUqgAA1W4/7i41XwAOzBff8HnGTCupI79E+Jf5F\n",
       "e42w3zuRfMUFe0cGDe1PlUoB2xktoYtCyp6zRI44y60WjMQmwqVByIm7cIvz0scXuiRxYo6qRf+A\n",
       "uzzTTAI2XFQxODrx/jjH8QX82SxRrEBTh6KRn9UZv7UPGeEH+4FWTXYFTbpAT1Mp8fYoI5UnFsKH\n",
       "hn9HUQnW2pDSitFKAXuaogiCd8YaySpvWTF4+S5SaYIlsXXsl97tfYMgKd4qlvZeGpv3yUm+JAV6\n",
       "rOItUGan+cd0BZouUpRil45lEuEzZZ3fgZbK5A5T1d7ppfSWsh9R1di9kqeyrKYAdEGj/gNWSqaW\n",
       "DHhFS/kwgvgetxpaZN2Au+LYkqegV2d5/clYvEg1ObGYCcfFfIvZlCUUTD5HQCcVsPBXksgoiAI+\n",
       "+r/a9aQFQRhTPyf4qa8OQMOl0GQSc9/xIn5nQOwWGHkjBzr0aRh5tLlk956Ws1LXx+EmpktqBaZg\n",
       "UsVpSq2XBvCcIsETtdc0AO9K65obJm8PEJqjvxD7XTCqIFlFt19R0iTnNxDb5t3nF1Xi/lH/XW4S\n",
       "y9b7sXoMzBbXl9wJgtOncaV6LgOUjTavpsmFZDTKUPqhcYsqN2UPAeVq/vdDmIlMkBN+f45c6xGW\n",
       "Tm0rpa2aVQI2izeJTTjG2DtG6OcWGq5paF6RDBYpzCjuSLZu5k7qcGIv4kkDt9Ut2GQ3sK7q45GA\n",
       "Mh9DipwgoCnbYKIZlXDGoMMJw8YGZ7BA6D7dJ/OeZZMLM1FmKevkeTd5g69GHM9KnE9pXhdW9C97\n",
       "I8WZmqmytpZLdKzTjk+eEYmjQnwv2RfzbCasAIBZpedKATVGZkr3ZutagExBcNV3pfLCc1287YfL\n",
       "uYUi60YkD8bnkCZLmzjlFgdsH7gTRI8ruQ10katJ77p255NTGXCHVWFXBWvFmYfIqW6twExfZ0uG\n",
       "ACSjVJVBdwAAAsZBmqVJ4Q8mUwIJf/61KoAAercf8E+PABdW8NcTsXLEE/Zdk0GX5aaq3KyrBYHL\n",
       "uadry1PkTeZ9SSWZJzmkn4iQ6YQ2hSUrEtZv3sQFs9YxbUwxSk+WV8R3D28v3WIWGZHvACrj0IWm\n",
       "ONJmnOx0nx5PlI+LhiinAOOaGOqboUUClIfqPmSmbgD7ME3RyTdE6/qkElJAgMXC7WZZRroUKq0S\n",
       "MPyo3jmoxofNOUpyxLBOF0cHJgwkff5ECsupqAFoBwv7vRbz8GXq8i9aHITN+Vm3UF6x4A3TEFr9\n",
       "dRCjhi7160YNa9SQRiMQWV75VxTvG8BtTCWkEdFiQPAJi+YCw36VpE29Q5p/Y+vOpfli2j/mkFiv\n",
       "H/7FnA5ZsYXcMD4sJksR5iSacm3cDmuiWo8/Oqp8diSVtJkDs2N0K65jGjhcES9O4pvtnTXCcFAr\n",
       "lZ3rsohZrjh1sM2GmviBulwfXiEKgpLVZXTSyOUiqkNIKN25a55jz9R5JlUVbdH1tXX/s6p381IR\n",
       "qLZb/SzP1d9FMl31aeDDrtgfUn8QonYzOvmCOzrW5IXbCfDQz3HPb5pJfhoQFUOXgeiqNciT5x5S\n",
       "Mm+zhHMnCuDGsAe9t9p0RMnVlMLV9hbhMz992n427qm7j0RQWugwJsXfwe8mWvORvZv7HcmiR5yQ\n",
       "lX5q9x83mXkWDgj7cBAl5BLcRlFR9gQHeMxZdp0ZTT6M1lUwaBX4ybSy7uNlHsqrvAjMBOe0DKH1\n",
       "tES/vAJDO/jcOfm7qz/DArKpj2SxDbo0SW23sOy1pmCm0kptpWI1e6dZTyXxw5gke2i5rlB2WBC0\n",
       "QaG2kMlzzB7jM4DCwxSXt40PggrXRAGdDQ5I3gl6EEIiYiYZTo0ggLaUP4dNOpx5lkWNkJ2ObYTJ\n",
       "AWOm8z+5ddCDp0iBfnZ8d3UzZfstAeg8B81WtWzAAAriSqDegQAAAqRBmsZJ4Q8mUwIJ//61KoAB\n",
       "Eeav4GoaAD+twdgGgwrNZYriFBIk6gdUzylW2LjonC9m2PfVsYeP19sSwyBJuOUyw+c0mJirkxyf\n",
       "tvjMSSOYIlJ8i/Jr1IA6N4zhp5i3siATup5LMYJdOE+ZQZFgCx6jpgGDmv1XBglsRH8SIQwrSbLu\n",
       "UojMbj+pnhPeeHgOrQTjlN3VmvNBis9nGgrNSpFku0a+y8TXwOSV6PMeSOYjd3sjbYJxQJt3QgYz\n",
       "B4UDzd0logMyX6PdmuJRxOpcPqHevd0cIYxwfewQWQaIcxgTRl9vbRAH9sfBnIT9l1rC/vKupU3B\n",
       "AEw493XOTUh5+08y/tjw3weFK85HJFJ/ibHrkG63WpEPqgZirDOYbm1h6I0bicnAu1gZWXNMzJHW\n",
       "+w8/YO6ULBJfDfo5HIkIW3aQdltzXbFA/yfB9xYcoUjDInZb6clXNvwVdEJaq11wWDFLPWuPw10r\n",
       "IkciSY0pLoiDjBm8OVID4pzWwFzoyMt1zwHU6mAWAhHWTXQTy1ffQOmBgsjTZZzJlP9z2wfR+Qs3\n",
       "SbPPzI+yqlXLmKGMmhr0QcVxLHvNRGuMRwTTCnMwshrwdmV63kv4D7ZhFrx9oUVcAgL5RnbeporD\n",
       "NENpnwuFbAiYNz7wqTwPhk1G2/uEAGdqce9nAQNSrsAUs4BwpBaPIXX3OF5gVLji5j6z+FqNjR/M\n",
       "tsW83km1zmsKwFb2xWi54BoblOjIVVal+mIBlFNUmBfXfQudJRhXUL+ivv7Ob//Ajhy/UOMjqiDR\n",
       "D3C+2jweTNc+/2adbX83D3CQ4xNGj8QqWvKD29dEqWBIJT2frgqfQat+r95PTNa5XfZps9pP6wf1\n",
       "DTw8MuUwbsDIcgUVvmB30pEhA/ObDsIAAAMAAA/OeEMrAAACjkGa50nhDyZTAgn//rUqgAEocNdA\n",
       "qm50vClds5Ih+rsJ2yE3XlC0Bcc0zlVZhZlDan/4LdlBL/acdrfsLA8poAVPP064PbSkOO/6B0pd\n",
       "tKXJoq/9P/h1rI55PiLnU8O747m3+rG1mmSsioIOTwfyR5uxDofmBiluGdi9UxOwFfbZoRx/d0kC\n",
       "QT31r2EzhSJoC2wMcHndlDzyHwK7NzSRfuI37mBcyuDL0aGG4Q6trO6+P9tsIsEUP96oi3ecE0le\n",
       "lV2bG3+y7dTvx7wtNEmk2xQTumIWBTmtluJsOsfEN29tiBk3aV6P839bgv0YHUD3uzx8ski3W+u9\n",
       "4LitjVOkb9h6RcZIrd7HEpIoDbmB8B5d7IWJxtuE9UYKdXbQY4iTsUEG1NwgckUvFOt009nb3D38\n",
       "uoDCKovdUJPgwek81FWUZir/A/+gtyMBM0gmM4xAnY1ObfOevBk5E1EPOsy4vN/uHLQ0OtvJXa2K\n",
       "5lJrvCrPzJwS+72OXmCATqp/GcOVwT6i5vwaaak4erkyYN/p3opKqRLVwStv/bi8+MVYJUADz3Qp\n",
       "QslPcZ31AUNn419uOqBdhoMgcuhMlYCVeT1XtunmUTYJ57MFmqQZK563IpvCW8Uljf1sJtFKAG4f\n",
       "1YNAmPnx10I34WqjDjJHJP9b0ePbH12k4cylXH1kwU2hTcpTrmHv+LHc06Oxg87jnDhvpB0xV9n7\n",
       "4IEnoApwt9GbuZEdRbRj9PrRgsnyegYwn7WU1ZzoaH6ZWsSi1TF2WSDdmelLTYDyHxTqCuBNdrxU\n",
       "krmk+gXvHmVkF6WdJIjSUTGhsfPCsV3hrSwY0BX3WkPtNCeXsjFfUwxHjXDfHIOcxHVRXjDUUAQA\n",
       "AAMB9fwjAwAABF5BmwtJ4Q8mUwIJ//61KoACpldcAB/IWZzi9RjPI/wS92c61fBWgyWuUPMMrURQ\n",
       "hvlbq7rBTE0xcaxL6oyuUqBUIq6To78fxmajvDeMLgfBgIds0otdLdsUzJ/eBf0tIJgzW/ntg4I0\n",
       "gn6hvQRZ1vJ5rPaNMFXvZhgB6DxtDSZhbklWxrq2yL5qfIDodjdDzZmq6U+buz+WFAh9JVsptp0C\n",
       "uO3fvM/9vPTWQYL2J6eJYk+938IZf9jpsDgHEjsuZGGbHEhJ+Zc5mkvjF6cBNo3y62//dPKV0+Ec\n",
       "3np2OVW5gmfM3zhD6m5ITw6MOXyvw7jBYR5o+Rn+pOFoJd0M7OTIVqKWbmfCfeD6USslxFW4JjOd\n",
       "V0XkKI+xU3WrgSclo4Ra85AgCpQwDaTWqC1v2bwxZetqHlMcWFcQSf9IQejVA6f/PmajCptYWMvH\n",
       "T9I9DepdiT/wY1yKGY2hqXi7/PKQBrjRZ+mK4eDmdV12Wv2GzfR0BCexTfwTVrOXQoQnyouA3z1c\n",
       "C1yU3Z4TxPoaD3Iz4xd25kMQdwhjvyavsvEqMcaDgTOr0wbS/xbNpNfUwQg5IyrjerdM2T7VyzKN\n",
       "jolScj30rjYyp8Km7yqw6kx0e27q6f8q8wKy6h0eqQxVMG9bpJNgyKc7V2XLhCgNhtGrfr49UVm/\n",
       "ZFKEcssbgLd+CYp2BNrwolO5VvxPxIL4kq4wGTkBBdkLFWiFcDcabDVGvGwYELuKnmQlmqjcmmzx\n",
       "RhyW0q3HNtKGlNLhiMd+MLko43gsgJHxUWlrGO10upAXJ+XrCGEYp6wYLYK/jYTVUHBP628+tUVY\n",
       "Wt9lCruvWEKuYtYbrYAxMR3Eh/S0YVoYV6+udjDWD5AxRBKht8tv+P3JZ0oPljWt8eQe3vPQn63C\n",
       "DRsUxvm6CHpqQtdWuAuC1e14JeZWyiPHnS8nVdojX1t9BxhSFcu1P+ITSU0TqGF6oAPIwBbw7Ez/\n",
       "sW68Xzvi3e/xotf7Qw6yu16x356UT+/of7DGzkxeh/38o+vmzqkmQ7pMhUPEZTk+amDJphYxBeLg\n",
       "vyhCLw2j2TAxaNvaruerP32v+3Iy5lZxKrogeAMSs8xPCkIqEnEMWkC28NdoR8Ae4/sPa/ufN/tT\n",
       "8e9jXoSWR9+Qql09H/ORfkD9RFmKegNu/lO60qtIa66YDuhhw7FT04uNeOwU/WF4BS+bGUzr/cfp\n",
       "Z+bqR7L6LwQAIxEQi43tkeu8UcWWsEif2c/JYcUq7qGGOV83y3Kcx/TAq5iI7MJp6K285YzmLIMw\n",
       "jdNeIwh43W4s6y7eBK4tUK6EP9Hk7INT7BgUOsApWHJBU6yK/7RkwZiDKXRl3qs6Ns/wbn2DTHCe\n",
       "qVYZ7zK8cE4cs0t5U0CZeirpeaEQnx2eZ+Ci40b/TcrPS6iSQfvkTFgyrirj13VcMJxzu9kuz37I\n",
       "jiuwaaADyEaO3OnerTko1kbglfffMglzy7kHd/87dTsSpslVGeDAAAAeNXUKmAAAAqFBnylFETwQ\n",
       "/wADS39Y0QxyAEJ2paRUCzqYwI24yBagkpUzuaTVXeT/8EzEhD2FomGEkOaLPykQtlXP6wXAWMY2\n",
       "mXTCMHe3Uup1ugmCVN7VO2HLvvMnyilj6vqSZa/VnCOb9UqsZHGUsjh6AN24VUQ/E/YGVnsMpDJ1\n",
       "65JgzLHHiM9EJQBg3GummC4QDVVPkb+AU+rMXDJjjvhehqV3QpvsUvX3N6tdPvYF6FBqzZX8iWyo\n",
       "yLmWc2kv6nUejC4O7Ng6X+FoKKnV3kJ7gCW7FCgVF13QUCEiF6WzKwUdQnQe3fc50Cl7Lzpx5nH9\n",
       "rOu4Df9VNX80oooYWr6GiAzDx5R/qSztplXzMx227vj+V6iWCkbkvwGD8nkj3oZf/VMDDFgbC8hB\n",
       "3WgPBFGVdfuQj6IVzzCOSd1VYkvYXgdxpvoTupblhXO7BXwzYEHjH3nzYIxFtHEUbOce1SxslEen\n",
       "XWI1Mb+riQi4Szz844DnQ+6CHpHVrpo/9eVs0aq+JgfOLzFPsz9+DudHkX+TUur+WZcrniwx+C5j\n",
       "ZK3OuN6vp6fCYHnRL2KxAHjULVGmn1K9PzgaW1EBzgKJEG21iMK6ckBqkcks2l15aGdDqm7NtrIA\n",
       "2YeZHw88s2QW9x15Wp9L8iF+/TnkWSjAqpq3qj+oT1F9tOhb+xCb5+aZ/gSUFiUEubC5NlNYJxyu\n",
       "p0DF5RAb/Qflw58S9EGr1SZUbV5aGkfZRLfOnFZIHcWh2C/fhf0cfThTuox2428xDRtbczWxZr53\n",
       "YaHMwSY1Td0azrqR1d/rABHCYIJnyo9/kOJQH8DYRU/lLBi+AJHbSs7fiRXM6xBjZ2zzSuqndooE\n",
       "L+sJXaiwbGxf6Bl2uup1+OCHwCKjTWa4ADiEmvuRT6f9gACiiojYAAABFwGfSHRD/wAH7/S4GiqR\n",
       "gA/hDzRmj39qLg4lu3PX8nWLDNFbsKzAVzG9r6ZA+3XNI1zTJqIg4jema/BekIVr9y8t3DuR0BIJ\n",
       "3941blb/DkKVBOslAV5IVzFLHIX547l6FDtrUWHjXezfViRU6poMyLWlsXVApP55SU0o6j6hV6Yc\n",
       "FO/qQfD1HDkXH4kz3wOj9NlZCIjTMQve1ibMqJBpmc/WZ0bUrzpxNOfGNPPfe9n6KUWAcNhfQiU5\n",
       "G7dqaUR77U5FbXzK2V98V44LGfiNwIGMYpXTggMQFgEgKCOKzMoSsw1ecSXKZP5hGBUYsRZa6ZxS\n",
       "mRRWJmZ31yWfKA4gLYeTbf7aEPV1d2SsIgAL8nzEzNAADTLUEQAAAYcBn0pqQ/8AB+8KiNibxJTy\n",
       "jYANovOfufrK0FvD6iqMJVh0tXy1eXd4KH9hP+WiF8zcsvPpvFAQwhSvrdNCFA/MGq75AO6+X78L\n",
       "pIEMf4JY1dgSJQWMe02gV1eWZv3DCce2cMYI2nIF3tpa8ND75Eh/TWD80m0kw3Mzc7eyk23XHM9z\n",
       "HqBN99wYcyXExRsaZiB7Z6kBnvy0AergVzvv+h2eX2JR2I0bY4brnWRD/Yvq8/f1AfsoaVIv6GIp\n",
       "yWr5Y/bQC4b37tEvxYQ+rD4XSGoAlQfrOw26zdHC/uo5pwe3hwSw+TLANeKmW4Xpw08grBMP3PBQ\n",
       "9MsOOlVreVqvqRqx0AqVIq2RmJPgHQbaHjW1QQJNRCJLUzzCqGG72iAqgz0QCw/7JPhc+R5OQsJs\n",
       "zRZ1VGKgJa13/xwR6tkLEoARMlFRdLIyzLl27nutfTaSAycwf4huqByQ1Oubdab8xZQsofcNR8vG\n",
       "LGxx8SYsNnHXE0S0ISEH1+sasaUGFvaso9NQAgdItjegAAADsEGbTUmoQWiZTBTwT//+tSqABW+1\n",
       "nklzxjsACZ1fLQlKQ0mv+r9i9+2Rkw5iQr3OSRbAkx0ZBqzT2z5V+hxG+v5cCT+VAg9miLW2djGJ\n",
       "+l3aNswBDYkcPayudrPr/nQRNBsDKPoRDrfboQIsjCVwLw5TwAtERkPgAuktl7H9UXyPxXrb1kgZ\n",
       "aBf7KaFXQm7fOrn3gTg9UR/2oL8RY9y3Wgq6wwXGWfh0Y9nmhhWpcWZ1e2xAweD+Jelj+yYipWYm\n",
       "9UsBLi/RDz/WKQmAwWFZ7yDoB2vmJwMP+1/Cr1Dgd9OgABVAHs381R4omb5X4C80gnZyu6G6bPGm\n",
       "bGx5ASTipPgBiJKFmE6AK6lO4o9JKc/oOJPt9IDLjKhtnJ+ihdk7qoe5aw0vlsZ6SY/JVoUCoHLJ\n",
       "fn6wMds684xvPe8noqHFC7nZedHpBDCh1iaqEKhaO3/ZH5Fhc296/eVtLEaIU5OUMmZiQ5XeREAl\n",
       "3euv2g3tmF+SZR5Tf3MnmeX/xDM3ft7eBV1spG1VOnjQK1tlKTayKH+11dCXqU6Q3WwVw7/sHHkm\n",
       "Adn/NNhYbWjVm4P2SQldrPYfLEuP+lfru6+yJdRTfraZ0gI7pvHSArZSY1JZEgeFThuL4QRSPQoU\n",
       "BC2YEYZisD3yXDZG2WwgIJUzztVEoaAXVCQcjOGGlyZAairpwqo3jXWfh6jKFrQNiShEB19ualFt\n",
       "Gs9n7JLMTTNuMwkLpZyfb0EXhb7hT4I2oxiwDY7f9Qkic2E1Pehwgp/C9JMToEHUrN7ZGu4xwoGI\n",
       "MAjbSD9/jmu0qvt8qlkg/PfL/vEe8PYnR3hnfqr4JarrSut0Ftm0rr6/XU4sMMTX94XxUr3ecWL8\n",
       "k4tU9SMDaLVjJ2SZrnmdnmW4opLYJwev2XZ85+ZSnYFn4ShCue2VLB5zFKFRrZ0VmQ4Y84Ys2Xgp\n",
       "xROBF2ZzjMZVtGH3FX8o4hQk5/sZViFDDzwGE5CVrL3YCvHH+AB6W8oqpAS0BhNvAxK+yowWEZe6\n",
       "c1DA3LNbRlbfUvpsxJ0qj8TD6IkhLfVnECm/VWCdP1miXvJAOGJmtvMJD5Co7XVSG3h0BZmHU0OV\n",
       "YenPEgSF8UOWMzospHh70Q2NU4y9LjhqDY773HrsISzytECvKEaxHFtBCfGz6n7j1vFx7ckbt2rh\n",
       "Twh1fb5OMBxPp+JeZjUXDMuo19tGe3W61POou98dD9ewxY+sW5Vw9xA43SBPKP3KmDWN7imLC03R\n",
       "zHQakKCVWUmmwiFgAAABiQGfbGpD/wAO12yWADarrlTtKtsYO/DoTnzGTrv+l52ndklSnkl0O0Y2\n",
       "AIGI3/DjMhLivQF5K0VrvZeO3LY3Kt2n8W8CMO+CyKMID2kAiIRWAln4y21mq8hhnTByr8hViSMn\n",
       "1xm9xpaViw/rSXFPiRgNDuNT2MM9eVSSIrGuiqqbVSN/Vy4TB2U8wNTfgJQwQVD/lbT7XtO/bI4S\n",
       "JN0DwS4saOdohlgCoHdz7Vr+RndZ0wskvK04CetqCKB6VXHZde/ISJvX5+j2phVno8PqRYvmUA4c\n",
       "3X3w093hH8cct/oQ/bfzoxz1dxGmL51MIMtgPboDCPD6Q/QbgKj8Bzfag2mF269TrojvTMflrt/F\n",
       "mNxd2lxE16yWbrcmqn64ylUvc5ZikxyFAU4a/HcqYSyjTIiAVo7lWvd6TDn1eK0yH1nbCl8sSVnG\n",
       "omuMKnFOgvQX5+9OlmedfcbuVvYKZaSmeVNDicw5x2zhrWiVdr29PWqElcZar/6GmIIRbKjteS62\n",
       "M7ABV+j3MYOggQAABJFBm29J4QpSZTBSwT/+tSqABbirbAC17zsTlwwdvd+u7EgWuGA+vzWpasVs\n",
       "23d2VFzmlCtjd8osX7SHu3kK5X+DjXME38w8bpCEVLzijlioq0IHU922R7L+r5yln8RPi2HbkzXt\n",
       "4YKvyCo+zLKxa49B0r7t6zbp8Hp7lgUT/ZXluMAXb3iXr3Egh8uyE5U+fwfdT/Jyf8SyTQHDaHev\n",
       "HHrc5tb+2xXZajJz3C8jwUoMc+ofIrU9fkEs7IPYV0msdIvwbE5LUIesE1rtk5HvuX9kE+pZ8bfN\n",
       "YwnayhvDCYoTrcV4OWqyZwyxRHLnClUsfjXEOk8juFMAgdW2KB+Ll1Y8DESlT4OzLIw00Z1g3l6z\n",
       "rXvuxohZyJxkOllaLZto5TzBT8qB5je9DGktywpVALNuF8HDhOqPfjXZhZtVusHlol/OmMDrSNi+\n",
       "xfsEQ1QzFQg//nvNQj+YCT0AZXYlKguia2YhDCUz06kt+hJBUQoNq6UvjHYT28ufN7Ihe/2m/Dy/\n",
       "Hq2MzwQvW7wFYKha395CFIbZVSOUif6uf42cIRAzHPj30eqgSF0MkKJ2ehtrg0+10HyMDmaffxvr\n",
       "HJSxSM+pUQMpZmGdDpsBDComvWAFx7RaiPQ9EkDR80WwK3swJShEDZlg4xtzfIEPa1vNoQVr9uup\n",
       "PJfYuWGhyOnizcFkHdx6Wr6VSY/OHX0L6r75WkvEJaxB5A1+Bsg+DtqoczoMIFUUiiExKZxQLKBe\n",
       "4P1bn5dj/Qy5ORiAHxrK+Y2ZLUzqvU8qASND7SaOCADFhIywrxNa0ov31FPNlJXshzNpDnDhXzEf\n",
       "QsZvH2F+1UChvKE3pPUT5W/1ueQ1QQwB15Lko0XXVsnNuYkO9dkG6UMyzNbU3ahPzuGLUPxiaQUi\n",
       "v0COrDlEzKn+lgS9I+cDbwfcsEG8tgcksbMBbo+zagkydP6ra086NZNMYaMI1vJISbUU5nv41Yfn\n",
       "eNR/t1zh2+kqxHkFlAtTgumXuB2z6PEmR5Gd++lW+Ab8IT1vEOUNwRryPtnxHOVeJ5kcVec+whuf\n",
       "C2gU/BHTEVk0ejVE520K+IXCH5yE9KMK4JtBUOTR2y8kOa2dvcwSH/EGg8kM4wVuBi9jpqVheUBc\n",
       "NKEZ4CEG+rNSukgQDag/amKM7mmMIww/JJIoPfMsMPBHNs2rfqNj3YWcaHn78DfmBLvDQTHkzh34\n",
       "QJxG3WRvvRmLp5XM63o6DVdp8JLvtBmTRvEzDpI1566df/5+AV+gdpmm4HeT2iT9+aYZrqKC+Nfy\n",
       "QQTT6RkVlDLoN4DRaGnEPkbUSIEDoeOSqnYXn2HmZET7/V2ysB55MdC3+RHGLASH5RRkqQaX6Q/8\n",
       "nnni22+xnQOFZVk3TpwQI/JCiloyc+8XI+ivJE57cs23+VXjIC9QvUfl2pLCtq0hBodcfTudB/jR\n",
       "PFIddf+5YjfghRc9YfNXCVYIvU15pqY1w6sOTf/Uf15XQLUswrm2tFAVQ6jIimuzc6ZS8CIyhAcM\n",
       "hxlE/i0H0SpkQQp4s3RM9ktqzAlPvDW6d0c1/2PzeAsVayCGFJJdpUiYEQAAAU8Bn45qQ/8AD4dg\n",
       "G4okSgAiC5tQ6tRv6strNx8eAvS0UTyBrdVlgZiGGBuD00OmIjNdPdu1cDH4W9Pk7JRYPpbFqABk\n",
       "kjCzIUjuUDO/qPw7+F22iSWZH5XmN5e0gKbFQZp3ab/hGJRdrA/jtoWlb8sWKRisv5kwoLvf9OKZ\n",
       "neUrJPwW2dpdaeAS4ELPe2YYy/jWkcTzJRgf7NgFrmiIy4Y6aFSbKDd2A8ADQot1bdhB12p0C5JB\n",
       "sfrlK5kN4keYAjo2DEpt1ImJUtwhMhdDPv/vKdfB74EELaFqtogjh2q7FpGvSpQtpMqOxyn4Ng5j\n",
       "9TzU7NP8oBfuNzXmBQDqVjiMXlmm3j+qdZO6F/krQUdaiy7ce+CUQs2aDxHRqKOQ0VuVNLA4LO0a\n",
       "Nw4LbT9mORO0oA2unY7CJokZVuG6EcGy5+XH+kqZC2GgIABxLSrpBwAABTlBm5NJ4Q6JlMCCf/61\n",
       "KoAFvBUAFbXQAr8z3KzMtmgqpASL+971XgiAQBy8HBiIKHhGhaLDVc2aLm1Cll54XzjWJUfIIjpM\n",
       "RCIKxSQyD5ayRR0ySjQESk33x/4T68zp+Y2YAe4sc9HFRVtzrioHAXff8iZtvhWbQ++vLIoNJ/rL\n",
       "te7a8tD4Pzd31zp0560Xby+ueCUS2y1zNEeqCdMEbiJxIRjJM2zPM/C2NrthkyhXOW/FY5qNCUU7\n",
       "dPjqTJ4oCB4Z1gUMhVrdhCbHP8j7YVFAsrr3T0vwVOBY44WvGBP6AypbofhOWfTLo43lsZbki3pK\n",
       "GGKYbSB3lCkfefp8iKdSDJW8T2HPxIw6mPBdOahaeJMDCkgrYuIaFBLOUF/TcLjFn/rDKk2M20s4\n",
       "byZenYUL7ruNc8Mp+8+fYeTls4DIRIxDLXIER0Qfp4mixyX4AfZ7cX0Z5yN4IxXjNV5m74JIpaY6\n",
       "n4NOqE5lU/6QQx4UjDd4YLzblU7X+SQvG4ux/ycEm4kakvYIFx3JKVoxZ8EHaBA3At4esVQJ5gX2\n",
       "UGCu+0kRK8Gd4i87ai2QOoBk/8bM/+QHDSauomph+T6PfIgcBgqos9UH9+gkWwjyfY4JQc7kVAgj\n",
       "PXX4lnjw+roty1TgaQgHjluSHoLrMJIh/GxMfbZpiLK0FagMBCi+mWh6vvG/uTTdENKX/3Aq3gyI\n",
       "c0NyAlxncz2tFcXVSpLJ7vKxv+eF7OM+uMquPm5pHiw7ec1Bg6dYMoUUkLzrVQ3/JE9l2VRLC9d0\n",
       "KivvfP6VdpPiRFXBUngRwPg6uhTW0w3jaEg1qsTfgTRMvum84Gv5fVQJHvPxINVk786J/ztazpDR\n",
       "+dEkmrknkhyC8cighFB1hz3hofnpKRRkvwn9U5dSdn/y5lEE3luecqt1U+hBdQfDoNY+1DH6ECHJ\n",
       "Bn4DRqW3dDOGEivRkuUnO1CgkIQJRptXToRWEMGMBOB0gMh8nr186/ry/uQj5aa+hljJlg98msY+\n",
       "ti0h9DC3+Z3sEuKYaJHkUYSNIKtbgFy6EBKgDwF93GmTtdlTC3Pb16L+H/GaMVUCZPubnkAdJ1tW\n",
       "D4Plw+mGSitDb9uQ8ZnqGkybaWWNHn7xY0PmpvgBlUlci7S0WlTq4vHSFRVKRJPMTCUvhBkB80NZ\n",
       "mM/4GzGKJXmUf7ZLWYbIwIRQFZk0k3ZkGYHI7t/yh8Mucy75lyJdAWf1QFdGTxdmOXodoZIDZhk9\n",
       "jkxQHNKPDNZQ8zBLJPNB0A/MZlySm1MQgRAPCzLU2AAtKPJtkkd8HOY9KTweYIXXUoILpCSCEFi7\n",
       "CtE1X0Iden8+rDlQyX8W3d1yZCSZVUGLWiGWROVFNjQ753OU8CcT7+EGmpCl54rPuIAnY2Hlv0Av\n",
       "zaPX5po/hSCyH6ShdYu4wa0sUdy1s9yAn+uFN1j9E78Ya9ot3W2W06a4uw96vrZaJTfZ2GXo2i9y\n",
       "lvRnxDCyn1VQVo1O0GVXRhniwNiADq48gIunGS1oMVmtOzOO6paAh9M61cdXIRrnzE5Gfet2net5\n",
       "XsH6Gh64YnFGaX6JVMX/jzUkl6qySipcsrCK6HAjaGvS7uJDfqop/tgQv7XO3hamgDRIh99pgyGo\n",
       "ZVtOpZiWMkiM2dbKV44Z44o386ahBgB7saIj9JOzTMDi4ZqzBrsQPkF0/LycxdI/u7dwVv5jaw6i\n",
       "c6xGy5dFDnvIeNu+CadRTsZ0co7GovWSyvju+evl+b0a6kH3eGcGs6k6YCSH8hjwSYvnU7O8cHZA\n",
       "bu02uzxBIhnLtVnGQAAAAhdBn7FFFTwQ/wAHEuonOnj8xAAG0o670qzp7pAGVp1FXbGS8Nsw4eCG\n",
       "2J9/OkVK7xPwmucMhH4v8yyqYbQESckhTQprkHfglvxoDi42NWhCaWrtfLtPzELOTm7vI1UVY9Bo\n",
       "gGGok1xY91TZQfubeBWrgOwknTshJOgBUvzIX3jF/3bEzspkRIUxQmkPts67u2jCezB7faTC8sr2\n",
       "YGKk3lr1aH7+tRKpvfMStCPvGs3lxrwQf5Lahm9nrJ65oTV58Z5lUKj7qCQEknBsV58VZRBie24R\n",
       "0wZHsqEowTEihOID1ML+063iVF02d2eNUn1RxXxd/d8ztjE4dpuo35d2zmUOQ8+3YSV0qt9iG2Ae\n",
       "xvQ2ZOp1xZXYTaOYQUjdVNeAslQEvlZu1E6m4C1+tQUZX4VGvSMYi/F1fB8bynLj2g925SkyZy4b\n",
       "q1ev9oFq2oc55Bz57dYSs5ArRGli5lpnVQl8SuuJSKdPDBFIdDCfcdt6rmK4LjGN1l54foxKk2+3\n",
       "XPshl4u5VMTwNN1+G+zxQ4AvcZ73pLmvREVAD6lz2RcHlwDG5f0fY9dQvc/sxXFlotXoV+OxW/g+\n",
       "1LwFBm1Ts1AnNJ89WJ5lBKHsDSh4NUtOynpsmNsYecuKVOGLp3lypmH9Tn8B4wEC8dA3AyKAQk0v\n",
       "O7FnN5DSDvEeE3Yv4j1kw4HA2vumEtlDeMi4hZGy4EQAMixRHruAAAABxgGf0HRD/wAPhTk66LnG\n",
       "zuC0YANE4ivPuhYqkAg8K1X2B7YZFJsvZn3s2vZoR+yC/jeuLHZx///Kq3Sqf214dP2SIDxt6dVG\n",
       "3msHoZucW2G0oqMdplRN2vKtrMF/nzaGCruT3ulKkfYq0h786SHU1ugHa1HNx0ERcfWaUAOnsJuw\n",
       "QPCiocAsZNJSUuIUJTlk6IZ2ixEEeEO0uj/vmgOZMQW7GmS+SGvBYiBPEZdJ4HMRZA56s3MYWG2C\n",
       "ok6rls0rLA6aaIqbGsSfo7LQqZIweh1LXazhS+sG+nXPQGnqK9pIEi0YqTJ90gbfhHZg07dZzDwq\n",
       "EyNZ/Y3Ulc7SQuBlrBtV1txD9x5JoAsZJyZx+tj+S/qziIakHOYUp7zyQ4fgqUe8ohx3kOa7v6qv\n",
       "LQ/Uv/KBOSZtET+WEr9RQi/9m8Gn89kaZUq66hWA5S+/2PS3EKVpznutK9DYH1XGUJr6lZYMWh6Z\n",
       "tPDPnVN4EqQTLPp8z4kgkBvAmWKAv/eoPF4U1O7UmCc7mTz5CFV7rpLex0vdTDZbhpcQLYjxJZcv\n",
       "UAHSO7MhwjZS9/sA1xjAUjM70sngkxU03AcOgecHi4tqgW07TIAAasEAAAFcAZ/SakP/AA+Ap9/0\n",
       "H2aWu+gAbUZRx4WgRkrOCMy6mdBo6gMWsiLz/iJwnAN1r0dLt6kN/8NO29iJSsCHs7MHHHq7DQoW\n",
       "E84sWNQ0zLks2s3KAjs+zlZj+hITqNCVOfPBKV2KoNreF367RjMSdHecTnjx5lHzEllAO+8biYB3\n",
       "tI5mN4MRwIw8QMdm58XQv3HyjSZlD5VzudvLRELQWtjlV9EVj0+FP3Wb3pR/AvN7MW6x49Oon3Em\n",
       "aBCq/rx9bc6kCK7Zybpcw5SDc5akyMqJR9BOKH+7JCUUfCwcrCn4KWYYl9y1GcwTqihbl7+dY4OE\n",
       "wxqZ7HuwcP+E7cRaOb/4jAXmG7YbXOtyFnpB0zRfQhkZce9duuHg0AeOq6SHOaeLmqJOMLE2d3oo\n",
       "XgtGs89WE6RGwmsk0wNguUanFl6YQVBxBrEiAD+IQuiFb+HBDvWHaUZ2NU4KGEAAgmHdAAAEW0Gb\n",
       "1UmoQWiZTBTwT//+tSqABbfWWt0ACFssSuFc7tC7q7pmOBy6A3sFRILiNUwW571Z7Le4V3RAtLF1\n",
       "YNRGknTPM85BfwucGWQa7+BlCdu05Kij/RaDMgxwjaWqG93z5GLn+DCMSCe+HBzcrz3InUrSr/rS\n",
       "alA4dD1iyHS2daBCxYfXb8vT8+lbdCi+Df+QGdEXKHTSbKdajXT3TcB/B31r4FsiiVgTV4yTuaGr\n",
       "XxPcKHC99LNl6h+1o3n0BD5Vtx9c+mq9YJsOjFx3YF/LFBS7ApfFQA3b8Dw3o2S9MmveQFGpiw1W\n",
       "RdKnN1optXgsoN5KoMyBu1l0+BQOqyuZKWK9+3l7FRlFJNI7V1P4ZKgrolkX0YYx7QtiWL98ANtw\n",
       "50O+L6B4wCweQmK5B9wchiuww2Lglgyxz9Jb0eDnsQC4nHku7ZUB4dbhe1FhqXkAJWlV/JG8wGo2\n",
       "2HcyTmOKF2ycKxt0rSKGlkRJqRz8QJkTmY5a/HYZsHDIbF0TsHxS8ItrqGVKCV8EtT6bgenG5+bc\n",
       "3Zg3J5jei4JaIOOBC3t5alnxdcLmQL7WoqDZ5tFMz+TSPMtA5xQhxLW6Tzqwy2i8mxz8dZJHVvZo\n",
       "Uk7ynYLsnrNdOqCigzvGL0LdWwDThcFfj1wi/Z8DXQGcccS45uB6sYzR9cjY2ySY81Jv3gabA0g8\n",
       "gGRxQl85mB5y+S0+6t2nRfJW0+6MevJ20DYMh9f4oVztSh8R3i8EbsBa7JyXDbFMLwgU/BsquAbn\n",
       "vnGpK/+AXlIpnrNb8yfQPsbDuI8kF4EmGady9Mxlchu4ae8sbOM1ex9wU5FfXzlxEqrwMkvMT9+/\n",
       "D4+/YA0rpT7ObhiuUPXn9tcqybfI8IemBypJ/bQAHIGdfFaQOgzfrdjKABpR+1fiO/7MRoA6Z7pe\n",
       "brIIcFyFaHBmZggxZxbQclat6NQGxv+QTfj2T3K4trOGRXxLgVpqssV4q9MZkC8pd905Q2771K0k\n",
       "K2Z+uAwStYg4ALoyS4Czp/Wcs/wlXy0cAcuOr96z9vVu7u75gGAsBFi/+n+s+KzYyMFeEU1lGLAQ\n",
       "IXCMqVjxxxCAlzzGwMLV+NdBxf2SYVEa9T8qEdhhWOGoLZkqPmSWbvM9xljw3mIGgA2gY4gu/A5/\n",
       "tnI2X6w73qL4myz4sezkKzLERN056bEKlIuTZsm+zL8tm6+w2/YDEEODfTRcz9XReAMJLA8e0KrF\n",
       "D9u8ltPDN4bF1hseg1Jo3qX4xOrZfaxFAkYezJCR8pRpYhsrXk485V7gpuNHiUbQUl5zWpv4J2PG\n",
       "lBSIGhMJ77A73sm8YidqM+SYr9Gu7vmku2vuT/UsoG0Yf7t24Cl/Gdhrvrh0X2rJ2VVj6hHSAobn\n",
       "Xc4ynsmRE9rhwZI8zBttJChw+j/bX3t6zdM3nmvMMOMs0AhWDOSxjUK3MlBt/Eoo+bH6cRix8rq8\n",
       "1DXKOzXu1FgrrBr1cH9HbYdWfeVlYV7EYIv16ticAAAA/AGf9GpD/wAPghkroFE2+2UZHEFo4b0A\n",
       "H7pdSDHhU0f6uWwpx5SDAYg4CdS01bJASITwgeohIutQLr7hPdOdJ+cIqmAivf4ib5Dr+NsGQzyj\n",
       "cfxahA+GzT7qQerZwVg3c9aIOEt2nOBzYDyIe6Jk5aZFbxA0X/im8K6Pl5hal/eBWY+YjexdZRuj\n",
       "pqMbWs32x9mBgd8T35up2tqfZYJ/Vnv0cTDM7uYzLK8H6CHNtsWCyharBc9kqUolLUlCXz5WI3gM\n",
       "rOG054MNfOJCu7BKIYzHkf7eq4zDGRDnf1RbhYhNoKlSACQEgbKP1vB3nQU77N1cTwAwITfs8UBV\n",
       "0QAAA4tBm/lJ4QpSZTAgn//+tSqABbe1iqwDAC2onG/Y7vwniFoKNrllH2h7+QTYltTVu1Ku2b4w\n",
       "vxCSjTRrBQUacrPHCvsnU2IlbLEss2VhtV24BIh8sBDH2jgRupdeaQoq80zuB6QJujf+NMpyoVDN\n",
       "l8BE/t4doPLtLFmm1hO3c0fTfLEiv3E3h7QICzCp1J/EaC2IWTEd9PM4DhcRDDVHv5euMdf1R2jU\n",
       "ZkCMWGQ5riSu+rDx1vgdO+k6YEw8sH6bR8yn6boQfQ2i/gSpTEX9qTgtZU6uL0PiJs9m4/B/MWip\n",
       "6gy+o/3Y5HaHCjDW82pW3itA20Kp3Hq8kyS6pUJR/BvirhWI51RoNW89XBuC8oINHly8kksZdjR8\n",
       "ASp46BwgPKgiqBkdrZr1Ct6u3RtcVbfm+2ndFRBzKNWYXbX3QrEZ/6WolL45Z2X6PeXc9v+J5NGN\n",
       "7fF6ZnmEK2od2eUbjLVOqlZOtf50TICiQBt3KNZ/OoXuT4yNktnMTv0vWdXbedZ/1xYdGabx+rdI\n",
       "7ozdeJ8UuG2h475mbpsUIqV+ZSKRLQ38Tpf8OwffqLeOulgLityb63XUbEnZvT2zC8ROPOH+GAWG\n",
       "gF73jGGOWvosDvOMeSwIR7c/L8CQuP/bdLvhEy+EeSOXdJyRAMR5xfFREu19Rt/op6Op3P4F2H+O\n",
       "kkW8MEVSAdu5UEkev+c+fFQS5DDGxP1mMVf/yC28fJCx4xVExUmycg3k+ggpgJqAXH7C4mCVpL/q\n",
       "8BiKZvoSJC5kjfdHSoTdbMh7jvOcxb2lxkB0F9+PQaBsXu5pN2rtXfBoJ31bUUnp0SWqiOfNEq9j\n",
       "7KB4LICCa8SsnUW8dCGJOIuhWKwE6wMqjHuk5B/V+Wya0DO4SLMjaKod/mOGt8uJq6eHEWMToyZ1\n",
       "0M0+mnoDryWmcFAzM5/Hgeqj5tTHuHZC3ZH59zliyt25nrQvALROO8nEmoXSfojJqXMVBpemF80v\n",
       "RgtFtezDooWGgZeYGvi8lR/KydzZ6rkOPItKnUS+TmNqaWBpq0MZeFhZ+UZ8EaZacNToj732rRB0\n",
       "8TN6lhuQfK8uZiihePdfchZGpYrmuOBRysaxF3PD6S/Q1KMQ/9CEtv83bqrnXFTKzDFS0/MvqDy1\n",
       "JP7BRFxZh6Nz79dM81XXqa3U+Evr0VDKMKt6EOTJkYNKzCxV+FKoWMEvjPWd34cDmQDxFX14aYuA\n",
       "AAABS0GeF0U0TBD/AAcSe4Seqo6FqU6SAALquz/GnZ0nZJozwAe980YiBYswVpp2lK/18LQKazSz\n",
       "IGkJWkTbFdL3LpmbcmmkDhEndckVY0Uzrfm0biLbQoBJdrKQVGGrbxtOuOdkmbIi+7an9i820JYz\n",
       "5CUsTLhbqKUp4K0mb4UxYWp+jRzJCKs7Uz/u6+RZ8MPRaHG9+lXxrc8yL2e8ROYjbe3mNstcWK3L\n",
       "ctZQ1tO3/quzxAseLuY7obN6lSZ597cLL7RzyvB5yFXDXophwf0Dz0VtpdFwr2Ww0XsEUx1k9GTk\n",
       "bqy9NIV8Z4GCYEQ0v+12blRAzU+l6tVcprrqbGvLyYouOJE7IfWr8rFT9m0herqfI7bwrc6KGCPk\n",
       "UUQARf3cQaPKcoK7gupFz7vDRvnKBWEF0WAlPbX4QcGbbMm419QKAb9nAAuyw15rug8AAADMAZ42\n",
       "dEP/AA8tezIN9U8JZnoAP6Q+YQGN41SnC7erRKCSrF4xDCtLbENp+KVEHnCSmVeej0/N0eW+H3Fp\n",
       "FEFcQ7Usu62thU0R5ZvJnBw6sR32+qM+CupB5VdVjmictTp4IAsjbaevsu7c6FAdVuRkHDIeiXLe\n",
       "g3DwDT5Fkp2y0bHfAfBv3jZqLhTYTkraiDhWBfAZ4xEpZVihCFobDAF//VpWGTql/Yei1ZQYaHHS\n",
       "oxJRYskbMmIA0/8GVBi3APLEpXcUF1bSAABfNE6hAAAArQGeOGpD/wAH2hlZPBqcXgBbCIg5Exfc\n",
       "yI5Qa/FI9qmdf5gKsjllGypQqF3uHyuWNr8myjXlC1KPIcqux6OLZJ9xvizbNBbNn21xD0UloScJ\n",
       "Qz7WadR79wtG2KqX0APHoiKgupge3hkz3YK84wrLjhFJvOyehC2u0Rq3KqcL0N74aqLeRVgrGQwO\n",
       "KF40PrGFjtMJE6JsyaJxpH6BTuIMUvkVU0znClIAAikLzHZwAAAC7UGaPUmoQWiZTAgn//61KoAF\n",
       "uAZawAN0MKgCU7bx5lLeGg85XOQ16K50aWzMJsTuYtal4uVp+8AUH2UmOrddyFJPiBV5Ds5tikQg\n",
       "4b+P2/q9PbXIghCgMNjRBre545EVWt5k+0C/T2tFNuP83vdAEtPr5SLVCjvpLpgwlUOsa1tWeIpS\n",
       "V1aHBwEJC+Gvf9vOj7/DkdF+LHe2NaefO7F4K/hpnMob64rA1rjbkt+C73ReGueLj1LTj4QsGN2k\n",
       "Y7VlWT9EFk4lgWHzmZXa3FlG/f/FBKEusdrTYGYBSjJ7CELSmihxlKvSoQjtdlMTko5sMcmSeLmh\n",
       "2ZRFUAvICTYDUJjeACadHROHSo0M8s1G9MQXQ7aZjBQXUnY4oMRaBEgaznT/joURFuYTi5K4eW6A\n",
       "TaB7v/LtnEEQTU7xA4fK1k8w/9CidSc1Wv+OwQvU4DcoeAgEInv+RxkHqho64vycE7XbNHFJu9FW\n",
       "Fwlkb7rWawCG+m69p3gC91/yE3++9Cuzmbj+/mjZbiNOUgP8mhJsf7ppQWyJBrkzmo0OFRC/l1x/\n",
       "QCYbjpfUr/pfkAav/FC7q7WZgr65beTf1zMPtvM+irSKUbrsnE/wRJcO3guaui5xKAa8rO1WIzjw\n",
       "LCw/0TXfUZkymPP0xpgONuiA2vJOWuGBMkeYqjZ7w8LnUTlHv7sZYFF1ac4nm44zwF6P51UGcfh7\n",
       "b0TKBVKkyPx5pd5Ar1MLm8l+jLLkYirAZbdJVDaRYc4CziD7tE3iWlBw0ErS6qv8YhmSaYmNTTuP\n",
       "mZ39MZSAq16Dn9CQVB2fTQYYpqlTCtVK4E6TC6oldJlD9bKmT7pftXuaCJuv0el0uGAoCowpa6TX\n",
       "rfGsi+EylhMuYGLJR8wb1tOjSnrWLExEaZXezJFWf/ahpU2b9V+fZYspwiytPegIgLa1N+1N98Z6\n",
       "nBghgiFHSwhErdYaS/+Vm0CoMdrf0KIkRWYXkoHPO6+knqzBrxhiCXXFNl9b+4TRAAAA40GeW0UR\n",
       "LBD/AAbnLIeARH8uRJuYMAKtBx4LLyymgBbpTqektMl5HYR/b86FlYkE6stZBVifYvoY+8rbVmWM\n",
       "xxyy++a8EAy4iK/9SAPPTGjWLRVPwES4vwHsr+Hv3Gc2Rwp+XfgIwNufEl0gOi5OJDWV3M/yofFp\n",
       "WibRGx2UbuLkE+/oGPSZqQ3IGKQIRmVjDV8dVsKXlWf2NFE51i+dYgL/WkOb+BY29jd3Ka/UI70B\n",
       "nTaNSJO9PHSmevFSy84lcBHmbGdQx0nK7R/alNzF8kdlzdEBGwEK8Df4r1weAADoBPOAAAAAdgGe\n",
       "enRD/wAEFjNrLLw64qqa/YATNqPZV8ShUTsazvJ5JPpT31Jrb9/X7UjW5KnMMtG2NXGcL7gzI27g\n",
       "PviFRvM1mGI7X/pA6Qn00BA7Bdgv4zxXxVQeQjmpAx96+1svtKK7xZSFnA0u5Ini037KuJgRABGU\n",
       "XVEAAABlAZ58akP/AAQWVmjYy9JxCbACausCNPB+soCMQT1ZwLVk4noJdInfVngSXX16y+6lB26e\n",
       "sDbDmcvsF5xwAuRp7JEn7AqaQtyudbCEf0KanT24I9fy8B5oRg5sL4ufiSlAASDXEEEAAAL3QZph\n",
       "SahBbJlMCCf//rUqgAW4mAuY0LdABO6lSu3H+63G6sFKPOo8BY3kWC42oXLxBUtJ+YG+hYZS8jbB\n",
       "uRFi54xXbtr/2L6ouvejF73GXsUyDkx/TRS0Xs+uMvxM74l/NechetSNyBBAxJ+4WN/SLVz7soU1\n",
       "cTZubBZlxG87Y05l173mWnhveelEfr2kPkwH5xHGGr5QiEjMuotJsk7NVstWciYvROenNEZSt/TO\n",
       "agHU8UvZFxx6S/3k7TLsH/xBvwtKESZZweof9DdmNz3GdEur8d222daFikii9Ox9As3f38OIgXyO\n",
       "wrKqDTGzZlZpYItDVAQHENZ9NBvSgj5oAputmA4M5bC83lILNakjhfJ65li5JSeZqguG2ZcWhxeS\n",
       "5a8DhBUDNzHdm2MQHZrghNf8SF4/ufIjcgBlS3FW+I13z9OFR/AETiRe5zQbPwNUTsyiJZIKxlMC\n",
       "MeWVANBG035/EBTlFZwhLPGjnOXDHG9uFq4kwVdotAJVR5Fqu4/yBbfpm75N/rHRsmbPVYufvWrs\n",
       "xO3wnzmdmofAwo/LVaqUUlfxeWMCvMA42wVqPN1UF8Zvm77+NzY47Vl6FGEzppsPkCbI2W0CDBDv\n",
       "Qg66SkGUEsZ0ZkiWL7S/6bXx2VV+N1TIY0nfeQYFx0Iuu0jCUn4O+Zwiv8ZodGzLDV1TC1izx3ci\n",
       "DCm/gVSsciyeK03qu6F7eubx4x+D8C7jNQCMBlTPoIGq60tZehAq9/R9LQdAFbM8yKq0Srrq+8EA\n",
       "uzcXavSj+n8Dgpe+JVtcsWrrrQHQGwd7dNzDFGg+TvOwYBlhJOFxSxwvE0eHl5KFM0A7zxvWde8I\n",
       "UH0KIy1zRUpFnKKXU6BGbQIY8Tbcbq8MMYQmLtIofWTAnPSE8tF0eyQi+zYGpakn/PRlfvKp2oy0\n",
       "l2kn+BKBf0v+8nloEQpSrHx9dVp5gVan+vAPBjjnzJfK1n//KUlaWiLQtxoSalFH7MRWMiZJtocf\n",
       "cDf385IeurU+RKcJoW9AAAAA7kGen0UVLBD/AAcRUTXYyaAAnZDorG9iKTl+5wXEyDJ3lUhdiNQP\n",
       "/9ZFazFyxAxnOLMFjvcwvyf58M918wutXYHghJzhLuf3wVAI8H4Q4FCRei36HlsqYWeN/lnHbsZw\n",
       "i4PFwkWOVadw2YyNgN8QNWbUtR+y7w6by2h8PXZRlKIZDn0BORwUL2gyqxjgkvBfKODsJ9dtCibM\n",
       "wWA2SisnpsazBCdyGIWwylmKptHDBUN3BqS4Ewyd+euBiKasB9sx2VOMH7E4yVQCqhMMq9kBdPq4\n",
       "5sn3xpf8HKNnSY1qOzbIsD3bPMFCAAVmHjMUy4AAAABJAZ6+dEP/AAQKI+/APTHd3erLaG2aMQI4\n",
       "+QACc6BZPjnWkRXsR01Qhkb1bFyTzbdDCmDMvbgqo8eEqEPulA2q0dnOaKIAP1uP0QAAAFABnqBq\n",
       "Q/8ABAoj77/mBF6XK80TFzoATlypIKiUO1GSiaoZaGR4GWISmTP+lU+QbXYjJ2sKsum0bY9VFryX\n",
       "UP+DQtjVSoMrfh63y1AAHmUCkgAAAexBmqVJqEFsmUwII//+tSqABbiBY1dZGkACavoWoxOj6RY2\n",
       "1dD8AmXVHRSz0+EdkYNHN899bXoJeF9xHhe+2rbKqKVZe38XXP79YytoD+SX5k5O5GgSdWtDxR6Y\n",
       "aBYKO6mQR3dGawqQwt5QfiiZEIYnGX2/DxsBvAEm2Bp6oXoVypb+4DS84W7INYpBWWRRzNQprq+z\n",
       "pjchZfB2/QeRIIixrZqaQGhWJaHsq3TmsednTtCeE9WGE2TUpiMrDXDGBdbmVwofX6T5bVAKq2ZH\n",
       "qPfYp0hcsC475WsZ429z10wfpIWJLGlMo3NbQCs4kcXT3t7nwgzqLZqx6Y3fN+C87TT4V9rNOmNf\n",
       "GqsuWLwBeqncWv8+ah6S6EVyLQleWOiaBFeTP8IlqMKoDDPs31m4fsWTyYDvYKQ9nWgX9qAn516a\n",
       "hwdX2o1J2DC3eyfGQGApOcl88Av5EcEUBJ3HkOpczHK/ljk3t5VQjrZbfWXW069lOk7BiKlHCS7N\n",
       "St6c3mdSC1pyA59Dv7JUSH95X7l1jSpbVX4yOVvPbQFz/x6kSJzeaS2l1RDeCldpOkU5tNhm0Vjb\n",
       "n3d97fk2woIloLcRpkmj7WapSBDS01omcDOUtaI6IiMd6/CZDIpAAdp3jWEO9aQIffsoOqZVpCYk\n",
       "o/EAAADnQZ7DRRUsEP8ABxNPx5JoACdj1bxMBBiav6yJXJuHt4G+WIRFlXofurtEK0syF5isTwl8\n",
       "79tPZ7iKZWiKNm0SE9TFeJ1mu8m/6d+BMpDB8Sff0Q+xlYNYYmh7PeFPWnC93vA6RwxqA+D15EBP\n",
       "H94UkQpeTHffKoWfJsDnyexhbxHbqzW/q+8T03+s5VuhjCQ1H9BuqjBQyyI5AROD/xBnZW1swBSb\n",
       "i5AB8jmmBWccUO0gv7qoUCrN7xDJA7lyrer16zeYOGDL9s6rimJF3UsL81ylU1g+KJf91Hz+BINB\n",
       "AAeN2tDdCFNgAAAASAGe4nRD/wAPWWUFSeeMhYJXENy9a1Eot6AD5YF/+qG2Qdby9DRLIi4N2g9L\n",
       "WE4EIWwAeVmme6L/XFiNrK5bmnYAL7ofY/pseQAAAD8BnuRqQ/8ABCokJJIDn6qBA+jYptZtYRr9\n",
       "4PQATlypDBZ8iXsb+V70+DhvoWsmiFNCkHjquy+wABR4Fyg/JrsAAAEOQZrnSahBbJlMFEw///6p\n",
       "lgAsoLR78xjYAQp7MxIa3whGjwQrpgf8kAwbCw8VMxqs4uc37dGQD9EZJkHBEkp9oZ0TUBAT8Y1L\n",
       "oLe7wtWgKkUDmD/tZWuaaXJyo31vvSsGhezub3+sTzpJp0J6p3/hj4yA1v1MpYqs4+L0TDZSM9s/\n",
       "th04J/NFEfFvfJnh8frBK6fOsDiS0EsJ4NjWlFAPwsf4U2aCZsR89u4cAOjo0DRIp5sfiUbw17/S\n",
       "XLsXHftljTdn3ZXunKO+00ZgV5wYVOIpDQYqIS+oADhtCcTTL/LDjhwgcWD48ui+TT9nb8JoWBZL\n",
       "xqjQCyYEE9Ds2tshvdOdbFJae+qsmb/9gW/RAAAAWQGfBmpD/wAPh2PtmpGsdSvo3XWOPdVCxMH6\n",
       "AE5afz8oawsd7pmVwELVF3AsguUiPc/2nVrp7JhVSP4Wv7kvsiCd8HKWax0sLJk5UeVA+kJXjCAB\n",
       "7us+/zmfAAAE221vb3YAAABsbXZoZAAAAAAAAAAAAAAAAAAAA+gAAB9AAAEAAAEAAAAAAAAAAAAA\n",
       "AAABAAAAAAAAAAAAAAAAAAAAAQAAAAAAAAAAAAAAAAAAQAAAAAAAAAAAAAAAAAAAAAAAAAAAAAAA\n",
       "AAAAAAAAAAIAAAQFdHJhawAAAFx0a2hkAAAAAwAAAAAAAAAAAAAAAQAAAAAAAB9AAAAAAAAAAAAA\n",
       "AAAAAAAAAAABAAAAAAAAAAAAAAAAAAAAAQAAAAAAAAAAAAAAAAAAQAAAAAH0AAABkAAAAAAAJGVk\n",
       "dHMAAAAcZWxzdAAAAAAAAAABAAAfQAAAEAAAAQAAAAADfW1kaWEAAAAgbWRoZAAAAAAAAAAAAAAA\n",
       "AAAAKAAAAUAAVcQAAAAAAC1oZGxyAAAAAAAAAAB2aWRlAAAAAAAAAAAAAAAAVmlkZW9IYW5kbGVy\n",
       "AAAAAyhtaW5mAAAAFHZtaGQAAAABAAAAAAAAAAAAAAAkZGluZgAAABxkcmVmAAAAAAAAAAEAAAAM\n",
       "dXJsIAAAAAEAAALoc3RibAAAALhzdHNkAAAAAAAAAAEAAACoYXZjMQAAAAAAAAABAAAAAAAAAAAA\n",
       "AAAAAAAAAAH0AZAASAAAAEgAAAAAAAAAAQAAAAAAAAAAAAAAAAAAAAAAAAAAAAAAAAAAAAAAAAAA\n",
       "ABj//wAAADZhdmNDAWQAFv/hABlnZAAWrNlAgDPn4QAAAwABAAADAAoPFi2WAQAGaOvjyyLA/fj4\n",
       "AAAAABx1dWlka2hA8l8kT8W6OaUbzwMj8wAAAAAAAAAYc3R0cwAAAAAAAAABAAAAKAAACAAAAAAU\n",
       "c3RzcwAAAAAAAAABAAAAAQAAARhjdHRzAAAAAAAAACEAAAAIAAAQAAAAAAEAACgAAAAAAQAAEAAA\n",
       "AAABAAAAAAAAAAEAAAgAAAAAAQAAGAAAAAABAAAIAAAAAAEAABgAAAAAAQAACAAAAAABAAAoAAAA\n",
       "AAEAABAAAAAAAQAAAAAAAAABAAAIAAAAAAEAABgAAAAAAQAACAAAAAABAAAoAAAAAAEAABAAAAAA\n",
       "AQAAAAAAAAABAAAIAAAAAAEAACgAAAAAAQAAEAAAAAABAAAAAAAAAAEAAAgAAAAAAQAAKAAAAAAB\n",
       "AAAQAAAAAAEAAAAAAAAAAQAACAAAAAABAAAoAAAAAAEAABAAAAAAAQAAAAAAAAABAAAIAAAAAAEA\n",
       "ABgAAAAAAQAACAAAAAAcc3RzYwAAAAAAAAABAAAAAQAAACgAAAABAAAAtHN0c3oAAAAAAAAAAAAA\n",
       "ACgAABg8AAADfQAABJEAAATBAAAC4AAAAsoAAAKoAAACkgAABGIAAAKlAAABGwAAAYsAAAO0AAAB\n",
       "jQAABJUAAAFTAAAFPQAAAhsAAAHKAAABYAAABF8AAAEAAAADjwAAAU8AAADQAAAAsQAAAvEAAADn\n",
       "AAAAegAAAGkAAAL7AAAA8gAAAE0AAABUAAAB8AAAAOsAAABMAAAAQwAAARIAAABdAAAAFHN0Y28A\n",
       "AAAAAAAAAQAAADAAAABidWR0YQAAAFptZXRhAAAAAAAAACFoZGxyAAAAAAAAAABtZGlyYXBwbAAA\n",
       "AAAAAAAAAAAAAC1pbHN0AAAAJal0b28AAAAdZGF0YQAAAAEAAAAATGF2ZjU4Ljc2LjEwMA==\n",
       "\">\n",
       "  Your browser does not support the video tag.\n",
       "</video>"
      ],
      "text/plain": [
       "<matplotlib.animation.FuncAnimation at 0x7a264f2e6440>"
      ]
     },
     "execution_count": 57,
     "metadata": {},
     "output_type": "execute_result"
    }
   ],
   "source": [
    "fig = plt.figure(dpi=100, figsize=(5, 4))\n",
    "plt.scatter(x, y)\n",
    "line, = plt.plot(x, lin(a_guess, b_guess, x))\n",
    "plt.close()\n",
    "\n",
    "def animate(i):\n",
    "  line.set_ydata(lin(a_guess, b_guess, x))\n",
    "  for i in range(10):\n",
    "    upd()\n",
    "  return line\n",
    "\n",
    "ani = animation.FuncAnimation(fig, animate, np.arange(0, 40), interval=200)\n",
    "ani"
   ]
  },
  {
   "cell_type": "code",
   "execution_count": 4,
   "metadata": {
    "id": "vtloTrQNb6Lb"
   },
   "outputs": [],
   "source": [
    "import numpy as np, math\n",
    "from numpy.random import normal, uniform, randint\n",
    "from numpy import uint8 as u8, newaxis\n",
    "from numpy.linalg import norm\n",
    "from __future__ import print_function, division\n",
    "np.random.seed(0)"
   ]
  },
  {
   "cell_type": "code",
   "execution_count": 5,
   "metadata": {
    "id": "QUnfzCqzjO6a"
   },
   "outputs": [],
   "source": [
    "n_input = 2; n_hidden = 15; n_out = 1; digits = 8"
   ]
  },
  {
   "cell_type": "code",
   "execution_count": 6,
   "metadata": {
    "colab": {
     "base_uri": "https://localhost:8080/"
    },
    "id": "MiVTsr9Cjsjs",
    "outputId": "0230cdac-f29b-4351-bac5-51de47d02aae"
   },
   "outputs": [
    {
     "data": {
      "text/plain": [
       "array([ 54,  59, 110, 140,  60, 119, 109, 155, 129, 149], dtype=uint8)"
      ]
     },
     "execution_count": 6,
     "metadata": {},
     "output_type": "execute_result"
    }
   ],
   "source": [
    "inp_i = randint(0, 127,  size=(10000, n_input), dtype=u8)\n",
    "out_i = np.sum(inp_i, n_out).astype(u8)\n",
    "out_i[:10]"
   ]
  },
  {
   "cell_type": "code",
   "execution_count": 7,
   "metadata": {
    "id": "GiNyzZrFjuxn"
   },
   "outputs": [],
   "source": [
    "def to_bin(nums):\n",
    "  rank = len(nums.shape)\n",
    "  return np.unpackbits(np.expand_dims(nums, rank), rank)"
   ]
  },
  {
   "cell_type": "code",
   "execution_count": 8,
   "metadata": {
    "colab": {
     "base_uri": "https://localhost:8080/"
    },
    "id": "gDwtqFZUmRUv",
    "outputId": "4868d60a-9dd3-4241-ca68-bc20b16cf113"
   },
   "outputs": [
    {
     "data": {
      "text/plain": [
       "array([[0, 1, 1, 0, 1, 0, 0, 1],\n",
       "       [0, 0, 0, 0, 0, 0, 1, 1]], dtype=uint8)"
      ]
     },
     "execution_count": 8,
     "metadata": {},
     "output_type": "execute_result"
    }
   ],
   "source": [
    "to_bin(np.array([105, 3], dtype=u8))"
   ]
  },
  {
   "cell_type": "code",
   "execution_count": 9,
   "metadata": {
    "colab": {
     "base_uri": "https://localhost:8080/"
    },
    "id": "y1ZS8wD_mYBl",
    "outputId": "b7f330a2-ce02-4d03-e9b3-66403e4674a7"
   },
   "outputs": [
    {
     "data": {
      "text/plain": [
       "array([[[0, 0, 1, 1, 0, 1, 0, 0],\n",
       "        [0, 1, 0, 1, 0, 0, 0, 0]],\n",
       "\n",
       "       [[0, 0, 1, 1, 0, 0, 0, 0],\n",
       "        [1, 1, 1, 1, 0, 1, 0, 0]],\n",
       "\n",
       "       [[0, 1, 0, 1, 0, 1, 0, 0],\n",
       "        [0, 0, 1, 0, 0, 0, 1, 0]]], dtype=uint8)"
      ]
     },
     "execution_count": 9,
     "metadata": {},
     "output_type": "execute_result"
    }
   ],
   "source": [
    "inp = to_bin(inp_i)[:, :, ::-1]\n",
    "inp[:3]"
   ]
  },
  {
   "cell_type": "code",
   "execution_count": 10,
   "metadata": {
    "colab": {
     "base_uri": "https://localhost:8080/"
    },
    "id": "cVBZTaiAmjEW",
    "outputId": "988e1e29-2a51-4ba3-b49a-2a4f8ead04a3"
   },
   "outputs": [
    {
     "data": {
      "text/plain": [
       "array([[0, 1, 1, 0, 1, 1, 0, 0],\n",
       "       [1, 1, 0, 1, 1, 1, 0, 0],\n",
       "       [0, 1, 1, 1, 0, 1, 1, 0]], dtype=uint8)"
      ]
     },
     "execution_count": 10,
     "metadata": {},
     "output_type": "execute_result"
    }
   ],
   "source": [
    "outp = to_bin(out_i)[:, ::-1]\n",
    "outp[:3]"
   ]
  },
  {
   "cell_type": "code",
   "execution_count": 30,
   "metadata": {
    "id": "XXabuwtCm5Ma"
   },
   "outputs": [],
   "source": [
    "from keras.models import Sequential, Model\n",
    "from keras.optimizers import SGD\n",
    "from keras.layers import Dense, Dropout, Activation, Input, SimpleRNN, LSTM, GRU, TimeDistributed\n",
    "from keras import backend as k, initializers"
   ]
  },
  {
   "cell_type": "code",
   "execution_count": 17,
   "metadata": {
    "colab": {
     "base_uri": "https://localhost:8080/"
    },
    "id": "L8TJW7wto3G6",
    "outputId": "d765308a-3b92-4392-f9e1-69909d700e51"
   },
   "outputs": [
    {
     "data": {
      "text/plain": [
       "((10000, 8, 2), (10000, 8, 1))"
      ]
     },
     "execution_count": 17,
     "metadata": {},
     "output_type": "execute_result"
    }
   ],
   "source": [
    "X = inp.transpose(0, 2, 1).astype(np.float32)\n",
    "Y = outp[:,:,newaxis].astype(np.float32)\n",
    "X.shape, Y.shape"
   ]
  },
  {
   "cell_type": "code",
   "execution_count": 18,
   "metadata": {
    "colab": {
     "base_uri": "https://localhost:8080/"
    },
    "id": "a5jv6d4MpgZq",
    "outputId": "b991d13f-de41-465f-e126-78ed2f821512"
   },
   "outputs": [
    {
     "data": {
      "text/plain": [
       "(10000, 8)"
      ]
     },
     "execution_count": 18,
     "metadata": {},
     "output_type": "execute_result"
    }
   ],
   "source": [
    "outp.shape"
   ]
  },
  {
   "cell_type": "code",
   "execution_count": 48,
   "metadata": {
    "colab": {
     "base_uri": "https://localhost:8080/",
     "height": 199
    },
    "id": "cM_BsuH5snPL",
    "outputId": "8ab96fbf-6a25-48a9-cc71-c941c143940d"
   },
   "outputs": [
    {
     "data": {
      "text/html": [
       "<pre style=\"white-space:pre;overflow-x:auto;line-height:normal;font-family:Menlo,'DejaVu Sans Mono',consolas,'Courier New',monospace\"><span style=\"font-weight: bold\">Model: \"sequential_8\"</span>\n",
       "</pre>\n"
      ],
      "text/plain": [
       "\u001b[1mModel: \"sequential_8\"\u001b[0m\n"
      ]
     },
     "metadata": {},
     "output_type": "display_data"
    },
    {
     "data": {
      "text/html": [
       "<pre style=\"white-space:pre;overflow-x:auto;line-height:normal;font-family:Menlo,'DejaVu Sans Mono',consolas,'Courier New',monospace\">┏━━━━━━━━━━━━━━━━━━━━━━━━━━━━━━━━━━━━━━┳━━━━━━━━━━━━━━━━━━━━━━━━━━━━━┳━━━━━━━━━━━━━━━━━┓\n",
       "┃<span style=\"font-weight: bold\"> Layer (type)                         </span>┃<span style=\"font-weight: bold\"> Output Shape                </span>┃<span style=\"font-weight: bold\">         Param # </span>┃\n",
       "┡━━━━━━━━━━━━━━━━━━━━━━━━━━━━━━━━━━━━━━╇━━━━━━━━━━━━━━━━━━━━━━━━━━━━━╇━━━━━━━━━━━━━━━━━┩\n",
       "│ simple_rnn_11 (<span style=\"color: #0087ff; text-decoration-color: #0087ff\">SimpleRNN</span>)            │ (<span style=\"color: #00d7ff; text-decoration-color: #00d7ff\">None</span>, <span style=\"color: #00af00; text-decoration-color: #00af00\">8</span>, <span style=\"color: #00af00; text-decoration-color: #00af00\">15</span>)               │             <span style=\"color: #00af00; text-decoration-color: #00af00\">270</span> │\n",
       "├──────────────────────────────────────┼─────────────────────────────┼─────────────────┤\n",
       "│ time_distributed_4 (<span style=\"color: #0087ff; text-decoration-color: #0087ff\">TimeDistributed</span>) │ (<span style=\"color: #00d7ff; text-decoration-color: #00d7ff\">None</span>, <span style=\"color: #00af00; text-decoration-color: #00af00\">8</span>, <span style=\"color: #00af00; text-decoration-color: #00af00\">1</span>)                │              <span style=\"color: #00af00; text-decoration-color: #00af00\">16</span> │\n",
       "└──────────────────────────────────────┴─────────────────────────────┴─────────────────┘\n",
       "</pre>\n"
      ],
      "text/plain": [
       "┏━━━━━━━━━━━━━━━━━━━━━━━━━━━━━━━━━━━━━━┳━━━━━━━━━━━━━━━━━━━━━━━━━━━━━┳━━━━━━━━━━━━━━━━━┓\n",
       "┃\u001b[1m \u001b[0m\u001b[1mLayer (type)                        \u001b[0m\u001b[1m \u001b[0m┃\u001b[1m \u001b[0m\u001b[1mOutput Shape               \u001b[0m\u001b[1m \u001b[0m┃\u001b[1m \u001b[0m\u001b[1m        Param #\u001b[0m\u001b[1m \u001b[0m┃\n",
       "┡━━━━━━━━━━━━━━━━━━━━━━━━━━━━━━━━━━━━━━╇━━━━━━━━━━━━━━━━━━━━━━━━━━━━━╇━━━━━━━━━━━━━━━━━┩\n",
       "│ simple_rnn_11 (\u001b[38;5;33mSimpleRNN\u001b[0m)            │ (\u001b[38;5;45mNone\u001b[0m, \u001b[38;5;34m8\u001b[0m, \u001b[38;5;34m15\u001b[0m)               │             \u001b[38;5;34m270\u001b[0m │\n",
       "├──────────────────────────────────────┼─────────────────────────────┼─────────────────┤\n",
       "│ time_distributed_4 (\u001b[38;5;33mTimeDistributed\u001b[0m) │ (\u001b[38;5;45mNone\u001b[0m, \u001b[38;5;34m8\u001b[0m, \u001b[38;5;34m1\u001b[0m)                │              \u001b[38;5;34m16\u001b[0m │\n",
       "└──────────────────────────────────────┴─────────────────────────────┴─────────────────┘\n"
      ]
     },
     "metadata": {},
     "output_type": "display_data"
    },
    {
     "data": {
      "text/html": [
       "<pre style=\"white-space:pre;overflow-x:auto;line-height:normal;font-family:Menlo,'DejaVu Sans Mono',consolas,'Courier New',monospace\"><span style=\"font-weight: bold\"> Total params: </span><span style=\"color: #00af00; text-decoration-color: #00af00\">286</span> (1.12 KB)\n",
       "</pre>\n"
      ],
      "text/plain": [
       "\u001b[1m Total params: \u001b[0m\u001b[38;5;34m286\u001b[0m (1.12 KB)\n"
      ]
     },
     "metadata": {},
     "output_type": "display_data"
    },
    {
     "data": {
      "text/html": [
       "<pre style=\"white-space:pre;overflow-x:auto;line-height:normal;font-family:Menlo,'DejaVu Sans Mono',consolas,'Courier New',monospace\"><span style=\"font-weight: bold\"> Trainable params: </span><span style=\"color: #00af00; text-decoration-color: #00af00\">286</span> (1.12 KB)\n",
       "</pre>\n"
      ],
      "text/plain": [
       "\u001b[1m Trainable params: \u001b[0m\u001b[38;5;34m286\u001b[0m (1.12 KB)\n"
      ]
     },
     "metadata": {},
     "output_type": "display_data"
    },
    {
     "data": {
      "text/html": [
       "<pre style=\"white-space:pre;overflow-x:auto;line-height:normal;font-family:Menlo,'DejaVu Sans Mono',consolas,'Courier New',monospace\"><span style=\"font-weight: bold\"> Non-trainable params: </span><span style=\"color: #00af00; text-decoration-color: #00af00\">0</span> (0.00 B)\n",
       "</pre>\n"
      ],
      "text/plain": [
       "\u001b[1m Non-trainable params: \u001b[0m\u001b[38;5;34m0\u001b[0m (0.00 B)\n"
      ]
     },
     "metadata": {},
     "output_type": "display_data"
    }
   ],
   "source": [
    "model = Sequential([\n",
    "    SimpleRNN(input_shape=(digits, n_input), units=n_hidden,\n",
    "              activation='sigmoid', return_sequences=True, kernel_initializer='random_normal'),\n",
    "    TimeDistributed(Dense(1, activation='sigmoid', kernel_initializer='random_normal'))\n",
    "])\n",
    "model.summary()"
   ]
  },
  {
   "cell_type": "code",
   "execution_count": 49,
   "metadata": {
    "id": "_5SSmHpitEhn"
   },
   "outputs": [],
   "source": [
    "sgd = SGD(learning_rate=0.3, momentum=0.9)\n",
    "model.compile(loss='mean_squared_error', optimizer=sgd, metrics=['accuracy'])"
   ]
  },
  {
   "cell_type": "code",
   "execution_count": 50,
   "metadata": {
    "colab": {
     "base_uri": "https://localhost:8080/"
    },
    "id": "kZOYkDeq6RyH",
    "outputId": "3beda49b-79f6-4511-b177-e0bac49d13ea"
   },
   "outputs": [
    {
     "name": "stdout",
     "output_type": "stream",
     "text": [
      "Epoch 1/10\n",
      "\u001b[1m313/313\u001b[0m \u001b[32m━━━━━━━━━━━━━━━━━━━━\u001b[0m\u001b[37m\u001b[0m \u001b[1m3s\u001b[0m 6ms/step - accuracy: 0.5010 - loss: 0.2505\n",
      "Epoch 2/10\n",
      "\u001b[1m313/313\u001b[0m \u001b[32m━━━━━━━━━━━━━━━━━━━━\u001b[0m\u001b[37m\u001b[0m \u001b[1m3s\u001b[0m 6ms/step - accuracy: 0.5016 - loss: 0.2505\n",
      "Epoch 3/10\n",
      "\u001b[1m313/313\u001b[0m \u001b[32m━━━━━━━━━━━━━━━━━━━━\u001b[0m\u001b[37m\u001b[0m \u001b[1m2s\u001b[0m 5ms/step - accuracy: 0.5030 - loss: 0.2507\n",
      "Epoch 4/10\n",
      "\u001b[1m313/313\u001b[0m \u001b[32m━━━━━━━━━━━━━━━━━━━━\u001b[0m\u001b[37m\u001b[0m \u001b[1m1s\u001b[0m 3ms/step - accuracy: 0.5097 - loss: 0.2501\n",
      "Epoch 5/10\n",
      "\u001b[1m313/313\u001b[0m \u001b[32m━━━━━━━━━━━━━━━━━━━━\u001b[0m\u001b[37m\u001b[0m \u001b[1m1s\u001b[0m 3ms/step - accuracy: 0.5317 - loss: 0.2467\n",
      "Epoch 6/10\n",
      "\u001b[1m313/313\u001b[0m \u001b[32m━━━━━━━━━━━━━━━━━━━━\u001b[0m\u001b[37m\u001b[0m \u001b[1m1s\u001b[0m 3ms/step - accuracy: 0.7455 - loss: 0.1950\n",
      "Epoch 7/10\n",
      "\u001b[1m313/313\u001b[0m \u001b[32m━━━━━━━━━━━━━━━━━━━━\u001b[0m\u001b[37m\u001b[0m \u001b[1m1s\u001b[0m 4ms/step - accuracy: 0.9249 - loss: 0.0828\n",
      "Epoch 8/10\n",
      "\u001b[1m313/313\u001b[0m \u001b[32m━━━━━━━━━━━━━━━━━━━━\u001b[0m\u001b[37m\u001b[0m \u001b[1m1s\u001b[0m 4ms/step - accuracy: 0.9356 - loss: 0.0547\n",
      "Epoch 9/10\n",
      "\u001b[1m313/313\u001b[0m \u001b[32m━━━━━━━━━━━━━━━━━━━━\u001b[0m\u001b[37m\u001b[0m \u001b[1m1s\u001b[0m 4ms/step - accuracy: 1.0000 - loss: 0.0120\n",
      "Epoch 10/10\n",
      "\u001b[1m313/313\u001b[0m \u001b[32m━━━━━━━━━━━━━━━━━━━━\u001b[0m\u001b[37m\u001b[0m \u001b[1m1s\u001b[0m 3ms/step - accuracy: 1.0000 - loss: 0.0043\n"
     ]
    }
   ],
   "source": [
    "model.fit(X, Y, epochs=10, batch_size=32);"
   ]
  },
  {
   "cell_type": "code",
   "execution_count": 61,
   "metadata": {
    "colab": {
     "base_uri": "https://localhost:8080/"
    },
    "id": "47PTLVXX6tEt",
    "outputId": "fa3e4437-bf17-44cb-fded-08322997a5cf"
   },
   "outputs": [
    {
     "name": "stdout",
     "output_type": "stream",
     "text": [
      "\u001b[1m1/1\u001b[0m \u001b[32m━━━━━━━━━━━━━━━━━━━━\u001b[0m\u001b[37m\u001b[0m \u001b[1m0s\u001b[0m 21ms/step\n"
     ]
    },
    {
     "data": {
      "text/plain": [
       "array([[0., 1., 1., 0., 1., 1., 0., 0.]], dtype=float32)"
      ]
     },
     "execution_count": 61,
     "metadata": {},
     "output_type": "execute_result"
    }
   ],
   "source": [
    "np.round(model.predict(X[0:1])[0]).T"
   ]
  },
  {
   "cell_type": "code",
   "execution_count": 75,
   "metadata": {
    "colab": {
     "base_uri": "https://localhost:8080/"
    },
    "id": "C4xciBGD7aSe",
    "outputId": "df75042e-df9b-4e8d-96c5-09d4f92282ba"
   },
   "outputs": [
    {
     "data": {
      "text/plain": [
       "array([[0., 1., 1., 0., 1., 1., 0., 0.]], dtype=float32)"
      ]
     },
     "execution_count": 75,
     "metadata": {},
     "output_type": "execute_result"
    }
   ],
   "source": [
    "Y[0:1][0].T"
   ]
  },
  {
   "cell_type": "code",
   "execution_count": 76,
   "metadata": {
    "colab": {
     "base_uri": "https://localhost:8080/"
    },
    "id": "eovi81R-8Tmb",
    "outputId": "f7e3192c-2063-4a38-ebaa-8c4d5953c1c6"
   },
   "outputs": [
    {
     "name": "stdout",
     "output_type": "stream",
     "text": [
      "\u001b[1m1/1\u001b[0m \u001b[32m━━━━━━━━━━━━━━━━━━━━\u001b[0m\u001b[37m\u001b[0m \u001b[1m0s\u001b[0m 22ms/step\n"
     ]
    },
    {
     "data": {
      "text/plain": [
       "True"
      ]
     },
     "execution_count": 76,
     "metadata": {},
     "output_type": "execute_result"
    }
   ],
   "source": [
    "np.allclose(np.round(model.predict(X[0:1])[0]).T, Y[0:1][0].T)"
   ]
  },
  {
   "cell_type": "code",
   "execution_count": null,
   "metadata": {
    "id": "MJu7ApCR8Wf5"
   },
   "outputs": [],
   "source": []
  }
 ],
 "metadata": {
  "colab": {
   "provenance": []
  },
  "kernelspec": {
   "display_name": "Python 3",
   "name": "python3"
  },
  "language_info": {
   "name": "python"
  }
 },
 "nbformat": 4,
 "nbformat_minor": 0
}
