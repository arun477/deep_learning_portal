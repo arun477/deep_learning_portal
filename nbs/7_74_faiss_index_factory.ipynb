{
 "cells": [
  {
   "cell_type": "code",
   "execution_count": null,
   "metadata": {
    "id": "uYdgKCM3XmLC"
   },
   "outputs": [],
   "source": [
    "!pip install -q faiss-cpu faiss-gpu sentence-transformers datasets"
   ]
  },
  {
   "cell_type": "code",
   "execution_count": 2,
   "metadata": {
    "id": "fhRgpeYHXrfo"
   },
   "outputs": [],
   "source": [
    "import shutil\n",
    "import urllib.request as request\n",
    "from contextlib import closing\n",
    "\n",
    "# first we download the Sift1M dataset\n",
    "with closing(request.urlopen('ftp://ftp.irisa.fr/local/texmex/corpus/sift.tar.gz')) as r:\n",
    "    with open('sift.tar.gz', 'wb') as f:\n",
    "        shutil.copyfileobj(r, f)\n",
    "import tarfile\n",
    "\n",
    "# the download leaves us with a tar.gz file, we unzip it\n",
    "tar = tarfile.open('sift.tar.gz', \"r:gz\")\n",
    "tar.extractall()\n",
    "import numpy as np\n",
    "\n",
    "# now define a function to read the fvecs file format of Sift1M dataset\n",
    "def read_fvecs(fp):\n",
    "    a = np.fromfile(fp, dtype='int32')\n",
    "    d = a[0]\n",
    "    return a.reshape(-1, d + 1)[:, 1:].copy().view('float32')\n",
    "# data we will search through\n",
    "xb = read_fvecs('./sift/sift_base.fvecs')  # 1M samples\n",
    "# also get some query vectors to search with\n",
    "xq = read_fvecs('./sift/sift_query.fvecs')\n",
    "# take just one query (there are many in sift_learn.fvecs)\n",
    "xq = xq[0].reshape(1, xq.shape[1])"
   ]
  },
  {
   "cell_type": "code",
   "execution_count": 3,
   "metadata": {
    "colab": {
     "base_uri": "https://localhost:8080/"
    },
    "id": "eiM0uA1CZfo3",
    "outputId": "f7808904-a76a-441c-b966-a3e360251c94"
   },
   "outputs": [
    {
     "data": {
      "text/plain": [
       "((1000000, 128), (1, 128))"
      ]
     },
     "execution_count": 3,
     "metadata": {},
     "output_type": "execute_result"
    }
   ],
   "source": [
    "xb.shape, xq.shape"
   ]
  },
  {
   "cell_type": "code",
   "execution_count": 4,
   "metadata": {
    "id": "iGJP3mQuZhJr"
   },
   "outputs": [],
   "source": [
    "import faiss\n",
    "\n",
    "d = xb.shape[1]\n",
    "quantizer = faiss.IndexFlatL2(d)\n",
    "index = faiss.IndexIVFFlat(quantizer, d, 256)"
   ]
  },
  {
   "cell_type": "code",
   "execution_count": 5,
   "metadata": {
    "id": "aaHQP0NHZyEq"
   },
   "outputs": [],
   "source": [
    "index_f = faiss.index_factory(d, 'IVF256,Flat')"
   ]
  },
  {
   "cell_type": "code",
   "execution_count": 6,
   "metadata": {
    "id": "MBqriiABaC8L"
   },
   "outputs": [],
   "source": [
    "k = 100\n",
    "dist, idx = index.search(xq, k=k)"
   ]
  },
  {
   "cell_type": "code",
   "execution_count": 7,
   "metadata": {
    "id": "Cs6QeQZHaJl0"
   },
   "outputs": [],
   "source": [
    "dist_f, idx_f = index_f.search(xq, k=k)"
   ]
  },
  {
   "cell_type": "code",
   "execution_count": 8,
   "metadata": {
    "colab": {
     "base_uri": "https://localhost:8080/"
    },
    "id": "g37ipVN_aNwk",
    "outputId": "940e428a-baa9-4c5b-8054-dbc65810545e"
   },
   "outputs": [
    {
     "data": {
      "text/plain": [
       "True"
      ]
     },
     "execution_count": 8,
     "metadata": {},
     "output_type": "execute_result"
    }
   ],
   "source": [
    "idx_f.tolist() == idx.tolist()"
   ]
  },
  {
   "cell_type": "code",
   "execution_count": 9,
   "metadata": {
    "id": "Ak5Z5H-NaSUD"
   },
   "outputs": [],
   "source": [
    "d = xb.shape[1]\n",
    "m = 32\n",
    "nbits = 8\n",
    "nlist = 256\n",
    "\n",
    "opq = faiss.OPQMatrix(d, m)\n",
    "vecs = faiss.IndexFlatL2(d)\n",
    "sub_index = faiss.IndexIVFPQ(vecs, d, nlist, m , nbits)\n",
    "index = faiss.IndexPreTransform(opq, sub_index)\n",
    "index = faiss.IndexRefineFlat(index)\n",
    "index.train(xb)\n",
    "index.add(xb)"
   ]
  },
  {
   "cell_type": "code",
   "execution_count": 10,
   "metadata": {
    "id": "f_IBdr7dagZx"
   },
   "outputs": [],
   "source": [
    "d = xb.shape[1]\n",
    "index = faiss.index_factory(d, \"OPQ32,IVF256,PQ32,RFlat\")\n",
    "index.train(xb)\n",
    "index.add(xb)"
   ]
  },
  {
   "cell_type": "code",
   "execution_count": 10,
   "metadata": {
    "id": "cYy6qw5GbVP3"
   },
   "outputs": [],
   "source": []
  }
 ],
 "metadata": {
  "accelerator": "GPU",
  "colab": {
   "gpuType": "T4",
   "provenance": []
  },
  "kernelspec": {
   "display_name": "Python 3",
   "name": "python3"
  },
  "language_info": {
   "name": "python"
  }
 },
 "nbformat": 4,
 "nbformat_minor": 0
}
