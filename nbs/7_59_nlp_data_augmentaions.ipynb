{
 "cells": [
  {
   "cell_type": "code",
   "execution_count": 1,
   "id": "09790ee4-671b-4aff-91c3-4f9736124a89",
   "metadata": {},
   "outputs": [
    {
     "data": {
      "text/plain": [
       "(Dataset({\n",
       "     features: ['sentence1', 'sentence2', 'label', 'idx'],\n",
       "     num_rows: 5749\n",
       " }),\n",
       " Dataset({\n",
       "     features: ['sentence1', 'sentence2', 'label', 'idx'],\n",
       "     num_rows: 1500\n",
       " }))"
      ]
     },
     "execution_count": 1,
     "metadata": {},
     "output_type": "execute_result"
    }
   ],
   "source": [
    "import datasets\n",
    "\n",
    "stsb = datasets.load_dataset('glue', 'stsb', split='train')\n",
    "stsb_dev = datasets.load_dataset('glue', 'stsb', split='validation')\n",
    "stsb, stsb_dev"
   ]
  },
  {
   "cell_type": "code",
   "execution_count": 4,
   "id": "3f2c7a17-6e48-4307-8f10-b420a47eee5e",
   "metadata": {},
   "outputs": [
    {
     "data": {
      "application/vnd.jupyter.widget-view+json": {
       "model_id": "abb273e92e284d938a5055987104284a",
       "version_major": 2,
       "version_minor": 0
      },
      "text/plain": [
       "Map:   0%|          | 0/5749 [00:00<?, ? examples/s]"
      ]
     },
     "metadata": {},
     "output_type": "display_data"
    }
   ],
   "source": [
    "stsb = stsb.map(lambda x: {'label': x['label']/5.0})"
   ]
  },
  {
   "cell_type": "code",
   "execution_count": 5,
   "id": "2923ecc6-b332-452e-9721-161655a09f5d",
   "metadata": {},
   "outputs": [],
   "source": [
    "stsb_dev = stsb_dev.map(lambda x: {'label': x['label']/5.0})"
   ]
  },
  {
   "cell_type": "code",
   "execution_count": 7,
   "id": "a7920232-e172-4cce-bd3b-7294d3542ea2",
   "metadata": {},
   "outputs": [],
   "source": [
    "from sentence_transformers import InputExample\n",
    "from torch.utils.data import DataLoader\n",
    "\n",
    "samples = [InputExample(texts=[row['sentence1'], row['sentence2']]) for row in stsb]\n",
    "batch_size = 16\n",
    "loader = DataLoader(samples, batch_size=batch_size, shuffle=True)"
   ]
  },
  {
   "cell_type": "code",
   "execution_count": 8,
   "id": "c072c45b-46e6-4bcb-a391-d55e674b2079",
   "metadata": {},
   "outputs": [
    {
     "name": "stderr",
     "output_type": "stream",
     "text": [
      "Some weights of BertForSequenceClassification were not initialized from the model checkpoint at bert-base-uncased and are newly initialized: ['classifier.bias', 'classifier.weight']\n",
      "You should probably TRAIN this model on a down-stream task to be able to use it for predictions and inference.\n"
     ]
    }
   ],
   "source": [
    "from sentence_transformers.cross_encoder import CrossEncoder\n",
    "\n",
    "model = CrossEncoder('bert-base-uncased', num_labels=1)"
   ]
  },
  {
   "cell_type": "code",
   "execution_count": 9,
   "id": "5858f67b-d77b-44b7-9a67-f98239823bd2",
   "metadata": {},
   "outputs": [
    {
     "data": {
      "application/vnd.jupyter.widget-view+json": {
       "model_id": "31c64988b0824590874fb9ba755ab78a",
       "version_major": 2,
       "version_minor": 0
      },
      "text/plain": [
       "Epoch:   0%|          | 0/1 [00:00<?, ?it/s]"
      ]
     },
     "metadata": {},
     "output_type": "display_data"
    },
    {
     "data": {
      "application/vnd.jupyter.widget-view+json": {
       "model_id": "8228f4eb0b2b4a0aa8e5a4c19c29f1bd",
       "version_major": 2,
       "version_minor": 0
      },
      "text/plain": [
       "Iteration:   0%|          | 0/360 [00:00<?, ?it/s]"
      ]
     },
     "metadata": {},
     "output_type": "display_data"
    }
   ],
   "source": [
    "num_epochs = 1\n",
    "warmup_steps = int(len(loader)*0.4*num_epochs)\n",
    "model.fit(\n",
    "    train_dataloader=loader,\n",
    "    epochs=num_epochs,\n",
    "    warmup_steps=warmup_steps,\n",
    "    output_path='bert-stsb-cross-encoder'\n",
    ")"
   ]
  },
  {
   "cell_type": "code",
   "execution_count": 25,
   "id": "8853b39c-b994-4b55-babb-b9227b9109e4",
   "metadata": {},
   "outputs": [],
   "source": [
    "model.save('bert-stsb-cross-encoder')"
   ]
  },
  {
   "cell_type": "code",
   "execution_count": 38,
   "id": "2d47e157-b4e3-45ea-abde-a9c575698b5a",
   "metadata": {},
   "outputs": [
    {
     "data": {
      "text/html": [
       "<div>\n",
       "<style scoped>\n",
       "    .dataframe tbody tr th:only-of-type {\n",
       "        vertical-align: middle;\n",
       "    }\n",
       "\n",
       "    .dataframe tbody tr th {\n",
       "        vertical-align: top;\n",
       "    }\n",
       "\n",
       "    .dataframe thead th {\n",
       "        text-align: right;\n",
       "    }\n",
       "</style>\n",
       "<table border=\"1\" class=\"dataframe\">\n",
       "  <thead>\n",
       "    <tr style=\"text-align: right;\">\n",
       "      <th></th>\n",
       "      <th>sentence1</th>\n",
       "      <th>sentence2</th>\n",
       "      <th>label</th>\n",
       "    </tr>\n",
       "  </thead>\n",
       "  <tbody>\n",
       "    <tr>\n",
       "      <th>0</th>\n",
       "      <td>A plane is taking off.</td>\n",
       "      <td>An air plane is taking off.</td>\n",
       "      <td>1.00</td>\n",
       "    </tr>\n",
       "    <tr>\n",
       "      <th>1</th>\n",
       "      <td>A man is playing a large flute.</td>\n",
       "      <td>A man is playing a flute.</td>\n",
       "      <td>0.76</td>\n",
       "    </tr>\n",
       "    <tr>\n",
       "      <th>2</th>\n",
       "      <td>A man is spreading shreded cheese on a pizza.</td>\n",
       "      <td>A man is spreading shredded cheese on an uncoo...</td>\n",
       "      <td>0.76</td>\n",
       "    </tr>\n",
       "    <tr>\n",
       "      <th>3</th>\n",
       "      <td>Three men are playing chess.</td>\n",
       "      <td>Two men are playing chess.</td>\n",
       "      <td>0.52</td>\n",
       "    </tr>\n",
       "    <tr>\n",
       "      <th>4</th>\n",
       "      <td>A man is playing the cello.</td>\n",
       "      <td>A man seated is playing the cello.</td>\n",
       "      <td>0.85</td>\n",
       "    </tr>\n",
       "  </tbody>\n",
       "</table>\n",
       "</div>"
      ],
      "text/plain": [
       "                                       sentence1  \\\n",
       "0                         A plane is taking off.   \n",
       "1                A man is playing a large flute.   \n",
       "2  A man is spreading shreded cheese on a pizza.   \n",
       "3                   Three men are playing chess.   \n",
       "4                    A man is playing the cello.   \n",
       "\n",
       "                                           sentence2  label  \n",
       "0                        An air plane is taking off.   1.00  \n",
       "1                          A man is playing a flute.   0.76  \n",
       "2  A man is spreading shredded cheese on an uncoo...   0.76  \n",
       "3                         Two men are playing chess.   0.52  \n",
       "4                 A man seated is playing the cello.   0.85  "
      ]
     },
     "execution_count": 38,
     "metadata": {},
     "output_type": "execute_result"
    }
   ],
   "source": [
    "import pandas as pd\n",
    "\n",
    "gold = datasets.load_dataset('glue', 'stsb', split='train')\n",
    "gold_df = pd.DataFrame({\n",
    "    'sentence1': gold['sentence1'],\n",
    "    'sentence2': gold['sentence2'],\n",
    "    'label': gold['label']\n",
    "})\n",
    "gold_df['label'] = gold_df['label'] / 5.0\n",
    "gold_df.head()"
   ]
  },
  {
   "cell_type": "code",
   "execution_count": 29,
   "id": "111c1d23-fce8-4929-88ef-945956b6b4aa",
   "metadata": {},
   "outputs": [
    {
     "name": "stdout",
     "output_type": "stream",
     "text": [
      "(27180, 2)\n"
     ]
    },
    {
     "data": {
      "text/html": [
       "<div>\n",
       "<style scoped>\n",
       "    .dataframe tbody tr th:only-of-type {\n",
       "        vertical-align: middle;\n",
       "    }\n",
       "\n",
       "    .dataframe tbody tr th {\n",
       "        vertical-align: top;\n",
       "    }\n",
       "\n",
       "    .dataframe thead th {\n",
       "        text-align: right;\n",
       "    }\n",
       "</style>\n",
       "<table border=\"1\" class=\"dataframe\">\n",
       "  <thead>\n",
       "    <tr style=\"text-align: right;\">\n",
       "      <th></th>\n",
       "      <th>sentence1</th>\n",
       "      <th>sentence2</th>\n",
       "    </tr>\n",
       "  </thead>\n",
       "  <tbody>\n",
       "    <tr>\n",
       "      <th>0</th>\n",
       "      <td>Former Zambian president arrested</td>\n",
       "      <td>Senate, House on collision course on border money</td>\n",
       "    </tr>\n",
       "    <tr>\n",
       "      <th>1</th>\n",
       "      <td>Former Zambian president arrested</td>\n",
       "      <td>Two girls are walking by a tree in front of a ...</td>\n",
       "    </tr>\n",
       "    <tr>\n",
       "      <th>2</th>\n",
       "      <td>Former Zambian president arrested</td>\n",
       "      <td>A man follows his black and white dog as it ta...</td>\n",
       "    </tr>\n",
       "    <tr>\n",
       "      <th>3</th>\n",
       "      <td>Former Zambian president arrested</td>\n",
       "      <td>Did the transaction take place?</td>\n",
       "    </tr>\n",
       "    <tr>\n",
       "      <th>4</th>\n",
       "      <td>Former Zambian president arrested</td>\n",
       "      <td>Madoff's brother to plead guilty to fraud</td>\n",
       "    </tr>\n",
       "  </tbody>\n",
       "</table>\n",
       "</div>"
      ],
      "text/plain": [
       "                           sentence1  \\\n",
       "0  Former Zambian president arrested   \n",
       "1  Former Zambian president arrested   \n",
       "2  Former Zambian president arrested   \n",
       "3  Former Zambian president arrested   \n",
       "4  Former Zambian president arrested   \n",
       "\n",
       "                                           sentence2  \n",
       "0  Senate, House on collision course on border money  \n",
       "1  Two girls are walking by a tree in front of a ...  \n",
       "2  A man follows his black and white dog as it ta...  \n",
       "3                    Did the transaction take place?  \n",
       "4          Madoff's brother to plead guilty to fraud  "
      ]
     },
     "execution_count": 29,
     "metadata": {},
     "output_type": "execute_result"
    }
   ],
   "source": [
    "from tqdm import tqdm\n",
    "\n",
    "silver = []\n",
    "for sentence1 in list(set(gold_df['sentence1'])):\n",
    "    sampled = gold_df[gold_df['sentence1'] != sentence1].sample(5)\n",
    "    sampled = sampled['sentence2'].tolist()\n",
    "    for sentence2 in sampled:\n",
    "        silver.append({'sentence1': sentence1, 'sentence2': sentence2})\n",
    "silver_df = pd.DataFrame(silver)\n",
    "print(silver_df.shape)\n",
    "silver_df.head()"
   ]
  },
  {
   "cell_type": "code",
   "execution_count": 31,
   "id": "d0ebd204-3e2a-450f-bf17-5b1a34d4a6ed",
   "metadata": {},
   "outputs": [
    {
     "name": "stdout",
     "output_type": "stream",
     "text": [
      "(27180, 2)\n",
      "(27177, 2)\n"
     ]
    }
   ],
   "source": [
    "# pairs_df = pd.concat([gold_df, silver_df])\n",
    "pairs_df = silver_df\n",
    "print(pairs_df.shape)\n",
    "pairs_df = pairs_df.drop_duplicates()\n",
    "print(pairs_df.shape)"
   ]
  },
  {
   "cell_type": "code",
   "execution_count": null,
   "id": "06a76a94-d81a-4f36-b15e-637047a8c6cf",
   "metadata": {},
   "outputs": [],
   "source": [
    "from sentence_transformers.cross_encoder import CrossEncoder\n",
    "cross_encoder = CrossEncoder('bert-stsb-cross-encoder')"
   ]
  },
  {
   "cell_type": "code",
   "execution_count": 33,
   "id": "b1013581-5bed-4837-84ff-aa0e882c8a3b",
   "metadata": {},
   "outputs": [
    {
     "data": {
      "text/plain": [
       "[('Former Zambian president arrested',\n",
       "  'Senate, House on collision course on border money'),\n",
       " ('Former Zambian president arrested',\n",
       "  'Two girls are walking by a tree in front of a brick building.')]"
      ]
     },
     "execution_count": 33,
     "metadata": {},
     "output_type": "execute_result"
    }
   ],
   "source": [
    "silver = list(zip(pairs_df['sentence1'], pairs_df['sentence2']))\n",
    "silver[:2]"
   ]
  },
  {
   "cell_type": "code",
   "execution_count": 34,
   "id": "8c6ece23-643e-4264-95e5-5ba62be302b6",
   "metadata": {},
   "outputs": [],
   "source": [
    "scores = cross_encoder.predict(silver)"
   ]
  },
  {
   "cell_type": "code",
   "execution_count": 35,
   "id": "7961bdac-fdb5-4db5-b876-76b698bce626",
   "metadata": {},
   "outputs": [
    {
     "name": "stderr",
     "output_type": "stream",
     "text": [
      "/tmp/ipykernel_20797/2123147960.py:1: SettingWithCopyWarning: \n",
      "A value is trying to be set on a copy of a slice from a DataFrame.\n",
      "Try using .loc[row_indexer,col_indexer] = value instead\n",
      "\n",
      "See the caveats in the documentation: https://pandas.pydata.org/pandas-docs/stable/user_guide/indexing.html#returning-a-view-versus-a-copy\n",
      "  pairs_df['label'] = scores.tolist()\n"
     ]
    },
    {
     "data": {
      "text/html": [
       "<div>\n",
       "<style scoped>\n",
       "    .dataframe tbody tr th:only-of-type {\n",
       "        vertical-align: middle;\n",
       "    }\n",
       "\n",
       "    .dataframe tbody tr th {\n",
       "        vertical-align: top;\n",
       "    }\n",
       "\n",
       "    .dataframe thead th {\n",
       "        text-align: right;\n",
       "    }\n",
       "</style>\n",
       "<table border=\"1\" class=\"dataframe\">\n",
       "  <thead>\n",
       "    <tr style=\"text-align: right;\">\n",
       "      <th></th>\n",
       "      <th>sentence1</th>\n",
       "      <th>sentence2</th>\n",
       "      <th>label</th>\n",
       "    </tr>\n",
       "  </thead>\n",
       "  <tbody>\n",
       "    <tr>\n",
       "      <th>0</th>\n",
       "      <td>Former Zambian president arrested</td>\n",
       "      <td>Senate, House on collision course on border money</td>\n",
       "      <td>0.000470</td>\n",
       "    </tr>\n",
       "    <tr>\n",
       "      <th>1</th>\n",
       "      <td>Former Zambian president arrested</td>\n",
       "      <td>Two girls are walking by a tree in front of a ...</td>\n",
       "      <td>0.000471</td>\n",
       "    </tr>\n",
       "    <tr>\n",
       "      <th>2</th>\n",
       "      <td>Former Zambian president arrested</td>\n",
       "      <td>A man follows his black and white dog as it ta...</td>\n",
       "      <td>0.000472</td>\n",
       "    </tr>\n",
       "    <tr>\n",
       "      <th>3</th>\n",
       "      <td>Former Zambian president arrested</td>\n",
       "      <td>Did the transaction take place?</td>\n",
       "      <td>0.000481</td>\n",
       "    </tr>\n",
       "    <tr>\n",
       "      <th>4</th>\n",
       "      <td>Former Zambian president arrested</td>\n",
       "      <td>Madoff's brother to plead guilty to fraud</td>\n",
       "      <td>0.000475</td>\n",
       "    </tr>\n",
       "  </tbody>\n",
       "</table>\n",
       "</div>"
      ],
      "text/plain": [
       "                           sentence1  \\\n",
       "0  Former Zambian president arrested   \n",
       "1  Former Zambian president arrested   \n",
       "2  Former Zambian president arrested   \n",
       "3  Former Zambian president arrested   \n",
       "4  Former Zambian president arrested   \n",
       "\n",
       "                                           sentence2     label  \n",
       "0  Senate, House on collision course on border money  0.000470  \n",
       "1  Two girls are walking by a tree in front of a ...  0.000471  \n",
       "2  A man follows his black and white dog as it ta...  0.000472  \n",
       "3                    Did the transaction take place?  0.000481  \n",
       "4          Madoff's brother to plead guilty to fraud  0.000475  "
      ]
     },
     "execution_count": 35,
     "metadata": {},
     "output_type": "execute_result"
    }
   ],
   "source": [
    "pairs_df['label'] = scores.tolist()\n",
    "pairs_df.head()"
   ]
  },
  {
   "cell_type": "code",
   "execution_count": 39,
   "id": "99a67296-8bd8-4100-9884-7b180439cb32",
   "metadata": {},
   "outputs": [
    {
     "name": "stdout",
     "output_type": "stream",
     "text": [
      "(32926, 3)\n"
     ]
    }
   ],
   "source": [
    "all_data_df = pd.concat([gold_df, pairs_df])\n",
    "print(all_data_df.shape)"
   ]
  },
  {
   "cell_type": "code",
   "execution_count": 40,
   "id": "966d12c6-5735-4798-8bae-b854f25a252b",
   "metadata": {},
   "outputs": [],
   "source": [
    "samples = [InputExample(texts=[row['sentence1'], row['sentence2']], label=float(row['label']))\\\n",
    "           for _, row in all_data_df.iterrows()]\n",
    "batch_size = 16\n",
    "loader = DataLoader(samples, batch_size=batch_size, shuffle=True)"
   ]
  },
  {
   "cell_type": "code",
   "execution_count": 41,
   "id": "0cf4df9a-2914-43bc-a754-3ca703f62839",
   "metadata": {},
   "outputs": [
    {
     "data": {
      "text/plain": [
       "2058"
      ]
     },
     "execution_count": 41,
     "metadata": {},
     "output_type": "execute_result"
    }
   ],
   "source": [
    "len(loader)"
   ]
  },
  {
   "cell_type": "code",
   "execution_count": 42,
   "id": "09f5e45f-184d-4e40-8b47-3727d0e5eead",
   "metadata": {},
   "outputs": [],
   "source": [
    "from sentence_transformers import models, SentenceTransformer\n",
    "\n",
    "bert = models.Transformer('bert-base-uncased')\n",
    "pooler = models.Pooling(\n",
    "    bert.get_word_embedding_dimension(),\n",
    "    pooling_mode_mean_tokens=True\n",
    ")\n",
    "model = SentenceTransformer(modules=[bert, pooler])"
   ]
  },
  {
   "cell_type": "code",
   "execution_count": 44,
   "id": "4ed1ea39-78c4-4aeb-8ca0-6d764be8705c",
   "metadata": {},
   "outputs": [],
   "source": [
    "from sentence_transformers import losses\n",
    "loss = losses.CosineSimilarityLoss(model=model)"
   ]
  },
  {
   "cell_type": "code",
   "execution_count": 45,
   "id": "4300723d-77e8-4f1c-ab3b-266bc8d6aa1c",
   "metadata": {},
   "outputs": [
    {
     "data": {
      "application/vnd.jupyter.widget-view+json": {
       "model_id": "50b2363bfa204064b179e74f8ed5c8c4",
       "version_major": 2,
       "version_minor": 0
      },
      "text/plain": [
       "Epoch:   0%|          | 0/1 [00:00<?, ?it/s]"
      ]
     },
     "metadata": {},
     "output_type": "display_data"
    },
    {
     "data": {
      "application/vnd.jupyter.widget-view+json": {
       "model_id": "8e7be08f5e8945ed9f20f63a243e2745",
       "version_major": 2,
       "version_minor": 0
      },
      "text/plain": [
       "Iteration:   0%|          | 0/2058 [00:00<?, ?it/s]"
      ]
     },
     "metadata": {},
     "output_type": "display_data"
    }
   ],
   "source": [
    "epochs = 1\n",
    "warmup_steps = int(len(loader) * epochs * 0.15)\n",
    "\n",
    "model.fit(\n",
    "    train_objectives=[(loader, loss)],\n",
    "    epochs=epochs,\n",
    "    warmup_steps=warmup_steps,\n",
    "    output_path='bert-stsb-aug'\n",
    ")"
   ]
  },
  {
   "cell_type": "code",
   "execution_count": null,
   "id": "42b17023-c42d-4435-8c78-8574fe0db378",
   "metadata": {},
   "outputs": [],
   "source": []
  }
 ],
 "metadata": {
  "kernelspec": {
   "display_name": "Python 3",
   "language": "python",
   "name": "python3"
  },
  "language_info": {
   "codemirror_mode": {
    "name": "ipython",
    "version": 3
   },
   "file_extension": ".py",
   "mimetype": "text/x-python",
   "name": "python",
   "nbconvert_exporter": "python",
   "pygments_lexer": "ipython3",
   "version": "3.10.10"
  }
 },
 "nbformat": 4,
 "nbformat_minor": 5
}
