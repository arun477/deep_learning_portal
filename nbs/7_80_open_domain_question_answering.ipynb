{
 "cells": [
  {
   "cell_type": "code",
   "execution_count": null,
   "metadata": {
    "id": "vqPsSMGsWwdu"
   },
   "outputs": [],
   "source": [
    "!pip install -q sentence-transformers datasets pinecone-client faiss-cpu faiss-gpu"
   ]
  },
  {
   "cell_type": "code",
   "execution_count": 18,
   "metadata": {
    "colab": {
     "base_uri": "https://localhost:8080/"
    },
    "id": "vmEGpJd-uCXO",
    "outputId": "04365ebb-3dbb-4bba-af77-863320db80a3"
   },
   "outputs": [
    {
     "data": {
      "text/plain": [
       "Dataset({\n",
       "    features: ['id', 'title', 'context', 'question', 'answers'],\n",
       "    num_rows: 10570\n",
       "})"
      ]
     },
     "execution_count": 18,
     "metadata": {},
     "output_type": "execute_result"
    }
   ],
   "source": [
    "import datasets\n",
    "squad = datasets.load_dataset('squad', split='validation')\n",
    "squad"
   ]
  },
  {
   "cell_type": "code",
   "execution_count": 19,
   "metadata": {
    "colab": {
     "base_uri": "https://localhost:8080/"
    },
    "id": "HZofIbDFvpgg",
    "outputId": "677abee9-12d5-4f38-b58e-e8c5876df5f6"
   },
   "outputs": [
    {
     "data": {
      "text/plain": [
       "{'id': '56be4db0acb8001400a502ec',\n",
       " 'title': 'Super_Bowl_50',\n",
       " 'context': 'Super Bowl 50 was an American football game to determine the champion of the National Football League (NFL) for the 2015 season. The American Football Conference (AFC) champion Denver Broncos defeated the National Football Conference (NFC) champion Carolina Panthers 24–10 to earn their third Super Bowl title. The game was played on February 7, 2016, at Levi\\'s Stadium in the San Francisco Bay Area at Santa Clara, California. As this was the 50th Super Bowl, the league emphasized the \"golden anniversary\" with various gold-themed initiatives, as well as temporarily suspending the tradition of naming each Super Bowl game with Roman numerals (under which the game would have been known as \"Super Bowl L\"), so that the logo could prominently feature the Arabic numerals 50.',\n",
       " 'question': 'Which NFL team represented the AFC at Super Bowl 50?',\n",
       " 'answers': {'text': ['Denver Broncos', 'Denver Broncos', 'Denver Broncos'],\n",
       "  'answer_start': [177, 177, 177]}}"
      ]
     },
     "execution_count": 19,
     "metadata": {},
     "output_type": "execute_result"
    }
   ],
   "source": [
    "squad[0]"
   ]
  },
  {
   "cell_type": "code",
   "execution_count": 20,
   "metadata": {
    "colab": {
     "base_uri": "https://localhost:8080/"
    },
    "id": "fajbAoElxdm9",
    "outputId": "a9f8b31d-01cd-4248-ee41-6c83d8f588bc"
   },
   "outputs": [
    {
     "name": "stderr",
     "output_type": "stream",
     "text": [
      "/usr/local/lib/python3.10/dist-packages/huggingface_hub/file_download.py:1132: FutureWarning: `resume_download` is deprecated and will be removed in version 1.0.0. Downloads always resume when possible. If you want to force a new download, use `force_download=True`.\n",
      "  warnings.warn(\n"
     ]
    }
   ],
   "source": [
    "from sentence_transformers import SentenceTransformer\n",
    "model = SentenceTransformer('multi-qa-MiniLM-L6-cos-v1')"
   ]
  },
  {
   "cell_type": "code",
   "execution_count": 21,
   "metadata": {
    "id": "ubTlGZ-DxjO4"
   },
   "outputs": [],
   "source": [
    "squad = squad.map(lambda x: {'encoding': model.encode(x['context']).tolist()}, batched=True, batch_size=32)"
   ]
  },
  {
   "cell_type": "code",
   "execution_count": 22,
   "metadata": {
    "colab": {
     "base_uri": "https://localhost:8080/"
    },
    "id": "vnU5vxKHx-r2",
    "outputId": "68b333a0-0866-4957-8eb0-526baa846d87"
   },
   "outputs": [
    {
     "data": {
      "text/plain": [
       "True"
      ]
     },
     "execution_count": 22,
     "metadata": {},
     "output_type": "execute_result"
    }
   ],
   "source": [
    "import faiss\n",
    "d = len(squad[0]['encoding'])\n",
    "cntx_index = faiss.IndexFlatL2(d)\n",
    "cntx_index.is_trained"
   ]
  },
  {
   "cell_type": "code",
   "execution_count": 23,
   "metadata": {
    "id": "T5IU7Og00PSz"
   },
   "outputs": [],
   "source": [
    "import numpy as np"
   ]
  },
  {
   "cell_type": "code",
   "execution_count": 24,
   "metadata": {
    "colab": {
     "base_uri": "https://localhost:8080/"
    },
    "id": "pSN8slqP0TyO",
    "outputId": "4257f006-a45a-4605-9ca3-81cf69bc1aac"
   },
   "outputs": [
    {
     "data": {
      "text/plain": [
       "(10570, 384)"
      ]
     },
     "execution_count": 24,
     "metadata": {},
     "output_type": "execute_result"
    }
   ],
   "source": [
    "cntxs =  np.array(squad['encoding'])\n",
    "cntxs.shape"
   ]
  },
  {
   "cell_type": "code",
   "execution_count": 25,
   "metadata": {
    "colab": {
     "base_uri": "https://localhost:8080/"
    },
    "id": "nCLq-r3VyWUP",
    "outputId": "b8062d59-d068-4885-f253-bcabcf561605"
   },
   "outputs": [
    {
     "name": "stdout",
     "output_type": "stream",
     "text": [
      "CPU times: user 9.75 ms, sys: 10 ms, total: 19.8 ms\n",
      "Wall time: 20.3 ms\n"
     ]
    }
   ],
   "source": [
    "%%time\n",
    "cntx_index.add(cntxs)"
   ]
  },
  {
   "cell_type": "code",
   "execution_count": 28,
   "metadata": {
    "colab": {
     "base_uri": "https://localhost:8080/"
    },
    "id": "fjiZpWkBzzFe",
    "outputId": "c6b96ab4-b05b-44e5-c533-d948a03df914"
   },
   "outputs": [
    {
     "data": {
      "text/plain": [
       "10570"
      ]
     },
     "execution_count": 28,
     "metadata": {},
     "output_type": "execute_result"
    }
   ],
   "source": [
    "cntx_index.ntotal"
   ]
  },
  {
   "cell_type": "code",
   "execution_count": 80,
   "metadata": {
    "colab": {
     "base_uri": "https://localhost:8080/"
    },
    "id": "5_qRS7b81R6Z",
    "outputId": "29e2c0f4-25f7-4084-984e-567c7ab08463"
   },
   "outputs": [
    {
     "data": {
      "text/plain": [
       "1"
      ]
     },
     "execution_count": 80,
     "metadata": {},
     "output_type": "execute_result"
    }
   ],
   "source": [
    "query = \"Which NFL team represented the AFC at Super Bowl 50?\"\n",
    "# query = \"What is the largest planet in our solar system?\"\n",
    "# query = 'Who wrote the book \"To Kill a Mockingbird?\"'\n",
    "# query = \"Who is the CEO of Tesla, Inc.?\"\n",
    "query = 'Where is a palm house with subtropic plants from all over the world on display?'\n",
    "qvec = model.encode([query]).tolist()\n",
    "len(qvec)"
   ]
  },
  {
   "cell_type": "code",
   "execution_count": 82,
   "metadata": {
    "colab": {
     "base_uri": "https://localhost:8080/"
    },
    "id": "eT1fFAQ31frQ",
    "outputId": "6c335990-0aae-41b3-91ab-65db8ba3a234"
   },
   "outputs": [
    {
     "name": "stdout",
     "output_type": "stream",
     "text": [
      "CPU times: user 4.01 ms, sys: 0 ns, total: 4.01 ms\n",
      "Wall time: 13.4 ms\n"
     ]
    },
    {
     "data": {
      "text/plain": [
       "array([[ 999, 1000, 1001, 1002, 1003, 2663, 2664, 2665, 2666, 1004]])"
      ]
     },
     "execution_count": 82,
     "metadata": {},
     "output_type": "execute_result"
    }
   ],
   "source": [
    "%%time\n",
    "dist, idx = cntx_index.search(np.array(qvec), k=10)\n",
    "idx"
   ]
  },
  {
   "cell_type": "code",
   "execution_count": 83,
   "metadata": {
    "colab": {
     "base_uri": "https://localhost:8080/"
    },
    "id": "b4VkQvnP1nMR",
    "outputId": "e37807dd-8a59-4947-cbef-a01131c67952"
   },
   "outputs": [
    {
     "data": {
      "text/plain": [
       "dict_keys(['id', 'title', 'context', 'question', 'answers', 'encoding'])"
      ]
     },
     "execution_count": 83,
     "metadata": {},
     "output_type": "execute_result"
    }
   ],
   "source": [
    "squad[idx[0]].keys()"
   ]
  },
  {
   "cell_type": "code",
   "execution_count": 84,
   "metadata": {
    "colab": {
     "base_uri": "https://localhost:8080/"
    },
    "id": "k3werloj1xBf",
    "outputId": "2fb70728-ecaa-460c-c61c-a747dd7b6080"
   },
   "outputs": [
    {
     "name": "stdout",
     "output_type": "stream",
     "text": [
      "Other green spaces in the city include the Botanic Garden and the University Library garden. They ha\n",
      "['green', 'green', 'green']\n",
      "573368044776f41900660a29\n",
      "------\n",
      "Other green spaces in the city include the Botanic Garden and the University Library garden. They ha\n",
      "['New Orangery', 'New Orangery', 'New Orangery']\n",
      "573368044776f41900660a2a\n",
      "------\n",
      "Other green spaces in the city include the Botanic Garden and the University Library garden. They ha\n",
      "['Pole Mokotowskie', 'Mokotów', 'Pole Mokotowskie']\n",
      "573368044776f41900660a2b\n",
      "------\n",
      "Other green spaces in the city include the Botanic Garden and the University Library garden. They ha\n",
      "['Park Ujazdowski', 'Park Ujazdowski', 'Park Ujazdowski']\n",
      "573368044776f41900660a2c\n",
      "------\n",
      "Other green spaces in the city include the Botanic Garden and the University Library garden. They ha\n",
      "['1927', '1927', '1927']\n",
      "573368044776f41900660a2d\n",
      "------\n",
      "Many locals and tourists frequent the southern California coast for its popular beaches, and the des\n",
      "['Palm Springs', 'Palm Springs', 'Palm Springs']\n",
      "5705eccb52bb8914006896b8\n",
      "------\n",
      "Many locals and tourists frequent the southern California coast for its popular beaches, and the des\n",
      "['beaches', 'for its popular beaches', 'beaches']\n",
      "5705eccb52bb8914006896b9\n",
      "------\n",
      "Many locals and tourists frequent the southern California coast for its popular beaches, and the des\n",
      "['southern', 'the desert', 'southern']\n",
      "5705eccb52bb8914006896ba\n",
      "------\n",
      "Many locals and tourists frequent the southern California coast for its popular beaches, and the des\n",
      "['open spaces', 'nearby open spaces', 'nearby open spaces']\n",
      "5705eccb52bb8914006896bb\n",
      "------\n",
      "The flora of the city may be considered very rich in species. The species richness is mainly due to \n",
      "['location of Warsaw', 'location of Warsaw', 'location']\n",
      "573368e54776f41900660a53\n",
      "------\n"
     ]
    }
   ],
   "source": [
    "for i in range(len(idx[0])):\n",
    "  print(squad[idx[0]]['context'][i][:100])\n",
    "  print(squad[idx[0]]['answers'][i]['text'])\n",
    "  print(squad[idx[0]]['id'][i])\n",
    "  print('------')"
   ]
  },
  {
   "cell_type": "code",
   "execution_count": 85,
   "metadata": {
    "colab": {
     "base_uri": "https://localhost:8080/"
    },
    "id": "PFysUl9k2Hbl",
    "outputId": "ba3be463-8a5d-4ed0-baa8-b79bfda903ef"
   },
   "outputs": [
    {
     "name": "stderr",
     "output_type": "stream",
     "text": [
      "/usr/local/lib/python3.10/dist-packages/huggingface_hub/file_download.py:1132: FutureWarning: `resume_download` is deprecated and will be removed in version 1.0.0. Downloads always resume when possible. If you want to force a new download, use `force_download=True`.\n",
      "  warnings.warn(\n"
     ]
    }
   ],
   "source": [
    "from transformers import pipeline\n",
    "model_id = 'deepset/electra-base-squad2'\n",
    "reader_model = pipeline(tokenizer=model_id, model=model_id, task='question-answering')"
   ]
  },
  {
   "cell_type": "code",
   "execution_count": 87,
   "metadata": {
    "colab": {
     "base_uri": "https://localhost:8080/"
    },
    "id": "gjKJ3XtW2Nlu",
    "outputId": "2d52de76-cd28-42f0-9a7a-d5a41f0029ca"
   },
   "outputs": [
    {
     "name": "stdout",
     "output_type": "stream",
     "text": [
      "Other green spaces in the city include the Botanic Garden and the University Library garden. They ha\n",
      "['green', 'green', 'green']\n",
      "query: Where is a palm house with subtropic plants from all over the world on display?\n",
      "pred answer:  {'score': 2.2183598957781214e-08, 'start': 39, 'end': 57, 'answer': 'the Botanic Garden'}\n",
      "------\n",
      "Other green spaces in the city include the Botanic Garden and the University Library garden. They ha\n",
      "['New Orangery', 'New Orangery', 'New Orangery']\n",
      "query: Where is a palm house with subtropic plants from all over the world on display?\n",
      "pred answer:  {'score': 2.2183598957781214e-08, 'start': 39, 'end': 57, 'answer': 'the Botanic Garden'}\n",
      "------\n",
      "Other green spaces in the city include the Botanic Garden and the University Library garden. They ha\n",
      "['Pole Mokotowskie', 'Mokotów', 'Pole Mokotowskie']\n",
      "query: Where is a palm house with subtropic plants from all over the world on display?\n",
      "pred answer:  {'score': 2.2183598957781214e-08, 'start': 39, 'end': 57, 'answer': 'the Botanic Garden'}\n",
      "------\n",
      "Other green spaces in the city include the Botanic Garden and the University Library garden. They ha\n",
      "['Park Ujazdowski', 'Park Ujazdowski', 'Park Ujazdowski']\n",
      "query: Where is a palm house with subtropic plants from all over the world on display?\n",
      "pred answer:  {'score': 2.2183598957781214e-08, 'start': 39, 'end': 57, 'answer': 'the Botanic Garden'}\n",
      "------\n",
      "Other green spaces in the city include the Botanic Garden and the University Library garden. They ha\n",
      "['1927', '1927', '1927']\n",
      "query: Where is a palm house with subtropic plants from all over the world on display?\n",
      "pred answer:  {'score': 2.2183598957781214e-08, 'start': 39, 'end': 57, 'answer': 'the Botanic Garden'}\n",
      "------\n",
      "Many locals and tourists frequent the southern California coast for its popular beaches, and the des\n",
      "['Palm Springs', 'Palm Springs', 'Palm Springs']\n",
      "query: Where is a palm house with subtropic plants from all over the world on display?\n",
      "pred answer:  {'score': 0.0003147753013763577, 'start': 38, 'end': 63, 'answer': 'southern California coast'}\n",
      "------\n",
      "Many locals and tourists frequent the southern California coast for its popular beaches, and the des\n",
      "['beaches', 'for its popular beaches', 'beaches']\n",
      "query: Where is a palm house with subtropic plants from all over the world on display?\n",
      "pred answer:  {'score': 0.0003147753013763577, 'start': 38, 'end': 63, 'answer': 'southern California coast'}\n",
      "------\n",
      "Many locals and tourists frequent the southern California coast for its popular beaches, and the des\n",
      "['southern', 'the desert', 'southern']\n",
      "query: Where is a palm house with subtropic plants from all over the world on display?\n",
      "pred answer:  {'score': 0.0003147753013763577, 'start': 38, 'end': 63, 'answer': 'southern California coast'}\n",
      "------\n",
      "Many locals and tourists frequent the southern California coast for its popular beaches, and the des\n",
      "['open spaces', 'nearby open spaces', 'nearby open spaces']\n",
      "query: Where is a palm house with subtropic plants from all over the world on display?\n",
      "pred answer:  {'score': 0.0003147753013763577, 'start': 38, 'end': 63, 'answer': 'southern California coast'}\n",
      "------\n",
      "The flora of the city may be considered very rich in species. The species richness is mainly due to \n",
      "['location of Warsaw', 'location of Warsaw', 'location']\n",
      "query: Where is a palm house with subtropic plants from all over the world on display?\n",
      "pred answer:  {'score': 1.6786055878625916e-09, 'start': 13, 'end': 21, 'answer': 'the city'}\n",
      "------\n"
     ]
    }
   ],
   "source": [
    "for i in range(len(idx[0])):\n",
    "  context = squad[idx[0]]['context'][i][:100]\n",
    "  answer = squad[idx[0]]['answers'][i]['text']\n",
    "  pred_answer = reader_model(question=query, context=context)\n",
    "\n",
    "  print(context)\n",
    "  print(answer)\n",
    "  print('query:', query)\n",
    "  print('pred answer: ', pred_answer)\n",
    "  print('------')"
   ]
  },
  {
   "cell_type": "code",
   "execution_count": 88,
   "metadata": {
    "colab": {
     "base_uri": "https://localhost:8080/",
     "height": 99,
     "referenced_widgets": [
      "e26f6018a42747b0a18bd76a92b1c313",
      "6f395b3ebfbb448d89ffda39d459387c",
      "3ee7870a3d444fa9b9f46a134d7c24c9",
      "c3b9e4835f0745ee8c4c0dd2c6d93a90",
      "f63c8b2fdbed4755a50d43f2ac8f0b35",
      "f3fcf30d8f584fb5bb7bd29d3cd76f9b",
      "60424e32af8145f28b107bd00cfc67e7",
      "443da4b8cdef49d290e58f4c5f5a8ba6",
      "a3d2d81839a04fbfbd83189d8eaca4c0",
      "006f1dca23254ced95dfd25c025a84a3",
      "16aac749389a445eb8f217b7f3e855de",
      "b721118f982a4622829a516fff511f75",
      "ce098ecd968947cd8cfaf9180a2d7afb",
      "008e481095934fde92a269f3228590d4",
      "31c1101a05374bea8b0e0958bcd87c42",
      "67c8f4bb5a9f42ccb682714850dd0b0b",
      "3f5eb8e6f1f64f99a57d84f77a809c01",
      "2dff60cff7b94b9980af6ba511fbfd9b",
      "ace7a273554e42aaa5a21ea1d7354dc4",
      "b71cc0b59d1b4d988dca11f1b8027678",
      "8144e4cecd41404c92b95b17062ba9bd",
      "d94f38d10eb444bd9765f130f17b2e2c",
      "837575e56f084ee788301e5586c4b64b"
     ]
    },
    "id": "Yw6hxdxb2Qpx",
    "outputId": "3fd2e20c-eb6d-4f4e-8764-6c5e2ae18917"
   },
   "outputs": [
    {
     "data": {
      "application/vnd.jupyter.widget-view+json": {
       "model_id": "e26f6018a42747b0a18bd76a92b1c313",
       "version_major": 2,
       "version_minor": 0
      },
      "text/plain": [
       "vocab.json:   0%|          | 0.00/899k [00:00<?, ?B/s]"
      ]
     },
     "metadata": {},
     "output_type": "display_data"
    },
    {
     "data": {
      "application/vnd.jupyter.widget-view+json": {
       "model_id": "6f395b3ebfbb448d89ffda39d459387c",
       "version_major": 2,
       "version_minor": 0
      },
      "text/plain": [
       "merges.txt:   0%|          | 0.00/456k [00:00<?, ?B/s]"
      ]
     },
     "metadata": {},
     "output_type": "display_data"
    },
    {
     "data": {
      "application/vnd.jupyter.widget-view+json": {
       "model_id": "ce098ecd968947cd8cfaf9180a2d7afb",
       "version_major": 2,
       "version_minor": 0
      },
      "text/plain": [
       "tokenizer.json:   0%|          | 0.00/1.36M [00:00<?, ?B/s]"
      ]
     },
     "metadata": {},
     "output_type": "display_data"
    }
   ],
   "source": [
    "model_id = 'yjernite/bart_eli5'\n",
    "gen_model = pipeline(model=model_id, tokenizer=model_id, task='text2text-generation')"
   ]
  },
  {
   "cell_type": "code",
   "execution_count": null,
   "metadata": {
    "colab": {
     "base_uri": "https://localhost:8080/"
    },
    "id": "iy0_CZsF6l_i",
    "outputId": "f3103b58-48f2-405a-c0a4-d4e2e51cd19a"
   },
   "outputs": [
    {
     "name": "stdout",
     "output_type": "stream",
     "text": [
      "Other green spaces in the city include the Botanic Garden and the University Library garden. They ha\n",
      "['green', 'green', 'green']\n",
      "query: Where is a palm house with subtropic plants from all over the world on display?\n",
      "pred answer:  [{'generated_text': ' Where is a palm house with a palm house with subtropic plants from all over the world on display?'}]\n",
      "------\n",
      "Other green spaces in the city include the Botanic Garden and the University Library garden. They ha\n",
      "['New Orangery', 'New Orangery', 'New Orangery']\n",
      "query: Where is a palm house with subtropic plants from all over the world on display?\n",
      "pred answer:  [{'generated_text': \" It is on display. There are plenty of palm houses with those plants on display all over the world on display. It's not that uncommon to see a palm house with them, but I've never seen one with plants from all over the world on display.\"}]\n",
      "------\n",
      "Other green spaces in the city include the Botanic Garden and the University Library garden. They ha\n",
      "['Pole Mokotowskie', 'Mokotów', 'Pole Mokotowskie']\n",
      "query: Where is a palm house with subtropic plants from all over the world on display?\n",
      "pred answer:  [{'generated_text': ' Where is a palm house with a palm house with subtropic plants from all over the world on display?'}]\n",
      "------\n",
      "Other green spaces in the city include the Botanic Garden and the University Library garden. They ha\n",
      "['Park Ujazdowski', 'Park Ujazdowski', 'Park Ujazdowski']\n",
      "query: Where is a palm house with subtropic plants from all over the world on display?\n",
      "pred answer:  [{'generated_text': ' Where is a palm house with a palm house with subtropic plants from all over the world on display?'}]\n",
      "------\n",
      "Other green spaces in the city include the Botanic Garden and the University Library garden. They ha\n",
      "['1927', '1927', '1927']\n",
      "query: Where is a palm house with subtropic plants from all over the world on display?\n",
      "pred answer:  [{'generated_text': ' I believe it\\'s called a palm house, and it\\'s commonly used in India to refer to a \"pal house with a palm house with a palm house\". Here is a picture of a palm house with a palm house on display:  URL_1   URL_2   URL_0 '}]\n",
      "------\n",
      "Many locals and tourists frequent the southern California coast for its popular beaches, and the des\n",
      "['Palm Springs', 'Palm Springs', 'Palm Springs']\n",
      "query: Where is a palm house with subtropic plants from all over the world on display?\n",
      "pred answer:  [{'generated_text': ' The first page of [this Wikipedia entry]( URL_0 ) has a list of [places]( URL_1 ) where you can buy a palm house.'}]\n",
      "------\n",
      "Many locals and tourists frequent the southern California coast for its popular beaches, and the des\n",
      "['beaches', 'for its popular beaches', 'beaches']\n",
      "query: Where is a palm house with subtropic plants from all over the world on display?\n",
      "pred answer:  [{'generated_text': ' It depends on the country you live in. In some countries they have special laws for this type of display. In other countries it is illegal.'}]\n",
      "------\n",
      "Many locals and tourists frequent the southern California coast for its popular beaches, and the des\n",
      "['southern', 'the desert', 'southern']\n",
      "query: Where is a palm house with subtropic plants from all over the world on display?\n",
      "pred answer:  [{'generated_text': ' Where is a palm house with a palm house on display?'}]\n",
      "------\n"
     ]
    }
   ],
   "source": [
    "for i in range(len(idx[0])):\n",
    "  context = squad[idx[0]]['context'][i][:100]\n",
    "  answer = squad[idx[0]]['answers'][i]['text']\n",
    "  pred_answer = gen_model(\n",
    "      f\"question: {query} context:{context}\",\n",
    "       num_beams=4,\n",
    "        do_sample=True,\n",
    "        temperature=1.5,\n",
    "        max_length=64\n",
    "  )\n",
    "\n",
    "  print(context)\n",
    "  print(answer)\n",
    "  print('query:', query)\n",
    "  print('pred answer: ', pred_answer)\n",
    "  print('------')"
   ]
  },
  {
   "cell_type": "code",
   "execution_count": null,
   "metadata": {
    "id": "mUG6_htD7BCU"
   },
   "outputs": [],
   "source": []
  }
 ],
 "metadata": {
  "accelerator": "GPU",
  "colab": {
   "gpuType": "T4",
   "provenance": []
  },
  "kernelspec": {
   "display_name": "Python 3",
   "name": "python3"
  },
  "language_info": {
   "name": "python"
  },
  "widgets": {
   "application/vnd.jupyter.widget-state+json": {
    "006f1dca23254ced95dfd25c025a84a3": {
     "model_module": "@jupyter-widgets/controls",
     "model_module_version": "1.5.0",
     "model_name": "ProgressStyleModel",
     "state": {
      "_model_module": "@jupyter-widgets/controls",
      "_model_module_version": "1.5.0",
      "_model_name": "ProgressStyleModel",
      "_view_count": null,
      "_view_module": "@jupyter-widgets/base",
      "_view_module_version": "1.2.0",
      "_view_name": "StyleView",
      "bar_color": null,
      "description_width": ""
     }
    },
    "008e481095934fde92a269f3228590d4": {
     "model_module": "@jupyter-widgets/controls",
     "model_module_version": "1.5.0",
     "model_name": "HTMLModel",
     "state": {
      "_dom_classes": [],
      "_model_module": "@jupyter-widgets/controls",
      "_model_module_version": "1.5.0",
      "_model_name": "HTMLModel",
      "_view_count": null,
      "_view_module": "@jupyter-widgets/controls",
      "_view_module_version": "1.5.0",
      "_view_name": "HTMLView",
      "description": "",
      "description_tooltip": null,
      "layout": "IPY_MODEL_2dff60cff7b94b9980af6ba511fbfd9b",
      "placeholder": "​",
      "style": "IPY_MODEL_ace7a273554e42aaa5a21ea1d7354dc4",
      "value": "tokenizer.json: 100%"
     }
    },
    "16aac749389a445eb8f217b7f3e855de": {
     "model_module": "@jupyter-widgets/base",
     "model_module_version": "1.2.0",
     "model_name": "LayoutModel",
     "state": {
      "_model_module": "@jupyter-widgets/base",
      "_model_module_version": "1.2.0",
      "_model_name": "LayoutModel",
      "_view_count": null,
      "_view_module": "@jupyter-widgets/base",
      "_view_module_version": "1.2.0",
      "_view_name": "LayoutView",
      "align_content": null,
      "align_items": null,
      "align_self": null,
      "border": null,
      "bottom": null,
      "display": null,
      "flex": null,
      "flex_flow": null,
      "grid_area": null,
      "grid_auto_columns": null,
      "grid_auto_flow": null,
      "grid_auto_rows": null,
      "grid_column": null,
      "grid_gap": null,
      "grid_row": null,
      "grid_template_areas": null,
      "grid_template_columns": null,
      "grid_template_rows": null,
      "height": null,
      "justify_content": null,
      "justify_items": null,
      "left": null,
      "margin": null,
      "max_height": null,
      "max_width": null,
      "min_height": null,
      "min_width": null,
      "object_fit": null,
      "object_position": null,
      "order": null,
      "overflow": null,
      "overflow_x": null,
      "overflow_y": null,
      "padding": null,
      "right": null,
      "top": null,
      "visibility": null,
      "width": null
     }
    },
    "2dff60cff7b94b9980af6ba511fbfd9b": {
     "model_module": "@jupyter-widgets/base",
     "model_module_version": "1.2.0",
     "model_name": "LayoutModel",
     "state": {
      "_model_module": "@jupyter-widgets/base",
      "_model_module_version": "1.2.0",
      "_model_name": "LayoutModel",
      "_view_count": null,
      "_view_module": "@jupyter-widgets/base",
      "_view_module_version": "1.2.0",
      "_view_name": "LayoutView",
      "align_content": null,
      "align_items": null,
      "align_self": null,
      "border": null,
      "bottom": null,
      "display": null,
      "flex": null,
      "flex_flow": null,
      "grid_area": null,
      "grid_auto_columns": null,
      "grid_auto_flow": null,
      "grid_auto_rows": null,
      "grid_column": null,
      "grid_gap": null,
      "grid_row": null,
      "grid_template_areas": null,
      "grid_template_columns": null,
      "grid_template_rows": null,
      "height": null,
      "justify_content": null,
      "justify_items": null,
      "left": null,
      "margin": null,
      "max_height": null,
      "max_width": null,
      "min_height": null,
      "min_width": null,
      "object_fit": null,
      "object_position": null,
      "order": null,
      "overflow": null,
      "overflow_x": null,
      "overflow_y": null,
      "padding": null,
      "right": null,
      "top": null,
      "visibility": null,
      "width": null
     }
    },
    "31c1101a05374bea8b0e0958bcd87c42": {
     "model_module": "@jupyter-widgets/controls",
     "model_module_version": "1.5.0",
     "model_name": "FloatProgressModel",
     "state": {
      "_dom_classes": [],
      "_model_module": "@jupyter-widgets/controls",
      "_model_module_version": "1.5.0",
      "_model_name": "FloatProgressModel",
      "_view_count": null,
      "_view_module": "@jupyter-widgets/controls",
      "_view_module_version": "1.5.0",
      "_view_name": "ProgressView",
      "bar_style": "success",
      "description": "",
      "description_tooltip": null,
      "layout": "IPY_MODEL_b71cc0b59d1b4d988dca11f1b8027678",
      "max": 1355863,
      "min": 0,
      "orientation": "horizontal",
      "style": "IPY_MODEL_8144e4cecd41404c92b95b17062ba9bd",
      "value": 1355863
     }
    },
    "3ee7870a3d444fa9b9f46a134d7c24c9": {
     "model_module": "@jupyter-widgets/controls",
     "model_module_version": "1.5.0",
     "model_name": "HTMLModel",
     "state": {
      "_dom_classes": [],
      "_model_module": "@jupyter-widgets/controls",
      "_model_module_version": "1.5.0",
      "_model_name": "HTMLModel",
      "_view_count": null,
      "_view_module": "@jupyter-widgets/controls",
      "_view_module_version": "1.5.0",
      "_view_name": "HTMLView",
      "description": "",
      "description_tooltip": null,
      "layout": "IPY_MODEL_60424e32af8145f28b107bd00cfc67e7",
      "placeholder": "​",
      "style": "IPY_MODEL_443da4b8cdef49d290e58f4c5f5a8ba6",
      "value": "merges.txt: 100%"
     }
    },
    "3f5eb8e6f1f64f99a57d84f77a809c01": {
     "model_module": "@jupyter-widgets/base",
     "model_module_version": "1.2.0",
     "model_name": "LayoutModel",
     "state": {
      "_model_module": "@jupyter-widgets/base",
      "_model_module_version": "1.2.0",
      "_model_name": "LayoutModel",
      "_view_count": null,
      "_view_module": "@jupyter-widgets/base",
      "_view_module_version": "1.2.0",
      "_view_name": "LayoutView",
      "align_content": null,
      "align_items": null,
      "align_self": null,
      "border": null,
      "bottom": null,
      "display": null,
      "flex": null,
      "flex_flow": null,
      "grid_area": null,
      "grid_auto_columns": null,
      "grid_auto_flow": null,
      "grid_auto_rows": null,
      "grid_column": null,
      "grid_gap": null,
      "grid_row": null,
      "grid_template_areas": null,
      "grid_template_columns": null,
      "grid_template_rows": null,
      "height": null,
      "justify_content": null,
      "justify_items": null,
      "left": null,
      "margin": null,
      "max_height": null,
      "max_width": null,
      "min_height": null,
      "min_width": null,
      "object_fit": null,
      "object_position": null,
      "order": null,
      "overflow": null,
      "overflow_x": null,
      "overflow_y": null,
      "padding": null,
      "right": null,
      "top": null,
      "visibility": null,
      "width": null
     }
    },
    "443da4b8cdef49d290e58f4c5f5a8ba6": {
     "model_module": "@jupyter-widgets/controls",
     "model_module_version": "1.5.0",
     "model_name": "DescriptionStyleModel",
     "state": {
      "_model_module": "@jupyter-widgets/controls",
      "_model_module_version": "1.5.0",
      "_model_name": "DescriptionStyleModel",
      "_view_count": null,
      "_view_module": "@jupyter-widgets/base",
      "_view_module_version": "1.2.0",
      "_view_name": "StyleView",
      "description_width": ""
     }
    },
    "60424e32af8145f28b107bd00cfc67e7": {
     "model_module": "@jupyter-widgets/base",
     "model_module_version": "1.2.0",
     "model_name": "LayoutModel",
     "state": {
      "_model_module": "@jupyter-widgets/base",
      "_model_module_version": "1.2.0",
      "_model_name": "LayoutModel",
      "_view_count": null,
      "_view_module": "@jupyter-widgets/base",
      "_view_module_version": "1.2.0",
      "_view_name": "LayoutView",
      "align_content": null,
      "align_items": null,
      "align_self": null,
      "border": null,
      "bottom": null,
      "display": null,
      "flex": null,
      "flex_flow": null,
      "grid_area": null,
      "grid_auto_columns": null,
      "grid_auto_flow": null,
      "grid_auto_rows": null,
      "grid_column": null,
      "grid_gap": null,
      "grid_row": null,
      "grid_template_areas": null,
      "grid_template_columns": null,
      "grid_template_rows": null,
      "height": null,
      "justify_content": null,
      "justify_items": null,
      "left": null,
      "margin": null,
      "max_height": null,
      "max_width": null,
      "min_height": null,
      "min_width": null,
      "object_fit": null,
      "object_position": null,
      "order": null,
      "overflow": null,
      "overflow_x": null,
      "overflow_y": null,
      "padding": null,
      "right": null,
      "top": null,
      "visibility": null,
      "width": null
     }
    },
    "67c8f4bb5a9f42ccb682714850dd0b0b": {
     "model_module": "@jupyter-widgets/controls",
     "model_module_version": "1.5.0",
     "model_name": "HTMLModel",
     "state": {
      "_dom_classes": [],
      "_model_module": "@jupyter-widgets/controls",
      "_model_module_version": "1.5.0",
      "_model_name": "HTMLModel",
      "_view_count": null,
      "_view_module": "@jupyter-widgets/controls",
      "_view_module_version": "1.5.0",
      "_view_name": "HTMLView",
      "description": "",
      "description_tooltip": null,
      "layout": "IPY_MODEL_d94f38d10eb444bd9765f130f17b2e2c",
      "placeholder": "​",
      "style": "IPY_MODEL_837575e56f084ee788301e5586c4b64b",
      "value": " 1.36M/1.36M [00:00&lt;00:00, 50.5MB/s]"
     }
    },
    "6f395b3ebfbb448d89ffda39d459387c": {
     "model_module": "@jupyter-widgets/controls",
     "model_module_version": "1.5.0",
     "model_name": "HBoxModel",
     "state": {
      "_dom_classes": [],
      "_model_module": "@jupyter-widgets/controls",
      "_model_module_version": "1.5.0",
      "_model_name": "HBoxModel",
      "_view_count": null,
      "_view_module": "@jupyter-widgets/controls",
      "_view_module_version": "1.5.0",
      "_view_name": "HBoxView",
      "box_style": "",
      "children": [
       "IPY_MODEL_3ee7870a3d444fa9b9f46a134d7c24c9",
       "IPY_MODEL_c3b9e4835f0745ee8c4c0dd2c6d93a90",
       "IPY_MODEL_f63c8b2fdbed4755a50d43f2ac8f0b35"
      ],
      "layout": "IPY_MODEL_f3fcf30d8f584fb5bb7bd29d3cd76f9b"
     }
    },
    "8144e4cecd41404c92b95b17062ba9bd": {
     "model_module": "@jupyter-widgets/controls",
     "model_module_version": "1.5.0",
     "model_name": "ProgressStyleModel",
     "state": {
      "_model_module": "@jupyter-widgets/controls",
      "_model_module_version": "1.5.0",
      "_model_name": "ProgressStyleModel",
      "_view_count": null,
      "_view_module": "@jupyter-widgets/base",
      "_view_module_version": "1.2.0",
      "_view_name": "StyleView",
      "bar_color": null,
      "description_width": ""
     }
    },
    "837575e56f084ee788301e5586c4b64b": {
     "model_module": "@jupyter-widgets/controls",
     "model_module_version": "1.5.0",
     "model_name": "DescriptionStyleModel",
     "state": {
      "_model_module": "@jupyter-widgets/controls",
      "_model_module_version": "1.5.0",
      "_model_name": "DescriptionStyleModel",
      "_view_count": null,
      "_view_module": "@jupyter-widgets/base",
      "_view_module_version": "1.2.0",
      "_view_name": "StyleView",
      "description_width": ""
     }
    },
    "a3d2d81839a04fbfbd83189d8eaca4c0": {
     "model_module": "@jupyter-widgets/base",
     "model_module_version": "1.2.0",
     "model_name": "LayoutModel",
     "state": {
      "_model_module": "@jupyter-widgets/base",
      "_model_module_version": "1.2.0",
      "_model_name": "LayoutModel",
      "_view_count": null,
      "_view_module": "@jupyter-widgets/base",
      "_view_module_version": "1.2.0",
      "_view_name": "LayoutView",
      "align_content": null,
      "align_items": null,
      "align_self": null,
      "border": null,
      "bottom": null,
      "display": null,
      "flex": null,
      "flex_flow": null,
      "grid_area": null,
      "grid_auto_columns": null,
      "grid_auto_flow": null,
      "grid_auto_rows": null,
      "grid_column": null,
      "grid_gap": null,
      "grid_row": null,
      "grid_template_areas": null,
      "grid_template_columns": null,
      "grid_template_rows": null,
      "height": null,
      "justify_content": null,
      "justify_items": null,
      "left": null,
      "margin": null,
      "max_height": null,
      "max_width": null,
      "min_height": null,
      "min_width": null,
      "object_fit": null,
      "object_position": null,
      "order": null,
      "overflow": null,
      "overflow_x": null,
      "overflow_y": null,
      "padding": null,
      "right": null,
      "top": null,
      "visibility": null,
      "width": null
     }
    },
    "ace7a273554e42aaa5a21ea1d7354dc4": {
     "model_module": "@jupyter-widgets/controls",
     "model_module_version": "1.5.0",
     "model_name": "DescriptionStyleModel",
     "state": {
      "_model_module": "@jupyter-widgets/controls",
      "_model_module_version": "1.5.0",
      "_model_name": "DescriptionStyleModel",
      "_view_count": null,
      "_view_module": "@jupyter-widgets/base",
      "_view_module_version": "1.2.0",
      "_view_name": "StyleView",
      "description_width": ""
     }
    },
    "b71cc0b59d1b4d988dca11f1b8027678": {
     "model_module": "@jupyter-widgets/base",
     "model_module_version": "1.2.0",
     "model_name": "LayoutModel",
     "state": {
      "_model_module": "@jupyter-widgets/base",
      "_model_module_version": "1.2.0",
      "_model_name": "LayoutModel",
      "_view_count": null,
      "_view_module": "@jupyter-widgets/base",
      "_view_module_version": "1.2.0",
      "_view_name": "LayoutView",
      "align_content": null,
      "align_items": null,
      "align_self": null,
      "border": null,
      "bottom": null,
      "display": null,
      "flex": null,
      "flex_flow": null,
      "grid_area": null,
      "grid_auto_columns": null,
      "grid_auto_flow": null,
      "grid_auto_rows": null,
      "grid_column": null,
      "grid_gap": null,
      "grid_row": null,
      "grid_template_areas": null,
      "grid_template_columns": null,
      "grid_template_rows": null,
      "height": null,
      "justify_content": null,
      "justify_items": null,
      "left": null,
      "margin": null,
      "max_height": null,
      "max_width": null,
      "min_height": null,
      "min_width": null,
      "object_fit": null,
      "object_position": null,
      "order": null,
      "overflow": null,
      "overflow_x": null,
      "overflow_y": null,
      "padding": null,
      "right": null,
      "top": null,
      "visibility": null,
      "width": null
     }
    },
    "b721118f982a4622829a516fff511f75": {
     "model_module": "@jupyter-widgets/controls",
     "model_module_version": "1.5.0",
     "model_name": "DescriptionStyleModel",
     "state": {
      "_model_module": "@jupyter-widgets/controls",
      "_model_module_version": "1.5.0",
      "_model_name": "DescriptionStyleModel",
      "_view_count": null,
      "_view_module": "@jupyter-widgets/base",
      "_view_module_version": "1.2.0",
      "_view_name": "StyleView",
      "description_width": ""
     }
    },
    "c3b9e4835f0745ee8c4c0dd2c6d93a90": {
     "model_module": "@jupyter-widgets/controls",
     "model_module_version": "1.5.0",
     "model_name": "FloatProgressModel",
     "state": {
      "_dom_classes": [],
      "_model_module": "@jupyter-widgets/controls",
      "_model_module_version": "1.5.0",
      "_model_name": "FloatProgressModel",
      "_view_count": null,
      "_view_module": "@jupyter-widgets/controls",
      "_view_module_version": "1.5.0",
      "_view_name": "ProgressView",
      "bar_style": "success",
      "description": "",
      "description_tooltip": null,
      "layout": "IPY_MODEL_a3d2d81839a04fbfbd83189d8eaca4c0",
      "max": 456318,
      "min": 0,
      "orientation": "horizontal",
      "style": "IPY_MODEL_006f1dca23254ced95dfd25c025a84a3",
      "value": 456318
     }
    },
    "ce098ecd968947cd8cfaf9180a2d7afb": {
     "model_module": "@jupyter-widgets/controls",
     "model_module_version": "1.5.0",
     "model_name": "HBoxModel",
     "state": {
      "_dom_classes": [],
      "_model_module": "@jupyter-widgets/controls",
      "_model_module_version": "1.5.0",
      "_model_name": "HBoxModel",
      "_view_count": null,
      "_view_module": "@jupyter-widgets/controls",
      "_view_module_version": "1.5.0",
      "_view_name": "HBoxView",
      "box_style": "",
      "children": [
       "IPY_MODEL_008e481095934fde92a269f3228590d4",
       "IPY_MODEL_31c1101a05374bea8b0e0958bcd87c42",
       "IPY_MODEL_67c8f4bb5a9f42ccb682714850dd0b0b"
      ],
      "layout": "IPY_MODEL_3f5eb8e6f1f64f99a57d84f77a809c01"
     }
    },
    "d94f38d10eb444bd9765f130f17b2e2c": {
     "model_module": "@jupyter-widgets/base",
     "model_module_version": "1.2.0",
     "model_name": "LayoutModel",
     "state": {
      "_model_module": "@jupyter-widgets/base",
      "_model_module_version": "1.2.0",
      "_model_name": "LayoutModel",
      "_view_count": null,
      "_view_module": "@jupyter-widgets/base",
      "_view_module_version": "1.2.0",
      "_view_name": "LayoutView",
      "align_content": null,
      "align_items": null,
      "align_self": null,
      "border": null,
      "bottom": null,
      "display": null,
      "flex": null,
      "flex_flow": null,
      "grid_area": null,
      "grid_auto_columns": null,
      "grid_auto_flow": null,
      "grid_auto_rows": null,
      "grid_column": null,
      "grid_gap": null,
      "grid_row": null,
      "grid_template_areas": null,
      "grid_template_columns": null,
      "grid_template_rows": null,
      "height": null,
      "justify_content": null,
      "justify_items": null,
      "left": null,
      "margin": null,
      "max_height": null,
      "max_width": null,
      "min_height": null,
      "min_width": null,
      "object_fit": null,
      "object_position": null,
      "order": null,
      "overflow": null,
      "overflow_x": null,
      "overflow_y": null,
      "padding": null,
      "right": null,
      "top": null,
      "visibility": null,
      "width": null
     }
    },
    "f3fcf30d8f584fb5bb7bd29d3cd76f9b": {
     "model_module": "@jupyter-widgets/base",
     "model_module_version": "1.2.0",
     "model_name": "LayoutModel",
     "state": {
      "_model_module": "@jupyter-widgets/base",
      "_model_module_version": "1.2.0",
      "_model_name": "LayoutModel",
      "_view_count": null,
      "_view_module": "@jupyter-widgets/base",
      "_view_module_version": "1.2.0",
      "_view_name": "LayoutView",
      "align_content": null,
      "align_items": null,
      "align_self": null,
      "border": null,
      "bottom": null,
      "display": null,
      "flex": null,
      "flex_flow": null,
      "grid_area": null,
      "grid_auto_columns": null,
      "grid_auto_flow": null,
      "grid_auto_rows": null,
      "grid_column": null,
      "grid_gap": null,
      "grid_row": null,
      "grid_template_areas": null,
      "grid_template_columns": null,
      "grid_template_rows": null,
      "height": null,
      "justify_content": null,
      "justify_items": null,
      "left": null,
      "margin": null,
      "max_height": null,
      "max_width": null,
      "min_height": null,
      "min_width": null,
      "object_fit": null,
      "object_position": null,
      "order": null,
      "overflow": null,
      "overflow_x": null,
      "overflow_y": null,
      "padding": null,
      "right": null,
      "top": null,
      "visibility": null,
      "width": null
     }
    },
    "f63c8b2fdbed4755a50d43f2ac8f0b35": {
     "model_module": "@jupyter-widgets/controls",
     "model_module_version": "1.5.0",
     "model_name": "HTMLModel",
     "state": {
      "_dom_classes": [],
      "_model_module": "@jupyter-widgets/controls",
      "_model_module_version": "1.5.0",
      "_model_name": "HTMLModel",
      "_view_count": null,
      "_view_module": "@jupyter-widgets/controls",
      "_view_module_version": "1.5.0",
      "_view_name": "HTMLView",
      "description": "",
      "description_tooltip": null,
      "layout": "IPY_MODEL_16aac749389a445eb8f217b7f3e855de",
      "placeholder": "​",
      "style": "IPY_MODEL_b721118f982a4622829a516fff511f75",
      "value": " 456k/456k [00:00&lt;00:00, 25.8MB/s]"
     }
    }
   }
  }
 },
 "nbformat": 4,
 "nbformat_minor": 0
}
