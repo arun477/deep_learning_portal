{
 "cells": [
  {
   "cell_type": "code",
   "execution_count": 4,
   "metadata": {
    "colab": {
     "base_uri": "https://localhost:8080/"
    },
    "id": "n7XWANNx-dEt",
    "outputId": "9950bf0d-3272-4324-913c-af0a7402ac2d"
   },
   "outputs": [
    {
     "data": {
      "text/plain": [
       "[59, 12, 64, 82, 42, 29, 46, 40]"
      ]
     },
     "execution_count": 4,
     "metadata": {},
     "output_type": "execute_result"
    }
   ],
   "source": [
    "import numpy as np\n",
    "x = np.random.randint(1, 100, 8)\n",
    "x = list(x)\n",
    "x"
   ]
  },
  {
   "cell_type": "code",
   "execution_count": 35,
   "metadata": {
    "id": "eMAdm0_nbccm"
   },
   "outputs": [],
   "source": [
    "def max_heapify(arr, i):\n",
    "  if i >= len(arr):\n",
    "    return\n",
    "\n",
    "  left, right = 2*i+1, 2*i+2\n",
    "  is_left_big = False\n",
    "  is_right_big = False\n",
    "\n",
    "  if left < len(arr):\n",
    "    is_left_big = True\n",
    "\n",
    "  if right < len(arr):\n",
    "    if is_left_big and arr[left] < arr[right]:\n",
    "      is_left_big = False\n",
    "      is_right_big = True\n",
    "\n",
    "  if is_left_big and arr[left] > arr[i]:\n",
    "    arr[i], arr[left] = arr[left], arr[i]\n",
    "    max_heapify(arr, left)\n",
    "\n",
    "  elif is_right_big and arr[right] > arr[i]:\n",
    "    arr[i], arr[right] = arr[right], arr[i]\n",
    "    max_heapify(arr, right)"
   ]
  },
  {
   "cell_type": "code",
   "execution_count": 36,
   "metadata": {
    "id": "g4w5cJssevLi"
   },
   "outputs": [],
   "source": [
    "valid_heap = [16, 14, 10, 8, 7, 9, 3, 2, 4, 1]"
   ]
  },
  {
   "cell_type": "code",
   "execution_count": 37,
   "metadata": {
    "id": "zjnLzcVwe039"
   },
   "outputs": [],
   "source": [
    "invalid_heap =  [16, 4, 10, 14, 7, 9, 3, 2, 8, 1]"
   ]
  },
  {
   "cell_type": "code",
   "execution_count": 38,
   "metadata": {
    "id": "v5WVQnHQgG34"
   },
   "outputs": [],
   "source": [
    "n = len(invalid_heap)\n",
    "mid = n // 2\n",
    "for i in range(mid, -1, -1):\n",
    "  max_heapify(invalid_heap, i)"
   ]
  },
  {
   "cell_type": "code",
   "execution_count": 39,
   "metadata": {
    "colab": {
     "base_uri": "https://localhost:8080/"
    },
    "id": "ldA5-nlTgPz3",
    "outputId": "9556636e-23d8-468a-d38b-6b43a7d58cf5"
   },
   "outputs": [
    {
     "data": {
      "text/plain": [
       "True"
      ]
     },
     "execution_count": 39,
     "metadata": {},
     "output_type": "execute_result"
    }
   ],
   "source": [
    "invalid_heap==valid_heap"
   ]
  },
  {
   "cell_type": "code",
   "execution_count": 40,
   "metadata": {
    "id": "9VKmTeJSgl8x"
   },
   "outputs": [],
   "source": [
    "valid_heap = [16, 14, 10, 8, 7, 9, 3, 2, 4, 1]\n",
    "invalid_heap =  [16, 4, 10, 14, 7, 9, 3, 2, 8, 1]"
   ]
  },
  {
   "cell_type": "code",
   "execution_count": 41,
   "metadata": {
    "id": "NbYYWawWjmzW"
   },
   "outputs": [],
   "source": [
    "def build_heap(arr):\n",
    "  invalid_heap = list(arr)\n",
    "  n = len(invalid_heap)\n",
    "  mid = n // 2\n",
    "  for i in range(mid, -1, -1):\n",
    "    max_heapify(invalid_heap, i)\n",
    "  return invalid_heap"
   ]
  },
  {
   "cell_type": "code",
   "execution_count": 42,
   "metadata": {
    "colab": {
     "base_uri": "https://localhost:8080/"
    },
    "id": "tbeWedLrjy7c",
    "outputId": "e1b4197c-53ca-457d-f217-aa29ef356cfd"
   },
   "outputs": [
    {
     "data": {
      "text/plain": [
       "True"
      ]
     },
     "execution_count": 42,
     "metadata": {},
     "output_type": "execute_result"
    }
   ],
   "source": [
    "valid_heap == build_heap(invalid_heap)"
   ]
  },
  {
   "cell_type": "code",
   "execution_count": 43,
   "metadata": {
    "colab": {
     "base_uri": "https://localhost:8080/"
    },
    "id": "qIRzHbfGj20Q",
    "outputId": "56797ca3-d1de-4f41-f727-f75d08b75cd7"
   },
   "outputs": [
    {
     "data": {
      "text/plain": [
       "False"
      ]
     },
     "execution_count": 43,
     "metadata": {},
     "output_type": "execute_result"
    }
   ],
   "source": [
    "valid_heap == invalid_heap"
   ]
  },
  {
   "cell_type": "code",
   "execution_count": 66,
   "metadata": {
    "colab": {
     "base_uri": "https://localhost:8080/"
    },
    "id": "xq_rqGW3j4Lv",
    "outputId": "1eeb9537-b94f-4c3b-86b9-d8457258d2f4"
   },
   "outputs": [
    {
     "data": {
      "text/plain": [
       "[46, 89, 4, 27, 85, 27, 60, 3, 90, 76]"
      ]
     },
     "execution_count": 66,
     "metadata": {},
     "output_type": "execute_result"
    }
   ],
   "source": [
    "x = list(np.random.randint(1, 100, 10))\n",
    "x"
   ]
  },
  {
   "cell_type": "code",
   "execution_count": 67,
   "metadata": {
    "id": "_lE--u0KkQvC"
   },
   "outputs": [],
   "source": [
    "sorted_x = []\n",
    "x_heap = build_heap(x)\n",
    "\n",
    "while x_heap:\n",
    "  n = len(x_heap)\n",
    "  x_heap[0], x_heap[n-1] = x_heap[n-1], x_heap[0]\n",
    "  sorted_x.append(x_heap.pop())\n",
    "  max_heapify(x_heap, 0)\n"
   ]
  },
  {
   "cell_type": "code",
   "execution_count": 68,
   "metadata": {
    "colab": {
     "base_uri": "https://localhost:8080/"
    },
    "id": "p2GoIZuhku2p",
    "outputId": "34d870e3-879b-4752-ed6d-a028b37f9b67"
   },
   "outputs": [
    {
     "data": {
      "text/plain": [
       "True"
      ]
     },
     "execution_count": 68,
     "metadata": {},
     "output_type": "execute_result"
    }
   ],
   "source": [
    "sorted(x, reverse=True) == sorted_x"
   ]
  },
  {
   "cell_type": "code",
   "execution_count": 69,
   "metadata": {
    "id": "IAzaR1VslUDf"
   },
   "outputs": [],
   "source": [
    "# time: O(nlogn)\n",
    "# space: O(1)\n",
    "\n",
    "def heap_sort(x):\n",
    "  x = list(x)\n",
    "  sorted_x = []\n",
    "  x_heap = build_heap(x)\n",
    "\n",
    "  while x_heap:\n",
    "    n = len(x_heap)\n",
    "    x_heap[0], x_heap[n-1] = x_heap[n-1], x_heap[0]\n",
    "    sorted_x.append(x_heap.pop())\n",
    "    max_heapify(x_heap, 0)\n",
    "\n",
    "  return sorted_x"
   ]
  },
  {
   "cell_type": "code",
   "execution_count": 70,
   "metadata": {
    "colab": {
     "base_uri": "https://localhost:8080/"
    },
    "id": "WrXs9tTHlUzo",
    "outputId": "fa114748-57b7-4474-a53c-728d976bf875"
   },
   "outputs": [
    {
     "data": {
      "text/plain": [
       "True"
      ]
     },
     "execution_count": 70,
     "metadata": {},
     "output_type": "execute_result"
    }
   ],
   "source": [
    "test = np.random.randint(1, 1000, (5, 80))\n",
    "results = []\n",
    "for x in test:\n",
    "  sorted_x = heap_sort(x)\n",
    "  results.append(sorted_x == sorted(x, reverse=True))\n",
    "all(results)"
   ]
  },
  {
   "cell_type": "code",
   "execution_count": null,
   "metadata": {
    "id": "e6QuD5pHlVMY"
   },
   "outputs": [],
   "source": []
  }
 ],
 "metadata": {
  "colab": {
   "provenance": []
  },
  "kernelspec": {
   "display_name": "Python 3",
   "name": "python3"
  },
  "language_info": {
   "name": "python"
  }
 },
 "nbformat": 4,
 "nbformat_minor": 0
}
