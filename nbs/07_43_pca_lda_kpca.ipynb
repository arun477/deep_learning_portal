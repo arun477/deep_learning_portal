{
 "cells": [
  {
   "cell_type": "code",
   "execution_count": 25,
   "id": "c8b9b4c7",
   "metadata": {},
   "outputs": [
    {
     "data": {
      "text/html": [
       "<div>\n",
       "<style scoped>\n",
       "    .dataframe tbody tr th:only-of-type {\n",
       "        vertical-align: middle;\n",
       "    }\n",
       "\n",
       "    .dataframe tbody tr th {\n",
       "        vertical-align: top;\n",
       "    }\n",
       "\n",
       "    .dataframe thead th {\n",
       "        text-align: right;\n",
       "    }\n",
       "</style>\n",
       "<table border=\"1\" class=\"dataframe\">\n",
       "  <thead>\n",
       "    <tr style=\"text-align: right;\">\n",
       "      <th></th>\n",
       "      <th>0</th>\n",
       "      <th>1</th>\n",
       "      <th>2</th>\n",
       "      <th>3</th>\n",
       "      <th>4</th>\n",
       "      <th>5</th>\n",
       "      <th>6</th>\n",
       "      <th>7</th>\n",
       "      <th>8</th>\n",
       "      <th>9</th>\n",
       "      <th>10</th>\n",
       "      <th>11</th>\n",
       "      <th>12</th>\n",
       "      <th>13</th>\n",
       "    </tr>\n",
       "  </thead>\n",
       "  <tbody>\n",
       "    <tr>\n",
       "      <th>0</th>\n",
       "      <td>1</td>\n",
       "      <td>14.23</td>\n",
       "      <td>1.71</td>\n",
       "      <td>2.43</td>\n",
       "      <td>15.6</td>\n",
       "      <td>127</td>\n",
       "      <td>2.80</td>\n",
       "      <td>3.06</td>\n",
       "      <td>0.28</td>\n",
       "      <td>2.29</td>\n",
       "      <td>5.64</td>\n",
       "      <td>1.04</td>\n",
       "      <td>3.92</td>\n",
       "      <td>1065</td>\n",
       "    </tr>\n",
       "    <tr>\n",
       "      <th>1</th>\n",
       "      <td>1</td>\n",
       "      <td>13.20</td>\n",
       "      <td>1.78</td>\n",
       "      <td>2.14</td>\n",
       "      <td>11.2</td>\n",
       "      <td>100</td>\n",
       "      <td>2.65</td>\n",
       "      <td>2.76</td>\n",
       "      <td>0.26</td>\n",
       "      <td>1.28</td>\n",
       "      <td>4.38</td>\n",
       "      <td>1.05</td>\n",
       "      <td>3.40</td>\n",
       "      <td>1050</td>\n",
       "    </tr>\n",
       "  </tbody>\n",
       "</table>\n",
       "</div>"
      ],
      "text/plain": [
       "   0      1     2     3     4    5     6     7     8     9     10    11    12  \\\n",
       "0   1  14.23  1.71  2.43  15.6  127  2.80  3.06  0.28  2.29  5.64  1.04  3.92   \n",
       "1   1  13.20  1.78  2.14  11.2  100  2.65  2.76  0.26  1.28  4.38  1.05  3.40   \n",
       "\n",
       "     13  \n",
       "0  1065  \n",
       "1  1050  "
      ]
     },
     "execution_count": 25,
     "metadata": {},
     "output_type": "execute_result"
    }
   ],
   "source": [
    "import pandas as pd\n",
    "\n",
    "df_wine = pd.read_csv('https://archive.ics.uci.edu/ml/'\n",
    "        'machine-learning-databases/wine/wine.data',\n",
    "        header=None)\n",
    "df_wine.head(2)"
   ]
  },
  {
   "cell_type": "code",
   "execution_count": 26,
   "id": "8d5bcaa2",
   "metadata": {},
   "outputs": [],
   "source": [
    "from sklearn.model_selection import train_test_split\n",
    "from sklearn.preprocessing import StandardScaler\n",
    "\n",
    "x,y = df_wine.iloc[:, 1:].values, df_wine.iloc[:, 0].values\n",
    "x_train,x_test,y_train,y_test = train_test_split(x, y, test_size=0.3, stratify=y)\n",
    "sc = StandardScaler()\n",
    "sc.fit(x_train)\n",
    "x_train_std = sc.transform(x_train)\n",
    "x_test_std = sc.transform(x_test)"
   ]
  },
  {
   "cell_type": "code",
   "execution_count": 32,
   "id": "98d78bf2",
   "metadata": {},
   "outputs": [],
   "source": [
    "import numpy as np\n",
    "import matplotlib.pyplot as plt\n",
    "\n",
    "cov_mat = np.cov(x_train_std.T)\n",
    "eigen_val, eigen_vec = np.linalg.eig(cov_mat)"
   ]
  },
  {
   "cell_type": "code",
   "execution_count": 45,
   "id": "16ed1410",
   "metadata": {},
   "outputs": [
    {
     "data": {
      "image/png": "[encoded data removed]",
      "text/plain": [
       "<Figure size 640x480 with 1 Axes>"
      ]
     },
     "metadata": {},
     "output_type": "display_data"
    }
   ],
   "source": [
    "tot = sum(eigen_val)\n",
    "var_exp = [lamda/tot for lamda in sorted(eigen_val, reverse=True)]\n",
    "cum_exp = np.cumsum(var_exp)\n",
    "plt.bar(range(1, 14), var_exp, alpha=0.5, align='center', label='indv explained var')\n",
    "plt.step(range(1, 14), cum_exp, label='cum explained var')\n",
    "plt.xlabel('principal comp idx')\n",
    "plt.ylabel('explained var ratio')\n",
    "plt.legend(loc='best')\n",
    "plt.show()"
   ]
  },
  {
   "cell_type": "code",
   "execution_count": 50,
   "id": "32a94fa9",
   "metadata": {},
   "outputs": [],
   "source": [
    "eigen_pairs = [(abs(eigen_val[i]), eigen_vec[:, i]) for i in range(len(eigen_val))]\n",
    "eigen_pairs.sort(key=lambda x: x[0], reverse=True)"
   ]
  },
  {
   "cell_type": "code",
   "execution_count": 64,
   "id": "6c2106e2",
   "metadata": {},
   "outputs": [
    {
     "data": {
      "text/plain": [
       "array([[-0.09296486,  0.49334004],\n",
       "       [ 0.28001527,  0.17183086],\n",
       "       [ 0.06100878,  0.31746884],\n",
       "       [ 0.25600047, -0.07049345],\n",
       "       [-0.10488267,  0.36362891],\n",
       "       [-0.38858026,  0.08019249],\n",
       "       [-0.42051598,  0.02422672],\n",
       "       [ 0.28904149,  0.01240666],\n",
       "       [-0.30753401, -0.01162062],\n",
       "       [ 0.13005998,  0.49794366],\n",
       "       [-0.30667619, -0.21036556],\n",
       "       [-0.39287094, -0.11148301],\n",
       "       [-0.24784347,  0.42091714]])"
      ]
     },
     "execution_count": 64,
     "metadata": {},
     "output_type": "execute_result"
    }
   ],
   "source": [
    "w = np.hstack((eigen_pairs[0][1][:, None], eigen_pairs[1][1][:, None]))\n",
    "w"
   ]
  },
  {
   "cell_type": "code",
   "execution_count": 71,
   "id": "54d68e91",
   "metadata": {},
   "outputs": [
    {
     "data": {
      "text/plain": [
       "array([-0.72532879, -3.77071853])"
      ]
     },
     "execution_count": 71,
     "metadata": {},
     "output_type": "execute_result"
    }
   ],
   "source": [
    "x_train_std[0].dot(w)"
   ]
  },
  {
   "cell_type": "code",
   "execution_count": 74,
   "id": "46c59203",
   "metadata": {},
   "outputs": [],
   "source": [
    "x_train_pca = x_train_std.dot(w)"
   ]
  },
  {
   "cell_type": "code",
   "execution_count": 77,
   "id": "c41c63ff",
   "metadata": {},
   "outputs": [
    {
     "data": {
      "image/png": "[encoded data removed]",
      "text/plain": [
       "<Figure size 640x480 with 1 Axes>"
      ]
     },
     "metadata": {},
     "output_type": "display_data"
    }
   ],
   "source": [
    "colors = ['r', 'g', 'b']\n",
    "markers = ['s', 'o', 'x']\n",
    "for l, c, m in zip(np.unique(y_train), colors, markers):\n",
    "    plt.scatter(x_train_pca[y_train==l, 0], x_train_pca[y_train==l, 1], color=c, marker=m, label=l)\n",
    "plt.legend(loc='best')\n",
    "plt.xlabel('pc1')\n",
    "plt.ylabel('pc2')\n",
    "plt.show()"
   ]
  },
  {
   "cell_type": "code",
   "execution_count": 82,
   "id": "13663c9c",
   "metadata": {},
   "outputs": [
    {
     "data": {
      "text/plain": [
       "[array([ 0.91667931, -0.34774673,  0.29956671, -0.75507732,  0.51251109,\n",
       "         0.79665831,  0.86949808, -0.47029145,  0.44694063,  0.21687488,\n",
       "         0.41969418,  0.76071156,  1.17000174]),\n",
       " array([-0.86219643, -0.37012768, -0.43205869,  0.23202094, -0.42859385,\n",
       "         0.03900585,  0.14288154, -0.0826511 ,  0.20815878, -0.84339782,\n",
       "         0.45013324,  0.29330689, -0.70313944]),\n",
       " array([ 0.16745363,  0.99284847,  0.28244544,  0.58657948,  0.01262842,\n",
       "        -1.04888737, -1.29677268,  0.70953044, -0.87068197,  1.00842487,\n",
       "        -1.20345829, -1.38953087, -0.38827573])]"
      ]
     },
     "execution_count": 82,
     "metadata": {},
     "output_type": "execute_result"
    }
   ],
   "source": [
    "mean_vecs = []\n",
    "for label in range(1, 4):\n",
    "    mean_vecs.append(np.mean(x_train_std[y_train==label], axis=0))\n",
    "mean_vecs"
   ]
  },
  {
   "cell_type": "code",
   "execution_count": 91,
   "id": "dfd58e27",
   "metadata": {},
   "outputs": [
    {
     "data": {
      "text/plain": [
       "array([[ 5.14531824e+01,  3.73289134e+00, -1.95929752e+00,\n",
       "         7.92546393e-02, -2.59334903e+00,  4.49625913e+00,\n",
       "         1.86086940e+00, -1.07409864e+00, -1.70536641e+00,\n",
       "         1.43366450e+01,  1.80955583e+00, -1.51781722e+00,\n",
       "         7.30480091e+00],\n",
       "       [ 3.73289134e+00,  7.96625488e+01,  9.45563742e+00,\n",
       "         1.67351363e+01, -9.35881828e+00,  4.94283955e+00,\n",
       "         1.43999921e+00,  1.40141742e+01,  1.03304816e+01,\n",
       "        -6.85086720e+00, -1.61903743e+01,  9.79927904e+00,\n",
       "        -6.66857764e+00],\n",
       "       [-1.95929752e+00,  9.45563742e+00,  1.08354326e+02,\n",
       "         6.27552760e+01,  2.98655656e+01,  7.44062242e+00,\n",
       "         1.05154812e+01,  2.99477599e+01, -1.15355390e+01,\n",
       "         2.78918285e+00,  5.60977464e+00,  1.92582483e+00,\n",
       "        -2.94071239e+00],\n",
       "       [ 7.92546393e-02,  1.67351363e+01,  6.27552760e+01,\n",
       "         8.65780112e+01,  1.18406038e+01,  5.00281194e+00,\n",
       "         6.36018558e+00,  1.61208867e+01, -6.85537716e+00,\n",
       "        -6.10041331e+00, -3.22034345e+00,  1.01523896e+01,\n",
       "        -5.42279281e+00],\n",
       "       [-2.59334903e+00, -9.35881828e+00,  2.98655656e+01,\n",
       "         1.18406038e+01,  1.04040731e+02,  6.42989910e+00,\n",
       "         4.97196789e+00, -2.02330483e+01,  1.33148182e+01,\n",
       "         1.01865892e+01,  4.56862261e+00, -4.35783522e+00,\n",
       "         1.41294861e+01],\n",
       "       [ 4.49625913e+00,  4.94283955e+00,  7.44062242e+00,\n",
       "         5.00281194e+00,  6.42989910e+00,  6.15972485e+01,\n",
       "         3.37459836e+01, -1.13949579e+01,  2.72642287e+01,\n",
       "         1.68255198e+01, -2.57727357e+00,  1.58231886e+01,\n",
       "         4.30971879e+00],\n",
       "       [ 1.86086940e+00,  1.43999921e+00,  1.05154812e+01,\n",
       "         6.36018558e+00,  4.97196789e+00,  3.37459836e+01,\n",
       "         3.64887007e+01, -1.55431760e+01,  2.33369294e+01,\n",
       "         1.69319077e+01, -4.50849245e+00,  1.04091438e+01,\n",
       "        -1.58255748e+00],\n",
       "       [-1.07409864e+00,  1.40141742e+01,  2.99477599e+01,\n",
       "         1.61208867e+01, -2.02330483e+01, -1.13949579e+01,\n",
       "        -1.55431760e+01,  9.79770002e+01, -1.15297573e+01,\n",
       "        -3.77577969e+00,  1.00281624e+01, -7.75969059e+00,\n",
       "        -3.21765079e+00],\n",
       "       [-1.70536641e+00,  1.03304816e+01, -1.15355390e+01,\n",
       "        -6.85537716e+00,  1.33148182e+01,  2.72642287e+01,\n",
       "         2.33369294e+01, -1.15297573e+01,  8.86266289e+01,\n",
       "         2.07435421e+01, -1.17695387e+01,  8.10028819e+00,\n",
       "         5.33258255e+00],\n",
       "       [ 1.43366450e+01, -6.85086720e+00,  2.78918285e+00,\n",
       "        -6.10041331e+00,  1.01865892e+01,  1.68255198e+01,\n",
       "         1.69319077e+01, -3.77577969e+00,  2.07435421e+01,\n",
       "         5.29471990e+01, -9.16326903e+00, -2.89628207e+00,\n",
       "         1.32557343e+01],\n",
       "       [ 1.80955583e+00, -1.61903743e+01,  5.60977464e+00,\n",
       "        -3.22034345e+00,  4.56862261e+00, -2.57727357e+00,\n",
       "        -4.50849245e+00,  1.00281624e+01, -1.17695387e+01,\n",
       "        -9.16326903e+00,  5.88528405e+01, -3.01265778e+00,\n",
       "         3.96737405e+00],\n",
       "       [-1.51781722e+00,  9.79927904e+00,  1.92582483e+00,\n",
       "         1.01523896e+01, -4.35783522e+00,  1.58231886e+01,\n",
       "         1.04091438e+01, -7.75969059e+00,  8.10028819e+00,\n",
       "        -2.89628207e+00, -3.01265778e+00,  3.22563186e+01,\n",
       "        -4.93351294e+00],\n",
       "       [ 7.30480091e+00, -6.66857764e+00, -2.94071239e+00,\n",
       "        -5.42279281e+00,  1.41294861e+01,  4.30971879e+00,\n",
       "        -1.58255748e+00, -3.21765079e+00,  5.33258255e+00,\n",
       "         1.32557343e+01,  3.96737405e+00, -4.93351294e+00,\n",
       "         3.81796634e+01]])"
      ]
     },
     "execution_count": 91,
     "metadata": {},
     "output_type": "execute_result"
    }
   ],
   "source": [
    "dim = 13\n",
    "s_w = np.zeros((dim, dim))\n",
    "for label, mv in zip(range(1, 4), mean_vecs):\n",
    "    class_w = np.zeros((dim, dim))\n",
    "    for row in x_train_std[y_train==label]:\n",
    "        row, mv = row.reshape(dim, 1), mv.reshape(dim, 1)\n",
    "        class_w += (row-mv).dot((row-mv).T)\n",
    "    s_w += class_w"
   ]
  },
  {
   "cell_type": "code",
   "execution_count": null,
   "id": "6af24b40",
   "metadata": {},
   "outputs": [],
   "source": []
  }
 ],
 "metadata": {
  "kernelspec": {
   "display_name": "m",
   "language": "python",
   "name": "m"
  },
  "language_info": {
   "codemirror_mode": {
    "name": "ipython",
    "version": 3
   },
   "file_extension": ".py",
   "mimetype": "text/x-python",
   "name": "python",
   "nbconvert_exporter": "python",
   "pygments_lexer": "ipython3",
   "version": "3.9.19"
  }
 },
 "nbformat": 4,
 "nbformat_minor": 5
}
