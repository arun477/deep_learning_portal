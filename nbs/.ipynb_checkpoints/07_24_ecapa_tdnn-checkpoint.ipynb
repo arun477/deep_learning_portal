{
 "cells": [
  {
   "cell_type": "markdown",
   "id": "81c3b8f2",
   "metadata": {},
   "source": [
    "https://github.com/TaoRuijie/ECAPA-TDNN/blob/main/model.py#L132 (ref)"
   ]
  },
  {
   "cell_type": "code",
   "execution_count": null,
   "id": "7d023447",
   "metadata": {},
   "outputs": [],
   "source": [
    "import torch\n",
    "from torch import nn\n",
    "import torch.nn.functional as F"
   ]
  },
  {
   "cell_type": "code",
   "execution_count": null,
   "id": "0f5fef73",
   "metadata": {},
   "outputs": [
    {
     "data": {
      "text/plain": [
       "(torch.Size([1, 64, 8]), torch.Size([1, 64, 5]))"
      ]
     },
     "execution_count": null,
     "metadata": {},
     "output_type": "execute_result"
    }
   ],
   "source": [
    "m = nn.AdaptiveAvgPool1d(5)\n",
    "input = torch.randn(1, 64, 8)\n",
    "output = m(input)\n",
    "input.shape, output.shape"
   ]
  },
  {
   "cell_type": "code",
   "execution_count": null,
   "id": "342d2f0f",
   "metadata": {},
   "outputs": [
    {
     "data": {
      "text/plain": [
       "(torch.Size([20, 16, 50]), torch.Size([20, 33, 24]))"
      ]
     },
     "execution_count": null,
     "metadata": {},
     "output_type": "execute_result"
    }
   ],
   "source": [
    "m = nn.Conv1d(16, 33, 3, stride=2, padding=0)\n",
    "input = torch.randn(20, 16, 50)\n",
    "output = m(input)\n",
    "input.shape, output.shape"
   ]
  },
  {
   "cell_type": "code",
   "execution_count": null,
   "id": "3efcf0c2",
   "metadata": {},
   "outputs": [],
   "source": [
    "class SEModule(nn.Module):\n",
    "    def __init__(self, channels, bottleneck=128):\n",
    "        super().__init__()\n",
    "        self.se = nn.Sequential(\n",
    "            nn.AdaptiveAvgPool1d(1),\n",
    "            nn.Conv1d(channels, bottlenect, kernel_size=1, padding=0),\n",
    "            nn.ReLU(),\n",
    "            nn.Conv1d(bottleneck, channels, kernel_size=1, padding=0),\n",
    "            nn.Sigmoid()\n",
    "        ) \n",
    "        \n",
    "    def forward(self, input):\n",
    "        x = self.se(input)\n",
    "        return  input * x"
   ]
  },
  {
   "cell_type": "code",
   "execution_count": null,
   "id": "b416f7f1",
   "metadata": {},
   "outputs": [],
   "source": []
  },
  {
   "cell_type": "code",
   "execution_count": null,
   "id": "779415ee",
   "metadata": {},
   "outputs": [],
   "source": [
    "class Bottle2neck(nn.Module):\n",
    "\n",
    "    def __init__(self, inplanes, planes, kernel_size=None, dilation=None, scale = 8):\n",
    "        super(Bottle2neck, self).__init__()\n",
    "        width       = int(math.floor(planes / scale))\n",
    "        self.conv1  = nn.Conv1d(inplanes, width*scale, kernel_size=1)\n",
    "        self.bn1    = nn.BatchNorm1d(width*scale)\n",
    "        self.nums   = scale -1\n",
    "        convs       = []\n",
    "        bns         = []\n",
    "        num_pad = math.floor(kernel_size/2)*dilation\n",
    "        for i in range(self.nums):\n",
    "            convs.append(nn.Conv1d(width, width, kernel_size=kernel_size, dilation=dilation, padding=num_pad))\n",
    "            bns.append(nn.BatchNorm1d(width))\n",
    "        self.convs  = nn.ModuleList(convs)\n",
    "        self.bns    = nn.ModuleList(bns)\n",
    "        self.conv3  = nn.Conv1d(width*scale, planes, kernel_size=1)\n",
    "        self.bn3    = nn.BatchNorm1d(planes)\n",
    "        self.relu   = nn.ReLU()\n",
    "        self.width  = width\n",
    "        self.se     = SEModule(planes)\n",
    "\n",
    "    def forward(self, x):\n",
    "        residual = x\n",
    "        out = self.conv1(x)\n",
    "        out = self.relu(out)\n",
    "        out = self.bn1(out)\n",
    "\n",
    "        spx = torch.split(out, self.width, 1)\n",
    "        for i in range(self.nums):\n",
    "          if i==0:\n",
    "            sp = spx[i]\n",
    "          else:\n",
    "            sp = sp + spx[i]\n",
    "          sp = self.convs[i](sp)\n",
    "          sp = self.relu(sp)\n",
    "          sp = self.bns[i](sp)\n",
    "          if i==0:\n",
    "            out = sp\n",
    "          else:\n",
    "            out = torch.cat((out, sp), 1)\n",
    "        out = torch.cat((out, spx[self.nums]),1)\n",
    "\n",
    "        out = self.conv3(out)\n",
    "        out = self.relu(out)\n",
    "        out = self.bn3(out)\n",
    "        \n",
    "        out = self.se(out)\n",
    "        out += residual\n",
    "        return out "
   ]
  }
 ],
 "metadata": {
  "kernelspec": {
   "display_name": "python3",
   "language": "python",
   "name": "python3"
  }
 },
 "nbformat": 4,
 "nbformat_minor": 5
}
