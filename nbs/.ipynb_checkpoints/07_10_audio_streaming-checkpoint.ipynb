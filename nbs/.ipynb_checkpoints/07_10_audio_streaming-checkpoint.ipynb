{
 "cells": [
  {
   "cell_type": "markdown",
   "id": "c96f95cb",
   "metadata": {},
   "source": [
    "https://huggingface.co/learn/audio-course/en/chapter1/streaming (ref)"
   ]
  },
  {
   "cell_type": "code",
   "execution_count": null,
   "id": "473b79e6",
   "metadata": {},
   "outputs": [],
   "source": []
  }
 ],
 "metadata": {
  "kernelspec": {
   "display_name": "python3",
   "language": "python",
   "name": "python3"
  }
 },
 "nbformat": 4,
 "nbformat_minor": 5
}
