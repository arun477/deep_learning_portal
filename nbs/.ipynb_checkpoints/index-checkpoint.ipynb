{
 "cells": [
  {
   "cell_type": "markdown",
   "metadata": {},
   "source": [
    " This repository contains implementation code for important research papers and starter guides for common deep learning tools."
   ]
  },
  {
   "cell_type": "code",
   "execution_count": null,
   "metadata": {},
   "outputs": [],
   "source": []
  }
 ],
 "metadata": {
  "kernelspec": {
   "display_name": "python3",
   "language": "python",
   "name": "python3"
  }
 },
 "nbformat": 4,
 "nbformat_minor": 4
}
