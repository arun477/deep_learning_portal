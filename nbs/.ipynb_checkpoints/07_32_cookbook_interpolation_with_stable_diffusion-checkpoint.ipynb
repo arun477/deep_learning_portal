{
 "cells": [
  {
   "cell_type": "markdown",
   "id": "b6746f9d",
   "metadata": {},
   "source": [
    "https://huggingface.co/learn/cookbook/stable_diffusion_interpolation (ref)"
   ]
  },
  {
   "cell_type": "code",
   "execution_count": null,
   "id": "7c56efd2",
   "metadata": {
    "scrolled": true
   },
   "outputs": [],
   "source": [
    "!python3.10 -m pip -q install xformers accelerate ftfy"
   ]
  },
  {
   "cell_type": "code",
   "execution_count": null,
   "id": "e72059da",
   "metadata": {},
   "outputs": [],
   "source": []
  }
 ],
 "metadata": {
  "kernelspec": {
   "display_name": "Python 3 (ipykernel)",
   "language": "python",
   "name": "python3"
  },
  "language_info": {
   "codemirror_mode": {
    "name": "ipython",
    "version": 3
   },
   "file_extension": ".py",
   "mimetype": "text/x-python",
   "name": "python",
   "nbconvert_exporter": "python",
   "pygments_lexer": "ipython3",
   "version": "3.10.0"
  }
 },
 "nbformat": 4,
 "nbformat_minor": 5
}
