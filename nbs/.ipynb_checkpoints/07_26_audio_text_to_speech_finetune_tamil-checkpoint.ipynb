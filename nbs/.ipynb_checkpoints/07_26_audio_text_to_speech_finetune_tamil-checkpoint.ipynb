{
 "cells": [
  {
   "cell_type": "code",
   "execution_count": null,
   "id": "318fe2de",
   "metadata": {},
   "outputs": [],
   "source": [
    "from datasets import load_dataset, Audio\n",
    "import librosa\n",
    "import IPython as ipy\n",
    "import matplotlib.pyplot as plt"
   ]
  },
  {
   "cell_type": "code",
   "execution_count": null,
   "id": "7cba45c1",
   "metadata": {},
   "outputs": [
    {
     "name": "stderr",
     "output_type": "stream",
     "text": [
      "/Applications/anaconda3/lib/python3.9/site-packages/datasets/load.py:1461: FutureWarning: The repository for mozilla-foundation/common_voice_13_0 contains custom code which must be executed to correctly load the dataset. You can inspect the repository content at https://hf.co/datasets/mozilla-foundation/common_voice_13_0\n",
      "You can avoid this message in future by passing the argument `trust_remote_code=True`.\n",
      "Passing `trust_remote_code=True` will be mandatory to load this dataset from the next major release of `datasets`.\n",
      "  warnings.warn(\n"
     ]
    },
    {
     "data": {
      "text/plain": [
       "Dataset({\n",
       "    features: ['client_id', 'path', 'audio', 'sentence', 'up_votes', 'down_votes', 'age', 'gender', 'accent', 'locale', 'segment', 'variant'],\n",
       "    num_rows: 4335\n",
       "})"
      ]
     },
     "execution_count": null,
     "metadata": {},
     "output_type": "execute_result"
    }
   ],
   "source": [
    "dataset = load_dataset('mozilla-foundation/common_voice_13_0', 'ta', split='train[:10%]')\n",
    "dataset"
   ]
  },
  {
   "cell_type": "code",
   "execution_count": null,
   "id": "d48b0df8",
   "metadata": {},
   "outputs": [],
   "source": [
    "dataset = dataset.cast_column('audio', Audio(sampling_rate=16000))"
   ]
  },
  {
   "cell_type": "code",
   "execution_count": null,
   "id": "79abd4af",
   "metadata": {},
   "outputs": [
    {
     "data": {
      "text/plain": [
       "{'client_id': 'aa4fc24757a92f02a0a702c82b4a6ac6045b1d8d1163c71299afeddf903354c2c884b41492f467df8e570376a211d82e7ab555bdaf7a9971b851cb1d5f20ee96',\n",
       " 'path': '/Users/arun/.cache/huggingface/datasets/downloads/extracted/37e88c8680d34865a91b793e651597e9c76f62a32f93768df1b47993b841385a/ta_train_0/common_voice_ta_26724249.mp3',\n",
       " 'audio': {'path': '/Users/arun/.cache/huggingface/datasets/downloads/extracted/37e88c8680d34865a91b793e651597e9c76f62a32f93768df1b47993b841385a/ta_train_0/common_voice_ta_26724249.mp3',\n",
       "  'array': array([ 0.00000000e+00,  0.00000000e+00,  0.00000000e+00, ...,\n",
       "         -1.18654236e-04, -6.54011164e-05, -1.10963090e-04]),\n",
       "  'sampling_rate': 16000},\n",
       " 'sentence': 'இதில் ஓர் ஆயிரத்து இருநூறு உறுப்பினர்கள் உள்ளனர்.',\n",
       " 'up_votes': 3,\n",
       " 'down_votes': 1,\n",
       " 'age': 'thirties',\n",
       " 'gender': 'female',\n",
       " 'accent': '',\n",
       " 'locale': 'ta',\n",
       " 'segment': '',\n",
       " 'variant': ''}"
      ]
     },
     "execution_count": null,
     "metadata": {},
     "output_type": "execute_result"
    }
   ],
   "source": [
    "dataset[0]"
   ]
  },
  {
   "cell_type": "code",
   "execution_count": null,
   "id": "8cc942a2",
   "metadata": {},
   "outputs": [],
   "source": [
    "from transformers import SpeechT5Processor"
   ]
  },
  {
   "cell_type": "code",
   "execution_count": null,
   "id": "808e88ed",
   "metadata": {},
   "outputs": [
    {
     "data": {
      "text/plain": [
       "81"
      ]
     },
     "execution_count": null,
     "metadata": {},
     "output_type": "execute_result"
    }
   ],
   "source": [
    "checkpoint = \"microsoft/speecht5_tts\"\n",
    "processor = SpeechT5Processor.from_pretrained(checkpoint)\n",
    "tokenizer = processor.tokenizer\n",
    "len(tokenizer)"
   ]
  },
  {
   "cell_type": "code",
   "execution_count": null,
   "id": "28f488fc",
   "metadata": {},
   "outputs": [
    {
     "data": {
      "application/vnd.jupyter.widget-view+json": {
       "model_id": "887f550a947f4aeaa466be0ab496094a",
       "version_major": 2,
       "version_minor": 0
      },
      "text/plain": [
       "Map:   0%|          | 0/926 [00:00<?, ? examples/s]"
      ]
     },
     "metadata": {},
     "output_type": "display_data"
    }
   ],
   "source": [
    "def extract_all_chars(batch):\n",
    "    all_text = \" \".join(batch[\"sentence\"])\n",
    "    vocab =list(set(all_text))\n",
    "    return {'vocab':[vocab], \"all_text\":[all_text]}\n",
    "\n",
    "vocabs = dataset.map(\n",
    "    extract_all_chars,\n",
    "    batched=True,\n",
    "    batch_size=-1,\n",
    "    keep_in_memory=True,\n",
    "    remove_columns=dataset.column_names\n",
    ")\n",
    "\n",
    "dataset_vocab = set(vocabs['vocab'][0])\n",
    "tokenizer_vocab = {k for k,_ in tokenizer.get_vocab().items()}"
   ]
  },
  {
   "cell_type": "code",
   "execution_count": null,
   "id": "bed7f93c",
   "metadata": {},
   "outputs": [
    {
     "name": "stdout",
     "output_type": "stream",
     "text": [
      "47\n",
      "['ஸ', 'ொ', 'ய', 'உ', 'ஈ']\n"
     ]
    }
   ],
   "source": [
    "new_tokens = list(dataset_vocab-tokenizer_vocab)\n",
    "print(len(new_tokens))\n",
    "print(new_tokens[:5])"
   ]
  },
  {
   "cell_type": "code",
   "execution_count": null,
   "id": "4cb39e69",
   "metadata": {},
   "outputs": [],
   "source": [
    "num_added_tokens = tokenizer.add_tokens(new_tokens)"
   ]
  },
  {
   "cell_type": "code",
   "execution_count": null,
   "id": "52069c6c",
   "metadata": {},
   "outputs": [
    {
     "data": {
      "text/plain": [
       "47"
      ]
     },
     "execution_count": null,
     "metadata": {},
     "output_type": "execute_result"
    }
   ],
   "source": [
    "num_added_tokens"
   ]
  },
  {
   "cell_type": "code",
   "execution_count": null,
   "id": "df3be360",
   "metadata": {},
   "outputs": [
    {
     "data": {
      "text/plain": [
       "128"
      ]
     },
     "execution_count": null,
     "metadata": {},
     "output_type": "execute_result"
    }
   ],
   "source": [
    "len(tokenizer)"
   ]
  },
  {
   "cell_type": "code",
   "execution_count": null,
   "id": "9fe6679b",
   "metadata": {},
   "outputs": [
    {
     "data": {
      "text/plain": [
       "[]"
      ]
     },
     "execution_count": null,
     "metadata": {},
     "output_type": "execute_result"
    }
   ],
   "source": [
    "tokenizer_vocab = {k for k,_ in tokenizer.get_vocab().items()}\n",
    "list(dataset_vocab-tokenizer_vocab)"
   ]
  },
  {
   "cell_type": "code",
   "execution_count": null,
   "id": "90b0efb7",
   "metadata": {},
   "outputs": [],
   "source": [
    "from collections import defaultdict\n",
    "import matplotlib.pyplot as plt"
   ]
  },
  {
   "cell_type": "code",
   "execution_count": null,
   "id": "c472e64e",
   "metadata": {},
   "outputs": [],
   "source": [
    "speaker_counts = defaultdict(int)\n",
    "for spkr in dataset['client_id']:\n",
    "    speaker_counts[spkr] += 1"
   ]
  },
  {
   "cell_type": "code",
   "execution_count": null,
   "id": "a831dcd5",
   "metadata": {},
   "outputs": [
    {
     "data": {
      "image/png": "[encoded data removed]",
      "text/plain": [
       "<Figure size 432x288 with 1 Axes>"
      ]
     },
     "metadata": {
      "needs_background": "light"
     },
     "output_type": "display_data"
    }
   ],
   "source": [
    "plt.hist(speaker_counts.values());\n",
    "plt.ylabel('speakers');\n",
    "plt.xlabel('examples');"
   ]
  },
  {
   "cell_type": "code",
   "execution_count": null,
   "id": "3d70067b",
   "metadata": {},
   "outputs": [
    {
     "name": "stderr",
     "output_type": "stream",
     "text": [
      "/Applications/anaconda3/lib/python3.9/site-packages/torchvision/io/image.py:13: UserWarning: Failed to load image Python extension: 'dlopen(/Applications/anaconda3/lib/python3.9/site-packages/torchvision/image.so, 0x0006): Symbol not found: __ZN3c1017RegisterOperatorsD1Ev\n",
      "  Referenced from: <0F72FEF0-4DF1-3E8A-90BA-513122A1950F> /Applications/anaconda3/lib/python3.9/site-packages/torchvision/image.so\n",
      "  Expected in:     <D6FBF042-0075-33D1-9A58-1D627AC1294E> /Applications/anaconda3/lib/python3.9/site-packages/torch/lib/libtorch_cpu.dylib'If you don't plan on using image functionality from `torchvision.io`, you can ignore this warning. Otherwise, there might be something wrong with your environment. Did you have `libjpeg` or `libpng` installed before building `torchvision` from source?\n",
      "  warn(\n"
     ]
    }
   ],
   "source": [
    "import os\n",
    "import torch\n",
    "import speechbrain\n",
    "import torchaudio\n",
    "from speechbrain.inference.speaker import EncoderClassifier"
   ]
  },
  {
   "cell_type": "code",
   "execution_count": null,
   "id": "d1f258b8",
   "metadata": {},
   "outputs": [
    {
     "data": {
      "application/vnd.jupyter.widget-view+json": {
       "model_id": "c62691a21d1d4f5787b542430c2e5d09",
       "version_major": 2,
       "version_minor": 0
      },
      "text/plain": [
       "hyperparams.yaml:   0%|          | 0.00/2.04k [00:00<?, ?B/s]"
      ]
     },
     "metadata": {},
     "output_type": "display_data"
    },
    {
     "data": {
      "application/vnd.jupyter.widget-view+json": {
       "model_id": "5607fc3928b9489fac305032ffacc4ad",
       "version_major": 2,
       "version_minor": 0
      },
      "text/plain": [
       "embedding_model.ckpt:   0%|          | 0.00/16.9M [00:00<?, ?B/s]"
      ]
     },
     "metadata": {},
     "output_type": "display_data"
    },
    {
     "data": {
      "application/vnd.jupyter.widget-view+json": {
       "model_id": "160487ffed2e46fc9c68ca55ffdf1173",
       "version_major": 2,
       "version_minor": 0
      },
      "text/plain": [
       "mean_var_norm_emb.ckpt:   0%|          | 0.00/3.20k [00:00<?, ?B/s]"
      ]
     },
     "metadata": {},
     "output_type": "display_data"
    },
    {
     "data": {
      "application/vnd.jupyter.widget-view+json": {
       "model_id": "a7f47423664f45c0ad34699197a49090",
       "version_major": 2,
       "version_minor": 0
      },
      "text/plain": [
       "classifier.ckpt:   0%|          | 0.00/15.9M [00:00<?, ?B/s]"
      ]
     },
     "metadata": {},
     "output_type": "display_data"
    },
    {
     "data": {
      "application/vnd.jupyter.widget-view+json": {
       "model_id": "68fcc35a4a204f84bf18d320ef6518f2",
       "version_major": 2,
       "version_minor": 0
      },
      "text/plain": [
       "label_encoder.txt:   0%|          | 0.00/129k [00:00<?, ?B/s]"
      ]
     },
     "metadata": {},
     "output_type": "display_data"
    }
   ],
   "source": [
    "spk_model_name = \"speechbrain/spkrec-xvect-voxceleb\"\n",
    "\n",
    "device = \"cuda\" if torch.cuda.is_available() else \"cpu\"\n",
    "speaker_model = EncoderClassifier.from_hparams(\n",
    "    source=spk_model_name,\n",
    "    run_opts={\"device\": device},\n",
    "    savedir=os.path.join(\"/tmp\", spk_model_name),\n",
    ")"
   ]
  },
  {
   "cell_type": "code",
   "execution_count": null,
   "id": "753c7991",
   "metadata": {},
   "outputs": [],
   "source": [
    "def create_speaker_embedding(waveform):\n",
    "    with torch.no_grad():\n",
    "        spkr_embeddings = speaker_model.encode_batch(torch.tensor(waveform))\n",
    "        spkr_embeddings = torch.nn.functional.normalize(spkr_embeddings, dim=2)\n",
    "        spkr_embeddings = spkr_embeddings.squeeze().cpu().numpy()\n",
    "    return spkr_embeddings"
   ]
  },
  {
   "cell_type": "code",
   "execution_count": null,
   "id": "523212a9",
   "metadata": {},
   "outputs": [],
   "source": [
    "def prepare_dataset(example):\n",
    "    audio = example['audio']\n",
    "    example = processor(\n",
    "          text = example['sentence'],\n",
    "          audio_target=audio['array'],\n",
    "          sampling_rate=audio['sampling_rate'],\n",
    "          return_attention_mask=False\n",
    "      )\n",
    "\n",
    "    example['labels'] = example['labels'][0]\n",
    "    example['speaker_embeddings'] = create_speaker_embedding(audio['array'])\n",
    "\n",
    "    return example"
   ]
  },
  {
   "cell_type": "code",
   "execution_count": null,
   "id": "329369ca",
   "metadata": {},
   "outputs": [],
   "source": [
    "processed_example = prepare_dataset(dataset[0])\n",
    "list(processed_example.keys())"
   ]
  },
  {
   "cell_type": "code",
   "execution_count": null,
   "id": "58899fdc",
   "metadata": {},
   "outputs": [],
   "source": []
  }
 ],
 "metadata": {
  "kernelspec": {
   "display_name": "python3",
   "language": "python",
   "name": "python3"
  }
 },
 "nbformat": 4,
 "nbformat_minor": 5
}
