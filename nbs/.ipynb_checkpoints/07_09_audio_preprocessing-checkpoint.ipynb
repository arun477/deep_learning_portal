{
 "cells": [
  {
   "cell_type": "markdown",
   "id": "173f591b",
   "metadata": {},
   "source": [
    "https://huggingface.co/learn/audio-course/en/chapter1/preprocessing (ref)"
   ]
  },
  {
   "cell_type": "code",
   "execution_count": null,
   "id": "f183c4d2",
   "metadata": {},
   "outputs": [],
   "source": []
  }
 ],
 "metadata": {
  "kernelspec": {
   "display_name": "python3",
   "language": "python",
   "name": "python3"
  }
 },
 "nbformat": 4,
 "nbformat_minor": 5
}
