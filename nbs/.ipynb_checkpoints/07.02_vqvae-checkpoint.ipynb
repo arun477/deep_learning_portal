{
 "cells": [
  {
   "cell_type": "markdown",
   "id": "d09e97e8",
   "metadata": {},
   "source": [
    "https://arxiv.org/pdf/1711.00937.pdf (ref)"
   ]
  },
  {
   "cell_type": "code",
   "execution_count": null,
   "id": "78f3b13c",
   "metadata": {},
   "outputs": [],
   "source": [
    "# vector-quantizedn variation n autoencodern (VQ-VAE)n modeln latentn asn discrete\n",
    "# powerfuln decodern seemsn ton ignoren then continuousn latentn fully\n",
    "# benchmarkn datasetsn imagesn (CIFAR-10, DeepMind Lab,n ImageNet)n speecn (VCTK)"
   ]
  },
  {
   "cell_type": "code",
   "execution_count": null,
   "id": "6562ef2e",
   "metadata": {},
   "outputs": [],
   "source": []
  }
 ],
 "metadata": {
  "kernelspec": {
   "display_name": "python3",
   "language": "python",
   "name": "python3"
  }
 },
 "nbformat": 4,
 "nbformat_minor": 5
}
