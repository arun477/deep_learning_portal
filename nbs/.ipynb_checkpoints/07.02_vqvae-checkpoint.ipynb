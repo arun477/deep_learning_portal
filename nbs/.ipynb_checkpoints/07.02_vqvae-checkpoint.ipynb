{
 "cells": [
  {
   "cell_type": "markdown",
   "id": "1be1a91b",
   "metadata": {},
   "source": [
    "https://arxiv.org/pdf/1711.00937.pdf (ref)"
   ]
  },
  {
   "cell_type": "code",
   "execution_count": null,
   "id": "6e34e44f",
   "metadata": {},
   "outputs": [],
   "source": [
    "# vector-quantized variation in autoencoder (vq-vae) models latent as discrete.\n",
    "# the powerful decoder seems to ignore the continuous latent fully.\n",
    "# benchmark datasets include images (cifar-10, deepmind lab, imagenet) and speech (vctk)."
   ]
  },
  {
   "cell_type": "code",
   "execution_count": null,
   "id": "07c84f65",
   "metadata": {},
   "outputs": [],
   "source": []
  },
  {
   "cell_type": "code",
   "execution_count": null,
   "id": "a53e22ed",
   "metadata": {},
   "outputs": [],
   "source": []
  }
 ],
 "metadata": {
  "kernelspec": {
   "display_name": "python3",
   "language": "python",
   "name": "python3"
  }
 },
 "nbformat": 4,
 "nbformat_minor": 5
}
