{
 "cells": [
  {
   "cell_type": "markdown",
   "id": "46d57259",
   "metadata": {},
   "source": [
    "https://arxiv.org/pdf/1711.00937.pdf (ref)"
   ]
  },
  {
   "cell_type": "code",
   "execution_count": null,
   "id": "69824195",
   "metadata": {},
   "outputs": [],
   "source": [
    "# vector-quantized variation in autoencoder (vq-vae) models latent as discrete.\n",
    "# the powerful decoder seems to ignore the continuous latent fully.\n",
    "# benchmark datasets include images (cifar-10, deepmind lab, imagenet) and speech (vctk)."
   ]
  },
  {
   "cell_type": "code",
   "execution_count": null,
   "id": "b0721e9d",
   "metadata": {},
   "outputs": [],
   "source": [
    "# basic idea is create equivalent word or token  like embedding for images."
   ]
  },
  {
   "cell_type": "code",
   "execution_count": null,
   "id": "a45b85d1",
   "metadata": {},
   "outputs": [],
   "source": []
  },
  {
   "cell_type": "code",
   "execution_count": null,
   "id": "2c0dc298",
   "metadata": {},
   "outputs": [],
   "source": []
  }
 ],
 "metadata": {
  "kernelspec": {
   "display_name": "python3",
   "language": "python",
   "name": "python3"
  }
 },
 "nbformat": 4,
 "nbformat_minor": 5
}
