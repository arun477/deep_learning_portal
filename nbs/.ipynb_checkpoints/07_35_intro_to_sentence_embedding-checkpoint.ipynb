{
 "cells": [
  {
   "cell_type": "markdown",
   "metadata": {
    "id": "1Rt5PVgXhAQS"
   },
   "source": [
    "https://osanseviero.github.io/hackerllama/blog/posts/sentence_embeddings/ (ref)"
   ]
  },
  {
   "cell_type": "code",
   "execution_count": 2,
   "metadata": {
    "colab": {
     "base_uri": "https://localhost:8080/"
    },
    "id": "8uQmnH22hxhz",
    "outputId": "d0ea30b0-eb40-4114-99d7-08d3280d1a1a"
   },
   "outputs": [
    {
     "name": "stdout",
     "output_type": "stream",
     "text": [
      "Installing collected packages: nvidia-nvtx-cu12, nvidia-nvjitlink-cu12, nvidia-nccl-cu12, nvidia-curand-cu12, nvidia-cufft-cu12, nvidia-cuda-runtime-cu12, nvidia-cuda-nvrtc-cu12, nvidia-cuda-cupti-cu12, nvidia-cublas-cu12, nvidia-cusparse-cu12, nvidia-cudnn-cu12, nvidia-cusolver-cu12, sentence_transformers\n",
      "Successfully installed nvidia-cublas-cu12-12.1.3.1 nvidia-cuda-cupti-cu12-12.1.105 nvidia-cuda-nvrtc-cu12-12.1.105 nvidia-cuda-runtime-cu12-12.1.105 nvidia-cudnn-cu12-8.9.2.26 nvidia-cufft-cu12-11.0.2.54 nvidia-curand-cu12-10.3.2.106 nvidia-cusolver-cu12-11.4.5.107 nvidia-cusparse-cu12-12.1.0.106 nvidia-nccl-cu12-2.19.3 nvidia-nvjitlink-cu12-12.4.99 nvidia-nvtx-cu12-12.1.105 sentence_transformers-2.6.0\n"
     ]
    }
   ],
   "source": [
    "!pip install sentence_transformers"
   ]
  },
  {
   "cell_type": "code",
   "execution_count": 8,
   "metadata": {
    "id": "u70Q6uorg2G-"
   },
   "outputs": [],
   "source": [
    "from sentence_transformers import SentenceTransformer, util"
   ]
  },
  {
   "cell_type": "code",
   "execution_count": 15,
   "metadata": {
    "id": "pX4NwYs8hA-D"
   },
   "outputs": [],
   "source": [
    "model = SentenceTransformer('sentence-transformers/all-MiniLM-L6-v2')"
   ]
  },
  {
   "cell_type": "code",
   "execution_count": 5,
   "metadata": {
    "colab": {
     "base_uri": "https://localhost:8080/"
    },
    "id": "uBb35vQ0ihIO",
    "outputId": "e1907f52-a424-4bf4-908a-597061e9aa91"
   },
   "outputs": [
    {
     "data": {
      "text/plain": [
       "(3, 384)"
      ]
     },
     "execution_count": 5,
     "metadata": {},
     "output_type": "execute_result"
    }
   ],
   "source": [
    "sentences = [\"The weather today is beautiful\", \"It's raining!\", \"Dogs are awesome\"]\n",
    "embeddings = model.encode(sentences)\n",
    "embeddings.shape"
   ]
  },
  {
   "cell_type": "code",
   "execution_count": 12,
   "metadata": {
    "colab": {
     "base_uri": "https://localhost:8080/"
    },
    "id": "BmWoYxQzit5g",
    "outputId": "9c5b1925-836f-4fe3-db28-838e514ea089"
   },
   "outputs": [
    {
     "name": "stdout",
     "output_type": "stream",
     "text": [
      "score:tensor([[0.7190]]) (The weather today is beautiful)\n",
      "score:tensor([[0.3898]]) (It's raining!)\n",
      "score:tensor([[0.1043]]) (Dogs are awesome)\n"
     ]
    }
   ],
   "source": [
    "first_embedding = model.encode('today is sunny day')\n",
    "for embedding, sentence in zip(embeddings, sentences):\n",
    "  cos_score = util.pytorch_cos_sim(first_embedding, embedding)\n",
    "  print(f\"score:{cos_score} ({sentence})\")"
   ]
  },
  {
   "cell_type": "code",
   "execution_count": 10,
   "metadata": {
    "id": "S_4RZRKyjalH"
   },
   "outputs": [],
   "source": [
    "faq = {\n",
    "    \"How do I get a replacement Medicare card?\": \"If your Medicare card was lost, stolen, or destroyed, you can request a replacement online at Medicare.gov.\",\n",
    "    \"How do I sign up for Medicare?\": \"If you already get Social Security benefits, you do not need to sign up for Medicare. We will automatically enroll you in Original Medicare (Part A and Part B) when you become eligible. We will mail you the information a few months before you become eligible.\",\n",
    "    \"What are Medicare late enrollment penalties?\": \"In most cases, if you don’t sign up for Medicare when you’re first eligible, you may have to pay a higher monthly premium. Find more information at https://faq.ssa.gov/en-us/Topic/article/KA-02995\",\n",
    "    \"Will my Medicare premiums be higher because of my higher income?\": \"Some people with higher income may pay a larger percentage of their monthly Medicare Part B and prescription drug costs based on their income. We call the additional amount the income-related monthly adjustment amount.\",\n",
    "    \"What is Medicare and who can get it?\": \"Medicare is a health insurance program for people age 65 or older. Some younger people are eligible for Medicare including people with disabilities, permanent kidney failure and amyotrophic lateral sclerosis (Lou Gehrig’s disease or ALS). Medicare helps with the cost of health care, but it does not cover all medical expenses or the cost of most long-term care.\",\n",
    "}"
   ]
  },
  {
   "cell_type": "code",
   "execution_count": 11,
   "metadata": {
    "colab": {
     "base_uri": "https://localhost:8080/"
    },
    "id": "2eJ5g6bdkE2-",
    "outputId": "f11c8222-9ec7-4c21-dadd-de86cba2b01b"
   },
   "outputs": [
    {
     "name": "stdout",
     "output_type": "stream",
     "text": [
      "(5, 384)\n"
     ]
    }
   ],
   "source": [
    "corpus_embeddings = model.encode(list(faq.keys()))\n",
    "print(corpus_embeddings.shape)"
   ]
  },
  {
   "cell_type": "code",
   "execution_count": 13,
   "metadata": {
    "id": "zIMCbXIKkP2F"
   },
   "outputs": [],
   "source": [
    "user_question = \"Do I need to pay more after a raise?\"\n",
    "user_question_embedding = model.encode(user_question)"
   ]
  },
  {
   "cell_type": "code",
   "execution_count": 14,
   "metadata": {
    "colab": {
     "base_uri": "https://localhost:8080/"
    },
    "id": "uCnhaeNKkkRI",
    "outputId": "c1f50890-b35c-4411-d6ab-89a6d923e6bc"
   },
   "outputs": [
    {
     "data": {
      "text/plain": [
       "[[{'corpus_id': 3, 'score': 0.4642062783241272},\n",
       "  {'corpus_id': 4, 'score': 0.11628524214029312},\n",
       "  {'corpus_id': 2, 'score': 0.09916316717863083},\n",
       "  {'corpus_id': 1, 'score': 0.09463591873645782},\n",
       "  {'corpus_id': 0, 'score': 0.07962210476398468}]]"
      ]
     },
     "execution_count": 14,
     "metadata": {},
     "output_type": "execute_result"
    }
   ],
   "source": [
    "similarities = util.semantic_search(user_question_embedding, corpus_embeddings, top_k=5)\n",
    "similarities"
   ]
  },
  {
   "cell_type": "code",
   "execution_count": 19,
   "metadata": {
    "colab": {
     "base_uri": "https://localhost:8080/"
    },
    "id": "-87jZOZTk3pl",
    "outputId": "3c356cff-6839-4087-c5ef-86f00dcaca2e"
   },
   "outputs": [
    {
     "name": "stdout",
     "output_type": "stream",
     "text": [
      "score:0.4642062783241272\n",
      "question:Will my Medicare premiums be higher because of my higher income?\n",
      "answer:Some people with higher income may pay a larger percentage of their monthly Medicare Part B and prescription drug costs based on their income. We call the additional amount the income-related monthly adjustment amount.\n",
      "\n",
      "score:0.11628524214029312\n",
      "question:What is Medicare and who can get it?\n",
      "answer:Medicare is a health insurance program for people age 65 or older. Some younger people are eligible for Medicare including people with disabilities, permanent kidney failure and amyotrophic lateral sclerosis (Lou Gehrig’s disease or ALS). Medicare helps with the cost of health care, but it does not cover all medical expenses or the cost of most long-term care.\n",
      "\n",
      "score:0.09916316717863083\n",
      "question:What are Medicare late enrollment penalties?\n",
      "answer:In most cases, if you don’t sign up for Medicare when you’re first eligible, you may have to pay a higher monthly premium. Find more information at https://faq.ssa.gov/en-us/Topic/article/KA-02995\n",
      "\n",
      "score:0.09463591873645782\n",
      "question:How do I sign up for Medicare?\n",
      "answer:If you already get Social Security benefits, you do not need to sign up for Medicare. We will automatically enroll you in Original Medicare (Part A and Part B) when you become eligible. We will mail you the information a few months before you become eligible.\n",
      "\n",
      "score:0.07962210476398468\n",
      "question:How do I get a replacement Medicare card?\n",
      "answer:If your Medicare card was lost, stolen, or destroyed, you can request a replacement online at Medicare.gov.\n",
      "\n"
     ]
    }
   ],
   "source": [
    "for i, result in enumerate(similarities[0]):\n",
    "  corpus_id = result['corpus_id']\n",
    "  question = list(faq.keys())[corpus_id]\n",
    "  answer = list(faq.values())[corpus_id]\n",
    "  score = result['score']\n",
    "  print(f\"score:{score}\\nquestion:{question}\\nanswer:{answer}\\n\")"
   ]
  },
  {
   "cell_type": "code",
   "execution_count": null,
   "metadata": {
    "id": "Ev0LtzY8lpXn"
   },
   "outputs": [],
   "source": []
  }
 ],
 "metadata": {
  "colab": {
   "provenance": []
  },
  "kernelspec": {
   "display_name": "Python 3",
   "name": "python3"
  },
  "language_info": {
   "name": "python"
  }
 },
 "nbformat": 4,
 "nbformat_minor": 0
}
