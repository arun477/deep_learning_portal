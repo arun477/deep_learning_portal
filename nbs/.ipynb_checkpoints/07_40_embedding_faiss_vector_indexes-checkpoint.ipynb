{
 "cells": [
  {
   "cell_type": "markdown",
   "metadata": {
    "id": "t07Sh4oYvq2Z"
   },
   "source": [
    "https://www.pinecone.io/learn/series/faiss/vector-indexes/ (ref)"
   ]
  },
  {
   "cell_type": "code",
   "execution_count": null,
   "metadata": {
    "id": "dtNsVYtDvdHY"
   },
   "outputs": [],
   "source": [
    "!pip install -q sentence_transformers faiss-cpu"
   ]
  },
  {
   "cell_type": "code",
   "execution_count": 6,
   "metadata": {
    "id": "FDFI3aB0vsAn"
   },
   "outputs": [],
   "source": [
    "import shutil\n",
    "import urllib.request as request\n",
    "from contextlib import closing"
   ]
  },
  {
   "cell_type": "code",
   "execution_count": 8,
   "metadata": {
    "id": "k8wPhfBVyQ4r"
   },
   "outputs": [],
   "source": [
    "url = 'ftp://ftp.irisa.fr/local/texmex/corpus/sift.tar.gz'"
   ]
  },
  {
   "cell_type": "code",
   "execution_count": 9,
   "metadata": {
    "id": "Ajkn6QB4x30H"
   },
   "outputs": [],
   "source": [
    "with closing(request.urlopen(url)) as r:\n",
    "  with open('sift.tar.gz', 'wb') as f:\n",
    "    shutil.copyfileobj(r, f)"
   ]
  },
  {
   "cell_type": "code",
   "execution_count": 11,
   "metadata": {
    "id": "5hY1yqWOyhah"
   },
   "outputs": [],
   "source": [
    "import tarfile"
   ]
  },
  {
   "cell_type": "code",
   "execution_count": 12,
   "metadata": {
    "id": "jQO7ffSIym_N"
   },
   "outputs": [],
   "source": [
    "tar = tarfile.open('sift.tar.gz', 'r:gz')\n",
    "tar.extractall()"
   ]
  },
  {
   "cell_type": "code",
   "execution_count": 30,
   "metadata": {
    "id": "K-FFYMm6yz2C"
   },
   "outputs": [],
   "source": [
    "import numpy as np\n",
    "\n",
    "def read_fvecs(fp):\n",
    "  a = np.fromfile(fp, dtype='int32')\n",
    "  d = a[0]\n",
    "  return a.reshape(-1, d+1)[:,1:].copy().view('float32')"
   ]
  },
  {
   "cell_type": "code",
   "execution_count": 31,
   "metadata": {
    "colab": {
     "base_uri": "https://localhost:8080/"
    },
    "id": "m74I_5D0zdMI",
    "outputId": "8099fd24-0048-4aad-c1e1-60049bc3b0b1"
   },
   "outputs": [
    {
     "data": {
      "text/plain": [
       "(1000000, 128)"
      ]
     },
     "execution_count": 31,
     "metadata": {},
     "output_type": "execute_result"
    }
   ],
   "source": [
    "xb = read_fvecs('./sift/sift_base.fvecs')\n",
    "xb.shape"
   ]
  },
  {
   "cell_type": "code",
   "execution_count": 35,
   "metadata": {
    "colab": {
     "base_uri": "https://localhost:8080/"
    },
    "id": "QjCnHSVj0Cvw",
    "outputId": "e35558a3-6cfd-445b-ba4c-a52cc603b9ad"
   },
   "outputs": [
    {
     "data": {
      "text/plain": [
       "(1, 128)"
      ]
     },
     "execution_count": 35,
     "metadata": {},
     "output_type": "execute_result"
    }
   ],
   "source": [
    "xq = read_fvecs('./sift/sift_query.fvecs')\n",
    "xq = xq[0].reshape(1, xq.shape[1])\n",
    "xq.shape"
   ]
  },
  {
   "cell_type": "code",
   "execution_count": 37,
   "metadata": {
    "colab": {
     "base_uri": "https://localhost:8080/"
    },
    "id": "JpGNSyYy0X1n",
    "outputId": "b7f4a662-4564-43dc-dd27-765712490c6f"
   },
   "outputs": [
    {
     "data": {
      "text/plain": [
       "True"
      ]
     },
     "execution_count": 37,
     "metadata": {},
     "output_type": "execute_result"
    }
   ],
   "source": [
    "import faiss\n",
    "\n",
    "d = 128\n",
    "k = 10\n",
    "\n",
    "index = faiss.IndexFlatIP(d)\n",
    "index.is_trained"
   ]
  },
  {
   "cell_type": "code",
   "execution_count": null,
   "metadata": {
    "id": "J0OJFmho29wS"
   },
   "outputs": [],
   "source": [
    "index.add(xb)"
   ]
  },
  {
   "cell_type": "code",
   "execution_count": 40,
   "metadata": {
    "id": "4IkdZD8e0jNj"
   },
   "outputs": [],
   "source": [
    "D, I = index.search(xq, k)"
   ]
  },
  {
   "cell_type": "code",
   "execution_count": 42,
   "metadata": {
    "colab": {
     "base_uri": "https://localhost:8080/"
    },
    "id": "k8stNHcF1Avp",
    "outputId": "07861237-c7e0-49cf-b998-328cabca43aa"
   },
   "outputs": [
    {
     "data": {
      "text/plain": [
       "(1, 10)"
      ]
     },
     "execution_count": 42,
     "metadata": {},
     "output_type": "execute_result"
    }
   ],
   "source": [
    "I.shape"
   ]
  },
  {
   "cell_type": "code",
   "execution_count": 43,
   "metadata": {
    "colab": {
     "base_uri": "https://localhost:8080/"
    },
    "id": "TLwHPvbL1IXh",
    "outputId": "3a676fbe-df01-448a-ad1d-48b1cbc965b5"
   },
   "outputs": [
    {
     "data": {
      "text/plain": [
       "True"
      ]
     },
     "execution_count": 43,
     "metadata": {},
     "output_type": "execute_result"
    }
   ],
   "source": [
    "nbits = d*4\n",
    "index = faiss.IndexLSH(d, nbits)\n",
    "index.is_trained"
   ]
  },
  {
   "cell_type": "code",
   "execution_count": 44,
   "metadata": {
    "id": "TO-wQa5l23Fw"
   },
   "outputs": [],
   "source": [
    "index.add(xb)"
   ]
  },
  {
   "cell_type": "code",
   "execution_count": 45,
   "metadata": {
    "id": "3NF81QbM247Z"
   },
   "outputs": [],
   "source": [
    "D, I = index.search(xq, k)"
   ]
  },
  {
   "cell_type": "code",
   "execution_count": 46,
   "metadata": {
    "colab": {
     "base_uri": "https://localhost:8080/"
    },
    "id": "2WFUevuR3Myy",
    "outputId": "59373282-15b8-47de-91f7-578c7af4b6a3"
   },
   "outputs": [
    {
     "data": {
      "text/plain": [
       "(1, 10)"
      ]
     },
     "execution_count": 46,
     "metadata": {},
     "output_type": "execute_result"
    }
   ],
   "source": [
    "I.shape"
   ]
  },
  {
   "cell_type": "code",
   "execution_count": 48,
   "metadata": {
    "id": "JC4w_FMP3Nd3"
   },
   "outputs": [],
   "source": [
    "M = 64\n",
    "ef_search = 32\n",
    "ef_construction = 64\n",
    "\n",
    "index = faiss.IndexHNSWFlat(d, M)\n",
    "index.hnsw.efConstruction = ef_construction\n",
    "index.hnsw.efSearch = ef_search"
   ]
  },
  {
   "cell_type": "code",
   "execution_count": null,
   "metadata": {
    "id": "G2UoPWi_7Utb"
   },
   "outputs": [],
   "source": [
    "index.add(xb)"
   ]
  },
  {
   "cell_type": "code",
   "execution_count": null,
   "metadata": {
    "id": "KZd_F0Z07ZbV"
   },
   "outputs": [],
   "source": [
    "D, I = index.search(xb, k)"
   ]
  },
  {
   "cell_type": "code",
   "execution_count": null,
   "metadata": {
    "id": "rgXoZMzn3RHv"
   },
   "outputs": [],
   "source": [
    "nlist = 128\n",
    "quantizer = faiss.IndexFlatIP(d)\n",
    "index = faiss.IndexIVFFlat(quantizer, d, nlist)\n",
    "index.train(xb)\n",
    "index.add(xb)"
   ]
  },
  {
   "cell_type": "code",
   "execution_count": null,
   "metadata": {
    "id": "iVsUz_tz83m1"
   },
   "outputs": [],
   "source": [
    "index.nprobe = 8"
   ]
  },
  {
   "cell_type": "code",
   "execution_count": null,
   "metadata": {
    "id": "7hDFaaM686G-"
   },
   "outputs": [],
   "source": [
    "D, I = index.seach(xq, k)"
   ]
  },
  {
   "cell_type": "code",
   "execution_count": null,
   "metadata": {
    "id": "AIp4Zvf97Yd4"
   },
   "outputs": [],
   "source": []
  }
 ],
 "metadata": {
  "colab": {
   "provenance": []
  },
  "kernelspec": {
   "display_name": "Python 3",
   "name": "python3"
  },
  "language_info": {
   "name": "python"
  }
 },
 "nbformat": 4,
 "nbformat_minor": 0
}
