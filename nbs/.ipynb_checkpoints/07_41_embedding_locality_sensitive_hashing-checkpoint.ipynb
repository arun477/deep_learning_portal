{
 "cells": [
  {
   "cell_type": "markdown",
   "id": "3b1ffe39",
   "metadata": {},
   "source": [
    "https://www.pinecone.io/learn/series/faiss/locality-sensitive-hashing/ (ref)"
   ]
  },
  {
   "cell_type": "code",
   "execution_count": 9,
   "id": "944fe773",
   "metadata": {},
   "outputs": [],
   "source": [
    "a = \"flying fish flew by the space station\"\n",
    "b = \"we will not allow you to bring your pet armadillo along\"\n",
    "c = \"he figured a few sticks of dynamite were easier than a fishing pole to catch fish\""
   ]
  },
  {
   "cell_type": "code",
   "execution_count": 10,
   "id": "9a5a32f7",
   "metadata": {},
   "outputs": [],
   "source": [
    "def shingle(text, k):\n",
    "    shingle_set = []\n",
    "    for i in range(len(text) - k+1):\n",
    "        shingle_set.append(text[i:i+k])\n",
    "    return set(shingle_set)"
   ]
  },
  {
   "cell_type": "code",
   "execution_count": 11,
   "id": "df24f6f3",
   "metadata": {
    "scrolled": true
   },
   "outputs": [],
   "source": [
    "a_s = shingle(a, 2)\n",
    "b_s = shingle(b, 2)\n",
    "c_s = shingle(c, 2)"
   ]
  },
  {
   "cell_type": "code",
   "execution_count": 17,
   "id": "fc52a902",
   "metadata": {},
   "outputs": [],
   "source": [
    "vocab = a_s | b_s | c_s\n",
    "vocab_lst = list(vocab)\n",
    "stoi = {s: i for i,s in enumerate(vocab_lst)}"
   ]
  },
  {
   "cell_type": "code",
   "execution_count": 16,
   "id": "d02bf38c",
   "metadata": {},
   "outputs": [
    {
     "data": {
      "text/plain": [
       "102"
      ]
     },
     "execution_count": 16,
     "metadata": {},
     "output_type": "execute_result"
    }
   ],
   "source": [
    "len(vocab)"
   ]
  },
  {
   "cell_type": "code",
   "execution_count": 22,
   "id": "a0d07952",
   "metadata": {},
   "outputs": [
    {
     "data": {
      "text/plain": [
       "[1, 2]"
      ]
     },
     "execution_count": 22,
     "metadata": {},
     "output_type": "execute_result"
    }
   ],
   "source": [
    "hash_ex = list(range(1, len(vocab)+1))\n",
    "hash_ex[:2]"
   ]
  },
  {
   "cell_type": "code",
   "execution_count": 23,
   "id": "8d8f6925",
   "metadata": {},
   "outputs": [
    {
     "name": "stdout",
     "output_type": "stream",
     "text": [
      "[1, 2, 3, 4, 5, 6, 7, 8, 9, 10, 11, 12, 13, 14, 15, 16, 17, 18, 19, 20, 21, 22, 23, 24, 25, 26, 27, 28, 29, 30, 31, 32, 33, 34, 35, 36, 37, 38, 39, 40, 41, 42, 43, 44, 45, 46, 47, 48, 49, 50, 51, 52, 53, 54, 55, 56, 57, 58, 59, 60, 61, 62, 63, 64, 65, 66, 67, 68, 69, 70, 71, 72, 73, 74, 75, 76, 77, 78, 79, 80, 81, 82, 83, 84, 85, 86, 87, 88, 89, 90, 91, 92, 93, 94, 95, 96, 97, 98, 99, 100, 101, 102]\n"
     ]
    }
   ],
   "source": [
    "hash_ex = list(range(1, len(vocab)+1))\n",
    "print(hash_ex)  # we haven't shuffled yet"
   ]
  },
  {
   "cell_type": "code",
   "execution_count": 24,
   "id": "df9dd7f2",
   "metadata": {},
   "outputs": [],
   "source": [
    "from random import shuffle"
   ]
  },
  {
   "cell_type": "code",
   "execution_count": 25,
   "id": "3df808e5",
   "metadata": {},
   "outputs": [],
   "source": [
    "shuffle(hash_ex)"
   ]
  },
  {
   "cell_type": "code",
   "execution_count": 42,
   "id": "c1c14d20",
   "metadata": {
    "scrolled": true
   },
   "outputs": [],
   "source": [
    "import numpy as np\n",
    "\n",
    "a_1hot = np.zeros(len(vocab), dtype=int)\n",
    "b_1hot = np.zeros(len(vocab), dtype=int)\n",
    "c_1hot = np.zeros(len(vocab), dtype=int)\n",
    "\n",
    "for s in a_s:\n",
    "    a_1hot[stoi[s]] = 1\n",
    "for s in b_s:\n",
    "    b_1hot[stoi[s]] = 1\n",
    "for s in c_s:\n",
    "    c_1hot[stoi[s]] = 1"
   ]
  },
  {
   "cell_type": "code",
   "execution_count": 44,
   "id": "4d978bd6",
   "metadata": {},
   "outputs": [
    {
     "name": "stdout",
     "output_type": "stream",
     "text": [
      "1 -> 19 -> 0\n",
      "2 -> 48 -> 0\n",
      "3 -> 61 -> 1\n",
      "match!\n"
     ]
    }
   ],
   "source": [
    "for i in range(1, len(vocab)+1):\n",
    "    idx = hash_ex.index(i)\n",
    "    sig_val = b_1hot[idx]\n",
    "    print(f\"{i} -> {idx} -> {sig_val}\")\n",
    "    if sig_val==1:\n",
    "        print('match!')\n",
    "        break"
   ]
  },
  {
   "cell_type": "code",
   "execution_count": 48,
   "id": "1e160a85",
   "metadata": {},
   "outputs": [
    {
     "data": {
      "text/plain": [
       "(20, 102)"
      ]
     },
     "execution_count": 48,
     "metadata": {},
     "output_type": "execute_result"
    }
   ],
   "source": [
    "def create_hash_func(size):\n",
    "    hash_ex = list(range(1, size))\n",
    "    shuffle(hash_ex)\n",
    "    return hash_ex\n",
    "\n",
    "def build_minhash_func(vocab_size, nbits):\n",
    "    hashes = []\n",
    "    for _ in range(nbits):\n",
    "        hashes.append(create_hash_func(vocab_size+1))\n",
    "    return hashes\n",
    "\n",
    "minhash_func = build_minhash_func(len(vocab), 20)\n",
    "np.array(minhash_func).shape"
   ]
  },
  {
   "cell_type": "code",
   "execution_count": 50,
   "id": "b153e9f3",
   "metadata": {},
   "outputs": [],
   "source": [
    "def create_hash(vector):\n",
    "    signature = []\n",
    "    for func in minhash_func:\n",
    "        for i in range(1, len(vocab)+1):\n",
    "            idx = func.index(i)\n",
    "            sign_val = vector[idx]\n",
    "            if sign_val == 1:\n",
    "                signature.append(idx)\n",
    "                break\n",
    "    return signature"
   ]
  },
  {
   "cell_type": "code",
   "execution_count": 53,
   "id": "1676475e",
   "metadata": {},
   "outputs": [],
   "source": [
    "a_sig = create_hash(a_1hot)\n",
    "b_sig = create_hash(b_1hot)\n",
    "c_sig = create_hash(c_1hot)"
   ]
  },
  {
   "cell_type": "code",
   "execution_count": 60,
   "id": "540983f9",
   "metadata": {},
   "outputs": [],
   "source": [
    "def jaccard(a:set, b:set):\n",
    "    return len(a.intersection(b))/len(a.union(b))"
   ]
  },
  {
   "cell_type": "code",
   "execution_count": 61,
   "id": "81eccce3",
   "metadata": {},
   "outputs": [
    {
     "data": {
      "text/plain": [
       "(0.125, 0.10714285714285714)"
      ]
     },
     "execution_count": 61,
     "metadata": {},
     "output_type": "execute_result"
    }
   ],
   "source": [
    "jaccard(a_s, b_s),jaccard(set(a_sig), set(b_sig))"
   ]
  },
  {
   "cell_type": "code",
   "execution_count": 65,
   "id": "8b3a678b",
   "metadata": {},
   "outputs": [
    {
     "data": {
      "text/plain": [
       "(0.24358974358974358, 0.13333333333333333)"
      ]
     },
     "execution_count": 65,
     "metadata": {},
     "output_type": "execute_result"
    }
   ],
   "source": [
    "jaccard(a_s, c_s), jaccard(set(a_sig), set(c_sig))"
   ]
  },
  {
   "cell_type": "code",
   "execution_count": 63,
   "id": "204fe2d5",
   "metadata": {},
   "outputs": [
    {
     "data": {
      "text/plain": [
       "(0.15384615384615385, 0.12121212121212122)"
      ]
     },
     "execution_count": 63,
     "metadata": {},
     "output_type": "execute_result"
    }
   ],
   "source": [
    "jaccard(b_s, c_s), jaccard(set(b_sig), set(c_sig))"
   ]
  },
  {
   "cell_type": "code",
   "execution_count": null,
   "id": "d81cc046",
   "metadata": {},
   "outputs": [],
   "source": []
  }
 ],
 "metadata": {
  "kernelspec": {
   "display_name": "m",
   "language": "python",
   "name": "m"
  },
  "language_info": {
   "codemirror_mode": {
    "name": "ipython",
    "version": 3
   },
   "file_extension": ".py",
   "mimetype": "text/x-python",
   "name": "python",
   "nbconvert_exporter": "python",
   "pygments_lexer": "ipython3",
   "version": "3.9.19"
  }
 },
 "nbformat": 4,
 "nbformat_minor": 5
}
