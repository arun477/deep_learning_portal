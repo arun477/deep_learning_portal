{
 "cells": [
  {
   "cell_type": "markdown",
   "id": "9a408179",
   "metadata": {},
   "source": [
    "https://www.pinecone.io/learn/series/faiss/locality-sensitive-hashing/ (ref)"
   ]
  },
  {
   "cell_type": "code",
   "execution_count": 9,
   "id": "5c512996",
   "metadata": {},
   "outputs": [],
   "source": [
    "a = \"flying fish flew by the space station\"\n",
    "b = \"we will not allow you to bring your pet armadillo along\"\n",
    "c = \"he figured a few sticks of dynamite were easier than a fishing pole to catch fish\""
   ]
  },
  {
   "cell_type": "code",
   "execution_count": 10,
   "id": "2541c9d9",
   "metadata": {},
   "outputs": [],
   "source": [
    "def shingle(text, k):\n",
    "    shingle_set = []\n",
    "    for i in range(len(text) - k+1):\n",
    "        shingle_set.append(text[i:i+k])\n",
    "    return set(shingle_set)"
   ]
  },
  {
   "cell_type": "code",
   "execution_count": 11,
   "id": "5cd0c31c",
   "metadata": {
    "scrolled": true
   },
   "outputs": [],
   "source": [
    "a_s = shingle(a, 2)\n",
    "b_s = shingle(b, 2)\n",
    "c_s = shingle(c, 2)"
   ]
  },
  {
   "cell_type": "code",
   "execution_count": 17,
   "id": "5109f44c",
   "metadata": {},
   "outputs": [],
   "source": [
    "vocab = a_s | b_s | c_s\n",
    "vocab_lst = list(vocab)\n",
    "stoi = {s: i for i,s in enumerate(vocab_lst)}"
   ]
  },
  {
   "cell_type": "code",
   "execution_count": 16,
   "id": "c38eb884",
   "metadata": {},
   "outputs": [
    {
     "data": {
      "text/plain": [
       "102"
      ]
     },
     "execution_count": 16,
     "metadata": {},
     "output_type": "execute_result"
    }
   ],
   "source": [
    "len(vocab)"
   ]
  },
  {
   "cell_type": "code",
   "execution_count": 22,
   "id": "a0e7b2ad",
   "metadata": {},
   "outputs": [
    {
     "data": {
      "text/plain": [
       "[1, 2]"
      ]
     },
     "execution_count": 22,
     "metadata": {},
     "output_type": "execute_result"
    }
   ],
   "source": [
    "hash_ex = list(range(1, len(vocab)+1))\n",
    "hash_ex[:2]"
   ]
  },
  {
   "cell_type": "code",
   "execution_count": 23,
   "id": "74fcac5d",
   "metadata": {},
   "outputs": [
    {
     "name": "stdout",
     "output_type": "stream",
     "text": [
      "[1, 2, 3, 4, 5, 6, 7, 8, 9, 10, 11, 12, 13, 14, 15, 16, 17, 18, 19, 20, 21, 22, 23, 24, 25, 26, 27, 28, 29, 30, 31, 32, 33, 34, 35, 36, 37, 38, 39, 40, 41, 42, 43, 44, 45, 46, 47, 48, 49, 50, 51, 52, 53, 54, 55, 56, 57, 58, 59, 60, 61, 62, 63, 64, 65, 66, 67, 68, 69, 70, 71, 72, 73, 74, 75, 76, 77, 78, 79, 80, 81, 82, 83, 84, 85, 86, 87, 88, 89, 90, 91, 92, 93, 94, 95, 96, 97, 98, 99, 100, 101, 102]\n"
     ]
    }
   ],
   "source": [
    "hash_ex = list(range(1, len(vocab)+1))\n",
    "print(hash_ex)  # we haven't shuffled yet"
   ]
  },
  {
   "cell_type": "code",
   "execution_count": 24,
   "id": "e25e2478",
   "metadata": {},
   "outputs": [],
   "source": [
    "from random import shuffle"
   ]
  },
  {
   "cell_type": "code",
   "execution_count": 25,
   "id": "9a6d59eb",
   "metadata": {},
   "outputs": [],
   "source": [
    "shuffle(hash_ex)"
   ]
  },
  {
   "cell_type": "code",
   "execution_count": 42,
   "id": "6cc356a5",
   "metadata": {
    "scrolled": true
   },
   "outputs": [],
   "source": [
    "import numpy as np\n",
    "\n",
    "a_1hot = np.zeros(len(vocab), dtype=int)\n",
    "b_1hot = np.zeros(len(vocab), dtype=int)\n",
    "c_1hot = np.zeros(len(vocab), dtype=int)\n",
    "\n",
    "for s in a_s:\n",
    "    a_1hot[stoi[s]] = 1\n",
    "for s in b_s:\n",
    "    b_1hot[stoi[s]] = 1\n",
    "for s in c_s:\n",
    "    c_1hot[stoi[s]] = 1"
   ]
  },
  {
   "cell_type": "code",
   "execution_count": 44,
   "id": "4f220166",
   "metadata": {},
   "outputs": [
    {
     "name": "stdout",
     "output_type": "stream",
     "text": [
      "1 -> 19 -> 0\n",
      "2 -> 48 -> 0\n",
      "3 -> 61 -> 1\n",
      "match!\n"
     ]
    }
   ],
   "source": [
    "for i in range(1, len(vocab)+1):\n",
    "    idx = hash_ex.index(i)\n",
    "    sig_val = b_1hot[idx]\n",
    "    print(f\"{i} -> {idx} -> {sig_val}\")\n",
    "    if sig_val==1:\n",
    "        print('match!')\n",
    "        break"
   ]
  },
  {
   "cell_type": "code",
   "execution_count": 48,
   "id": "92d944bb",
   "metadata": {},
   "outputs": [
    {
     "data": {
      "text/plain": [
       "(20, 102)"
      ]
     },
     "execution_count": 48,
     "metadata": {},
     "output_type": "execute_result"
    }
   ],
   "source": [
    "def create_hash_func(size):\n",
    "    hash_ex = list(range(1, size))\n",
    "    shuffle(hash_ex)\n",
    "    return hash_ex\n",
    "\n",
    "def build_minhash_func(vocab_size, nbits):\n",
    "    hashes = []\n",
    "    for _ in range(nbits):\n",
    "        hashes.append(create_hash_func(vocab_size+1))\n",
    "    return hashes\n",
    "\n",
    "minhash_func = build_minhash_func(len(vocab), 20)\n",
    "np.array(minhash_func).shape"
   ]
  },
  {
   "cell_type": "code",
   "execution_count": 50,
   "id": "6fed022a",
   "metadata": {},
   "outputs": [],
   "source": [
    "def create_hash(vector):\n",
    "    signature = []\n",
    "    for func in minhash_func:\n",
    "        for i in range(1, len(vocab)+1):\n",
    "            idx = func.index(i)\n",
    "            sign_val = vector[idx]\n",
    "            if sign_val == 1:\n",
    "                signature.append(idx)\n",
    "                break\n",
    "    return signature"
   ]
  },
  {
   "cell_type": "code",
   "execution_count": 53,
   "id": "4e1ca14a",
   "metadata": {},
   "outputs": [],
   "source": [
    "a_sig = create_hash(a_1hot)\n",
    "b_sig = create_hash(b_1hot)\n",
    "c_sig = create_hash(c_1hot)"
   ]
  },
  {
   "cell_type": "code",
   "execution_count": 60,
   "id": "6da2556e",
   "metadata": {},
   "outputs": [],
   "source": [
    "def jaccard(a:set, b:set):\n",
    "    return len(a.intersection(b))/len(a.union(b))"
   ]
  },
  {
   "cell_type": "code",
   "execution_count": 61,
   "id": "61474b16",
   "metadata": {},
   "outputs": [
    {
     "data": {
      "text/plain": [
       "(0.125, 0.10714285714285714)"
      ]
     },
     "execution_count": 61,
     "metadata": {},
     "output_type": "execute_result"
    }
   ],
   "source": [
    "jaccard(a_s, b_s),jaccard(set(a_sig), set(b_sig))"
   ]
  },
  {
   "cell_type": "code",
   "execution_count": 65,
   "id": "5318e27a",
   "metadata": {},
   "outputs": [
    {
     "data": {
      "text/plain": [
       "(0.24358974358974358, 0.13333333333333333)"
      ]
     },
     "execution_count": 65,
     "metadata": {},
     "output_type": "execute_result"
    }
   ],
   "source": [
    "jaccard(a_s, c_s), jaccard(set(a_sig), set(c_sig))"
   ]
  },
  {
   "cell_type": "code",
   "execution_count": 63,
   "id": "f86222f2",
   "metadata": {},
   "outputs": [
    {
     "data": {
      "text/plain": [
       "(0.15384615384615385, 0.12121212121212122)"
      ]
     },
     "execution_count": 63,
     "metadata": {},
     "output_type": "execute_result"
    }
   ],
   "source": [
    "jaccard(b_s, c_s), jaccard(set(b_sig), set(c_sig))"
   ]
  },
  {
   "cell_type": "code",
   "execution_count": 67,
   "id": "4711f076",
   "metadata": {},
   "outputs": [],
   "source": [
    "def split_vector(signature, b):\n",
    "    assert len(signature) % b == 0\n",
    "    r = int(len(signature)/b)\n",
    "    subvecs = []\n",
    "    for i in range(0, len(signature), r):\n",
    "        subvecs.append(signature[i: i+r])\n",
    "    return subvecs"
   ]
  },
  {
   "cell_type": "code",
   "execution_count": 75,
   "id": "0df26fb8",
   "metadata": {},
   "outputs": [
    {
     "data": {
      "text/plain": [
       "[[32, 6],\n",
       " [17, 83],\n",
       " [21, 58],\n",
       " [67, 83],\n",
       " [47, 6],\n",
       " [21, 86],\n",
       " [85, 26],\n",
       " [85, 51],\n",
       " [79, 79],\n",
       " [99, 85]]"
      ]
     },
     "execution_count": 75,
     "metadata": {},
     "output_type": "execute_result"
    }
   ],
   "source": [
    "band_a = split_vector(a_sig, 10)\n",
    "band_a"
   ]
  },
  {
   "cell_type": "code",
   "execution_count": 69,
   "id": "0784d402",
   "metadata": {},
   "outputs": [
    {
     "data": {
      "text/plain": [
       "[[67, 80],\n",
       " [39, 83],\n",
       " [50, 9],\n",
       " [67, 83],\n",
       " [61, 66],\n",
       " [38, 2],\n",
       " [78, 53],\n",
       " [85, 70],\n",
       " [82, 42],\n",
       " [5, 85]]"
      ]
     },
     "execution_count": 69,
     "metadata": {},
     "output_type": "execute_result"
    }
   ],
   "source": [
    "band_b = split_vector(b_sig, 10)\n",
    "band_b"
   ]
  },
  {
   "cell_type": "code",
   "execution_count": 70,
   "id": "18068e9f",
   "metadata": {},
   "outputs": [
    {
     "data": {
      "text/plain": [
       "[[98, 45],\n",
       " [35, 10],\n",
       " [68, 54],\n",
       " [30, 13],\n",
       " [44, 66],\n",
       " [90, 86],\n",
       " [78, 26],\n",
       " [85, 38],\n",
       " [79, 12],\n",
       " [96, 4]]"
      ]
     },
     "execution_count": 70,
     "metadata": {},
     "output_type": "execute_result"
    }
   ],
   "source": [
    "band_c = split_vector(c_sig, 10)\n",
    "band_c"
   ]
  },
  {
   "cell_type": "code",
   "execution_count": 81,
   "id": "b6274edc",
   "metadata": {},
   "outputs": [
    {
     "name": "stdout",
     "output_type": "stream",
     "text": [
      "candidate pair: [67, 83]==[67, 83]\n"
     ]
    }
   ],
   "source": [
    "for b_rows, c_rows in zip(band_a, band_b):\n",
    "    if b_rows == c_rows:\n",
    "        print(f\"candidate pair: {b_rows}=={c_rows}\")\n",
    "        break"
   ]
  },
  {
   "cell_type": "code",
   "execution_count": 82,
   "id": "5006725f",
   "metadata": {},
   "outputs": [],
   "source": [
    "def probs(s, r, b):\n",
    "    return 1 - (1-s**r)**b"
   ]
  },
  {
   "cell_type": "code",
   "execution_count": 87,
   "id": "3b34dcde",
   "metadata": {},
   "outputs": [],
   "source": [
    "import numpy as np\n",
    "import pandas as pd\n",
    "import matplotlib.pyplot as plt\n",
    "import seaborn as sns"
   ]
  },
  {
   "cell_type": "code",
   "execution_count": 91,
   "id": "31808125",
   "metadata": {
    "scrolled": true
   },
   "outputs": [
    {
     "data": {
      "text/html": [
       "<div>\n",
       "<style scoped>\n",
       "    .dataframe tbody tr th:only-of-type {\n",
       "        vertical-align: middle;\n",
       "    }\n",
       "\n",
       "    .dataframe tbody tr th {\n",
       "        vertical-align: top;\n",
       "    }\n",
       "\n",
       "    .dataframe thead th {\n",
       "        text-align: right;\n",
       "    }\n",
       "</style>\n",
       "<table border=\"1\" class=\"dataframe\">\n",
       "  <thead>\n",
       "    <tr style=\"text-align: right;\">\n",
       "      <th></th>\n",
       "      <th>s</th>\n",
       "      <th>p</th>\n",
       "      <th>r,b</th>\n",
       "    </tr>\n",
       "  </thead>\n",
       "  <tbody>\n",
       "    <tr>\n",
       "      <th>0</th>\n",
       "      <td>0.01</td>\n",
       "      <td>0.633968</td>\n",
       "      <td>1,100</td>\n",
       "    </tr>\n",
       "    <tr>\n",
       "      <th>1</th>\n",
       "      <td>0.01</td>\n",
       "      <td>0.004988</td>\n",
       "      <td>2,50</td>\n",
       "    </tr>\n",
       "  </tbody>\n",
       "</table>\n",
       "</div>"
      ],
      "text/plain": [
       "      s         p    r,b\n",
       "0  0.01  0.633968  1,100\n",
       "1  0.01  0.004988   2,50"
      ]
     },
     "execution_count": 91,
     "metadata": {},
     "output_type": "execute_result"
    }
   ],
   "source": [
    "results =[]\n",
    "for s in np.arange(0.01, 1, 0.01):\n",
    "    total = 100\n",
    "    for b in [100, 50, 25, 20, 10, 5, 4, 2, 1]:\n",
    "        r = int(total/b)\n",
    "        p = probs(s,r,b)\n",
    "        results.append({\n",
    "            's':s,\n",
    "            'p':p,\n",
    "            'r,b': f\"{r},{b}\"\n",
    "        })\n",
    "\n",
    "pd.DataFrame(results).head(2)"
   ]
  },
  {
   "cell_type": "code",
   "execution_count": 94,
   "id": "81870e10",
   "metadata": {},
   "outputs": [
    {
     "data": {
      "text/plain": [
       "<Axes: xlabel='s', ylabel='p'>"
      ]
     },
     "execution_count": 94,
     "metadata": {},
     "output_type": "execute_result"
    },
    {
     "data": {
      "image/png": "[encoded data removed]",
      "text/plain": [
       "<Figure size 640x480 with 1 Axes>"
      ]
     },
     "metadata": {},
     "output_type": "display_data"
    }
   ],
   "source": [
    "sns.lineplot(data=pd.DataFrame(results), x='s', y='p', hue='r,b');"
   ]
  },
  {
   "cell_type": "code",
   "execution_count": null,
   "id": "8afe4919",
   "metadata": {},
   "outputs": [],
   "source": []
  }
 ],
 "metadata": {
  "kernelspec": {
   "display_name": "m",
   "language": "python",
   "name": "m"
  },
  "language_info": {
   "codemirror_mode": {
    "name": "ipython",
    "version": 3
   },
   "file_extension": ".py",
   "mimetype": "text/x-python",
   "name": "python",
   "nbconvert_exporter": "python",
   "pygments_lexer": "ipython3",
   "version": "3.9.19"
  }
 },
 "nbformat": 4,
 "nbformat_minor": 5
}
