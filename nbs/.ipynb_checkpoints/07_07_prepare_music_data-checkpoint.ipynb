{
 "cells": [
  {
   "cell_type": "code",
   "execution_count": null,
   "id": "1d01f6dd",
   "metadata": {},
   "outputs": [],
   "source": [
    "# !pip install moviepy"
   ]
  },
  {
   "cell_type": "code",
   "execution_count": null,
   "id": "987d8a44",
   "metadata": {},
   "outputs": [],
   "source": [
    "from IPython.display import Video, Audio\n",
    "from moviepy.editor import VideoFileClip\n",
    "from pathlib import Path"
   ]
  },
  {
   "cell_type": "code",
   "execution_count": null,
   "id": "d18aa1f4",
   "metadata": {},
   "outputs": [
    {
     "data": {
      "text/html": [
       "<video src=\"../datasets/music/song_collection_video.mp4\" controls  width=\"600\"  height=\"200\">\n",
       "      Your browser does not support the <code>video</code> element.\n",
       "    </video>"
      ],
      "text/plain": [
       "<IPython.core.display.Video object>"
      ]
     },
     "execution_count": null,
     "metadata": {},
     "output_type": "execute_result"
    }
   ],
   "source": [
    "video_path = Path('../datasets/music/song_collection_video.mp4')\n",
    "Video(video_path, width=600, height=200) "
   ]
  },
  {
   "cell_type": "code",
   "execution_count": null,
   "id": "0c5814bd",
   "metadata": {},
   "outputs": [],
   "source": [
    "audio_path = Path('../datasets/music/song_collection_video.wav')\n",
    "if not audio_path.exists():\n",
    "    video = VideoFileClip(video_path)\n",
    "    audio = video.audio\n",
    "    audio.write_audiofile(audio_path, codec='pcm_s16le')"
   ]
  },
  {
   "cell_type": "code",
   "execution_count": null,
   "id": "856f789f",
   "metadata": {},
   "outputs": [],
   "source": [
    "Audio(audio_path)"
   ]
  },
  {
   "cell_type": "code",
   "execution_count": null,
   "id": "1bf890a1",
   "metadata": {},
   "outputs": [],
   "source": []
  }
 ],
 "metadata": {
  "kernelspec": {
   "display_name": "python3",
   "language": "python",
   "name": "python3"
  }
 },
 "nbformat": 4,
 "nbformat_minor": 5
}
