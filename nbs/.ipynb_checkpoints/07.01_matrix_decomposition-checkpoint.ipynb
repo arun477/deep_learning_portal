{
 "cells": [
  {
   "cell_type": "markdown",
   "id": "3acad508",
   "metadata": {},
   "source": [
    "https://nbviewer.org/github/fastai/numerical-linear-algebra/blob/master/nbs/2.%20Topic%20Modeling%20with%20NMF%20and%20SVD.ipynb (ref) <br/>"
   ]
  },
  {
   "cell_type": "code",
   "execution_count": null,
   "id": "f69b939a",
   "metadata": {},
   "outputs": [],
   "source": [
    "import numpy as np\n",
    "from sklearn.datasets import fetch_20newsgroups\n",
    "from sklearn import decomposition\n",
    "from scipy import linalg\n",
    "import matplotlib.pyplot as plt\n",
    "from pprint import pprint"
   ]
  },
  {
   "cell_type": "code",
   "execution_count": null,
   "id": "1bd43e94",
   "metadata": {},
   "outputs": [],
   "source": [
    "remove_parts = ('headers', 'footers', 'quotes')\n",
    "categories = ['alt.atheism', 'talk.religion.misc', 'comp.graphics', 'sci.space']\n",
    "\n",
    "data_train = fetch_20newsgroups(subset='train', remove=remove_parts, categories=categories)\n",
    "data_valid = fetch_20newsgroups(subset='test', remove=remove_parts, categories=categories)"
   ]
  },
  {
   "cell_type": "code",
   "execution_count": null,
   "id": "7952c4ad",
   "metadata": {},
   "outputs": [
    {
     "data": {
      "text/plain": [
       "(dict_keys(['data', 'filenames', 'target_names', 'target', 'DESCR']),\n",
       " dict_keys(['data', 'filenames', 'target_names', 'target', 'DESCR']))"
      ]
     },
     "execution_count": null,
     "metadata": {},
     "output_type": "execute_result"
    }
   ],
   "source": [
    "data_train.keys(), data_valid.keys()"
   ]
  },
  {
   "cell_type": "code",
   "execution_count": null,
   "id": "ea0e42c4",
   "metadata": {},
   "outputs": [
    {
     "data": {
      "text/plain": [
       "(2034, 1353)"
      ]
     },
     "execution_count": null,
     "metadata": {},
     "output_type": "execute_result"
    }
   ],
   "source": [
    "len(data_train['data']), len(data_valid['data'])"
   ]
  },
  {
   "cell_type": "code",
   "execution_count": null,
   "id": "3a0fdf9f",
   "metadata": {},
   "outputs": [
    {
     "name": "stdout",
     "output_type": "stream",
     "text": [
      "Hi,\n",
      "\n",
      "I've noticed that if you only save a model (with all your mapping planes\n",
      "positioned carefully) to a .3DS file that when you reload it after restarting\n",
      "3DS, they are given a default position and orientation.  But if you save\n",
      "to a .PRJ file their positions/orientation are preserved.  Does anyone\n",
      "know why this information is not stored in the .3DS file?  Nothing is\n",
      "explicitly said in the manual about saving texture rules in the .PRJ file. \n",
      "I'd like to be able to read the texture rule information, does anyone have \n",
      "the format for the .PRJ file?\n",
      "\n",
      "Is the .CEL file format available from somewhere?\n",
      "\n",
      "Rych \n",
      "\n",
      "Seems to be, barring evidence to the contrary, that Koresh was simply\n",
      "another deranged fanatic who thought it neccessary to take a whole bunch of\n",
      "folks with him, children and all, to satisfy his delusional mania. Jim\n",
      "Jones, circa 1993.\n",
      "\n",
      "\n",
      "Nope - fruitcakes like Koresh have been demonstrating such evil corruption\n",
      "for centuries. \n",
      " >In article <1993Apr19.020359.26996@sq.sq.com>, msb@sq.sq.com (Mark Brader) \n",
      "\n",
      "MB>                                                             So the\n",
      "MB> 1970 figure seems unlikely to actually be anything but a perijove.\n",
      "\n",
      "JG>Sorry, _perijoves_...I'm not used to talking this language.\n",
      "\n",
      "Couldn't we just say periapsis or apoapsis?\n",
      "\n",
      " \n"
     ]
    }
   ],
   "source": [
    "print(\" \".join(data_train['data'][:3]))"
   ]
  },
  {
   "cell_type": "code",
   "execution_count": null,
   "id": "1def1354",
   "metadata": {},
   "outputs": [
    {
     "data": {
      "text/plain": [
       "array(['comp.graphics', 'talk.religion.misc', 'sci.space', ...,\n",
       "       'comp.graphics', 'alt.atheism', 'comp.graphics'], dtype='<U18')"
      ]
     },
     "execution_count": null,
     "metadata": {},
     "output_type": "execute_result"
    }
   ],
   "source": [
    "np.array(data_train.target_names)[data_train.target]"
   ]
  },
  {
   "cell_type": "code",
   "execution_count": null,
   "id": "b244a0e4",
   "metadata": {},
   "outputs": [],
   "source": [
    "from sklearn.feature_extraction.text import CountVectorizer, TfidfVectorizer"
   ]
  },
  {
   "cell_type": "markdown",
   "id": "c7b05640",
   "metadata": {},
   "source": [
    "https://scikit-learn.org/stable/modules/generated/sklearn.feature_extraction.text.CountVectorizer.html (ref)"
   ]
  },
  {
   "cell_type": "code",
   "execution_count": null,
   "id": "a5f2a36d",
   "metadata": {},
   "outputs": [
    {
     "data": {
      "text/plain": [
       "(2034, 26576)"
      ]
     },
     "execution_count": null,
     "metadata": {},
     "output_type": "execute_result"
    }
   ],
   "source": [
    "vectorizer = CountVectorizer(stop_words='english')\n",
    "vectors = vectorizer.fit_transform(data_train.data).todense()\n",
    "vectors.shape"
   ]
  },
  {
   "cell_type": "code",
   "execution_count": null,
   "id": "0278b350",
   "metadata": {},
   "outputs": [
    {
     "data": {
      "text/plain": [
       "((26576,),\n",
       " array(['00', '000', '0000', '00000', '000000'], dtype='<U80'),\n",
       " array(['zwak', 'zwakke', 'zware', 'zwarte', 'zyxel'], dtype='<U80'))"
      ]
     },
     "execution_count": null,
     "metadata": {},
     "output_type": "execute_result"
    }
   ],
   "source": [
    "vocab = np.array(vectorizer.get_feature_names())\n",
    "vocab.shape, vocab[:5], vocab[vocab.shape[0]-5:]"
   ]
  },
  {
   "cell_type": "code",
   "execution_count": null,
   "id": "fe5dae0b",
   "metadata": {},
   "outputs": [
    {
     "data": {
      "text/plain": [
       "array(['cosmonauts', 'cosmos', 'cosponsored', 'cost', 'costa', 'costar',\n",
       "       'costing', 'costly', 'costruction', 'costs', 'cosy', 'cote',\n",
       "       'couched', 'couldn', 'council', 'councils', 'counsel',\n",
       "       'counselees', 'counselor', 'count'], dtype='<U80')"
      ]
     },
     "execution_count": null,
     "metadata": {},
     "output_type": "execute_result"
    }
   ],
   "source": [
    "vocab[7000:7020]"
   ]
  },
  {
   "cell_type": "code",
   "execution_count": null,
   "id": "e769bb76",
   "metadata": {},
   "outputs": [],
   "source": []
  }
 ],
 "metadata": {
  "kernelspec": {
   "display_name": "python3",
   "language": "python",
   "name": "python3"
  }
 },
 "nbformat": 4,
 "nbformat_minor": 5
}
