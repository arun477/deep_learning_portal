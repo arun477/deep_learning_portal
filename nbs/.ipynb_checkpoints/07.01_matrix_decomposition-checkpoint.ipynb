{
 "cells": [
  {
   "cell_type": "markdown",
   "id": "3acad508",
   "metadata": {},
   "source": [
    "https://arxiv.org/pdf/1603.07285.pdf (ref) <br/>"
   ]
  },
  {
   "cell_type": "code",
   "execution_count": null,
   "id": "f69b939a",
   "metadata": {},
   "outputs": [],
   "source": [
    "import numpy as np\n",
    "from sklearn.datasets import fetch_20newsgroups\n",
    "from sklearn import decomposition\n",
    "from scipy import linalg\n",
    "import matplotlib.pyplot as plt\n",
    "from pprint import pprint"
   ]
  },
  {
   "cell_type": "code",
   "execution_count": null,
   "id": "1bd43e94",
   "metadata": {},
   "outputs": [],
   "source": [
    "remove_parts = ('headers', 'footers', 'quotes')\n",
    "categories = ['alt.atheism', 'talk.religion.misc', 'comp.graphics', 'sci.space']\n",
    "\n",
    "data_train = fetch_20newsgroups(subset='train', remove=remove_parts, categories=categories)\n",
    "data_valid = fetch_20newsgroups(subset='test', remove=remove_parts, categories=categories)"
   ]
  },
  {
   "cell_type": "code",
   "execution_count": null,
   "id": "faf962f5",
   "metadata": {},
   "outputs": [
    {
     "data": {
      "text/plain": [
       "(dict_keys(['data', 'filenames', 'target_names', 'target', 'DESCR']),\n",
       " dict_keys(['data', 'filenames', 'target_names', 'target', 'DESCR']))"
      ]
     },
     "execution_count": null,
     "metadata": {},
     "output_type": "execute_result"
    }
   ],
   "source": [
    "data_train.keys(), data_valid.keys()"
   ]
  },
  {
   "cell_type": "code",
   "execution_count": null,
   "id": "fc28ee9d",
   "metadata": {},
   "outputs": [
    {
     "data": {
      "text/plain": [
       "(2034, 1353)"
      ]
     },
     "execution_count": null,
     "metadata": {},
     "output_type": "execute_result"
    }
   ],
   "source": [
    "len(data_train['data']), len(data_valid['data'])"
   ]
  },
  {
   "cell_type": "code",
   "execution_count": null,
   "id": "f6bff9c2",
   "metadata": {},
   "outputs": [
    {
     "name": "stdout",
     "output_type": "stream",
     "text": [
      "Hi,\n",
      "\n",
      "I've noticed that if you only save a model (with all your mapping planes\n",
      "positioned carefully) to a .3DS file that when you reload it after restarting\n",
      "3DS, they are given a default position and orientation.  But if you save\n",
      "to a .PRJ file their positions/orientation are preserved.  Does anyone\n",
      "know why this information is not stored in the .3DS file?  Nothing is\n",
      "explicitly said in the manual about saving texture rules in the .PRJ file. \n",
      "I'd like to be able to read the texture rule information, does anyone have \n",
      "the format for the .PRJ file?\n",
      "\n",
      "Is the .CEL file format available from somewhere?\n",
      "\n",
      "Rych \n",
      "\n",
      "Seems to be, barring evidence to the contrary, that Koresh was simply\n",
      "another deranged fanatic who thought it neccessary to take a whole bunch of\n",
      "folks with him, children and all, to satisfy his delusional mania. Jim\n",
      "Jones, circa 1993.\n",
      "\n",
      "\n",
      "Nope - fruitcakes like Koresh have been demonstrating such evil corruption\n",
      "for centuries. \n",
      " >In article <1993Apr19.020359.26996@sq.sq.com>, msb@sq.sq.com (Mark Brader) \n",
      "\n",
      "MB>                                                             So the\n",
      "MB> 1970 figure seems unlikely to actually be anything but a perijove.\n",
      "\n",
      "JG>Sorry, _perijoves_...I'm not used to talking this language.\n",
      "\n",
      "Couldn't we just say periapsis or apoapsis?\n",
      "\n",
      " \n"
     ]
    }
   ],
   "source": [
    "print(\" \".join(data_train['data'][:3]))"
   ]
  },
  {
   "cell_type": "code",
   "execution_count": null,
   "id": "300d9036",
   "metadata": {},
   "outputs": [],
   "source": []
  },
  {
   "cell_type": "code",
   "execution_count": null,
   "id": "108bacbf",
   "metadata": {},
   "outputs": [],
   "source": []
  }
 ],
 "metadata": {
  "kernelspec": {
   "display_name": "python3",
   "language": "python",
   "name": "python3"
  }
 },
 "nbformat": 4,
 "nbformat_minor": 5
}
