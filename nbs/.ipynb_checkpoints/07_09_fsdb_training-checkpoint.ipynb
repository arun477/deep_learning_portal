{
 "cells": [
  {
   "cell_type": "markdown",
   "id": "6af04b63",
   "metadata": {},
   "source": [
    "https://pytorch.org/tutorials/intermediate/FSDP_tutorial.html (ref)<br>\n",
    "https://medium.com/pytorch/pytorch-data-parallel-best-practices-on-google-cloud-6c8da2be180d (blog)"
   ]
  },
  {
   "cell_type": "code",
   "execution_count": null,
   "id": "07680b59",
   "metadata": {},
   "outputs": [],
   "source": []
  }
 ],
 "metadata": {
  "kernelspec": {
   "display_name": "python3",
   "language": "python",
   "name": "python3"
  }
 },
 "nbformat": 4,
 "nbformat_minor": 5
}
