{
 "cells": [
  {
   "cell_type": "code",
   "execution_count": 58,
   "id": "7b450e11-5644-48a1-bb0d-9aa7423ffe55",
   "metadata": {},
   "outputs": [
    {
     "data": {
      "text/plain": [
       "Dataset({\n",
       "    features: ['id', 'title', 'context', 'question', 'answers'],\n",
       "    num_rows: 10570\n",
       "})"
      ]
     },
     "execution_count": 58,
     "metadata": {},
     "output_type": "execute_result"
    }
   ],
   "source": [
    "import datasets\n",
    "\n",
    "qa = datasets.load_dataset('squad', split='validation')\n",
    "qa"
   ]
  },
  {
   "cell_type": "code",
   "execution_count": 70,
   "id": "d4c8887d-a567-4c52-af75-4721cc816bbc",
   "metadata": {},
   "outputs": [
    {
     "data": {
      "text/plain": [
       "{'id': '573368044776f41900660a2a',\n",
       " 'title': 'Warsaw',\n",
       " 'context': 'Other green spaces in the city include the Botanic Garden and the University Library garden. They have extensive botanical collection of rare domestic and foreign plants, while a palm house in the New Orangery displays plants of subtropics from all over the world. Besides, within the city borders, there are also: Pole Mokotowskie (a big park in the northern Mokotów, where was the first horse racetrack and then the airport), Park Ujazdowski (close to the Sejm and John Lennon street), Park of Culture and Rest in Powsin, by the southern city border, Park Skaryszewski by the right Vistula bank, in Praga. The oldest park in Praga, the Praga Park, was established in 1865–1871 and designed by Jan Dobrowolski. In 1927 a zoological garden (Ogród Zoologiczny) was established on the park grounds, and in 1952 a bear run, still open today.',\n",
       " 'question': 'Where is a palm house with subtropic plants from all over the world on display?',\n",
       " 'answers': {'text': ['New Orangery', 'New Orangery', 'New Orangery'],\n",
       "  'answer_start': [197, 197, 197]}}"
      ]
     },
     "execution_count": 70,
     "metadata": {},
     "output_type": "execute_result"
    }
   ],
   "source": [
    "qa[1000]"
   ]
  },
  {
   "cell_type": "code",
   "execution_count": 5,
   "id": "05d2d834-2b3f-4f08-aac7-dfd838acfe1c",
   "metadata": {},
   "outputs": [
    {
     "data": {
      "text/plain": [
       "SentenceTransformer(\n",
       "  (0): Transformer({'max_seq_length': 512, 'do_lower_case': False}) with Transformer model: BertModel \n",
       "  (1): Pooling({'word_embedding_dimension': 384, 'pooling_mode_cls_token': False, 'pooling_mode_mean_tokens': True, 'pooling_mode_max_tokens': False, 'pooling_mode_mean_sqrt_len_tokens': False, 'pooling_mode_weightedmean_tokens': False, 'pooling_mode_lasttoken': False, 'include_prompt': True})\n",
       "  (2): Normalize()\n",
       ")"
      ]
     },
     "execution_count": 5,
     "metadata": {},
     "output_type": "execute_result"
    }
   ],
   "source": [
    "from sentence_transformers import SentenceTransformer\n",
    "\n",
    "model = SentenceTransformer('multi-qa-MiniLM-L6-cos-v1')\n",
    "model"
   ]
  },
  {
   "cell_type": "code",
   "execution_count": 7,
   "id": "361f535d-e8be-4f52-bb32-12a12a97de7c",
   "metadata": {},
   "outputs": [
    {
     "data": {
      "application/vnd.jupyter.widget-view+json": {
       "model_id": "b8442881f4ae44a8ac53b1bed28a37ae",
       "version_major": 2,
       "version_minor": 0
      },
      "text/plain": [
       "Map:   0%|          | 0/10570 [00:00<?, ? examples/s]"
      ]
     },
     "metadata": {},
     "output_type": "display_data"
    }
   ],
   "source": [
    "qa = qa.map(lambda x: { 'encodeing':model.encode(x['context']).tolist()}, batched=True, batch_size=32)"
   ]
  },
  {
   "cell_type": "code",
   "execution_count": 8,
   "id": "560fb448-9221-4d24-ad67-623b69b263b5",
   "metadata": {},
   "outputs": [
    {
     "data": {
      "text/plain": [
       "Dataset({\n",
       "    features: ['id', 'title', 'context', 'question', 'answers', 'encodeing'],\n",
       "    num_rows: 10570\n",
       "})"
      ]
     },
     "execution_count": 8,
     "metadata": {},
     "output_type": "execute_result"
    }
   ],
   "source": [
    "qa"
   ]
  },
  {
   "cell_type": "code",
   "execution_count": 9,
   "id": "0e464b61-940a-4c31-8097-1b7510e2129b",
   "metadata": {},
   "outputs": [
    {
     "name": "stderr",
     "output_type": "stream",
     "text": [
      "huggingface/tokenizers: The current process just got forked, after parallelism has already been used. Disabling parallelism to avoid deadlocks...\n",
      "To disable this warning, you can either:\n",
      "\t- Avoid using `tokenizers` before the fork if possible\n",
      "\t- Explicitly set the environment variable TOKENIZERS_PARALLELISM=(true | false)\n"
     ]
    },
    {
     "name": "stdout",
     "output_type": "stream",
     "text": [
      "Collecting pinecone-client\n",
      "  Downloading pinecone_client-3.2.2-py3-none-any.whl.metadata (16 kB)\n",
      "Requirement already satisfied: certifi>=2019.11.17 in /system/conda/miniconda3/envs/cloudspace/lib/python3.10/site-packages (from pinecone-client) (2024.2.2)\n",
      "Requirement already satisfied: tqdm>=4.64.1 in /system/conda/miniconda3/envs/cloudspace/lib/python3.10/site-packages (from pinecone-client) (4.66.2)\n",
      "Requirement already satisfied: typing-extensions>=3.7.4 in /system/conda/miniconda3/envs/cloudspace/lib/python3.10/site-packages (from pinecone-client) (4.10.0)\n",
      "Requirement already satisfied: urllib3>=1.26.0 in /system/conda/miniconda3/envs/cloudspace/lib/python3.10/site-packages (from pinecone-client) (2.2.1)\n",
      "Downloading pinecone_client-3.2.2-py3-none-any.whl (215 kB)\n",
      "\u001b[2K   \u001b[90m━━━━━━━━━━━━━━━━━━━━━━━━━━━━━━━━━━━━━━━━\u001b[0m \u001b[32m215.9/215.9 kB\u001b[0m \u001b[31m14.2 MB/s\u001b[0m eta \u001b[36m0:00:00\u001b[0m\n",
      "\u001b[?25hInstalling collected packages: pinecone-client\n",
      "Successfully installed pinecone-client-3.2.2\n"
     ]
    }
   ],
   "source": [
    "!pip install pinecone-client"
   ]
  },
  {
   "cell_type": "code",
   "execution_count": 20,
   "id": "6dadaa5c-cff1-49e8-8368-a6f9f0de306b",
   "metadata": {
    "scrolled": true
   },
   "outputs": [],
   "source": [
    "from pinecone import Pinecone, ServerlessSpec\n",
    "\n",
    "pc = Pinecone(\n",
    "    api_key = 'b7604448-6d4c-439c-b0af-b73a9317339e',  \n",
    ")\n",
    "\n",
    "if 'qa-index' not in pc.list_indexes():\n",
    "    pc.create_index(name='qa-index', dimension=len(qa[0]['encodeing']), spec=ServerlessSpec(\n",
    "    cloud=\"aws\",\n",
    "    region=\"us-east-1\"\n",
    "  ))\n",
    "\n",
    "index = pc.Index('qa-index')"
   ]
  },
  {
   "cell_type": "code",
   "execution_count": 28,
   "id": "a8601082-74cc-42b8-8b4f-7f84cf53d617",
   "metadata": {},
   "outputs": [
    {
     "name": "stderr",
     "output_type": "stream",
     "text": [
      "100%|██████████| 212/212 [00:32<00:00,  6.51it/s]\n"
     ]
    }
   ],
   "source": [
    "from tqdm import tqdm\n",
    "\n",
    "upserts = [(ele['id'], ele['encodeing']) for ele in qa]\n",
    "for i in tqdm(range(0, len(upserts), 50)):\n",
    "    index.upsert(upserts[i:min(i+50, len(upserts))])"
   ]
  },
  {
   "cell_type": "code",
   "execution_count": 29,
   "id": "d4f259ba-91ba-49d4-9e71-4dd22582e541",
   "metadata": {},
   "outputs": [
    {
     "data": {
      "text/plain": [
       "10570"
      ]
     },
     "execution_count": 29,
     "metadata": {},
     "output_type": "execute_result"
    }
   ],
   "source": [
    "len(upserts)"
   ]
  },
  {
   "cell_type": "code",
   "execution_count": 71,
   "id": "877be192-a84a-4143-9d20-d5e7ff85ebe3",
   "metadata": {},
   "outputs": [],
   "source": [
    "query = 'Where is a palm house with subtropic plants from all over the world on display?'\n",
    "xq = model.encode([query]).tolist()"
   ]
  },
  {
   "cell_type": "code",
   "execution_count": 75,
   "id": "8f08ee85-55ff-4d1f-a436-d6bd67becd5d",
   "metadata": {
    "scrolled": true
   },
   "outputs": [
    {
     "data": {
      "text/plain": [
       "{'matches': [{'id': '573368044776f41900660a2a',\n",
       "              'score': 0.486505717,\n",
       "              'values': []},\n",
       "             {'id': '573368044776f41900660a29',\n",
       "              'score': 0.486505717,\n",
       "              'values': []},\n",
       "             {'id': '573368044776f41900660a2d',\n",
       "              'score': 0.486505717,\n",
       "              'values': []},\n",
       "             {'id': '573368044776f41900660a2b',\n",
       "              'score': 0.486505717,\n",
       "              'values': []},\n",
       "             {'id': '573368044776f41900660a2c',\n",
       "              'score': 0.486505717,\n",
       "              'values': []},\n",
       "             {'id': '5705eccb52bb8914006896b8',\n",
       "              'score': 0.362052441,\n",
       "              'values': []},\n",
       "             {'id': '5705eccb52bb8914006896bb',\n",
       "              'score': 0.362052441,\n",
       "              'values': []},\n",
       "             {'id': '5705eccb52bb8914006896b9',\n",
       "              'score': 0.362052441,\n",
       "              'values': []},\n",
       "             {'id': '5705eccb52bb8914006896ba',\n",
       "              'score': 0.362052441,\n",
       "              'values': []},\n",
       "             {'id': '573368e54776f41900660a54',\n",
       "              'score': 0.347747535,\n",
       "              'values': []}],\n",
       " 'namespace': '',\n",
       " 'usage': {'read_units': 5}}"
      ]
     },
     "execution_count": 75,
     "metadata": {},
     "output_type": "execute_result"
    }
   ],
   "source": [
    "xc = index.query(vector=xq, top_k=10)\n",
    "xc"
   ]
  },
  {
   "cell_type": "code",
   "execution_count": 76,
   "id": "0009e1dd-7baa-4c85-8c8b-32d162eeb9c7",
   "metadata": {
    "scrolled": true
   },
   "outputs": [
    {
     "data": {
      "application/vnd.jupyter.widget-view+json": {
       "model_id": "d669039f8a5d4bc89c7f75eeb8bb0296",
       "version_major": 2,
       "version_minor": 0
      },
      "text/plain": [
       "Filter:   0%|          | 0/10570 [00:00<?, ? examples/s]"
      ]
     },
     "metadata": {},
     "output_type": "display_data"
    },
    {
     "data": {
      "text/plain": [
       "['Other green spaces in the city include the Botanic Garden and the University Library garden. They have extensive botanical collection of rare domestic and foreign plants, while a palm house in the New Orangery displays plants of subtropics from all over the world. Besides, within the city borders, there are also: Pole Mokotowskie (a big park in the northern Mokotów, where was the first horse racetrack and then the airport), Park Ujazdowski (close to the Sejm and John Lennon street), Park of Culture and Rest in Powsin, by the southern city border, Park Skaryszewski by the right Vistula bank, in Praga. The oldest park in Praga, the Praga Park, was established in 1865–1871 and designed by Jan Dobrowolski. In 1927 a zoological garden (Ogród Zoologiczny) was established on the park grounds, and in 1952 a bear run, still open today.',\n",
       " 'Other green spaces in the city include the Botanic Garden and the University Library garden. They have extensive botanical collection of rare domestic and foreign plants, while a palm house in the New Orangery displays plants of subtropics from all over the world. Besides, within the city borders, there are also: Pole Mokotowskie (a big park in the northern Mokotów, where was the first horse racetrack and then the airport), Park Ujazdowski (close to the Sejm and John Lennon street), Park of Culture and Rest in Powsin, by the southern city border, Park Skaryszewski by the right Vistula bank, in Praga. The oldest park in Praga, the Praga Park, was established in 1865–1871 and designed by Jan Dobrowolski. In 1927 a zoological garden (Ogród Zoologiczny) was established on the park grounds, and in 1952 a bear run, still open today.',\n",
       " 'Other green spaces in the city include the Botanic Garden and the University Library garden. They have extensive botanical collection of rare domestic and foreign plants, while a palm house in the New Orangery displays plants of subtropics from all over the world. Besides, within the city borders, there are also: Pole Mokotowskie (a big park in the northern Mokotów, where was the first horse racetrack and then the airport), Park Ujazdowski (close to the Sejm and John Lennon street), Park of Culture and Rest in Powsin, by the southern city border, Park Skaryszewski by the right Vistula bank, in Praga. The oldest park in Praga, the Praga Park, was established in 1865–1871 and designed by Jan Dobrowolski. In 1927 a zoological garden (Ogród Zoologiczny) was established on the park grounds, and in 1952 a bear run, still open today.',\n",
       " 'Other green spaces in the city include the Botanic Garden and the University Library garden. They have extensive botanical collection of rare domestic and foreign plants, while a palm house in the New Orangery displays plants of subtropics from all over the world. Besides, within the city borders, there are also: Pole Mokotowskie (a big park in the northern Mokotów, where was the first horse racetrack and then the airport), Park Ujazdowski (close to the Sejm and John Lennon street), Park of Culture and Rest in Powsin, by the southern city border, Park Skaryszewski by the right Vistula bank, in Praga. The oldest park in Praga, the Praga Park, was established in 1865–1871 and designed by Jan Dobrowolski. In 1927 a zoological garden (Ogród Zoologiczny) was established on the park grounds, and in 1952 a bear run, still open today.',\n",
       " 'Other green spaces in the city include the Botanic Garden and the University Library garden. They have extensive botanical collection of rare domestic and foreign plants, while a palm house in the New Orangery displays plants of subtropics from all over the world. Besides, within the city borders, there are also: Pole Mokotowskie (a big park in the northern Mokotów, where was the first horse racetrack and then the airport), Park Ujazdowski (close to the Sejm and John Lennon street), Park of Culture and Rest in Powsin, by the southern city border, Park Skaryszewski by the right Vistula bank, in Praga. The oldest park in Praga, the Praga Park, was established in 1865–1871 and designed by Jan Dobrowolski. In 1927 a zoological garden (Ogród Zoologiczny) was established on the park grounds, and in 1952 a bear run, still open today.',\n",
       " 'The flora of the city may be considered very rich in species. The species richness is mainly due to the location of Warsaw within the border region of several big floral regions comprising substantial proportions of close-to-wilderness areas (natural forests, wetlands along the Vistula) as well as arable land, meadows and forests. Bielany Forest, located within the borders of Warsaw, is the remaining part of the Masovian Primeval Forest. Bielany Forest nature reserve is connected with Kampinos Forest. It is home to rich fauna and flora. Within the forest there are three cycling and walking trails. Other big forest area is Kabaty Forest by the southern city border. Warsaw has also two botanic gardens: by the Łazienki park (a didactic-research unit of the University of Warsaw) as well as by the Park of Culture and Rest in Powsin (a unit of the Polish Academy of Science).',\n",
       " 'Many locals and tourists frequent the southern California coast for its popular beaches, and the desert city of Palm Springs is popular for its resort feel and nearby open spaces.',\n",
       " 'Many locals and tourists frequent the southern California coast for its popular beaches, and the desert city of Palm Springs is popular for its resort feel and nearby open spaces.',\n",
       " 'Many locals and tourists frequent the southern California coast for its popular beaches, and the desert city of Palm Springs is popular for its resort feel and nearby open spaces.',\n",
       " 'Many locals and tourists frequent the southern California coast for its popular beaches, and the desert city of Palm Springs is popular for its resort feel and nearby open spaces.']"
      ]
     },
     "execution_count": 76,
     "metadata": {},
     "output_type": "execute_result"
    }
   ],
   "source": [
    "ids = [ele['id'] for ele in xc['matches']]\n",
    "contexts = qa.filter(lambda x: True if x['id'] in ids else False)\n",
    "contexts['context']"
   ]
  },
  {
   "cell_type": "code",
   "execution_count": null,
   "id": "1d01cdd4-6acd-437c-84b7-e37503063049",
   "metadata": {},
   "outputs": [],
   "source": []
  },
  {
   "cell_type": "code",
   "execution_count": null,
   "id": "adcb0f4c-f450-4cce-9035-898c5f177328",
   "metadata": {
    "scrolled": true
   },
   "outputs": [],
   "source": []
  },
  {
   "cell_type": "code",
   "execution_count": 77,
   "id": "cb34cada-e8e2-48fb-a909-7ca5d1459884",
   "metadata": {},
   "outputs": [],
   "source": [
    "from transformers import pipeline\n",
    "\n",
    "model_name = 'deepset/electra-base-squad2'\n",
    "nlp = pipeline(model=model_name, tokenizer=model_name, task='question-answering')"
   ]
  },
  {
   "cell_type": "code",
   "execution_count": 81,
   "id": "040ffbbf-a8fc-4b84-b4ee-287e417f7162",
   "metadata": {
    "scrolled": true
   },
   "outputs": [
    {
     "data": {
      "text/plain": [
       "[{'score': 0.999940037727356,\n",
       "  'start': 197,\n",
       "  'end': 209,\n",
       "  'answer': 'New Orangery'},\n",
       " {'score': 0.999940037727356,\n",
       "  'start': 197,\n",
       "  'end': 209,\n",
       "  'answer': 'New Orangery'},\n",
       " {'score': 0.999940037727356,\n",
       "  'start': 197,\n",
       "  'end': 209,\n",
       "  'answer': 'New Orangery'},\n",
       " {'score': 0.999940037727356,\n",
       "  'start': 197,\n",
       "  'end': 209,\n",
       "  'answer': 'New Orangery'},\n",
       " {'score': 0.999940037727356,\n",
       "  'start': 197,\n",
       "  'end': 209,\n",
       "  'answer': 'New Orangery'},\n",
       " {'score': 2.6208901715563115e-09,\n",
       "  'start': 442,\n",
       "  'end': 471,\n",
       "  'answer': 'Bielany Forest nature reserve'},\n",
       " {'score': 6.712130925734527e-06,\n",
       "  'start': 112,\n",
       "  'end': 124,\n",
       "  'answer': 'Palm Springs'},\n",
       " {'score': 6.712130925734527e-06,\n",
       "  'start': 112,\n",
       "  'end': 124,\n",
       "  'answer': 'Palm Springs'},\n",
       " {'score': 6.712130925734527e-06,\n",
       "  'start': 112,\n",
       "  'end': 124,\n",
       "  'answer': 'Palm Springs'},\n",
       " {'score': 6.712130925734527e-06,\n",
       "  'start': 112,\n",
       "  'end': 124,\n",
       "  'answer': 'Palm Springs'}]"
      ]
     },
     "execution_count": 81,
     "metadata": {},
     "output_type": "execute_result"
    }
   ],
   "source": [
    "preds = []\n",
    "for context in contexts['context']:\n",
    "    pred = nlp(question=query, context=context)\n",
    "    preds.append(pred)\n",
    "preds"
   ]
  },
  {
   "cell_type": "code",
   "execution_count": 84,
   "id": "9c53ef1e-3339-4bc4-8cc9-1d2aaa119b6c",
   "metadata": {},
   "outputs": [],
   "source": [
    "model_name = 'yjernite/bart_eli5'\n",
    "seq2seq = pipeline('text2text-generation', model=model_name, tokenizer=model_name)"
   ]
  },
  {
   "cell_type": "code",
   "execution_count": 83,
   "id": "badfe69e-be96-420f-af59-906888f353a5",
   "metadata": {},
   "outputs": [
    {
     "name": "stdout",
     "output_type": "stream",
     "text": [
      "[{'generated_text': ' It is in the New York Botanical Garden.'}]\n",
      "[{'generated_text': \" In the New York Botanical Garden. It's a botanic garden, not a botanical house.\"}]\n",
      "[{'generated_text': ' Where do you think they would store them? A palm house?'}]\n",
      "[{'generated_text': \" It's in New York City, but I'm not sure where exactly. It's a palm house, so it's probably on display somewhere in the city, but we don't know exactly where it is.\"}]\n",
      "[{'generated_text': \" It's in the New York Botanical Garden. There are a lot of botanic houses in New York.  URL_0\"}]\n",
      "[{'generated_text': \" There is a palm house with subtropic plants on display in the Netherlands. It's called the Botanic Garden of the Netherlands. There is also a botanic garden in Amsterdam with subtropic plants on display. It's called the Botanic Garden of the Netherlands.\"}]\n",
      "[{'generated_text': ' There is a palm house in my town. They don\\'t call it a \"pal house\" for nothing. It\\'s called a \"pal house\". It\\'s a sort of \"pal house\".'}]\n",
      "[{'generated_text': \" It's called a [Subtropic Plant House]( URL_0 ).\"}]\n",
      "[{'generated_text': ' There is a [pal house]( URL_0 ) with subtropic plants from all over the world on display.'}]\n",
      "[{'generated_text': \" I don't know where you're from, but I've never seen a palm house with plants from all over the world on display.\"}]\n"
     ]
    }
   ],
   "source": [
    "for context in contexts['context']:\n",
    "    answer = seq2seq(\n",
    "        f\"question: {query} context: {context}\",\n",
    "        num_beams=4,\n",
    "        do_sample=True,\n",
    "        temperature=1.5,\n",
    "        max_length=64\n",
    "    )\n",
    "    print(answer)"
   ]
  },
  {
   "cell_type": "code",
   "execution_count": 85,
   "id": "cf675c5f-a99b-42a2-bd15-666aeaeaa3b4",
   "metadata": {},
   "outputs": [],
   "source": [
    "query = \"Do NFL teams only care about playing at the Superbowl?\"\n",
    "xq = model.encode([query]).tolist()"
   ]
  },
  {
   "cell_type": "code",
   "execution_count": 88,
   "id": "d4ce3f74-83cd-40a1-8784-77cbb23ad7cf",
   "metadata": {},
   "outputs": [
    {
     "data": {
      "application/vnd.jupyter.widget-view+json": {
       "model_id": "ed7cfa2f97a04334b4a567ff61a8e03e",
       "version_major": 2,
       "version_minor": 0
      },
      "text/plain": [
       "Filter:   0%|          | 0/10570 [00:00<?, ? examples/s]"
      ]
     },
     "metadata": {},
     "output_type": "display_data"
    },
    {
     "data": {
      "text/plain": [
       "Dataset({\n",
       "    features: ['id', 'title', 'context', 'question', 'answers'],\n",
       "    num_rows: 5\n",
       "})"
      ]
     },
     "execution_count": 88,
     "metadata": {},
     "output_type": "execute_result"
    }
   ],
   "source": [
    "xc = index.query(vector=xq, top_k=5)\n",
    "ids = [x['id'] for x in xc['matches']]\n",
    "contexts = qa.filter(lambda x: True if x['id'] in ids else False)\n",
    "contexts"
   ]
  },
  {
   "cell_type": "code",
   "execution_count": 89,
   "id": "2137dc1f-a2bf-4c0e-a416-bf674fbf5459",
   "metadata": {},
   "outputs": [
    {
     "name": "stdout",
     "output_type": "stream",
     "text": [
      "[{'generated_text': \" Yes. There's a ton of money to be made by having the Superbowl. It's a big deal for the NFL, and the NFL teams want to get as much money out of it as possible.\"}]\n",
      "[{'generated_text': \" The Superbowl is the biggest game of the year for the NFL and it is a big event for them. If it isn't played, they lose money. So if they are playing in the Superbowl, they are getting paid a lot of money.\"}]\n",
      "[{'generated_text': \" Yes, the Superbowl is the biggest game in the world. It is the biggest event of the year. A lot of teams don't want to play in a loss. A loss would be a loss to the Superbowl. They want to be able to say that they won the Superbowl.\"}]\n",
      "[{'generated_text': ' The Super Bowl is the most lucrative game of the year. It brings in tens of millions of dollars. They would rather play in New York, Philadelphia, or London. If you are a team in the NFL, the Super Bowl is your biggest game of the year. If you are not, you might not'}]\n",
      "[{'generated_text': ' In addition to what others have said, the NFL is a business, and it is very expensive to be able to host a Super Bowl. It is a big deal for the NFL to have a Super Bowl, and it is also a great advertisement for the NFL. The NFL is very lucrative, and they want'}]\n"
     ]
    }
   ],
   "source": [
    "for context in contexts['context']:\n",
    "    answer = seq2seq(\n",
    "        f\"question: {query} context: {context}\",\n",
    "        num_beams=4,\n",
    "        do_sample=True,\n",
    "        temperature=1.5,\n",
    "        max_length=64\n",
    "    )\n",
    "    print(answer)"
   ]
  },
  {
   "cell_type": "code",
   "execution_count": 90,
   "id": "566c08d1-5116-43b7-86b2-a58ab57d0eb1",
   "metadata": {},
   "outputs": [
    {
     "data": {
      "text/plain": [
       "[{'generated_text': \" It's a huge oversimplification, but it's the basic idea of your question. The Super Bowl is a huge deal, but the NFL teams only have one shot at winning, so they have a finite amount of time to score points. The NFL has a lot of superstars, so they have to\"}]"
      ]
     },
     "execution_count": 90,
     "metadata": {},
     "output_type": "execute_result"
    }
   ],
   "source": [
    "query = \"Do NFL teams only care about playing at the Super Bowl?\"\n",
    "\n",
    "seq2seq(\n",
    "    f\"question: {query} context: unknown\",\n",
    "    num_beams=4,\n",
    "    do_sample=True,\n",
    "    temperature=1.5,\n",
    "    max_length=64\n",
    ")"
   ]
  },
  {
   "cell_type": "code",
   "execution_count": 92,
   "id": "f43d7996-8482-407e-a0fd-924755801f54",
   "metadata": {},
   "outputs": [
    {
     "name": "stderr",
     "output_type": "stream",
     "text": [
      "Truncation was not explicitly activated but `max_length` is provided a specific value, please use `truncation=True` to explicitly truncate examples to max length. Defaulting to 'longest_first' truncation strategy. If you encode pairs of sequences (GLUE-style) with the tokenizer you can select this strategy more precisely by providing a specific strategy to `truncation`.\n",
      "Setting `pad_token_id` to `eos_token_id`:50256 for open-end generation.\n"
     ]
    },
    {
     "data": {
      "text/plain": [
       "[{'generated_text': 'Do NFL teams only care about playing at the Super Bowl?\\n\\nThe NFL is a great place to play, but it’s not the only place'}]"
      ]
     },
     "execution_count": 92,
     "metadata": {},
     "output_type": "execute_result"
    }
   ],
   "source": [
    "gen = pipeline('text-generation', model='EleutherAI/gpt-neo-125M', tokenizer='EleutherAI/gpt-neo-125M')\n",
    "\n",
    "gen(query, max_length=32)"
   ]
  },
  {
   "cell_type": "code",
   "execution_count": null,
   "id": "db5b3f52-dd93-4a78-95f1-6c4996eee987",
   "metadata": {},
   "outputs": [],
   "source": []
  },
  {
   "cell_type": "code",
   "execution_count": null,
   "id": "7e2fb649-9281-455b-9aca-593625fa0be9",
   "metadata": {},
   "outputs": [],
   "source": []
  }
 ],
 "metadata": {
  "kernelspec": {
   "display_name": "Python 3",
   "language": "python",
   "name": "python3"
  },
  "language_info": {
   "codemirror_mode": {
    "name": "ipython",
    "version": 3
   },
   "file_extension": ".py",
   "mimetype": "text/x-python",
   "name": "python",
   "nbconvert_exporter": "python",
   "pygments_lexer": "ipython3",
   "version": "3.10.10"
  }
 },
 "nbformat": 4,
 "nbformat_minor": 5
}
