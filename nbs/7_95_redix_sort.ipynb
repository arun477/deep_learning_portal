{
 "cells": [
  {
   "cell_type": "code",
   "execution_count": 30,
   "metadata": {
    "id": "JkKs7a1GYKnP"
   },
   "outputs": [],
   "source": [
    "def counting_sort_by_digits(arr, exp):\n",
    "  n = len(arr)\n",
    "  counts = [0] * 10\n",
    "  outputs = [0] * n\n",
    "\n",
    "  for i in range(n):\n",
    "    index = arr[i] // exp\n",
    "    index = index % 10\n",
    "    counts[index] += 1\n",
    "\n",
    "  for i in range(1, 10):\n",
    "    counts[i]  += counts[i-1]\n",
    "\n",
    "  for i in range(n-1, -1, -1):\n",
    "    index = arr[i] // exp\n",
    "    index = index % 10\n",
    "    outputs[counts[index] -1] = arr[i]\n",
    "    counts[index] -= 1\n",
    "\n",
    "  for i in range(n):\n",
    "    arr[i] = outputs[i]"
   ]
  },
  {
   "cell_type": "code",
   "execution_count": 31,
   "metadata": {
    "id": "tF4mbT-iZX0q"
   },
   "outputs": [],
   "source": [
    "def redix_sort(arr):\n",
    "  max_ele = max(arr)\n",
    "  exp = 1\n",
    "  while max_ele / exp >= 1:\n",
    "    counting_sort_by_digits(arr, exp)\n",
    "    exp = exp * 10\n",
    ""
   ]
  },
  {
   "cell_type": "code",
   "execution_count": 32,
   "metadata": {
    "id": "sgS-t8p-Zpmz"
   },
   "outputs": [],
   "source": [
    "arr = [170, 45, 75, 90, 802, 24, 2, 66]"
   ]
  },
  {
   "cell_type": "code",
   "execution_count": 33,
   "metadata": {
    "id": "w6bKHIz8ZvQX"
   },
   "outputs": [],
   "source": [
    "redix_sort(arr)"
   ]
  },
  {
   "cell_type": "code",
   "execution_count": 34,
   "metadata": {
    "colab": {
     "base_uri": "https://localhost:8080/"
    },
    "id": "TuYxBt8rZ0e4",
    "outputId": "ec8c4748-a68b-4fc3-c1a0-96329d6ce356"
   },
   "outputs": [
    {
     "data": {
      "text/plain": [
       "[2, 24, 45, 66, 75, 90, 170, 802]"
      ]
     },
     "execution_count": 34,
     "metadata": {},
     "output_type": "execute_result"
    }
   ],
   "source": [
    "arr"
   ]
  },
  {
   "cell_type": "code",
   "execution_count": 36,
   "metadata": {
    "colab": {
     "base_uri": "https://localhost:8080/"
    },
    "id": "mLQx8GBBZ8Kx",
    "outputId": "82ddaa80-0318-4a09-9c8a-d093e012c192"
   },
   "outputs": [
    {
     "data": {
      "text/plain": [
       "True"
      ]
     },
     "execution_count": 36,
     "metadata": {},
     "output_type": "execute_result"
    }
   ],
   "source": [
    "import numpy as np\n",
    "\n",
    "xs = np.random.randint(0, 99, (2, 80))\n",
    "tests = []\n",
    "for x in xs:\n",
    "  sorted_x = list(x)\n",
    "  redix_sort(sorted_x)\n",
    "  tests.append(sorted(list(x)) == sorted_x)\n",
    "\n",
    "all(tests)"
   ]
  },
  {
   "cell_type": "code",
   "execution_count": 39,
   "metadata": {
    "id": "P9IZJUERb8mx"
   },
   "outputs": [],
   "source": []
  },
  {
   "cell_type": "code",
   "execution_count": 39,
   "metadata": {
    "id": "7JCLBQubb-xn"
   },
   "outputs": [],
   "source": []
  },
  {
   "cell_type": "code",
   "execution_count": 39,
   "metadata": {
    "id": "37J0t63_cAiY"
   },
   "outputs": [],
   "source": []
  },
  {
   "cell_type": "code",
   "execution_count": null,
   "metadata": {
    "id": "8a8CKbJ_cCWq"
   },
   "outputs": [],
   "source": []
  }
 ],
 "metadata": {
  "colab": {
   "provenance": []
  },
  "kernelspec": {
   "display_name": "Python 3",
   "name": "python3"
  },
  "language_info": {
   "name": "python"
  }
 },
 "nbformat": 4,
 "nbformat_minor": 0
}
