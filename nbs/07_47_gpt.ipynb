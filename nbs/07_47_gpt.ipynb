{
 "cells": [
  {
   "cell_type": "code",
   "execution_count": 1,
   "id": "ce0c55a0",
   "metadata": {},
   "outputs": [],
   "source": [
    "import matplotlib.pyplot as plt\n",
    "import torch\n",
    "import torch.nn as nn\n",
    "import tiktoken"
   ]
  },
  {
   "cell_type": "code",
   "execution_count": 2,
   "id": "2c3e742d",
   "metadata": {},
   "outputs": [],
   "source": [
    "GPT_CONFIG_124M = {\n",
    "    'vocab_size': 50257, \n",
    "    'context_length': 1024,\n",
    "    'emb_dim': 768,\n",
    "    'n_heads': 12, \n",
    "    'n_layers': 12,\n",
    "    'drop_rate': 0.1,\n",
    "    'qkv_bias': False\n",
    "}"
   ]
  },
  {
   "cell_type": "code",
   "execution_count": 3,
   "id": "97eb2679",
   "metadata": {},
   "outputs": [],
   "source": [
    "class DummyTransformerBlock(nn.Module):\n",
    "    def __init__(self, cnf):\n",
    "        super().__init__()\n",
    "    \n",
    "    def forward(self, x):\n",
    "        return x\n",
    "    \n",
    "class DummyLayerNorm(nn.Module):\n",
    "    def __init__(self, normalized_shape, eps=1e-5):\n",
    "        super().__init__()\n",
    "    \n",
    "    def forward(self, x):\n",
    "        return x\n",
    "\n",
    "class DummyGPTModel(nn.Module):\n",
    "    def __init__(self, cnf):\n",
    "        super().__init__()\n",
    "        self.tok_emb = nn.Embedding(cnf['vocab_size'], cnf['emb_dim'])\n",
    "        self.pos_emb = nn.Embedding(cnf['context_length'], cnf['emb_dim'])\n",
    "        self.drop_emb = nn.Dropout(cnf['drop_rate'])\n",
    "        \n",
    "        self.trf_blocks = nn.Sequential(*[DummyTransformerBlock(cnf) for _ in range(cnf['n_layers'])])\n",
    "        \n",
    "        self.final_norm = DummyLayerNorm(cnf['emb_dim'])\n",
    "        self.out_head = nn.Linear(cnf['emb_dim'], cnf['vocab_size'], bias=False)\n",
    "    \n",
    "    def forward(self, in_idx):\n",
    "        batch_size, seq_len = in_idx.shape\n",
    "        tok_embeds = self.tok_emb(in_idx)\n",
    "        pos_embeds = self.pos_emb(torch.arange(seq_len, device=in_idx.device))\n",
    "        x = tok_embeds + pos_embeds\n",
    "        x = self.drop_emb(x)\n",
    "        x = self.trf_blocks(x)\n",
    "        x = self.final_norm(x)\n",
    "        logits = self.out_head(x)\n",
    "        return logits     "
   ]
  },
  {
   "cell_type": "code",
   "execution_count": 4,
   "id": "eafc6256",
   "metadata": {},
   "outputs": [
    {
     "name": "stdout",
     "output_type": "stream",
     "text": [
      "torch.Size([2, 4])\n",
      "tensor([[6109, 3626, 6100,  345],\n",
      "        [6109, 1110, 6622,  257]])\n"
     ]
    }
   ],
   "source": [
    "txt1 = \"Every effort moves you\"\n",
    "txt2 = \"Every day holds a\"\n",
    "\n",
    "tokenizer = tiktoken.get_encoding('gpt2')\n",
    "batch = []\n",
    "batch.append(torch.tensor(tokenizer.encode(txt1)))\n",
    "batch.append(torch.tensor(tokenizer.encode(txt2)))\n",
    "batch = torch.stack(batch)\n",
    "print(batch.shape)\n",
    "print(batch)"
   ]
  },
  {
   "cell_type": "code",
   "execution_count": 5,
   "id": "7f6a241c",
   "metadata": {
    "scrolled": true
   },
   "outputs": [
    {
     "name": "stdout",
     "output_type": "stream",
     "text": [
      "torch.Size([2, 4, 50257])\n",
      "tensor([[[ 2.0113e+00, -1.6912e+00, -4.6529e-01,  ...,  1.0910e+00,\n",
      "           1.0955e+00,  1.0168e+00],\n",
      "         [-1.5347e+00,  4.2393e-01, -1.5320e-01,  ...,  6.0008e-02,\n",
      "          -1.5565e+00,  4.2410e-01],\n",
      "         [-4.6195e-01,  8.2180e-02, -3.0672e-01,  ..., -1.1269e-01,\n",
      "           3.9272e-01, -3.3959e-01],\n",
      "         [ 1.6058e-01, -1.4028e-01, -1.0685e+00,  ...,  4.3382e-01,\n",
      "          -9.5977e-01, -5.8908e-01]],\n",
      "\n",
      "        [[ 1.7767e+00, -1.2756e+00, -1.0796e+00,  ...,  1.0693e+00,\n",
      "           6.6166e-01,  1.0350e+00],\n",
      "         [-2.0482e+00, -1.8384e-01, -7.7564e-01,  ..., -1.0486e-01,\n",
      "          -7.3675e-01,  1.8347e+00],\n",
      "         [-1.6256e-01, -1.7549e+00,  1.0772e-01,  ...,  1.6144e+00,\n",
      "           2.7656e+00,  2.0306e-01],\n",
      "         [ 8.5153e-01,  1.2562e-03,  5.6551e-01,  ..., -8.2689e-01,\n",
      "          -5.9384e-01, -1.6443e+00]]], grad_fn=<UnsafeViewBackward0>)\n"
     ]
    }
   ],
   "source": [
    "model = DummyGPTModel(GPT_CONFIG_124M)\n",
    "logits = model(batch)\n",
    "print(logits.shape)\n",
    "print(logits)"
   ]
  },
  {
   "cell_type": "code",
   "execution_count": 6,
   "id": "6ff8d4a0",
   "metadata": {},
   "outputs": [
    {
     "name": "stdout",
     "output_type": "stream",
     "text": [
      "tensor([[0.2252, 0.6265, 0.0851, 0.0000, 0.0181, 0.0000],\n",
      "        [0.0000, 0.0000, 0.0000, 0.0000, 1.1146, 1.1043]],\n",
      "       grad_fn=<ReluBackward0>)\n"
     ]
    }
   ],
   "source": [
    "batch_example = torch.randn(2, 5)\n",
    "m = nn.Sequential(nn.Linear(5, 6), nn.ReLU())\n",
    "o = m(batch_example)\n",
    "print(o)"
   ]
  },
  {
   "cell_type": "code",
   "execution_count": 7,
   "id": "de1d537d-29c2-4284-b44a-fd0b462ec279",
   "metadata": {},
   "outputs": [
    {
     "name": "stdout",
     "output_type": "stream",
     "text": [
      "tensor([[0.1592],\n",
      "        [0.3698]], grad_fn=<MeanBackward1>)\n",
      "tensor([[0.2445],\n",
      "        [0.5729]], grad_fn=<StdBackward0>)\n"
     ]
    }
   ],
   "source": [
    "mean = o.mean(dim=-1, keepdims=True)\n",
    "var = o.std(dim=-1, keepdims=True)\n",
    "print(mean)\n",
    "print(var)"
   ]
  },
  {
   "cell_type": "code",
   "execution_count": 8,
   "id": "9b9b33ba-897c-445a-900a-46e6d903aa4d",
   "metadata": {},
   "outputs": [
    {
     "name": "stdout",
     "output_type": "stream",
     "text": [
      "tensor([[    -0.0000],\n",
      "        [     0.0000]], grad_fn=<MeanBackward1>)\n",
      "tensor([[0.2445],\n",
      "        [0.5729]], grad_fn=<VarBackward0>)\n"
     ]
    }
   ],
   "source": [
    "torch.set_printoptions(sci_mode=False)\n",
    "o_normalized = (o-mean)/torch.sqrt(var)\n",
    "o_mean = o_normalized.mean(dim=-1, keepdim=True)\n",
    "o_var = o_normalized.var(dim=-1, keepdim=True)\n",
    "print(o_mean)\n",
    "print(o_var)"
   ]
  },
  {
   "cell_type": "code",
   "execution_count": 9,
   "id": "b2707462-c418-4d88-9534-885439007acb",
   "metadata": {},
   "outputs": [],
   "source": [
    "class LayerNorm(nn.Module):\n",
    "    def __init__(self, emb_dim, eps=1e-5):\n",
    "        super().__init__()\n",
    "        self.eps = eps\n",
    "        self.scale = nn.Parameter(torch.ones(emb_dim))\n",
    "        self.shift = nn.Parameter(torch.zeros(emb_dim))\n",
    "\n",
    "    def forward(self, x):\n",
    "        mean = x.mean(dim=-1, keepdim=True)\n",
    "        var = x.var(dim=-1, keepdim=True, unbiased=False)\n",
    "        x_norm = (x-mean)/torch.sqrt(var + self.eps)\n",
    "        return self.scale * x_norm + self.shift   \n",
    "        \n",
    "        "
   ]
  },
  {
   "cell_type": "code",
   "execution_count": 10,
   "id": "f24a15be-1cbc-47ed-a7bf-aafcd12ceaba",
   "metadata": {},
   "outputs": [],
   "source": [
    "ln = LayerNorm(5)\n",
    "o_ln = ln(batch_example)\n"
   ]
  },
  {
   "cell_type": "code",
   "execution_count": 11,
   "id": "d1be144a-2cc0-4e98-9cc9-f1bdc27cf3c9",
   "metadata": {},
   "outputs": [
    {
     "name": "stdout",
     "output_type": "stream",
     "text": [
      "mean tensor([[    -0.0000],\n",
      "        [     0.0000]], grad_fn=<MeanBackward1>)\n",
      "var tensor([[1.0000],\n",
      "        [1.0000]], grad_fn=<VarBackward0>)\n"
     ]
    }
   ],
   "source": [
    "mean = o_ln.mean(-1, keepdim=True)\n",
    "var = o_ln.var(-1, unbiased=False, keepdim=True)\n",
    "print('mean', mean)\n",
    "print('var', var)"
   ]
  },
  {
   "cell_type": "code",
   "execution_count": 51,
   "id": "d66a4359-4fcb-44e6-b538-4f441fb5bcf3",
   "metadata": {},
   "outputs": [],
   "source": [
    "class GELU(nn.Module):\n",
    "    def __init__(self):\n",
    "        super().__init__()\n",
    "\n",
    "    def forward(self, x):\n",
    "        return 0.5 * x * (1 + torch.tanh(\n",
    "            torch.sqrt(torch.tensor(2.0/torch.pi)) *\n",
    "            (x + 0.044715 * torch.pow(x, 3))\n",
    "        ))"
   ]
  },
  {
   "cell_type": "code",
   "execution_count": 30,
   "id": "48e5d6b7-7b32-4256-b4ad-d972bef8fe44",
   "metadata": {},
   "outputs": [
    {
     "data": {
      "image/png": "[encoded data removed]",
      "text/plain": [
       "<Figure size 1000x300 with 2 Axes>"
      ]
     },
     "metadata": {},
     "output_type": "display_data"
    }
   ],
   "source": [
    "glue, relu = GELU(), nn.ReLU()\n",
    "x = torch.linspace(-3, 3, 100)\n",
    "y_glue, y_relu = glue(x), relu(x)\n",
    "\n",
    "plt.figure(figsize=(10, 3))\n",
    "for i, (y, label) in enumerate(zip([y_glue, y_relu], ['GELU', 'ReLU']), 1):\n",
    "    plt.subplot(1, 2, i)\n",
    "    plt.plot(x, y)\n",
    "    plt.xlabel('x')\n",
    "    plt.ylabel(f'{label}(x)')\n",
    "    plt.grid(True)\n",
    "    plt.title(f'{label} activation')"
   ]
  },
  {
   "cell_type": "code",
   "execution_count": 52,
   "id": "3721c386-9c62-455f-9aa1-9f4d9c94c52c",
   "metadata": {},
   "outputs": [],
   "source": [
    "class FeedForward(nn.Module):\n",
    "    def __init__(self, cfg):\n",
    "        super().__init__()\n",
    "        self.layers = nn.Sequential(\n",
    "            nn.Linear(cfg['emb_dim'], 4 * cfg['emb_dim']), \n",
    "            GELU(),\n",
    "            nn.Linear(4 * cfg['emb_dim'], cfg['emb_dim'])\n",
    "        )\n",
    "\n",
    "    def forward(self, x):\n",
    "        return self.layers(x)"
   ]
  },
  {
   "cell_type": "code",
   "execution_count": 53,
   "id": "55f3c680-9ebb-4628-9ff9-79d4614ba0db",
   "metadata": {},
   "outputs": [
    {
     "name": "stdout",
     "output_type": "stream",
     "text": [
      "torch.Size([2, 3, 768])\n"
     ]
    }
   ],
   "source": [
    "ffn = FeedForward(GPT_CONFIG_124M)\n",
    "x  = torch.rand(2, 3, GPT_CONFIG_124M['emb_dim'])\n",
    "o = ffn(x)\n",
    "print(o.shape)"
   ]
  },
  {
   "cell_type": "code",
   "execution_count": 66,
   "id": "15fa527f-1eda-43cf-a062-d4e6ff215e33",
   "metadata": {},
   "outputs": [],
   "source": [
    "class ExampleDeepNeuralNetwork(nn.Module):\n",
    "    def __init__(self, layer_sizes, use_shortcut):\n",
    "        super().__init__()\n",
    "        self.use_shortcut = use_shortcut\n",
    "        self.layers = nn.ModuleList([\n",
    "            nn.Sequential(nn.Linear(layer_sizes[i-1], layer_sizes[i]), GELU()) for i in range(1, len(layer_sizes))\n",
    "        ])\n",
    "    \n",
    "    def forward(self, x):\n",
    "        for layer in self.layers:\n",
    "            layer_output = layer(x)\n",
    "            if self.use_shortcut and x.shape == layer_output.shape:\n",
    "                x = x + layer_output\n",
    "            else:\n",
    "                x = layer_output\n",
    "        return x"
   ]
  },
  {
   "cell_type": "code",
   "execution_count": 67,
   "id": "de69c2e9-dd7c-46c7-9418-e7feefcbf21c",
   "metadata": {},
   "outputs": [],
   "source": [
    "def print_gradients(model, x):\n",
    "    output = model(x)\n",
    "    target = torch.tensor([[0.]])\n",
    "\n",
    "    loss = nn.MSELoss()\n",
    "    loss = loss(output, target)\n",
    "\n",
    "    loss.backward()\n",
    "\n",
    "    for name, param in model.named_parameters():\n",
    "        if 'weight' in name:\n",
    "            print(f\"{name} has gradient mean of {param.grad.abs().mean().item()}\")"
   ]
  },
  {
   "cell_type": "code",
   "execution_count": 72,
   "id": "79418692-676e-4d9c-bb30-af01acbd9b4b",
   "metadata": {},
   "outputs": [
    {
     "name": "stdout",
     "output_type": "stream",
     "text": [
      "layers.0.0.weight has gradient mean of 7.809203816577792e-05\n",
      "layers.1.0.weight has gradient mean of 0.00010268267942592502\n",
      "layers.2.0.weight has gradient mean of 0.000554734724573791\n",
      "layers.3.0.weight has gradient mean of 0.0015046836342662573\n",
      "layers.4.0.weight has gradient mean of 0.008380373008549213\n"
     ]
    }
   ],
   "source": [
    "layer_sizes = [3, 3, 3, 3, 3, 1] \n",
    "m =  ExampleDeepNeuralNetwork(layer_sizes, use_shortcut=False)\n",
    "torch.manual_seed(123)\n",
    "sample_input = torch.tensor([[1., 0., -1.]])\n",
    "print_gradients(m, sample_input)"
   ]
  },
  {
   "cell_type": "code",
   "execution_count": 73,
   "id": "fe47ed34-993e-44ea-be28-9fc2f446e52a",
   "metadata": {},
   "outputs": [
    {
     "name": "stdout",
     "output_type": "stream",
     "text": [
      "layers.0.0.weight has gradient mean of 0.22169792652130127\n",
      "layers.1.0.weight has gradient mean of 0.20694108307361603\n",
      "layers.2.0.weight has gradient mean of 0.3289699852466583\n",
      "layers.3.0.weight has gradient mean of 0.2665732204914093\n",
      "layers.4.0.weight has gradient mean of 1.3258541822433472\n"
     ]
    }
   ],
   "source": [
    "m =  ExampleDeepNeuralNetwork(layer_sizes, use_shortcut=True)\n",
    "print_gradients(m, sample_input)"
   ]
  },
  {
   "cell_type": "code",
   "execution_count": null,
   "id": "636e7706-b0b5-46fd-be53-c2988311ec8f",
   "metadata": {},
   "outputs": [],
   "source": []
  }
 ],
 "metadata": {
  "kernelspec": {
   "display_name": "Python 3",
   "language": "python",
   "name": "python3"
  },
  "language_info": {
   "codemirror_mode": {
    "name": "ipython",
    "version": 3
   },
   "file_extension": ".py",
   "mimetype": "text/x-python",
   "name": "python",
   "nbconvert_exporter": "python",
   "pygments_lexer": "ipython3",
   "version": "3.10.10"
  }
 },
 "nbformat": 4,
 "nbformat_minor": 5
}
