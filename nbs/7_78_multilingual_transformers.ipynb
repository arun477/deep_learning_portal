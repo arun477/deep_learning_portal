{
 "cells": [
  {
   "cell_type": "code",
   "execution_count": 1,
   "metadata": {
    "colab": {
     "base_uri": "https://localhost:8080/"
    },
    "id": "q21yRKY_73n4",
    "outputId": "c3494d2a-66b1-480d-e5c0-4df33602f667"
   },
   "outputs": [
    {
     "name": "stdout",
     "output_type": "stream",
     "text": [
      "\u001b[2K     \u001b[90m━━━━━━━━━━━━━━━━━━━━━━━━━━━━━━━━━━━━━━━━\u001b[0m \u001b[32m171.5/171.5 kB\u001b[0m \u001b[31m3.5 MB/s\u001b[0m eta \u001b[36m0:00:00\u001b[0m\n",
      "\u001b[2K     \u001b[90m━━━━━━━━━━━━━━━━━━━━━━━━━━━━━━━━━━━━━━━━\u001b[0m \u001b[32m542.0/542.0 kB\u001b[0m \u001b[31m10.9 MB/s\u001b[0m eta \u001b[36m0:00:00\u001b[0m\n",
      "\u001b[2K     \u001b[90m━━━━━━━━━━━━━━━━━━━━━━━━━━━━━━━━━━━━━━━━\u001b[0m \u001b[32m116.3/116.3 kB\u001b[0m \u001b[31m6.1 MB/s\u001b[0m eta \u001b[36m0:00:00\u001b[0m\n",
      "\u001b[2K     \u001b[90m━━━━━━━━━━━━━━━━━━━━━━━━━━━━━━━━━━━━━━━━\u001b[0m \u001b[32m194.1/194.1 kB\u001b[0m \u001b[31m8.1 MB/s\u001b[0m eta \u001b[36m0:00:00\u001b[0m\n",
      "\u001b[2K     \u001b[90m━━━━━━━━━━━━━━━━━━━━━━━━━━━━━━━━━━━━━━━━\u001b[0m \u001b[32m134.8/134.8 kB\u001b[0m \u001b[31m11.8 MB/s\u001b[0m eta \u001b[36m0:00:00\u001b[0m\n",
      "\u001b[2K     \u001b[90m━━━━━━━━━━━━━━━━━━━━━━━━━━━━━━━━━━━━━━━━\u001b[0m \u001b[32m401.2/401.2 kB\u001b[0m \u001b[31m13.1 MB/s\u001b[0m eta \u001b[36m0:00:00\u001b[0m\n",
      "\u001b[?25h"
     ]
    }
   ],
   "source": [
    "!pip install -q sentence-transformers datasets"
   ]
  },
  {
   "cell_type": "code",
   "execution_count": 3,
   "metadata": {
    "colab": {
     "base_uri": "https://localhost:8080/"
    },
    "id": "QO7LB-vo76e2",
    "outputId": "d62801db-475a-4416-d666-275e144e727e"
   },
   "outputs": [
    {
     "data": {
      "text/plain": [
       "Dataset({\n",
       "    features: ['translations', 'talk_name'],\n",
       "    num_rows: 258098\n",
       "})"
      ]
     },
     "execution_count": 3,
     "metadata": {},
     "output_type": "execute_result"
    }
   ],
   "source": [
    "import datasets\n",
    "ted = datasets.load_dataset('ted_multi', split='train')\n",
    "ted"
   ]
  },
  {
   "cell_type": "code",
   "execution_count": 8,
   "metadata": {
    "colab": {
     "base_uri": "https://localhost:8080/"
    },
    "id": "nBl-cEWZ_lWT",
    "outputId": "4c8cba0f-d1f0-4812-bd57-c759698b37dd"
   },
   "outputs": [
    {
     "data": {
      "text/plain": [
       "dict_keys(['language', 'translation'])"
      ]
     },
     "execution_count": 8,
     "metadata": {},
     "output_type": "execute_result"
    }
   ],
   "source": [
    "ted[10]['translations'].keys()"
   ]
  },
  {
   "cell_type": "code",
   "execution_count": 9,
   "metadata": {
    "colab": {
     "base_uri": "https://localhost:8080/"
    },
    "id": "a1NxMgAg_rsH",
    "outputId": "d5e836f6-b435-409b-8364-843b34717870"
   },
   "outputs": [
    {
     "name": "stderr",
     "output_type": "stream",
     "text": [
      "100%|██████████| 258098/258098 [00:39<00:00, 6521.13it/s]\n"
     ]
    }
   ],
   "source": [
    "from tqdm import tqdm\n",
    "from collections import defaultdict\n",
    "\n",
    "lang_list = ['it', 'es', 'ar', 'fr', 'de']\n",
    "train_examples = defaultdict(list)\n",
    "for row in tqdm(ted):\n",
    "  en_idx = row['translations']['language'].index('en')\n",
    "  src = row['translations']['translation'][en_idx]\n",
    "  for i, lang in enumerate(row['translations']['language']):\n",
    "    if i == en_idx:\n",
    "      continue\n",
    "    if lang in lang_list:\n",
    "      target = row['translations']['translation'][i]\n",
    "      train_examples[f\"en-{lang}\"].append(src + '\\t' + target)"
   ]
  },
  {
   "cell_type": "code",
   "execution_count": 10,
   "metadata": {
    "colab": {
     "base_uri": "https://localhost:8080/"
    },
    "id": "X_nv5SAvBqid",
    "outputId": "d43903a8-afd5-4da2-ee26-2d40d0c6840e"
   },
   "outputs": [
    {
     "name": "stdout",
     "output_type": "stream",
     "text": [
      "lang:en-ar, num of samples: 214111\n",
      "lang:en-de, num of samples: 167888\n",
      "lang:en-es, num of samples: 196026\n",
      "lang:en-fr, num of samples: 192304\n",
      "lang:en-it, num of samples: 204503\n"
     ]
    }
   ],
   "source": [
    "for lpair in train_examples:\n",
    "  print(f\"lang:{lpair}, num of samples: {len(train_examples[lpair])}\")"
   ]
  },
  {
   "cell_type": "code",
   "execution_count": 11,
   "metadata": {
    "colab": {
     "base_uri": "https://localhost:8080/",
     "height": 35
    },
    "id": "oc2Z1m6-B83N",
    "outputId": "d6bbee8b-b3a6-4394-ab03-094b24d07bc8"
   },
   "outputs": [
    {
     "data": {
      "application/vnd.google.colaboratory.intrinsic+json": {
       "type": "string"
      },
      "text/plain": [
       "'( Applause )\\t( Applausi )'"
      ]
     },
     "execution_count": 11,
     "metadata": {},
     "output_type": "execute_result"
    }
   ],
   "source": [
    "src + '\\t' + target"
   ]
  },
  {
   "cell_type": "code",
   "execution_count": 13,
   "metadata": {
    "id": "q5nzjKKDCB_1"
   },
   "outputs": [],
   "source": [
    "import gzip\n",
    "import os\n",
    "\n",
    "if not os.path.exists('./data'):\n",
    "  os.mkdir('./data')\n",
    "\n",
    "for lpair in train_examples.keys():\n",
    "  with gzip.open(f\"./data/ted-train-{lpair}.tsv.gz\", 'wt', encoding='utf-8') as f:\n",
    "    f.write('\\n'.join(train_examples[lpair]))\n",
    ""
   ]
  },
  {
   "cell_type": "code",
   "execution_count": null,
   "metadata": {
    "id": "hsrFOGeKDPLY"
   },
   "outputs": [],
   "source": [
    "from transformers import AutoTokenizer\n",
    "bert_tokenizer = AutoTokenizer.from_pretrained('bert-base-uncased')"
   ]
  },
  {
   "cell_type": "code",
   "execution_count": 25,
   "metadata": {
    "id": "2p-vlfL0ExeM"
   },
   "outputs": [],
   "source": [
    "sentences = [\n",
    "    'we will include several languages',\n",
    "    '一些中文单词',\n",
    "    'το ελληνικό αλφάβητο είναι πολύ ωραίο',\n",
    "    'ჩვენ გვაქვს ქართული',\n",
    "    'தமிழ்நாடு செய்திகள்'\n",
    "]\n"
   ]
  },
  {
   "cell_type": "code",
   "execution_count": 26,
   "metadata": {
    "colab": {
     "base_uri": "https://localhost:8080/"
    },
    "id": "dCU_gIwmEzqH",
    "outputId": "bf08e810-275b-42f6-b2ae-a279bfea2757"
   },
   "outputs": [
    {
     "name": "stdout",
     "output_type": "stream",
     "text": [
      "original: we will include several languages\n",
      "decoded: we will include several languages\n",
      "--\n",
      "original: 一些中文单词\n",
      "decoded: 一 中 文\n",
      "--\n",
      "original: το ελληνικό αλφάβητο είναι πολύ ωραίο\n",
      "decoded: το ελληνικο αλφαβητο ειναι πολυ ωραιο\n",
      "--\n",
      "original: ჩვენ გვაქვს ქართული\n",
      "decoded: \n",
      "--\n",
      "original: தமிழ்நாடு செய்திகள்\n",
      "decoded: \n",
      "--\n"
     ]
    }
   ],
   "source": [
    "for s in sentences:\n",
    "  tokens = bert_tokenizer.encode(s)\n",
    "  decoded_tokens = bert_tokenizer.decode(tokens, skip_special_tokens=True)\n",
    "  print('original:', s)\n",
    "  print('decoded:', decoded_tokens)\n",
    "  print('--')"
   ]
  },
  {
   "cell_type": "code",
   "execution_count": 27,
   "metadata": {
    "colab": {
     "base_uri": "https://localhost:8080/"
    },
    "id": "m5aTBEx8E7DQ",
    "outputId": "b4d4764a-eaf1-4d21-dd35-aed6e3d5a8b3"
   },
   "outputs": [
    {
     "name": "stderr",
     "output_type": "stream",
     "text": [
      "/usr/local/lib/python3.10/dist-packages/huggingface_hub/file_download.py:1132: FutureWarning: `resume_download` is deprecated and will be removed in version 1.0.0. Downloads always resume when possible. If you want to force a new download, use `force_download=True`.\n",
      "  warnings.warn(\n"
     ]
    }
   ],
   "source": [
    "xlm_roberta_tokenizer = AutoTokenizer.from_pretrained('xlm-roberta-base')"
   ]
  },
  {
   "cell_type": "code",
   "execution_count": 28,
   "metadata": {
    "colab": {
     "base_uri": "https://localhost:8080/"
    },
    "id": "a3NIyWu-FJXI",
    "outputId": "cdcaee74-51a5-4f3a-b33b-351f6b23a631"
   },
   "outputs": [
    {
     "name": "stdout",
     "output_type": "stream",
     "text": [
      "original: we will include several languages\n",
      "decoded: we will include several languages\n",
      "--\n",
      "original: 一些中文单词\n",
      "decoded: 一些中文单词\n",
      "--\n",
      "original: το ελληνικό αλφάβητο είναι πολύ ωραίο\n",
      "decoded: το ελληνικό αλφάβητο είναι πολύ ωραίο\n",
      "--\n",
      "original: ჩვენ გვაქვს ქართული\n",
      "decoded: ჩვენ გვაქვს ქართული\n",
      "--\n",
      "original: தமிழ்நாடு செய்திகள்\n",
      "decoded: தமிழ்நாடு செய்திகள்\n",
      "--\n"
     ]
    }
   ],
   "source": [
    "for s in sentences:\n",
    "  tokens = xlm_roberta_tokenizer.encode(s)\n",
    "  decoded_tokens = xlm_roberta_tokenizer.decode(tokens, skip_special_tokens=True)\n",
    "  print('original:', s)\n",
    "  print('decoded:', decoded_tokens)\n",
    "  print('--')"
   ]
  },
  {
   "cell_type": "code",
   "execution_count": 35,
   "metadata": {
    "colab": {
     "base_uri": "https://localhost:8080/"
    },
    "id": "vwiP-yi8G-aR",
    "outputId": "9f7d1dde-caf2-4515-c901-689058bfeb47"
   },
   "outputs": [
    {
     "name": "stderr",
     "output_type": "stream",
     "text": [
      "/usr/local/lib/python3.10/dist-packages/huggingface_hub/file_download.py:1132: FutureWarning: `resume_download` is deprecated and will be removed in version 1.0.0. Downloads always resume when possible. If you want to force a new download, use `force_download=True`.\n",
      "  warnings.warn(\n"
     ]
    },
    {
     "data": {
      "text/plain": [
       "SentenceTransformer(\n",
       "  (0): Transformer({'max_seq_length': 512, 'do_lower_case': False}) with Transformer model: XLMRobertaModel \n",
       "  (1): Pooling({'word_embedding_dimension': 768, 'pooling_mode_cls_token': False, 'pooling_mode_mean_tokens': True, 'pooling_mode_max_tokens': False, 'pooling_mode_mean_sqrt_len_tokens': False, 'pooling_mode_weightedmean_tokens': False, 'pooling_mode_lasttoken': False, 'include_prompt': True})\n",
       ")"
      ]
     },
     "execution_count": 35,
     "metadata": {},
     "output_type": "execute_result"
    }
   ],
   "source": [
    "from sentence_transformers import models, SentenceTransformer\n",
    "xlmr = models.Transformer('xlm-roberta-base')\n",
    "pooling = models.Pooling(xlmr.get_word_embedding_dimension(), pooling_mode_mean_tokens=True)\n",
    "student = SentenceTransformer(modules=[xlmr, pooling])\n",
    "student"
   ]
  },
  {
   "cell_type": "code",
   "execution_count": 37,
   "metadata": {
    "colab": {
     "base_uri": "https://localhost:8080/"
    },
    "id": "DBvyC9SrHcYh",
    "outputId": "df808a19-c6f1-4595-e7c5-be57aa3afa6d"
   },
   "outputs": [
    {
     "name": "stderr",
     "output_type": "stream",
     "text": [
      "/usr/local/lib/python3.10/dist-packages/huggingface_hub/file_download.py:1132: FutureWarning: `resume_download` is deprecated and will be removed in version 1.0.0. Downloads always resume when possible. If you want to force a new download, use `force_download=True`.\n",
      "  warnings.warn(\n"
     ]
    },
    {
     "data": {
      "text/plain": [
       "SentenceTransformer(\n",
       "  (0): Transformer({'max_seq_length': 384, 'do_lower_case': False}) with Transformer model: MPNetModel \n",
       "  (1): Pooling({'word_embedding_dimension': 768, 'pooling_mode_cls_token': False, 'pooling_mode_mean_tokens': True, 'pooling_mode_max_tokens': False, 'pooling_mode_mean_sqrt_len_tokens': False, 'pooling_mode_weightedmean_tokens': False, 'pooling_mode_lasttoken': False, 'include_prompt': True})\n",
       "  (2): Normalize()\n",
       ")"
      ]
     },
     "execution_count": 37,
     "metadata": {},
     "output_type": "execute_result"
    }
   ],
   "source": [
    "teacher = SentenceTransformer('all-mpnet-base-v2')\n",
    "teacher"
   ]
  },
  {
   "cell_type": "code",
   "execution_count": 42,
   "metadata": {
    "id": "b229fUYPIMpo"
   },
   "outputs": [],
   "source": [
    "from sentence_transformers import ParallelSentencesDataset\n",
    "data = ParallelSentencesDataset(student_model=student, teacher_model=teacher, batch_size=2,\n",
    "                                use_embedding_cache=True)"
   ]
  },
  {
   "cell_type": "code",
   "execution_count": 44,
   "metadata": {
    "colab": {
     "base_uri": "https://localhost:8080/"
    },
    "id": "aiTDWg2fIqax",
    "outputId": "c66acb27-307c-4178-e4e2-f8d0831ac035"
   },
   "outputs": [
    {
     "name": "stdout",
     "output_type": "stream",
     "text": [
      "ted-train-en-es.tsv.gz\n",
      "ted-train-en-ar.tsv.gz\n",
      "ted-train-en-fr.tsv.gz\n",
      "ted-train-en-it.tsv.gz\n",
      "ted-train-en-de.tsv.gz\n"
     ]
    }
   ],
   "source": [
    "max_sentences_per_language = 500000\n",
    "train_max_sentence_length = 250\n",
    "\n",
    "train_files = [f for f in os.listdir('./data') if 'train' in f]\n",
    "for f in train_files:\n",
    "  print(f)\n",
    "  data.load_data('./data/'+f, max_sentences=max_sentences_per_language,\n",
    "                 max_sentence_length=train_max_sentence_length)"
   ]
  },
  {
   "cell_type": "code",
   "execution_count": 45,
   "metadata": {
    "colab": {
     "base_uri": "https://localhost:8080/"
    },
    "id": "IiMzMVoFJQes",
    "outputId": "793009b1-c60c-4e1b-fbc4-74c67651e44c"
   },
   "outputs": [
    {
     "data": {
      "text/plain": [
       "1798640"
      ]
     },
     "execution_count": 45,
     "metadata": {},
     "output_type": "execute_result"
    }
   ],
   "source": [
    "len(data)"
   ]
  },
  {
   "cell_type": "code",
   "execution_count": 46,
   "metadata": {
    "colab": {
     "base_uri": "https://localhost:8080/"
    },
    "id": "OY_Tq6_5JQhA",
    "outputId": "099f165e-3f09-4bf2-8875-fe1002a29e66"
   },
   "outputs": [
    {
     "data": {
      "text/plain": [
       "899320"
      ]
     },
     "execution_count": 46,
     "metadata": {},
     "output_type": "execute_result"
    }
   ],
   "source": [
    "from torch.utils.data import DataLoader\n",
    "loader = DataLoader(data, batch_size=2, shuffle=True)\n",
    "len(loader)"
   ]
  },
  {
   "cell_type": "code",
   "execution_count": 47,
   "metadata": {
    "id": "9aTrcUdbJQjD"
   },
   "outputs": [],
   "source": [
    "from sentence_transformers import losses\n",
    "loss_func = losses.MSELoss(model=student)"
   ]
  },
  {
   "cell_type": "code",
   "execution_count": null,
   "metadata": {
    "id": "6Y4tzSdgJ_s3"
   },
   "outputs": [],
   "source": [
    "import torch\n",
    "epochs = 1\n",
    "warmup_steps = int(len(loader)*epochs*0.1)\n",
    "student.fit(\n",
    "    train_objectives=[(loader, loss_func)],\n",
    "    epochs=epochs,\n",
    "    warmup_steps=warmup_steps,\n",
    "    output_path = './xlmr-ted',\n",
    "    save_best_model=True,\n",
    "    show_progress_bar=True,\n",
    "    optimizer_params={'lr': 2e-5, 'eps': 1e-6},\n",
    ")"
   ]
  },
  {
   "cell_type": "code",
   "execution_count": 60,
   "metadata": {
    "id": "0uN_HgtPKDVu"
   },
   "outputs": [],
   "source": [
    "student.save('./xlmr-ted')"
   ]
  },
  {
   "cell_type": "code",
   "execution_count": null,
   "metadata": {
    "id": "AMKQ9gkXKDYF"
   },
   "outputs": [],
   "source": [
    "en = datasets.load_dataset('stsb_multi_mt', 'en', split='test')\n",
    "it = datasets.load_dataset('stsb_multi_mt', 'it', split='test')\n",
    "en, it"
   ]
  },
  {
   "cell_type": "code",
   "execution_count": 62,
   "metadata": {
    "colab": {
     "base_uri": "https://localhost:8080/"
    },
    "id": "A91CkRzaKDaj",
    "outputId": "b72cdded-f3de-41d8-f21a-dd589746dd08"
   },
   "outputs": [
    {
     "data": {
      "text/plain": [
       "{'sentence1': 'A girl is styling her hair.',\n",
       " 'sentence2': 'A girl is brushing her hair.',\n",
       " 'similarity_score': 2.5}"
      ]
     },
     "execution_count": 62,
     "metadata": {},
     "output_type": "execute_result"
    }
   ],
   "source": [
    "en[0]"
   ]
  },
  {
   "cell_type": "code",
   "execution_count": 63,
   "metadata": {
    "colab": {
     "base_uri": "https://localhost:8080/"
    },
    "id": "uX2GP5rSNvPW",
    "outputId": "25f9a3af-022f-468a-8d92-04354d859ad6"
   },
   "outputs": [
    {
     "data": {
      "text/plain": [
       "{'sentence1': 'Una ragazza si acconcia i capelli.',\n",
       " 'sentence2': 'Una ragazza si sta spazzolando i capelli.',\n",
       " 'similarity_score': 2.5}"
      ]
     },
     "execution_count": 63,
     "metadata": {},
     "output_type": "execute_result"
    }
   ],
   "source": [
    "it[0]"
   ]
  },
  {
   "cell_type": "code",
   "execution_count": 64,
   "metadata": {
    "colab": {
     "base_uri": "https://localhost:8080/",
     "height": 81,
     "referenced_widgets": [
      "f6360f546a284f8d86a314b016997d08",
      "46c27ca4475a4c3798b1e782d86501f2",
      "7738f1058e20423882ae74098e890b73",
      "829d8c53cd554a07a98769d85cc3249b",
      "983ab47c851343e3b3b9ddcc08ecacbc",
      "53f9a8310ece416ca43222a9b9bd1b1d",
      "e9dcd1df35ca426681adf13b2ffcb18d",
      "50cc1f821d434819ac222d90e9bacb0e",
      "a6aab22ffd414868b031a1eadc920bb1",
      "da0f51a8bad14cf9b7a3a95722f3336c",
      "7da3b244ddff4e169e1370a96bddf150",
      "c017ca6b3498466baa56c88375220e70",
      "c77797cd972c44138d33fb06888d17a4",
      "c7a0774311fa4934b15f16051adbe0d5",
      "acdc87b3328a49b2a245af80a322ee40",
      "842a12eb4da4432f9c990151c508f6bc",
      "808d8f96be2c4247a490360066deaf51",
      "16b129389db44ba1bd8d8fc30a5f306e",
      "e9a95cf1b8af40668ae2739f7d57db48",
      "61a15d4fcd7349ff8628cae8ba30ac4e",
      "bf00a4cad0dc46288573cb9d49a8fe0b",
      "89ff3edb601b4d8caff208f04aee691e"
     ]
    },
    "id": "Nz7cu2BdNxua",
    "outputId": "05ef4c87-90e0-4f27-f6e5-584e69759b0b"
   },
   "outputs": [
    {
     "data": {
      "application/vnd.jupyter.widget-view+json": {
       "model_id": "f6360f546a284f8d86a314b016997d08",
       "version_major": 2,
       "version_minor": 0
      },
      "text/plain": [
       "Map:   0%|          | 0/1379 [00:00<?, ? examples/s]"
      ]
     },
     "metadata": {},
     "output_type": "display_data"
    },
    {
     "data": {
      "application/vnd.jupyter.widget-view+json": {
       "model_id": "c017ca6b3498466baa56c88375220e70",
       "version_major": 2,
       "version_minor": 0
      },
      "text/plain": [
       "Map:   0%|          | 0/1379 [00:00<?, ? examples/s]"
      ]
     },
     "metadata": {},
     "output_type": "display_data"
    }
   ],
   "source": [
    "en = en.map(lambda x: {'similarity_score': x['similarity_score']/5.0})\n",
    "it = it.map(lambda x: {'similarity_score': x['similarity_score']/5.0})"
   ]
  },
  {
   "cell_type": "code",
   "execution_count": 65,
   "metadata": {
    "colab": {
     "base_uri": "https://localhost:8080/"
    },
    "id": "7uB21y67N56O",
    "outputId": "44233458-5718-4b51-b777-1a2286a10912"
   },
   "outputs": [
    {
     "data": {
      "text/plain": [
       "Dataset({\n",
       "    features: ['sentence1', 'sentence2', 'similarity_score'],\n",
       "    num_rows: 1379\n",
       "})"
      ]
     },
     "execution_count": 65,
     "metadata": {},
     "output_type": "execute_result"
    }
   ],
   "source": [
    "en"
   ]
  },
  {
   "cell_type": "code",
   "execution_count": 66,
   "metadata": {
    "colab": {
     "base_uri": "https://localhost:8080/"
    },
    "id": "MHAucqP7OARA",
    "outputId": "497f4a47-22a4-4c31-f76a-4085973292a4"
   },
   "outputs": [
    {
     "data": {
      "text/plain": [
       "Dataset({\n",
       "    features: ['sentence1', 'sentence2', 'similarity_score'],\n",
       "    num_rows: 1379\n",
       "})"
      ]
     },
     "execution_count": 66,
     "metadata": {},
     "output_type": "execute_result"
    }
   ],
   "source": [
    "it"
   ]
  },
  {
   "cell_type": "code",
   "execution_count": 68,
   "metadata": {
    "id": "T4uP8sIrOAhm"
   },
   "outputs": [],
   "source": [
    "from sentence_transformers import InputExample\n",
    "\n",
    "en_samples = []\n",
    "it_samples = []\n",
    "en_it_samples = []\n",
    "\n",
    "for i in range(len(en)):\n",
    "  en_samples.append(InputExample(texts=[en[i]['sentence1'], en[i]['sentence2']], label=en[i]['similarity_score']))\n",
    "  it_samples.append(InputExample(texts=[it[i]['sentence1'], it[i]['sentence2']], label=it[i]['similarity_score']))\n",
    "  en_it_samples.append(InputExample(texts=[en[i]['sentence1'], it[i]['sentence2']], label=en[i]['similarity_score']))"
   ]
  },
  {
   "cell_type": "code",
   "execution_count": 71,
   "metadata": {
    "id": "MwsoJX51OM4N"
   },
   "outputs": [],
   "source": [
    "from sentence_transformers.evaluation import EmbeddingSimilarityEvaluator\n",
    "\n",
    "en_eval = EmbeddingSimilarityEvaluator.from_input_examples(en_samples)\n",
    "it_eval = EmbeddingSimilarityEvaluator.from_input_examples(it_samples)\n",
    "en_it_eval = EmbeddingSimilarityEvaluator.from_input_examples(en_it_samples)"
   ]
  },
  {
   "cell_type": "code",
   "execution_count": 72,
   "metadata": {
    "id": "VI8RY1zvOt6N"
   },
   "outputs": [],
   "source": [
    "model = SentenceTransformer('./xlmr-ted')"
   ]
  },
  {
   "cell_type": "code",
   "execution_count": null,
   "metadata": {
    "id": "uVnhq2NHO_hF"
   },
   "outputs": [],
   "source": [
    "%%time\n",
    "en_eval(model)"
   ]
  },
  {
   "cell_type": "code",
   "execution_count": null,
   "metadata": {
    "id": "Z5guYK-pPDGC"
   },
   "outputs": [],
   "source": [
    "%%time\n",
    "it_eval(model)"
   ]
  },
  {
   "cell_type": "code",
   "execution_count": null,
   "metadata": {
    "id": "4WAN5QwFPEk2"
   },
   "outputs": [],
   "source": [
    "%%time\n",
    "en_it_eval(model)"
   ]
  },
  {
   "cell_type": "code",
   "execution_count": null,
   "metadata": {
    "id": "lYofFmCfPGal"
   },
   "outputs": [],
   "source": [
    "from sentence_transformers import models\n",
    "\n",
    "xlmr = models.Transformer('xlm-roberta-base')\n",
    "pooler = models.Pooling(\n",
    "    xlmr.get_word_embedding_dimension(),\n",
    "    pooling_mode_mean_tokens=True\n",
    ")\n",
    "\n",
    "student = SentenceTransformer(modules=[xlmr, pooler])"
   ]
  },
  {
   "cell_type": "code",
   "execution_count": null,
   "metadata": {
    "id": "kQJYvN6KPPZA"
   },
   "outputs": [],
   "source": [
    "en_eval(student)"
   ]
  },
  {
   "cell_type": "code",
   "execution_count": null,
   "metadata": {
    "id": "1Sv-eMLGPSP1"
   },
   "outputs": [],
   "source": [
    "it_eval(student)"
   ]
  },
  {
   "cell_type": "code",
   "execution_count": null,
   "metadata": {
    "id": "9RazRSN6PT69"
   },
   "outputs": [],
   "source": [
    "en_it_eval(student)"
   ]
  },
  {
   "cell_type": "code",
   "execution_count": null,
   "metadata": {
    "id": "TlXXNwkuPWvM"
   },
   "outputs": [],
   "source": []
  }
 ],
 "metadata": {
  "colab": {
   "provenance": []
  },
  "kernelspec": {
   "display_name": "Python 3",
   "name": "python3"
  },
  "language_info": {
   "name": "python"
  },
  "widgets": {
   "application/vnd.jupyter.widget-state+json": {
    "16b129389db44ba1bd8d8fc30a5f306e": {
     "model_module": "@jupyter-widgets/controls",
     "model_module_version": "1.5.0",
     "model_name": "DescriptionStyleModel",
     "state": {
      "_model_module": "@jupyter-widgets/controls",
      "_model_module_version": "1.5.0",
      "_model_name": "DescriptionStyleModel",
      "_view_count": null,
      "_view_module": "@jupyter-widgets/base",
      "_view_module_version": "1.2.0",
      "_view_name": "StyleView",
      "description_width": ""
     }
    },
    "46c27ca4475a4c3798b1e782d86501f2": {
     "model_module": "@jupyter-widgets/controls",
     "model_module_version": "1.5.0",
     "model_name": "HTMLModel",
     "state": {
      "_dom_classes": [],
      "_model_module": "@jupyter-widgets/controls",
      "_model_module_version": "1.5.0",
      "_model_name": "HTMLModel",
      "_view_count": null,
      "_view_module": "@jupyter-widgets/controls",
      "_view_module_version": "1.5.0",
      "_view_name": "HTMLView",
      "description": "",
      "description_tooltip": null,
      "layout": "IPY_MODEL_53f9a8310ece416ca43222a9b9bd1b1d",
      "placeholder": "​",
      "style": "IPY_MODEL_e9dcd1df35ca426681adf13b2ffcb18d",
      "value": "Map: 100%"
     }
    },
    "50cc1f821d434819ac222d90e9bacb0e": {
     "model_module": "@jupyter-widgets/base",
     "model_module_version": "1.2.0",
     "model_name": "LayoutModel",
     "state": {
      "_model_module": "@jupyter-widgets/base",
      "_model_module_version": "1.2.0",
      "_model_name": "LayoutModel",
      "_view_count": null,
      "_view_module": "@jupyter-widgets/base",
      "_view_module_version": "1.2.0",
      "_view_name": "LayoutView",
      "align_content": null,
      "align_items": null,
      "align_self": null,
      "border": null,
      "bottom": null,
      "display": null,
      "flex": null,
      "flex_flow": null,
      "grid_area": null,
      "grid_auto_columns": null,
      "grid_auto_flow": null,
      "grid_auto_rows": null,
      "grid_column": null,
      "grid_gap": null,
      "grid_row": null,
      "grid_template_areas": null,
      "grid_template_columns": null,
      "grid_template_rows": null,
      "height": null,
      "justify_content": null,
      "justify_items": null,
      "left": null,
      "margin": null,
      "max_height": null,
      "max_width": null,
      "min_height": null,
      "min_width": null,
      "object_fit": null,
      "object_position": null,
      "order": null,
      "overflow": null,
      "overflow_x": null,
      "overflow_y": null,
      "padding": null,
      "right": null,
      "top": null,
      "visibility": null,
      "width": null
     }
    },
    "53f9a8310ece416ca43222a9b9bd1b1d": {
     "model_module": "@jupyter-widgets/base",
     "model_module_version": "1.2.0",
     "model_name": "LayoutModel",
     "state": {
      "_model_module": "@jupyter-widgets/base",
      "_model_module_version": "1.2.0",
      "_model_name": "LayoutModel",
      "_view_count": null,
      "_view_module": "@jupyter-widgets/base",
      "_view_module_version": "1.2.0",
      "_view_name": "LayoutView",
      "align_content": null,
      "align_items": null,
      "align_self": null,
      "border": null,
      "bottom": null,
      "display": null,
      "flex": null,
      "flex_flow": null,
      "grid_area": null,
      "grid_auto_columns": null,
      "grid_auto_flow": null,
      "grid_auto_rows": null,
      "grid_column": null,
      "grid_gap": null,
      "grid_row": null,
      "grid_template_areas": null,
      "grid_template_columns": null,
      "grid_template_rows": null,
      "height": null,
      "justify_content": null,
      "justify_items": null,
      "left": null,
      "margin": null,
      "max_height": null,
      "max_width": null,
      "min_height": null,
      "min_width": null,
      "object_fit": null,
      "object_position": null,
      "order": null,
      "overflow": null,
      "overflow_x": null,
      "overflow_y": null,
      "padding": null,
      "right": null,
      "top": null,
      "visibility": null,
      "width": null
     }
    },
    "61a15d4fcd7349ff8628cae8ba30ac4e": {
     "model_module": "@jupyter-widgets/controls",
     "model_module_version": "1.5.0",
     "model_name": "ProgressStyleModel",
     "state": {
      "_model_module": "@jupyter-widgets/controls",
      "_model_module_version": "1.5.0",
      "_model_name": "ProgressStyleModel",
      "_view_count": null,
      "_view_module": "@jupyter-widgets/base",
      "_view_module_version": "1.2.0",
      "_view_name": "StyleView",
      "bar_color": null,
      "description_width": ""
     }
    },
    "7738f1058e20423882ae74098e890b73": {
     "model_module": "@jupyter-widgets/controls",
     "model_module_version": "1.5.0",
     "model_name": "FloatProgressModel",
     "state": {
      "_dom_classes": [],
      "_model_module": "@jupyter-widgets/controls",
      "_model_module_version": "1.5.0",
      "_model_name": "FloatProgressModel",
      "_view_count": null,
      "_view_module": "@jupyter-widgets/controls",
      "_view_module_version": "1.5.0",
      "_view_name": "ProgressView",
      "bar_style": "success",
      "description": "",
      "description_tooltip": null,
      "layout": "IPY_MODEL_50cc1f821d434819ac222d90e9bacb0e",
      "max": 1379,
      "min": 0,
      "orientation": "horizontal",
      "style": "IPY_MODEL_a6aab22ffd414868b031a1eadc920bb1",
      "value": 1379
     }
    },
    "7da3b244ddff4e169e1370a96bddf150": {
     "model_module": "@jupyter-widgets/controls",
     "model_module_version": "1.5.0",
     "model_name": "DescriptionStyleModel",
     "state": {
      "_model_module": "@jupyter-widgets/controls",
      "_model_module_version": "1.5.0",
      "_model_name": "DescriptionStyleModel",
      "_view_count": null,
      "_view_module": "@jupyter-widgets/base",
      "_view_module_version": "1.2.0",
      "_view_name": "StyleView",
      "description_width": ""
     }
    },
    "808d8f96be2c4247a490360066deaf51": {
     "model_module": "@jupyter-widgets/base",
     "model_module_version": "1.2.0",
     "model_name": "LayoutModel",
     "state": {
      "_model_module": "@jupyter-widgets/base",
      "_model_module_version": "1.2.0",
      "_model_name": "LayoutModel",
      "_view_count": null,
      "_view_module": "@jupyter-widgets/base",
      "_view_module_version": "1.2.0",
      "_view_name": "LayoutView",
      "align_content": null,
      "align_items": null,
      "align_self": null,
      "border": null,
      "bottom": null,
      "display": null,
      "flex": null,
      "flex_flow": null,
      "grid_area": null,
      "grid_auto_columns": null,
      "grid_auto_flow": null,
      "grid_auto_rows": null,
      "grid_column": null,
      "grid_gap": null,
      "grid_row": null,
      "grid_template_areas": null,
      "grid_template_columns": null,
      "grid_template_rows": null,
      "height": null,
      "justify_content": null,
      "justify_items": null,
      "left": null,
      "margin": null,
      "max_height": null,
      "max_width": null,
      "min_height": null,
      "min_width": null,
      "object_fit": null,
      "object_position": null,
      "order": null,
      "overflow": null,
      "overflow_x": null,
      "overflow_y": null,
      "padding": null,
      "right": null,
      "top": null,
      "visibility": null,
      "width": null
     }
    },
    "829d8c53cd554a07a98769d85cc3249b": {
     "model_module": "@jupyter-widgets/controls",
     "model_module_version": "1.5.0",
     "model_name": "HTMLModel",
     "state": {
      "_dom_classes": [],
      "_model_module": "@jupyter-widgets/controls",
      "_model_module_version": "1.5.0",
      "_model_name": "HTMLModel",
      "_view_count": null,
      "_view_module": "@jupyter-widgets/controls",
      "_view_module_version": "1.5.0",
      "_view_name": "HTMLView",
      "description": "",
      "description_tooltip": null,
      "layout": "IPY_MODEL_da0f51a8bad14cf9b7a3a95722f3336c",
      "placeholder": "​",
      "style": "IPY_MODEL_7da3b244ddff4e169e1370a96bddf150",
      "value": " 1379/1379 [00:00&lt;00:00, 4423.23 examples/s]"
     }
    },
    "842a12eb4da4432f9c990151c508f6bc": {
     "model_module": "@jupyter-widgets/base",
     "model_module_version": "1.2.0",
     "model_name": "LayoutModel",
     "state": {
      "_model_module": "@jupyter-widgets/base",
      "_model_module_version": "1.2.0",
      "_model_name": "LayoutModel",
      "_view_count": null,
      "_view_module": "@jupyter-widgets/base",
      "_view_module_version": "1.2.0",
      "_view_name": "LayoutView",
      "align_content": null,
      "align_items": null,
      "align_self": null,
      "border": null,
      "bottom": null,
      "display": null,
      "flex": null,
      "flex_flow": null,
      "grid_area": null,
      "grid_auto_columns": null,
      "grid_auto_flow": null,
      "grid_auto_rows": null,
      "grid_column": null,
      "grid_gap": null,
      "grid_row": null,
      "grid_template_areas": null,
      "grid_template_columns": null,
      "grid_template_rows": null,
      "height": null,
      "justify_content": null,
      "justify_items": null,
      "left": null,
      "margin": null,
      "max_height": null,
      "max_width": null,
      "min_height": null,
      "min_width": null,
      "object_fit": null,
      "object_position": null,
      "order": null,
      "overflow": null,
      "overflow_x": null,
      "overflow_y": null,
      "padding": null,
      "right": null,
      "top": null,
      "visibility": null,
      "width": null
     }
    },
    "89ff3edb601b4d8caff208f04aee691e": {
     "model_module": "@jupyter-widgets/controls",
     "model_module_version": "1.5.0",
     "model_name": "DescriptionStyleModel",
     "state": {
      "_model_module": "@jupyter-widgets/controls",
      "_model_module_version": "1.5.0",
      "_model_name": "DescriptionStyleModel",
      "_view_count": null,
      "_view_module": "@jupyter-widgets/base",
      "_view_module_version": "1.2.0",
      "_view_name": "StyleView",
      "description_width": ""
     }
    },
    "983ab47c851343e3b3b9ddcc08ecacbc": {
     "model_module": "@jupyter-widgets/base",
     "model_module_version": "1.2.0",
     "model_name": "LayoutModel",
     "state": {
      "_model_module": "@jupyter-widgets/base",
      "_model_module_version": "1.2.0",
      "_model_name": "LayoutModel",
      "_view_count": null,
      "_view_module": "@jupyter-widgets/base",
      "_view_module_version": "1.2.0",
      "_view_name": "LayoutView",
      "align_content": null,
      "align_items": null,
      "align_self": null,
      "border": null,
      "bottom": null,
      "display": null,
      "flex": null,
      "flex_flow": null,
      "grid_area": null,
      "grid_auto_columns": null,
      "grid_auto_flow": null,
      "grid_auto_rows": null,
      "grid_column": null,
      "grid_gap": null,
      "grid_row": null,
      "grid_template_areas": null,
      "grid_template_columns": null,
      "grid_template_rows": null,
      "height": null,
      "justify_content": null,
      "justify_items": null,
      "left": null,
      "margin": null,
      "max_height": null,
      "max_width": null,
      "min_height": null,
      "min_width": null,
      "object_fit": null,
      "object_position": null,
      "order": null,
      "overflow": null,
      "overflow_x": null,
      "overflow_y": null,
      "padding": null,
      "right": null,
      "top": null,
      "visibility": null,
      "width": null
     }
    },
    "a6aab22ffd414868b031a1eadc920bb1": {
     "model_module": "@jupyter-widgets/controls",
     "model_module_version": "1.5.0",
     "model_name": "ProgressStyleModel",
     "state": {
      "_model_module": "@jupyter-widgets/controls",
      "_model_module_version": "1.5.0",
      "_model_name": "ProgressStyleModel",
      "_view_count": null,
      "_view_module": "@jupyter-widgets/base",
      "_view_module_version": "1.2.0",
      "_view_name": "StyleView",
      "bar_color": null,
      "description_width": ""
     }
    },
    "acdc87b3328a49b2a245af80a322ee40": {
     "model_module": "@jupyter-widgets/controls",
     "model_module_version": "1.5.0",
     "model_name": "HTMLModel",
     "state": {
      "_dom_classes": [],
      "_model_module": "@jupyter-widgets/controls",
      "_model_module_version": "1.5.0",
      "_model_name": "HTMLModel",
      "_view_count": null,
      "_view_module": "@jupyter-widgets/controls",
      "_view_module_version": "1.5.0",
      "_view_name": "HTMLView",
      "description": "",
      "description_tooltip": null,
      "layout": "IPY_MODEL_bf00a4cad0dc46288573cb9d49a8fe0b",
      "placeholder": "​",
      "style": "IPY_MODEL_89ff3edb601b4d8caff208f04aee691e",
      "value": " 1379/1379 [00:00&lt;00:00, 5226.61 examples/s]"
     }
    },
    "bf00a4cad0dc46288573cb9d49a8fe0b": {
     "model_module": "@jupyter-widgets/base",
     "model_module_version": "1.2.0",
     "model_name": "LayoutModel",
     "state": {
      "_model_module": "@jupyter-widgets/base",
      "_model_module_version": "1.2.0",
      "_model_name": "LayoutModel",
      "_view_count": null,
      "_view_module": "@jupyter-widgets/base",
      "_view_module_version": "1.2.0",
      "_view_name": "LayoutView",
      "align_content": null,
      "align_items": null,
      "align_self": null,
      "border": null,
      "bottom": null,
      "display": null,
      "flex": null,
      "flex_flow": null,
      "grid_area": null,
      "grid_auto_columns": null,
      "grid_auto_flow": null,
      "grid_auto_rows": null,
      "grid_column": null,
      "grid_gap": null,
      "grid_row": null,
      "grid_template_areas": null,
      "grid_template_columns": null,
      "grid_template_rows": null,
      "height": null,
      "justify_content": null,
      "justify_items": null,
      "left": null,
      "margin": null,
      "max_height": null,
      "max_width": null,
      "min_height": null,
      "min_width": null,
      "object_fit": null,
      "object_position": null,
      "order": null,
      "overflow": null,
      "overflow_x": null,
      "overflow_y": null,
      "padding": null,
      "right": null,
      "top": null,
      "visibility": null,
      "width": null
     }
    },
    "c017ca6b3498466baa56c88375220e70": {
     "model_module": "@jupyter-widgets/controls",
     "model_module_version": "1.5.0",
     "model_name": "HBoxModel",
     "state": {
      "_dom_classes": [],
      "_model_module": "@jupyter-widgets/controls",
      "_model_module_version": "1.5.0",
      "_model_name": "HBoxModel",
      "_view_count": null,
      "_view_module": "@jupyter-widgets/controls",
      "_view_module_version": "1.5.0",
      "_view_name": "HBoxView",
      "box_style": "",
      "children": [
       "IPY_MODEL_c77797cd972c44138d33fb06888d17a4",
       "IPY_MODEL_c7a0774311fa4934b15f16051adbe0d5",
       "IPY_MODEL_acdc87b3328a49b2a245af80a322ee40"
      ],
      "layout": "IPY_MODEL_842a12eb4da4432f9c990151c508f6bc"
     }
    },
    "c77797cd972c44138d33fb06888d17a4": {
     "model_module": "@jupyter-widgets/controls",
     "model_module_version": "1.5.0",
     "model_name": "HTMLModel",
     "state": {
      "_dom_classes": [],
      "_model_module": "@jupyter-widgets/controls",
      "_model_module_version": "1.5.0",
      "_model_name": "HTMLModel",
      "_view_count": null,
      "_view_module": "@jupyter-widgets/controls",
      "_view_module_version": "1.5.0",
      "_view_name": "HTMLView",
      "description": "",
      "description_tooltip": null,
      "layout": "IPY_MODEL_808d8f96be2c4247a490360066deaf51",
      "placeholder": "​",
      "style": "IPY_MODEL_16b129389db44ba1bd8d8fc30a5f306e",
      "value": "Map: 100%"
     }
    },
    "c7a0774311fa4934b15f16051adbe0d5": {
     "model_module": "@jupyter-widgets/controls",
     "model_module_version": "1.5.0",
     "model_name": "FloatProgressModel",
     "state": {
      "_dom_classes": [],
      "_model_module": "@jupyter-widgets/controls",
      "_model_module_version": "1.5.0",
      "_model_name": "FloatProgressModel",
      "_view_count": null,
      "_view_module": "@jupyter-widgets/controls",
      "_view_module_version": "1.5.0",
      "_view_name": "ProgressView",
      "bar_style": "success",
      "description": "",
      "description_tooltip": null,
      "layout": "IPY_MODEL_e9a95cf1b8af40668ae2739f7d57db48",
      "max": 1379,
      "min": 0,
      "orientation": "horizontal",
      "style": "IPY_MODEL_61a15d4fcd7349ff8628cae8ba30ac4e",
      "value": 1379
     }
    },
    "da0f51a8bad14cf9b7a3a95722f3336c": {
     "model_module": "@jupyter-widgets/base",
     "model_module_version": "1.2.0",
     "model_name": "LayoutModel",
     "state": {
      "_model_module": "@jupyter-widgets/base",
      "_model_module_version": "1.2.0",
      "_model_name": "LayoutModel",
      "_view_count": null,
      "_view_module": "@jupyter-widgets/base",
      "_view_module_version": "1.2.0",
      "_view_name": "LayoutView",
      "align_content": null,
      "align_items": null,
      "align_self": null,
      "border": null,
      "bottom": null,
      "display": null,
      "flex": null,
      "flex_flow": null,
      "grid_area": null,
      "grid_auto_columns": null,
      "grid_auto_flow": null,
      "grid_auto_rows": null,
      "grid_column": null,
      "grid_gap": null,
      "grid_row": null,
      "grid_template_areas": null,
      "grid_template_columns": null,
      "grid_template_rows": null,
      "height": null,
      "justify_content": null,
      "justify_items": null,
      "left": null,
      "margin": null,
      "max_height": null,
      "max_width": null,
      "min_height": null,
      "min_width": null,
      "object_fit": null,
      "object_position": null,
      "order": null,
      "overflow": null,
      "overflow_x": null,
      "overflow_y": null,
      "padding": null,
      "right": null,
      "top": null,
      "visibility": null,
      "width": null
     }
    },
    "e9a95cf1b8af40668ae2739f7d57db48": {
     "model_module": "@jupyter-widgets/base",
     "model_module_version": "1.2.0",
     "model_name": "LayoutModel",
     "state": {
      "_model_module": "@jupyter-widgets/base",
      "_model_module_version": "1.2.0",
      "_model_name": "LayoutModel",
      "_view_count": null,
      "_view_module": "@jupyter-widgets/base",
      "_view_module_version": "1.2.0",
      "_view_name": "LayoutView",
      "align_content": null,
      "align_items": null,
      "align_self": null,
      "border": null,
      "bottom": null,
      "display": null,
      "flex": null,
      "flex_flow": null,
      "grid_area": null,
      "grid_auto_columns": null,
      "grid_auto_flow": null,
      "grid_auto_rows": null,
      "grid_column": null,
      "grid_gap": null,
      "grid_row": null,
      "grid_template_areas": null,
      "grid_template_columns": null,
      "grid_template_rows": null,
      "height": null,
      "justify_content": null,
      "justify_items": null,
      "left": null,
      "margin": null,
      "max_height": null,
      "max_width": null,
      "min_height": null,
      "min_width": null,
      "object_fit": null,
      "object_position": null,
      "order": null,
      "overflow": null,
      "overflow_x": null,
      "overflow_y": null,
      "padding": null,
      "right": null,
      "top": null,
      "visibility": null,
      "width": null
     }
    },
    "e9dcd1df35ca426681adf13b2ffcb18d": {
     "model_module": "@jupyter-widgets/controls",
     "model_module_version": "1.5.0",
     "model_name": "DescriptionStyleModel",
     "state": {
      "_model_module": "@jupyter-widgets/controls",
      "_model_module_version": "1.5.0",
      "_model_name": "DescriptionStyleModel",
      "_view_count": null,
      "_view_module": "@jupyter-widgets/base",
      "_view_module_version": "1.2.0",
      "_view_name": "StyleView",
      "description_width": ""
     }
    },
    "f6360f546a284f8d86a314b016997d08": {
     "model_module": "@jupyter-widgets/controls",
     "model_module_version": "1.5.0",
     "model_name": "HBoxModel",
     "state": {
      "_dom_classes": [],
      "_model_module": "@jupyter-widgets/controls",
      "_model_module_version": "1.5.0",
      "_model_name": "HBoxModel",
      "_view_count": null,
      "_view_module": "@jupyter-widgets/controls",
      "_view_module_version": "1.5.0",
      "_view_name": "HBoxView",
      "box_style": "",
      "children": [
       "IPY_MODEL_46c27ca4475a4c3798b1e782d86501f2",
       "IPY_MODEL_7738f1058e20423882ae74098e890b73",
       "IPY_MODEL_829d8c53cd554a07a98769d85cc3249b"
      ],
      "layout": "IPY_MODEL_983ab47c851343e3b3b9ddcc08ecacbc"
     }
    }
   }
  }
 },
 "nbformat": 4,
 "nbformat_minor": 0
}
