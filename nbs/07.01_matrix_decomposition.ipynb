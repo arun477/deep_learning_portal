{
 "cells": [
  {
   "cell_type": "markdown",
   "id": "3acad508",
   "metadata": {},
   "source": [
    "https://nbviewer.org/github/fastai/numerical-linear-algebra/blob/master/nbs/2.%20Topic%20Modeling%20with%20NMF%20and%20SVD.ipynb (ref) <br/>"
   ]
  },
  {
   "cell_type": "code",
   "execution_count": null,
   "id": "f69b939a",
   "metadata": {},
   "outputs": [],
   "source": [
    "import numpy as np\n",
    "from sklearn.datasets import fetch_20newsgroups\n",
    "from sklearn import decomposition\n",
    "from scipy import linalg\n",
    "import matplotlib.pyplot as plt\n",
    "from pprint import pprint"
   ]
  },
  {
   "cell_type": "code",
   "execution_count": null,
   "id": "1bd43e94",
   "metadata": {},
   "outputs": [],
   "source": [
    "remove_parts = ('headers', 'footers', 'quotes')\n",
    "categories = ['alt.atheism', 'talk.religion.misc', 'comp.graphics', 'sci.space']\n",
    "\n",
    "data_train = fetch_20newsgroups(subset='train', remove=remove_parts, categories=categories)\n",
    "data_valid = fetch_20newsgroups(subset='test', remove=remove_parts, categories=categories)"
   ]
  },
  {
   "cell_type": "code",
   "execution_count": null,
   "id": "36538cc9",
   "metadata": {},
   "outputs": [
    {
     "data": {
      "text/plain": [
       "(dict_keys(['data', 'filenames', 'target_names', 'target', 'DESCR']),\n",
       " dict_keys(['data', 'filenames', 'target_names', 'target', 'DESCR']))"
      ]
     },
     "execution_count": null,
     "metadata": {},
     "output_type": "execute_result"
    }
   ],
   "source": [
    "data_train.keys(), data_valid.keys()"
   ]
  },
  {
   "cell_type": "code",
   "execution_count": null,
   "id": "c591f76a",
   "metadata": {},
   "outputs": [
    {
     "data": {
      "text/plain": [
       "(2034, 1353)"
      ]
     },
     "execution_count": null,
     "metadata": {},
     "output_type": "execute_result"
    }
   ],
   "source": [
    "len(data_train['data']), len(data_valid['data'])"
   ]
  },
  {
   "cell_type": "code",
   "execution_count": null,
   "id": "0fbbcb3b",
   "metadata": {},
   "outputs": [
    {
     "name": "stdout",
     "output_type": "stream",
     "text": [
      "Hi,\n",
      "\n",
      "I've noticed that if you only save a model (with all your mapping planes\n",
      "positioned carefully) to a .3DS file that when you reload it after restarting\n",
      "3DS, they are given a default position and orientation.  But if you save\n",
      "to a .PRJ file their positions/orientation are preserved.  Does anyone\n",
      "know why this information is not stored in the .3DS file?  Nothing is\n",
      "explicitly said in the manual about saving texture rules in the .PRJ file. \n",
      "I'd like to be able to read the texture rule information, does anyone have \n",
      "the format for the .PRJ file?\n",
      "\n",
      "Is the .CEL file format available from somewhere?\n",
      "\n",
      "Rych \n",
      "\n",
      "Seems to be, barring evidence to the contrary, that Koresh was simply\n",
      "another deranged fanatic who thought it neccessary to take a whole bunch of\n",
      "folks with him, children and all, to satisfy his delusional mania. Jim\n",
      "Jones, circa 1993.\n",
      "\n",
      "\n",
      "Nope - fruitcakes like Koresh have been demonstrating such evil corruption\n",
      "for centuries. \n",
      " >In article <1993Apr19.020359.26996@sq.sq.com>, msb@sq.sq.com (Mark Brader) \n",
      "\n",
      "MB>                                                             So the\n",
      "MB> 1970 figure seems unlikely to actually be anything but a perijove.\n",
      "\n",
      "JG>Sorry, _perijoves_...I'm not used to talking this language.\n",
      "\n",
      "Couldn't we just say periapsis or apoapsis?\n",
      "\n",
      " \n"
     ]
    }
   ],
   "source": [
    "print(\" \".join(data_train['data'][:3]))"
   ]
  },
  {
   "cell_type": "code",
   "execution_count": null,
   "id": "54bc0a48",
   "metadata": {},
   "outputs": [
    {
     "data": {
      "text/plain": [
       "array(['comp.graphics', 'talk.religion.misc', 'sci.space', ...,\n",
       "       'comp.graphics', 'alt.atheism', 'comp.graphics'], dtype='<U18')"
      ]
     },
     "execution_count": null,
     "metadata": {},
     "output_type": "execute_result"
    }
   ],
   "source": [
    "np.array(data_train.target_names)[data_train.target]"
   ]
  },
  {
   "cell_type": "code",
   "execution_count": null,
   "id": "2f48473d",
   "metadata": {},
   "outputs": [],
   "source": [
    "from sklearn.feature_extraction.text import CountVectorizer, TfidfVectorizer"
   ]
  },
  {
   "cell_type": "markdown",
   "id": "aefa5706",
   "metadata": {},
   "source": [
    "https://scikit-learn.org/stable/modules/generated/sklearn.feature_extraction.text.CountVectorizer.html (ref)"
   ]
  },
  {
   "cell_type": "code",
   "execution_count": null,
   "id": "2b0f4a99",
   "metadata": {},
   "outputs": [
    {
     "data": {
      "text/plain": [
       "(2034, 26576)"
      ]
     },
     "execution_count": null,
     "metadata": {},
     "output_type": "execute_result"
    }
   ],
   "source": [
    "vectorizer = CountVectorizer(stop_words='english')\n",
    "vectors = vectorizer.fit_transform(data_train.data).todense()\n",
    "vectors.shape"
   ]
  },
  {
   "cell_type": "code",
   "execution_count": null,
   "id": "a47703c9",
   "metadata": {},
   "outputs": [
    {
     "data": {
      "text/plain": [
       "((26576,),\n",
       " array(['00', '000', '0000', '00000', '000000'], dtype='<U80'),\n",
       " array(['zwak', 'zwakke', 'zware', 'zwarte', 'zyxel'], dtype='<U80'))"
      ]
     },
     "execution_count": null,
     "metadata": {},
     "output_type": "execute_result"
    }
   ],
   "source": [
    "vocab = np.array(vectorizer.get_feature_names())\n",
    "vocab.shape, vocab[:5], vocab[vocab.shape[0]-5:]"
   ]
  },
  {
   "cell_type": "code",
   "execution_count": null,
   "id": "b3facbdb",
   "metadata": {},
   "outputs": [
    {
     "data": {
      "text/plain": [
       "array(['cosmonauts', 'cosmos', 'cosponsored', 'cost', 'costa', 'costar',\n",
       "       'costing', 'costly', 'costruction', 'costs', 'cosy', 'cote',\n",
       "       'couched', 'couldn', 'council', 'councils', 'counsel',\n",
       "       'counselees', 'counselor', 'count'], dtype='<U80')"
      ]
     },
     "execution_count": null,
     "metadata": {},
     "output_type": "execute_result"
    }
   ],
   "source": [
    "vocab[7000:7020]"
   ]
  },
  {
   "cell_type": "markdown",
   "id": "ede9b2e1",
   "metadata": {},
   "source": [
    "https://docs.scipy.org/doc/scipy/reference/generated/scipy.linalg.svd.html (ref)"
   ]
  },
  {
   "cell_type": "code",
   "execution_count": null,
   "id": "e68fbb61",
   "metadata": {},
   "outputs": [
    {
     "name": "stdout",
     "output_type": "stream",
     "text": [
      "CPU times: user 2min 17s, sys: 1min 3s, total: 3min 20s\n",
      "Wall time: 29.7 s\n"
     ]
    }
   ],
   "source": [
    "%time U,S,Vh = linalg.svd(vectors, full_matrices=False)"
   ]
  },
  {
   "cell_type": "code",
   "execution_count": null,
   "id": "199a955a",
   "metadata": {},
   "outputs": [
    {
     "data": {
      "text/plain": [
       "((2034, 2034), (2034,), (2034, 26576))"
      ]
     },
     "execution_count": null,
     "metadata": {},
     "output_type": "execute_result"
    }
   ],
   "source": [
    "U.shape,S.shape,Vh.shape"
   ]
  },
  {
   "cell_type": "code",
   "execution_count": null,
   "id": "72a1df18",
   "metadata": {},
   "outputs": [],
   "source": [
    "o = U@np.diag(S)@Vh"
   ]
  },
  {
   "cell_type": "code",
   "execution_count": null,
   "id": "6164b109",
   "metadata": {},
   "outputs": [
    {
     "data": {
      "text/plain": [
       "(2034, 26576)"
      ]
     },
     "execution_count": null,
     "metadata": {},
     "output_type": "execute_result"
    }
   ],
   "source": [
    "o.shape"
   ]
  },
  {
   "cell_type": "code",
   "execution_count": null,
   "id": "d6324a15",
   "metadata": {},
   "outputs": [
    {
     "data": {
      "text/plain": [
       "True"
      ]
     },
     "execution_count": null,
     "metadata": {},
     "output_type": "execute_result"
    }
   ],
   "source": [
    "np.allclose(vectors, o)"
   ]
  },
  {
   "cell_type": "code",
   "execution_count": null,
   "id": "d78612b1",
   "metadata": {},
   "outputs": [
    {
     "data": {
      "text/plain": [
       "True"
      ]
     },
     "execution_count": null,
     "metadata": {},
     "output_type": "execute_result"
    }
   ],
   "source": [
    "np.allclose((U@U.T), np.identity(U.shape[0]))"
   ]
  },
  {
   "cell_type": "code",
   "execution_count": null,
   "id": "59c298e4",
   "metadata": {},
   "outputs": [
    {
     "data": {
      "text/plain": [
       "True"
      ]
     },
     "execution_count": null,
     "metadata": {},
     "output_type": "execute_result"
    }
   ],
   "source": [
    "np.allclose((Vh@Vh.T), np.identity(Vh.shape[0]))"
   ]
  },
  {
   "cell_type": "code",
   "execution_count": null,
   "id": "7b06e51f",
   "metadata": {},
   "outputs": [
    {
     "data": {
      "image/png": "[encoded data removed]",
      "text/plain": [
       "<Figure size 432x288 with 1 Axes>"
      ]
     },
     "metadata": {
      "needs_background": "light"
     },
     "output_type": "display_data"
    }
   ],
   "source": [
    "plt.plot(S);"
   ]
  },
  {
   "cell_type": "code",
   "execution_count": null,
   "id": "9244d36c",
   "metadata": {},
   "outputs": [
    {
     "data": {
      "image/png": "[encoded data removed]",
      "text/plain": [
       "<Figure size 432x288 with 1 Axes>"
      ]
     },
     "metadata": {
      "needs_background": "light"
     },
     "output_type": "display_data"
    }
   ],
   "source": [
    "plt.plot(S[:10]);"
   ]
  },
  {
   "cell_type": "code",
   "execution_count": null,
   "id": "e717ea3e",
   "metadata": {},
   "outputs": [],
   "source": [
    "num_top_words = 8 \n",
    "\n",
    "def show_topics(a):\n",
    "    top_words = lambda t: [vocab[i] for i in np.argsort(t)[:-num_top_words:-1]]\n",
    "    topic_words = [top_words(t) for t in a]\n",
    "    return [\" \".join(t) for t in topic_words]"
   ]
  },
  {
   "cell_type": "code",
   "execution_count": null,
   "id": "afc8f30c",
   "metadata": {},
   "outputs": [
    {
     "data": {
      "text/plain": [
       "['ditto critus propagandist surname galacticentric kindergarten surreal',\n",
       " 'jpeg gif file color quality image jfif',\n",
       " 'graphics edu pub mail 128 3d ray',\n",
       " 'jesus god matthew people atheists atheism does',\n",
       " 'image data processing analysis software available tools',\n",
       " 'god atheists atheism religious believe religion argument',\n",
       " 'space nasa lunar mars probe moon missions',\n",
       " 'image probe surface lunar mars probes moon',\n",
       " 'argument fallacy conclusion example true ad argumentum',\n",
       " 'space larson image theory universe physical nasa']"
      ]
     },
     "execution_count": null,
     "metadata": {},
     "output_type": "execute_result"
    }
   ],
   "source": [
    "show_topics(Vh[:10])"
   ]
  },
  {
   "cell_type": "markdown",
   "id": "84e82e8c",
   "metadata": {},
   "source": [
    "https://arxiv.org/pdf/1401.5226.pdf (non-negative matrix factorization)"
   ]
  },
  {
   "cell_type": "code",
   "execution_count": null,
   "id": "eb11847e",
   "metadata": {},
   "outputs": [],
   "source": [
    "m,n = vectors.shape\n",
    "d = 5"
   ]
  },
  {
   "cell_type": "code",
   "execution_count": null,
   "id": "7d830fea",
   "metadata": {},
   "outputs": [
    {
     "name": "stderr",
     "output_type": "stream",
     "text": [
      "/Applications/anaconda3/lib/python3.9/site-packages/sklearn/decomposition/_nmf.py:312: FutureWarning: The 'init' value, when 'init=None' and n_components is less than n_samples and n_features, will be changed from 'nndsvd' to 'nndsvda' in 1.1 (renaming of 0.26).\n",
      "  warnings.warn((\"The 'init' value, when 'init=None' and \"\n"
     ]
    }
   ],
   "source": [
    "clf = decomposition.NMF(n_components=d, random_state=1)\n",
    "W1 = clf.fit_transform(vectors)\n",
    "H1 = clf.components_"
   ]
  },
  {
   "cell_type": "code",
   "execution_count": null,
   "id": "80959080",
   "metadata": {},
   "outputs": [
    {
     "data": {
      "text/plain": [
       "((2034, 5), (5, 26576))"
      ]
     },
     "execution_count": null,
     "metadata": {},
     "output_type": "execute_result"
    }
   ],
   "source": [
    "W1.shape,H1.shape"
   ]
  },
  {
   "cell_type": "code",
   "execution_count": null,
   "id": "ecf72c86",
   "metadata": {},
   "outputs": [
    {
     "data": {
      "text/plain": [
       "['jpeg image gif file color images format',\n",
       " 'edu graphics pub mail 128 ray ftp',\n",
       " 'space launch satellite nasa commercial satellites year',\n",
       " 'jesus god people matthew atheists does atheism',\n",
       " 'image data available software processing ftp edu']"
      ]
     },
     "execution_count": null,
     "metadata": {},
     "output_type": "execute_result"
    }
   ],
   "source": [
    "show_topics(H1)"
   ]
  },
  {
   "cell_type": "markdown",
   "id": "49200e26",
   "metadata": {},
   "source": [
    "https://tfidf.com/ (tdf-idf)"
   ]
  },
  {
   "cell_type": "code",
   "execution_count": null,
   "id": "33f5a56b",
   "metadata": {},
   "outputs": [
    {
     "data": {
      "text/plain": [
       "(2034, 26576)"
      ]
     },
     "execution_count": null,
     "metadata": {},
     "output_type": "execute_result"
    }
   ],
   "source": [
    "tfidf = TfidfVectorizer(stop_words='english')\n",
    "vectors_tfidf = tfidf.fit_transform(data_train.data)\n",
    "vectors_tfidf.shape"
   ]
  },
  {
   "cell_type": "code",
   "execution_count": null,
   "id": "5eaacf42",
   "metadata": {},
   "outputs": [
    {
     "name": "stderr",
     "output_type": "stream",
     "text": [
      "/Applications/anaconda3/lib/python3.9/site-packages/sklearn/decomposition/_nmf.py:312: FutureWarning: The 'init' value, when 'init=None' and n_components is less than n_samples and n_features, will be changed from 'nndsvd' to 'nndsvda' in 1.1 (renaming of 0.26).\n",
      "  warnings.warn((\"The 'init' value, when 'init=None' and \"\n"
     ]
    },
    {
     "data": {
      "text/plain": [
       "((2034, 5), (5, 26576))"
      ]
     },
     "execution_count": null,
     "metadata": {},
     "output_type": "execute_result"
    }
   ],
   "source": [
    "W1 = clf.fit_transform(vectors_tfidf)\n",
    "H1 = clf.components_\n",
    "W1.shape,H1.shape"
   ]
  },
  {
   "cell_type": "code",
   "execution_count": null,
   "id": "1fd505a7",
   "metadata": {},
   "outputs": [
    {
     "data": {
      "text/plain": [
       "['people don think just like objective say',\n",
       " 'graphics thanks files image file program windows',\n",
       " 'space nasa launch shuttle orbit moon lunar',\n",
       " 'ico bobbe tek beauchaine bronx manhattan sank',\n",
       " 'god jesus bible believe christian atheism does']"
      ]
     },
     "execution_count": null,
     "metadata": {},
     "output_type": "execute_result"
    }
   ],
   "source": [
    "show_topics(H1)"
   ]
  },
  {
   "cell_type": "code",
   "execution_count": null,
   "id": "529ecb5e",
   "metadata": {},
   "outputs": [
    {
     "data": {
      "image/png": "[encoded data removed]",
      "text/plain": [
       "<Figure size 432x288 with 1 Axes>"
      ]
     },
     "metadata": {
      "needs_background": "light"
     },
     "output_type": "display_data"
    }
   ],
   "source": [
    "plt.plot(H1[0]);"
   ]
  },
  {
   "cell_type": "code",
   "execution_count": null,
   "id": "8a9a31b0",
   "metadata": {},
   "outputs": [
    {
     "data": {
      "text/plain": [
       "43.71292605795278"
      ]
     },
     "execution_count": null,
     "metadata": {},
     "output_type": "execute_result"
    }
   ],
   "source": [
    "clf.reconstruction_err_"
   ]
  },
  {
   "cell_type": "markdown",
   "id": "e215af88",
   "metadata": {},
   "source": [
    "https://arxiv.org/abs/0909.4061 (probabilistic algo for matrix decompositionm)"
   ]
  },
  {
   "cell_type": "code",
   "execution_count": null,
   "id": "3696a385",
   "metadata": {},
   "outputs": [],
   "source": [
    "# C: (m,n) <- original matrix\n",
    "# U: (m,m) <- left singular vectors\n",
    "# V: (n,n) <- right singular vectors\n",
    "# S: (m,n) <- singular values\n",
    "# SVD(C) = U @ S @ V.transpose() <- (m,m) @ (m,n) @ (n,n)\n",
    "# time complexity: min(mn^2, m^2n)"
   ]
  },
  {
   "cell_type": "code",
   "execution_count": null,
   "id": "70864d43",
   "metadata": {},
   "outputs": [
    {
     "name": "stdout",
     "output_type": "stream",
     "text": [
      "CPU times: user 10 s, sys: 14.7 s, total: 24.8 s\n",
      "Wall time: 4.5 s\n"
     ]
    }
   ],
   "source": [
    "%time U,S,V = decomposition.randomized_svd(vectors, 5)"
   ]
  },
  {
   "cell_type": "code",
   "execution_count": null,
   "id": "41cb0d57",
   "metadata": {},
   "outputs": [
    {
     "data": {
      "text/plain": [
       "['jpeg image edu file graphics images gif',\n",
       " 'jpeg gif file color quality image jfif',\n",
       " 'space jesus launch god people satellite matthew',\n",
       " 'jesus god matthew people atheists atheism does',\n",
       " 'image data processing analysis software available tools']"
      ]
     },
     "execution_count": null,
     "metadata": {},
     "output_type": "execute_result"
    }
   ],
   "source": [
    "show_topics(V)"
   ]
  },
  {
   "cell_type": "code",
   "execution_count": null,
   "id": "0336d72e",
   "metadata": {},
   "outputs": [],
   "source": [
    "from sklearn.datasets import fetch_olivetti_faces"
   ]
  },
  {
   "cell_type": "code",
   "execution_count": null,
   "id": "2e0698ae",
   "metadata": {},
   "outputs": [
    {
     "data": {
      "text/plain": [
       "(4096, 400)"
      ]
     },
     "execution_count": null,
     "metadata": {},
     "output_type": "execute_result"
    }
   ],
   "source": [
    "data_faces, _ = fetch_olivetti_faces(return_X_y=True, random_state=1)\n",
    "data_faces = data_faces.transpose()\n",
    "data_faces.shape"
   ]
  },
  {
   "cell_type": "code",
   "execution_count": null,
   "id": "7d00243f",
   "metadata": {},
   "outputs": [
    {
     "data": {
      "image/png": "[encoded data removed]",
      "text/plain": [
       "<Figure size 432x288 with 1 Axes>"
      ]
     },
     "metadata": {
      "needs_background": "light"
     },
     "output_type": "display_data"
    }
   ],
   "source": [
    "plt.imshow(data_faces[:,0].reshape(64, 64));"
   ]
  },
  {
   "cell_type": "code",
   "execution_count": null,
   "id": "cfbb6e14",
   "metadata": {},
   "outputs": [
    {
     "name": "stderr",
     "output_type": "stream",
     "text": [
      "/Applications/anaconda3/lib/python3.9/site-packages/sklearn/decomposition/_nmf.py:312: FutureWarning: The 'init' value, when 'init=None' and n_components is less than n_samples and n_features, will be changed from 'nndsvd' to 'nndsvda' in 1.1 (renaming of 0.26).\n",
      "  warnings.warn((\"The 'init' value, when 'init=None' and \"\n"
     ]
    }
   ],
   "source": [
    "# n_components=low rank dim\n",
    "\n",
    "clf = decomposition.NMF(n_components=100, random_state=1)\n",
    "W1 = clf.fit_transform(data_faces)\n",
    "H1 = clf.components_\n",
    "W1.shape, H1.shape"
   ]
  },
  {
   "cell_type": "code",
   "execution_count": null,
   "id": "0358eccc",
   "metadata": {},
   "outputs": [],
   "source": [
    "_,axs = plt.subplots(1, 3, figsize=(10, 3))\n",
    "for w,ax in zip(W1.transpose(), axs.flat):\n",
    "    ax.imshow(w.reshape(64, 64))\n",
    "    ax.axis('off')"
   ]
  },
  {
   "cell_type": "code",
   "execution_count": null,
   "id": "c3a934dd",
   "metadata": {},
   "outputs": [],
   "source": [
    "_,axs = plt.subplots(1, 3, figsize=(10, 3))\n",
    "for h,ax in zip(H1, axs.flat):\n",
    "    ax.imshow(h.reshape(20, 20))\n",
    "    ax.axis('off')"
   ]
  },
  {
   "cell_type": "code",
   "execution_count": null,
   "id": "65dbd3df",
   "metadata": {},
   "outputs": [],
   "source": [
    "W1[:,0].min(), W1[:,0].max()"
   ]
  },
  {
   "cell_type": "code",
   "execution_count": null,
   "id": "6245ebbe",
   "metadata": {},
   "outputs": [],
   "source": [
    "hist = np.histogram(W1[:,0], bins=100)\n",
    "hist[0].shape, hist[1].shape"
   ]
  },
  {
   "cell_type": "code",
   "execution_count": null,
   "id": "ca024a29",
   "metadata": {},
   "outputs": [],
   "source": [
    "plt.bar(hist[1][:-1], hist[0], width=(hist[1][1] - hist[1][0]));"
   ]
  },
  {
   "cell_type": "code",
   "execution_count": null,
   "id": "a67525d4",
   "metadata": {},
   "outputs": [],
   "source": [
    "plt.hist(W1[:,0], bins=100);"
   ]
  },
  {
   "cell_type": "code",
   "execution_count": null,
   "id": "1c3994f8",
   "metadata": {},
   "outputs": [],
   "source": [
    "_,axs = plt.subplots(1, 3, figsize=(15, 3))\n",
    "for h,ax in zip(H1, axs.flat):\n",
    "    ax.hist(h, bins=100)"
   ]
  },
  {
   "cell_type": "code",
   "execution_count": null,
   "id": "c381677d",
   "metadata": {},
   "outputs": [],
   "source": [
    "_,axs = plt.subplots(1, 3, figsize=(15, 3))\n",
    "for h,ax in zip(H1, axs.flat):\n",
    "    ax.hist(h)"
   ]
  },
  {
   "cell_type": "code",
   "execution_count": null,
   "id": "b94eb0ac",
   "metadata": {},
   "outputs": [],
   "source": [
    "rec_images = W1@H1\n",
    "rec_images.shape"
   ]
  },
  {
   "cell_type": "code",
   "execution_count": null,
   "id": "aa97e352",
   "metadata": {},
   "outputs": [],
   "source": [
    "_,axs = plt.subplots(1, 10, figsize=(20, 20))\n",
    "for w,ax in zip(data_faces.transpose(), axs.flat):\n",
    "    ax.imshow(w.reshape(64, 64))\n",
    "    ax.axis('off')\n",
    "    ax.set_title('original')\n",
    "\n",
    "_,axs = plt.subplots(1, 10, figsize=(20, 20))                   \n",
    "for w,ax in zip(rec_images.transpose(), axs.flat):\n",
    "    ax.imshow(w.reshape(64, 64))\n",
    "    ax.axis('off')\n",
    "    ax.set_title('reconstructed')"
   ]
  },
  {
   "cell_type": "code",
   "execution_count": null,
   "id": "c456182a",
   "metadata": {},
   "outputs": [],
   "source": []
  },
  {
   "cell_type": "code",
   "execution_count": null,
   "id": "f15f72a7",
   "metadata": {},
   "outputs": [],
   "source": []
  }
 ],
 "metadata": {
  "kernelspec": {
   "display_name": "python3",
   "language": "python",
   "name": "python3"
  }
 },
 "nbformat": 4,
 "nbformat_minor": 5
}
