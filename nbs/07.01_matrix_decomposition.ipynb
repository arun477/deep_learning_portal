{
 "cells": [
  {
   "cell_type": "markdown",
   "id": "3acad508",
   "metadata": {},
   "source": [
    "https://nbviewer.org/github/fastai/numerical-linear-algebra/blob/master/nbs/2.%20Topic%20Modeling%20with%20NMF%20and%20SVD.ipynb (ref) <br/>"
   ]
  },
  {
   "cell_type": "code",
   "execution_count": null,
   "id": "f69b939a",
   "metadata": {},
   "outputs": [],
   "source": [
    "import numpy as np\n",
    "from sklearn.datasets import fetch_20newsgroups\n",
    "from sklearn import decomposition\n",
    "from scipy import linalg\n",
    "import matplotlib.pyplot as plt\n",
    "from pprint import pprint"
   ]
  },
  {
   "cell_type": "code",
   "execution_count": null,
   "id": "1bd43e94",
   "metadata": {},
   "outputs": [],
   "source": [
    "remove_parts = ('headers', 'footers', 'quotes')\n",
    "categories = ['alt.atheism', 'talk.religion.misc', 'comp.graphics', 'sci.space']\n",
    "\n",
    "data_train = fetch_20newsgroups(subset='train', remove=remove_parts, categories=categories)\n",
    "data_valid = fetch_20newsgroups(subset='test', remove=remove_parts, categories=categories)"
   ]
  },
  {
   "cell_type": "code",
   "execution_count": null,
   "id": "65a9f363",
   "metadata": {},
   "outputs": [
    {
     "data": {
      "text/plain": [
       "(dict_keys(['data', 'filenames', 'target_names', 'target', 'DESCR']),\n",
       " dict_keys(['data', 'filenames', 'target_names', 'target', 'DESCR']))"
      ]
     },
     "execution_count": null,
     "metadata": {},
     "output_type": "execute_result"
    }
   ],
   "source": [
    "data_train.keys(), data_valid.keys()"
   ]
  },
  {
   "cell_type": "code",
   "execution_count": null,
   "id": "051643e9",
   "metadata": {},
   "outputs": [
    {
     "data": {
      "text/plain": [
       "(2034, 1353)"
      ]
     },
     "execution_count": null,
     "metadata": {},
     "output_type": "execute_result"
    }
   ],
   "source": [
    "len(data_train['data']), len(data_valid['data'])"
   ]
  },
  {
   "cell_type": "code",
   "execution_count": null,
   "id": "9fd94c01",
   "metadata": {},
   "outputs": [
    {
     "name": "stdout",
     "output_type": "stream",
     "text": [
      "Hi,\n",
      "\n",
      "I've noticed that if you only save a model (with all your mapping planes\n",
      "positioned carefully) to a .3DS file that when you reload it after restarting\n",
      "3DS, they are given a default position and orientation.  But if you save\n",
      "to a .PRJ file their positions/orientation are preserved.  Does anyone\n",
      "know why this information is not stored in the .3DS file?  Nothing is\n",
      "explicitly said in the manual about saving texture rules in the .PRJ file. \n",
      "I'd like to be able to read the texture rule information, does anyone have \n",
      "the format for the .PRJ file?\n",
      "\n",
      "Is the .CEL file format available from somewhere?\n",
      "\n",
      "Rych \n",
      "\n",
      "Seems to be, barring evidence to the contrary, that Koresh was simply\n",
      "another deranged fanatic who thought it neccessary to take a whole bunch of\n",
      "folks with him, children and all, to satisfy his delusional mania. Jim\n",
      "Jones, circa 1993.\n",
      "\n",
      "\n",
      "Nope - fruitcakes like Koresh have been demonstrating such evil corruption\n",
      "for centuries. \n",
      " >In article <1993Apr19.020359.26996@sq.sq.com>, msb@sq.sq.com (Mark Brader) \n",
      "\n",
      "MB>                                                             So the\n",
      "MB> 1970 figure seems unlikely to actually be anything but a perijove.\n",
      "\n",
      "JG>Sorry, _perijoves_...I'm not used to talking this language.\n",
      "\n",
      "Couldn't we just say periapsis or apoapsis?\n",
      "\n",
      " \n"
     ]
    }
   ],
   "source": [
    "print(\" \".join(data_train['data'][:3]))"
   ]
  },
  {
   "cell_type": "code",
   "execution_count": null,
   "id": "ab8e1bbb",
   "metadata": {},
   "outputs": [
    {
     "data": {
      "text/plain": [
       "array(['comp.graphics', 'talk.religion.misc', 'sci.space', ...,\n",
       "       'comp.graphics', 'alt.atheism', 'comp.graphics'], dtype='<U18')"
      ]
     },
     "execution_count": null,
     "metadata": {},
     "output_type": "execute_result"
    }
   ],
   "source": [
    "np.array(data_train.target_names)[data_train.target]"
   ]
  },
  {
   "cell_type": "code",
   "execution_count": null,
   "id": "1480307f",
   "metadata": {},
   "outputs": [],
   "source": [
    "from sklearn.feature_extraction.text import CountVectorizer, TfidfVectorizer"
   ]
  },
  {
   "cell_type": "markdown",
   "id": "bbd9cb65",
   "metadata": {},
   "source": [
    "https://scikit-learn.org/stable/modules/generated/sklearn.feature_extraction.text.CountVectorizer.html (ref)"
   ]
  },
  {
   "cell_type": "code",
   "execution_count": null,
   "id": "f5b6a5e5",
   "metadata": {},
   "outputs": [
    {
     "data": {
      "text/plain": [
       "(2034, 26576)"
      ]
     },
     "execution_count": null,
     "metadata": {},
     "output_type": "execute_result"
    }
   ],
   "source": [
    "vectorizer = CountVectorizer(stop_words='english')\n",
    "vectors = vectorizer.fit_transform(data_train.data).todense()\n",
    "vectors.shape"
   ]
  },
  {
   "cell_type": "code",
   "execution_count": null,
   "id": "40ff6636",
   "metadata": {},
   "outputs": [
    {
     "data": {
      "text/plain": [
       "((26576,),\n",
       " array(['00', '000', '0000', '00000', '000000'], dtype='<U80'),\n",
       " array(['zwak', 'zwakke', 'zware', 'zwarte', 'zyxel'], dtype='<U80'))"
      ]
     },
     "execution_count": null,
     "metadata": {},
     "output_type": "execute_result"
    }
   ],
   "source": [
    "vocab = np.array(vectorizer.get_feature_names())\n",
    "vocab.shape, vocab[:5], vocab[vocab.shape[0]-5:]"
   ]
  },
  {
   "cell_type": "code",
   "execution_count": null,
   "id": "d17de7af",
   "metadata": {},
   "outputs": [
    {
     "data": {
      "text/plain": [
       "array(['cosmonauts', 'cosmos', 'cosponsored', 'cost', 'costa', 'costar',\n",
       "       'costing', 'costly', 'costruction', 'costs', 'cosy', 'cote',\n",
       "       'couched', 'couldn', 'council', 'councils', 'counsel',\n",
       "       'counselees', 'counselor', 'count'], dtype='<U80')"
      ]
     },
     "execution_count": null,
     "metadata": {},
     "output_type": "execute_result"
    }
   ],
   "source": [
    "vocab[7000:7020]"
   ]
  },
  {
   "cell_type": "markdown",
   "id": "50879e75",
   "metadata": {},
   "source": [
    "https://docs.scipy.org/doc/scipy/reference/generated/scipy.linalg.svd.html (ref)"
   ]
  },
  {
   "cell_type": "code",
   "execution_count": null,
   "id": "188c7039",
   "metadata": {},
   "outputs": [
    {
     "name": "stdout",
     "output_type": "stream",
     "text": [
      "CPU times: user 2min 17s, sys: 1min 3s, total: 3min 20s\n",
      "Wall time: 29.7 s\n"
     ]
    }
   ],
   "source": [
    "%time U,S,Vh = linalg.svd(vectors, full_matrices=False)"
   ]
  },
  {
   "cell_type": "code",
   "execution_count": null,
   "id": "b77d69cd",
   "metadata": {},
   "outputs": [
    {
     "data": {
      "text/plain": [
       "((2034, 2034), (2034,), (2034, 26576))"
      ]
     },
     "execution_count": null,
     "metadata": {},
     "output_type": "execute_result"
    }
   ],
   "source": [
    "U.shape,S.shape,Vh.shape"
   ]
  },
  {
   "cell_type": "code",
   "execution_count": null,
   "id": "043a198d",
   "metadata": {},
   "outputs": [],
   "source": [
    "o = U@np.diag(S)@Vh"
   ]
  },
  {
   "cell_type": "code",
   "execution_count": null,
   "id": "68a4bd0c",
   "metadata": {},
   "outputs": [
    {
     "data": {
      "text/plain": [
       "(2034, 26576)"
      ]
     },
     "execution_count": null,
     "metadata": {},
     "output_type": "execute_result"
    }
   ],
   "source": [
    "o.shape"
   ]
  },
  {
   "cell_type": "code",
   "execution_count": null,
   "id": "f92dbfbf",
   "metadata": {},
   "outputs": [
    {
     "data": {
      "text/plain": [
       "True"
      ]
     },
     "execution_count": null,
     "metadata": {},
     "output_type": "execute_result"
    }
   ],
   "source": [
    "np.allclose(vectors, o)"
   ]
  },
  {
   "cell_type": "code",
   "execution_count": null,
   "id": "96c0a467",
   "metadata": {},
   "outputs": [
    {
     "data": {
      "text/plain": [
       "True"
      ]
     },
     "execution_count": null,
     "metadata": {},
     "output_type": "execute_result"
    }
   ],
   "source": [
    "np.allclose((U@U.T), np.identity(U.shape[0]))"
   ]
  },
  {
   "cell_type": "code",
   "execution_count": null,
   "id": "5fb8792c",
   "metadata": {},
   "outputs": [
    {
     "data": {
      "text/plain": [
       "True"
      ]
     },
     "execution_count": null,
     "metadata": {},
     "output_type": "execute_result"
    }
   ],
   "source": [
    "np.allclose((Vh@Vh.T), np.identity(Vh.shape[0]))"
   ]
  },
  {
   "cell_type": "code",
   "execution_count": null,
   "id": "9599a1d5",
   "metadata": {},
   "outputs": [
    {
     "data": {
      "image/png": "[encoded data removed]",
      "text/plain": [
       "<Figure size 432x288 with 1 Axes>"
      ]
     },
     "metadata": {
      "needs_background": "light"
     },
     "output_type": "display_data"
    }
   ],
   "source": [
    "plt.plot(S);"
   ]
  },
  {
   "cell_type": "code",
   "execution_count": null,
   "id": "1c08dca1",
   "metadata": {},
   "outputs": [
    {
     "data": {
      "image/png": "[encoded data removed]",
      "text/plain": [
       "<Figure size 432x288 with 1 Axes>"
      ]
     },
     "metadata": {
      "needs_background": "light"
     },
     "output_type": "display_data"
    }
   ],
   "source": [
    "plt.plot(S[:10]);"
   ]
  },
  {
   "cell_type": "code",
   "execution_count": null,
   "id": "349e7360",
   "metadata": {},
   "outputs": [],
   "source": [
    "num_top_words = 8 \n",
    "\n",
    "def show_topics(a):\n",
    "    top_words = lambda t: [vocab[i] for i in np.argsort(t)[:-num_top_words:-1]]\n",
    "    topic_words = [top_words(t) for t in a]\n",
    "    return [\" \".join(t) for t in topic_words]"
   ]
  },
  {
   "cell_type": "code",
   "execution_count": null,
   "id": "adf90053",
   "metadata": {},
   "outputs": [
    {
     "data": {
      "text/plain": [
       "['ditto critus propagandist surname galacticentric kindergarten surreal',\n",
       " 'jpeg gif file color quality image jfif',\n",
       " 'graphics edu pub mail 128 3d ray',\n",
       " 'jesus god matthew people atheists atheism does',\n",
       " 'image data processing analysis software available tools',\n",
       " 'god atheists atheism religious believe religion argument',\n",
       " 'space nasa lunar mars probe moon missions',\n",
       " 'image probe surface lunar mars probes moon',\n",
       " 'argument fallacy conclusion example true ad argumentum',\n",
       " 'space larson image theory universe physical nasa']"
      ]
     },
     "execution_count": null,
     "metadata": {},
     "output_type": "execute_result"
    }
   ],
   "source": [
    "show_topics(Vh[:10])"
   ]
  },
  {
   "cell_type": "markdown",
   "id": "70fda594",
   "metadata": {},
   "source": [
    "https://arxiv.org/pdf/1401.5226.pdf (non-negative matrix factorization)"
   ]
  },
  {
   "cell_type": "code",
   "execution_count": null,
   "id": "20a3288b",
   "metadata": {},
   "outputs": [],
   "source": [
    "m,n = vectors.shape\n",
    "d = 5"
   ]
  },
  {
   "cell_type": "code",
   "execution_count": null,
   "id": "3471fff7",
   "metadata": {},
   "outputs": [
    {
     "name": "stderr",
     "output_type": "stream",
     "text": [
      "/Applications/anaconda3/lib/python3.9/site-packages/sklearn/decomposition/_nmf.py:312: FutureWarning: The 'init' value, when 'init=None' and n_components is less than n_samples and n_features, will be changed from 'nndsvd' to 'nndsvda' in 1.1 (renaming of 0.26).\n",
      "  warnings.warn((\"The 'init' value, when 'init=None' and \"\n"
     ]
    }
   ],
   "source": [
    "clf = decomposition.NMF(n_components=d, random_state=1)\n",
    "W1 = clf.fit_transform(vectors)\n",
    "H1 = clf.components_"
   ]
  },
  {
   "cell_type": "code",
   "execution_count": null,
   "id": "0795b3e1",
   "metadata": {},
   "outputs": [
    {
     "data": {
      "text/plain": [
       "((2034, 5), (5, 26576))"
      ]
     },
     "execution_count": null,
     "metadata": {},
     "output_type": "execute_result"
    }
   ],
   "source": [
    "W1.shape,H1.shape"
   ]
  },
  {
   "cell_type": "code",
   "execution_count": null,
   "id": "0ec1dd01",
   "metadata": {},
   "outputs": [
    {
     "data": {
      "text/plain": [
       "['jpeg image gif file color images format',\n",
       " 'edu graphics pub mail 128 ray ftp',\n",
       " 'space launch satellite nasa commercial satellites year',\n",
       " 'jesus god people matthew atheists does atheism',\n",
       " 'image data available software processing ftp edu']"
      ]
     },
     "execution_count": null,
     "metadata": {},
     "output_type": "execute_result"
    }
   ],
   "source": [
    "show_topics(H1)"
   ]
  },
  {
   "cell_type": "code",
   "execution_count": null,
   "id": "450a4ea1",
   "metadata": {},
   "outputs": [],
   "source": []
  }
 ],
 "metadata": {
  "kernelspec": {
   "display_name": "python3",
   "language": "python",
   "name": "python3"
  }
 },
 "nbformat": 4,
 "nbformat_minor": 5
}
