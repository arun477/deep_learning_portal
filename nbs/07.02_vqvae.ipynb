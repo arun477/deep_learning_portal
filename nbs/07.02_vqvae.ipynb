{
 "cells": [
  {
   "cell_type": "markdown",
   "id": "a92a6566",
   "metadata": {},
   "source": [
    "https://arxiv.org/pdf/1711.00937.pdf (ref)"
   ]
  },
  {
   "cell_type": "code",
   "execution_count": null,
   "id": "4c67aaec",
   "metadata": {},
   "outputs": [],
   "source": [
    "# vector-quantized variation in autoencoder (vq-vae) models latent as discrete.\n",
    "# the powerful decoder seems to ignore the continuous latent fully.\n",
    "# benchmark datasets include images (cifar-10, deepmind lab, imagenet) and speech (vctk)."
   ]
  },
  {
   "cell_type": "code",
   "execution_count": null,
   "id": "4e0bf92d",
   "metadata": {},
   "outputs": [],
   "source": [
    "# basic idea is create equivalent word or token  like embedding for images."
   ]
  },
  {
   "cell_type": "code",
   "execution_count": null,
   "id": "b29c67ba",
   "metadata": {},
   "outputs": [],
   "source": [
    "# TTS papers\n",
    "# https://arxiv.org/pdf/2006.04558.pdf (fastspeech 2)\n",
    "# https://dl.fbaipublicfiles.com/voicebox/paper.pdf (voicebox)\n",
    "# https://arxiv.org/pdf/1905.09263.pdf (fastspeech 1)\n",
    "# https://arxiv.org/pdf/1703.10135.pdf (tacotron 1)\n",
    "# https://arxiv.org/pdf/1712.05884.pdf (tacotron 2)\n",
    "# https://arxiv.org/pdf/1609.03499.pdf (wavenet)"
   ]
  },
  {
   "cell_type": "code",
   "execution_count": null,
   "id": "c22591dd",
   "metadata": {},
   "outputs": [],
   "source": []
  }
 ],
 "metadata": {
  "kernelspec": {
   "display_name": "python3",
   "language": "python",
   "name": "python3"
  }
 },
 "nbformat": 4,
 "nbformat_minor": 5
}
