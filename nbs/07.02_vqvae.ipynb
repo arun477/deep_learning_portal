{
 "cells": [
  {
   "cell_type": "markdown",
   "id": "2af59440",
   "metadata": {},
   "source": [
    "https://arxiv.org/pdf/1711.00937.pdf (ref)"
   ]
  },
  {
   "cell_type": "code",
   "execution_count": null,
   "id": "446446f2",
   "metadata": {},
   "outputs": [],
   "source": [
    "# vector-quantized variation in autoencoder (vq-vae) models latent as discrete.\n",
    "# the powerful decoder seems to ignore the continuous latent fully.\n",
    "# benchmark datasets include images (cifar-10, deepmind lab, imagenet) and speech (vctk)."
   ]
  },
  {
   "cell_type": "code",
   "execution_count": null,
   "id": "b309c96b",
   "metadata": {},
   "outputs": [],
   "source": [
    "# basic idea is create equivalent word or token  like embedding for images."
   ]
  },
  {
   "cell_type": "code",
   "execution_count": null,
   "id": "fd9c3f8a",
   "metadata": {},
   "outputs": [],
   "source": []
  },
  {
   "cell_type": "code",
   "execution_count": null,
   "id": "9a0832cd",
   "metadata": {},
   "outputs": [],
   "source": []
  }
 ],
 "metadata": {
  "kernelspec": {
   "display_name": "python3",
   "language": "python",
   "name": "python3"
  }
 },
 "nbformat": 4,
 "nbformat_minor": 5
}
