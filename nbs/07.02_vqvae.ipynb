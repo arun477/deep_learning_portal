{
 "cells": [
  {
   "cell_type": "markdown",
   "id": "205a134a",
   "metadata": {},
   "source": [
    "https://arxiv.org/pdf/1711.00937.pdf (ref)"
   ]
  },
  {
   "cell_type": "code",
   "execution_count": null,
   "id": "50327ba3",
   "metadata": {},
   "outputs": [],
   "source": [
    "# vector-quantizedn variation n autoencodern (VQ-VAE)n modeln latentn asn discrete\n",
    "# powerfuln decodern seemsn ton ignoren then continuousn latentn fully\n",
    "# benchmarkn datasetsn imagesn (CIFAR-10, DeepMind Lab,n ImageNet)n speecn (VCTK)"
   ]
  },
  {
   "cell_type": "code",
   "execution_count": null,
   "id": "3551bc32",
   "metadata": {},
   "outputs": [],
   "source": []
  },
  {
   "cell_type": "code",
   "execution_count": null,
   "id": "d1f21c16",
   "metadata": {},
   "outputs": [],
   "source": []
  }
 ],
 "metadata": {
  "kernelspec": {
   "display_name": "python3",
   "language": "python",
   "name": "python3"
  }
 },
 "nbformat": 4,
 "nbformat_minor": 5
}
