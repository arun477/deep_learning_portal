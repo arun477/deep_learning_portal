{
 "cells": [
  {
   "cell_type": "markdown",
   "id": "4a411e19",
   "metadata": {},
   "source": [
    "https://arxiv.org/pdf/1312.6114.pdf (vae paper)<br/>"
   ]
  },
  {
   "cell_type": "code",
   "execution_count": null,
   "id": "7395fc26",
   "metadata": {},
   "outputs": [],
   "source": []
  }
 ],
 "metadata": {
  "kernelspec": {
   "display_name": "python3",
   "language": "python",
   "name": "python3"
  }
 },
 "nbformat": 4,
 "nbformat_minor": 5
}
