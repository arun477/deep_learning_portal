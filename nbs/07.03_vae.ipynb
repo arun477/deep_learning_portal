{
 "cells": [
  {
   "cell_type": "markdown",
   "id": "3c68edf3",
   "metadata": {},
   "source": [
    "https://arxiv.org/pdf/1312.6114.pdf (vae paper)<br/>\n",
    "https://docs.google.com/presentation/d/1FkkhH86URDzAzjNPdCvupV6kqoBNNarVQQgB6ppZlx4/edit#slide=id.g26890724310_0_7 (latent variable models lecture notes) <br/>"
   ]
  },
  {
   "cell_type": "code",
   "execution_count": null,
   "id": "938c0f31",
   "metadata": {},
   "outputs": [],
   "source": [
    "import torch\n",
    "import torch.nn as nn \n",
    "import torch.nn.functional as F\n",
    "import torchvision.transforms.functional as TF\n",
    "from torch.utils.data import default_collate, DataLoader\n",
    "from datasets import load_dataset\n",
    "import matplotlib.pyplot as plt"
   ]
  },
  {
   "cell_type": "code",
   "execution_count": null,
   "id": "b81d8851",
   "metadata": {},
   "outputs": [
    {
     "name": "stderr",
     "output_type": "stream",
     "text": [
      "Found cached dataset mnist (/Users/arun/.cache/huggingface/datasets/mnist/mnist/1.0.0/9d494b7f466d6931c64fb39d58bb1249a4d85c9eb9865d9bc20960b999e2a332)\n"
     ]
    },
    {
     "data": {
      "application/vnd.jupyter.widget-view+json": {
       "model_id": "13746669b38c46368ab785ef4c0869ce",
       "version_major": 2,
       "version_minor": 0
      },
      "text/plain": [
       "  0%|          | 0/2 [00:00<?, ?it/s]"
      ]
     },
     "metadata": {},
     "output_type": "display_data"
    }
   ],
   "source": [
    "dataset = load_dataset('mnist')"
   ]
  },
  {
   "cell_type": "code",
   "execution_count": null,
   "id": "feb983dc",
   "metadata": {},
   "outputs": [],
   "source": [
    "def transform_data(b):\n",
    "    b['image'] = [TF.to_tensor(o) for o in  b['image']]\n",
    "    return  b\n",
    "\n",
    "def collate_dict(b):\n",
    "    c = default_collate(b)\n",
    "    return (c['image'], c['label'])"
   ]
  },
  {
   "cell_type": "code",
   "execution_count": null,
   "id": "431267ff",
   "metadata": {},
   "outputs": [],
   "source": [
    "batch_size = 25"
   ]
  },
  {
   "cell_type": "code",
   "execution_count": null,
   "id": "65a573e7",
   "metadata": {},
   "outputs": [],
   "source": [
    "train_ds = dataset['train'].with_transform(transform_data)\n",
    "valid_ds = dataset['test'].with_transform(transform_data)"
   ]
  },
  {
   "cell_type": "code",
   "execution_count": null,
   "id": "a677fb5b",
   "metadata": {},
   "outputs": [],
   "source": [
    "train_dl = DataLoader(train_ds, batch_size=batch_size, shuffle=True, collate_fn=collate_dict)\n",
    "valid_dl = DataLoader(valid_ds, batch_size=batch_size*2, shuffle=False, collate_fn=collate_dict)"
   ]
  },
  {
   "cell_type": "code",
   "execution_count": null,
   "id": "9b301f05",
   "metadata": {},
   "outputs": [
    {
     "data": {
      "text/plain": [
       "(torch.Size([25, 1, 28, 28]), torch.Size([25]))"
      ]
     },
     "execution_count": null,
     "metadata": {},
     "output_type": "execute_result"
    }
   ],
   "source": [
    "xb,yb = next(iter(train_dl))\n",
    "xb.shape,yb.shape"
   ]
  },
  {
   "cell_type": "code",
   "execution_count": null,
   "id": "c1fdb143",
   "metadata": {},
   "outputs": [
    {
     "name": "stdout",
     "output_type": "stream",
     "text": [
      "tensor(3)\n"
     ]
    },
    {
     "data": {
      "image/png": "[encoded data removed]",
      "text/plain": [
       "<Figure size 432x288 with 1 Axes>"
      ]
     },
     "metadata": {
      "needs_background": "light"
     },
     "output_type": "display_data"
    }
   ],
   "source": [
    "plt.imshow(xb[10][0]);\n",
    "plt.axis('off');\n",
    "print(yb[10])"
   ]
  },
  {
   "cell_type": "code",
   "execution_count": null,
   "id": "60406c61",
   "metadata": {},
   "outputs": [],
   "source": [
    "class AutoEncoder(nn.Module):\n",
    "    def __init__(self, latent_dim=90):\n",
    "        super().__init__()\n",
    "        self.latent_dim = latent_dim\n",
    "        \n",
    "        self.stride = 2\n",
    "        self.kernel_size = 3\n",
    "        self.padding = self.kernel_size//2\n",
    "        \n",
    "        self.enc = nn.Sequential(*[\n",
    "            nn.Conv2d(1, 8, kernel_size=self.kernel_size, padding=self.padding, stride=self.stride),\n",
    "            nn.ReLU(),\n",
    "            nn.Conv2d(8, 16, kernel_size=self.kernel_size, padding=self.padding, stride=self.stride),\n",
    "            nn.ReLU(),\n",
    "            nn.Conv2d(16, 32, kernel_size=self.kernel_size, padding=self.padding, stride=self.stride),\n",
    "            nn.ReLU(),\n",
    "            nn.Conv2d(32, 64, kernel_size=self.kernel_size, padding=self.padding, stride=self.stride),\n",
    "            nn.ReLU(),\n",
    "            nn.Conv2d(64, 64, kernel_size=self.kernel_size, padding=self.padding, stride=self.stride),\n",
    "            nn.ReLU(),\n",
    "            nn.Flatten(),\n",
    "            nn.Linear(64, self.latent_dim)\n",
    "        ]) \n",
    "        \n",
    "        self.dec = nn.Sequential(*[\n",
    "            nn.Linear(self.latent_dim, 64*2*2),\n",
    "            nn.ReLU(),\n",
    "            nn.Unflatten(1, (64,2,2)),\n",
    "            nn.ConvTranspose2d(64, 32, kernel_size=self.kernel_size, \n",
    "                               padding=self.padding, stride=self.stride, output_padding=1),\n",
    "            nn.ReLU(),\n",
    "            nn.ConvTranspose2d(32, 16, kernel_size=self.kernel_size, \n",
    "                               padding=self.padding, stride=self.stride, output_padding=1),\n",
    "            nn.ReLU(),\n",
    "            nn.ConvTranspose2d(16, 8, kernel_size=self.kernel_size, \n",
    "                               padding=self.padding, stride=self.stride, output_padding=1),\n",
    "            nn.ReLU(),\n",
    "            nn.ConvTranspose2d(8, 1, kernel_size=self.kernel_size, \n",
    "                               padding=self.padding, stride=2, output_padding=0),\n",
    "            nn.ReLU(),\n",
    "            nn.Flatten(),\n",
    "            nn.Linear(961, 28*28),\n",
    "            nn.Unflatten(1, (1,28,28)),\n",
    "        ])  \n",
    "        \n",
    "    def loss(self, inp, out):\n",
    "        return F.mse_loss(inp,out)\n",
    "        \n",
    "    def forward(self, x):\n",
    "        latent = self.enc(x)\n",
    "        out = self.dec(latent)\n",
    "        return out"
   ]
  },
  {
   "cell_type": "code",
   "execution_count": null,
   "id": "ae9cf1f5",
   "metadata": {},
   "outputs": [
    {
     "data": {
      "text/plain": [
       "AutoEncoder(\n",
       "  (enc): Sequential(\n",
       "    (0): Conv2d(1, 8, kernel_size=(3, 3), stride=(2, 2), padding=(1, 1))\n",
       "    (1): ReLU()\n",
       "    (2): Conv2d(8, 16, kernel_size=(3, 3), stride=(2, 2), padding=(1, 1))\n",
       "    (3): ReLU()\n",
       "    (4): Conv2d(16, 32, kernel_size=(3, 3), stride=(2, 2), padding=(1, 1))\n",
       "    (5): ReLU()\n",
       "    (6): Conv2d(32, 64, kernel_size=(3, 3), stride=(2, 2), padding=(1, 1))\n",
       "    (7): ReLU()\n",
       "    (8): Conv2d(64, 64, kernel_size=(3, 3), stride=(2, 2), padding=(1, 1))\n",
       "    (9): ReLU()\n",
       "    (10): Flatten(start_dim=1, end_dim=-1)\n",
       "    (11): Linear(in_features=64, out_features=90, bias=True)\n",
       "  )\n",
       "  (dec): Sequential(\n",
       "    (0): Linear(in_features=90, out_features=256, bias=True)\n",
       "    (1): ReLU()\n",
       "    (2): Unflatten(dim=1, unflattened_size=(64, 2, 2))\n",
       "    (3): ConvTranspose2d(64, 32, kernel_size=(3, 3), stride=(2, 2), padding=(1, 1), output_padding=(1, 1))\n",
       "    (4): ReLU()\n",
       "    (5): ConvTranspose2d(32, 16, kernel_size=(3, 3), stride=(2, 2), padding=(1, 1), output_padding=(1, 1))\n",
       "    (6): ReLU()\n",
       "    (7): ConvTranspose2d(16, 8, kernel_size=(3, 3), stride=(2, 2), padding=(1, 1), output_padding=(1, 1))\n",
       "    (8): ReLU()\n",
       "    (9): ConvTranspose2d(8, 1, kernel_size=(3, 3), stride=(2, 2), padding=(1, 1))\n",
       "    (10): ReLU()\n",
       "    (11): Flatten(start_dim=1, end_dim=-1)\n",
       "    (12): Linear(in_features=961, out_features=784, bias=True)\n",
       "    (13): Unflatten(dim=1, unflattened_size=(1, 28, 28))\n",
       "  )\n",
       ")"
      ]
     },
     "execution_count": null,
     "metadata": {},
     "output_type": "execute_result"
    }
   ],
   "source": [
    "model = AutoEncoder()\n",
    "model"
   ]
  },
  {
   "cell_type": "code",
   "execution_count": null,
   "id": "148f9a74",
   "metadata": {},
   "outputs": [
    {
     "name": "stdout",
     "output_type": "stream",
     "text": [
      "total number of parameters: 0.87M\n"
     ]
    }
   ],
   "source": [
    "total_params = sum(p.numel() for p in model.parameters() if p.requires_grad)\n",
    "print(f\"total number of parameters: {total_params / 1_000_000:.2f}M\")"
   ]
  },
  {
   "cell_type": "code",
   "execution_count": null,
   "id": "01e196d3",
   "metadata": {},
   "outputs": [],
   "source": [
    "out = model(xb)\n",
    "out.shape"
   ]
  },
  {
   "cell_type": "code",
   "execution_count": null,
   "id": "ee67fa0d",
   "metadata": {},
   "outputs": [],
   "source": [
    "epochs = 100\n",
    "lr = 5e-2\n",
    "model = AutoEncoder()\n",
    "opt = torch.optim.AdamW(model.parameters(), lr=lr)\n",
    "\n",
    "for epoch in range(epochs):\n",
    "    for xb,yb in trail_dl:\n",
    "        out = model(xb)\n",
    "        loss = model.loss(xb,out)\n",
    "        loss.backward()\n",
    "        opt.step()\n",
    "        opt.zero_grad()\n",
    "    if epoch%10==0:\n",
    "        print(f\"loss {loss.item():.4f}\")"
   ]
  },
  {
   "cell_type": "code",
   "execution_count": null,
   "id": "9bdc13b3",
   "metadata": {},
   "outputs": [
    {
     "name": "stdout",
     "output_type": "stream",
     "text": [
      "tensor(5)\n"
     ]
    },
    {
     "data": {
      "image/png": "[encoded data removed]",
      "text/plain": [
       "<Figure size 432x288 with 1 Axes>"
      ]
     },
     "metadata": {
      "needs_background": "light"
     },
     "output_type": "display_data"
    }
   ],
   "source": [
    "plt.imshow(xb[10][0]);\n",
    "plt.axis('off');\n",
    "print(yb[10])"
   ]
  },
  {
   "cell_type": "code",
   "execution_count": null,
   "id": "62d1b323",
   "metadata": {},
   "outputs": [
    {
     "name": "stdout",
     "output_type": "stream",
     "text": [
      "tensor(5)\n"
     ]
    },
    {
     "data": {
      "image/png": "[encoded data removed]",
      "text/plain": [
       "<Figure size 432x288 with 1 Axes>"
      ]
     },
     "metadata": {
      "needs_background": "light"
     },
     "output_type": "display_data"
    }
   ],
   "source": [
    "plt.imshow(out.detach()[10][0]);\n",
    "plt.axis('off');\n",
    "print(yb[10])"
   ]
  },
  {
   "cell_type": "code",
   "execution_count": null,
   "id": "fe2bfb27",
   "metadata": {},
   "outputs": [],
   "source": []
  },
  {
   "cell_type": "code",
   "execution_count": null,
   "id": "62d8653b",
   "metadata": {},
   "outputs": [],
   "source": []
  }
 ],
 "metadata": {
  "kernelspec": {
   "display_name": "python3",
   "language": "python",
   "name": "python3"
  }
 },
 "nbformat": 4,
 "nbformat_minor": 5
}
