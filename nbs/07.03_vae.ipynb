{
 "cells": [
  {
   "cell_type": "markdown",
   "id": "56f3db61",
   "metadata": {},
   "source": [
    "https://arxiv.org/pdf/1312.6114.pdf (vae paper)<br/>\n",
    "https://docs.google.com/presentation/d/1FkkhH86URDzAzjNPdCvupV6kqoBNNarVQQgB6ppZlx4/edit#slide=id.g26890724310_0_7 (latent variable models lect notes) <br/>"
   ]
  },
  {
   "cell_type": "code",
   "execution_count": null,
   "id": "91cf0794",
   "metadata": {},
   "outputs": [],
   "source": []
  }
 ],
 "metadata": {
  "kernelspec": {
   "display_name": "python3",
   "language": "python",
   "name": "python3"
  }
 },
 "nbformat": 4,
 "nbformat_minor": 5
}
