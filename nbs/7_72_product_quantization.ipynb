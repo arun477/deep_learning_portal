{
 "cells": [
  {
   "cell_type": "code",
   "execution_count": 1,
   "metadata": {
    "colab": {
     "base_uri": "https://localhost:8080/"
    },
    "id": "MRZWG9Qa337w",
    "outputId": "dd9262ac-a167-4f0f-b88f-761312342e8c"
   },
   "outputs": [
    {
     "name": "stdout",
     "output_type": "stream",
     "text": [
      "\u001b[2K     \u001b[90m━━━━━━━━━━━━━━━━━━━━━━━━━━━━━━━━━━━━━━━━\u001b[0m \u001b[32m27.0/27.0 MB\u001b[0m \u001b[31m35.4 MB/s\u001b[0m eta \u001b[36m0:00:00\u001b[0m\n",
      "\u001b[2K     \u001b[90m━━━━━━━━━━━━━━━━━━━━━━━━━━━━━━━━━━━━━━━━\u001b[0m \u001b[32m85.5/85.5 MB\u001b[0m \u001b[31m8.3 MB/s\u001b[0m eta \u001b[36m0:00:00\u001b[0m\n",
      "\u001b[2K     \u001b[90m━━━━━━━━━━━━━━━━━━━━━━━━━━━━━━━━━━━━━━━━\u001b[0m \u001b[32m171.5/171.5 kB\u001b[0m \u001b[31m12.0 MB/s\u001b[0m eta \u001b[36m0:00:00\u001b[0m\n",
      "\u001b[2K     \u001b[90m━━━━━━━━━━━━━━━━━━━━━━━━━━━━━━━━━━━━━━━━\u001b[0m \u001b[32m542.0/542.0 kB\u001b[0m \u001b[31m30.5 MB/s\u001b[0m eta \u001b[36m0:00:00\u001b[0m\n",
      "\u001b[2K     \u001b[90m━━━━━━━━━━━━━━━━━━━━━━━━━━━━━━━━━━━━━━━━\u001b[0m \u001b[32m116.3/116.3 kB\u001b[0m \u001b[31m13.3 MB/s\u001b[0m eta \u001b[36m0:00:00\u001b[0m\n",
      "\u001b[2K     \u001b[90m━━━━━━━━━━━━━━━━━━━━━━━━━━━━━━━━━━━━━━━━\u001b[0m \u001b[32m194.1/194.1 kB\u001b[0m \u001b[31m10.2 MB/s\u001b[0m eta \u001b[36m0:00:00\u001b[0m\n",
      "\u001b[2K     \u001b[90m━━━━━━━━━━━━━━━━━━━━━━━━━━━━━━━━━━━━━━━━\u001b[0m \u001b[32m134.8/134.8 kB\u001b[0m \u001b[31m15.6 MB/s\u001b[0m eta \u001b[36m0:00:00\u001b[0m\n",
      "\u001b[2K     \u001b[90m━━━━━━━━━━━━━━━━━━━━━━━━━━━━━━━━━━━━━━━━\u001b[0m \u001b[32m401.2/401.2 kB\u001b[0m \u001b[31m25.8 MB/s\u001b[0m eta \u001b[36m0:00:00\u001b[0m\n",
      "\u001b[?25h"
     ]
    }
   ],
   "source": [
    "!pip install -q faiss-cpu faiss-gpu sentence-transformers datasets"
   ]
  },
  {
   "cell_type": "code",
   "execution_count": 2,
   "metadata": {
    "id": "Ed2TcgN439vP"
   },
   "outputs": [],
   "source": [
    "x = [1, 8, 3, 9, 1, 2, 9, 4, 5, 4, 6, 2]"
   ]
  },
  {
   "cell_type": "code",
   "execution_count": 7,
   "metadata": {
    "colab": {
     "base_uri": "https://localhost:8080/"
    },
    "id": "ST8r34FN50bO",
    "outputId": "69b1aee8-b189-46be-d242-7db84b572837"
   },
   "outputs": [
    {
     "data": {
      "text/plain": [
       "3"
      ]
     },
     "execution_count": 7,
     "metadata": {},
     "output_type": "execute_result"
    }
   ],
   "source": [
    "m = 4\n",
    "d = len(x)\n",
    "assert d%m == 0\n",
    "block_sz = int(d/m)\n",
    "block_sz"
   ]
  },
  {
   "cell_type": "code",
   "execution_count": 8,
   "metadata": {
    "colab": {
     "base_uri": "https://localhost:8080/"
    },
    "id": "C5eJjIUH5_Sk",
    "outputId": "aa94afb1-23bc-498b-b11b-62323b123baf"
   },
   "outputs": [
    {
     "data": {
      "text/plain": [
       "[[1, 8, 3], [9, 1, 2], [9, 4, 5], [4, 6, 2]]"
      ]
     },
     "execution_count": 8,
     "metadata": {},
     "output_type": "execute_result"
    }
   ],
   "source": [
    "u = [x[r:r+block_sz] for r in range(0, d, block_sz)]\n",
    "u"
   ]
  },
  {
   "cell_type": "code",
   "execution_count": 9,
   "metadata": {
    "colab": {
     "base_uri": "https://localhost:8080/"
    },
    "id": "vnpDGWrm6XE5",
    "outputId": "6cfe6061-ff37-4c3f-a755-c1855e8637e6"
   },
   "outputs": [
    {
     "data": {
      "text/plain": [
       "(32, 8)"
      ]
     },
     "execution_count": 9,
     "metadata": {},
     "output_type": "execute_result"
    }
   ],
   "source": [
    "k = 2**5\n",
    "assert k%m == 0\n",
    "k_ = int(k/m)\n",
    "k, k_"
   ]
  },
  {
   "cell_type": "code",
   "execution_count": 16,
   "metadata": {
    "id": "De97O8lN7kJD"
   },
   "outputs": [],
   "source": [
    "from random import randint\n",
    "c = []\n",
    "for j in range(m):\n",
    "  c_j = []\n",
    "  for i in range(k_):\n",
    "    c_ji = [randint(0, 9) for _ in range(block_sz)]\n",
    "    c_j.append(c_ji)\n",
    "  c.append(c_j)"
   ]
  },
  {
   "cell_type": "code",
   "execution_count": 17,
   "metadata": {
    "id": "Aq01lEgn7mr2"
   },
   "outputs": [],
   "source": [
    "def euclidean(v, u):\n",
    "  dist = sum((x-y)**2 for x, y in zip(u, v))**.5\n",
    "  return dist\n",
    "\n",
    "def nearest(c_j, u_j):\n",
    "  dist = 9e9\n",
    "  for i in range(k_):\n",
    "    new_dist = euclidean(c_j[i], u_j)\n",
    "    if new_dist < dist:\n",
    "      nearest_idx = i\n",
    "      dist = new_dist\n",
    "  return nearest_idx"
   ]
  },
  {
   "cell_type": "code",
   "execution_count": 18,
   "metadata": {
    "colab": {
     "base_uri": "https://localhost:8080/"
    },
    "id": "-8NNZCuc7muE",
    "outputId": "bbe4c14f-53e1-4c09-b7cf-e375cd3ee011"
   },
   "outputs": [
    {
     "data": {
      "text/plain": [
       "[1, 2, 1, 3]"
      ]
     },
     "execution_count": 18,
     "metadata": {},
     "output_type": "execute_result"
    }
   ],
   "source": [
    "ids = []\n",
    "for j in range(m):\n",
    "  ids.append(nearest(c[j], u[j]))\n",
    "ids"
   ]
  },
  {
   "cell_type": "code",
   "execution_count": 19,
   "metadata": {
    "id": "mU0YF7Ge7mwO"
   },
   "outputs": [],
   "source": [
    "q = []\n",
    "for j in range(m):\n",
    "  cji = c[j][ids[j]]\n",
    "  q.extend(cji)"
   ]
  },
  {
   "cell_type": "code",
   "execution_count": 20,
   "metadata": {
    "colab": {
     "base_uri": "https://localhost:8080/"
    },
    "id": "NW_VvlMd9CUR",
    "outputId": "a7c8e9ee-8a66-4fe3-b279-7546d2450e0d"
   },
   "outputs": [
    {
     "data": {
      "text/plain": [
       "[4, 9, 5, 6, 4, 4, 8, 4, 8, 2, 6, 1]"
      ]
     },
     "execution_count": 20,
     "metadata": {},
     "output_type": "execute_result"
    }
   ],
   "source": [
    "q"
   ]
  },
  {
   "cell_type": "code",
   "execution_count": 21,
   "metadata": {
    "colab": {
     "base_uri": "https://localhost:8080/"
    },
    "id": "9c0peDAt-kJG",
    "outputId": "ec604e65-95c7-4dd7-df65-410df8c89ac3"
   },
   "outputs": [
    {
     "data": {
      "text/plain": [
       "[1, 8, 3, 9, 1, 2, 9, 4, 5, 4, 6, 2]"
      ]
     },
     "execution_count": 21,
     "metadata": {},
     "output_type": "execute_result"
    }
   ],
   "source": [
    "x"
   ]
  },
  {
   "cell_type": "code",
   "execution_count": 22,
   "metadata": {
    "id": "nVh_vYQNDgus"
   },
   "outputs": [],
   "source": [
    "import shutil\n",
    "import urllib.request as request\n",
    "from contextlib import closing\n",
    "\n",
    "# first we download the Sift1M dataset\n",
    "with closing(request.urlopen('ftp://ftp.irisa.fr/local/texmex/corpus/sift.tar.gz')) as r:\n",
    "    with open('sift.tar.gz', 'wb') as f:\n",
    "        shutil.copyfileobj(r, f)"
   ]
  },
  {
   "cell_type": "code",
   "execution_count": 23,
   "metadata": {
    "id": "Igcv8pItDia1"
   },
   "outputs": [],
   "source": [
    "import tarfile\n",
    "\n",
    "# the download leaves us with a tar.gz file, we unzip it\n",
    "tar = tarfile.open('sift.tar.gz', \"r:gz\")\n",
    "tar.extractall()"
   ]
  },
  {
   "cell_type": "code",
   "execution_count": 24,
   "metadata": {
    "id": "MqaUtAU-Dktx"
   },
   "outputs": [],
   "source": [
    "import numpy as np\n",
    "\n",
    "# now define a function to read the fvecs file format of Sift1M dataset\n",
    "def read_fvecs(fp):\n",
    "    a = np.fromfile(fp, dtype='int32')\n",
    "    d = a[0]\n",
    "    return a.reshape(-1, d + 1)[:, 1:].copy().view('float32')"
   ]
  },
  {
   "cell_type": "code",
   "execution_count": 25,
   "metadata": {
    "id": "GMXc4ZZ0Dmdi"
   },
   "outputs": [],
   "source": [
    "# data we will search through\n",
    "xb = read_fvecs('./sift/sift_base.fvecs')  # 1M samples\n",
    "# also get some query vectors to search with\n",
    "xq = read_fvecs('./sift/sift_query.fvecs')\n",
    "# take just one query (there are many in sift_learn.fvecs)\n",
    "xq = xq[0].reshape(1, xq.shape[1])"
   ]
  },
  {
   "cell_type": "code",
   "execution_count": 26,
   "metadata": {
    "colab": {
     "base_uri": "https://localhost:8080/"
    },
    "id": "gdajH79VDpEg",
    "outputId": "d5389bb0-00f9-4b77-ba7c-376ed5076fb7"
   },
   "outputs": [
    {
     "data": {
      "text/plain": [
       "((1000000, 128), (1, 128))"
      ]
     },
     "execution_count": 26,
     "metadata": {},
     "output_type": "execute_result"
    }
   ],
   "source": [
    "xb.shape, xq.shape"
   ]
  },
  {
   "cell_type": "code",
   "execution_count": 68,
   "metadata": {
    "colab": {
     "base_uri": "https://localhost:8080/"
    },
    "id": "afgIe7Y_DrgQ",
    "outputId": "99779e93-93a9-4b92-a2b8-3fd689975735"
   },
   "outputs": [
    {
     "data": {
      "text/plain": [
       "False"
      ]
     },
     "execution_count": 68,
     "metadata": {},
     "output_type": "execute_result"
    }
   ],
   "source": [
    "import faiss\n",
    "d = xb.shape[1]\n",
    "m = 8\n",
    "assert d%m == 0\n",
    "nbits = 8\n",
    "index = faiss.IndexPQ(d, m, nbits)\n",
    "index.is_trained"
   ]
  },
  {
   "cell_type": "code",
   "execution_count": 69,
   "metadata": {
    "colab": {
     "base_uri": "https://localhost:8080/"
    },
    "id": "Hx7k5PP-Eg4_",
    "outputId": "c079f127-a888-4dec-f560-23c4b81d5c4c"
   },
   "outputs": [
    {
     "name": "stdout",
     "output_type": "stream",
     "text": [
      "CPU times: user 7.21 s, sys: 40.9 ms, total: 7.25 s\n",
      "Wall time: 5.05 s\n"
     ]
    }
   ],
   "source": [
    "%%time\n",
    "index.train(xb)"
   ]
  },
  {
   "cell_type": "code",
   "execution_count": 70,
   "metadata": {
    "colab": {
     "base_uri": "https://localhost:8080/"
    },
    "id": "qjl_IHitElKg",
    "outputId": "7d2976c1-2d2d-4711-b2de-869cf9f41e10"
   },
   "outputs": [
    {
     "name": "stdout",
     "output_type": "stream",
     "text": [
      "CPU times: user 9.48 s, sys: 6.13 s, total: 15.6 s\n",
      "Wall time: 10.2 s\n"
     ]
    }
   ],
   "source": [
    "%%time\n",
    "index.add(xb)"
   ]
  },
  {
   "cell_type": "code",
   "execution_count": 71,
   "metadata": {
    "colab": {
     "base_uri": "https://localhost:8080/"
    },
    "id": "3MxjwepVEtwg",
    "outputId": "51c2a7d4-a8d7-4c2e-ce07-9feadf9a2aef"
   },
   "outputs": [
    {
     "name": "stdout",
     "output_type": "stream",
     "text": [
      "CPU times: user 14.7 ms, sys: 0 ns, total: 14.7 ms\n",
      "Wall time: 11.5 ms\n"
     ]
    },
    {
     "data": {
      "text/plain": [
       "array([[932085, 893601, 561813,  36267, 670103, 478814, 721370, 165581,\n",
       "        872728, 934876]])"
      ]
     },
     "execution_count": 71,
     "metadata": {},
     "output_type": "execute_result"
    }
   ],
   "source": [
    "%%time\n",
    "dist, I = index.search(xq, k=10)\n",
    "I"
   ]
  },
  {
   "cell_type": "code",
   "execution_count": 72,
   "metadata": {
    "colab": {
     "base_uri": "https://localhost:8080/"
    },
    "id": "kIig2ANVE4R-",
    "outputId": "b760e710-2bdf-4d0e-b007-c8615c289975"
   },
   "outputs": [
    {
     "name": "stdout",
     "output_type": "stream",
     "text": [
      "7.56 ms ± 83.9 µs per loop (mean ± std. dev. of 7 runs, 100 loops each)\n"
     ]
    }
   ],
   "source": [
    "%%timeit\n",
    "index.search(xq, k=10)"
   ]
  },
  {
   "cell_type": "code",
   "execution_count": 73,
   "metadata": {
    "colab": {
     "base_uri": "https://localhost:8080/"
    },
    "id": "8A5HQcunE9yQ",
    "outputId": "9898443b-db45-4b5c-e1ac-f38e190b7256"
   },
   "outputs": [
    {
     "data": {
      "text/plain": [
       "True"
      ]
     },
     "execution_count": 73,
     "metadata": {},
     "output_type": "execute_result"
    }
   ],
   "source": [
    "l2_index = faiss.IndexFlatL2(d)\n",
    "l2_index.is_trained"
   ]
  },
  {
   "cell_type": "code",
   "execution_count": 74,
   "metadata": {
    "id": "Kk8rC9TPFViQ"
   },
   "outputs": [],
   "source": [
    "l2_index.add(xb)"
   ]
  },
  {
   "cell_type": "code",
   "execution_count": 75,
   "metadata": {
    "colab": {
     "base_uri": "https://localhost:8080/"
    },
    "id": "3gYawLWzFeXu",
    "outputId": "541ab8a8-5ec5-4ee8-baf7-39d4b075309c"
   },
   "outputs": [
    {
     "data": {
      "text/plain": [
       "array([[932085, 934876, 561813, 708177, 706771, 695756, 435345, 701258,\n",
       "        455537, 872728]])"
      ]
     },
     "execution_count": 75,
     "metadata": {},
     "output_type": "execute_result"
    }
   ],
   "source": [
    "l2_dist, l2_I = l2_index.search(xq, k=10)\n",
    "l2_I"
   ]
  },
  {
   "cell_type": "code",
   "execution_count": 76,
   "metadata": {
    "colab": {
     "base_uri": "https://localhost:8080/"
    },
    "id": "FtuXXJ2EFiIF",
    "outputId": "f35cfe6b-4cce-4264-ef7d-b92e9882feee"
   },
   "outputs": [
    {
     "data": {
      "text/plain": [
       "4"
      ]
     },
     "execution_count": 76,
     "metadata": {},
     "output_type": "execute_result"
    }
   ],
   "source": [
    "recall = sum(1 for i in I[0] if i in l2_I)\n",
    "recall"
   ]
  },
  {
   "cell_type": "code",
   "execution_count": 87,
   "metadata": {
    "id": "lNwkZoYCF_n2"
   },
   "outputs": [],
   "source": [
    "import os\n",
    "\n",
    "def get_memory(index):\n",
    "  faiss.write_index(index, './temp.index')\n",
    "  msz = os.path.getsize('./temp.index')\n",
    "  # os.remove('./temp.index')\n",
    "  return msz"
   ]
  },
  {
   "cell_type": "code",
   "execution_count": 88,
   "metadata": {
    "colab": {
     "base_uri": "https://localhost:8080/"
    },
    "id": "1GRTuS6PGKeT",
    "outputId": "83e0d09d-04a9-4c49-f1bc-c6ac69043577"
   },
   "outputs": [
    {
     "data": {
      "text/plain": [
       "62.967666475058046"
      ]
     },
     "execution_count": 88,
     "metadata": {},
     "output_type": "execute_result"
    }
   ],
   "source": [
    "get_memory(l2_index)/get_memory(index)"
   ]
  },
  {
   "cell_type": "code",
   "execution_count": 92,
   "metadata": {
    "colab": {
     "base_uri": "https://localhost:8080/"
    },
    "id": "QsN4HDrYGkDN",
    "outputId": "2aa56cdf-5672-4991-af90-09e3f862a4c6"
   },
   "outputs": [
    {
     "name": "stdout",
     "output_type": "stream",
     "text": [
      "flat mem: 512 MB\n"
     ]
    }
   ],
   "source": [
    "m_sz = f\"flat mem: {get_memory(l2_index)/1e6:.0f} MB\"\n",
    "print(m_sz)"
   ]
  },
  {
   "cell_type": "code",
   "execution_count": 93,
   "metadata": {
    "colab": {
     "base_uri": "https://localhost:8080/"
    },
    "id": "2g-BhzoPHTO2",
    "outputId": "5a5c0d87-7f68-4c2c-d7d6-ee0f988adf45"
   },
   "outputs": [
    {
     "name": "stdout",
     "output_type": "stream",
     "text": [
      "pq mem: 8 MB\n"
     ]
    }
   ],
   "source": [
    "m_sz = f\"pq mem: {get_memory(index)/1e6:.0f} MB\"\n",
    "print(m_sz)"
   ]
  },
  {
   "cell_type": "code",
   "execution_count": 94,
   "metadata": {
    "colab": {
     "base_uri": "https://localhost:8080/"
    },
    "id": "Zp1W0WVrIjRr",
    "outputId": "79b3e984-e097-4ad6-f0eb-106821d2d8e9"
   },
   "outputs": [
    {
     "data": {
      "text/plain": [
       "False"
      ]
     },
     "execution_count": 94,
     "metadata": {},
     "output_type": "execute_result"
    }
   ],
   "source": [
    "vecs = faiss.IndexFlatL2(d)\n",
    "nlist = 2048\n",
    "nbits = 8\n",
    "index = faiss.IndexIVFPQ(vecs, d, nlist, m, nbits)\n",
    "index.is_trained"
   ]
  },
  {
   "cell_type": "code",
   "execution_count": 95,
   "metadata": {
    "colab": {
     "base_uri": "https://localhost:8080/"
    },
    "id": "w47CgrYPJ5ib",
    "outputId": "f2a5fa46-4f05-4c31-b1fd-cd26caadf4ac"
   },
   "outputs": [
    {
     "name": "stdout",
     "output_type": "stream",
     "text": [
      "CPU times: user 1min 41s, sys: 424 ms, total: 1min 41s\n",
      "Wall time: 1min 28s\n"
     ]
    }
   ],
   "source": [
    "%%time\n",
    "index.train(xb)"
   ]
  },
  {
   "cell_type": "code",
   "execution_count": 96,
   "metadata": {
    "colab": {
     "base_uri": "https://localhost:8080/"
    },
    "id": "7Zu6ruYWKSS7",
    "outputId": "085e27c4-de6e-4fcc-b437-6bb40998f6db"
   },
   "outputs": [
    {
     "name": "stdout",
     "output_type": "stream",
     "text": [
      "CPU times: user 30.4 s, sys: 6.98 s, total: 37.4 s\n",
      "Wall time: 30.1 s\n"
     ]
    }
   ],
   "source": [
    "%%time\n",
    "index.add(xb)"
   ]
  },
  {
   "cell_type": "code",
   "execution_count": 97,
   "metadata": {
    "colab": {
     "base_uri": "https://localhost:8080/"
    },
    "id": "f_GTt6KiKUv2",
    "outputId": "6a633017-2e40-409b-ec3b-0281dd214195"
   },
   "outputs": [
    {
     "name": "stdout",
     "output_type": "stream",
     "text": [
      "CPU times: user 254 µs, sys: 935 µs, total: 1.19 ms\n",
      "Wall time: 6.16 ms\n"
     ]
    }
   ],
   "source": [
    "%%time\n",
    "dist, idx = index.search(xq, k=10)"
   ]
  },
  {
   "cell_type": "code",
   "execution_count": 98,
   "metadata": {
    "colab": {
     "base_uri": "https://localhost:8080/"
    },
    "id": "kMKAo6T2KaZa",
    "outputId": "056e470e-ca84-4133-f838-68c66b029ba6"
   },
   "outputs": [
    {
     "data": {
      "text/plain": [
       "1"
      ]
     },
     "execution_count": 98,
     "metadata": {},
     "output_type": "execute_result"
    }
   ],
   "source": [
    "recall = sum(1 for i in idx[0] if i in l2_I)\n",
    "recall"
   ]
  },
  {
   "cell_type": "code",
   "execution_count": 99,
   "metadata": {
    "colab": {
     "base_uri": "https://localhost:8080/"
    },
    "id": "jemEihj5KeZp",
    "outputId": "455b6f09-6d4c-475d-f4a3-1163d766b90a"
   },
   "outputs": [
    {
     "data": {
      "text/plain": [
       "3"
      ]
     },
     "execution_count": 99,
     "metadata": {},
     "output_type": "execute_result"
    }
   ],
   "source": [
    "index.nprobe = 2048\n",
    "dist, idx = index.search(xq, k=10)\n",
    "sum(1 for i in idx[0] if i in l2_I)"
   ]
  },
  {
   "cell_type": "code",
   "execution_count": 100,
   "metadata": {
    "colab": {
     "base_uri": "https://localhost:8080/"
    },
    "id": "YypVZJ-7KyNr",
    "outputId": "53b60c49-6eab-44af-bb7f-687b1ea3f8cb"
   },
   "outputs": [
    {
     "data": {
      "text/plain": [
       "2"
      ]
     },
     "execution_count": 100,
     "metadata": {},
     "output_type": "execute_result"
    }
   ],
   "source": [
    "index.nprobe = 2\n",
    "dist, idx = index.search(xq, k=10)\n",
    "sum(1 for i in idx[0] if i in l2_I)"
   ]
  },
  {
   "cell_type": "code",
   "execution_count": 101,
   "metadata": {
    "colab": {
     "base_uri": "https://localhost:8080/"
    },
    "id": "IT95wqbTK1pq",
    "outputId": "973b6838-47a9-4245-9102-38f4df926c4d"
   },
   "outputs": [
    {
     "data": {
      "text/plain": [
       "3"
      ]
     },
     "execution_count": 101,
     "metadata": {},
     "output_type": "execute_result"
    }
   ],
   "source": [
    "index.nprobe = 48\n",
    "dist, idx = index.search(xq, k=10)\n",
    "sum(1 for i in idx[0] if i in l2_I)"
   ]
  },
  {
   "cell_type": "code",
   "execution_count": null,
   "metadata": {
    "id": "S-FeB8mEK5Gs"
   },
   "outputs": [],
   "source": []
  }
 ],
 "metadata": {
  "colab": {
   "provenance": []
  },
  "kernelspec": {
   "display_name": "Python 3",
   "name": "python3"
  },
  "language_info": {
   "name": "python"
  }
 },
 "nbformat": 4,
 "nbformat_minor": 0
}
