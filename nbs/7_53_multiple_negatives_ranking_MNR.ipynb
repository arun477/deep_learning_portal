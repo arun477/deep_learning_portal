{
 "cells": [
  {
   "cell_type": "code",
   "execution_count": 1,
   "id": "b0bb4e6f-100d-4764-91bf-48ffff9143f9",
   "metadata": {},
   "outputs": [
    {
     "data": {
      "text/plain": [
       "Dataset({\n",
       "    features: ['premise', 'hypothesis', 'label'],\n",
       "    num_rows: 942854\n",
       "})"
      ]
     },
     "execution_count": 1,
     "metadata": {},
     "output_type": "execute_result"
    }
   ],
   "source": [
    "import datasets\n",
    "import torch\n",
    "\n",
    "snli = datasets.load_dataset('snli', split='train')\n",
    "mnli = datasets.load_dataset('glue', 'mnli', split='train')\n",
    "mnli = mnli.remove_columns('idx')\n",
    "snli = snli.cast(mnli.features)\n",
    "dataset = datasets.concatenate_datasets([snli, mnli])\n",
    "del snli\n",
    "del mnli\n",
    "dataset"
   ]
  },
  {
   "cell_type": "code",
   "execution_count": 2,
   "id": "629e1833-d1f6-4659-b2d8-a9c5e327eccc",
   "metadata": {},
   "outputs": [
    {
     "data": {
      "text/plain": [
       "'cuda'"
      ]
     },
     "execution_count": 2,
     "metadata": {},
     "output_type": "execute_result"
    }
   ],
   "source": [
    "device = 'cuda' if torch.cuda.is_available() else 'cpu'\n",
    "device"
   ]
  },
  {
   "cell_type": "code",
   "execution_count": 3,
   "id": "42b39aa5-e66a-4fcd-97e6-0f20b7209aeb",
   "metadata": {},
   "outputs": [
    {
     "data": {
      "text/plain": [
       "Dataset({\n",
       "    features: ['premise', 'hypothesis', 'label'],\n",
       "    num_rows: 314315\n",
       "})"
      ]
     },
     "execution_count": 3,
     "metadata": {},
     "output_type": "execute_result"
    }
   ],
   "source": [
    "dataset = dataset.filter(lambda x: True if x['label'] == 0 else False)\n",
    "dataset"
   ]
  },
  {
   "cell_type": "code",
   "execution_count": 4,
   "id": "7643d340-4c36-4b77-ab73-248f0fc96fd1",
   "metadata": {},
   "outputs": [],
   "source": [
    "from transformers import AutoTokenizer\n",
    "\n",
    "tokenizer = AutoTokenizer.from_pretrained('bert-base-uncased')\n",
    "dataset = dataset.map(lambda x: tokenizer(\n",
    "    x['premise'], padding='max_length', max_length=128, truncation=True\n",
    "), batched=True)"
   ]
  },
  {
   "cell_type": "code",
   "execution_count": 5,
   "id": "e4984567-6399-4ec9-9cd0-441d98973171",
   "metadata": {},
   "outputs": [
    {
     "data": {
      "text/plain": [
       "Dataset({\n",
       "    features: ['premise', 'hypothesis', 'label', 'input_ids', 'token_type_ids', 'attention_mask'],\n",
       "    num_rows: 314315\n",
       "})"
      ]
     },
     "execution_count": 5,
     "metadata": {},
     "output_type": "execute_result"
    }
   ],
   "source": [
    "dataset"
   ]
  },
  {
   "cell_type": "code",
   "execution_count": 6,
   "id": "72d08bd0-93ce-4fff-9ec8-64bac6417375",
   "metadata": {},
   "outputs": [
    {
     "data": {
      "text/plain": [
       "Dataset({\n",
       "    features: ['premise', 'hypothesis', 'label', 'anchor_ids', 'token_type_ids', 'anchor_mask'],\n",
       "    num_rows: 314315\n",
       "})"
      ]
     },
     "execution_count": 6,
     "metadata": {},
     "output_type": "execute_result"
    }
   ],
   "source": [
    "dataset = dataset.rename_column('input_ids', 'anchor_ids')\n",
    "dataset = dataset.rename_column('attention_mask', 'anchor_mask')\n",
    "dataset"
   ]
  },
  {
   "cell_type": "code",
   "execution_count": 7,
   "id": "c3bfd148-1c12-47a2-b8b0-61df2c1f1c0e",
   "metadata": {},
   "outputs": [
    {
     "data": {
      "text/plain": [
       "Dataset({\n",
       "    features: ['premise', 'hypothesis', 'label', 'anchor_ids', 'token_type_ids', 'anchor_mask', 'positive_ids', 'positive_mask'],\n",
       "    num_rows: 314315\n",
       "})"
      ]
     },
     "execution_count": 7,
     "metadata": {},
     "output_type": "execute_result"
    }
   ],
   "source": [
    "dataset = dataset.map(lambda x: tokenizer(\n",
    "    x['hypothesis'], padding='max_length', max_length=128, truncation=True\n",
    "), batched=True)\n",
    "dataset = dataset.rename_column('input_ids', 'positive_ids')\n",
    "dataset = dataset.rename_column('attention_mask', 'positive_mask')\n",
    "dataset"
   ]
  },
  {
   "cell_type": "code",
   "execution_count": 8,
   "id": "1e1a09e4-9171-463c-b32a-ddd96d398783",
   "metadata": {},
   "outputs": [
    {
     "data": {
      "text/plain": [
       "Dataset({\n",
       "    features: ['anchor_ids', 'anchor_mask', 'positive_ids', 'positive_mask'],\n",
       "    num_rows: 314315\n",
       "})"
      ]
     },
     "execution_count": 8,
     "metadata": {},
     "output_type": "execute_result"
    }
   ],
   "source": [
    "dataset = dataset.remove_columns(['premise', 'hypothesis', 'label', 'token_type_ids'])\n",
    "dataset"
   ]
  },
  {
   "cell_type": "code",
   "execution_count": 9,
   "id": "421ce87e-5788-42c1-8436-8d9b11724f05",
   "metadata": {},
   "outputs": [
    {
     "data": {
      "text/plain": [
       "Dataset({\n",
       "    features: ['anchor_ids', 'anchor_mask', 'positive_ids', 'positive_mask'],\n",
       "    num_rows: 314315\n",
       "})"
      ]
     },
     "execution_count": 9,
     "metadata": {},
     "output_type": "execute_result"
    }
   ],
   "source": [
    "dataset.set_format('torch', output_all_columns=True)\n",
    "dataset"
   ]
  },
  {
   "cell_type": "code",
   "execution_count": 10,
   "id": "63431f05-a0b2-47d5-9f51-8e3fc774c6cc",
   "metadata": {},
   "outputs": [
    {
     "data": {
      "text/plain": [
       "torch.Size([32, 128])"
      ]
     },
     "execution_count": 10,
     "metadata": {},
     "output_type": "execute_result"
    }
   ],
   "source": [
    "import torch\n",
    "\n",
    "batch_size = 32\n",
    "loader = torch.utils.data.DataLoader(dataset, batch_size=batch_size)\n",
    "xb = next(iter(loader))\n",
    "xb['anchor_ids'].shape"
   ]
  },
  {
   "cell_type": "code",
   "execution_count": 11,
   "id": "7e3a5458-2b36-4041-bf5f-f894bb63325e",
   "metadata": {},
   "outputs": [],
   "source": [
    "from transformers import AutoModel\n",
    "\n",
    "model = AutoModel.from_pretrained('bert-base-uncased').to(device)"
   ]
  },
  {
   "cell_type": "code",
   "execution_count": 12,
   "id": "5805d7cf-6e58-45ae-8b3a-f21c761d1c3e",
   "metadata": {},
   "outputs": [],
   "source": [
    "def mean_pool(token_emb, attn_mask):\n",
    "    in_mask = attn_mask.unsqueeze(-1).expand(token_emb.size()).float()\n",
    "    pool = torch.sum(token_emb*in_mask, 1)/torch.clamp_min(in_mask.sum(1), min=1e-9)\n",
    "    return pool"
   ]
  },
  {
   "cell_type": "code",
   "execution_count": 13,
   "id": "bd06a85a-7a07-4a1f-bc37-5374eae5616c",
   "metadata": {},
   "outputs": [],
   "source": [
    "cos_sim = torch.nn.CosineSimilarity()"
   ]
  },
  {
   "cell_type": "code",
   "execution_count": 14,
   "id": "b2756b67-1419-4f09-a03d-d150363fff70",
   "metadata": {},
   "outputs": [
    {
     "data": {
      "text/plain": [
       "(torch.Size([32, 128]), torch.Size([32, 128]), torch.float32, torch.float32)"
      ]
     },
     "execution_count": 14,
     "metadata": {},
     "output_type": "execute_result"
    }
   ],
   "source": [
    "a = xb['anchor_ids'].float().to(device)\n",
    "p = xb['positive_ids'].float().to(device)\n",
    "a.shape, p.shape, a.dtype, p.dtype"
   ]
  },
  {
   "cell_type": "code",
   "execution_count": 15,
   "id": "a84a2a7d-666a-44f3-8034-94e5d6222589",
   "metadata": {},
   "outputs": [
    {
     "name": "stdout",
     "output_type": "stream",
     "text": [
      "torch.Size([32, 32])\n"
     ]
    },
    {
     "data": {
      "text/plain": [
       "tensor([[0.1778, 0.1624, 0.6692,  ..., 0.3816, 0.2774, 0.1551],\n",
       "        [0.9022, 0.7854, 0.4253,  ..., 0.7493, 0.2504, 0.4268],\n",
       "        [0.5355, 0.3599, 0.7655,  ..., 0.6039, 0.3051, 0.2056],\n",
       "        ...,\n",
       "        [0.1565, 0.1964, 0.2095,  ..., 0.3115, 0.3539, 0.2061],\n",
       "        [0.2051, 0.1689, 0.1542,  ..., 0.2520, 0.2966, 0.1240],\n",
       "        [0.2051, 0.1689, 0.1542,  ..., 0.2520, 0.2966, 0.1240]],\n",
       "       device='cuda:0')"
      ]
     },
     "execution_count": 15,
     "metadata": {},
     "output_type": "execute_result"
    }
   ],
   "source": [
    "scores = []\n",
    "for ai in a:\n",
    "    score = cos_sim(ai[None], p)\n",
    "    scores.append(score)\n",
    "scores = torch.stack(scores).to(device)\n",
    "print(scores.shape)\n",
    "scores"
   ]
  },
  {
   "cell_type": "code",
   "execution_count": 16,
   "id": "1e5dfc3c-ee95-476e-bc05-38d566a4ae58",
   "metadata": {},
   "outputs": [
    {
     "data": {
      "text/plain": [
       "tensor([ 0,  1,  2,  3,  4,  5,  6,  7,  8,  9, 10, 11, 12, 13, 14, 15, 16, 17,\n",
       "        18, 19, 20, 21, 22, 23, 24, 25, 26, 27, 28, 29, 30, 31],\n",
       "       device='cuda:0')"
      ]
     },
     "execution_count": 16,
     "metadata": {},
     "output_type": "execute_result"
    }
   ],
   "source": [
    "label = torch.tensor(range(len(scores)), dtype=torch.long, device=scores.device)\n",
    "label"
   ]
  },
  {
   "cell_type": "code",
   "execution_count": 17,
   "id": "c40f9f93-0ffc-4daf-9dda-0bc139d9ca49",
   "metadata": {},
   "outputs": [],
   "source": [
    "loss_func = torch.nn.CrossEntropyLoss()"
   ]
  },
  {
   "cell_type": "code",
   "execution_count": 18,
   "id": "d99f396c-0a83-45ec-a976-3594c5c7d945",
   "metadata": {},
   "outputs": [
    {
     "data": {
      "text/plain": [
       "tensor(3.4344, device='cuda:0')"
      ]
     },
     "execution_count": 18,
     "metadata": {},
     "output_type": "execute_result"
    }
   ],
   "source": [
    "loss_func(scores, label)"
   ]
  },
  {
   "cell_type": "code",
   "execution_count": 19,
   "id": "cdede5a6-c1d0-4387-91b2-4309b0287fd7",
   "metadata": {},
   "outputs": [],
   "source": [
    "device = 'cuda' if torch.cuda.is_available() else 'cpu'\n",
    "model = model.to(device)\n",
    "loss_func = torch.nn.CrossEntropyLoss()\n",
    "cos_sim = torch.nn.CosineSimilarity()\n",
    "cos_sim.to(device)\n",
    "loss_func.to(device);"
   ]
  },
  {
   "cell_type": "code",
   "execution_count": 20,
   "id": "e084e195-db27-4006-bb12-efd3fdff795f",
   "metadata": {},
   "outputs": [],
   "source": [
    "from transformers.optimization import get_linear_schedule_with_warmup\n",
    "\n",
    "scale = 20.0\n",
    "opt = torch.optim.Adam(model.parameters(), lr=2e-5)\n",
    "total_steps = int(len(dataset)/batch_size)\n",
    "warmup_steps = int(0.1 * total_steps)\n",
    "sched = get_linear_schedule_with_warmup(opt, num_warmup_steps=warmup_steps, num_training_steps=total_steps)"
   ]
  },
  {
   "cell_type": "code",
   "execution_count": null,
   "id": "3af4a259-c1f5-435d-8dac-28929fd456bd",
   "metadata": {},
   "outputs": [
    {
     "name": "stderr",
     "output_type": "stream",
     "text": [
      "epoch 1:  31%|███       | 3028/9823 [30:12<1:07:50,  1.67it/s, loss=1.37] IOPub message rate exceeded.\n",
      "The Jupyter server will temporarily stop sending output\n",
      "to the client in order to avoid crashing it.\n",
      "To change this limit, set the config variable\n",
      "`--ServerApp.iopub_msg_rate_limit`.\n",
      "\n",
      "Current values:\n",
      "ServerApp.iopub_msg_rate_limit=1000.0 (msgs/sec)\n",
      "ServerApp.rate_limit_window=3.0 (secs)\n",
      "\n",
      "epoch 1:  80%|████████  | 7860/9823 [1:18:45<19:39,  1.66it/s, loss=0.00478] "
     ]
    }
   ],
   "source": [
    "from tqdm import tqdm\n",
    "\n",
    "epochs = 1\n",
    "for epoch in range(epochs):\n",
    "    model.train()\n",
    "    loop = tqdm(loader, leave=True)\n",
    "    for batch in loop:\n",
    "        opt.zero_grad()\n",
    "        \n",
    "        anchor_ids = batch['anchor_ids'].to(device)\n",
    "        anchor_mask = batch['anchor_mask'].to(device)\n",
    "        positive_ids = batch['positive_ids'].to(device)\n",
    "        positive_mask = batch['positive_mask'].to(device)\n",
    "\n",
    "        a = model(anchor_ids, anchor_mask)[0]\n",
    "        p = model(positive_ids, positive_mask)[0]\n",
    "        a = mean_pool(a, anchor_mask)\n",
    "        p = mean_pool(p, positive_mask)\n",
    "\n",
    "        scores = torch.stack([cos_sim(ai[None], p) for ai in a])\n",
    "        labels = torch.tensor(range(len(scores)), dtype=torch.long, device=scores.device)\n",
    "\n",
    "        loss = loss_func(scores*scale, labels)\n",
    "        loss.backward()\n",
    "        opt.step()\n",
    "        sched.step()\n",
    "\n",
    "        loop.set_description(f\"epoch {epoch+1}\")\n",
    "        loop.set_postfix(loss=loss.item())\n"
   ]
  },
  {
   "cell_type": "code",
   "execution_count": null,
   "id": "66caa9da-9978-4491-97d8-9d0f7c275399",
   "metadata": {},
   "outputs": [],
   "source": []
  },
  {
   "cell_type": "code",
   "execution_count": 6,
   "id": "5756ff74-3817-4c2d-a646-e28ad5a8be82",
   "metadata": {},
   "outputs": [
    {
     "data": {
      "text/plain": [
       "Dataset({\n",
       "    features: ['premise', 'hypothesis', 'label'],\n",
       "    num_rows: 942854\n",
       "})"
      ]
     },
     "execution_count": 6,
     "metadata": {},
     "output_type": "execute_result"
    }
   ],
   "source": [
    "import datasets\n",
    "import torch\n",
    "\n",
    "snli = datasets.load_dataset('snli', split='train')\n",
    "mnli = datasets.load_dataset('glue', 'mnli', split='train')\n",
    "mnli = mnli.remove_columns('idx')\n",
    "snli = snli.cast(mnli.features)\n",
    "dataset = datasets.concatenate_datasets([snli, mnli])\n",
    "dataset"
   ]
  },
  {
   "cell_type": "code",
   "execution_count": 8,
   "id": "6d1b1ba5-fe9b-4257-9cd2-d56fb3944233",
   "metadata": {},
   "outputs": [],
   "source": [
    "del snli, mnli"
   ]
  },
  {
   "cell_type": "code",
   "execution_count": 9,
   "id": "50f15cb1-ce83-4016-9ab6-c6da00d138c3",
   "metadata": {},
   "outputs": [
    {
     "data": {
      "text/plain": [
       "Dataset({\n",
       "    features: ['premise', 'hypothesis', 'label'],\n",
       "    num_rows: 314315\n",
       "})"
      ]
     },
     "execution_count": 9,
     "metadata": {},
     "output_type": "execute_result"
    }
   ],
   "source": [
    "dataset = dataset.filter(lambda x: True if x['label']==0 else False)\n",
    "dataset"
   ]
  },
  {
   "cell_type": "code",
   "execution_count": 11,
   "id": "a58eee3b-1617-4250-822d-0b18f4a9f9e1",
   "metadata": {},
   "outputs": [
    {
     "name": "stderr",
     "output_type": "stream",
     "text": [
      "100%|██████████| 314315/314315 [00:26<00:00, 11925.30it/s]\n"
     ]
    }
   ],
   "source": [
    "from sentence_transformers import InputExample\n",
    "from tqdm import tqdm\n",
    "\n",
    "train_examples = []\n",
    "for row in tqdm(dataset):\n",
    "    train_examples.append(InputExample(texts=[row['premise'], row['hypothesis']]))"
   ]
  },
  {
   "cell_type": "code",
   "execution_count": 14,
   "id": "078ef35f-1710-45bb-b4d7-efb3e42080db",
   "metadata": {},
   "outputs": [
    {
     "data": {
      "text/plain": [
       "9822"
      ]
     },
     "execution_count": 14,
     "metadata": {},
     "output_type": "execute_result"
    }
   ],
   "source": [
    "from sentence_transformers import datasets as snt_datasets\n",
    "\n",
    "batch_size = 32\n",
    "loader = snt_datasets.NoDuplicatesDataLoader(train_examples, batch_size=batch_size)\n",
    "len(loader)"
   ]
  },
  {
   "cell_type": "code",
   "execution_count": 18,
   "id": "c6ee81ea-edef-4b64-bdda-6697b08243f8",
   "metadata": {},
   "outputs": [
    {
     "data": {
      "text/plain": [
       "SentenceTransformer(\n",
       "  (0): Transformer({'max_seq_length': 512, 'do_lower_case': False}) with Transformer model: BertModel \n",
       "  (1): Pooling({'word_embedding_dimension': 768, 'pooling_mode_cls_token': False, 'pooling_mode_mean_tokens': True, 'pooling_mode_max_tokens': False, 'pooling_mode_mean_sqrt_len_tokens': False, 'pooling_mode_weightedmean_tokens': False, 'pooling_mode_lasttoken': False, 'include_prompt': True})\n",
       ")"
      ]
     },
     "execution_count": 18,
     "metadata": {},
     "output_type": "execute_result"
    }
   ],
   "source": [
    "from sentence_transformers import models, SentenceTransformer\n",
    "\n",
    "bert = models.Transformer('bert-base-uncased')\n",
    "pooling = models.Pooling(model.get_word_embedding_dimension(), pooling_mode_mean_tokens=True)\n",
    "model = SentenceTransformer(modules=[bert, pooling])\n",
    "model"
   ]
  },
  {
   "cell_type": "code",
   "execution_count": 19,
   "id": "3b0800d8-2278-4728-b5b8-7581fc6e942d",
   "metadata": {},
   "outputs": [],
   "source": [
    "from sentence_transformers import losses\n",
    "\n",
    "loss = losses.MultipleNegativesRankingLoss(model)"
   ]
  },
  {
   "cell_type": "code",
   "execution_count": 20,
   "id": "4df69bb7-b84d-4384-a541-9cb8a8e15af9",
   "metadata": {},
   "outputs": [],
   "source": [
    "epochs = 1\n",
    "warmup_steps = int(len(loader)*epochs*0.1)"
   ]
  },
  {
   "cell_type": "code",
   "execution_count": null,
   "id": "3251fe44-fa4f-4cbf-a857-4e926511ee96",
   "metadata": {},
   "outputs": [],
   "source": [
    "model.fit(\n",
    "    train_objectives=[(loader, loss)],\n",
    "    epochs=epochs,\n",
    "    warmup_steps=warmup_steps,\n",
    "    output_path='./sbert_test_mnr2',\n",
    "    show_progress_bar=False\n",
    ")"
   ]
  },
  {
   "cell_type": "code",
   "execution_count": null,
   "id": "b1c4c9ca-e7ba-4849-b7dc-9977d80a97fa",
   "metadata": {},
   "outputs": [],
   "source": []
  }
 ],
 "metadata": {
  "kernelspec": {
   "display_name": "Python 3",
   "language": "python",
   "name": "python3"
  },
  "language_info": {
   "codemirror_mode": {
    "name": "ipython",
    "version": 3
   },
   "file_extension": ".py",
   "mimetype": "text/x-python",
   "name": "python",
   "nbconvert_exporter": "python",
   "pygments_lexer": "ipython3",
   "version": "3.10.10"
  }
 },
 "nbformat": 4,
 "nbformat_minor": 5
}
