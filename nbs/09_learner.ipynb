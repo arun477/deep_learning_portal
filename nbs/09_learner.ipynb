{
 "cells": [
  {
   "cell_type": "code",
   "execution_count": null,
   "id": "6d21192a",
   "metadata": {},
   "outputs": [],
   "source": [
    "#|default_exp learner"
   ]
  },
  {
   "cell_type": "code",
   "execution_count": null,
   "id": "a40746ca",
   "metadata": {},
   "outputs": [],
   "source": [
    "#|export\n",
    "\n",
    "import torch\n",
    "import matplotlib.pyplot as plt\n",
    "from torch import tensor\n",
    "import torch.nn as nn\n",
    "import torch.nn.functional as F\n",
    "import torchvision.transforms.functional as TF\n",
    "from datasets import load_dataset\n",
    "import fastcore.all as fc\n",
    "from torch.utils.data import DataLoader\n",
    "from practice_deep_learning.conv import *"
   ]
  },
  {
   "cell_type": "code",
   "execution_count": null,
   "id": "ca6db923",
   "metadata": {},
   "outputs": [],
   "source": [
    "from practice_deep_learning.datasets import *"
   ]
  },
  {
   "cell_type": "code",
   "execution_count": null,
   "id": "140d4e70",
   "metadata": {},
   "outputs": [],
   "source": [
    "x, y = 'image', 'labe'\n",
    "name = 'fashion_mnist'\n",
    "dsd = load_dataset(name)"
   ]
  },
  {
   "cell_type": "code",
   "execution_count": null,
   "id": "d2a1cbbb",
   "metadata": {},
   "outputs": [],
   "source": [
    "@inplace\n",
    "def transform(b):\n",
    "    b[x] = [torch.flatten(TF.to_tensor(o)) for o in  b[x]]"
   ]
  },
  {
   "cell_type": "code",
   "execution_count": null,
   "id": "826c6447",
   "metadata": {},
   "outputs": [],
   "source": [
    "bs = 1024\n",
    "tds = dsd.with_transform(transform)"
   ]
  },
  {
   "cell_type": "code",
   "execution_count": null,
   "id": "63415cdf",
   "metadata": {},
   "outputs": [],
   "source": [
    "dls = DataLoaders.from_dd(tds, batch_size=bs)\n",
    "dt = dls.train\n",
    "xb,yb = next(iter(dt))\n",
    "xb.shape,yb.shape"
   ]
  },
  {
   "cell_type": "code",
   "execution_count": null,
   "id": "6d46f02a",
   "metadata": {},
   "outputs": [],
   "source": [
    "show_images([xb[0].view(-1, 28, 28)], imsize=1.7)"
   ]
  },
  {
   "cell_type": "code",
   "execution_count": null,
   "id": "f8383681",
   "metadata": {},
   "outputs": [],
   "source": []
  }
 ],
 "metadata": {
  "kernelspec": {
   "display_name": "python3",
   "language": "python",
   "name": "python3"
  }
 },
 "nbformat": 4,
 "nbformat_minor": 5
}
