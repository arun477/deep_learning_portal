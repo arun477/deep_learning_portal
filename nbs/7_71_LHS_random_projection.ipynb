{
 "cells": [
  {
   "cell_type": "code",
   "execution_count": 1,
   "metadata": {
    "colab": {
     "base_uri": "https://localhost:8080/"
    },
    "id": "enLk1m-iyIFK",
    "outputId": "32563766-d7e5-4d23-ab17-242b49f1dc79"
   },
   "outputs": [
    {
     "name": "stdout",
     "output_type": "stream",
     "text": [
      "\u001b[2K     \u001b[90m━━━━━━━━━━━━━━━━━━━━━━━━━━━━━━━━━━━━━━━━\u001b[0m \u001b[32m27.0/27.0 MB\u001b[0m \u001b[31m28.0 MB/s\u001b[0m eta \u001b[36m0:00:00\u001b[0m\n",
      "\u001b[2K     \u001b[90m━━━━━━━━━━━━━━━━━━━━━━━━━━━━━━━━━━━━━━━━\u001b[0m \u001b[32m85.5/85.5 MB\u001b[0m \u001b[31m9.2 MB/s\u001b[0m eta \u001b[36m0:00:00\u001b[0m\n",
      "\u001b[2K     \u001b[90m━━━━━━━━━━━━━━━━━━━━━━━━━━━━━━━━━━━━━━━━\u001b[0m \u001b[32m171.5/171.5 kB\u001b[0m \u001b[31m11.7 MB/s\u001b[0m eta \u001b[36m0:00:00\u001b[0m\n",
      "\u001b[2K     \u001b[90m━━━━━━━━━━━━━━━━━━━━━━━━━━━━━━━━━━━━━━━━\u001b[0m \u001b[32m542.0/542.0 kB\u001b[0m \u001b[31m16.4 MB/s\u001b[0m eta \u001b[36m0:00:00\u001b[0m\n",
      "\u001b[2K     \u001b[90m━━━━━━━━━━━━━━━━━━━━━━━━━━━━━━━━━━━━━━━━\u001b[0m \u001b[32m116.3/116.3 kB\u001b[0m \u001b[31m5.0 MB/s\u001b[0m eta \u001b[36m0:00:00\u001b[0m\n",
      "\u001b[2K     \u001b[90m━━━━━━━━━━━━━━━━━━━━━━━━━━━━━━━━━━━━━━━━\u001b[0m \u001b[32m194.1/194.1 kB\u001b[0m \u001b[31m5.1 MB/s\u001b[0m eta \u001b[36m0:00:00\u001b[0m\n",
      "\u001b[2K     \u001b[90m━━━━━━━━━━━━━━━━━━━━━━━━━━━━━━━━━━━━━━━━\u001b[0m \u001b[32m134.8/134.8 kB\u001b[0m \u001b[31m7.4 MB/s\u001b[0m eta \u001b[36m0:00:00\u001b[0m\n",
      "\u001b[2K     \u001b[90m━━━━━━━━━━━━━━━━━━━━━━━━━━━━━━━━━━━━━━━━\u001b[0m \u001b[32m401.2/401.2 kB\u001b[0m \u001b[31m21.1 MB/s\u001b[0m eta \u001b[36m0:00:00\u001b[0m\n",
      "\u001b[?25h"
     ]
    }
   ],
   "source": [
    "!pip install -q faiss-cpu faiss-gpu sentence-transformers datasets"
   ]
  },
  {
   "cell_type": "code",
   "execution_count": 2,
   "metadata": {
    "id": "XQ7BjqzvyPgq"
   },
   "outputs": [],
   "source": [
    "nbits = 4\n",
    "d = 2"
   ]
  },
  {
   "cell_type": "code",
   "execution_count": 9,
   "metadata": {
    "colab": {
     "base_uri": "https://localhost:8080/"
    },
    "id": "39sQvdb00JZ7",
    "outputId": "4085ff1f-8d7c-4a49-867a-fc7814e6908c"
   },
   "outputs": [
    {
     "data": {
      "text/plain": [
       "array([[-0.4614033 ,  0.34868215],\n",
       "       [-0.13359095, -0.12400435],\n",
       "       [ 0.22152424, -0.07139028],\n",
       "       [-0.49876006, -0.19509125]])"
      ]
     },
     "execution_count": 9,
     "metadata": {},
     "output_type": "execute_result"
    }
   ],
   "source": [
    "import numpy as np\n",
    "plane_norms = np.random.rand(nbits, d) - 0.5\n",
    "plane_norms"
   ]
  },
  {
   "cell_type": "code",
   "execution_count": 10,
   "metadata": {
    "id": "i9_25zP30WJO"
   },
   "outputs": [],
   "source": [
    "a = np.asarray([1, 2])\n",
    "b = np.asarray([2, 1])\n",
    "c = np.asarray([3, 1])"
   ]
  },
  {
   "cell_type": "code",
   "execution_count": 12,
   "metadata": {
    "colab": {
     "base_uri": "https://localhost:8080/"
    },
    "id": "BF4lfhG_0uqp",
    "outputId": "a98ac585-357d-4f43-c4b1-f2512c73df7a"
   },
   "outputs": [
    {
     "data": {
      "text/plain": [
       "((4, 2), (2,))"
      ]
     },
     "execution_count": 12,
     "metadata": {},
     "output_type": "execute_result"
    }
   ],
   "source": [
    "plane_norms.shape, a.shape"
   ]
  },
  {
   "cell_type": "code",
   "execution_count": 13,
   "metadata": {
    "colab": {
     "base_uri": "https://localhost:8080/"
    },
    "id": "FiEbl2Wh0y08",
    "outputId": "0d7bff4f-bcbc-4d08-8797-7bd0ad53aca9"
   },
   "outputs": [
    {
     "data": {
      "text/plain": [
       "array([ 0.23596099, -0.38159964,  0.07874368, -0.88894255])"
      ]
     },
     "execution_count": 13,
     "metadata": {},
     "output_type": "execute_result"
    }
   ],
   "source": [
    "plane_norms.dot(a)"
   ]
  },
  {
   "cell_type": "code",
   "execution_count": 16,
   "metadata": {
    "colab": {
     "base_uri": "https://localhost:8080/"
    },
    "id": "BToehBpP0773",
    "outputId": "2e55086b-1017-4799-b107-8979244c263e"
   },
   "outputs": [
    {
     "data": {
      "text/plain": [
       "array([ 0.23596099, -0.38159964,  0.07874368, -0.88894255])"
      ]
     },
     "execution_count": 16,
     "metadata": {},
     "output_type": "execute_result"
    }
   ],
   "source": [
    "a_dot = np.dot(a, plane_norms.T)\n",
    "b_dot = np.dot(b, plane_norms.T)\n",
    "c_dot = np.dot(c, plane_norms.T)\n",
    "a_dot"
   ]
  },
  {
   "cell_type": "code",
   "execution_count": 18,
   "metadata": {
    "colab": {
     "base_uri": "https://localhost:8080/"
    },
    "id": "IYw9TerA1AoJ",
    "outputId": "c095e422-a67b-45f3-d281-a82fa717be2b"
   },
   "outputs": [
    {
     "data": {
      "text/plain": [
       "array([ True, False,  True, False])"
      ]
     },
     "execution_count": 18,
     "metadata": {},
     "output_type": "execute_result"
    }
   ],
   "source": [
    "a_dot = a_dot > 0\n",
    "b_dot = b_dot > 0\n",
    "c_dot = c_dot > 0\n",
    "a_dot"
   ]
  },
  {
   "cell_type": "code",
   "execution_count": 22,
   "metadata": {
    "colab": {
     "base_uri": "https://localhost:8080/"
    },
    "id": "5yA3o5hq1Thr",
    "outputId": "f2217ba4-1542-412d-f405-43e07275ede5"
   },
   "outputs": [
    {
     "name": "stdout",
     "output_type": "stream",
     "text": [
      "[1 0 1 0]\n",
      "[0 0 1 0]\n",
      "[0 0 1 0]\n"
     ]
    }
   ],
   "source": [
    "a_dot = a_dot.astype(int)\n",
    "b_dot = b_dot.astype(int)\n",
    "c_dot = c_dot.astype(int)\n",
    "print(a_dot)\n",
    "print(b_dot)\n",
    "print(c_dot)"
   ]
  },
  {
   "cell_type": "code",
   "execution_count": 24,
   "metadata": {
    "colab": {
     "base_uri": "https://localhost:8080/"
    },
    "id": "eQXxuKu51ZgY",
    "outputId": "c8c44dad-498e-483a-b9f3-5f5f135d60f4"
   },
   "outputs": [
    {
     "data": {
      "text/plain": [
       "{'1010': [0], '0010': [1, 2]}"
      ]
     },
     "execution_count": 24,
     "metadata": {},
     "output_type": "execute_result"
    }
   ],
   "source": [
    "vecs = [a_dot, b_dot, c_dot]\n",
    "buckets = {}\n",
    "for i in range(len(vecs)):\n",
    "  key = \"\".join(vecs[i].astype(str))\n",
    "  if key in buckets:\n",
    "    buckets[key].append(i)\n",
    "  else:\n",
    "    buckets[key] = [i]\n",
    "buckets"
   ]
  },
  {
   "cell_type": "code",
   "execution_count": 25,
   "metadata": {
    "id": "K-ss_5w22NDB"
   },
   "outputs": [],
   "source": [
    "import shutil\n",
    "from contextlib import closing\n",
    "from urllib import request\n",
    "\n",
    "with closing(request.urlopen('ftp://ftp.irisa.fr/local/texmex/corpus/sift.tar.gz')) as r:\n",
    "  with open('sift.tar.gz', 'wb') as f:\n",
    "    shutil.copyfileobj(r, f)"
   ]
  },
  {
   "cell_type": "code",
   "execution_count": 26,
   "metadata": {
    "id": "bU3VzNbD33D7"
   },
   "outputs": [],
   "source": [
    "import tarfile\n",
    "tar = tarfile.open('sift.tar.gz', 'r:gz')\n",
    "tar.extractall()"
   ]
  },
  {
   "cell_type": "code",
   "execution_count": 27,
   "metadata": {
    "id": "jeEqYRIz36pU"
   },
   "outputs": [],
   "source": [
    "def read_fvecs(fvecfile):\n",
    "  a = np.fromfile(fvecfile, dtype='int32')\n",
    "  d = a[0]\n",
    "  return a.reshape(-1, d+1)[:, 1:].copy().view('float32')"
   ]
  },
  {
   "cell_type": "code",
   "execution_count": 28,
   "metadata": {
    "colab": {
     "base_uri": "https://localhost:8080/"
    },
    "id": "zkFGsf1u384i",
    "outputId": "ba3d07a3-535d-4884-9620-565add92c72c"
   },
   "outputs": [
    {
     "name": "stdout",
     "output_type": "stream",
     "text": [
      "(1000000, 128) (10000, 128)\n"
     ]
    }
   ],
   "source": [
    "xb = read_fvecs('./sift/sift_base.fvecs')\n",
    "xq = read_fvecs('./sift/sift_query.fvecs')\n",
    "print(xb.shape, xq.shape)"
   ]
  },
  {
   "cell_type": "code",
   "execution_count": 29,
   "metadata": {
    "id": "1OIogKvP3-q8"
   },
   "outputs": [],
   "source": [
    "import faiss"
   ]
  },
  {
   "cell_type": "code",
   "execution_count": 31,
   "metadata": {
    "id": "oPXvEVIO4C72"
   },
   "outputs": [],
   "source": [
    "d = xb.shape[1]\n",
    "nbits = 4\n",
    "index = faiss.IndexLSH(d, nbits)\n",
    "index.add(xb)"
   ]
  },
  {
   "cell_type": "code",
   "execution_count": 32,
   "metadata": {
    "colab": {
     "base_uri": "https://localhost:8080/"
    },
    "id": "fxGBDTTo4QMN",
    "outputId": "d50ed67e-a303-47c7-b482-00d5f1efea0b"
   },
   "outputs": [
    {
     "data": {
      "text/plain": [
       "(1, 128)"
      ]
     },
     "execution_count": 32,
     "metadata": {},
     "output_type": "execute_result"
    }
   ],
   "source": [
    "xq0 = xb[0][None]\n",
    "xq0.shape"
   ]
  },
  {
   "cell_type": "code",
   "execution_count": 34,
   "metadata": {
    "colab": {
     "base_uri": "https://localhost:8080/"
    },
    "id": "J9xBuNP84YH6",
    "outputId": "6ac4c2e0-d504-4039-84a8-98e509043f82"
   },
   "outputs": [
    {
     "name": "stdout",
     "output_type": "stream",
     "text": [
      "CPU times: user 18.1 ms, sys: 0 ns, total: 18.1 ms\n",
      "Wall time: 12.3 ms\n"
     ]
    },
    {
     "data": {
      "text/plain": [
       "array([[ 0,  2,  6, 25, 26, 43, 47, 70, 73, 74]])"
      ]
     },
     "execution_count": 34,
     "metadata": {},
     "output_type": "execute_result"
    }
   ],
   "source": [
    "%%time\n",
    "D, I = index.search(xq0, k=10)\n",
    "I"
   ]
  },
  {
   "cell_type": "code",
   "execution_count": 37,
   "metadata": {
    "colab": {
     "base_uri": "https://localhost:8080/"
    },
    "id": "g8DgZ-vO4fBN",
    "outputId": "f7660396-eadb-43a6-b65e-9abc0e603253"
   },
   "outputs": [
    {
     "data": {
      "text/plain": [
       "(10, 128)"
      ]
     },
     "execution_count": 37,
     "metadata": {},
     "output_type": "execute_result"
    }
   ],
   "source": [
    "xb[I[0]].shape"
   ]
  },
  {
   "cell_type": "code",
   "execution_count": 42,
   "metadata": {
    "id": "T78rBajW4oaO"
   },
   "outputs": [],
   "source": [
    "from sentence_transformers import util\n",
    "from sklearn.metrics.pairwise import cosine_similarity"
   ]
  },
  {
   "cell_type": "code",
   "execution_count": 41,
   "metadata": {
    "colab": {
     "base_uri": "https://localhost:8080/"
    },
    "id": "PBriZD0P46P_",
    "outputId": "b4aacbe3-f234-485f-dbb5-e8dff9956d86"
   },
   "outputs": [
    {
     "data": {
      "text/plain": [
       "tensor([[1.0000],\n",
       "        [0.9638],\n",
       "        [0.9529],\n",
       "        [0.1947],\n",
       "        [0.1713],\n",
       "        [0.2192],\n",
       "        [0.2208],\n",
       "        [0.8036],\n",
       "        [0.8438],\n",
       "        [0.8415]])"
      ]
     },
     "execution_count": 41,
     "metadata": {},
     "output_type": "execute_result"
    }
   ],
   "source": [
    "util.pytorch_cos_sim(xb[I[0]], xq0)"
   ]
  },
  {
   "cell_type": "code",
   "execution_count": 43,
   "metadata": {
    "colab": {
     "base_uri": "https://localhost:8080/"
    },
    "id": "7h5Pwaxw5CXp",
    "outputId": "64e029b8-7597-4323-bea2-2c2e4fdef3ce"
   },
   "outputs": [
    {
     "data": {
      "text/plain": [
       "array([[1.        ],\n",
       "       [0.9637785 ],\n",
       "       [0.95294523],\n",
       "       [0.1947029 ],\n",
       "       [0.17127216],\n",
       "       [0.21918732],\n",
       "       [0.22081813],\n",
       "       [0.8035712 ],\n",
       "       [0.8437884 ],\n",
       "       [0.84145665]], dtype=float32)"
      ]
     },
     "execution_count": 43,
     "metadata": {},
     "output_type": "execute_result"
    }
   ],
   "source": [
    "cosine_similarity(xb[I[0]], xq0)"
   ]
  },
  {
   "cell_type": "code",
   "execution_count": 45,
   "metadata": {
    "colab": {
     "base_uri": "https://localhost:8080/"
    },
    "id": "1WI-KPvG5Sft",
    "outputId": "b349f9e8-e757-4d66-d8d7-c9304a7d9ec6"
   },
   "outputs": [
    {
     "data": {
      "text/plain": [
       "172100"
      ]
     },
     "execution_count": 45,
     "metadata": {},
     "output_type": "execute_result"
    }
   ],
   "source": [
    "k=100\n",
    "while True:\n",
    "  D, I = index.search(xq0, k=k)\n",
    "  if D.any() != 0:\n",
    "    break\n",
    "  k += 100\n",
    "k"
   ]
  },
  {
   "cell_type": "code",
   "execution_count": 46,
   "metadata": {
    "colab": {
     "base_uri": "https://localhost:8080/"
    },
    "id": "bMYh-ltx9BoN",
    "outputId": "137b55f0-0c29-42b5-9c45-45d2597afe8c"
   },
   "outputs": [
    {
     "name": "stdout",
     "output_type": "stream",
     "text": [
      "nbits==2\n",
      "1000000 / 4 = 250000.0\n",
      "nbits==4\n",
      "1000000 / 16 = 62500.0\n",
      "nbits==8\n",
      "1000000 / 256 = 3906.25\n",
      "nbits==16\n",
      "1000000 / 65536 = 15.2587890625\n",
      "nbits==24\n",
      "1000000 / 16777216 = 0.059604644775390625\n",
      "nbits==32\n",
      "1000000 / 4294967296 = 0.00023283064365386963\n"
     ]
    }
   ],
   "source": [
    "for nbits in [2, 4, 8, 16, 24, 32]:\n",
    "  buckets = 1 << nbits\n",
    "  print(f\"nbits=={nbits}\")\n",
    "  print(f\"{xb.shape[0]} / {buckets} = {xb.shape[0]/buckets}\")"
   ]
  },
  {
   "cell_type": "code",
   "execution_count": 49,
   "metadata": {
    "colab": {
     "base_uri": "https://localhost:8080/"
    },
    "id": "VjeTm2kq9xWF",
    "outputId": "209cc621-90e2-4e5a-fb57-9dbec0f4faac"
   },
   "outputs": [
    {
     "name": "stdout",
     "output_type": "stream",
     "text": [
      "0.4149835\n",
      "0.37523153\n",
      "0.72134036\n",
      "0.6057699\n",
      "0.70601416\n",
      "0.7077736\n",
      "0.74506366\n",
      "0.75215524\n"
     ]
    }
   ],
   "source": [
    "for nbits in [2, 4, 8, 16, 24, 32, 64, 128]:\n",
    "  index = faiss.IndexLSH(d, nbits)\n",
    "  index.add(xb)\n",
    "  D, I = index.search(xq0, k=k)\n",
    "  cos = cosine_similarity(xb[I[0]], xq0)\n",
    "  print(np.mean(cos))"
   ]
  },
  {
   "cell_type": "code",
   "execution_count": 51,
   "metadata": {
    "id": "4ndc5a-N9xYj"
   },
   "outputs": [],
   "source": [
    "index = faiss.IndexLSH(d, 4)\n",
    "index.add(xb)"
   ]
  },
  {
   "cell_type": "code",
   "execution_count": 56,
   "metadata": {
    "colab": {
     "base_uri": "https://localhost:8080/"
    },
    "id": "4SisPgWB9xap",
    "outputId": "79019035-f0e2-4eb3-eb2e-624a03f1c209"
   },
   "outputs": [
    {
     "data": {
      "text/plain": [
       "array([ 5, 12,  5, ..., 15, 13, 12], dtype=uint8)"
      ]
     },
     "execution_count": 56,
     "metadata": {},
     "output_type": "execute_result"
    }
   ],
   "source": [
    "arr = faiss.vector_to_array(index.codes)\n",
    "arr"
   ]
  },
  {
   "cell_type": "code",
   "execution_count": 57,
   "metadata": {
    "colab": {
     "base_uri": "https://localhost:8080/"
    },
    "id": "7MoXqUuP--sM",
    "outputId": "f8114a41-edb2-4643-f557-891a24bb4cca"
   },
   "outputs": [
    {
     "data": {
      "text/plain": [
       "(1000000,)"
      ]
     },
     "execution_count": 57,
     "metadata": {},
     "output_type": "execute_result"
    }
   ],
   "source": [
    "arr.shape"
   ]
  },
  {
   "cell_type": "code",
   "execution_count": null,
   "metadata": {
    "id": "_vcNExvZ_LGE"
   },
   "outputs": [],
   "source": []
  }
 ],
 "metadata": {
  "colab": {
   "provenance": []
  },
  "kernelspec": {
   "display_name": "Python 3",
   "name": "python3"
  },
  "language_info": {
   "name": "python"
  }
 },
 "nbformat": 4,
 "nbformat_minor": 0
}
