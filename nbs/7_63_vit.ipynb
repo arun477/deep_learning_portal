{
 "cells": [
  {
   "cell_type": "code",
   "execution_count": 1,
   "id": "quFi0j8naRgY",
   "metadata": {
    "id": "quFi0j8naRgY"
   },
   "outputs": [],
   "source": [
    "# !pip install -q datasets transformers\n",
    "#!pip install accelerate -U"
   ]
  },
  {
   "cell_type": "code",
   "execution_count": 2,
   "id": "b31aacf3-eb97-4aa7-87af-b78c3b5d2aca",
   "metadata": {
    "colab": {
     "base_uri": "https://localhost:8080/"
    },
    "id": "b31aacf3-eb97-4aa7-87af-b78c3b5d2aca",
    "outputId": "3409afc6-077b-440f-db7e-e9a8d6bcd282"
   },
   "outputs": [
    {
     "name": "stderr",
     "output_type": "stream",
     "text": [
      "/usr/local/lib/python3.10/dist-packages/datasets/load.py:2555: FutureWarning: 'ignore_verifications' was deprecated in favor of 'verification_mode' in version 2.9.1 and will be removed in 3.0.0.\n",
      "You can remove this warning by passing 'verification_mode=all_checks' instead.\n",
      "  warnings.warn(\n",
      "/usr/local/lib/python3.10/dist-packages/huggingface_hub/utils/_token.py:89: UserWarning: \n",
      "The secret `HF_TOKEN` does not exist in your Colab secrets.\n",
      "To authenticate with the Hugging Face Hub, create a token in your settings tab (https://huggingface.co/settings/tokens), set it as secret in your Google Colab and restart your session.\n",
      "You will be able to reuse this secret in all of your notebooks.\n",
      "Please note that authentication is recommended but still optional to access public models or datasets.\n",
      "  warnings.warn(\n"
     ]
    },
    {
     "data": {
      "text/plain": [
       "Dataset({\n",
       "    features: ['img', 'label'],\n",
       "    num_rows: 50000\n",
       "})"
      ]
     },
     "execution_count": 2,
     "metadata": {},
     "output_type": "execute_result"
    }
   ],
   "source": [
    "import datasets\n",
    "\n",
    "dataset = datasets.load_dataset('cifar10', split='train', ignore_verifications=False)\n",
    "dataset"
   ]
  },
  {
   "cell_type": "code",
   "execution_count": 3,
   "id": "b1c569b9-0d55-43cd-9719-781995cf11d7",
   "metadata": {
    "colab": {
     "base_uri": "https://localhost:8080/"
    },
    "id": "b1c569b9-0d55-43cd-9719-781995cf11d7",
    "outputId": "6dc1b3f0-71d5-4cbd-a8be-320806652487"
   },
   "outputs": [
    {
     "name": "stderr",
     "output_type": "stream",
     "text": [
      "/usr/local/lib/python3.10/dist-packages/datasets/load.py:2555: FutureWarning: 'ignore_verifications' was deprecated in favor of 'verification_mode' in version 2.9.1 and will be removed in 3.0.0.\n",
      "You can remove this warning by passing 'verification_mode=all_checks' instead.\n",
      "  warnings.warn(\n"
     ]
    },
    {
     "data": {
      "text/plain": [
       "Dataset({\n",
       "    features: ['img', 'label'],\n",
       "    num_rows: 10000\n",
       "})"
      ]
     },
     "execution_count": 3,
     "metadata": {},
     "output_type": "execute_result"
    }
   ],
   "source": [
    "dataset_test = datasets.load_dataset('cifar10', split='test', ignore_verifications=False)\n",
    "dataset_test"
   ]
  },
  {
   "cell_type": "code",
   "execution_count": 4,
   "id": "8cdd1dc8-57e0-41b4-80cf-5da43eaddf69",
   "metadata": {
    "colab": {
     "base_uri": "https://localhost:8080/"
    },
    "id": "8cdd1dc8-57e0-41b4-80cf-5da43eaddf69",
    "outputId": "5b8c4764-35c7-4f4c-f09d-03656846af98"
   },
   "outputs": [
    {
     "data": {
      "text/plain": [
       "ClassLabel(names=['airplane', 'automobile', 'bird', 'cat', 'deer', 'dog', 'frog', 'horse', 'ship', 'truck'], id=None)"
      ]
     },
     "execution_count": 4,
     "metadata": {},
     "output_type": "execute_result"
    }
   ],
   "source": [
    "num_classes = len(set(dataset['label']))\n",
    "labels = dataset.features['label']\n",
    "labels"
   ]
  },
  {
   "cell_type": "code",
   "execution_count": 5,
   "id": "993966f2-2cae-4a4d-9a0c-51036fbebe1f",
   "metadata": {
    "colab": {
     "base_uri": "https://localhost:8080/",
     "height": 67
    },
    "id": "993966f2-2cae-4a4d-9a0c-51036fbebe1f",
    "outputId": "4294b6a4-b998-422c-9670-5b468052a29e"
   },
   "outputs": [
    {
     "name": "stdout",
     "output_type": "stream",
     "text": [
      "airplane\n"
     ]
    },
    {
     "data": {
      "image/png": "[encoded data removed]",
      "text/plain": [
       "<PIL.PngImagePlugin.PngImageFile image mode=RGB size=32x32>"
      ]
     },
     "execution_count": 5,
     "metadata": {},
     "output_type": "execute_result"
    }
   ],
   "source": [
    "print(labels.names[dataset[0]['label']])\n",
    "dataset[0]['img']"
   ]
  },
  {
   "cell_type": "code",
   "execution_count": 6,
   "id": "49ca81b6-5452-4f38-bb3f-bcdd3dd79427",
   "metadata": {
    "colab": {
     "base_uri": "https://localhost:8080/"
    },
    "id": "49ca81b6-5452-4f38-bb3f-bcdd3dd79427",
    "outputId": "fe7a3f29-00ca-47b0-b814-b39a91910310",
    "scrolled": true
   },
   "outputs": [
    {
     "name": "stderr",
     "output_type": "stream",
     "text": [
      "/usr/local/lib/python3.10/dist-packages/transformers/models/vit/feature_extraction_vit.py:28: FutureWarning: The class ViTFeatureExtractor is deprecated and will be removed in version 5 of Transformers. Please use ViTImageProcessor instead.\n",
      "  warnings.warn(\n"
     ]
    },
    {
     "data": {
      "text/plain": [
       "ViTFeatureExtractor {\n",
       "  \"_valid_processor_keys\": [\n",
       "    \"images\",\n",
       "    \"do_resize\",\n",
       "    \"size\",\n",
       "    \"resample\",\n",
       "    \"do_rescale\",\n",
       "    \"rescale_factor\",\n",
       "    \"do_normalize\",\n",
       "    \"image_mean\",\n",
       "    \"image_std\",\n",
       "    \"return_tensors\",\n",
       "    \"data_format\",\n",
       "    \"input_data_format\"\n",
       "  ],\n",
       "  \"do_normalize\": true,\n",
       "  \"do_rescale\": true,\n",
       "  \"do_resize\": \"google/vit-base-patch16-224-in21k\",\n",
       "  \"image_mean\": [\n",
       "    0.5,\n",
       "    0.5,\n",
       "    0.5\n",
       "  ],\n",
       "  \"image_processor_type\": \"ViTFeatureExtractor\",\n",
       "  \"image_std\": [\n",
       "    0.5,\n",
       "    0.5,\n",
       "    0.5\n",
       "  ],\n",
       "  \"resample\": 2,\n",
       "  \"rescale_factor\": 0.00392156862745098,\n",
       "  \"size\": {\n",
       "    \"height\": 224,\n",
       "    \"width\": 224\n",
       "  }\n",
       "}"
      ]
     },
     "execution_count": 6,
     "metadata": {},
     "output_type": "execute_result"
    }
   ],
   "source": [
    "from transformers import ViTFeatureExtractor\n",
    "\n",
    "model_id = 'google/vit-base-patch16-224-in21k'\n",
    "feature_extractor = ViTFeatureExtractor(model_id)\n",
    "feature_extractor"
   ]
  },
  {
   "cell_type": "code",
   "execution_count": 7,
   "id": "3b2afe3a-7566-46f1-b8a3-e0903ea5f83d",
   "metadata": {
    "colab": {
     "base_uri": "https://localhost:8080/"
    },
    "id": "3b2afe3a-7566-46f1-b8a3-e0903ea5f83d",
    "outputId": "98240574-75b0-40b9-a084-a294e9530183"
   },
   "outputs": [
    {
     "name": "stdout",
     "output_type": "stream",
     "text": [
      "dict_keys(['pixel_values'])\n"
     ]
    },
    {
     "data": {
      "text/plain": [
       "(3, 224, 224)"
      ]
     },
     "execution_count": 7,
     "metadata": {},
     "output_type": "execute_result"
    }
   ],
   "source": [
    "example = feature_extractor(dataset[0]['img'])\n",
    "print(example.keys())\n",
    "len(example['pixel_values'])\n",
    "example['pixel_values'][0].shape"
   ]
  },
  {
   "cell_type": "code",
   "execution_count": 8,
   "id": "85ec708b-2dc8-406c-acdd-b522001ee5df",
   "metadata": {
    "colab": {
     "base_uri": "https://localhost:8080/",
     "height": 237
    },
    "id": "85ec708b-2dc8-406c-acdd-b522001ee5df",
    "outputId": "e2095927-f771-4b77-ddad-a3ea98b359de"
   },
   "outputs": [
    {
     "name": "stderr",
     "output_type": "stream",
     "text": [
      "WARNING:matplotlib.image:Clipping input data to the valid range for imshow with RGB data ([0..1] for floats or [0..255] for integers).\n"
     ]
    },
    {
     "data": {
      "image/png": "[encoded data removed]",
      "text/plain": [
       "<Figure size 400x200 with 1 Axes>"
      ]
     },
     "metadata": {},
     "output_type": "display_data"
    }
   ],
   "source": [
    "import matplotlib.pyplot as plt\n",
    "import matplotlib as mpl\n",
    "mpl.rc('figure', figsize=(4, 2))\n",
    "\n",
    "plt.imshow(example['pixel_values'][0].transpose(1, 2, 0));"
   ]
  },
  {
   "cell_type": "code",
   "execution_count": 9,
   "id": "3ad620eb-a9e8-431c-b52c-bca05abe6525",
   "metadata": {
    "colab": {
     "base_uri": "https://localhost:8080/"
    },
    "id": "3ad620eb-a9e8-431c-b52c-bca05abe6525",
    "outputId": "cad83120-98b5-497e-ac7c-60048b4ba3d6"
   },
   "outputs": [
    {
     "name": "stdout",
     "output_type": "stream",
     "text": [
      "device cuda:0\n"
     ]
    }
   ],
   "source": [
    "import torch\n",
    "\n",
    "device = 'cuda:0' if torch.cuda.is_available() else 'cpu'\n",
    "print('device', device)"
   ]
  },
  {
   "cell_type": "code",
   "execution_count": 10,
   "id": "d27d001f-8adf-47e7-a726-9e82e50d2eaf",
   "metadata": {
    "id": "d27d001f-8adf-47e7-a726-9e82e50d2eaf"
   },
   "outputs": [],
   "source": [
    "def preprocess(batch):\n",
    "    inputs = feature_extractor(batch['img'], return_tensors='pt')\n",
    "    inputs['label'] = batch['label']\n",
    "    return inputs"
   ]
  },
  {
   "cell_type": "code",
   "execution_count": 11,
   "id": "bc83ac44-0ed6-4f4f-a9bb-fca073e52baa",
   "metadata": {
    "id": "bc83ac44-0ed6-4f4f-a9bb-fca073e52baa"
   },
   "outputs": [],
   "source": [
    "prepared_train = dataset.with_transform(preprocess)\n",
    "prepared_test = dataset_test.with_transform(preprocess)"
   ]
  },
  {
   "cell_type": "code",
   "execution_count": 12,
   "id": "d9c1fc89-837b-49f4-b531-eaa2716a6460",
   "metadata": {
    "id": "d9c1fc89-837b-49f4-b531-eaa2716a6460"
   },
   "outputs": [],
   "source": [
    "def collate_fn(batch):\n",
    "    return {\n",
    "        'pixel_values': torch.stack([ele['pixel_values'] for ele in batch]),\n",
    "        'labels': torch.tensor([ele['label'] for ele in batch]),\n",
    "    }"
   ]
  },
  {
   "cell_type": "code",
   "execution_count": 19,
   "id": "927feeaa-e0d2-4dac-9d9c-e7a55fb14fad",
   "metadata": {
    "colab": {
     "base_uri": "https://localhost:8080/"
    },
    "id": "927feeaa-e0d2-4dac-9d9c-e7a55fb14fad",
    "outputId": "9ac9ef43-d31a-4363-db4e-2eba15e45004"
   },
   "outputs": [
    {
     "name": "stderr",
     "output_type": "stream",
     "text": [
      "/usr/local/lib/python3.10/dist-packages/datasets/load.py:759: FutureWarning: The repository for accuracy contains custom code which must be executed to correctly load the metric. You can inspect the repository content at https://raw.githubusercontent.com/huggingface/datasets/2.19.0/metrics/accuracy/accuracy.py\n",
      "You can avoid this message in future by passing the argument `trust_remote_code=True`.\n",
      "Passing `trust_remote_code=True` will be mandatory to load this metric from the next major release of `datasets`.\n",
      "  warnings.warn(\n"
     ]
    }
   ],
   "source": [
    "from datasets import load_metric\n",
    "import numpy as np\n",
    "metric = load_metric('accuracy')\n",
    "def compute_metrics(p):\n",
    "    return metric.compute(\n",
    "        prediction = np.argmax(p.predictions, axis=1),\n",
    "        references = p.label_ids\n",
    "    )"
   ]
  },
  {
   "cell_type": "code",
   "execution_count": 20,
   "id": "7d23bb1e-0032-4d06-aded-e079be8f77c7",
   "metadata": {
    "id": "7d23bb1e-0032-4d06-aded-e079be8f77c7"
   },
   "outputs": [],
   "source": [
    "from transformers import TrainingArguments\n",
    "import torch\n",
    "torch.cuda.empty_cache()\n",
    "\n",
    "training_args = TrainingArguments(\n",
    "    output_dir='./cifar',\n",
    "    per_device_train_batch_size=16,\n",
    "    evaluation_strategy='steps',\n",
    "    num_train_epochs=1,\n",
    "    save_steps=100,\n",
    "    eval_steps=100,\n",
    "    logging_steps=10,\n",
    "    learning_rate=2e-4,\n",
    "    save_total_limit=2,\n",
    "    remove_unused_columns=False,\n",
    "    push_to_hub=False,\n",
    "    load_best_model_at_end=True\n",
    ")"
   ]
  },
  {
   "cell_type": "code",
   "execution_count": 21,
   "id": "1ea94f3f-7bd9-46e1-8860-0cbb2b4ff0a7",
   "metadata": {
    "colab": {
     "base_uri": "https://localhost:8080/"
    },
    "id": "1ea94f3f-7bd9-46e1-8860-0cbb2b4ff0a7",
    "outputId": "bb65c8ba-f6fb-4106-8133-680775f53264"
   },
   "outputs": [
    {
     "name": "stderr",
     "output_type": "stream",
     "text": [
      "Some weights of ViTForImageClassification were not initialized from the model checkpoint at google/vit-base-patch16-224-in21k and are newly initialized: ['classifier.bias', 'classifier.weight']\n",
      "You should probably TRAIN this model on a down-stream task to be able to use it for predictions and inference.\n"
     ]
    }
   ],
   "source": [
    "from transformers import ViTForImageClassification\n",
    "labels = dataset.features['label'].names\n",
    "model = ViTForImageClassification.from_pretrained(model_id, num_labels=len(labels)).to(device)"
   ]
  },
  {
   "cell_type": "code",
   "execution_count": 22,
   "id": "7b466b25-318d-4618-aa5c-ecfb60891d45",
   "metadata": {
    "id": "7b466b25-318d-4618-aa5c-ecfb60891d45"
   },
   "outputs": [],
   "source": [
    "from transformers import Trainer\n",
    "\n",
    "trainer = Trainer(\n",
    "    model=model,\n",
    "    args=training_args,\n",
    "    data_collator=collate_fn,\n",
    "    compute_metrics=compute_metrics,\n",
    "    train_dataset=prepared_train,\n",
    "    eval_dataset=prepared_test,\n",
    "    tokenizer=feature_extractor\n",
    ")"
   ]
  },
  {
   "cell_type": "code",
   "execution_count": null,
   "id": "d76dba0e-d3f3-4a07-bb37-b84a8fa55385",
   "metadata": {
    "colab": {
     "base_uri": "https://localhost:8080/",
     "height": 95
    },
    "id": "d76dba0e-d3f3-4a07-bb37-b84a8fa55385",
    "outputId": "29b1aed1-0ada-4634-fc14-0c84b0eafa9b"
   },
   "outputs": [
    {
     "data": {
      "text/html": [
       "\n",
       "    <div>\n",
       "      \n",
       "      <progress value='101' max='3125' style='width:300px; height:20px; vertical-align: middle;'></progress>\n",
       "      [ 101/3125 01:00 < 30:36, 1.65 it/s, Epoch 0.03/1]\n",
       "    </div>\n",
       "    <table border=\"1\" class=\"dataframe\">\n",
       "  <thead>\n",
       " <tr style=\"text-align: left;\">\n",
       "      <th>Step</th>\n",
       "      <th>Training Loss</th>\n",
       "      <th>Validation Loss</th>\n",
       "    </tr>\n",
       "  </thead>\n",
       "  <tbody>\n",
       "  </tbody>\n",
       "</table><p>\n",
       "    <div>\n",
       "      \n",
       "      <progress value='660' max='1250' style='width:300px; height:20px; vertical-align: middle;'></progress>\n",
       "      [ 660/1250 01:20 < 01:12, 8.18 it/s]\n",
       "    </div>\n",
       "    "
      ],
      "text/plain": [
       "<IPython.core.display.HTML object>"
      ]
     },
     "metadata": {},
     "output_type": "display_data"
    }
   ],
   "source": [
    "train_results = trainer.train()\n",
    "trainer.save_model()\n",
    "trainer.log_metrics('train', train_results.metrics)\n",
    "trainer.save_metrics('train', train_results.metrics)\n",
    "trainer.save_state()"
   ]
  },
  {
   "cell_type": "code",
   "execution_count": null,
   "id": "ed0b865e-7072-48b4-ad2e-42c3359eb7e7",
   "metadata": {
    "id": "ed0b865e-7072-48b4-ad2e-42c3359eb7e7"
   },
   "outputs": [],
   "source": [
    "metrics = trainer.evaluate(prepared_test)\n",
    "trainer.log_metrics(\"eval\", metrics)\n",
    "trainer.save_metrics(\"eval\", metrics)"
   ]
  },
  {
   "cell_type": "code",
   "execution_count": null,
   "id": "YjcVkIjBcGsn",
   "metadata": {
    "id": "YjcVkIjBcGsn"
   },
   "outputs": [],
   "source": [
    "img = dataset_test['img'][0].resize((200, 200))\n",
    "img"
   ]
  },
  {
   "cell_type": "code",
   "execution_count": null,
   "id": "eMmpofHEcGu8",
   "metadata": {
    "id": "eMmpofHEcGu8"
   },
   "outputs": [],
   "source": [
    "act_label = dataset_test['label'][0]\n",
    "labels = dataset_test.features['label']\n",
    "act_label, labels.names[act_label]"
   ]
  },
  {
   "cell_type": "code",
   "execution_count": null,
   "id": "I1skYW4ncGxC",
   "metadata": {
    "id": "I1skYW4ncGxC"
   },
   "outputs": [],
   "source": [
    "from transformers import ViTForImageClassification, ViTFeatureExtractor\n",
    "model_name_or_path = 'LaCarnevali/vit-cifar10'\n",
    "model_finetuned = ViTForImageClassification.from_pretrained(model_name_or_path)\n",
    "feature_extractor_finetuned = ViTFeatureExtractor.from_pretrained(model_name_or_path)"
   ]
  },
  {
   "cell_type": "code",
   "execution_count": null,
   "id": "1H3iNjTOcGzJ",
   "metadata": {
    "id": "1H3iNjTOcGzJ"
   },
   "outputs": [],
   "source": [
    "inputs = feature_extractor_finetuned(img, return_tensors='pt')\n",
    "with torch.no_grad():\n",
    "  logits = model_finetuned(**inputs).logits"
   ]
  },
  {
   "cell_type": "code",
   "execution_count": null,
   "id": "XBgx-FRCdd2w",
   "metadata": {
    "id": "XBgx-FRCdd2w"
   },
   "outputs": [],
   "source": [
    "pred_label = logits.argmax(-1).item()\n",
    "labels = dataset_test.features['label']\n",
    "labels.names[pred_label]"
   ]
  },
  {
   "cell_type": "code",
   "execution_count": null,
   "id": "5q-yPFK7dd43",
   "metadata": {
    "id": "5q-yPFK7dd43"
   },
   "outputs": [],
   "source": []
  },
  {
   "cell_type": "code",
   "execution_count": null,
   "id": "zx_8LkPCdd66",
   "metadata": {
    "id": "zx_8LkPCdd66"
   },
   "outputs": [],
   "source": []
  },
  {
   "cell_type": "code",
   "execution_count": null,
   "id": "AAe8HWnKdd8y",
   "metadata": {
    "id": "AAe8HWnKdd8y"
   },
   "outputs": [],
   "source": []
  }
 ],
 "metadata": {
  "accelerator": "GPU",
  "colab": {
   "gpuType": "T4",
   "provenance": []
  },
  "kernelspec": {
   "display_name": "Python 3",
   "name": "python3"
  },
  "language_info": {
   "codemirror_mode": {
    "name": "ipython",
    "version": 3
   },
   "file_extension": ".py",
   "mimetype": "text/x-python",
   "name": "python",
   "nbconvert_exporter": "python",
   "pygments_lexer": "ipython3",
   "version": "3.10.10"
  }
 },
 "nbformat": 4,
 "nbformat_minor": 5
}
