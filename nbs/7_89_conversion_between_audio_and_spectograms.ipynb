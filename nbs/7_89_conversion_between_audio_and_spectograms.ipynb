{
 "cells": [
  {
   "cell_type": "code",
   "execution_count": null,
   "metadata": {
    "id": "1JwqdJWPDOF9"
   },
   "outputs": [],
   "source": [
    "import librosa\n",
    "import IPython as ipy\n",
    "audio, sr = librosa.load('audio_test.mp4')\n",
    "ipy.display.Audio(audio, rate=sr)"
   ]
  },
  {
   "cell_type": "code",
   "execution_count": null,
   "metadata": {
    "id": "ro4oXsFGSmUq"
   },
   "outputs": [],
   "source": [
    "audio2, sr2 = librosa.load('audio_test_2.mp4')\n",
    "ipy.display.Audio(audio2, rate=sr2)"
   ]
  },
  {
   "cell_type": "code",
   "execution_count": null,
   "metadata": {
    "id": "e5PSG4h9Otlw"
   },
   "outputs": [],
   "source": [
    "import numpy as np\n",
    "\n",
    "X = np.fft.fft(audio)\n",
    "freq_bins = np.fft.fftfreq(len(audio), d=1.0/sr)\n",
    "fundamental_freq = freq_bins[np.argmax(np.abs(X))]\n",
    "fundamental_freq"
   ]
  },
  {
   "cell_type": "code",
   "execution_count": null,
   "metadata": {
    "id": "A22owdiIQrKc"
   },
   "outputs": [],
   "source": [
    "X = np.fft.fft(audio2)\n",
    "freq_bins = np.fft.fftfreq(len(audio), d=1.0/sr2)\n",
    "fundamental_freq = freq_bins[np.argmax(np.abs(X))]\n",
    "fundamental_freq"
   ]
  },
  {
   "cell_type": "code",
   "execution_count": null,
   "metadata": {
    "id": "rLCbHtXZmSol"
   },
   "outputs": [],
   "source": [
    "import librosa\n",
    "import matplotlib.pyplot as plt\n",
    "\n",
    "audio, sr = librosa.load('./audio_test.mp4')"
   ]
  },
  {
   "cell_type": "code",
   "execution_count": null,
   "metadata": {
    "id": "Za4l0nU7qoKr"
   },
   "outputs": [],
   "source": [
    "ipy.display.Audio(audio[:16_000*4], rate=sr)"
   ]
  },
  {
   "cell_type": "code",
   "execution_count": null,
   "metadata": {
    "id": "YtLGQLwOmnrj"
   },
   "outputs": [],
   "source": [
    "import matplotlib as mpl\n",
    "\n",
    "plt.figure().set_figwidth(12)\n",
    "\n",
    "librosa.display.waveshow(audio, sr=sr);"
   ]
  },
  {
   "cell_type": "code",
   "execution_count": null,
   "metadata": {
    "id": "IkUu2Icjm8PB"
   },
   "outputs": [],
   "source": [
    "plt.figure().set_figwidth(12)\n",
    "plt.plot(range(len(audio)), audio);\n",
    "plt.xlabel('time')\n",
    "plt.ylabel('amplitude')\n",
    "plt.show()"
   ]
  },
  {
   "cell_type": "code",
   "execution_count": null,
   "metadata": {
    "id": "UKqSwY_rcROY"
   },
   "outputs": [],
   "source": [
    "import librosa\n",
    "import IPython as ipy\n",
    "import matplotlib.pyplot as plt\n",
    "\n",
    "audio, sr = librosa.load('audio_test.mp4')\n",
    "ipy.display.Audio(audio, rate=sr)"
   ]
  },
  {
   "cell_type": "code",
   "execution_count": null,
   "metadata": {
    "id": "kWxiM_EapO54"
   },
   "outputs": [],
   "source": [
    "%%time\n",
    "spect = librosa.stft(audio)\n",
    "spect.shape"
   ]
  },
  {
   "cell_type": "code",
   "execution_count": null,
   "metadata": {
    "id": "TG-rGrZ4ardC"
   },
   "outputs": [],
   "source": [
    "spect[5][100]"
   ]
  },
  {
   "cell_type": "code",
   "execution_count": null,
   "metadata": {
    "id": "AcHAjObyatIN"
   },
   "outputs": [],
   "source": [
    "abs(spect[5][100])"
   ]
  },
  {
   "cell_type": "code",
   "execution_count": null,
   "metadata": {
    "id": "hB5q5tzna1_m"
   },
   "outputs": [],
   "source": [
    "import numpy as np\n",
    "np.sqrt(0.45505363**2 + 1.5430793**2)"
   ]
  },
  {
   "cell_type": "code",
   "execution_count": null,
   "metadata": {
    "id": "hY-n3UYcbDwC"
   },
   "outputs": [],
   "source": [
    "spect = abs(spect)"
   ]
  },
  {
   "cell_type": "code",
   "execution_count": null,
   "metadata": {
    "id": "36ln9wagbb2n"
   },
   "outputs": [],
   "source": [
    "plt.imshow(spect, origin='lower');"
   ]
  },
  {
   "cell_type": "code",
   "execution_count": null,
   "metadata": {
    "id": "I0AmDPtcbhN3"
   },
   "outputs": [],
   "source": [
    "spect_db = librosa.amplitude_to_db(spect)\n",
    "spect_db"
   ]
  },
  {
   "cell_type": "code",
   "execution_count": null,
   "metadata": {
    "id": "bjRmgms0bpKe"
   },
   "outputs": [],
   "source": [
    "plt.figure(figsize=(10, 6));\n",
    "plt.imshow(spect_db, origin='lower', cmap='inferno');\n",
    "plt.show()"
   ]
  },
  {
   "cell_type": "code",
   "execution_count": null,
   "metadata": {
    "id": "6vil3tlCb3n3"
   },
   "outputs": [],
   "source": [
    "rspect = librosa.db_to_amplitude(spect_db)\n",
    "raudio = librosa.istft(rspect) # no phase info"
   ]
  },
  {
   "cell_type": "code",
   "execution_count": null,
   "metadata": {
    "id": "FWZ9Yso-c6hj"
   },
   "outputs": [],
   "source": [
    "ipy.display.Audio(raudio, rate=sr)"
   ]
  },
  {
   "cell_type": "code",
   "execution_count": null,
   "metadata": {
    "id": "LRmDbvm-d1Qy"
   },
   "outputs": [],
   "source": [
    "raudio2 = librosa.griffinlim(rspect)"
   ]
  },
  {
   "cell_type": "code",
   "execution_count": null,
   "metadata": {
    "id": "nqJwxBoYeIYy"
   },
   "outputs": [],
   "source": [
    "ipy.display.Audio(raudio2, rate=sr)"
   ]
  },
  {
   "cell_type": "code",
   "execution_count": null,
   "metadata": {
    "id": "tL25JYlBehd_"
   },
   "outputs": [],
   "source": []
  }
 ],
 "metadata": {
  "colab": {
   "provenance": []
  },
  "kernelspec": {
   "display_name": "Python 3",
   "name": "python3"
  },
  "language_info": {
   "name": "python"
  }
 },
 "nbformat": 4,
 "nbformat_minor": 0
}
