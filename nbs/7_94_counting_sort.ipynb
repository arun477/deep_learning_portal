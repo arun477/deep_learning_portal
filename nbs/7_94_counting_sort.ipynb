{
 "cells": [
  {
   "cell_type": "code",
   "execution_count": 8,
   "metadata": {
    "id": "ThLx3CfV-Uh1"
   },
   "outputs": [],
   "source": [
    "import numpy as np"
   ]
  },
  {
   "cell_type": "code",
   "execution_count": 11,
   "metadata": {
    "colab": {
     "base_uri": "https://localhost:8080/"
    },
    "id": "jiJkAkeY-V4U",
    "outputId": "a899f957-51c7-43d0-e3b1-dc44c404f99a"
   },
   "outputs": [
    {
     "data": {
      "text/plain": [
       "(10, 80)"
      ]
     },
     "execution_count": 11,
     "metadata": {},
     "output_type": "execute_result"
    }
   ],
   "source": [
    "xs = np.random.randint(0, 100, (10, 80))\n",
    "xs.shape"
   ]
  },
  {
   "cell_type": "code",
   "execution_count": 17,
   "metadata": {
    "colab": {
     "base_uri": "https://localhost:8080/"
    },
    "id": "4waERXEt-a7y",
    "outputId": "46ffd757-f5da-4536-8f2e-1f50ecfbb69a"
   },
   "outputs": [
    {
     "data": {
      "text/plain": [
       "True"
      ]
     },
     "execution_count": 17,
     "metadata": {},
     "output_type": "execute_result"
    }
   ],
   "source": [
    "x = list(xs[0])\n",
    "digit_len = len(str(max(x)))\n",
    "counts = [0] * 10**digit_len\n",
    "for num in x:\n",
    "  counts[num] += 1\n",
    "\n",
    "sorted_x = []\n",
    "for i, c in enumerate(counts):\n",
    "  if c > 0:\n",
    "    sorted_x.extend([i]*c)\n",
    "\n",
    "sorted_x == sorted(x)"
   ]
  },
  {
   "cell_type": "code",
   "execution_count": 23,
   "metadata": {
    "id": "NUszZ76f-qfZ"
   },
   "outputs": [],
   "source": [
    "def counting_sort(x):\n",
    "  digit_len = len(str(max(x)))\n",
    "  counts = [0] * 10**digit_len\n",
    "  for num in x:\n",
    "    counts[num] += 1\n",
    "\n",
    "  sorted_x = []\n",
    "  for i, c in enumerate(counts):\n",
    "    if c > 0:\n",
    "      sorted_x.extend([i]*c)\n",
    "\n",
    "  return sorted_x"
   ]
  },
  {
   "cell_type": "code",
   "execution_count": 24,
   "metadata": {
    "colab": {
     "base_uri": "https://localhost:8080/"
    },
    "id": "MY37lA1fAQWG",
    "outputId": "6b0e3668-7e8c-4b29-810f-f3000afb7b82"
   },
   "outputs": [
    {
     "data": {
      "text/plain": [
       "True"
      ]
     },
     "execution_count": 24,
     "metadata": {},
     "output_type": "execute_result"
    }
   ],
   "source": [
    "tests = []\n",
    "for x in xs:\n",
    "  x = list(x)\n",
    "  sorted_x = counting_sort(x)\n",
    "  tests.append(sorted_x == sorted(x))\n",
    "\n",
    "all(tests)"
   ]
  },
  {
   "cell_type": "code",
   "execution_count": null,
   "metadata": {
    "id": "0OlLPJCaAhr5"
   },
   "outputs": [],
   "source": []
  }
 ],
 "metadata": {
  "colab": {
   "provenance": []
  },
  "kernelspec": {
   "display_name": "Python 3",
   "name": "python3"
  },
  "language_info": {
   "name": "python"
  }
 },
 "nbformat": 4,
 "nbformat_minor": 0
}
