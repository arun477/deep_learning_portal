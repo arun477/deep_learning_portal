{
 "cells": [
  {
   "cell_type": "code",
   "execution_count": 5,
   "id": "1b6dfe59",
   "metadata": {},
   "outputs": [],
   "source": [
    "import tiktoken\n",
    "import torch"
   ]
  },
  {
   "cell_type": "code",
   "execution_count": 9,
   "id": "2b2d13ff",
   "metadata": {},
   "outputs": [
    {
     "name": "stdout",
     "output_type": "stream",
     "text": [
      "total chars: 20479\n",
      "I HAD always thought Jack Gisburn rather a cheap g\n"
     ]
    }
   ],
   "source": [
    "with open('../data/the-verdict.txt', 'r') as f:\n",
    "    raw_text = f.read()\n",
    "print('total chars:', len(raw_text))\n",
    "print(raw_text[:50])"
   ]
  },
  {
   "cell_type": "code",
   "execution_count": 16,
   "id": "44e21782",
   "metadata": {
    "scrolled": false
   },
   "outputs": [
    {
     "data": {
      "text/plain": [
       "['Hello', ',', 'world', '.', 'This', ',', 'is', 'a', 'test', '.']"
      ]
     },
     "execution_count": 16,
     "metadata": {},
     "output_type": "execute_result"
    }
   ],
   "source": [
    "import re\n",
    "\n",
    "text = 'Hello, world. This, is a test.'\n",
    "result = re.split(r'([,.]|\\s)', text)\n",
    "result = [ele.strip() for ele in result if ele.strip()]\n",
    "result"
   ]
  },
  {
   "cell_type": "code",
   "execution_count": 22,
   "id": "79f50cd5",
   "metadata": {},
   "outputs": [
    {
     "data": {
      "text/plain": [
       "['Hello', ',', 'world', '.', 'Is', 'this', '--', 'a', 'test', '?']"
      ]
     },
     "execution_count": 22,
     "metadata": {},
     "output_type": "execute_result"
    }
   ],
   "source": [
    "text = \"Hello, world. Is this-- a test?\"\n",
    "result = re.split(r'([,.:;?_!()\\']|--|\\s)', text)\n",
    "result = [ele.strip() for ele in result if ele.strip()]\n",
    "result"
   ]
  },
  {
   "cell_type": "code",
   "execution_count": 25,
   "id": "480d831c",
   "metadata": {},
   "outputs": [
    {
     "name": "stdout",
     "output_type": "stream",
     "text": [
      "['I', 'HAD', 'always', 'thought', 'Jack', 'Gisburn', 'rather', 'a', 'cheap', 'genius']\n",
      "total tokens 4690\n"
     ]
    }
   ],
   "source": [
    "preprocessed = re.split(r'([,.:;?\"_!()\\']|--|\\s)', raw_text)\n",
    "preprocessed = [ele.strip() for ele in preprocessed if ele.strip()]\n",
    "print(preprocessed[:10])\n",
    "print('total tokens', len(preprocessed))"
   ]
  },
  {
   "cell_type": "code",
   "execution_count": 26,
   "id": "9aa35198",
   "metadata": {},
   "outputs": [
    {
     "name": "stdout",
     "output_type": "stream",
     "text": [
      "vocab size 1130\n"
     ]
    }
   ],
   "source": [
    "all_words = sorted(list(set(preprocessed)))\n",
    "vocab_size = len(all_words)\n",
    "print('vocab size', vocab_size)"
   ]
  },
  {
   "cell_type": "code",
   "execution_count": 28,
   "id": "c956671c",
   "metadata": {},
   "outputs": [
    {
     "name": "stdout",
     "output_type": "stream",
     "text": [
      "0 -> !\n",
      "1 -> \"\n",
      "2 -> '\n",
      "3 -> (\n",
      "4 -> )\n",
      "5 -> ,\n",
      "6 -> --\n",
      "7 -> .\n",
      "8 -> :\n",
      "9 -> ;\n",
      "10 -> ?\n",
      "11 -> A\n",
      "12 -> Ah\n",
      "13 -> Among\n",
      "14 -> And\n",
      "15 -> Are\n",
      "16 -> Arrt\n",
      "17 -> As\n",
      "18 -> At\n",
      "19 -> Be\n",
      "20 -> Begin\n"
     ]
    }
   ],
   "source": [
    "vocab = {token:i for i,token in enumerate(all_words)}\n",
    "for token, i in vocab.items():\n",
    "    print(i, '->', token)\n",
    "    if i >= 20:\n",
    "        break"
   ]
  },
  {
   "cell_type": "code",
   "execution_count": 55,
   "id": "8ca84f70",
   "metadata": {},
   "outputs": [],
   "source": [
    "class SimpleTokenizerV1:\n",
    "    def __init__(self, vocab):\n",
    "        self.str_to_i = vocab\n",
    "        self.i_to_str = {i:s for s,i in vocab.items()}\n",
    "    \n",
    "    def encode(self, raw_text):\n",
    "        preprocessed = re.split(r'([,.:;?\"_!()\\']|--|\\s)', raw_text)\n",
    "        preprocessed = [ele.strip() for ele in preprocessed if ele.strip()]\n",
    "        ids = [self.str_to_i[s] for s in preprocessed]\n",
    "        return ids\n",
    "    \n",
    "    def decode(self, ids):\n",
    "        tokens = [self.i_to_str[id] for id in ids]\n",
    "        decoded_text =  \" \".join(tokens)\n",
    "        decoded_text = re.sub(r'\\s+([,.?!\"()\\'])', r'\\1', decoded_text)\n",
    "        return decoded_text    "
   ]
  },
  {
   "cell_type": "code",
   "execution_count": 56,
   "id": "7db689b7",
   "metadata": {
    "scrolled": true
   },
   "outputs": [
    {
     "name": "stdout",
     "output_type": "stream",
     "text": [
      "ids [1, 56, 2, 850, 988]\n",
      "decoded text \" It' s the last he painted, you know,\" Mrs. Gisburn said with pardonable pride.\n"
     ]
    }
   ],
   "source": [
    "text = \"\"\"\"It's the last he painted, you know,\" Mrs. Gisburn said with pardonable pride.\"\"\"\n",
    "sm_tokenizer = SimpleTokenizerV1(vocab)\n",
    "ids = sm_tokenizer.encode(text)\n",
    "print('ids', ids[:5])\n",
    "decoded_text = sm_tokenizer.decode(ids)\n",
    "print('decoded text', decoded_text)"
   ]
  },
  {
   "cell_type": "code",
   "execution_count": 58,
   "id": "f042bb51",
   "metadata": {},
   "outputs": [
    {
     "ename": "KeyError",
     "evalue": "'Hello'",
     "output_type": "error",
     "traceback": [
      "\u001b[0;31m---------------------------------------------------------------------------\u001b[0m",
      "\u001b[0;31mKeyError\u001b[0m                                  Traceback (most recent call last)",
      "Cell \u001b[0;32mIn[58], line 3\u001b[0m\n\u001b[1;32m      1\u001b[0m text \u001b[38;5;241m=\u001b[39m \u001b[38;5;124m\"\u001b[39m\u001b[38;5;124mHello, do you like tea. Is this-- a test?\u001b[39m\u001b[38;5;124m\"\u001b[39m\n\u001b[1;32m      2\u001b[0m sm_tokenizer \u001b[38;5;241m=\u001b[39m SimpleTokenizerV1(vocab)\n\u001b[0;32m----> 3\u001b[0m \u001b[43msm_tokenizer\u001b[49m\u001b[38;5;241;43m.\u001b[39;49m\u001b[43mencode\u001b[49m\u001b[43m(\u001b[49m\u001b[43mtext\u001b[49m\u001b[43m)\u001b[49m\n",
      "Cell \u001b[0;32mIn[55], line 9\u001b[0m, in \u001b[0;36mSimpleTokenizerV1.encode\u001b[0;34m(self, raw_text)\u001b[0m\n\u001b[1;32m      7\u001b[0m preprocessed \u001b[38;5;241m=\u001b[39m re\u001b[38;5;241m.\u001b[39msplit(\u001b[38;5;124mr\u001b[39m\u001b[38;5;124m'\u001b[39m\u001b[38;5;124m([,.:;?\u001b[39m\u001b[38;5;124m\"\u001b[39m\u001b[38;5;124m_!()\u001b[39m\u001b[38;5;130;01m\\'\u001b[39;00m\u001b[38;5;124m]|--|\u001b[39m\u001b[38;5;124m\\\u001b[39m\u001b[38;5;124ms)\u001b[39m\u001b[38;5;124m'\u001b[39m, raw_text)\n\u001b[1;32m      8\u001b[0m preprocessed \u001b[38;5;241m=\u001b[39m [ele\u001b[38;5;241m.\u001b[39mstrip() \u001b[38;5;28;01mfor\u001b[39;00m ele \u001b[38;5;129;01min\u001b[39;00m preprocessed \u001b[38;5;28;01mif\u001b[39;00m ele\u001b[38;5;241m.\u001b[39mstrip()]\n\u001b[0;32m----> 9\u001b[0m ids \u001b[38;5;241m=\u001b[39m [\u001b[38;5;28mself\u001b[39m\u001b[38;5;241m.\u001b[39mstr_to_i[s] \u001b[38;5;28;01mfor\u001b[39;00m s \u001b[38;5;129;01min\u001b[39;00m preprocessed]\n\u001b[1;32m     10\u001b[0m \u001b[38;5;28;01mreturn\u001b[39;00m ids\n",
      "Cell \u001b[0;32mIn[55], line 9\u001b[0m, in \u001b[0;36m<listcomp>\u001b[0;34m(.0)\u001b[0m\n\u001b[1;32m      7\u001b[0m preprocessed \u001b[38;5;241m=\u001b[39m re\u001b[38;5;241m.\u001b[39msplit(\u001b[38;5;124mr\u001b[39m\u001b[38;5;124m'\u001b[39m\u001b[38;5;124m([,.:;?\u001b[39m\u001b[38;5;124m\"\u001b[39m\u001b[38;5;124m_!()\u001b[39m\u001b[38;5;130;01m\\'\u001b[39;00m\u001b[38;5;124m]|--|\u001b[39m\u001b[38;5;124m\\\u001b[39m\u001b[38;5;124ms)\u001b[39m\u001b[38;5;124m'\u001b[39m, raw_text)\n\u001b[1;32m      8\u001b[0m preprocessed \u001b[38;5;241m=\u001b[39m [ele\u001b[38;5;241m.\u001b[39mstrip() \u001b[38;5;28;01mfor\u001b[39;00m ele \u001b[38;5;129;01min\u001b[39;00m preprocessed \u001b[38;5;28;01mif\u001b[39;00m ele\u001b[38;5;241m.\u001b[39mstrip()]\n\u001b[0;32m----> 9\u001b[0m ids \u001b[38;5;241m=\u001b[39m [\u001b[38;5;28;43mself\u001b[39;49m\u001b[38;5;241;43m.\u001b[39;49m\u001b[43mstr_to_i\u001b[49m\u001b[43m[\u001b[49m\u001b[43ms\u001b[49m\u001b[43m]\u001b[49m \u001b[38;5;28;01mfor\u001b[39;00m s \u001b[38;5;129;01min\u001b[39;00m preprocessed]\n\u001b[1;32m     10\u001b[0m \u001b[38;5;28;01mreturn\u001b[39;00m ids\n",
      "\u001b[0;31mKeyError\u001b[0m: 'Hello'"
     ]
    }
   ],
   "source": [
    "text = \"Hello, do you like tea. Is this-- a test?\"\n",
    "sm_tokenizer = SimpleTokenizerV1(vocab)\n",
    "sm_tokenizer.encode(text)"
   ]
  },
  {
   "cell_type": "code",
   "execution_count": 74,
   "id": "3d2e87ea",
   "metadata": {},
   "outputs": [
    {
     "name": "stdout",
     "output_type": "stream",
     "text": [
      "1132\n"
     ]
    }
   ],
   "source": [
    "preprocessed = re.split(r'([,.:;?\"_!()\\']|--|\\s)', raw_text)\n",
    "preprocessed = [ele.strip() for ele in preprocessed if ele.strip()]\n",
    "\n",
    "all_tokens = sorted(list(set(preprocessed)))\n",
    "all_tokens.extend(['<|endoftext|>', '<|unk|>'])\n",
    "vocab = {s:i for i,s in enumerate(all_tokens)}\n",
    "print(len(vocab))"
   ]
  },
  {
   "cell_type": "code",
   "execution_count": 75,
   "id": "33c0767b",
   "metadata": {},
   "outputs": [],
   "source": [
    "class SimpleTokenizerV2:\n",
    "    def __init__(self, vocab):\n",
    "        self.str_to_i = vocab\n",
    "        self.i_to_str = {i:s for s,i in vocab.items()}\n",
    "    \n",
    "    def encode(self, raw_text):\n",
    "        preprocessed = re.split(r'([,.:;?\"_!()\\']|--|\\s)', raw_text)\n",
    "        preprocessed = [ele.strip() for ele in preprocessed if ele.strip()]\n",
    "        preprocessed = [ele if ele in self.str_to_i else '<|unk|>' for ele in preprocessed]\n",
    "        ids = [self.str_to_i[s] for s in preprocessed]\n",
    "        return ids\n",
    "    \n",
    "    def decode(self, ids):\n",
    "        tokens = [self.i_to_str[id] for id in ids]\n",
    "        decoded_text =  \" \".join(tokens)\n",
    "        decoded_text = re.sub(r'\\s+([,.?!\"()\\'])', r'\\1', decoded_text)\n",
    "        return decoded_text    "
   ]
  },
  {
   "cell_type": "code",
   "execution_count": 76,
   "id": "cde44da3",
   "metadata": {},
   "outputs": [
    {
     "name": "stdout",
     "output_type": "stream",
     "text": [
      "ids [1131, 5, 355, 1126, 628, 975, 7, 1131, 999, 6, 115, 1131, 10]\n",
      "decoded texts <|unk|>, do you like tea. <|unk|> this -- a <|unk|>?\n"
     ]
    }
   ],
   "source": [
    "text = \"Hello, do you like tea. Is this-- a test?\"\n",
    "sm_tokenizer = SimpleTokenizerV2(vocab)\n",
    "ids = sm_tokenizer.encode(text)\n",
    "print('ids', ids)\n",
    "print('decoded texts', sm_tokenizer.decode(ids))"
   ]
  },
  {
   "cell_type": "code",
   "execution_count": 79,
   "id": "f6719521",
   "metadata": {},
   "outputs": [
    {
     "name": "stdout",
     "output_type": "stream",
     "text": [
      "text Hello, do you like tea? <|endoftext|> In the sunlit terraces of the palace.\n",
      "ids [1131, 5, 355, 1126, 628, 975, 10, 1130, 55, 988, 956, 984, 722, 988, 1131, 7]\n",
      "decode text <|unk|>, do you like tea? <|endoftext|> In the sunlit terraces of the <|unk|>.\n"
     ]
    }
   ],
   "source": [
    "text1 = \"Hello, do you like tea?\"\n",
    "text2 = \"In the sunlit terraces of the palace.\"\n",
    "sm_tokenizer = SimpleTokenizerV2(vocab)\n",
    "text = \" <|endoftext|> \".join([text1, text2])\n",
    "print('text', text)\n",
    "ids = sm_tokenizer.encode(text)\n",
    "print('ids', ids)\n",
    "print('decode text', sm_tokenizer.decode(ids))"
   ]
  },
  {
   "cell_type": "code",
   "execution_count": 85,
   "id": "4464301e",
   "metadata": {},
   "outputs": [
    {
     "name": "stdout",
     "output_type": "stream",
     "text": [
      "ids [15496, 11, 466, 345, 588, 8887, 30, 220, 50256, 554, 262, 4252, 18250, 8812, 2114, 286, 617, 34680, 27271, 13]\n",
      "decode text Hello, do you like tea? <|endoftext|> In the sunlit terraces of someunknownPlace.\n"
     ]
    }
   ],
   "source": [
    "text = \"Hello, do you like tea? <|endoftext|> In the sunlit terraces of someunknownPlace.\"\n",
    "gpt2_tokenizer = tiktoken.get_encoding('gpt2')\n",
    "ids = gpt2_tokenizer.encode(text, allowed_special={'<|endoftext|>'})\n",
    "print('ids', ids)\n",
    "print('decode text', gpt2_tokenizer.decode(ids))"
   ]
  },
  {
   "cell_type": "code",
   "execution_count": 86,
   "id": "8cee5e7d",
   "metadata": {},
   "outputs": [
    {
     "name": "stdout",
     "output_type": "stream",
     "text": [
      "tokens 5145\n"
     ]
    }
   ],
   "source": [
    "enc_text = gpt2_tokenizer.encode(raw_text)\n",
    "print('tokens', len(enc_text))"
   ]
  },
  {
   "cell_type": "code",
   "execution_count": 88,
   "id": "2edb6de8",
   "metadata": {},
   "outputs": [
    {
     "name": "stdout",
     "output_type": "stream",
     "text": [
      "x [290, 4920, 2241, 287]\n",
      "y [4920, 2241, 287, 257]\n"
     ]
    }
   ],
   "source": [
    "enc_sample = enc_text[50:]\n",
    "context_size = 4\n",
    "x = enc_sample[:context_size]\n",
    "y = enc_sample[1:context_size+1]\n",
    "print('x', x)\n",
    "print('y', y)"
   ]
  },
  {
   "cell_type": "code",
   "execution_count": 89,
   "id": "1ed2e918",
   "metadata": {},
   "outputs": [
    {
     "name": "stdout",
     "output_type": "stream",
     "text": [
      "[290] -> 4920\n",
      "[290, 4920] -> 2241\n",
      "[290, 4920, 2241] -> 287\n",
      "[290, 4920, 2241, 287] -> 257\n"
     ]
    }
   ],
   "source": [
    "for i in range(1, context_size+1):\n",
    "    print(enc_sample[:i], '->', enc_sample[i])"
   ]
  },
  {
   "cell_type": "code",
   "execution_count": 93,
   "id": "892543ed",
   "metadata": {},
   "outputs": [
    {
     "name": "stdout",
     "output_type": "stream",
     "text": [
      " and ->  established\n",
      " and established ->  himself\n",
      " and established himself ->  in\n",
      " and established himself in ->  a\n"
     ]
    }
   ],
   "source": [
    "for i in range(1, context_size+1):\n",
    "    print(gpt2_tokenizer.decode(enc_sample[:i]), '->', gpt2_tokenizer.decode([enc_sample[i]]))"
   ]
  },
  {
   "cell_type": "code",
   "execution_count": 94,
   "id": "857e8125",
   "metadata": {},
   "outputs": [],
   "source": [
    "import torch\n",
    "from torch.utils.data import DataLoader, Dataset"
   ]
  },
  {
   "cell_type": "code",
   "execution_count": 121,
   "id": "cdefa713",
   "metadata": {},
   "outputs": [],
   "source": [
    "class GPTDatasetV1(Dataset):\n",
    "    def __init__(self, text, tokenizer, max_len, stride):\n",
    "        self.input_ids = []\n",
    "        self.target_ids = []\n",
    "        \n",
    "        tokens = tokenizer.encode(text, allowed_special={'<|endoftext|>'})\n",
    "        \n",
    "        for i in range(0, len(tokens)-max_len, stride):\n",
    "            input_chunk = tokens[i:i+max_len]\n",
    "            target_chunk = tokens[i+1:i+max_len+1]\n",
    "            self.input_ids.append(torch.tensor(input_chunk))\n",
    "            self.target_ids.append(torch.tensor(target_chunk))\n",
    "    \n",
    "    def __len__(self):\n",
    "        return len(self.input_ids)\n",
    "    \n",
    "    def __getitem__(self, idx):\n",
    "        return self.input_ids[idx], self.target_ids[idx]"
   ]
  },
  {
   "cell_type": "code",
   "execution_count": 122,
   "id": "b16614ad",
   "metadata": {},
   "outputs": [],
   "source": [
    "def create_dataloaderv1(text, batch_size=4, max_len=256, stride=128,\n",
    "                        drop_last=True, shuffle=True, num_workers=0):\n",
    "    tokenizer = tiktoken.get_encoding('gpt2')\n",
    "    dataset = GPTDatasetV1(text, tokenizer, max_len, stride)\n",
    "    return DataLoader(\n",
    "        dataset=dataset,\n",
    "        shuffle=shuffle,\n",
    "        drop_last=drop_last,\n",
    "        num_workers=num_workers,\n",
    "        batch_size=batch_size\n",
    "    )"
   ]
  },
  {
   "cell_type": "code",
   "execution_count": 124,
   "id": "cdaa07fe",
   "metadata": {},
   "outputs": [
    {
     "name": "stdout",
     "output_type": "stream",
     "text": [
      "[tensor([[  40,  367, 2885, 1464]]), tensor([[ 367, 2885, 1464, 1807]])]\n"
     ]
    }
   ],
   "source": [
    "dataloder = create_dataloaderv1(raw_text, batch_size=1, stride=1, max_len=4, shuffle=False)\n",
    "data_iter = iter(dataloder)\n",
    "batch_1 = next(data_iter)\n",
    "print(batch_1)"
   ]
  },
  {
   "cell_type": "code",
   "execution_count": 125,
   "id": "73a9826f",
   "metadata": {},
   "outputs": [
    {
     "name": "stdout",
     "output_type": "stream",
     "text": [
      "[tensor([[ 367, 2885, 1464, 1807]]), tensor([[2885, 1464, 1807, 3619]])]\n"
     ]
    }
   ],
   "source": [
    "batch_2 = next(data_iter)\n",
    "print(batch_2)"
   ]
  },
  {
   "cell_type": "code",
   "execution_count": 126,
   "id": "73140275",
   "metadata": {},
   "outputs": [
    {
     "name": "stdout",
     "output_type": "stream",
     "text": [
      "[tensor([[   40,   367,  2885,  1464],\n",
      "        [ 1807,  3619,   402,   271],\n",
      "        [10899,  2138,   257,  7026],\n",
      "        [15632,   438,  2016,   257],\n",
      "        [  922,  5891,  1576,   438],\n",
      "        [  568,   340,   373,   645],\n",
      "        [ 1049,  5975,   284,   502],\n",
      "        [  284,  3285,   326,    11]]), tensor([[  367,  2885,  1464,  1807],\n",
      "        [ 3619,   402,   271, 10899],\n",
      "        [ 2138,   257,  7026, 15632],\n",
      "        [  438,  2016,   257,   922],\n",
      "        [ 5891,  1576,   438,   568],\n",
      "        [  340,   373,   645,  1049],\n",
      "        [ 5975,   284,   502,   284],\n",
      "        [ 3285,   326,    11,   287]])]\n"
     ]
    }
   ],
   "source": [
    "dataloder = create_dataloaderv1(raw_text, batch_size=8, max_len=4, stride=4, shuffle=False)\n",
    "data_iter = iter(dataloder)\n",
    "batch_1 = next(data_iter)\n",
    "print(batch_1)"
   ]
  },
  {
   "cell_type": "code",
   "execution_count": 127,
   "id": "e18208d5",
   "metadata": {},
   "outputs": [
    {
     "data": {
      "text/plain": [
       "tensor([[ 0.8261,  0.9677,  0.4608],\n",
       "        [ 2.3274, -0.7171, -0.8277],\n",
       "        [-0.1206,  0.1012, -1.3381],\n",
       "        [ 1.4303, -0.6018, -0.8481]], grad_fn=<EmbeddingBackward0>)"
      ]
     },
     "execution_count": 127,
     "metadata": {},
     "output_type": "execute_result"
    }
   ],
   "source": [
    "input_ids = torch.tensor([1, 2, 3, 5])\n",
    "vocab_size = 6\n",
    "output_dim = 3\n",
    "embeddding_layer = torch.nn.Embedding(vocab_size, output_dim)\n",
    "embeddding_layer(input_ids)"
   ]
  },
  {
   "cell_type": "code",
   "execution_count": 128,
   "id": "9f8d4acc",
   "metadata": {},
   "outputs": [],
   "source": [
    "vocab_size = 50257\n",
    "output_dim = 256\n",
    "\n",
    "token_embedding_layer = torch.nn.Embedding(vocab_size, output_dim)"
   ]
  },
  {
   "cell_type": "code",
   "execution_count": 131,
   "id": "7d5868e1",
   "metadata": {},
   "outputs": [
    {
     "name": "stdout",
     "output_type": "stream",
     "text": [
      "torch.Size([8, 4])\n"
     ]
    }
   ],
   "source": [
    "dataloder = create_dataloaderv1(raw_text, batch_size=8, max_len=4, stride=4, shuffle=False)\n",
    "data_iter = iter(dataloder)\n",
    "batch_1 = next(data_iter)\n",
    "print(batch_1[0].shape)"
   ]
  },
  {
   "cell_type": "code",
   "execution_count": 138,
   "id": "c221194b",
   "metadata": {},
   "outputs": [
    {
     "data": {
      "text/plain": [
       "torch.Size([8, 4, 256])"
      ]
     },
     "execution_count": 138,
     "metadata": {},
     "output_type": "execute_result"
    }
   ],
   "source": [
    "text_embedding = token_embedding_layer(batch_1[0])\n",
    "text_embedding.shape"
   ]
  },
  {
   "cell_type": "code",
   "execution_count": 139,
   "id": "9e4454bc",
   "metadata": {},
   "outputs": [],
   "source": [
    "context_len = 4\n",
    "pos_embedding_layer = torch.nn.Embedding(context_len, output_dim)"
   ]
  },
  {
   "cell_type": "code",
   "execution_count": 140,
   "id": "0eaa065d",
   "metadata": {},
   "outputs": [
    {
     "data": {
      "text/plain": [
       "torch.Size([4, 256])"
      ]
     },
     "execution_count": 140,
     "metadata": {},
     "output_type": "execute_result"
    }
   ],
   "source": [
    "pos_embedding = pos_embedding_layer(torch.arange(context_len))\n",
    "pos_embedding.shape"
   ]
  },
  {
   "cell_type": "code",
   "execution_count": 141,
   "id": "52f979a6",
   "metadata": {},
   "outputs": [
    {
     "data": {
      "text/plain": [
       "torch.Size([8, 4, 256])"
      ]
     },
     "execution_count": 141,
     "metadata": {},
     "output_type": "execute_result"
    }
   ],
   "source": [
    "input_embedding = text_embedding + pos_embedding\n",
    "input_embedding.shape"
   ]
  },
  {
   "cell_type": "code",
   "execution_count": null,
   "id": "cd8a18ea",
   "metadata": {},
   "outputs": [],
   "source": []
  }
 ],
 "metadata": {
  "kernelspec": {
   "display_name": "m",
   "language": "python",
   "name": "m"
  },
  "language_info": {
   "codemirror_mode": {
    "name": "ipython",
    "version": 3
   },
   "file_extension": ".py",
   "mimetype": "text/x-python",
   "name": "python",
   "nbconvert_exporter": "python",
   "pygments_lexer": "ipython3",
   "version": "3.9.19"
  }
 },
 "nbformat": 4,
 "nbformat_minor": 5
}
