{
 "cells": [
  {
   "cell_type": "code",
   "execution_count": 5,
   "id": "966657d0",
   "metadata": {},
   "outputs": [],
   "source": [
    "import tiktoken\n",
    "import torch"
   ]
  },
  {
   "cell_type": "code",
   "execution_count": 9,
   "id": "d9fd475d",
   "metadata": {},
   "outputs": [
    {
     "name": "stdout",
     "output_type": "stream",
     "text": [
      "total chars: 20479\n",
      "I HAD always thought Jack Gisburn rather a cheap g\n"
     ]
    }
   ],
   "source": [
    "with open('../data/the-verdict.txt', 'r') as f:\n",
    "    raw_text = f.read()\n",
    "print('total chars:', len(raw_text))\n",
    "print(raw_text[:50])"
   ]
  },
  {
   "cell_type": "code",
   "execution_count": 16,
   "id": "315bab5d",
   "metadata": {
    "scrolled": false
   },
   "outputs": [
    {
     "data": {
      "text/plain": [
       "['Hello', ',', 'world', '.', 'This', ',', 'is', 'a', 'test', '.']"
      ]
     },
     "execution_count": 16,
     "metadata": {},
     "output_type": "execute_result"
    }
   ],
   "source": [
    "import re\n",
    "\n",
    "text = 'Hello, world. This, is a test.'\n",
    "result = re.split(r'([,.]|\\s)', text)\n",
    "result = [ele.strip() for ele in result if ele.strip()]\n",
    "result"
   ]
  },
  {
   "cell_type": "code",
   "execution_count": 22,
   "id": "fac3ee50",
   "metadata": {},
   "outputs": [
    {
     "data": {
      "text/plain": [
       "['Hello', ',', 'world', '.', 'Is', 'this', '--', 'a', 'test', '?']"
      ]
     },
     "execution_count": 22,
     "metadata": {},
     "output_type": "execute_result"
    }
   ],
   "source": [
    "text = \"Hello, world. Is this-- a test?\"\n",
    "result = re.split(r'([,.:;?_!()\\']|--|\\s)', text)\n",
    "result = [ele.strip() for ele in result if ele.strip()]\n",
    "result"
   ]
  },
  {
   "cell_type": "code",
   "execution_count": 25,
   "id": "8e480978",
   "metadata": {},
   "outputs": [
    {
     "name": "stdout",
     "output_type": "stream",
     "text": [
      "['I', 'HAD', 'always', 'thought', 'Jack', 'Gisburn', 'rather', 'a', 'cheap', 'genius']\n",
      "total tokens 4690\n"
     ]
    }
   ],
   "source": [
    "preprocessed = re.split(r'([,.:;?\"_!()\\']|--|\\s)', raw_text)\n",
    "preprocessed = [ele.strip() for ele in preprocessed if ele.strip()]\n",
    "print(preprocessed[:10])\n",
    "print('total tokens', len(preprocessed))"
   ]
  },
  {
   "cell_type": "code",
   "execution_count": 26,
   "id": "1f1961e3",
   "metadata": {},
   "outputs": [
    {
     "name": "stdout",
     "output_type": "stream",
     "text": [
      "vocab size 1130\n"
     ]
    }
   ],
   "source": [
    "all_words = sorted(list(set(preprocessed)))\n",
    "vocab_size = len(all_words)\n",
    "print('vocab size', vocab_size)"
   ]
  },
  {
   "cell_type": "code",
   "execution_count": 28,
   "id": "4727a5fe",
   "metadata": {},
   "outputs": [
    {
     "name": "stdout",
     "output_type": "stream",
     "text": [
      "0 -> !\n",
      "1 -> \"\n",
      "2 -> '\n",
      "3 -> (\n",
      "4 -> )\n",
      "5 -> ,\n",
      "6 -> --\n",
      "7 -> .\n",
      "8 -> :\n",
      "9 -> ;\n",
      "10 -> ?\n",
      "11 -> A\n",
      "12 -> Ah\n",
      "13 -> Among\n",
      "14 -> And\n",
      "15 -> Are\n",
      "16 -> Arrt\n",
      "17 -> As\n",
      "18 -> At\n",
      "19 -> Be\n",
      "20 -> Begin\n"
     ]
    }
   ],
   "source": [
    "vocab = {token:i for i,token in enumerate(all_words)}\n",
    "for token, i in vocab.items():\n",
    "    print(i, '->', token)\n",
    "    if i >= 20:\n",
    "        break"
   ]
  },
  {
   "cell_type": "code",
   "execution_count": 55,
   "id": "ea99dff4",
   "metadata": {},
   "outputs": [],
   "source": [
    "class SimpleTokenizerV1:\n",
    "    def __init__(self, vocab):\n",
    "        self.str_to_i = vocab\n",
    "        self.i_to_str = {i:s for s,i in vocab.items()}\n",
    "    \n",
    "    def encode(self, raw_text):\n",
    "        preprocessed = re.split(r'([,.:;?\"_!()\\']|--|\\s)', raw_text)\n",
    "        preprocessed = [ele.strip() for ele in preprocessed if ele.strip()]\n",
    "        ids = [self.str_to_i[s] for s in preprocessed]\n",
    "        return ids\n",
    "    \n",
    "    def decode(self, ids):\n",
    "        tokens = [self.i_to_str[id] for id in ids]\n",
    "        decoded_text =  \" \".join(tokens)\n",
    "        decoded_text = re.sub(r'\\s+([,.?!\"()\\'])', r'\\1', decoded_text)\n",
    "        return decoded_text    "
   ]
  },
  {
   "cell_type": "code",
   "execution_count": 56,
   "id": "3002740a",
   "metadata": {
    "scrolled": true
   },
   "outputs": [
    {
     "name": "stdout",
     "output_type": "stream",
     "text": [
      "ids [1, 56, 2, 850, 988]\n",
      "decoded text \" It' s the last he painted, you know,\" Mrs. Gisburn said with pardonable pride.\n"
     ]
    }
   ],
   "source": [
    "text = \"\"\"\"It's the last he painted, you know,\" Mrs. Gisburn said with pardonable pride.\"\"\"\n",
    "sm_tokenizer = SimpleTokenizerV1(vocab)\n",
    "ids = sm_tokenizer.encode(text)\n",
    "print('ids', ids[:5])\n",
    "decoded_text = sm_tokenizer.decode(ids)\n",
    "print('decoded text', decoded_text)"
   ]
  },
  {
   "cell_type": "code",
   "execution_count": 58,
   "id": "7ab270d6",
   "metadata": {},
   "outputs": [
    {
     "ename": "KeyError",
     "evalue": "'Hello'",
     "output_type": "error",
     "traceback": [
      "\u001b[0;31m---------------------------------------------------------------------------\u001b[0m",
      "\u001b[0;31mKeyError\u001b[0m                                  Traceback (most recent call last)",
      "Cell \u001b[0;32mIn[58], line 3\u001b[0m\n\u001b[1;32m      1\u001b[0m text \u001b[38;5;241m=\u001b[39m \u001b[38;5;124m\"\u001b[39m\u001b[38;5;124mHello, do you like tea. Is this-- a test?\u001b[39m\u001b[38;5;124m\"\u001b[39m\n\u001b[1;32m      2\u001b[0m sm_tokenizer \u001b[38;5;241m=\u001b[39m SimpleTokenizerV1(vocab)\n\u001b[0;32m----> 3\u001b[0m \u001b[43msm_tokenizer\u001b[49m\u001b[38;5;241;43m.\u001b[39;49m\u001b[43mencode\u001b[49m\u001b[43m(\u001b[49m\u001b[43mtext\u001b[49m\u001b[43m)\u001b[49m\n",
      "Cell \u001b[0;32mIn[55], line 9\u001b[0m, in \u001b[0;36mSimpleTokenizerV1.encode\u001b[0;34m(self, raw_text)\u001b[0m\n\u001b[1;32m      7\u001b[0m preprocessed \u001b[38;5;241m=\u001b[39m re\u001b[38;5;241m.\u001b[39msplit(\u001b[38;5;124mr\u001b[39m\u001b[38;5;124m'\u001b[39m\u001b[38;5;124m([,.:;?\u001b[39m\u001b[38;5;124m\"\u001b[39m\u001b[38;5;124m_!()\u001b[39m\u001b[38;5;130;01m\\'\u001b[39;00m\u001b[38;5;124m]|--|\u001b[39m\u001b[38;5;124m\\\u001b[39m\u001b[38;5;124ms)\u001b[39m\u001b[38;5;124m'\u001b[39m, raw_text)\n\u001b[1;32m      8\u001b[0m preprocessed \u001b[38;5;241m=\u001b[39m [ele\u001b[38;5;241m.\u001b[39mstrip() \u001b[38;5;28;01mfor\u001b[39;00m ele \u001b[38;5;129;01min\u001b[39;00m preprocessed \u001b[38;5;28;01mif\u001b[39;00m ele\u001b[38;5;241m.\u001b[39mstrip()]\n\u001b[0;32m----> 9\u001b[0m ids \u001b[38;5;241m=\u001b[39m [\u001b[38;5;28mself\u001b[39m\u001b[38;5;241m.\u001b[39mstr_to_i[s] \u001b[38;5;28;01mfor\u001b[39;00m s \u001b[38;5;129;01min\u001b[39;00m preprocessed]\n\u001b[1;32m     10\u001b[0m \u001b[38;5;28;01mreturn\u001b[39;00m ids\n",
      "Cell \u001b[0;32mIn[55], line 9\u001b[0m, in \u001b[0;36m<listcomp>\u001b[0;34m(.0)\u001b[0m\n\u001b[1;32m      7\u001b[0m preprocessed \u001b[38;5;241m=\u001b[39m re\u001b[38;5;241m.\u001b[39msplit(\u001b[38;5;124mr\u001b[39m\u001b[38;5;124m'\u001b[39m\u001b[38;5;124m([,.:;?\u001b[39m\u001b[38;5;124m\"\u001b[39m\u001b[38;5;124m_!()\u001b[39m\u001b[38;5;130;01m\\'\u001b[39;00m\u001b[38;5;124m]|--|\u001b[39m\u001b[38;5;124m\\\u001b[39m\u001b[38;5;124ms)\u001b[39m\u001b[38;5;124m'\u001b[39m, raw_text)\n\u001b[1;32m      8\u001b[0m preprocessed \u001b[38;5;241m=\u001b[39m [ele\u001b[38;5;241m.\u001b[39mstrip() \u001b[38;5;28;01mfor\u001b[39;00m ele \u001b[38;5;129;01min\u001b[39;00m preprocessed \u001b[38;5;28;01mif\u001b[39;00m ele\u001b[38;5;241m.\u001b[39mstrip()]\n\u001b[0;32m----> 9\u001b[0m ids \u001b[38;5;241m=\u001b[39m [\u001b[38;5;28;43mself\u001b[39;49m\u001b[38;5;241;43m.\u001b[39;49m\u001b[43mstr_to_i\u001b[49m\u001b[43m[\u001b[49m\u001b[43ms\u001b[49m\u001b[43m]\u001b[49m \u001b[38;5;28;01mfor\u001b[39;00m s \u001b[38;5;129;01min\u001b[39;00m preprocessed]\n\u001b[1;32m     10\u001b[0m \u001b[38;5;28;01mreturn\u001b[39;00m ids\n",
      "\u001b[0;31mKeyError\u001b[0m: 'Hello'"
     ]
    }
   ],
   "source": [
    "text = \"Hello, do you like tea. Is this-- a test?\"\n",
    "sm_tokenizer = SimpleTokenizerV1(vocab)\n",
    "sm_tokenizer.encode(text)"
   ]
  },
  {
   "cell_type": "code",
   "execution_count": 74,
   "id": "7dd2c971",
   "metadata": {},
   "outputs": [
    {
     "name": "stdout",
     "output_type": "stream",
     "text": [
      "1132\n"
     ]
    }
   ],
   "source": [
    "preprocessed = re.split(r'([,.:;?\"_!()\\']|--|\\s)', raw_text)\n",
    "preprocessed = [ele.strip() for ele in preprocessed if ele.strip()]\n",
    "\n",
    "all_tokens = sorted(list(set(preprocessed)))\n",
    "all_tokens.extend(['<|endoftext|>', '<|unk|>'])\n",
    "vocab = {s:i for i,s in enumerate(all_tokens)}\n",
    "print(len(vocab))"
   ]
  },
  {
   "cell_type": "code",
   "execution_count": 75,
   "id": "b9d7a740",
   "metadata": {},
   "outputs": [],
   "source": [
    "class SimpleTokenizerV2:\n",
    "    def __init__(self, vocab):\n",
    "        self.str_to_i = vocab\n",
    "        self.i_to_str = {i:s for s,i in vocab.items()}\n",
    "    \n",
    "    def encode(self, raw_text):\n",
    "        preprocessed = re.split(r'([,.:;?\"_!()\\']|--|\\s)', raw_text)\n",
    "        preprocessed = [ele.strip() for ele in preprocessed if ele.strip()]\n",
    "        preprocessed = [ele if ele in self.str_to_i else '<|unk|>' for ele in preprocessed]\n",
    "        ids = [self.str_to_i[s] for s in preprocessed]\n",
    "        return ids\n",
    "    \n",
    "    def decode(self, ids):\n",
    "        tokens = [self.i_to_str[id] for id in ids]\n",
    "        decoded_text =  \" \".join(tokens)\n",
    "        decoded_text = re.sub(r'\\s+([,.?!\"()\\'])', r'\\1', decoded_text)\n",
    "        return decoded_text    "
   ]
  },
  {
   "cell_type": "code",
   "execution_count": 76,
   "id": "dade71ed",
   "metadata": {},
   "outputs": [
    {
     "name": "stdout",
     "output_type": "stream",
     "text": [
      "ids [1131, 5, 355, 1126, 628, 975, 7, 1131, 999, 6, 115, 1131, 10]\n",
      "decoded texts <|unk|>, do you like tea. <|unk|> this -- a <|unk|>?\n"
     ]
    }
   ],
   "source": [
    "text = \"Hello, do you like tea. Is this-- a test?\"\n",
    "sm_tokenizer = SimpleTokenizerV2(vocab)\n",
    "ids = sm_tokenizer.encode(text)\n",
    "print('ids', ids)\n",
    "print('decoded texts', sm_tokenizer.decode(ids))"
   ]
  },
  {
   "cell_type": "code",
   "execution_count": 79,
   "id": "51e7874e",
   "metadata": {},
   "outputs": [
    {
     "name": "stdout",
     "output_type": "stream",
     "text": [
      "text Hello, do you like tea? <|endoftext|> In the sunlit terraces of the palace.\n",
      "ids [1131, 5, 355, 1126, 628, 975, 10, 1130, 55, 988, 956, 984, 722, 988, 1131, 7]\n",
      "decode text <|unk|>, do you like tea? <|endoftext|> In the sunlit terraces of the <|unk|>.\n"
     ]
    }
   ],
   "source": [
    "text1 = \"Hello, do you like tea?\"\n",
    "text2 = \"In the sunlit terraces of the palace.\"\n",
    "sm_tokenizer = SimpleTokenizerV2(vocab)\n",
    "text = \" <|endoftext|> \".join([text1, text2])\n",
    "print('text', text)\n",
    "ids = sm_tokenizer.encode(text)\n",
    "print('ids', ids)\n",
    "print('decode text', sm_tokenizer.decode(ids))"
   ]
  },
  {
   "cell_type": "code",
   "execution_count": 85,
   "id": "11400886",
   "metadata": {},
   "outputs": [
    {
     "name": "stdout",
     "output_type": "stream",
     "text": [
      "ids [15496, 11, 466, 345, 588, 8887, 30, 220, 50256, 554, 262, 4252, 18250, 8812, 2114, 286, 617, 34680, 27271, 13]\n",
      "decode text Hello, do you like tea? <|endoftext|> In the sunlit terraces of someunknownPlace.\n"
     ]
    }
   ],
   "source": [
    "text = \"Hello, do you like tea? <|endoftext|> In the sunlit terraces of someunknownPlace.\"\n",
    "gpt2_tokenizer = tiktoken.get_encoding('gpt2')\n",
    "ids = gpt2_tokenizer.encode(text, allowed_special={'<|endoftext|>'})\n",
    "print('ids', ids)\n",
    "print('decode text', gpt2_tokenizer.decode(ids))"
   ]
  },
  {
   "cell_type": "code",
   "execution_count": null,
   "id": "dd0ec886",
   "metadata": {},
   "outputs": [],
   "source": []
  }
 ],
 "metadata": {
  "kernelspec": {
   "display_name": "m",
   "language": "python",
   "name": "m"
  },
  "language_info": {
   "codemirror_mode": {
    "name": "ipython",
    "version": 3
   },
   "file_extension": ".py",
   "mimetype": "text/x-python",
   "name": "python",
   "nbconvert_exporter": "python",
   "pygments_lexer": "ipython3",
   "version": "3.9.19"
  }
 },
 "nbformat": 4,
 "nbformat_minor": 5
}
