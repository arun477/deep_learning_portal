{
 "cells": [
  {
   "cell_type": "code",
   "execution_count": 1,
   "metadata": {
    "id": "T_LNaRMqu68V"
   },
   "outputs": [],
   "source": [
    "# !pip install -q sentence-transformers datasets"
   ]
  },
  {
   "cell_type": "code",
   "execution_count": 17,
   "metadata": {
    "colab": {
     "base_uri": "https://localhost:8080/"
    },
    "id": "Ar2EqUxoAMO-",
    "outputId": "16da8a5b-d730-4b7c-9b92-39a578ca15d0"
   },
   "outputs": [
    {
     "name": "stderr",
     "output_type": "stream",
     "text": [
      "/usr/local/lib/python3.10/dist-packages/huggingface_hub/file_download.py:1132: FutureWarning: `resume_download` is deprecated and will be removed in version 1.0.0. Downloads always resume when possible. If you want to force a new download, use `force_download=True`.\n",
      "  warnings.warn(\n"
     ]
    },
    {
     "data": {
      "text/plain": [
       "SentenceTransformer(\n",
       "  (0): Transformer({'max_seq_length': 128, 'do_lower_case': False}) with Transformer model: BertModel \n",
       "  (1): Pooling({'word_embedding_dimension': 768, 'pooling_mode_cls_token': False, 'pooling_mode_mean_tokens': True, 'pooling_mode_max_tokens': False, 'pooling_mode_mean_sqrt_len_tokens': False, 'pooling_mode_weightedmean_tokens': False, 'pooling_mode_lasttoken': False, 'include_prompt': True})\n",
       ")"
      ]
     },
     "execution_count": 17,
     "metadata": {},
     "output_type": "execute_result"
    }
   ],
   "source": [
    "from sentence_transformers import SentenceTransformer\n",
    "bert_model = SentenceTransformer('bert-base-nli-mean-tokens')\n",
    "bert_model"
   ]
  },
  {
   "cell_type": "code",
   "execution_count": 18,
   "metadata": {
    "id": "TyWvzd0eAMRU"
   },
   "outputs": [],
   "source": [
    "sentences = [\n",
    "    \"the fifty mannequin heads floating in the pool kind of freaked them out\",\n",
    "    \"she swore she just saw her sushi move\",\n",
    "    \"he embraced his new life as an eggplant\",\n",
    "    \"my dentist tells me that chewing bricks is very bad for your teeth\",\n",
    "    \"the dental specialist recommended an immediate stop to flossing with construction materials\"\n",
    "]"
   ]
  },
  {
   "cell_type": "code",
   "execution_count": 24,
   "metadata": {
    "colab": {
     "base_uri": "https://localhost:8080/"
    },
    "id": "THBH3Hj-AMTn",
    "outputId": "3ae7de46-7784-4ed8-990b-5e8a488efc2b"
   },
   "outputs": [
    {
     "data": {
      "text/plain": [
       "(5, 768)"
      ]
     },
     "execution_count": 24,
     "metadata": {},
     "output_type": "execute_result"
    }
   ],
   "source": [
    "embs = bert_model.encode(sentences)\n",
    "embs.shape"
   ]
  },
  {
   "cell_type": "code",
   "execution_count": 25,
   "metadata": {
    "colab": {
     "base_uri": "https://localhost:8080/"
    },
    "id": "upY1rQDIAMV9",
    "outputId": "9a184c43-fb64-4f1d-dfef-a11710167c24"
   },
   "outputs": [
    {
     "data": {
      "text/plain": [
       "tensor([[1.0000, 0.4091, 0.1091, 0.5007, 0.2994],\n",
       "        [0.4091, 1.0000, 0.4455, 0.3069, 0.3861],\n",
       "        [0.1091, 0.4455, 1.0000, 0.2079, 0.2850],\n",
       "        [0.5007, 0.3069, 0.2079, 1.0000, 0.6385],\n",
       "        [0.2994, 0.3861, 0.2850, 0.6385, 1.0000]])"
      ]
     },
     "execution_count": 25,
     "metadata": {},
     "output_type": "execute_result"
    }
   ],
   "source": [
    "import numpy as np\n",
    "from sentence_transformers import util\n",
    "sim = util.cos_sim(embs, embs)\n",
    "sim"
   ]
  },
  {
   "cell_type": "code",
   "execution_count": 30,
   "metadata": {
    "colab": {
     "base_uri": "https://localhost:8080/"
    },
    "id": "S3Wmon9cAMYE",
    "outputId": "b296438e-1b5d-4d15-c4c5-8c12389ad9a4"
   },
   "outputs": [
    {
     "name": "stdout",
     "output_type": "stream",
     "text": [
      "tensor(0.5007)\n",
      "the fifty mannequin heads floating in the pool kind of freaked them out\n",
      "my dentist tells me that chewing bricks is very bad for your teeth\n",
      "----\n",
      "tensor(0.4455)\n",
      "she swore she just saw her sushi move\n",
      "he embraced his new life as an eggplant\n",
      "----\n",
      "tensor(0.4455)\n",
      "he embraced his new life as an eggplant\n",
      "she swore she just saw her sushi move\n",
      "----\n",
      "tensor(0.6385)\n",
      "my dentist tells me that chewing bricks is very bad for your teeth\n",
      "the dental specialist recommended an immediate stop to flossing with construction materials\n",
      "----\n",
      "tensor(0.6385)\n",
      "the dental specialist recommended an immediate stop to flossing with construction materials\n",
      "my dentist tells me that chewing bricks is very bad for your teeth\n",
      "----\n"
     ]
    }
   ],
   "source": [
    "for i, emb_vec in enumerate(embs):\n",
    "    sim = util.cos_sim(emb_vec, embs)\n",
    "    argmax = sim.sort(descending=True)[1][0][1:][0]\n",
    "    score =  sim.sort(descending=True)[0][0][1:][0]\n",
    "    print(score)\n",
    "    print(sentences[i])\n",
    "    print(sentences[argmax])\n",
    "    print('----')"
   ]
  },
  {
   "cell_type": "code",
   "execution_count": 31,
   "metadata": {
    "colab": {
     "base_uri": "https://localhost:8080/"
    },
    "id": "1ZQOOYInAMaI",
    "outputId": "46a38bf7-5afb-4bb6-ed15-945367d5888e"
   },
   "outputs": [
    {
     "name": "stderr",
     "output_type": "stream",
     "text": [
      "/usr/local/lib/python3.10/dist-packages/huggingface_hub/file_download.py:1132: FutureWarning: `resume_download` is deprecated and will be removed in version 1.0.0. Downloads always resume when possible. If you want to force a new download, use `force_download=True`.\n",
      "  warnings.warn(\n"
     ]
    },
    {
     "data": {
      "text/plain": [
       "(5, 768)"
      ]
     },
     "execution_count": 31,
     "metadata": {},
     "output_type": "execute_result"
    }
   ],
   "source": [
    "mpnet_model = SentenceTransformer('all-mpnet-base-v2')\n",
    "embs = mpnet_model.encode(sentences)\n",
    "embs.shape"
   ]
  },
  {
   "cell_type": "code",
   "execution_count": 32,
   "metadata": {
    "colab": {
     "base_uri": "https://localhost:8080/"
    },
    "id": "AuLubo9hAMcj",
    "outputId": "44eef7c5-6b1a-477b-eedd-82a572565893"
   },
   "outputs": [
    {
     "name": "stdout",
     "output_type": "stream",
     "text": [
      "tensor(0.2641)\n",
      "the fifty mannequin heads floating in the pool kind of freaked them out\n",
      "she swore she just saw her sushi move\n",
      "----\n",
      "tensor(0.2641)\n",
      "she swore she just saw her sushi move\n",
      "the fifty mannequin heads floating in the pool kind of freaked them out\n",
      "----\n",
      "tensor(0.1650)\n",
      "he embraced his new life as an eggplant\n",
      "the fifty mannequin heads floating in the pool kind of freaked them out\n",
      "----\n",
      "tensor(0.5185)\n",
      "my dentist tells me that chewing bricks is very bad for your teeth\n",
      "the dental specialist recommended an immediate stop to flossing with construction materials\n",
      "----\n",
      "tensor(0.5185)\n",
      "the dental specialist recommended an immediate stop to flossing with construction materials\n",
      "my dentist tells me that chewing bricks is very bad for your teeth\n",
      "----\n"
     ]
    }
   ],
   "source": [
    "for i, emb_vec in enumerate(embs):\n",
    "    sim = util.cos_sim(emb_vec, embs)\n",
    "    argmax = sim.sort(descending=True)[1][0][1:][0]\n",
    "    score =  sim.sort(descending=True)[0][0][1:][0]\n",
    "    print(score)\n",
    "    print(sentences[i])\n",
    "    print(sentences[argmax])\n",
    "    print('----')"
   ]
  },
  {
   "cell_type": "code",
   "execution_count": 1,
   "metadata": {
    "id": "OY2-tiFWAMeT"
   },
   "outputs": [],
   "source": []
  }
 ],
 "metadata": {
  "colab": {
   "provenance": []
  },
  "kernelspec": {
   "display_name": "Python 3",
   "name": "python3"
  },
  "language_info": {
   "name": "python"
  }
 },
 "nbformat": 4,
 "nbformat_minor": 0
}
