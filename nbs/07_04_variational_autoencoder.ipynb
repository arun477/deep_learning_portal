{
 "cells": [
  {
   "cell_type": "markdown",
   "id": "f659177a",
   "metadata": {},
   "source": [
    "https://arxiv.org/pdf/1312.6114.pdf (vae paper)<br/>\n",
    "https://docs.google.com/presentation/d/1FkkhH86URDzAzjNPdCvupV6kqoBNNarVQQgB6ppZlx4/edit#slide=id.g26890724310_0_7 (latent variable models lecture notes) <br/>"
   ]
  },
  {
   "cell_type": "code",
   "execution_count": null,
   "id": "XHGM1gbp7Eos",
   "metadata": {},
   "outputs": [
    {
     "name": "stdout",
     "output_type": "stream",
     "text": [
      "Installing collected packages: dill, multiprocess, datasets\n",
      "Successfully installed datasets-2.18.0 dill-0.3.8 multiprocess-0.70.16\n",
      "Collecting wandb\n",
      "  Downloading wandb-0.16.3-py3-none-any.whl (2.2 MB)\n",
      "\u001b[2K     \u001b[90m━━━━━━━━━━━━━━━━━━━━━━━━━━━━━━━━━━━━━━━━\u001b[0m \u001b[32m2.2/2.2 MB\u001b[0m \u001b[31m16.9 MB/s\u001b[0m eta \u001b[36m0:00:00\u001b[0m\n",
      "\u001b[?25hRequirement already satisfied: Click!=8.0.0,>=7.1 in /usr/local/lib/python3.10/dist-packages (from wandb) (8.1.7)\n",
      "Collecting GitPython!=3.1.29,>=1.0.0 (from wandb)\n",
      "  Downloading GitPython-3.1.42-py3-none-any.whl (195 kB)\n",
      "\u001b[2K     \u001b[90m━━━━━━━━━━━━━━━━━━━━━━━━━━━━━━━━━━━━━━━━\u001b[0m \u001b[32m195.4/195.4 kB\u001b[0m \u001b[31m19.5 MB/s\u001b[0m eta \u001b[36m0:00:00\u001b[0m\n",
      "\u001b[?25hRequirement already satisfied: requests<3,>=2.0.0 in /usr/local/lib/python3.10/dist-packages (from wandb) (2.31.0)\n",
      "Requirement already satisfied: psutil>=5.0.0 in /usr/local/lib/python3.10/dist-packages (from wandb) (5.9.5)\n",
      "Collecting sentry-sdk>=1.0.0 (from wandb)\n",
      "  Downloading sentry_sdk-1.40.6-py2.py3-none-any.whl (258 kB)\n",
      "\u001b[2K     \u001b[90m━━━━━━━━━━━━━━━━━━━━━━━━━━━━━━━━━━━━━━━━\u001b[0m \u001b[32m258.5/258.5 kB\u001b[0m \u001b[31m26.1 MB/s\u001b[0m eta \u001b[36m0:00:00\u001b[0m\n",
      "\u001b[?25hCollecting docker-pycreds>=0.4.0 (from wandb)\n",
      "  Downloading docker_pycreds-0.4.0-py2.py3-none-any.whl (9.0 kB)\n",
      "Requirement already satisfied: PyYAML in /usr/local/lib/python3.10/dist-packages (from wandb) (6.0.1)\n",
      "Collecting setproctitle (from wandb)\n",
      "  Downloading setproctitle-1.3.3-cp310-cp310-manylinux_2_5_x86_64.manylinux1_x86_64.manylinux_2_17_x86_64.manylinux2014_x86_64.whl (30 kB)\n",
      "Requirement already satisfied: setuptools in /usr/local/lib/python3.10/dist-packages (from wandb) (67.7.2)\n",
      "Requirement already satisfied: appdirs>=1.4.3 in /usr/local/lib/python3.10/dist-packages (from wandb) (1.4.4)\n",
      "Requirement already satisfied: protobuf!=4.21.0,<5,>=3.19.0 in /usr/local/lib/python3.10/dist-packages (from wandb) (3.20.3)\n",
      "Requirement already satisfied: six>=1.4.0 in /usr/local/lib/python3.10/dist-packages (from docker-pycreds>=0.4.0->wandb) (1.16.0)\n",
      "Collecting gitdb<5,>=4.0.1 (from GitPython!=3.1.29,>=1.0.0->wandb)\n",
      "  Downloading gitdb-4.0.11-py3-none-any.whl (62 kB)\n",
      "\u001b[2K     \u001b[90m━━━━━━━━━━━━━━━━━━━━━━━━━━━━━━━━━━━━━━━━\u001b[0m \u001b[32m62.7/62.7 kB\u001b[0m \u001b[31m7.4 MB/s\u001b[0m eta \u001b[36m0:00:00\u001b[0m\n",
      "\u001b[?25hRequirement already satisfied: charset-normalizer<4,>=2 in /usr/local/lib/python3.10/dist-packages (from requests<3,>=2.0.0->wandb) (3.3.2)\n",
      "Requirement already satisfied: idna<4,>=2.5 in /usr/local/lib/python3.10/dist-packages (from requests<3,>=2.0.0->wandb) (3.6)\n",
      "Requirement already satisfied: urllib3<3,>=1.21.1 in /usr/local/lib/python3.10/dist-packages (from requests<3,>=2.0.0->wandb) (2.0.7)\n",
      "Requirement already satisfied: certifi>=2017.4.17 in /usr/local/lib/python3.10/dist-packages (from requests<3,>=2.0.0->wandb) (2024.2.2)\n",
      "Collecting smmap<6,>=3.0.1 (from gitdb<5,>=4.0.1->GitPython!=3.1.29,>=1.0.0->wandb)\n",
      "  Downloading smmap-5.0.1-py3-none-any.whl (24 kB)\n",
      "Installing collected packages: smmap, setproctitle, sentry-sdk, docker-pycreds, gitdb, GitPython, wandb\n",
      "Successfully installed GitPython-3.1.42 docker-pycreds-0.4.0 gitdb-4.0.11 sentry-sdk-1.40.6 setproctitle-1.3.3 smmap-5.0.1 wandb-0.16.3\n"
     ]
    }
   ],
   "source": [
    "!pip install datasets\n",
    "!pip install wandb"
   ]
  },
  {
   "cell_type": "code",
   "execution_count": null,
   "id": "d80f008c",
   "metadata": {},
   "outputs": [],
   "source": [
    "import torch\n",
    "import torch.nn as nn\n",
    "import torch.nn.functional as F\n",
    "import torchvision.transforms.functional as TF\n",
    "from torch.utils.data import default_collate, DataLoader\n",
    "from datasets import load_dataset\n",
    "import matplotlib.pyplot as plt\n",
    "import wandb\n",
    "import numpy as np"
   ]
  },
  {
   "cell_type": "code",
   "execution_count": null,
   "id": "0H7B2b92l47y",
   "metadata": {},
   "outputs": [
    {
     "name": "stdout",
     "output_type": "stream",
     "text": [
      "\u001b[34m\u001b[1mwandb\u001b[0m: Logging into wandb.ai. (Learn how to deploy a W&B server locally: https://wandb.me/wandb-server)\n",
      "\u001b[34m\u001b[1mwandb\u001b[0m: You can find your API key in your browser here: https://wandb.ai/authorize\n",
      "\u001b[34m\u001b[1mwandb\u001b[0m: Paste an API key from your profile and hit enter, or press ctrl+c to quit: \n",
      "\u001b[34m\u001b[1mwandb\u001b[0m: Appending key for api.wandb.ai to your netrc file: /root/.netrc\n"
     ]
    }
   ],
   "source": [
    "!wandb login"
   ]
  },
  {
   "cell_type": "markdown",
   "id": "6d1waBfrLnC8",
   "metadata": {},
   "source": []
  },
  {
   "cell_type": "code",
   "execution_count": null,
   "id": "4c9cfe87",
   "metadata": {},
   "outputs": [
    {
     "name": "stdout",
     "output_type": "stream",
     "text": [
      "device cpu\n"
     ]
    }
   ],
   "source": [
    "device = 'cuda' if torch.cuda.is_available() else 'cpu'\n",
    "print('device', device)"
   ]
  },
  {
   "cell_type": "code",
   "execution_count": null,
   "id": "a9577405",
   "metadata": {},
   "outputs": [
    {
     "name": "stderr",
     "output_type": "stream",
     "text": [
      "/usr/local/lib/python3.10/dist-packages/huggingface_hub/utils/_token.py:88: UserWarning: \n",
      "The secret `HF_TOKEN` does not exist in your Colab secrets.\n",
      "To authenticate with the Hugging Face Hub, create a token in your settings tab (https://huggingface.co/settings/tokens), set it as secret in your Google Colab and restart your session.\n",
      "You will be able to reuse this secret in all of your notebooks.\n",
      "Please note that authentication is recommended but still optional to access public models or datasets.\n",
      "  warnings.warn(\n"
     ]
    },
    {
     "data": {
      "application/vnd.jupyter.widget-view+json": {
       "model_id": "7415b8e7b03f4f17bcdffe29cca27a65",
       "version_major": 2,
       "version_minor": 0
      },
      "text/plain": [
       "Downloading data:   0%|          | 0.00/15.6M [00:00<?, ?B/s]"
      ]
     },
     "metadata": {},
     "output_type": "display_data"
    },
    {
     "data": {
      "application/vnd.jupyter.widget-view+json": {
       "model_id": "95bdf2fe6b984d979428c39ed8885380",
       "version_major": 2,
       "version_minor": 0
      },
      "text/plain": [
       "Downloading data:   0%|          | 0.00/2.60M [00:00<?, ?B/s]"
      ]
     },
     "metadata": {},
     "output_type": "display_data"
    },
    {
     "data": {
      "application/vnd.jupyter.widget-view+json": {
       "model_id": "f825eda237bc4270b797f6a4dff1eeda",
       "version_major": 2,
       "version_minor": 0
      },
      "text/plain": [
       "Generating train split:   0%|          | 0/60000 [00:00<?, ? examples/s]"
      ]
     },
     "metadata": {},
     "output_type": "display_data"
    },
    {
     "data": {
      "application/vnd.jupyter.widget-view+json": {
       "model_id": "83659b33938b409f85bcc62453bc916e",
       "version_major": 2,
       "version_minor": 0
      },
      "text/plain": [
       "Generating test split:   0%|          | 0/10000 [00:00<?, ? examples/s]"
      ]
     },
     "metadata": {},
     "output_type": "display_data"
    }
   ],
   "source": [
    "dataset = load_dataset('mnist')"
   ]
  },
  {
   "cell_type": "code",
   "execution_count": null,
   "id": "d078d9cd",
   "metadata": {},
   "outputs": [],
   "source": [
    "def transform_data(b):\n",
    "    b['image'] = [TF.to_tensor(o) for o in  b['image']]\n",
    "    return  b\n",
    "\n",
    "def collate_dict(b):\n",
    "    c = default_collate(b)\n",
    "    return (c['image'].to(device), c['label'])"
   ]
  },
  {
   "cell_type": "code",
   "execution_count": null,
   "id": "88185069",
   "metadata": {},
   "outputs": [],
   "source": [
    "batch_size = 100"
   ]
  },
  {
   "cell_type": "code",
   "execution_count": null,
   "id": "fd4474ff",
   "metadata": {},
   "outputs": [],
   "source": [
    "train_ds = dataset['train'].with_transform(transform_data)\n",
    "valid_ds = dataset['test'].with_transform(transform_data)"
   ]
  },
  {
   "cell_type": "code",
   "execution_count": null,
   "id": "d916488e",
   "metadata": {},
   "outputs": [],
   "source": [
    "train_dl = DataLoader(train_ds, batch_size=batch_size, shuffle=True, collate_fn=collate_dict)\n",
    "valid_dl = DataLoader(valid_ds, batch_size=batch_size*2, shuffle=False, collate_fn=collate_dict)"
   ]
  },
  {
   "cell_type": "code",
   "execution_count": null,
   "id": "1a91ec1b",
   "metadata": {},
   "outputs": [
    {
     "data": {
      "text/plain": [
       "(torch.Size([100, 1, 28, 28]), torch.Size([100]))"
      ]
     },
     "execution_count": null,
     "metadata": {},
     "output_type": "execute_result"
    }
   ],
   "source": [
    "xb,yb = next(iter(train_dl))\n",
    "xb.shape,yb.shape"
   ]
  },
  {
   "cell_type": "code",
   "execution_count": null,
   "id": "07782aec",
   "metadata": {},
   "outputs": [
    {
     "name": "stdout",
     "output_type": "stream",
     "text": [
      "tensor(7)\n"
     ]
    },
    {
     "data": {
      "image/png": "[encoded data removed]",
      "text/plain": [
       "<Figure size 100x100 with 1 Axes>"
      ]
     },
     "metadata": {},
     "output_type": "display_data"
    }
   ],
   "source": [
    "plt.figure(figsize=(1, 1))\n",
    "plt.imshow(xb[10][0].detach().cpu());\n",
    "plt.axis('off');\n",
    "print(yb[10])\n"
   ]
  },
  {
   "cell_type": "code",
   "execution_count": null,
   "id": "RKs40bZDgTyf",
   "metadata": {},
   "outputs": [],
   "source": []
  },
  {
   "cell_type": "markdown",
   "id": "13jfXu36f-mb",
   "metadata": {},
   "source": [
    "![image.png](data:image/png;base64,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)"
   ]
  },
  {
   "cell_type": "code",
   "execution_count": null,
   "id": "2b1ceded",
   "metadata": {},
   "outputs": [],
   "source": [
    "class VariationalAutoEncoder(nn.Module):\n",
    "    def __init__(self, latent_dim=50, beta=1):\n",
    "        super().__init__()\n",
    "        self.latent_dim = latent_dim\n",
    "        self.beta = beta\n",
    "\n",
    "        self.stride = 2\n",
    "        self.kernel_size = 3\n",
    "        self.padding = self.kernel_size//2\n",
    "\n",
    "        self.enc = nn.Sequential(*[\n",
    "            nn.Conv2d(1, 8, kernel_size=self.kernel_size, padding=self.padding, stride=self.stride),\n",
    "            nn.BatchNorm2d(8),\n",
    "            nn.ReLU(),\n",
    "            nn.Conv2d(8, 16, kernel_size=self.kernel_size, padding=self.padding, stride=self.stride),\n",
    "            nn.BatchNorm2d(16),\n",
    "            nn.ReLU(),\n",
    "            nn.Conv2d(16, 32, kernel_size=self.kernel_size, padding=self.padding, stride=self.stride),\n",
    "            nn.BatchNorm2d(32),\n",
    "            nn.ReLU(),\n",
    "            nn.Conv2d(32, 64, kernel_size=self.kernel_size, padding=self.padding, stride=self.stride),\n",
    "            nn.BatchNorm2d(64),\n",
    "            nn.ReLU(),\n",
    "            nn.Conv2d(64, 64, kernel_size=self.kernel_size, padding=self.padding, stride=self.stride),\n",
    "            nn.BatchNorm2d(64),\n",
    "            nn.ReLU(),\n",
    "            nn.Flatten(),\n",
    "            nn.Linear(64, self.latent_dim)\n",
    "        ])\n",
    "\n",
    "        self.mu_layer = nn.Linear(self.latent_dim, self.latent_dim)\n",
    "        self.log_var_layer = nn.Linear(self.latent_dim, self.latent_dim)\n",
    "\n",
    "        self.dec = nn.Sequential(*[\n",
    "            nn.Linear(self.latent_dim, 64*2*2),\n",
    "            nn.ReLU(),\n",
    "            nn.Unflatten(1, (64,2,2)),\n",
    "            nn.ConvTranspose2d(64, 32, kernel_size=self.kernel_size,\n",
    "                               padding=self.padding, stride=self.stride, output_padding=1),\n",
    "            nn.BatchNorm2d(32),\n",
    "            nn.ReLU(),\n",
    "            nn.ConvTranspose2d(32, 16, kernel_size=self.kernel_size,\n",
    "                               padding=self.padding, stride=self.stride, output_padding=1),\n",
    "            nn.BatchNorm2d(16),\n",
    "            nn.ReLU(),\n",
    "            nn.ConvTranspose2d(16, 8, kernel_size=self.kernel_size,\n",
    "                               padding=self.padding, stride=self.stride, output_padding=1),\n",
    "            nn.BatchNorm2d(8),\n",
    "\n",
    "            nn.ReLU(),\n",
    "            nn.ConvTranspose2d(8, 1, kernel_size=self.kernel_size,\n",
    "                               padding=self.padding, stride=2, output_padding=0),\n",
    "            nn.BatchNorm2d(1),\n",
    "            nn.ReLU(),\n",
    "            nn.Flatten(),\n",
    "            nn.Linear(961, 28*28),\n",
    "            nn.Unflatten(1, (1,28,28)),\n",
    "            nn.Sigmoid()\n",
    "        ])\n",
    "\n",
    "    def reparameterize(self, mu, log_var):\n",
    "      std = torch.exp(0.5*log_var)\n",
    "      eps = torch.randn_like(std)\n",
    "      return mu + eps*std\n",
    "\n",
    "    def loss(self, xb, out, mu, log_var):\n",
    "      self.rec_loss = F.mse_loss(xb, out, reduction='mean')\n",
    "      self.kl_loss = -0.5*torch.sum(1 + log_var - mu.pow(2) - log_var.exp(), dim=1).mean(dim=0)\n",
    "      return self.rec_loss + self.beta*self.kl_loss\n",
    "\n",
    "    def forward(self, x):\n",
    "        latent = self.enc(x)\n",
    "\n",
    "        mu = self.mu_layer(latent)\n",
    "        log_var = self.log_var_layer(latent)\n",
    "\n",
    "        z = self.reparameterize(mu, log_var)\n",
    "        out = self.dec(z)\n",
    "\n",
    "        return out, mu, log_var"
   ]
  },
  {
   "cell_type": "code",
   "execution_count": null,
   "id": "b43056be",
   "metadata": {},
   "outputs": [
    {
     "data": {
      "text/plain": [
       "VariationalAutoEncoder(\n",
       "  (enc): Sequential(\n",
       "    (0): Conv2d(1, 8, kernel_size=(3, 3), stride=(2, 2), padding=(1, 1))\n",
       "    (1): BatchNorm2d(8, eps=1e-05, momentum=0.1, affine=True, track_running_stats=True)\n",
       "    (2): ReLU()\n",
       "    (3): Conv2d(8, 16, kernel_size=(3, 3), stride=(2, 2), padding=(1, 1))\n",
       "    (4): BatchNorm2d(16, eps=1e-05, momentum=0.1, affine=True, track_running_stats=True)\n",
       "    (5): ReLU()\n",
       "    (6): Conv2d(16, 32, kernel_size=(3, 3), stride=(2, 2), padding=(1, 1))\n",
       "    (7): BatchNorm2d(32, eps=1e-05, momentum=0.1, affine=True, track_running_stats=True)\n",
       "    (8): ReLU()\n",
       "    (9): Conv2d(32, 64, kernel_size=(3, 3), stride=(2, 2), padding=(1, 1))\n",
       "    (10): BatchNorm2d(64, eps=1e-05, momentum=0.1, affine=True, track_running_stats=True)\n",
       "    (11): ReLU()\n",
       "    (12): Conv2d(64, 64, kernel_size=(3, 3), stride=(2, 2), padding=(1, 1))\n",
       "    (13): BatchNorm2d(64, eps=1e-05, momentum=0.1, affine=True, track_running_stats=True)\n",
       "    (14): ReLU()\n",
       "    (15): Flatten(start_dim=1, end_dim=-1)\n",
       "    (16): Linear(in_features=64, out_features=200, bias=True)\n",
       "  )\n",
       "  (mu_layer): Linear(in_features=200, out_features=200, bias=True)\n",
       "  (log_var_layer): Linear(in_features=200, out_features=200, bias=True)\n",
       "  (dec): Sequential(\n",
       "    (0): Linear(in_features=200, out_features=256, bias=True)\n",
       "    (1): ReLU()\n",
       "    (2): Unflatten(dim=1, unflattened_size=(64, 2, 2))\n",
       "    (3): ConvTranspose2d(64, 32, kernel_size=(3, 3), stride=(2, 2), padding=(1, 1), output_padding=(1, 1))\n",
       "    (4): BatchNorm2d(32, eps=1e-05, momentum=0.1, affine=True, track_running_stats=True)\n",
       "    (5): ReLU()\n",
       "    (6): ConvTranspose2d(32, 16, kernel_size=(3, 3), stride=(2, 2), padding=(1, 1), output_padding=(1, 1))\n",
       "    (7): BatchNorm2d(16, eps=1e-05, momentum=0.1, affine=True, track_running_stats=True)\n",
       "    (8): ReLU()\n",
       "    (9): ConvTranspose2d(16, 8, kernel_size=(3, 3), stride=(2, 2), padding=(1, 1), output_padding=(1, 1))\n",
       "    (10): BatchNorm2d(8, eps=1e-05, momentum=0.1, affine=True, track_running_stats=True)\n",
       "    (11): ReLU()\n",
       "    (12): ConvTranspose2d(8, 1, kernel_size=(3, 3), stride=(2, 2), padding=(1, 1))\n",
       "    (13): BatchNorm2d(1, eps=1e-05, momentum=0.1, affine=True, track_running_stats=True)\n",
       "    (14): ReLU()\n",
       "    (15): Flatten(start_dim=1, end_dim=-1)\n",
       "    (16): Linear(in_features=961, out_features=784, bias=True)\n",
       "    (17): Unflatten(dim=1, unflattened_size=(1, 28, 28))\n",
       "    (18): Sigmoid()\n",
       "  )\n",
       ")"
      ]
     },
     "execution_count": null,
     "metadata": {},
     "output_type": "execute_result"
    }
   ],
   "source": [
    "model = VariationalAutoEncoder().to(device)\n",
    "model"
   ]
  },
  {
   "cell_type": "code",
   "execution_count": null,
   "id": "214d5fb0",
   "metadata": {},
   "outputs": [
    {
     "name": "stdout",
     "output_type": "stream",
     "text": [
      "total number of parameters: 0.99M\n"
     ]
    }
   ],
   "source": [
    "total_params = sum(p.numel() for p in model.parameters() if p.requires_grad)\n",
    "total_params = f\"{total_params / 1_000_000:.2f}M\"\n",
    "print(f\"total number of parameters: {total_params}\")"
   ]
  },
  {
   "cell_type": "code",
   "execution_count": null,
   "id": "ac2f4772",
   "metadata": {},
   "outputs": [
    {
     "data": {
      "text/plain": [
       "(torch.Size([100, 1, 28, 28]), torch.Size([100, 200]), torch.Size([100, 200]))"
      ]
     },
     "execution_count": null,
     "metadata": {},
     "output_type": "execute_result"
    }
   ],
   "source": [
    "out,mu,log_var = model(xb)\n",
    "out.shape,mu.shape,log_var.shape"
   ]
  },
  {
   "cell_type": "code",
   "execution_count": null,
   "id": "a83c55a4",
   "metadata": {},
   "outputs": [
    {
     "metadata": {},
     "name": "stderr",
     "output_type": "stream",
     "text": [
      "\u001b[34m\u001b[1mwandb\u001b[0m: Currently logged in as: \u001b[33mcarlfeynman\u001b[0m. Use \u001b[1m`wandb login --relogin`\u001b[0m to force relogin\n"
     ]
    },
    {
     "data": {
      "application/vnd.jupyter.widget-view+json": {
       "model_id": "19f3e5f488b34d33b51b0b513abd17ec",
       "version_major": 2,
       "version_minor": 0
      },
      "text/plain": [
       "VBox(children=(Label(value='Waiting for wandb.init()...\\r'), FloatProgress(value=0.011113514100000228, max=1.0…"
      ]
     },
     "metadata": {},
     "output_type": "display_data"
    },
    {
     "data": {
      "text/html": [
       "Tracking run with wandb version 0.16.3"
      ],
      "text/plain": [
       "<IPython.core.display.HTML object>"
      ]
     },
     "metadata": {},
     "output_type": "display_data"
    },
    {
     "data": {
      "text/html": [
       "Run data is saved locally in <code>/content/wandb/run-20240305_070718-ucyalhok</code>"
      ],
      "text/plain": [
       "<IPython.core.display.HTML object>"
      ]
     },
     "metadata": {},
     "output_type": "display_data"
    },
    {
     "data": {
      "text/html": [
       "Syncing run <strong><a href='https://wandb.ai/carlfeynman/variational_autoencoder/runs/ucyalhok' target=\"_blank\">clean-eon-12</a></strong> to <a href='https://wandb.ai/carlfeynman/variational_autoencoder' target=\"_blank\">Weights & Biases</a> (<a href='https://wandb.me/run' target=\"_blank\">docs</a>)<br/>"
      ],
      "text/plain": [
       "<IPython.core.display.HTML object>"
      ]
     },
     "metadata": {},
     "output_type": "display_data"
    },
    {
     "data": {
      "text/html": [
       " View project at <a href='https://wandb.ai/carlfeynman/variational_autoencoder' target=\"_blank\">https://wandb.ai/carlfeynman/variational_autoencoder</a>"
      ],
      "text/plain": [
       "<IPython.core.display.HTML object>"
      ]
     },
     "metadata": {},
     "output_type": "display_data"
    },
    {
     "data": {
      "text/html": [
       " View run at <a href='https://wandb.ai/carlfeynman/variational_autoencoder/runs/ucyalhok' target=\"_blank\">https://wandb.ai/carlfeynman/variational_autoencoder/runs/ucyalhok</a>"
      ],
      "text/plain": [
       "<IPython.core.display.HTML object>"
      ]
     },
     "metadata": {},
     "output_type": "display_data"
    },
    {
     "metadata": {},
     "name": "stdout",
     "output_type": "stream",
     "text": [
      "loss 4644.9927\n",
      "loss 3844.5127\n",
      "loss 3543.4570\n",
      "loss 3472.5103\n",
      "loss 3180.6155\n",
      "loss 3218.3362\n",
      "loss 3350.7100\n",
      "loss 3223.2527\n",
      "loss 3141.1870\n",
      "loss 3564.9253\n",
      "loss 3356.9924\n",
      "loss 3191.5952\n"
     ]
    },
    {
     "ename": "KeyboardInterrupt",
     "evalue": "",
     "output_type": "error",
     "traceback": [
      "\u001b[0;31m---------------------------------------------------------------------------\u001b[0m",
      "\u001b[0;31mKeyboardInterrupt\u001b[0m                         Traceback (most recent call last)",
      "\u001b[0;32m<ipython-input-20-cc2f5c9b0f1d>\u001b[0m in \u001b[0;36m<cell line: 18>\u001b[0;34m()\u001b[0m\n\u001b[1;32m     36\u001b[0m           \u001b[0mreconstructed_img\u001b[0m \u001b[0;34m=\u001b[0m \u001b[0;34m[\u001b[0m\u001b[0mwandb\u001b[0m\u001b[0;34m.\u001b[0m\u001b[0mImage\u001b[0m\u001b[0;34m(\u001b[0m\u001b[0mo\u001b[0m\u001b[0;34m,\u001b[0m \u001b[0mcaption\u001b[0m\u001b[0;34m=\u001b[0m\u001b[0;34m\"reconstructed_img\"\u001b[0m\u001b[0;34m)\u001b[0m \u001b[0;32mfor\u001b[0m \u001b[0mo\u001b[0m \u001b[0;32min\u001b[0m \u001b[0mout\u001b[0m\u001b[0;34m.\u001b[0m\u001b[0mdetach\u001b[0m\u001b[0;34m(\u001b[0m\u001b[0;34m)\u001b[0m\u001b[0;34m.\u001b[0m\u001b[0mcpu\u001b[0m\u001b[0;34m(\u001b[0m\u001b[0;34m)\u001b[0m\u001b[0;34m[\u001b[0m\u001b[0;34m:\u001b[0m\u001b[0;36m5\u001b[0m\u001b[0;34m]\u001b[0m\u001b[0;34m]\u001b[0m\u001b[0;34m\u001b[0m\u001b[0;34m\u001b[0m\u001b[0m\n\u001b[1;32m     37\u001b[0m           \u001b[0mgenerated_sample\u001b[0m \u001b[0;34m=\u001b[0m \u001b[0;34m[\u001b[0m\u001b[0mwandb\u001b[0m\u001b[0;34m.\u001b[0m\u001b[0mImage\u001b[0m\u001b[0;34m(\u001b[0m\u001b[0mo\u001b[0m\u001b[0;34m,\u001b[0m \u001b[0mcaption\u001b[0m\u001b[0;34m=\u001b[0m\u001b[0;34m\"generated_sample\"\u001b[0m\u001b[0;34m)\u001b[0m \u001b[0;32mfor\u001b[0m \u001b[0mo\u001b[0m \u001b[0;32min\u001b[0m \u001b[0msamples_out\u001b[0m\u001b[0;34m.\u001b[0m\u001b[0mdetach\u001b[0m\u001b[0;34m(\u001b[0m\u001b[0;34m)\u001b[0m\u001b[0;34m.\u001b[0m\u001b[0mcpu\u001b[0m\u001b[0;34m(\u001b[0m\u001b[0;34m)\u001b[0m\u001b[0;34m[\u001b[0m\u001b[0;34m:\u001b[0m\u001b[0;36m5\u001b[0m\u001b[0;34m]\u001b[0m\u001b[0;34m]\u001b[0m\u001b[0;34m\u001b[0m\u001b[0;34m\u001b[0m\u001b[0m\n\u001b[0;32m---> 38\u001b[0;31m           \u001b[0mwandb\u001b[0m\u001b[0;34m.\u001b[0m\u001b[0mlog\u001b[0m\u001b[0;34m(\u001b[0m\u001b[0;34m{\u001b[0m\u001b[0;34m\"original\"\u001b[0m\u001b[0;34m:\u001b[0m \u001b[0morginial_img\u001b[0m\u001b[0;34m,\u001b[0m \u001b[0;34m\"reconstructed_img\"\u001b[0m\u001b[0;34m:\u001b[0m \u001b[0mreconstructed_img\u001b[0m\u001b[0;34m,\u001b[0m \u001b[0;34m'generated_sample'\u001b[0m\u001b[0;34m:\u001b[0m\u001b[0mgenerated_sample\u001b[0m\u001b[0;34m}\u001b[0m\u001b[0;34m)\u001b[0m\u001b[0;34m\u001b[0m\u001b[0;34m\u001b[0m\u001b[0m\n\u001b[0m\u001b[1;32m     39\u001b[0m \u001b[0;34m\u001b[0m\u001b[0m\n\u001b[1;32m     40\u001b[0m     \u001b[0mprint\u001b[0m\u001b[0;34m(\u001b[0m\u001b[0;34mf\"loss {loss.item():.4f}\"\u001b[0m\u001b[0;34m)\u001b[0m\u001b[0;34m\u001b[0m\u001b[0;34m\u001b[0m\u001b[0m\n",
      "\u001b[0;32m/usr/local/lib/python3.10/dist-packages/wandb/sdk/wandb_run.py\u001b[0m in \u001b[0;36mwrapper\u001b[0;34m(self, *args, **kwargs)\u001b[0m\n\u001b[1;32m    418\u001b[0m                     \u001b[0;32mreturn\u001b[0m \u001b[0mcls\u001b[0m\u001b[0;34m.\u001b[0m\u001b[0mDummy\u001b[0m\u001b[0;34m(\u001b[0m\u001b[0;34m)\u001b[0m\u001b[0;34m\u001b[0m\u001b[0;34m\u001b[0m\u001b[0m\n\u001b[1;32m    419\u001b[0m \u001b[0;34m\u001b[0m\u001b[0m\n\u001b[0;32m--> 420\u001b[0;31m             \u001b[0;32mreturn\u001b[0m \u001b[0mfunc\u001b[0m\u001b[0;34m(\u001b[0m\u001b[0mself\u001b[0m\u001b[0;34m,\u001b[0m \u001b[0;34m*\u001b[0m\u001b[0margs\u001b[0m\u001b[0;34m,\u001b[0m \u001b[0;34m**\u001b[0m\u001b[0mkwargs\u001b[0m\u001b[0;34m)\u001b[0m\u001b[0;34m\u001b[0m\u001b[0;34m\u001b[0m\u001b[0m\n\u001b[0m\u001b[1;32m    421\u001b[0m \u001b[0;34m\u001b[0m\u001b[0m\n\u001b[1;32m    422\u001b[0m         \u001b[0;32mreturn\u001b[0m \u001b[0mwrapper\u001b[0m\u001b[0;34m\u001b[0m\u001b[0;34m\u001b[0m\u001b[0m\n",
      "\u001b[0;32m/usr/local/lib/python3.10/dist-packages/wandb/sdk/wandb_run.py\u001b[0m in \u001b[0;36mwrapper_fn\u001b[0;34m(self, *args, **kwargs)\u001b[0m\n\u001b[1;32m    369\u001b[0m             \u001b[0;32mdef\u001b[0m \u001b[0mwrapper_fn\u001b[0m\u001b[0;34m(\u001b[0m\u001b[0mself\u001b[0m\u001b[0;34m:\u001b[0m \u001b[0mType\u001b[0m\u001b[0;34m[\u001b[0m\u001b[0;34m\"Run\"\u001b[0m\u001b[0;34m]\u001b[0m\u001b[0;34m,\u001b[0m \u001b[0;34m*\u001b[0m\u001b[0margs\u001b[0m\u001b[0;34m:\u001b[0m \u001b[0mAny\u001b[0m\u001b[0;34m,\u001b[0m \u001b[0;34m**\u001b[0m\u001b[0mkwargs\u001b[0m\u001b[0;34m:\u001b[0m \u001b[0mAny\u001b[0m\u001b[0;34m)\u001b[0m \u001b[0;34m->\u001b[0m \u001b[0mAny\u001b[0m\u001b[0;34m:\u001b[0m\u001b[0;34m\u001b[0m\u001b[0;34m\u001b[0m\u001b[0m\n\u001b[1;32m    370\u001b[0m                 \u001b[0;32mif\u001b[0m \u001b[0;32mnot\u001b[0m \u001b[0mgetattr\u001b[0m\u001b[0;34m(\u001b[0m\u001b[0mself\u001b[0m\u001b[0;34m,\u001b[0m \u001b[0;34m\"_is_finished\"\u001b[0m\u001b[0;34m,\u001b[0m \u001b[0;32mFalse\u001b[0m\u001b[0;34m)\u001b[0m\u001b[0;34m:\u001b[0m\u001b[0;34m\u001b[0m\u001b[0;34m\u001b[0m\u001b[0m\n\u001b[0;32m--> 371\u001b[0;31m                     \u001b[0;32mreturn\u001b[0m \u001b[0mfunc\u001b[0m\u001b[0;34m(\u001b[0m\u001b[0mself\u001b[0m\u001b[0;34m,\u001b[0m \u001b[0;34m*\u001b[0m\u001b[0margs\u001b[0m\u001b[0;34m,\u001b[0m \u001b[0;34m**\u001b[0m\u001b[0mkwargs\u001b[0m\u001b[0;34m)\u001b[0m\u001b[0;34m\u001b[0m\u001b[0;34m\u001b[0m\u001b[0m\n\u001b[0m\u001b[1;32m    372\u001b[0m \u001b[0;34m\u001b[0m\u001b[0m\n\u001b[1;32m    373\u001b[0m                 default_message = (\n",
      "\u001b[0;32m/usr/local/lib/python3.10/dist-packages/wandb/sdk/wandb_run.py\u001b[0m in \u001b[0;36mwrapper\u001b[0;34m(self, *args, **kwargs)\u001b[0m\n\u001b[1;32m    359\u001b[0m                     \u001b[0;32mraise\u001b[0m \u001b[0me\u001b[0m\u001b[0;34m\u001b[0m\u001b[0;34m\u001b[0m\u001b[0m\n\u001b[1;32m    360\u001b[0m                 \u001b[0mcls\u001b[0m\u001b[0;34m.\u001b[0m\u001b[0m_is_attaching\u001b[0m \u001b[0;34m=\u001b[0m \u001b[0;34m\"\"\u001b[0m\u001b[0;34m\u001b[0m\u001b[0;34m\u001b[0m\u001b[0m\n\u001b[0;32m--> 361\u001b[0;31m             \u001b[0;32mreturn\u001b[0m \u001b[0mfunc\u001b[0m\u001b[0;34m(\u001b[0m\u001b[0mself\u001b[0m\u001b[0;34m,\u001b[0m \u001b[0;34m*\u001b[0m\u001b[0margs\u001b[0m\u001b[0;34m,\u001b[0m \u001b[0;34m**\u001b[0m\u001b[0mkwargs\u001b[0m\u001b[0;34m)\u001b[0m\u001b[0;34m\u001b[0m\u001b[0;34m\u001b[0m\u001b[0m\n\u001b[0m\u001b[1;32m    362\u001b[0m \u001b[0;34m\u001b[0m\u001b[0m\n\u001b[1;32m    363\u001b[0m         \u001b[0;32mreturn\u001b[0m \u001b[0mwrapper\u001b[0m\u001b[0;34m\u001b[0m\u001b[0;34m\u001b[0m\u001b[0m\n",
      "\u001b[0;32m/usr/local/lib/python3.10/dist-packages/wandb/sdk/wandb_run.py\u001b[0m in \u001b[0;36mlog\u001b[0;34m(self, data, step, commit, sync)\u001b[0m\n\u001b[1;32m   1826\u001b[0m                 \u001b[0mrepeat\u001b[0m\u001b[0;34m=\u001b[0m\u001b[0;32mFalse\u001b[0m\u001b[0;34m,\u001b[0m\u001b[0;34m\u001b[0m\u001b[0;34m\u001b[0m\u001b[0m\n\u001b[1;32m   1827\u001b[0m             )\n\u001b[0;32m-> 1828\u001b[0;31m         \u001b[0mself\u001b[0m\u001b[0;34m.\u001b[0m\u001b[0m_log\u001b[0m\u001b[0;34m(\u001b[0m\u001b[0mdata\u001b[0m\u001b[0;34m=\u001b[0m\u001b[0mdata\u001b[0m\u001b[0;34m,\u001b[0m \u001b[0mstep\u001b[0m\u001b[0;34m=\u001b[0m\u001b[0mstep\u001b[0m\u001b[0;34m,\u001b[0m \u001b[0mcommit\u001b[0m\u001b[0;34m=\u001b[0m\u001b[0mcommit\u001b[0m\u001b[0;34m)\u001b[0m\u001b[0;34m\u001b[0m\u001b[0;34m\u001b[0m\u001b[0m\n\u001b[0m\u001b[1;32m   1829\u001b[0m \u001b[0;34m\u001b[0m\u001b[0m\n\u001b[1;32m   1830\u001b[0m     \u001b[0;34m@\u001b[0m\u001b[0m_run_decorator\u001b[0m\u001b[0;34m.\u001b[0m\u001b[0m_noop_on_finish\u001b[0m\u001b[0;34m(\u001b[0m\u001b[0;34m)\u001b[0m\u001b[0;34m\u001b[0m\u001b[0;34m\u001b[0m\u001b[0m\n",
      "\u001b[0;32m/usr/local/lib/python3.10/dist-packages/wandb/sdk/wandb_run.py\u001b[0m in \u001b[0;36m_log\u001b[0;34m(self, data, step, commit)\u001b[0m\n\u001b[1;32m   1594\u001b[0m             \u001b[0;32mraise\u001b[0m \u001b[0mValueError\u001b[0m\u001b[0;34m(\u001b[0m\u001b[0;34m\"Key values passed to `wandb.log` must be strings.\"\u001b[0m\u001b[0;34m)\u001b[0m\u001b[0;34m\u001b[0m\u001b[0;34m\u001b[0m\u001b[0m\n\u001b[1;32m   1595\u001b[0m \u001b[0;34m\u001b[0m\u001b[0m\n\u001b[0;32m-> 1596\u001b[0;31m         \u001b[0mself\u001b[0m\u001b[0;34m.\u001b[0m\u001b[0m_partial_history_callback\u001b[0m\u001b[0;34m(\u001b[0m\u001b[0mdata\u001b[0m\u001b[0;34m,\u001b[0m \u001b[0mstep\u001b[0m\u001b[0;34m,\u001b[0m \u001b[0mcommit\u001b[0m\u001b[0;34m)\u001b[0m\u001b[0;34m\u001b[0m\u001b[0;34m\u001b[0m\u001b[0m\n\u001b[0m\u001b[1;32m   1597\u001b[0m \u001b[0;34m\u001b[0m\u001b[0m\n\u001b[1;32m   1598\u001b[0m         \u001b[0;32mif\u001b[0m \u001b[0mstep\u001b[0m \u001b[0;32mis\u001b[0m \u001b[0;32mnot\u001b[0m \u001b[0;32mNone\u001b[0m\u001b[0;34m:\u001b[0m\u001b[0;34m\u001b[0m\u001b[0;34m\u001b[0m\u001b[0m\n",
      "\u001b[0;32m/usr/local/lib/python3.10/dist-packages/wandb/sdk/wandb_run.py\u001b[0m in \u001b[0;36m_partial_history_callback\u001b[0;34m(self, row, step, commit)\u001b[0m\n\u001b[1;32m   1466\u001b[0m             \u001b[0mnot_using_tensorboard\u001b[0m \u001b[0;34m=\u001b[0m \u001b[0mlen\u001b[0m\u001b[0;34m(\u001b[0m\u001b[0mwandb\u001b[0m\u001b[0;34m.\u001b[0m\u001b[0mpatched\u001b[0m\u001b[0;34m[\u001b[0m\u001b[0;34m\"tensorboard\"\u001b[0m\u001b[0;34m]\u001b[0m\u001b[0;34m)\u001b[0m \u001b[0;34m==\u001b[0m \u001b[0;36m0\u001b[0m\u001b[0;34m\u001b[0m\u001b[0;34m\u001b[0m\u001b[0m\n\u001b[1;32m   1467\u001b[0m \u001b[0;34m\u001b[0m\u001b[0m\n\u001b[0;32m-> 1468\u001b[0;31m             self._backend.interface.publish_partial_history(\n\u001b[0m\u001b[1;32m   1469\u001b[0m                 \u001b[0mrow\u001b[0m\u001b[0;34m,\u001b[0m\u001b[0;34m\u001b[0m\u001b[0;34m\u001b[0m\u001b[0m\n\u001b[1;32m   1470\u001b[0m                 \u001b[0muser_step\u001b[0m\u001b[0;34m=\u001b[0m\u001b[0mself\u001b[0m\u001b[0;34m.\u001b[0m\u001b[0m_step\u001b[0m\u001b[0;34m,\u001b[0m\u001b[0;34m\u001b[0m\u001b[0;34m\u001b[0m\u001b[0m\n",
      "\u001b[0;32m/usr/local/lib/python3.10/dist-packages/wandb/sdk/interface/interface.py\u001b[0m in \u001b[0;36mpublish_partial_history\u001b[0;34m(self, data, user_step, step, flush, publish_step, run)\u001b[0m\n\u001b[1;32m    556\u001b[0m         \u001b[0mrun\u001b[0m \u001b[0;34m=\u001b[0m \u001b[0mrun\u001b[0m \u001b[0;32mor\u001b[0m \u001b[0mself\u001b[0m\u001b[0;34m.\u001b[0m\u001b[0m_run\u001b[0m\u001b[0;34m\u001b[0m\u001b[0;34m\u001b[0m\u001b[0m\n\u001b[1;32m    557\u001b[0m \u001b[0;34m\u001b[0m\u001b[0m\n\u001b[0;32m--> 558\u001b[0;31m         \u001b[0mdata\u001b[0m \u001b[0;34m=\u001b[0m \u001b[0mhistory_dict_to_json\u001b[0m\u001b[0;34m(\u001b[0m\u001b[0mrun\u001b[0m\u001b[0;34m,\u001b[0m \u001b[0mdata\u001b[0m\u001b[0;34m,\u001b[0m \u001b[0mstep\u001b[0m\u001b[0;34m=\u001b[0m\u001b[0muser_step\u001b[0m\u001b[0;34m,\u001b[0m \u001b[0mignore_copy_err\u001b[0m\u001b[0;34m=\u001b[0m\u001b[0;32mTrue\u001b[0m\u001b[0;34m)\u001b[0m\u001b[0;34m\u001b[0m\u001b[0;34m\u001b[0m\u001b[0m\n\u001b[0m\u001b[1;32m    559\u001b[0m         \u001b[0mdata\u001b[0m\u001b[0;34m.\u001b[0m\u001b[0mpop\u001b[0m\u001b[0;34m(\u001b[0m\u001b[0;34m\"_step\"\u001b[0m\u001b[0;34m,\u001b[0m \u001b[0;32mNone\u001b[0m\u001b[0;34m)\u001b[0m\u001b[0;34m\u001b[0m\u001b[0;34m\u001b[0m\u001b[0m\n\u001b[1;32m    560\u001b[0m \u001b[0;34m\u001b[0m\u001b[0m\n",
      "\u001b[0;32m/usr/local/lib/python3.10/dist-packages/wandb/sdk/data_types/utils.py\u001b[0m in \u001b[0;36mhistory_dict_to_json\u001b[0;34m(run, payload, step, ignore_copy_err)\u001b[0m\n\u001b[1;32m     50\u001b[0m             )\n\u001b[1;32m     51\u001b[0m         \u001b[0;32melse\u001b[0m\u001b[0;34m:\u001b[0m\u001b[0;34m\u001b[0m\u001b[0;34m\u001b[0m\u001b[0m\n\u001b[0;32m---> 52\u001b[0;31m             payload[key] = val_to_json(\n\u001b[0m\u001b[1;32m     53\u001b[0m                 \u001b[0mrun\u001b[0m\u001b[0;34m,\u001b[0m \u001b[0mkey\u001b[0m\u001b[0;34m,\u001b[0m \u001b[0mval\u001b[0m\u001b[0;34m,\u001b[0m \u001b[0mnamespace\u001b[0m\u001b[0;34m=\u001b[0m\u001b[0mstep\u001b[0m\u001b[0;34m,\u001b[0m \u001b[0mignore_copy_err\u001b[0m\u001b[0;34m=\u001b[0m\u001b[0mignore_copy_err\u001b[0m\u001b[0;34m\u001b[0m\u001b[0;34m\u001b[0m\u001b[0m\n\u001b[1;32m     54\u001b[0m             )\n",
      "\u001b[0;32m/usr/local/lib/python3.10/dist-packages/wandb/sdk/data_types/utils.py\u001b[0m in \u001b[0;36mval_to_json\u001b[0;34m(run, key, val, namespace, ignore_copy_err)\u001b[0m\n\u001b[1;32m    102\u001b[0m             \u001b[0;32mif\u001b[0m \u001b[0m_server_accepts_image_filenames\u001b[0m\u001b[0;34m(\u001b[0m\u001b[0;34m)\u001b[0m\u001b[0;34m:\u001b[0m\u001b[0;34m\u001b[0m\u001b[0;34m\u001b[0m\u001b[0m\n\u001b[1;32m    103\u001b[0m                 \u001b[0;32mfor\u001b[0m \u001b[0mitem\u001b[0m \u001b[0;32min\u001b[0m \u001b[0mitems\u001b[0m\u001b[0;34m:\u001b[0m\u001b[0;34m\u001b[0m\u001b[0;34m\u001b[0m\u001b[0m\n\u001b[0;32m--> 104\u001b[0;31m                     item.bind_to_run(\n\u001b[0m\u001b[1;32m    105\u001b[0m                         \u001b[0mrun\u001b[0m\u001b[0;34m=\u001b[0m\u001b[0mrun\u001b[0m\u001b[0;34m,\u001b[0m\u001b[0;34m\u001b[0m\u001b[0;34m\u001b[0m\u001b[0m\n\u001b[1;32m    106\u001b[0m                         \u001b[0mkey\u001b[0m\u001b[0;34m=\u001b[0m\u001b[0mkey\u001b[0m\u001b[0;34m,\u001b[0m\u001b[0;34m\u001b[0m\u001b[0;34m\u001b[0m\u001b[0m\n",
      "\u001b[0;32m/usr/local/lib/python3.10/dist-packages/wandb/sdk/data_types/image.py\u001b[0m in \u001b[0;36mbind_to_run\u001b[0;34m(self, run, key, step, id_, ignore_copy_err)\u001b[0m\n\u001b[1;32m    400\u001b[0m \u001b[0;34m\u001b[0m\u001b[0m\n\u001b[1;32m    401\u001b[0m         if (\n\u001b[0;32m--> 402\u001b[0;31m             \u001b[0;32mnot\u001b[0m \u001b[0m_server_accepts_artifact_path\u001b[0m\u001b[0;34m(\u001b[0m\u001b[0;34m)\u001b[0m\u001b[0;34m\u001b[0m\u001b[0;34m\u001b[0m\u001b[0m\n\u001b[0m\u001b[1;32m    403\u001b[0m             \u001b[0;32mor\u001b[0m \u001b[0mself\u001b[0m\u001b[0;34m.\u001b[0m\u001b[0m_get_artifact_entry_ref_url\u001b[0m\u001b[0;34m(\u001b[0m\u001b[0;34m)\u001b[0m \u001b[0;32mis\u001b[0m \u001b[0;32mNone\u001b[0m\u001b[0;34m\u001b[0m\u001b[0;34m\u001b[0m\u001b[0m\n\u001b[1;32m    404\u001b[0m         ):\n",
      "\u001b[0;32m/usr/local/lib/python3.10/dist-packages/wandb/sdk/data_types/image.py\u001b[0m in \u001b[0;36m_server_accepts_artifact_path\u001b[0;34m()\u001b[0m\n\u001b[1;32m     55\u001b[0m \u001b[0;34m\u001b[0m\u001b[0m\n\u001b[1;32m     56\u001b[0m     \u001b[0mtarget_version\u001b[0m \u001b[0;34m=\u001b[0m \u001b[0;34m\"0.12.14\"\u001b[0m\u001b[0;34m\u001b[0m\u001b[0;34m\u001b[0m\u001b[0m\n\u001b[0;32m---> 57\u001b[0;31m     \u001b[0mmax_cli_version\u001b[0m \u001b[0;34m=\u001b[0m \u001b[0mutil\u001b[0m\u001b[0;34m.\u001b[0m\u001b[0m_get_max_cli_version\u001b[0m\u001b[0;34m(\u001b[0m\u001b[0;34m)\u001b[0m \u001b[0;32mif\u001b[0m \u001b[0;32mnot\u001b[0m \u001b[0mutil\u001b[0m\u001b[0;34m.\u001b[0m\u001b[0m_is_offline\u001b[0m\u001b[0;34m(\u001b[0m\u001b[0;34m)\u001b[0m \u001b[0;32melse\u001b[0m \u001b[0;32mNone\u001b[0m\u001b[0;34m\u001b[0m\u001b[0;34m\u001b[0m\u001b[0m\n\u001b[0m\u001b[1;32m     58\u001b[0m     accepts_artifact_path: bool = max_cli_version is not None and parse_version(\n\u001b[1;32m     59\u001b[0m         \u001b[0mtarget_version\u001b[0m\u001b[0;34m\u001b[0m\u001b[0;34m\u001b[0m\u001b[0m\n",
      "\u001b[0;32m/usr/local/lib/python3.10/dist-packages/wandb/util.py\u001b[0m in \u001b[0;36m_is_offline\u001b[0;34m()\u001b[0m\n\u001b[1;32m   1711\u001b[0m \u001b[0;32mdef\u001b[0m \u001b[0m_is_offline\u001b[0m\u001b[0;34m(\u001b[0m\u001b[0;34m)\u001b[0m \u001b[0;34m->\u001b[0m \u001b[0mbool\u001b[0m\u001b[0;34m:\u001b[0m\u001b[0;34m\u001b[0m\u001b[0;34m\u001b[0m\u001b[0m\n\u001b[1;32m   1712\u001b[0m     return (  # type: ignore[no-any-return]\n\u001b[0;32m-> 1713\u001b[0;31m         \u001b[0mwandb\u001b[0m\u001b[0;34m.\u001b[0m\u001b[0mrun\u001b[0m \u001b[0;32mis\u001b[0m \u001b[0;32mnot\u001b[0m \u001b[0;32mNone\u001b[0m \u001b[0;32mand\u001b[0m \u001b[0mwandb\u001b[0m\u001b[0;34m.\u001b[0m\u001b[0mrun\u001b[0m\u001b[0;34m.\u001b[0m\u001b[0msettings\u001b[0m\u001b[0;34m.\u001b[0m\u001b[0m_offline\u001b[0m\u001b[0;34m\u001b[0m\u001b[0;34m\u001b[0m\u001b[0m\n\u001b[0m\u001b[1;32m   1714\u001b[0m     ) or wandb.setup().settings._offline  # type: ignore\n\u001b[1;32m   1715\u001b[0m \u001b[0;34m\u001b[0m\u001b[0m\n",
      "\u001b[0;32m/usr/local/lib/python3.10/dist-packages/wandb/sdk/wandb_run.py\u001b[0m in \u001b[0;36mwrapper\u001b[0;34m(self, *args, **kwargs)\u001b[0m\n\u001b[1;32m    359\u001b[0m                     \u001b[0;32mraise\u001b[0m \u001b[0me\u001b[0m\u001b[0;34m\u001b[0m\u001b[0;34m\u001b[0m\u001b[0m\n\u001b[1;32m    360\u001b[0m                 \u001b[0mcls\u001b[0m\u001b[0;34m.\u001b[0m\u001b[0m_is_attaching\u001b[0m \u001b[0;34m=\u001b[0m \u001b[0;34m\"\"\u001b[0m\u001b[0;34m\u001b[0m\u001b[0;34m\u001b[0m\u001b[0m\n\u001b[0;32m--> 361\u001b[0;31m             \u001b[0;32mreturn\u001b[0m \u001b[0mfunc\u001b[0m\u001b[0;34m(\u001b[0m\u001b[0mself\u001b[0m\u001b[0;34m,\u001b[0m \u001b[0;34m*\u001b[0m\u001b[0margs\u001b[0m\u001b[0;34m,\u001b[0m \u001b[0;34m**\u001b[0m\u001b[0mkwargs\u001b[0m\u001b[0;34m)\u001b[0m\u001b[0;34m\u001b[0m\u001b[0;34m\u001b[0m\u001b[0m\n\u001b[0m\u001b[1;32m    362\u001b[0m \u001b[0;34m\u001b[0m\u001b[0m\n\u001b[1;32m    363\u001b[0m         \u001b[0;32mreturn\u001b[0m \u001b[0mwrapper\u001b[0m\u001b[0;34m\u001b[0m\u001b[0;34m\u001b[0m\u001b[0m\n",
      "\u001b[0;32m/usr/local/lib/python3.10/dist-packages/wandb/sdk/wandb_run.py\u001b[0m in \u001b[0;36msettings\u001b[0;34m(self)\u001b[0m\n\u001b[1;32m    888\u001b[0m     \u001b[0;32mdef\u001b[0m \u001b[0msettings\u001b[0m\u001b[0;34m(\u001b[0m\u001b[0mself\u001b[0m\u001b[0;34m)\u001b[0m \u001b[0;34m->\u001b[0m \u001b[0mSettings\u001b[0m\u001b[0;34m:\u001b[0m\u001b[0;34m\u001b[0m\u001b[0;34m\u001b[0m\u001b[0m\n\u001b[1;32m    889\u001b[0m         \u001b[0;34m\"\"\"A frozen copy of run's Settings object.\"\"\"\u001b[0m\u001b[0;34m\u001b[0m\u001b[0;34m\u001b[0m\u001b[0m\n\u001b[0;32m--> 890\u001b[0;31m         \u001b[0mcp\u001b[0m \u001b[0;34m=\u001b[0m \u001b[0mself\u001b[0m\u001b[0;34m.\u001b[0m\u001b[0m_settings\u001b[0m\u001b[0;34m.\u001b[0m\u001b[0mcopy\u001b[0m\u001b[0;34m(\u001b[0m\u001b[0;34m)\u001b[0m\u001b[0;34m\u001b[0m\u001b[0;34m\u001b[0m\u001b[0m\n\u001b[0m\u001b[1;32m    891\u001b[0m         \u001b[0mcp\u001b[0m\u001b[0;34m.\u001b[0m\u001b[0mfreeze\u001b[0m\u001b[0;34m(\u001b[0m\u001b[0;34m)\u001b[0m\u001b[0;34m\u001b[0m\u001b[0;34m\u001b[0m\u001b[0m\n\u001b[1;32m    892\u001b[0m         \u001b[0;32mreturn\u001b[0m \u001b[0mcp\u001b[0m\u001b[0;34m\u001b[0m\u001b[0;34m\u001b[0m\u001b[0m\n",
      "\u001b[0;32m/usr/local/lib/python3.10/dist-packages/wandb/sdk/wandb_settings.py\u001b[0m in \u001b[0;36mcopy\u001b[0;34m(self)\u001b[0m\n\u001b[1;32m   1446\u001b[0m \u001b[0;34m\u001b[0m\u001b[0m\n\u001b[1;32m   1447\u001b[0m     \u001b[0;32mdef\u001b[0m \u001b[0mcopy\u001b[0m\u001b[0;34m(\u001b[0m\u001b[0mself\u001b[0m\u001b[0;34m)\u001b[0m \u001b[0;34m->\u001b[0m \u001b[0;34m\"Settings\"\u001b[0m\u001b[0;34m:\u001b[0m\u001b[0;34m\u001b[0m\u001b[0;34m\u001b[0m\u001b[0m\n\u001b[0;32m-> 1448\u001b[0;31m         \u001b[0;32mreturn\u001b[0m \u001b[0mself\u001b[0m\u001b[0;34m.\u001b[0m\u001b[0m__copy__\u001b[0m\u001b[0;34m(\u001b[0m\u001b[0;34m)\u001b[0m\u001b[0;34m\u001b[0m\u001b[0;34m\u001b[0m\u001b[0m\n\u001b[0m\u001b[1;32m   1449\u001b[0m \u001b[0;34m\u001b[0m\u001b[0m\n\u001b[1;32m   1450\u001b[0m     \u001b[0;31m# implement the Mapping interface\u001b[0m\u001b[0;34m\u001b[0m\u001b[0;34m\u001b[0m\u001b[0m\n",
      "\u001b[0;32m/usr/local/lib/python3.10/dist-packages/wandb/sdk/wandb_settings.py\u001b[0m in \u001b[0;36m__copy__\u001b[0;34m(self)\u001b[0m\n\u001b[1;32m   1410\u001b[0m         \u001b[0;31m# get attributes that are instances of the Property class:\u001b[0m\u001b[0;34m\u001b[0m\u001b[0;34m\u001b[0m\u001b[0m\n\u001b[1;32m   1411\u001b[0m         \u001b[0mattributes\u001b[0m \u001b[0;34m=\u001b[0m \u001b[0;34m{\u001b[0m\u001b[0mk\u001b[0m\u001b[0;34m:\u001b[0m \u001b[0mv\u001b[0m \u001b[0;32mfor\u001b[0m \u001b[0mk\u001b[0m\u001b[0;34m,\u001b[0m \u001b[0mv\u001b[0m \u001b[0;32min\u001b[0m \u001b[0mself\u001b[0m\u001b[0;34m.\u001b[0m\u001b[0m__dict__\u001b[0m\u001b[0;34m.\u001b[0m\u001b[0mitems\u001b[0m\u001b[0;34m(\u001b[0m\u001b[0;34m)\u001b[0m \u001b[0;32mif\u001b[0m \u001b[0misinstance\u001b[0m\u001b[0;34m(\u001b[0m\u001b[0mv\u001b[0m\u001b[0;34m,\u001b[0m \u001b[0mProperty\u001b[0m\u001b[0;34m)\u001b[0m\u001b[0;34m}\u001b[0m\u001b[0;34m\u001b[0m\u001b[0;34m\u001b[0m\u001b[0m\n\u001b[0;32m-> 1412\u001b[0;31m         \u001b[0mnew\u001b[0m \u001b[0;34m=\u001b[0m \u001b[0mSettings\u001b[0m\u001b[0;34m(\u001b[0m\u001b[0;34m)\u001b[0m\u001b[0;34m\u001b[0m\u001b[0;34m\u001b[0m\u001b[0m\n\u001b[0m\u001b[1;32m   1413\u001b[0m         \u001b[0;31m# update properties that have deps or are dependent on in the topologically-sorted order\u001b[0m\u001b[0;34m\u001b[0m\u001b[0;34m\u001b[0m\u001b[0m\n\u001b[1;32m   1414\u001b[0m         \u001b[0;32mfor\u001b[0m \u001b[0mprop\u001b[0m \u001b[0;32min\u001b[0m \u001b[0mself\u001b[0m\u001b[0;34m.\u001b[0m\u001b[0m__modification_order\u001b[0m\u001b[0;34m:\u001b[0m\u001b[0;34m\u001b[0m\u001b[0;34m\u001b[0m\u001b[0m\n",
      "\u001b[0;32m/usr/local/lib/python3.10/dist-packages/wandb/sdk/wandb_settings.py\u001b[0m in \u001b[0;36m__init__\u001b[0;34m(self, **kwargs)\u001b[0m\n\u001b[1;32m   1319\u001b[0m         \u001b[0;31m# for runtime checks for each attribute.\u001b[0m\u001b[0;34m\u001b[0m\u001b[0;34m\u001b[0m\u001b[0m\n\u001b[1;32m   1320\u001b[0m         \u001b[0;31m# These are defaults, using Source.BASE for non-policy attributes and Source.RUN for policies.\u001b[0m\u001b[0;34m\u001b[0m\u001b[0;34m\u001b[0m\u001b[0m\n\u001b[0;32m-> 1321\u001b[0;31m         \u001b[0;32mfor\u001b[0m \u001b[0mprop\u001b[0m\u001b[0;34m,\u001b[0m \u001b[0mtype_hint\u001b[0m \u001b[0;32min\u001b[0m \u001b[0mget_type_hints\u001b[0m\u001b[0;34m(\u001b[0m\u001b[0mSettingsData\u001b[0m\u001b[0;34m)\u001b[0m\u001b[0;34m.\u001b[0m\u001b[0mitems\u001b[0m\u001b[0;34m(\u001b[0m\u001b[0;34m)\u001b[0m\u001b[0;34m:\u001b[0m\u001b[0;34m\u001b[0m\u001b[0;34m\u001b[0m\u001b[0m\n\u001b[0m\u001b[1;32m   1322\u001b[0m             \u001b[0mvalidators\u001b[0m \u001b[0;34m=\u001b[0m \u001b[0;34m[\u001b[0m\u001b[0mself\u001b[0m\u001b[0;34m.\u001b[0m\u001b[0m_validator_factory\u001b[0m\u001b[0;34m(\u001b[0m\u001b[0mtype_hint\u001b[0m\u001b[0;34m)\u001b[0m\u001b[0;34m]\u001b[0m\u001b[0;34m\u001b[0m\u001b[0;34m\u001b[0m\u001b[0m\n\u001b[1;32m   1323\u001b[0m \u001b[0;34m\u001b[0m\u001b[0m\n",
      "\u001b[0;32m/usr/lib/python3.10/typing.py\u001b[0m in \u001b[0;36mget_type_hints\u001b[0;34m(obj, globalns, localns, include_extras)\u001b[0m\n\u001b[1;32m   1817\u001b[0m             \u001b[0;32mif\u001b[0m \u001b[0misinstance\u001b[0m\u001b[0;34m(\u001b[0m\u001b[0mann\u001b[0m\u001b[0;34m,\u001b[0m \u001b[0mtypes\u001b[0m\u001b[0;34m.\u001b[0m\u001b[0mGetSetDescriptorType\u001b[0m\u001b[0;34m)\u001b[0m\u001b[0;34m:\u001b[0m\u001b[0;34m\u001b[0m\u001b[0;34m\u001b[0m\u001b[0m\n\u001b[1;32m   1818\u001b[0m                 \u001b[0mann\u001b[0m \u001b[0;34m=\u001b[0m \u001b[0;34m{\u001b[0m\u001b[0;34m}\u001b[0m\u001b[0;34m\u001b[0m\u001b[0;34m\u001b[0m\u001b[0m\n\u001b[0;32m-> 1819\u001b[0;31m             \u001b[0mbase_locals\u001b[0m \u001b[0;34m=\u001b[0m \u001b[0mdict\u001b[0m\u001b[0;34m(\u001b[0m\u001b[0mvars\u001b[0m\u001b[0;34m(\u001b[0m\u001b[0mbase\u001b[0m\u001b[0;34m)\u001b[0m\u001b[0;34m)\u001b[0m \u001b[0;32mif\u001b[0m \u001b[0mlocalns\u001b[0m \u001b[0;32mis\u001b[0m \u001b[0;32mNone\u001b[0m \u001b[0;32melse\u001b[0m \u001b[0mlocalns\u001b[0m\u001b[0;34m\u001b[0m\u001b[0;34m\u001b[0m\u001b[0m\n\u001b[0m\u001b[1;32m   1820\u001b[0m             \u001b[0;32mif\u001b[0m \u001b[0mlocalns\u001b[0m \u001b[0;32mis\u001b[0m \u001b[0;32mNone\u001b[0m \u001b[0;32mand\u001b[0m \u001b[0mglobalns\u001b[0m \u001b[0;32mis\u001b[0m \u001b[0;32mNone\u001b[0m\u001b[0;34m:\u001b[0m\u001b[0;34m\u001b[0m\u001b[0;34m\u001b[0m\u001b[0m\n\u001b[1;32m   1821\u001b[0m                 \u001b[0;31m# This is surprising, but required.  Before Python 3.10,\u001b[0m\u001b[0;34m\u001b[0m\u001b[0;34m\u001b[0m\u001b[0m\n",
      "\u001b[0;31mKeyboardInterrupt\u001b[0m: "
     ]
    }
   ],
   "source": [
    "epochs = 20\n",
    "lr = 6e-3\n",
    "model = VariationalAutoEncoder().to(device)\n",
    "opt = torch.optim.AdamW(model.parameters(), lr=lr)\n",
    "\n",
    "wandb.init(\n",
    "    project=\"variational_autoencoder\",\n",
    "    config={\n",
    "      \"batch_size\": batch_size,\n",
    "      \"learning_rate\": lr,\n",
    "      \"architecture\": \"CNN\",\n",
    "      \"dataset\": \"MNIST\",\n",
    "      \"epochs\": epochs,\n",
    "      \"total_params\": total_params,\n",
    "      \"model\":model\n",
    "    }\n",
    ")\n",
    "\n",
    "for epoch in range(epochs):\n",
    "    for xb,yb in train_dl:\n",
    "        out,mu,log_var = model(xb)\n",
    "        loss = model.loss(xb, out, mu, log_var)\n",
    "        loss.backward()\n",
    "        opt.step()\n",
    "        opt.zero_grad()\n",
    "\n",
    "        with torch.no_grad():\n",
    "          sample_mu = torch.zeros((5, model.latent_dim))\n",
    "          sample_log_var = torch.ones((5, model.latent_dim))\n",
    "          samples = model.reparameterize(sample_mu, sample_log_var)\n",
    "          samples_out = model.dec(samples)\n",
    "\n",
    "          wandb.log({\"loss\": round(loss.item(), 4),\n",
    "                     \"reconstruct_loss\": round(model.rec_loss.item(), 4),\n",
    "                     \"kl_loss\": round(model.kl_loss.item(), 4)})\n",
    "          orginial_img = [wandb.Image(o, caption=\"original\") for o in xb.detach().cpu()[:5]]\n",
    "          reconstructed_img = [wandb.Image(o, caption=\"reconstructed_img\") for o in out.detach().cpu()[:5]]\n",
    "          generated_sample = [wandb.Image(o, caption=\"generated_sample\") for o in samples_out.detach().cpu()[:5]]\n",
    "          wandb.log({\"original\": orginial_img, \"reconstructed_img\": reconstructed_img, 'generated_sample':generated_sample})\n",
    "\n",
    "    print(f\"loss {loss.item():.4f}\")\n",
    "\n",
    "wandb.finish()"
   ]
  },
  {
   "cell_type": "code",
   "execution_count": null,
   "id": "kqT0a34km4dV",
   "metadata": {},
   "outputs": [
    {
     "data": {
      "application/vnd.jupyter.widget-view+json": {
       "model_id": "1104e0ce1eb74f66bfa79e5ab4019c0c",
       "version_major": 2,
       "version_minor": 0
      },
      "text/plain": [
       "VBox(children=(Label(value='89.721 MB of 89.721 MB uploaded\\r'), FloatProgress(value=1.0, max=1.0)))"
      ]
     },
     "metadata": {},
     "output_type": "display_data"
    },
    {
     "name": "stderr",
     "output_type": "stream",
     "text": [
      "\u001b[34m\u001b[1mwandb\u001b[0m: \u001b[32m\u001b[41mERROR\u001b[0m Control-C detected -- Run data was not synced\n"
     ]
    }
   ],
   "source": [
    "# wandb.finish()"
   ]
  },
  {
   "cell_type": "code",
   "execution_count": null,
   "id": "69JuXc1gjLbe",
   "metadata": {},
   "outputs": [
    {
     "data": {
      "image/png": "[encoded data removed]",
      "text/plain": [
       "<Figure size 1500x1500 with 10 Axes>"
      ]
     },
     "metadata": {},
     "output_type": "display_data"
    }
   ],
   "source": [
    "plot_sz = 10\n",
    "_,axs = plt.subplots(1, plot_sz, figsize=(15, 15))\n",
    "for im,ax in zip(xb,axs.flat):\n",
    "  ax.imshow(im.permute(1,2,0).detach().cpu());\n",
    "  ax.axis('off')\n",
    "  ax.set_title('original', fontsize=10)"
   ]
  },
  {
   "cell_type": "code",
   "execution_count": null,
   "id": "ab839e4b",
   "metadata": {},
   "outputs": [
    {
     "data": {
      "image/png": "[encoded data removed]",
      "text/plain": [
       "<Figure size 1500x1500 with 10 Axes>"
      ]
     },
     "metadata": {},
     "output_type": "display_data"
    }
   ],
   "source": [
    "_,axs = plt.subplots(1, plot_sz, figsize=(15, 15))\n",
    "for im,ax in zip(out,axs.flat):\n",
    "  ax.imshow(im.permute(1,2,0).detach().cpu());\n",
    "  ax.axis('off')\n",
    "  ax.set_title('reconstructed', fontsize=9)"
   ]
  },
  {
   "cell_type": "code",
   "execution_count": null,
   "id": "ryIqNglcrniW",
   "metadata": {},
   "outputs": [
    {
     "data": {
      "image/png": "[encoded data removed]",
      "text/plain": [
       "<Figure size 800x800 with 5 Axes>"
      ]
     },
     "metadata": {},
     "output_type": "display_data"
    }
   ],
   "source": [
    "_,axs = plt.subplots(1, 5, figsize=(8, 8))\n",
    "for im,ax in zip(samples_out,axs.flat):\n",
    "  ax.imshow(im.permute(1,2,0).detach().cpu());\n",
    "  ax.axis('off')\n",
    "  ax.set_title('generated', fontsize=9)"
   ]
  },
  {
   "cell_type": "code",
   "execution_count": null,
   "id": "0AU3Vn-Zy9hF",
   "metadata": {},
   "outputs": [],
   "source": []
  }
 ],
 "metadata": {
  "kernelspec": {
   "display_name": "python3",
   "language": "python",
   "name": "python3"
  },
  "widgets": {
   "application/vnd.jupyter.widget-state+json": {
    "02a8eee152484fcbaf96457af6b6c293": {
     "model_module": "@jupyter-widgets/base",
     "model_module_version": "1.2.0",
     "model_name": "LayoutModel",
     "state": {
      "_model_module": "@jupyter-widgets/base",
      "_model_module_version": "1.2.0",
      "_model_name": "LayoutModel",
      "_view_count": null,
      "_view_module": "@jupyter-widgets/base",
      "_view_module_version": "1.2.0",
      "_view_name": "LayoutView",
      "align_content": null,
      "align_items": null,
      "align_self": null,
      "border": null,
      "bottom": null,
      "display": null,
      "flex": null,
      "flex_flow": null,
      "grid_area": null,
      "grid_auto_columns": null,
      "grid_auto_flow": null,
      "grid_auto_rows": null,
      "grid_column": null,
      "grid_gap": null,
      "grid_row": null,
      "grid_template_areas": null,
      "grid_template_columns": null,
      "grid_template_rows": null,
      "height": null,
      "justify_content": null,
      "justify_items": null,
      "left": null,
      "margin": null,
      "max_height": null,
      "max_width": null,
      "min_height": null,
      "min_width": null,
      "object_fit": null,
      "object_position": null,
      "order": null,
      "overflow": null,
      "overflow_x": null,
      "overflow_y": null,
      "padding": null,
      "right": null,
      "top": null,
      "visibility": null,
      "width": null
     }
    },
    "048bf57163464787936acc6f5ab8decf": {
     "model_module": "@jupyter-widgets/controls",
     "model_module_version": "1.5.0",
     "model_name": "LabelModel",
     "state": {
      "_dom_classes": [],
      "_model_module": "@jupyter-widgets/controls",
      "_model_module_version": "1.5.0",
      "_model_name": "LabelModel",
      "_view_count": null,
      "_view_module": "@jupyter-widgets/controls",
      "_view_module_version": "1.5.0",
      "_view_name": "LabelView",
      "description": "",
      "description_tooltip": null,
      "layout": "IPY_MODEL_aa18b8f75b98412c8e22047ed18cdfe5",
      "placeholder": "​",
      "style": "IPY_MODEL_a7487e5899d948de9ee9720d2503c238",
      "value": "89.721 MB of 89.721 MB uploaded\r"
     }
    },
    "06721f8acf6f41c39ae76b95fb33188f": {
     "model_module": "@jupyter-widgets/base",
     "model_module_version": "1.2.0",
     "model_name": "LayoutModel",
     "state": {
      "_model_module": "@jupyter-widgets/base",
      "_model_module_version": "1.2.0",
      "_model_name": "LayoutModel",
      "_view_count": null,
      "_view_module": "@jupyter-widgets/base",
      "_view_module_version": "1.2.0",
      "_view_name": "LayoutView",
      "align_content": null,
      "align_items": null,
      "align_self": null,
      "border": null,
      "bottom": null,
      "display": null,
      "flex": null,
      "flex_flow": null,
      "grid_area": null,
      "grid_auto_columns": null,
      "grid_auto_flow": null,
      "grid_auto_rows": null,
      "grid_column": null,
      "grid_gap": null,
      "grid_row": null,
      "grid_template_areas": null,
      "grid_template_columns": null,
      "grid_template_rows": null,
      "height": null,
      "justify_content": null,
      "justify_items": null,
      "left": null,
      "margin": null,
      "max_height": null,
      "max_width": null,
      "min_height": null,
      "min_width": null,
      "object_fit": null,
      "object_position": null,
      "order": null,
      "overflow": null,
      "overflow_x": null,
      "overflow_y": null,
      "padding": null,
      "right": null,
      "top": null,
      "visibility": null,
      "width": null
     }
    },
    "0c953811178740ceaec4fd55e4262a23": {
     "model_module": "@jupyter-widgets/controls",
     "model_module_version": "1.5.0",
     "model_name": "DescriptionStyleModel",
     "state": {
      "_model_module": "@jupyter-widgets/controls",
      "_model_module_version": "1.5.0",
      "_model_name": "DescriptionStyleModel",
      "_view_count": null,
      "_view_module": "@jupyter-widgets/base",
      "_view_module_version": "1.2.0",
      "_view_name": "StyleView",
      "description_width": ""
     }
    },
    "0f9a55d59b17433aae7cdda4497ae90a": {
     "model_module": "@jupyter-widgets/controls",
     "model_module_version": "1.5.0",
     "model_name": "ProgressStyleModel",
     "state": {
      "_model_module": "@jupyter-widgets/controls",
      "_model_module_version": "1.5.0",
      "_model_name": "ProgressStyleModel",
      "_view_count": null,
      "_view_module": "@jupyter-widgets/base",
      "_view_module_version": "1.2.0",
      "_view_name": "StyleView",
      "bar_color": null,
      "description_width": ""
     }
    },
    "1104e0ce1eb74f66bfa79e5ab4019c0c": {
     "model_module": "@jupyter-widgets/controls",
     "model_module_version": "1.5.0",
     "model_name": "VBoxModel",
     "state": {
      "_dom_classes": [],
      "_model_module": "@jupyter-widgets/controls",
      "_model_module_version": "1.5.0",
      "_model_name": "VBoxModel",
      "_view_count": null,
      "_view_module": "@jupyter-widgets/controls",
      "_view_module_version": "1.5.0",
      "_view_name": "VBoxView",
      "box_style": "",
      "children": [
       "IPY_MODEL_048bf57163464787936acc6f5ab8decf",
       "IPY_MODEL_4c72858dce4d44cf85b49e0a3efcb05e"
      ],
      "layout": "IPY_MODEL_2a09b66d9ca140fba1c8b6665f6fadfa"
     }
    },
    "13eb506b70d4413bb4a3ffa6b44cca38": {
     "model_module": "@jupyter-widgets/controls",
     "model_module_version": "1.5.0",
     "model_name": "FloatProgressModel",
     "state": {
      "_dom_classes": [],
      "_model_module": "@jupyter-widgets/controls",
      "_model_module_version": "1.5.0",
      "_model_name": "FloatProgressModel",
      "_view_count": null,
      "_view_module": "@jupyter-widgets/controls",
      "_view_module_version": "1.5.0",
      "_view_name": "ProgressView",
      "bar_style": "success",
      "description": "",
      "description_tooltip": null,
      "layout": "IPY_MODEL_fcfd0973d4524b6dae64d5acd83a6dec",
      "max": 2595890,
      "min": 0,
      "orientation": "horizontal",
      "style": "IPY_MODEL_1f410ae6c6a148738c27826cc96127c8",
      "value": 2595890
     }
    },
    "17010b8ead4c4b87befd104b1cddce89": {
     "model_module": "@jupyter-widgets/base",
     "model_module_version": "1.2.0",
     "model_name": "LayoutModel",
     "state": {
      "_model_module": "@jupyter-widgets/base",
      "_model_module_version": "1.2.0",
      "_model_name": "LayoutModel",
      "_view_count": null,
      "_view_module": "@jupyter-widgets/base",
      "_view_module_version": "1.2.0",
      "_view_name": "LayoutView",
      "align_content": null,
      "align_items": null,
      "align_self": null,
      "border": null,
      "bottom": null,
      "display": null,
      "flex": null,
      "flex_flow": null,
      "grid_area": null,
      "grid_auto_columns": null,
      "grid_auto_flow": null,
      "grid_auto_rows": null,
      "grid_column": null,
      "grid_gap": null,
      "grid_row": null,
      "grid_template_areas": null,
      "grid_template_columns": null,
      "grid_template_rows": null,
      "height": null,
      "justify_content": null,
      "justify_items": null,
      "left": null,
      "margin": null,
      "max_height": null,
      "max_width": null,
      "min_height": null,
      "min_width": null,
      "object_fit": null,
      "object_position": null,
      "order": null,
      "overflow": null,
      "overflow_x": null,
      "overflow_y": null,
      "padding": null,
      "right": null,
      "top": null,
      "visibility": null,
      "width": null
     }
    },
    "19f3e5f488b34d33b51b0b513abd17ec": {
     "model_module": "@jupyter-widgets/controls",
     "model_module_version": "1.5.0",
     "model_name": "VBoxModel",
     "state": {
      "_dom_classes": [],
      "_model_module": "@jupyter-widgets/controls",
      "_model_module_version": "1.5.0",
      "_model_name": "VBoxModel",
      "_view_count": null,
      "_view_module": "@jupyter-widgets/controls",
      "_view_module_version": "1.5.0",
      "_view_name": "VBoxView",
      "box_style": "",
      "children": [
       "IPY_MODEL_888520acc4e54d2a914cec25add5aa78",
       "IPY_MODEL_e6ca9efa416c452497136d7ccdb8c542"
      ],
      "layout": "IPY_MODEL_aba8598175d94e05ab4ec94c8f337309"
     }
    },
    "1bd521bcf2f0434e817d1251ec846351": {
     "model_module": "@jupyter-widgets/base",
     "model_module_version": "1.2.0",
     "model_name": "LayoutModel",
     "state": {
      "_model_module": "@jupyter-widgets/base",
      "_model_module_version": "1.2.0",
      "_model_name": "LayoutModel",
      "_view_count": null,
      "_view_module": "@jupyter-widgets/base",
      "_view_module_version": "1.2.0",
      "_view_name": "LayoutView",
      "align_content": null,
      "align_items": null,
      "align_self": null,
      "border": null,
      "bottom": null,
      "display": null,
      "flex": null,
      "flex_flow": null,
      "grid_area": null,
      "grid_auto_columns": null,
      "grid_auto_flow": null,
      "grid_auto_rows": null,
      "grid_column": null,
      "grid_gap": null,
      "grid_row": null,
      "grid_template_areas": null,
      "grid_template_columns": null,
      "grid_template_rows": null,
      "height": null,
      "justify_content": null,
      "justify_items": null,
      "left": null,
      "margin": null,
      "max_height": null,
      "max_width": null,
      "min_height": null,
      "min_width": null,
      "object_fit": null,
      "object_position": null,
      "order": null,
      "overflow": null,
      "overflow_x": null,
      "overflow_y": null,
      "padding": null,
      "right": null,
      "top": null,
      "visibility": null,
      "width": null
     }
    },
    "1c6c11e0961e48239680b78a603b1c50": {
     "model_module": "@jupyter-widgets/controls",
     "model_module_version": "1.5.0",
     "model_name": "DescriptionStyleModel",
     "state": {
      "_model_module": "@jupyter-widgets/controls",
      "_model_module_version": "1.5.0",
      "_model_name": "DescriptionStyleModel",
      "_view_count": null,
      "_view_module": "@jupyter-widgets/base",
      "_view_module_version": "1.2.0",
      "_view_name": "StyleView",
      "description_width": ""
     }
    },
    "1f410ae6c6a148738c27826cc96127c8": {
     "model_module": "@jupyter-widgets/controls",
     "model_module_version": "1.5.0",
     "model_name": "ProgressStyleModel",
     "state": {
      "_model_module": "@jupyter-widgets/controls",
      "_model_module_version": "1.5.0",
      "_model_name": "ProgressStyleModel",
      "_view_count": null,
      "_view_module": "@jupyter-widgets/base",
      "_view_module_version": "1.2.0",
      "_view_name": "StyleView",
      "bar_color": null,
      "description_width": ""
     }
    },
    "217cf5fc5c7a441d9b11f3d4d9f4b91d": {
     "model_module": "@jupyter-widgets/base",
     "model_module_version": "1.2.0",
     "model_name": "LayoutModel",
     "state": {
      "_model_module": "@jupyter-widgets/base",
      "_model_module_version": "1.2.0",
      "_model_name": "LayoutModel",
      "_view_count": null,
      "_view_module": "@jupyter-widgets/base",
      "_view_module_version": "1.2.0",
      "_view_name": "LayoutView",
      "align_content": null,
      "align_items": null,
      "align_self": null,
      "border": null,
      "bottom": null,
      "display": null,
      "flex": null,
      "flex_flow": null,
      "grid_area": null,
      "grid_auto_columns": null,
      "grid_auto_flow": null,
      "grid_auto_rows": null,
      "grid_column": null,
      "grid_gap": null,
      "grid_row": null,
      "grid_template_areas": null,
      "grid_template_columns": null,
      "grid_template_rows": null,
      "height": null,
      "justify_content": null,
      "justify_items": null,
      "left": null,
      "margin": null,
      "max_height": null,
      "max_width": null,
      "min_height": null,
      "min_width": null,
      "object_fit": null,
      "object_position": null,
      "order": null,
      "overflow": null,
      "overflow_x": null,
      "overflow_y": null,
      "padding": null,
      "right": null,
      "top": null,
      "visibility": null,
      "width": null
     }
    },
    "2a09b66d9ca140fba1c8b6665f6fadfa": {
     "model_module": "@jupyter-widgets/base",
     "model_module_version": "1.2.0",
     "model_name": "LayoutModel",
     "state": {
      "_model_module": "@jupyter-widgets/base",
      "_model_module_version": "1.2.0",
      "_model_name": "LayoutModel",
      "_view_count": null,
      "_view_module": "@jupyter-widgets/base",
      "_view_module_version": "1.2.0",
      "_view_name": "LayoutView",
      "align_content": null,
      "align_items": null,
      "align_self": null,
      "border": null,
      "bottom": null,
      "display": null,
      "flex": null,
      "flex_flow": null,
      "grid_area": null,
      "grid_auto_columns": null,
      "grid_auto_flow": null,
      "grid_auto_rows": null,
      "grid_column": null,
      "grid_gap": null,
      "grid_row": null,
      "grid_template_areas": null,
      "grid_template_columns": null,
      "grid_template_rows": null,
      "height": null,
      "justify_content": null,
      "justify_items": null,
      "left": null,
      "margin": null,
      "max_height": null,
      "max_width": null,
      "min_height": null,
      "min_width": null,
      "object_fit": null,
      "object_position": null,
      "order": null,
      "overflow": null,
      "overflow_x": null,
      "overflow_y": null,
      "padding": null,
      "right": null,
      "top": null,
      "visibility": null,
      "width": null
     }
    },
    "3a52bc869a574a01a4f1e66767c8a3fb": {
     "model_module": "@jupyter-widgets/controls",
     "model_module_version": "1.5.0",
     "model_name": "DescriptionStyleModel",
     "state": {
      "_model_module": "@jupyter-widgets/controls",
      "_model_module_version": "1.5.0",
      "_model_name": "DescriptionStyleModel",
      "_view_count": null,
      "_view_module": "@jupyter-widgets/base",
      "_view_module_version": "1.2.0",
      "_view_name": "StyleView",
      "description_width": ""
     }
    },
    "3c41d906933742709353a83820acbb55": {
     "model_module": "@jupyter-widgets/base",
     "model_module_version": "1.2.0",
     "model_name": "LayoutModel",
     "state": {
      "_model_module": "@jupyter-widgets/base",
      "_model_module_version": "1.2.0",
      "_model_name": "LayoutModel",
      "_view_count": null,
      "_view_module": "@jupyter-widgets/base",
      "_view_module_version": "1.2.0",
      "_view_name": "LayoutView",
      "align_content": null,
      "align_items": null,
      "align_self": null,
      "border": null,
      "bottom": null,
      "display": null,
      "flex": null,
      "flex_flow": null,
      "grid_area": null,
      "grid_auto_columns": null,
      "grid_auto_flow": null,
      "grid_auto_rows": null,
      "grid_column": null,
      "grid_gap": null,
      "grid_row": null,
      "grid_template_areas": null,
      "grid_template_columns": null,
      "grid_template_rows": null,
      "height": null,
      "justify_content": null,
      "justify_items": null,
      "left": null,
      "margin": null,
      "max_height": null,
      "max_width": null,
      "min_height": null,
      "min_width": null,
      "object_fit": null,
      "object_position": null,
      "order": null,
      "overflow": null,
      "overflow_x": null,
      "overflow_y": null,
      "padding": null,
      "right": null,
      "top": null,
      "visibility": null,
      "width": null
     }
    },
    "43c4e4a0ac464aa4a1aaf1214c0127ce": {
     "model_module": "@jupyter-widgets/controls",
     "model_module_version": "1.5.0",
     "model_name": "HTMLModel",
     "state": {
      "_dom_classes": [],
      "_model_module": "@jupyter-widgets/controls",
      "_model_module_version": "1.5.0",
      "_model_name": "HTMLModel",
      "_view_count": null,
      "_view_module": "@jupyter-widgets/controls",
      "_view_module_version": "1.5.0",
      "_view_name": "HTMLView",
      "description": "",
      "description_tooltip": null,
      "layout": "IPY_MODEL_59a87ea93a4741b0a5f58d4d2bdd9450",
      "placeholder": "​",
      "style": "IPY_MODEL_7f9fc766c1d145d098d6aae6d953e504",
      "value": "Downloading data: 100%"
     }
    },
    "45c1cf6437e04252a367961c150c62f6": {
     "model_module": "@jupyter-widgets/base",
     "model_module_version": "1.2.0",
     "model_name": "LayoutModel",
     "state": {
      "_model_module": "@jupyter-widgets/base",
      "_model_module_version": "1.2.0",
      "_model_name": "LayoutModel",
      "_view_count": null,
      "_view_module": "@jupyter-widgets/base",
      "_view_module_version": "1.2.0",
      "_view_name": "LayoutView",
      "align_content": null,
      "align_items": null,
      "align_self": null,
      "border": null,
      "bottom": null,
      "display": null,
      "flex": null,
      "flex_flow": null,
      "grid_area": null,
      "grid_auto_columns": null,
      "grid_auto_flow": null,
      "grid_auto_rows": null,
      "grid_column": null,
      "grid_gap": null,
      "grid_row": null,
      "grid_template_areas": null,
      "grid_template_columns": null,
      "grid_template_rows": null,
      "height": null,
      "justify_content": null,
      "justify_items": null,
      "left": null,
      "margin": null,
      "max_height": null,
      "max_width": null,
      "min_height": null,
      "min_width": null,
      "object_fit": null,
      "object_position": null,
      "order": null,
      "overflow": null,
      "overflow_x": null,
      "overflow_y": null,
      "padding": null,
      "right": null,
      "top": null,
      "visibility": null,
      "width": null
     }
    },
    "4c72858dce4d44cf85b49e0a3efcb05e": {
     "model_module": "@jupyter-widgets/controls",
     "model_module_version": "1.5.0",
     "model_name": "FloatProgressModel",
     "state": {
      "_dom_classes": [],
      "_model_module": "@jupyter-widgets/controls",
      "_model_module_version": "1.5.0",
      "_model_name": "FloatProgressModel",
      "_view_count": null,
      "_view_module": "@jupyter-widgets/controls",
      "_view_module_version": "1.5.0",
      "_view_name": "ProgressView",
      "bar_style": "",
      "description": "",
      "description_tooltip": null,
      "layout": "IPY_MODEL_217cf5fc5c7a441d9b11f3d4d9f4b91d",
      "max": 1,
      "min": 0,
      "orientation": "horizontal",
      "style": "IPY_MODEL_6cc73094a9d54d208c6e8febe73e455a",
      "value": 1
     }
    },
    "4e3ded01f11d4debae5107a9902f8782": {
     "model_module": "@jupyter-widgets/controls",
     "model_module_version": "1.5.0",
     "model_name": "HTMLModel",
     "state": {
      "_dom_classes": [],
      "_model_module": "@jupyter-widgets/controls",
      "_model_module_version": "1.5.0",
      "_model_name": "HTMLModel",
      "_view_count": null,
      "_view_module": "@jupyter-widgets/controls",
      "_view_module_version": "1.5.0",
      "_view_name": "HTMLView",
      "description": "",
      "description_tooltip": null,
      "layout": "IPY_MODEL_7a5d08c772c14e5b8fbca490c719bb04",
      "placeholder": "​",
      "style": "IPY_MODEL_0c953811178740ceaec4fd55e4262a23",
      "value": " 15.6M/15.6M [00:00&lt;00:00, 33.5MB/s]"
     }
    },
    "517b767f62e74430b9d6016aaed32c8c": {
     "model_module": "@jupyter-widgets/controls",
     "model_module_version": "1.5.0",
     "model_name": "DescriptionStyleModel",
     "state": {
      "_model_module": "@jupyter-widgets/controls",
      "_model_module_version": "1.5.0",
      "_model_name": "DescriptionStyleModel",
      "_view_count": null,
      "_view_module": "@jupyter-widgets/base",
      "_view_module_version": "1.2.0",
      "_view_name": "StyleView",
      "description_width": ""
     }
    },
    "565d1b90300b47519e172515a8c2164d": {
     "model_module": "@jupyter-widgets/base",
     "model_module_version": "1.2.0",
     "model_name": "LayoutModel",
     "state": {
      "_model_module": "@jupyter-widgets/base",
      "_model_module_version": "1.2.0",
      "_model_name": "LayoutModel",
      "_view_count": null,
      "_view_module": "@jupyter-widgets/base",
      "_view_module_version": "1.2.0",
      "_view_name": "LayoutView",
      "align_content": null,
      "align_items": null,
      "align_self": null,
      "border": null,
      "bottom": null,
      "display": null,
      "flex": null,
      "flex_flow": null,
      "grid_area": null,
      "grid_auto_columns": null,
      "grid_auto_flow": null,
      "grid_auto_rows": null,
      "grid_column": null,
      "grid_gap": null,
      "grid_row": null,
      "grid_template_areas": null,
      "grid_template_columns": null,
      "grid_template_rows": null,
      "height": null,
      "justify_content": null,
      "justify_items": null,
      "left": null,
      "margin": null,
      "max_height": null,
      "max_width": null,
      "min_height": null,
      "min_width": null,
      "object_fit": null,
      "object_position": null,
      "order": null,
      "overflow": null,
      "overflow_x": null,
      "overflow_y": null,
      "padding": null,
      "right": null,
      "top": null,
      "visibility": null,
      "width": null
     }
    },
    "59a87ea93a4741b0a5f58d4d2bdd9450": {
     "model_module": "@jupyter-widgets/base",
     "model_module_version": "1.2.0",
     "model_name": "LayoutModel",
     "state": {
      "_model_module": "@jupyter-widgets/base",
      "_model_module_version": "1.2.0",
      "_model_name": "LayoutModel",
      "_view_count": null,
      "_view_module": "@jupyter-widgets/base",
      "_view_module_version": "1.2.0",
      "_view_name": "LayoutView",
      "align_content": null,
      "align_items": null,
      "align_self": null,
      "border": null,
      "bottom": null,
      "display": null,
      "flex": null,
      "flex_flow": null,
      "grid_area": null,
      "grid_auto_columns": null,
      "grid_auto_flow": null,
      "grid_auto_rows": null,
      "grid_column": null,
      "grid_gap": null,
      "grid_row": null,
      "grid_template_areas": null,
      "grid_template_columns": null,
      "grid_template_rows": null,
      "height": null,
      "justify_content": null,
      "justify_items": null,
      "left": null,
      "margin": null,
      "max_height": null,
      "max_width": null,
      "min_height": null,
      "min_width": null,
      "object_fit": null,
      "object_position": null,
      "order": null,
      "overflow": null,
      "overflow_x": null,
      "overflow_y": null,
      "padding": null,
      "right": null,
      "top": null,
      "visibility": null,
      "width": null
     }
    },
    "5ad41c5e3e974c5293b4b199e1161462": {
     "model_module": "@jupyter-widgets/controls",
     "model_module_version": "1.5.0",
     "model_name": "DescriptionStyleModel",
     "state": {
      "_model_module": "@jupyter-widgets/controls",
      "_model_module_version": "1.5.0",
      "_model_name": "DescriptionStyleModel",
      "_view_count": null,
      "_view_module": "@jupyter-widgets/base",
      "_view_module_version": "1.2.0",
      "_view_name": "StyleView",
      "description_width": ""
     }
    },
    "6bb4490a32064c9283b9d28ccff42c01": {
     "model_module": "@jupyter-widgets/controls",
     "model_module_version": "1.5.0",
     "model_name": "DescriptionStyleModel",
     "state": {
      "_model_module": "@jupyter-widgets/controls",
      "_model_module_version": "1.5.0",
      "_model_name": "DescriptionStyleModel",
      "_view_count": null,
      "_view_module": "@jupyter-widgets/base",
      "_view_module_version": "1.2.0",
      "_view_name": "StyleView",
      "description_width": ""
     }
    },
    "6cc73094a9d54d208c6e8febe73e455a": {
     "model_module": "@jupyter-widgets/controls",
     "model_module_version": "1.5.0",
     "model_name": "ProgressStyleModel",
     "state": {
      "_model_module": "@jupyter-widgets/controls",
      "_model_module_version": "1.5.0",
      "_model_name": "ProgressStyleModel",
      "_view_count": null,
      "_view_module": "@jupyter-widgets/base",
      "_view_module_version": "1.2.0",
      "_view_name": "StyleView",
      "bar_color": null,
      "description_width": ""
     }
    },
    "735f9819b0e5417b9775ccf07becb5e4": {
     "model_module": "@jupyter-widgets/controls",
     "model_module_version": "1.5.0",
     "model_name": "HTMLModel",
     "state": {
      "_dom_classes": [],
      "_model_module": "@jupyter-widgets/controls",
      "_model_module_version": "1.5.0",
      "_model_name": "HTMLModel",
      "_view_count": null,
      "_view_module": "@jupyter-widgets/controls",
      "_view_module_version": "1.5.0",
      "_view_name": "HTMLView",
      "description": "",
      "description_tooltip": null,
      "layout": "IPY_MODEL_45c1cf6437e04252a367961c150c62f6",
      "placeholder": "​",
      "style": "IPY_MODEL_5ad41c5e3e974c5293b4b199e1161462",
      "value": " 60000/60000 [00:00&lt;00:00, 143335.85 examples/s]"
     }
    },
    "7415b8e7b03f4f17bcdffe29cca27a65": {
     "model_module": "@jupyter-widgets/controls",
     "model_module_version": "1.5.0",
     "model_name": "HBoxModel",
     "state": {
      "_dom_classes": [],
      "_model_module": "@jupyter-widgets/controls",
      "_model_module_version": "1.5.0",
      "_model_name": "HBoxModel",
      "_view_count": null,
      "_view_module": "@jupyter-widgets/controls",
      "_view_module_version": "1.5.0",
      "_view_name": "HBoxView",
      "box_style": "",
      "children": [
       "IPY_MODEL_7614962e0c4d47f2bfe42900acf51d2e",
       "IPY_MODEL_ea90061f7b474922a54bbaf86d96c753",
       "IPY_MODEL_4e3ded01f11d4debae5107a9902f8782"
      ],
      "layout": "IPY_MODEL_565d1b90300b47519e172515a8c2164d"
     }
    },
    "7614962e0c4d47f2bfe42900acf51d2e": {
     "model_module": "@jupyter-widgets/controls",
     "model_module_version": "1.5.0",
     "model_name": "HTMLModel",
     "state": {
      "_dom_classes": [],
      "_model_module": "@jupyter-widgets/controls",
      "_model_module_version": "1.5.0",
      "_model_name": "HTMLModel",
      "_view_count": null,
      "_view_module": "@jupyter-widgets/controls",
      "_view_module_version": "1.5.0",
      "_view_name": "HTMLView",
      "description": "",
      "description_tooltip": null,
      "layout": "IPY_MODEL_bd6320a0bb714e9581ca5ef2b39defcb",
      "placeholder": "​",
      "style": "IPY_MODEL_6bb4490a32064c9283b9d28ccff42c01",
      "value": "Downloading data: 100%"
     }
    },
    "7a5d08c772c14e5b8fbca490c719bb04": {
     "model_module": "@jupyter-widgets/base",
     "model_module_version": "1.2.0",
     "model_name": "LayoutModel",
     "state": {
      "_model_module": "@jupyter-widgets/base",
      "_model_module_version": "1.2.0",
      "_model_name": "LayoutModel",
      "_view_count": null,
      "_view_module": "@jupyter-widgets/base",
      "_view_module_version": "1.2.0",
      "_view_name": "LayoutView",
      "align_content": null,
      "align_items": null,
      "align_self": null,
      "border": null,
      "bottom": null,
      "display": null,
      "flex": null,
      "flex_flow": null,
      "grid_area": null,
      "grid_auto_columns": null,
      "grid_auto_flow": null,
      "grid_auto_rows": null,
      "grid_column": null,
      "grid_gap": null,
      "grid_row": null,
      "grid_template_areas": null,
      "grid_template_columns": null,
      "grid_template_rows": null,
      "height": null,
      "justify_content": null,
      "justify_items": null,
      "left": null,
      "margin": null,
      "max_height": null,
      "max_width": null,
      "min_height": null,
      "min_width": null,
      "object_fit": null,
      "object_position": null,
      "order": null,
      "overflow": null,
      "overflow_x": null,
      "overflow_y": null,
      "padding": null,
      "right": null,
      "top": null,
      "visibility": null,
      "width": null
     }
    },
    "7ac056147a994e72a09b131a9b4585f8": {
     "model_module": "@jupyter-widgets/controls",
     "model_module_version": "1.5.0",
     "model_name": "HTMLModel",
     "state": {
      "_dom_classes": [],
      "_model_module": "@jupyter-widgets/controls",
      "_model_module_version": "1.5.0",
      "_model_name": "HTMLModel",
      "_view_count": null,
      "_view_module": "@jupyter-widgets/controls",
      "_view_module_version": "1.5.0",
      "_view_name": "HTMLView",
      "description": "",
      "description_tooltip": null,
      "layout": "IPY_MODEL_1bd521bcf2f0434e817d1251ec846351",
      "placeholder": "​",
      "style": "IPY_MODEL_517b767f62e74430b9d6016aaed32c8c",
      "value": "Generating train split: 100%"
     }
    },
    "7f9fc766c1d145d098d6aae6d953e504": {
     "model_module": "@jupyter-widgets/controls",
     "model_module_version": "1.5.0",
     "model_name": "DescriptionStyleModel",
     "state": {
      "_model_module": "@jupyter-widgets/controls",
      "_model_module_version": "1.5.0",
      "_model_name": "DescriptionStyleModel",
      "_view_count": null,
      "_view_module": "@jupyter-widgets/base",
      "_view_module_version": "1.2.0",
      "_view_name": "StyleView",
      "description_width": ""
     }
    },
    "81f735a2f0f3461a855eaf5d020855cd": {
     "model_module": "@jupyter-widgets/base",
     "model_module_version": "1.2.0",
     "model_name": "LayoutModel",
     "state": {
      "_model_module": "@jupyter-widgets/base",
      "_model_module_version": "1.2.0",
      "_model_name": "LayoutModel",
      "_view_count": null,
      "_view_module": "@jupyter-widgets/base",
      "_view_module_version": "1.2.0",
      "_view_name": "LayoutView",
      "align_content": null,
      "align_items": null,
      "align_self": null,
      "border": null,
      "bottom": null,
      "display": null,
      "flex": null,
      "flex_flow": null,
      "grid_area": null,
      "grid_auto_columns": null,
      "grid_auto_flow": null,
      "grid_auto_rows": null,
      "grid_column": null,
      "grid_gap": null,
      "grid_row": null,
      "grid_template_areas": null,
      "grid_template_columns": null,
      "grid_template_rows": null,
      "height": null,
      "justify_content": null,
      "justify_items": null,
      "left": null,
      "margin": null,
      "max_height": null,
      "max_width": null,
      "min_height": null,
      "min_width": null,
      "object_fit": null,
      "object_position": null,
      "order": null,
      "overflow": null,
      "overflow_x": null,
      "overflow_y": null,
      "padding": null,
      "right": null,
      "top": null,
      "visibility": null,
      "width": null
     }
    },
    "83659b33938b409f85bcc62453bc916e": {
     "model_module": "@jupyter-widgets/controls",
     "model_module_version": "1.5.0",
     "model_name": "HBoxModel",
     "state": {
      "_dom_classes": [],
      "_model_module": "@jupyter-widgets/controls",
      "_model_module_version": "1.5.0",
      "_model_name": "HBoxModel",
      "_view_count": null,
      "_view_module": "@jupyter-widgets/controls",
      "_view_module_version": "1.5.0",
      "_view_name": "HBoxView",
      "box_style": "",
      "children": [
       "IPY_MODEL_bd286373abe246c09ed6f28966a8ccd8",
       "IPY_MODEL_b329ea5846064463bffe074b3c808873",
       "IPY_MODEL_86f0ff5158a14e5b92f065f2c669d52d"
      ],
      "layout": "IPY_MODEL_3c41d906933742709353a83820acbb55"
     }
    },
    "86f0ff5158a14e5b92f065f2c669d52d": {
     "model_module": "@jupyter-widgets/controls",
     "model_module_version": "1.5.0",
     "model_name": "HTMLModel",
     "state": {
      "_dom_classes": [],
      "_model_module": "@jupyter-widgets/controls",
      "_model_module_version": "1.5.0",
      "_model_name": "HTMLModel",
      "_view_count": null,
      "_view_module": "@jupyter-widgets/controls",
      "_view_module_version": "1.5.0",
      "_view_name": "HTMLView",
      "description": "",
      "description_tooltip": null,
      "layout": "IPY_MODEL_81f735a2f0f3461a855eaf5d020855cd",
      "placeholder": "​",
      "style": "IPY_MODEL_3a52bc869a574a01a4f1e66767c8a3fb",
      "value": " 10000/10000 [00:00&lt;00:00, 100368.37 examples/s]"
     }
    },
    "888520acc4e54d2a914cec25add5aa78": {
     "model_module": "@jupyter-widgets/controls",
     "model_module_version": "1.5.0",
     "model_name": "LabelModel",
     "state": {
      "_dom_classes": [],
      "_model_module": "@jupyter-widgets/controls",
      "_model_module_version": "1.5.0",
      "_model_name": "LabelModel",
      "_view_count": null,
      "_view_module": "@jupyter-widgets/controls",
      "_view_module_version": "1.5.0",
      "_view_name": "LabelView",
      "description": "",
      "description_tooltip": null,
      "layout": "IPY_MODEL_06721f8acf6f41c39ae76b95fb33188f",
      "placeholder": "​",
      "style": "IPY_MODEL_f73b07819e1b4667a40c094c716ede8a",
      "value": "Waiting for wandb.init()...\r"
     }
    },
    "95bdf2fe6b984d979428c39ed8885380": {
     "model_module": "@jupyter-widgets/controls",
     "model_module_version": "1.5.0",
     "model_name": "HBoxModel",
     "state": {
      "_dom_classes": [],
      "_model_module": "@jupyter-widgets/controls",
      "_model_module_version": "1.5.0",
      "_model_name": "HBoxModel",
      "_view_count": null,
      "_view_module": "@jupyter-widgets/controls",
      "_view_module_version": "1.5.0",
      "_view_name": "HBoxView",
      "box_style": "",
      "children": [
       "IPY_MODEL_43c4e4a0ac464aa4a1aaf1214c0127ce",
       "IPY_MODEL_13eb506b70d4413bb4a3ffa6b44cca38",
       "IPY_MODEL_f8df2e0ca48c460a97ec529f8aae9589"
      ],
      "layout": "IPY_MODEL_17010b8ead4c4b87befd104b1cddce89"
     }
    },
    "9d691b24cc324de7b7da5b94c17cba0a": {
     "model_module": "@jupyter-widgets/controls",
     "model_module_version": "1.5.0",
     "model_name": "ProgressStyleModel",
     "state": {
      "_model_module": "@jupyter-widgets/controls",
      "_model_module_version": "1.5.0",
      "_model_name": "ProgressStyleModel",
      "_view_count": null,
      "_view_module": "@jupyter-widgets/base",
      "_view_module_version": "1.2.0",
      "_view_name": "StyleView",
      "bar_color": null,
      "description_width": ""
     }
    },
    "a35b6566c3be441f943457fca22f2cc1": {
     "model_module": "@jupyter-widgets/controls",
     "model_module_version": "1.5.0",
     "model_name": "ProgressStyleModel",
     "state": {
      "_model_module": "@jupyter-widgets/controls",
      "_model_module_version": "1.5.0",
      "_model_name": "ProgressStyleModel",
      "_view_count": null,
      "_view_module": "@jupyter-widgets/base",
      "_view_module_version": "1.2.0",
      "_view_name": "StyleView",
      "bar_color": null,
      "description_width": ""
     }
    },
    "a7487e5899d948de9ee9720d2503c238": {
     "model_module": "@jupyter-widgets/controls",
     "model_module_version": "1.5.0",
     "model_name": "DescriptionStyleModel",
     "state": {
      "_model_module": "@jupyter-widgets/controls",
      "_model_module_version": "1.5.0",
      "_model_name": "DescriptionStyleModel",
      "_view_count": null,
      "_view_module": "@jupyter-widgets/base",
      "_view_module_version": "1.2.0",
      "_view_name": "StyleView",
      "description_width": ""
     }
    },
    "aa18b8f75b98412c8e22047ed18cdfe5": {
     "model_module": "@jupyter-widgets/base",
     "model_module_version": "1.2.0",
     "model_name": "LayoutModel",
     "state": {
      "_model_module": "@jupyter-widgets/base",
      "_model_module_version": "1.2.0",
      "_model_name": "LayoutModel",
      "_view_count": null,
      "_view_module": "@jupyter-widgets/base",
      "_view_module_version": "1.2.0",
      "_view_name": "LayoutView",
      "align_content": null,
      "align_items": null,
      "align_self": null,
      "border": null,
      "bottom": null,
      "display": null,
      "flex": null,
      "flex_flow": null,
      "grid_area": null,
      "grid_auto_columns": null,
      "grid_auto_flow": null,
      "grid_auto_rows": null,
      "grid_column": null,
      "grid_gap": null,
      "grid_row": null,
      "grid_template_areas": null,
      "grid_template_columns": null,
      "grid_template_rows": null,
      "height": null,
      "justify_content": null,
      "justify_items": null,
      "left": null,
      "margin": null,
      "max_height": null,
      "max_width": null,
      "min_height": null,
      "min_width": null,
      "object_fit": null,
      "object_position": null,
      "order": null,
      "overflow": null,
      "overflow_x": null,
      "overflow_y": null,
      "padding": null,
      "right": null,
      "top": null,
      "visibility": null,
      "width": null
     }
    },
    "aba8598175d94e05ab4ec94c8f337309": {
     "model_module": "@jupyter-widgets/base",
     "model_module_version": "1.2.0",
     "model_name": "LayoutModel",
     "state": {
      "_model_module": "@jupyter-widgets/base",
      "_model_module_version": "1.2.0",
      "_model_name": "LayoutModel",
      "_view_count": null,
      "_view_module": "@jupyter-widgets/base",
      "_view_module_version": "1.2.0",
      "_view_name": "LayoutView",
      "align_content": null,
      "align_items": null,
      "align_self": null,
      "border": null,
      "bottom": null,
      "display": null,
      "flex": null,
      "flex_flow": null,
      "grid_area": null,
      "grid_auto_columns": null,
      "grid_auto_flow": null,
      "grid_auto_rows": null,
      "grid_column": null,
      "grid_gap": null,
      "grid_row": null,
      "grid_template_areas": null,
      "grid_template_columns": null,
      "grid_template_rows": null,
      "height": null,
      "justify_content": null,
      "justify_items": null,
      "left": null,
      "margin": null,
      "max_height": null,
      "max_width": null,
      "min_height": null,
      "min_width": null,
      "object_fit": null,
      "object_position": null,
      "order": null,
      "overflow": null,
      "overflow_x": null,
      "overflow_y": null,
      "padding": null,
      "right": null,
      "top": null,
      "visibility": null,
      "width": null
     }
    },
    "b329ea5846064463bffe074b3c808873": {
     "model_module": "@jupyter-widgets/controls",
     "model_module_version": "1.5.0",
     "model_name": "FloatProgressModel",
     "state": {
      "_dom_classes": [],
      "_model_module": "@jupyter-widgets/controls",
      "_model_module_version": "1.5.0",
      "_model_name": "FloatProgressModel",
      "_view_count": null,
      "_view_module": "@jupyter-widgets/controls",
      "_view_module_version": "1.5.0",
      "_view_name": "ProgressView",
      "bar_style": "success",
      "description": "",
      "description_tooltip": null,
      "layout": "IPY_MODEL_d3e0c8ee3685486badf7cd30b8347df0",
      "max": 10000,
      "min": 0,
      "orientation": "horizontal",
      "style": "IPY_MODEL_0f9a55d59b17433aae7cdda4497ae90a",
      "value": 10000
     }
    },
    "b347d9f0a51e4404a921af486167f9c2": {
     "model_module": "@jupyter-widgets/base",
     "model_module_version": "1.2.0",
     "model_name": "LayoutModel",
     "state": {
      "_model_module": "@jupyter-widgets/base",
      "_model_module_version": "1.2.0",
      "_model_name": "LayoutModel",
      "_view_count": null,
      "_view_module": "@jupyter-widgets/base",
      "_view_module_version": "1.2.0",
      "_view_name": "LayoutView",
      "align_content": null,
      "align_items": null,
      "align_self": null,
      "border": null,
      "bottom": null,
      "display": null,
      "flex": null,
      "flex_flow": null,
      "grid_area": null,
      "grid_auto_columns": null,
      "grid_auto_flow": null,
      "grid_auto_rows": null,
      "grid_column": null,
      "grid_gap": null,
      "grid_row": null,
      "grid_template_areas": null,
      "grid_template_columns": null,
      "grid_template_rows": null,
      "height": null,
      "justify_content": null,
      "justify_items": null,
      "left": null,
      "margin": null,
      "max_height": null,
      "max_width": null,
      "min_height": null,
      "min_width": null,
      "object_fit": null,
      "object_position": null,
      "order": null,
      "overflow": null,
      "overflow_x": null,
      "overflow_y": null,
      "padding": null,
      "right": null,
      "top": null,
      "visibility": null,
      "width": null
     }
    },
    "b566595d5a774ec6971e096a5b71781a": {
     "model_module": "@jupyter-widgets/base",
     "model_module_version": "1.2.0",
     "model_name": "LayoutModel",
     "state": {
      "_model_module": "@jupyter-widgets/base",
      "_model_module_version": "1.2.0",
      "_model_name": "LayoutModel",
      "_view_count": null,
      "_view_module": "@jupyter-widgets/base",
      "_view_module_version": "1.2.0",
      "_view_name": "LayoutView",
      "align_content": null,
      "align_items": null,
      "align_self": null,
      "border": null,
      "bottom": null,
      "display": null,
      "flex": null,
      "flex_flow": null,
      "grid_area": null,
      "grid_auto_columns": null,
      "grid_auto_flow": null,
      "grid_auto_rows": null,
      "grid_column": null,
      "grid_gap": null,
      "grid_row": null,
      "grid_template_areas": null,
      "grid_template_columns": null,
      "grid_template_rows": null,
      "height": null,
      "justify_content": null,
      "justify_items": null,
      "left": null,
      "margin": null,
      "max_height": null,
      "max_width": null,
      "min_height": null,
      "min_width": null,
      "object_fit": null,
      "object_position": null,
      "order": null,
      "overflow": null,
      "overflow_x": null,
      "overflow_y": null,
      "padding": null,
      "right": null,
      "top": null,
      "visibility": null,
      "width": null
     }
    },
    "bd286373abe246c09ed6f28966a8ccd8": {
     "model_module": "@jupyter-widgets/controls",
     "model_module_version": "1.5.0",
     "model_name": "HTMLModel",
     "state": {
      "_dom_classes": [],
      "_model_module": "@jupyter-widgets/controls",
      "_model_module_version": "1.5.0",
      "_model_name": "HTMLModel",
      "_view_count": null,
      "_view_module": "@jupyter-widgets/controls",
      "_view_module_version": "1.5.0",
      "_view_name": "HTMLView",
      "description": "",
      "description_tooltip": null,
      "layout": "IPY_MODEL_b566595d5a774ec6971e096a5b71781a",
      "placeholder": "​",
      "style": "IPY_MODEL_1c6c11e0961e48239680b78a603b1c50",
      "value": "Generating test split: 100%"
     }
    },
    "bd6320a0bb714e9581ca5ef2b39defcb": {
     "model_module": "@jupyter-widgets/base",
     "model_module_version": "1.2.0",
     "model_name": "LayoutModel",
     "state": {
      "_model_module": "@jupyter-widgets/base",
      "_model_module_version": "1.2.0",
      "_model_name": "LayoutModel",
      "_view_count": null,
      "_view_module": "@jupyter-widgets/base",
      "_view_module_version": "1.2.0",
      "_view_name": "LayoutView",
      "align_content": null,
      "align_items": null,
      "align_self": null,
      "border": null,
      "bottom": null,
      "display": null,
      "flex": null,
      "flex_flow": null,
      "grid_area": null,
      "grid_auto_columns": null,
      "grid_auto_flow": null,
      "grid_auto_rows": null,
      "grid_column": null,
      "grid_gap": null,
      "grid_row": null,
      "grid_template_areas": null,
      "grid_template_columns": null,
      "grid_template_rows": null,
      "height": null,
      "justify_content": null,
      "justify_items": null,
      "left": null,
      "margin": null,
      "max_height": null,
      "max_width": null,
      "min_height": null,
      "min_width": null,
      "object_fit": null,
      "object_position": null,
      "order": null,
      "overflow": null,
      "overflow_x": null,
      "overflow_y": null,
      "padding": null,
      "right": null,
      "top": null,
      "visibility": null,
      "width": null
     }
    },
    "be3bb60082394308aeecbbc8e9558130": {
     "model_module": "@jupyter-widgets/controls",
     "model_module_version": "1.5.0",
     "model_name": "DescriptionStyleModel",
     "state": {
      "_model_module": "@jupyter-widgets/controls",
      "_model_module_version": "1.5.0",
      "_model_name": "DescriptionStyleModel",
      "_view_count": null,
      "_view_module": "@jupyter-widgets/base",
      "_view_module_version": "1.2.0",
      "_view_name": "StyleView",
      "description_width": ""
     }
    },
    "cdc6e1624e114e379cbc737605bcc62d": {
     "model_module": "@jupyter-widgets/controls",
     "model_module_version": "1.5.0",
     "model_name": "FloatProgressModel",
     "state": {
      "_dom_classes": [],
      "_model_module": "@jupyter-widgets/controls",
      "_model_module_version": "1.5.0",
      "_model_name": "FloatProgressModel",
      "_view_count": null,
      "_view_module": "@jupyter-widgets/controls",
      "_view_module_version": "1.5.0",
      "_view_name": "ProgressView",
      "bar_style": "success",
      "description": "",
      "description_tooltip": null,
      "layout": "IPY_MODEL_e7460f25baea47679520d5d4eb0e6418",
      "max": 60000,
      "min": 0,
      "orientation": "horizontal",
      "style": "IPY_MODEL_d055dba031d2452bb48c8bc2329dcb1b",
      "value": 60000
     }
    },
    "ce562f986d9141e1bdd07f365ab8f7a1": {
     "model_module": "@jupyter-widgets/base",
     "model_module_version": "1.2.0",
     "model_name": "LayoutModel",
     "state": {
      "_model_module": "@jupyter-widgets/base",
      "_model_module_version": "1.2.0",
      "_model_name": "LayoutModel",
      "_view_count": null,
      "_view_module": "@jupyter-widgets/base",
      "_view_module_version": "1.2.0",
      "_view_name": "LayoutView",
      "align_content": null,
      "align_items": null,
      "align_self": null,
      "border": null,
      "bottom": null,
      "display": null,
      "flex": null,
      "flex_flow": null,
      "grid_area": null,
      "grid_auto_columns": null,
      "grid_auto_flow": null,
      "grid_auto_rows": null,
      "grid_column": null,
      "grid_gap": null,
      "grid_row": null,
      "grid_template_areas": null,
      "grid_template_columns": null,
      "grid_template_rows": null,
      "height": null,
      "justify_content": null,
      "justify_items": null,
      "left": null,
      "margin": null,
      "max_height": null,
      "max_width": null,
      "min_height": null,
      "min_width": null,
      "object_fit": null,
      "object_position": null,
      "order": null,
      "overflow": null,
      "overflow_x": null,
      "overflow_y": null,
      "padding": null,
      "right": null,
      "top": null,
      "visibility": null,
      "width": null
     }
    },
    "d055dba031d2452bb48c8bc2329dcb1b": {
     "model_module": "@jupyter-widgets/controls",
     "model_module_version": "1.5.0",
     "model_name": "ProgressStyleModel",
     "state": {
      "_model_module": "@jupyter-widgets/controls",
      "_model_module_version": "1.5.0",
      "_model_name": "ProgressStyleModel",
      "_view_count": null,
      "_view_module": "@jupyter-widgets/base",
      "_view_module_version": "1.2.0",
      "_view_name": "StyleView",
      "bar_color": null,
      "description_width": ""
     }
    },
    "d3e0c8ee3685486badf7cd30b8347df0": {
     "model_module": "@jupyter-widgets/base",
     "model_module_version": "1.2.0",
     "model_name": "LayoutModel",
     "state": {
      "_model_module": "@jupyter-widgets/base",
      "_model_module_version": "1.2.0",
      "_model_name": "LayoutModel",
      "_view_count": null,
      "_view_module": "@jupyter-widgets/base",
      "_view_module_version": "1.2.0",
      "_view_name": "LayoutView",
      "align_content": null,
      "align_items": null,
      "align_self": null,
      "border": null,
      "bottom": null,
      "display": null,
      "flex": null,
      "flex_flow": null,
      "grid_area": null,
      "grid_auto_columns": null,
      "grid_auto_flow": null,
      "grid_auto_rows": null,
      "grid_column": null,
      "grid_gap": null,
      "grid_row": null,
      "grid_template_areas": null,
      "grid_template_columns": null,
      "grid_template_rows": null,
      "height": null,
      "justify_content": null,
      "justify_items": null,
      "left": null,
      "margin": null,
      "max_height": null,
      "max_width": null,
      "min_height": null,
      "min_width": null,
      "object_fit": null,
      "object_position": null,
      "order": null,
      "overflow": null,
      "overflow_x": null,
      "overflow_y": null,
      "padding": null,
      "right": null,
      "top": null,
      "visibility": null,
      "width": null
     }
    },
    "e16f17b8dc264c54ac68570de9468957": {
     "model_module": "@jupyter-widgets/base",
     "model_module_version": "1.2.0",
     "model_name": "LayoutModel",
     "state": {
      "_model_module": "@jupyter-widgets/base",
      "_model_module_version": "1.2.0",
      "_model_name": "LayoutModel",
      "_view_count": null,
      "_view_module": "@jupyter-widgets/base",
      "_view_module_version": "1.2.0",
      "_view_name": "LayoutView",
      "align_content": null,
      "align_items": null,
      "align_self": null,
      "border": null,
      "bottom": null,
      "display": null,
      "flex": null,
      "flex_flow": null,
      "grid_area": null,
      "grid_auto_columns": null,
      "grid_auto_flow": null,
      "grid_auto_rows": null,
      "grid_column": null,
      "grid_gap": null,
      "grid_row": null,
      "grid_template_areas": null,
      "grid_template_columns": null,
      "grid_template_rows": null,
      "height": null,
      "justify_content": null,
      "justify_items": null,
      "left": null,
      "margin": null,
      "max_height": null,
      "max_width": null,
      "min_height": null,
      "min_width": null,
      "object_fit": null,
      "object_position": null,
      "order": null,
      "overflow": null,
      "overflow_x": null,
      "overflow_y": null,
      "padding": null,
      "right": null,
      "top": null,
      "visibility": null,
      "width": null
     }
    },
    "e6ca9efa416c452497136d7ccdb8c542": {
     "model_module": "@jupyter-widgets/controls",
     "model_module_version": "1.5.0",
     "model_name": "FloatProgressModel",
     "state": {
      "_dom_classes": [],
      "_model_module": "@jupyter-widgets/controls",
      "_model_module_version": "1.5.0",
      "_model_name": "FloatProgressModel",
      "_view_count": null,
      "_view_module": "@jupyter-widgets/controls",
      "_view_module_version": "1.5.0",
      "_view_name": "ProgressView",
      "bar_style": "",
      "description": "",
      "description_tooltip": null,
      "layout": "IPY_MODEL_ce562f986d9141e1bdd07f365ab8f7a1",
      "max": 1,
      "min": 0,
      "orientation": "horizontal",
      "style": "IPY_MODEL_9d691b24cc324de7b7da5b94c17cba0a",
      "value": 1
     }
    },
    "e7460f25baea47679520d5d4eb0e6418": {
     "model_module": "@jupyter-widgets/base",
     "model_module_version": "1.2.0",
     "model_name": "LayoutModel",
     "state": {
      "_model_module": "@jupyter-widgets/base",
      "_model_module_version": "1.2.0",
      "_model_name": "LayoutModel",
      "_view_count": null,
      "_view_module": "@jupyter-widgets/base",
      "_view_module_version": "1.2.0",
      "_view_name": "LayoutView",
      "align_content": null,
      "align_items": null,
      "align_self": null,
      "border": null,
      "bottom": null,
      "display": null,
      "flex": null,
      "flex_flow": null,
      "grid_area": null,
      "grid_auto_columns": null,
      "grid_auto_flow": null,
      "grid_auto_rows": null,
      "grid_column": null,
      "grid_gap": null,
      "grid_row": null,
      "grid_template_areas": null,
      "grid_template_columns": null,
      "grid_template_rows": null,
      "height": null,
      "justify_content": null,
      "justify_items": null,
      "left": null,
      "margin": null,
      "max_height": null,
      "max_width": null,
      "min_height": null,
      "min_width": null,
      "object_fit": null,
      "object_position": null,
      "order": null,
      "overflow": null,
      "overflow_x": null,
      "overflow_y": null,
      "padding": null,
      "right": null,
      "top": null,
      "visibility": null,
      "width": null
     }
    },
    "ea90061f7b474922a54bbaf86d96c753": {
     "model_module": "@jupyter-widgets/controls",
     "model_module_version": "1.5.0",
     "model_name": "FloatProgressModel",
     "state": {
      "_dom_classes": [],
      "_model_module": "@jupyter-widgets/controls",
      "_model_module_version": "1.5.0",
      "_model_name": "FloatProgressModel",
      "_view_count": null,
      "_view_module": "@jupyter-widgets/controls",
      "_view_module_version": "1.5.0",
      "_view_name": "ProgressView",
      "bar_style": "success",
      "description": "",
      "description_tooltip": null,
      "layout": "IPY_MODEL_b347d9f0a51e4404a921af486167f9c2",
      "max": 15561616,
      "min": 0,
      "orientation": "horizontal",
      "style": "IPY_MODEL_a35b6566c3be441f943457fca22f2cc1",
      "value": 15561616
     }
    },
    "f73b07819e1b4667a40c094c716ede8a": {
     "model_module": "@jupyter-widgets/controls",
     "model_module_version": "1.5.0",
     "model_name": "DescriptionStyleModel",
     "state": {
      "_model_module": "@jupyter-widgets/controls",
      "_model_module_version": "1.5.0",
      "_model_name": "DescriptionStyleModel",
      "_view_count": null,
      "_view_module": "@jupyter-widgets/base",
      "_view_module_version": "1.2.0",
      "_view_name": "StyleView",
      "description_width": ""
     }
    },
    "f825eda237bc4270b797f6a4dff1eeda": {
     "model_module": "@jupyter-widgets/controls",
     "model_module_version": "1.5.0",
     "model_name": "HBoxModel",
     "state": {
      "_dom_classes": [],
      "_model_module": "@jupyter-widgets/controls",
      "_model_module_version": "1.5.0",
      "_model_name": "HBoxModel",
      "_view_count": null,
      "_view_module": "@jupyter-widgets/controls",
      "_view_module_version": "1.5.0",
      "_view_name": "HBoxView",
      "box_style": "",
      "children": [
       "IPY_MODEL_7ac056147a994e72a09b131a9b4585f8",
       "IPY_MODEL_cdc6e1624e114e379cbc737605bcc62d",
       "IPY_MODEL_735f9819b0e5417b9775ccf07becb5e4"
      ],
      "layout": "IPY_MODEL_e16f17b8dc264c54ac68570de9468957"
     }
    },
    "f8df2e0ca48c460a97ec529f8aae9589": {
     "model_module": "@jupyter-widgets/controls",
     "model_module_version": "1.5.0",
     "model_name": "HTMLModel",
     "state": {
      "_dom_classes": [],
      "_model_module": "@jupyter-widgets/controls",
      "_model_module_version": "1.5.0",
      "_model_name": "HTMLModel",
      "_view_count": null,
      "_view_module": "@jupyter-widgets/controls",
      "_view_module_version": "1.5.0",
      "_view_name": "HTMLView",
      "description": "",
      "description_tooltip": null,
      "layout": "IPY_MODEL_02a8eee152484fcbaf96457af6b6c293",
      "placeholder": "​",
      "style": "IPY_MODEL_be3bb60082394308aeecbbc8e9558130",
      "value": " 2.60M/2.60M [00:00&lt;00:00, 14.1MB/s]"
     }
    },
    "fcfd0973d4524b6dae64d5acd83a6dec": {
     "model_module": "@jupyter-widgets/base",
     "model_module_version": "1.2.0",
     "model_name": "LayoutModel",
     "state": {
      "_model_module": "@jupyter-widgets/base",
      "_model_module_version": "1.2.0",
      "_model_name": "LayoutModel",
      "_view_count": null,
      "_view_module": "@jupyter-widgets/base",
      "_view_module_version": "1.2.0",
      "_view_name": "LayoutView",
      "align_content": null,
      "align_items": null,
      "align_self": null,
      "border": null,
      "bottom": null,
      "display": null,
      "flex": null,
      "flex_flow": null,
      "grid_area": null,
      "grid_auto_columns": null,
      "grid_auto_flow": null,
      "grid_auto_rows": null,
      "grid_column": null,
      "grid_gap": null,
      "grid_row": null,
      "grid_template_areas": null,
      "grid_template_columns": null,
      "grid_template_rows": null,
      "height": null,
      "justify_content": null,
      "justify_items": null,
      "left": null,
      "margin": null,
      "max_height": null,
      "max_width": null,
      "min_height": null,
      "min_width": null,
      "object_fit": null,
      "object_position": null,
      "order": null,
      "overflow": null,
      "overflow_x": null,
      "overflow_y": null,
      "padding": null,
      "right": null,
      "top": null,
      "visibility": null,
      "width": null
     }
    }
   }
  }
 },
 "nbformat": 4,
 "nbformat_minor": 5
}
