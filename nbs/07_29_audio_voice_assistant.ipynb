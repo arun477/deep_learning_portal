{
 "cells": [
  {
   "cell_type": "code",
   "execution_count": 1,
   "id": "d37d9b2c-81fc-4070-be6f-7ce41b31b6ba",
   "metadata": {},
   "outputs": [],
   "source": [
    "from transformers import pipeline\n",
    "import torch\n",
    "\n",
    "device = \"cuda:0\" if torch.cuda.is_available() else \"cpu\"\n",
    "\n",
    "classifier = pipeline(\n",
    "    \"audio-classification\", model=\"MIT/ast-finetuned-speech-commands-v2\", device=device\n",
    ")"
   ]
  },
  {
   "cell_type": "code",
   "execution_count": 8,
   "id": "47f0505b",
   "metadata": {},
   "outputs": [],
   "source": [
    "import subprocess\n",
    "import numpy as np\n",
    "import sys\n",
    "\n",
    "def launch_fn(wake_word=\"marvin\", prob_threshold=0.5, chunk_length_s=1,\n",
    "              debug=False, amplitdude_threshold=2000):\n",
    "    \n",
    "    if wake_word not in classifier.model.config.label2id.keys():\n",
    "        raise ValueError(\n",
    "            f\"Wake word {wake_word} not in set of valid class labels, pick a wake word in the set {classifier.model.config.label2id.keys()}.\"\n",
    "        )\n",
    "    \n",
    "    # ffmpeg lib required for this function \n",
    "    ffmpeg_command = [\n",
    "        'ffmpeg',\n",
    "        '-f', 'avfoundation',\n",
    "        '-i', ':0',  # default microphone\n",
    "        '-ac', '1',  # audio channels (1 for mono)\n",
    "        '-ar', '16000',  # sample rate\n",
    "        '-f', 's16le',  # format (signed 16-bit little endian)\n",
    "        '-acodec', 'pcm_s16le',  # audio codec (PCM signed 16-bit little endian)\n",
    "        '-'\n",
    "    ]\n",
    "    \n",
    "    process = subprocess.Popen(ffmpeg_command, stdout=subprocess.PIPE, stderr=subprocess.DEVNULL)\n",
    "    try:\n",
    "        print('listening...')\n",
    "        while True:\n",
    "            # read 40960 bytes (~1 seconds of audio) from ffmpeg stdout\n",
    "            data = process.stdout.read(40960*chunk_length_s)\n",
    "            if not data:\n",
    "                break\n",
    "\n",
    "            # convert raw audio bytes to a numpy array\n",
    "            audio_data = np.frombuffer(data, dtype=np.int16)\n",
    "\n",
    "            # check if any value in the audio data exceeds the threshold\n",
    "            if np.any(audio_data > amplitdude_threshold):\n",
    "                input_data = audio_data.astype(np.float32)\n",
    "                \n",
    "                # normalize the data\n",
    "                input_data = (input_data - input_data.mean()) / (input_data.std() * 2)\n",
    "                prediction = classifier(input_data)\n",
    "                prediction = prediction[0]\n",
    "                \n",
    "                if debug:\n",
    "                    print('debug',prediction)\n",
    "                if prediction[\"label\"] == wake_word:\n",
    "                    if prediction[\"score\"] > prob_threshold:\n",
    "                        process.kill()\n",
    "                        return  True\n",
    "                              \n",
    "                if prediction[\"label\"] == 'stop':       \n",
    "                    if prediction[\"score\"] > prob_threshold:\n",
    "                        process.kill()\n",
    "                        raise KeyboardInterrupt()\n",
    "                \n",
    "    except KeyboardInterrupt:\n",
    "        print(\"stoped by user\")\n",
    "    finally:\n",
    "        process.kill()\n",
    "    "
   ]
  },
  {
   "cell_type": "code",
   "execution_count": 9,
   "id": "c5036e31",
   "metadata": {},
   "outputs": [
    {
     "name": "stdout",
     "output_type": "stream",
     "text": [
      "listening...\n"
     ]
    },
    {
     "data": {
      "text/plain": [
       "True"
      ]
     },
     "execution_count": 9,
     "metadata": {},
     "output_type": "execute_result"
    }
   ],
   "source": [
    "launch_fn(debug=False)"
   ]
  },
  {
   "cell_type": "code",
   "execution_count": 11,
   "id": "df2096df",
   "metadata": {},
   "outputs": [
    {
     "name": "stderr",
     "output_type": "stream",
     "text": [
      "Special tokens have been added in the vocabulary, make sure the associated word embeddings are fine-tuned or trained.\n"
     ]
    }
   ],
   "source": [
    "transcriber = pipeline(\n",
    "    'automatic-speech-recognition', model=\"openai/whisper-base.en\", device=device\n",
    "    )"
   ]
  },
  {
   "cell_type": "code",
   "execution_count": 25,
   "id": "57add787",
   "metadata": {},
   "outputs": [],
   "source": [
    "def transcribe(chunk_length_s=5, amplitdude_threshold=2000):\n",
    "    # ffmpeg lib required for this function \n",
    "    ffmpeg_command = [\n",
    "        'ffmpeg',\n",
    "        '-f', 'avfoundation',\n",
    "        '-i', ':0',  # default microphone\n",
    "        '-ac', '1',  # audio channels (1 for mono)\n",
    "        '-ar', '16000',  # sample rate\n",
    "        '-f', 's16le',  # format (signed 16-bit little endian)\n",
    "        '-acodec', 'pcm_s16le',  # audio codec (PCM signed 16-bit little endian)\n",
    "        '-'\n",
    "    ]\n",
    "    \n",
    "    process = subprocess.Popen(ffmpeg_command, stdout=subprocess.PIPE, stderr=subprocess.DEVNULL)\n",
    "    try:\n",
    "        print('listening...')\n",
    "        while True:\n",
    "            # read 40960 bytes (~1 seconds of audio) from ffmpeg stdout\n",
    "            data = process.stdout.read(40960*chunk_length_s)\n",
    "            if not data:\n",
    "                break\n",
    "\n",
    "            # convert raw audio bytes to a numpy array\n",
    "            audio_data = np.frombuffer(data, dtype=np.int16)\n",
    "\n",
    "            # check if any value in the audio data exceeds the threshold\n",
    "            if np.any(audio_data > amplitdude_threshold):\n",
    "                input_data = audio_data.astype(np.float32)\n",
    "                \n",
    "                # normalize the data\n",
    "                input_data = (input_data - input_data.mean()) / (input_data.std() * 2)\n",
    "                item = transcriber(input_data, generate_kwargs={\"max_new_tokens\": 128})\n",
    "                \n",
    "                sys.stdout.write(\"\\033[K\")\n",
    "                print(item[\"text\"], end=\"\\r\")\n",
    "                if item.get('partial') and not item[\"partial\"][0]:\n",
    "                    return item['text']\n",
    "                    \n",
    "    except KeyboardInterrupt:\n",
    "        print(\"stoped by user\")\n",
    "    finally:\n",
    "        process.kill()\n",
    "    "
   ]
  },
  {
   "cell_type": "code",
   "execution_count": 26,
   "id": "52f7d9de",
   "metadata": {},
   "outputs": [
    {
     "name": "stdout",
     "output_type": "stream",
     "text": [
      "listening...\n",
      "stoped by userthat mean? They lay their eggs inside the unripe beetroot and come springtime the babies eat their way out. to meet you..t I forgot to send.\n"
     ]
    }
   ],
   "source": [
    "transcribe()"
   ]
  },
  {
   "cell_type": "code",
   "execution_count": 31,
   "id": "7bcad1f6",
   "metadata": {},
   "outputs": [],
   "source": [
    "from huggingface_hub import HfFolder\n",
    "import requests"
   ]
  },
  {
   "cell_type": "code",
   "execution_count": 76,
   "id": "b989e7e6",
   "metadata": {},
   "outputs": [],
   "source": [
    "def query(text, model_id=\"allenai/tk-instruct-3b-def\"):\n",
    "    api_url = f\"https://api-inference.huggingface.co/models/{model_id}\"\n",
    "    headers = {\"Authorization\": f\"Bearer {HfFolder().get_token()}\"}\n",
    "    payload = {\"inputs\": text}\n",
    "    print(f\"Querying...: {text}\")\n",
    "    response = requests.post(api_url, headers=headers, json=payload)\n",
    "    return response.json()[0][\"generated_text\"]"
   ]
  },
  {
   "cell_type": "code",
   "execution_count": 74,
   "id": "30006cef",
   "metadata": {},
   "outputs": [
    {
     "name": "stdout",
     "output_type": "stream",
     "text": [
      "Querying...: how are you?\n",
      "[{'generated_text': 'I am doing great. I am still working on my book. I am also working on '}]\n",
      "I am doing great. I am still working on my book. I am also working on \n"
     ]
    }
   ],
   "source": [
    "print(query('how are you?'))"
   ]
  },
  {
   "cell_type": "code",
   "execution_count": 77,
   "id": "bd5362cb",
   "metadata": {},
   "outputs": [
    {
     "name": "stdout",
     "output_type": "stream",
     "text": [
      "Querying...: What does Hugging Face do?\n"
     ]
    },
    {
     "data": {
      "text/plain": [
       "'Hugging Face is a non-profit organization that provides a wide range of services to'"
      ]
     },
     "execution_count": 77,
     "metadata": {},
     "output_type": "execute_result"
    }
   ],
   "source": [
    "query(\"What does Hugging Face do?\")"
   ]
  },
  {
   "cell_type": "code",
   "execution_count": null,
   "id": "f823c6aa",
   "metadata": {},
   "outputs": [],
   "source": []
  }
 ],
 "metadata": {
  "kernelspec": {
   "display_name": "Python 3 (ipykernel)",
   "language": "python",
   "name": "python3"
  },
  "language_info": {
   "codemirror_mode": {
    "name": "ipython",
    "version": 3
   },
   "file_extension": ".py",
   "mimetype": "text/x-python",
   "name": "python",
   "nbconvert_exporter": "python",
   "pygments_lexer": "ipython3",
   "version": "3.10.0"
  }
 },
 "nbformat": 4,
 "nbformat_minor": 5
}
