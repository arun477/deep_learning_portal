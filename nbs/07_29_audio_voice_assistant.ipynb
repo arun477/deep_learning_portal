{
 "cells": [
  {
   "cell_type": "code",
   "execution_count": 1,
   "id": "d37d9b2c-81fc-4070-be6f-7ce41b31b6ba",
   "metadata": {},
   "outputs": [],
   "source": [
    "from transformers import pipeline\n",
    "import torch"
   ]
  },
  {
   "cell_type": "code",
   "execution_count": 2,
   "id": "97be03a3-3cff-49a6-8a1b-76874c61b823",
   "metadata": {},
   "outputs": [],
   "source": [
    "device = \"cuda:0\" if torch.cuda.is_available() else \"cpu\""
   ]
  },
  {
   "cell_type": "code",
   "execution_count": 3,
   "id": "0ee37f7f",
   "metadata": {},
   "outputs": [],
   "source": [
    "classifier = pipeline(\n",
    "    \"audio-classification\", model=\"MIT/ast-finetuned-speech-commands-v2\", device=device\n",
    ")"
   ]
  },
  {
   "cell_type": "code",
   "execution_count": 6,
   "id": "8f59f826",
   "metadata": {},
   "outputs": [],
   "source": [
    "import subprocess\n",
    "import numpy as np\n",
    "import sys\n",
    "\n",
    "def launch_fn(wake_word=\"marvin\", prob_threshold=0.5, chunk_length_s=1,\n",
    "              debug=False, amplitdude_threshold=2000):\n",
    "    \n",
    "    # ffmpeg lib required for this function \n",
    "    ffmpeg_command = [\n",
    "        'ffmpeg',\n",
    "        '-f', 'avfoundation',\n",
    "        '-i', ':0',  # default microphone\n",
    "        '-ac', '1',  # audio channels (1 for mono)\n",
    "        '-ar', '16000',  # sample rate\n",
    "        '-f', 's16le',  # format (signed 16-bit little endian)\n",
    "        '-acodec', 'pcm_s16le',  # audio codec (PCM signed 16-bit little endian)\n",
    "        '-'\n",
    "    ]\n",
    "    \n",
    "    process = subprocess.Popen(ffmpeg_command, stdout=subprocess.PIPE, stderr=subprocess.DEVNULL)\n",
    "    try:\n",
    "        print('listening...')\n",
    "        while True:\n",
    "            # read 40960 bytes (~1 seconds of audio) from ffmpeg stdout\n",
    "            data = process.stdout.read(40960*chunk_length_s)\n",
    "            if not data:\n",
    "                break\n",
    "\n",
    "            # convert raw audio bytes to a numpy array\n",
    "            audio_data = np.frombuffer(data, dtype=np.int16)\n",
    "\n",
    "            # check if any value in the audio data exceeds the threshold\n",
    "            if np.any(audio_data > amplitdude_threshold):\n",
    "                input_data = audio_data.astype(np.float32)\n",
    "                \n",
    "                # normalize the data\n",
    "                input_data = (input_data - input_data.mean()) / (input_data.std() * 2)\n",
    "                prediction = classifier(input_data)\n",
    "                prediction = prediction[0]\n",
    "                \n",
    "                if debug:\n",
    "                    print('debug',prediction)\n",
    "                if prediction[\"label\"] == wake_word:\n",
    "                    if prediction[\"score\"] > prob_threshold:\n",
    "                        print(prediction['label'])\n",
    "                        \n",
    "                        \n",
    "                if prediction[\"label\"] == 'stop':       \n",
    "                    if prediction[\"score\"] > prob_threshold:\n",
    "                        process.kill()\n",
    "                        raise KeyboardInterrupt()\n",
    "                \n",
    "    except KeyboardInterrupt:\n",
    "        print(\"stoped by user\")\n",
    "    finally:\n",
    "        process.kill()\n",
    "    "
   ]
  },
  {
   "cell_type": "code",
   "execution_count": 7,
   "id": "19721ed2",
   "metadata": {},
   "outputs": [
    {
     "name": "stdout",
     "output_type": "stream",
     "text": [
      "listening...\n",
      "marvin\n",
      "marvin\n",
      "stoped by user\n"
     ]
    }
   ],
   "source": [
    "launch_fn(debug=False)"
   ]
  },
  {
   "cell_type": "code",
   "execution_count": null,
   "id": "635172e8",
   "metadata": {},
   "outputs": [],
   "source": []
  }
 ],
 "metadata": {
  "kernelspec": {
   "display_name": "Python 3 (ipykernel)",
   "language": "python",
   "name": "python3"
  },
  "language_info": {
   "codemirror_mode": {
    "name": "ipython",
    "version": 3
   },
   "file_extension": ".py",
   "mimetype": "text/x-python",
   "name": "python",
   "nbconvert_exporter": "python",
   "pygments_lexer": "ipython3",
   "version": "3.10.0"
  }
 },
 "nbformat": 4,
 "nbformat_minor": 5
}
