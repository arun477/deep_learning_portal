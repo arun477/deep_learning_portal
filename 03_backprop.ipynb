{
 "cells": [
  {
   "cell_type": "code",
   "execution_count": 1,
   "id": "1f6e2af8",
   "metadata": {},
   "outputs": [],
   "source": [
    "import torch, matplotlib.pyplot as plt, math, gzip, pickle\n",
    "from torch import tensor\n",
    "from pathlib import Path\n",
    "from fastcore.test import test_close"
   ]
  },
  {
   "cell_type": "code",
   "execution_count": 2,
   "id": "efce94a2",
   "metadata": {},
   "outputs": [
    {
     "data": {
      "text/plain": [
       "(torch.Size([50000, 784]),\n",
       " torch.Size([50000]),\n",
       " torch.Size([10000, 784]),\n",
       " torch.Size([10000]))"
      ]
     },
     "execution_count": 2,
     "metadata": {},
     "output_type": "execute_result"
    }
   ],
   "source": [
    "data_path = Path('data')/'mnist.pkl.gz'\n",
    "with gzip.open(data_path, 'rb') as f:\n",
    "    data = pickle.load(f, encoding='latin-1')\n",
    "((x_train, y_train), (x_val, y_val), _) = data\n",
    "(x_train, y_train, x_val, y_val) = map(tensor, (x_train, y_train, x_val, y_val))\n",
    "x_train.shape, y_train.shape, x_val.shape, y_val.shape"
   ]
  },
  {
   "cell_type": "code",
   "execution_count": 4,
   "id": "71a6c921",
   "metadata": {},
   "outputs": [],
   "source": [
    "n,m = x_train.shape\n",
    "c = y_train.max()+1\n",
    "nh = 50"
   ]
  },
  {
   "cell_type": "code",
   "execution_count": 5,
   "id": "626daf10",
   "metadata": {},
   "outputs": [],
   "source": [
    "w1 = torch.randn(m, nh)\n",
    "b1 = torch.zeros(nh)\n",
    "w2 = torch.randn(nh, 1)\n",
    "b2 = torch.zeros(1)"
   ]
  },
  {
   "cell_type": "code",
   "execution_count": 6,
   "id": "945174de",
   "metadata": {},
   "outputs": [],
   "source": [
    "def lin(x, w, b):\n",
    "    return x@w+b"
   ]
  },
  {
   "cell_type": "code",
   "execution_count": 7,
   "id": "ddb95ab0",
   "metadata": {},
   "outputs": [
    {
     "data": {
      "text/plain": [
       "torch.Size([10000, 50])"
      ]
     },
     "execution_count": 7,
     "metadata": {},
     "output_type": "execute_result"
    }
   ],
   "source": [
    "t = lin(x_val, w1, b1)\n",
    "t.shape"
   ]
  },
  {
   "cell_type": "code",
   "execution_count": 8,
   "id": "035e06fa",
   "metadata": {},
   "outputs": [],
   "source": [
    "def relu(x):\n",
    "    return x.clamp_min(0.)"
   ]
  },
  {
   "cell_type": "code",
   "execution_count": 9,
   "id": "e2690964",
   "metadata": {},
   "outputs": [
    {
     "data": {
      "text/plain": [
       "tensor([[ 9.1507,  0.0000,  0.0000,  ...,  2.9785,  0.0000, 13.6512],\n",
       "        [ 0.8934,  0.0000,  1.9529,  ...,  0.9084,  0.0000,  2.8889],\n",
       "        [ 0.0000,  1.7810, 10.7273,  ...,  6.8667,  9.9371,  4.4541],\n",
       "        ...,\n",
       "        [ 0.0000,  0.0000,  0.5849,  ..., 20.3842, 11.5470,  0.0000],\n",
       "        [ 0.0000,  0.0000,  3.8437,  ...,  0.0000, 12.7863,  0.0000],\n",
       "        [ 0.4631,  0.0000, 18.1102,  ..., 14.2793,  3.7057,  1.5324]])"
      ]
     },
     "execution_count": 9,
     "metadata": {},
     "output_type": "execute_result"
    }
   ],
   "source": [
    "t = relu(t)\n",
    "t"
   ]
  },
  {
   "cell_type": "code",
   "execution_count": 13,
   "id": "a651fb5d",
   "metadata": {},
   "outputs": [],
   "source": [
    "def model(xb):\n",
    "    l1 = lin(xb, w1, b1)\n",
    "    l1 = relu(l1)\n",
    "    return lin(l1, w2, b2)"
   ]
  },
  {
   "cell_type": "code",
   "execution_count": 14,
   "id": "0783e0f4",
   "metadata": {},
   "outputs": [
    {
     "data": {
      "text/plain": [
       "torch.Size([10000, 1])"
      ]
     },
     "execution_count": 14,
     "metadata": {},
     "output_type": "execute_result"
    }
   ],
   "source": [
    "res = model(x_val)\n",
    "res.shape"
   ]
  },
  {
   "cell_type": "code",
   "execution_count": 15,
   "id": "e57d1d9e",
   "metadata": {},
   "outputs": [
    {
     "data": {
      "text/plain": [
       "torch.Size([10000, 10000])"
      ]
     },
     "execution_count": 15,
     "metadata": {},
     "output_type": "execute_result"
    }
   ],
   "source": [
    "(res-y_val).shape"
   ]
  },
  {
   "cell_type": "code",
   "execution_count": 16,
   "id": "e86fc926",
   "metadata": {},
   "outputs": [
    {
     "data": {
      "text/plain": [
       "torch.Size([10000])"
      ]
     },
     "execution_count": 16,
     "metadata": {},
     "output_type": "execute_result"
    }
   ],
   "source": [
    "(res[:,0]-y_val).shape"
   ]
  },
  {
   "cell_type": "code",
   "execution_count": 17,
   "id": "f434db3e",
   "metadata": {},
   "outputs": [
    {
     "data": {
      "text/plain": [
       "torch.Size([10000])"
      ]
     },
     "execution_count": 17,
     "metadata": {},
     "output_type": "execute_result"
    }
   ],
   "source": [
    "(res.squeeze()-y_val).shape"
   ]
  },
  {
   "cell_type": "code",
   "execution_count": 18,
   "id": "532260f6",
   "metadata": {},
   "outputs": [
    {
     "data": {
      "text/plain": [
       "torch.Size([50000, 1])"
      ]
     },
     "execution_count": 18,
     "metadata": {},
     "output_type": "execute_result"
    }
   ],
   "source": [
    "y_train,y_val = y_train.float(),y_val.float()\n",
    "preds = model(x_train)\n",
    "preds.shape"
   ]
  },
  {
   "cell_type": "code",
   "execution_count": 20,
   "id": "3f5574d7",
   "metadata": {},
   "outputs": [],
   "source": [
    "def mse(outp, targ):\n",
    "    return (outp[:,0]-targ).pow(2).mean()"
   ]
  },
  {
   "cell_type": "code",
   "execution_count": 21,
   "id": "b5eabbf5",
   "metadata": {},
   "outputs": [
    {
     "data": {
      "text/plain": [
       "tensor(6286.4141)"
      ]
     },
     "execution_count": 21,
     "metadata": {},
     "output_type": "execute_result"
    }
   ],
   "source": [
    "mse(preds, y_train)"
   ]
  },
  {
   "cell_type": "code",
   "execution_count": 24,
   "id": "ec4ca7cb",
   "metadata": {},
   "outputs": [],
   "source": [
    "def lin_grad(inp, out, w, b):\n",
    "    inp.g = out.g @ w.t()\n",
    "    w.g = (inp.unsqueeze(-1) * out.g.unsqueeze(1)).sum(0)\n",
    "    b.g = out.g.sum(0)"
   ]
  },
  {
   "cell_type": "code",
   "execution_count": 25,
   "id": "a8886367",
   "metadata": {},
   "outputs": [],
   "source": [
    "def forward_and_backward(inp, targ):\n",
    "    l1 = lin(inp, w1, b1)\n",
    "    l2 = relu(l1)\n",
    "    out = lin(l2, w2, b2)\n",
    "    diff = out[:,0]-targ\n",
    "    loss = diff.pow(2).mean()\n",
    "    \n",
    "    out.g = 2.*diff[:,None]/inp.shape[0]\n",
    "    lin_grad(l2, out, w2, b2)\n",
    "    l1.g = (l1>0).float() * l2.g\n",
    "    lin_grad(inp, l1, w1, b1)"
   ]
  },
  {
   "cell_type": "code",
   "execution_count": 26,
   "id": "bc4d0da2",
   "metadata": {},
   "outputs": [],
   "source": [
    "%time forward_and_backward(x_train, y_train)"
   ]
  },
  {
   "cell_type": "code",
   "execution_count": 28,
   "id": "11da36cd",
   "metadata": {},
   "outputs": [],
   "source": [
    "def get_grad(x):\n",
    "    return x.g.clone()\n",
    "chks = w1,w2,b1,b2,x_train\n",
    "grads = w1g,w2g,b1g,b2g,ig = tuple(map(get_grad, chks))"
   ]
  },
  {
   "cell_type": "code",
   "execution_count": 29,
   "id": "89ef72a5",
   "metadata": {},
   "outputs": [],
   "source": [
    "def mkgrad(x):\n",
    "    return x.clone().requires_grad_(True)\n",
    "ptgrads = w12,w22,b12,b22,xt2 = tuple(map(mkgrad, chks))"
   ]
  },
  {
   "cell_type": "code",
   "execution_count": 30,
   "id": "e21f09e3",
   "metadata": {},
   "outputs": [],
   "source": [
    "def forward(inp, targ):\n",
    "    l1 = lin(inp, w12, b12)\n",
    "    l2 = relu(l1)\n",
    "    out = lin(l2, w22, b22)\n",
    "    return mse(out, targ)"
   ]
  },
  {
   "cell_type": "code",
   "execution_count": 31,
   "id": "7aae006d",
   "metadata": {},
   "outputs": [],
   "source": [
    "loss = forward(xt2, y_train)\n",
    "loss.backward()"
   ]
  },
  {
   "cell_type": "code",
   "execution_count": 34,
   "id": "e485b068",
   "metadata": {},
   "outputs": [
    {
     "name": "stdout",
     "output_type": "stream",
     "text": [
      "True\n",
      "True\n",
      "True\n",
      "True\n",
      "True\n"
     ]
    }
   ],
   "source": [
    "for a, b in zip(grads, ptgrads):\n",
    "    print(torch.allclose(a, b.grad, rtol=0.01))\n",
    "    test_close(a, b.grad, eps=0.01)"
   ]
  },
  {
   "cell_type": "code",
   "execution_count": null,
   "id": "c48b3177",
   "metadata": {},
   "outputs": [],
   "source": []
  },
  {
   "cell_type": "code",
   "execution_count": null,
   "id": "d2abceb2",
   "metadata": {},
   "outputs": [],
   "source": []
  },
  {
   "cell_type": "code",
   "execution_count": null,
   "id": "aa29e940",
   "metadata": {},
   "outputs": [],
   "source": []
  },
  {
   "cell_type": "code",
   "execution_count": null,
   "id": "5a9eab8c",
   "metadata": {},
   "outputs": [],
   "source": []
  },
  {
   "cell_type": "code",
   "execution_count": null,
   "id": "38c918e4",
   "metadata": {},
   "outputs": [],
   "source": []
  },
  {
   "cell_type": "code",
   "execution_count": 17,
   "id": "64e26fd2",
   "metadata": {},
   "outputs": [],
   "source": [
    "from sympy import symbols,diff"
   ]
  },
  {
   "cell_type": "code",
   "execution_count": 18,
   "id": "cd48e37d",
   "metadata": {},
   "outputs": [],
   "source": [
    "x,y = symbols('x y')"
   ]
  },
  {
   "cell_type": "code",
   "execution_count": 19,
   "id": "97f2a662",
   "metadata": {},
   "outputs": [
    {
     "data": {
      "text/latex": [
       "$\\displaystyle 2 x$"
      ],
      "text/plain": [
       "2*x"
      ]
     },
     "execution_count": 19,
     "metadata": {},
     "output_type": "execute_result"
    }
   ],
   "source": [
    "diff(x**2, x)"
   ]
  },
  {
   "cell_type": "code",
   "execution_count": 20,
   "id": "5d241765",
   "metadata": {},
   "outputs": [
    {
     "data": {
      "text/latex": [
       "$\\displaystyle 2 x$"
      ],
      "text/plain": [
       "2*x"
      ]
     },
     "execution_count": 20,
     "metadata": {},
     "output_type": "execute_result"
    }
   ],
   "source": [
    "diff(x**2)"
   ]
  },
  {
   "cell_type": "code",
   "execution_count": 21,
   "id": "5cc928ae",
   "metadata": {},
   "outputs": [
    {
     "data": {
      "text/latex": [
       "$\\displaystyle 6 x$"
      ],
      "text/plain": [
       "6*x"
      ]
     },
     "execution_count": 21,
     "metadata": {},
     "output_type": "execute_result"
    }
   ],
   "source": [
    "diff(3*x**2+9, x)"
   ]
  },
  {
   "cell_type": "code",
   "execution_count": 22,
   "id": "1197d2f1",
   "metadata": {},
   "outputs": [],
   "source": [
    "w1 = torch.randn(m, nh)\n",
    "b1 = torch.zeros(nh)\n",
    "w2 = torch.randn(nh, 1)\n",
    "b2 = torch.zeros(1)"
   ]
  },
  {
   "cell_type": "code",
   "execution_count": 213,
   "id": "9f22000f",
   "metadata": {},
   "outputs": [],
   "source": [
    "def lin_grad(inp, outp, w, b):\n",
    "    inp.g = outp.g@w.t()\n",
    "    w.g = inp.t()@outp.g\n",
    "    b.g = outp.g.sum(0)  \n",
    "    return (w,b,inp)\n",
    "\n",
    "def lin_gradv2(inp, out, w, b):\n",
    "    # grad of matmul with respect to input\n",
    "    inp.g = out.g @ w.t()\n",
    "    w.g = (inp.unsqueeze(-1) * out.g.unsqueeze(1)).sum(0)\n",
    "    b.g = out.g.sum(0)\n",
    "    return (w,b,inp)    "
   ]
  },
  {
   "cell_type": "code",
   "execution_count": 215,
   "id": "a0e896d9",
   "metadata": {},
   "outputs": [],
   "source": [
    "def lin_gradv3(inp, out, w, b):\n",
    "    # grad of matmul with respect to input\n",
    "    inp.g = out.g @ w.t()\n",
    "    w.g = (inp1[:,:,None] * out.g[:,None]).sum(0)\n",
    "    b.g = out.g.sum(0)\n",
    "    return (w,b,inp)    "
   ]
  },
  {
   "cell_type": "code",
   "execution_count": 216,
   "id": "8962423f",
   "metadata": {},
   "outputs": [],
   "source": [
    "sz = 1000*10*2\n",
    "inp1 = x_train[:sz]\n",
    "test_outp = torch.randn((sz, 50))\n",
    "test_outp.g = test_outp.clone()"
   ]
  },
  {
   "cell_type": "code",
   "execution_count": 218,
   "id": "2b59fcd9",
   "metadata": {},
   "outputs": [
    {
     "name": "stdout",
     "output_type": "stream",
     "text": [
      "CPU times: user 219 ms, sys: 163 ms, total: 382 ms\n",
      "Wall time: 98.5 ms\n"
     ]
    }
   ],
   "source": [
    "%time o1 = lin_grad(inp1.clone(), test_outp, w1.clone(), b1.clone())"
   ]
  },
  {
   "cell_type": "code",
   "execution_count": 219,
   "id": "511af229",
   "metadata": {},
   "outputs": [
    {
     "name": "stdout",
     "output_type": "stream",
     "text": [
      "CPU times: user 11.2 s, sys: 3min 28s, total: 3min 40s\n",
      "Wall time: 1min 28s\n"
     ]
    }
   ],
   "source": [
    "%time o2 = lin_gradv2(inp1.clone(), test_outp, w1.clone(), b1.clone())"
   ]
  },
  {
   "cell_type": "code",
   "execution_count": 221,
   "id": "21581feb",
   "metadata": {},
   "outputs": [
    {
     "name": "stdout",
     "output_type": "stream",
     "text": [
      "CPU times: user 9.67 s, sys: 2min 49s, total: 2min 59s\n",
      "Wall time: 1min 13s\n"
     ]
    }
   ],
   "source": [
    "%time o4 = lin_gradv3(inp1.clone(), test_outp, w1.clone(), b1.clone())"
   ]
  },
  {
   "cell_type": "code",
   "execution_count": 226,
   "id": "bf923958",
   "metadata": {},
   "outputs": [
    {
     "name": "stdout",
     "output_type": "stream",
     "text": [
      "False\n",
      "True\n",
      "True\n"
     ]
    }
   ],
   "source": [
    "for a,b in zip(o1, o2):\n",
    "    print(torch.allclose(a.g, b.g, rtol=0.01))\n",
    "    test_close(a.g, b.g, eps=0.01)"
   ]
  },
  {
   "cell_type": "code",
   "execution_count": 229,
   "id": "259781fd",
   "metadata": {},
   "outputs": [
    {
     "name": "stdout",
     "output_type": "stream",
     "text": [
      "False\n",
      "True\n",
      "True\n"
     ]
    }
   ],
   "source": [
    "for a,b in zip(o1, o4):\n",
    "    print(torch.allclose(a.g, b.g, rtol=0.01))\n",
    "    test_close(a.g, b.g, eps=0.01)"
   ]
  },
  {
   "cell_type": "code",
   "execution_count": 111,
   "id": "acf1ec4b",
   "metadata": {},
   "outputs": [
    {
     "data": {
      "text/plain": [
       "(torch.Size([784, 50]), torch.Size([784, 50]))"
      ]
     },
     "execution_count": 111,
     "metadata": {},
     "output_type": "execute_result"
    }
   ],
   "source": [
    "o1[0].shape, o2[0].shape"
   ]
  },
  {
   "cell_type": "code",
   "execution_count": 125,
   "id": "5ff7b758",
   "metadata": {},
   "outputs": [
    {
     "data": {
      "text/plain": [
       "tensor([ 10.8480, -39.3720,  30.6547, -17.2523,  12.8699,  18.2000, -28.5093,\n",
       "          3.7808, -56.2174, -54.4469, -36.9470, -45.6147,  15.0857, -11.0759,\n",
       "         -3.8133,  27.7800,  -8.7611,  44.8471, -55.6126,   4.0851, -33.8279,\n",
       "         18.1730, -58.0049,  16.0285,  25.0503,  29.9208,  -1.4544, -51.3259,\n",
       "          9.1065,  22.0640,   4.1045,   1.7488, -17.3718,  24.7957, -19.8788,\n",
       "        -14.1662,  19.8739,  -2.7411, -58.3739,  70.6327,  20.9583,  16.4796,\n",
       "         24.4096, -67.1682,  14.2389, -27.2982,  -3.5598,  -5.9210, -57.4400,\n",
       "        -29.1226])"
      ]
     },
     "execution_count": 125,
     "metadata": {},
     "output_type": "execute_result"
    }
   ],
   "source": [
    "o1[0].g[100]"
   ]
  },
  {
   "cell_type": "code",
   "execution_count": 126,
   "id": "87282f3a",
   "metadata": {},
   "outputs": [
    {
     "data": {
      "text/plain": [
       "tensor([ 10.8480, -39.3720,  30.6547, -17.2522,  12.8699,  18.2000, -28.5093,\n",
       "          3.7808, -56.2174, -54.4469, -36.9470, -45.6147,  15.0857, -11.0759,\n",
       "         -3.8133,  27.7800,  -8.7610,  44.8471, -55.6126,   4.0851, -33.8279,\n",
       "         18.1730, -58.0049,  16.0285,  25.0503,  29.9208,  -1.4544, -51.3259,\n",
       "          9.1065,  22.0640,   4.1045,   1.7488, -17.3718,  24.7957, -19.8788,\n",
       "        -14.1662,  19.8739,  -2.7411, -58.3739,  70.6327,  20.9583,  16.4796,\n",
       "         24.4096, -67.1682,  14.2389, -27.2982,  -3.5598,  -5.9210, -57.4399,\n",
       "        -29.1226])"
      ]
     },
     "execution_count": 126,
     "metadata": {},
     "output_type": "execute_result"
    }
   ],
   "source": [
    "o2[0].g[100]"
   ]
  },
  {
   "cell_type": "code",
   "execution_count": 156,
   "id": "4e7f32c5",
   "metadata": {},
   "outputs": [],
   "source": [
    "test_close(o1[0].g[100], o2[0].g[100], eps=0.001)"
   ]
  },
  {
   "cell_type": "code",
   "execution_count": 162,
   "id": "ca27045f",
   "metadata": {},
   "outputs": [
    {
     "name": "stdout",
     "output_type": "stream",
     "text": [
      "False\n",
      "10.848006248474121 10.848001480102539\n"
     ]
    }
   ],
   "source": [
    "for i, ele in enumerate(o1[0].g[100]):\n",
    "    print(ele.item() == o2[0].g[100][i].item())\n",
    "    print(ele.item(), o2[0].g[100][i].item())\n",
    "    break"
   ]
  },
  {
   "cell_type": "code",
   "execution_count": 166,
   "id": "a3770125",
   "metadata": {},
   "outputs": [
    {
     "data": {
      "text/plain": [
       "(784, 1, 1)"
      ]
     },
     "execution_count": 166,
     "metadata": {},
     "output_type": "execute_result"
    }
   ],
   "source": [
    "inp1.unsqueeze(-1).stride()"
   ]
  },
  {
   "cell_type": "code",
   "execution_count": 168,
   "id": "70c94f9b",
   "metadata": {},
   "outputs": [
    {
     "data": {
      "text/plain": [
       "torch.Size([20000, 784, 1])"
      ]
     },
     "execution_count": 168,
     "metadata": {},
     "output_type": "execute_result"
    }
   ],
   "source": [
    "inp1.unsqueeze(-1).shape"
   ]
  },
  {
   "cell_type": "code",
   "execution_count": 176,
   "id": "3fddd2fc",
   "metadata": {},
   "outputs": [
    {
     "data": {
      "text/plain": [
       "torch.Size([20000, 784, 1])"
      ]
     },
     "execution_count": 176,
     "metadata": {},
     "output_type": "execute_result"
    }
   ],
   "source": [
    "inp1[:,:,None].shape"
   ]
  },
  {
   "cell_type": "code",
   "execution_count": null,
   "id": "46133054",
   "metadata": {},
   "outputs": [],
   "source": []
  },
  {
   "cell_type": "code",
   "execution_count": 107,
   "id": "bdd6c57e",
   "metadata": {},
   "outputs": [
    {
     "data": {
      "text/plain": [
       "(torch.Size([20000, 784]), torch.Size([20000, 784, 1]))"
      ]
     },
     "execution_count": 107,
     "metadata": {},
     "output_type": "execute_result"
    }
   ],
   "source": [
    "inp1.shape, inp1.unsqueeze(-1).shape"
   ]
  },
  {
   "cell_type": "code",
   "execution_count": 110,
   "id": "521fcc90",
   "metadata": {},
   "outputs": [
    {
     "data": {
      "text/plain": [
       "(torch.Size([20000, 50]), torch.Size([20000, 1, 50]))"
      ]
     },
     "execution_count": 110,
     "metadata": {},
     "output_type": "execute_result"
    }
   ],
   "source": [
    "test_outp.g.shape,test_outp.g.unsqueeze(1).shape,"
   ]
  },
  {
   "cell_type": "code",
   "execution_count": 163,
   "id": "64761bf3",
   "metadata": {},
   "outputs": [
    {
     "data": {
      "text/plain": [
       "(torch.Size([20000, 784, 1]), torch.Size([20000, 1, 50]))"
      ]
     },
     "execution_count": 163,
     "metadata": {},
     "output_type": "execute_result"
    }
   ],
   "source": [
    "inp1.unsqueeze(-1).shape, test_outp.g.unsqueeze(1).shape,"
   ]
  },
  {
   "cell_type": "code",
   "execution_count": 23,
   "id": "7b530363",
   "metadata": {},
   "outputs": [],
   "source": [
    "def lin_grad(inp, outp, w, b):\n",
    "    inp.g = outp.g@w.t()\n",
    "    w.g = inp.t()@outp.g\n",
    "    b.g = outp.g.sum(0)  \n",
    "\n",
    "def lin_gradv2(inp, out, w, b):\n",
    "    # grad of matmul with respect to input\n",
    "    inp.g = out.g @ w.t()\n",
    "    w.g = (inp.unsqueeze(-1) * out.g.unsqueeze(1)).sum(0)\n",
    "    b.g = out.g.sum(0)   "
   ]
  },
  {
   "cell_type": "code",
   "execution_count": 24,
   "id": "53b2c239",
   "metadata": {},
   "outputs": [],
   "source": [
    "def forward_and_backward(inp, targ):\n",
    "    l1 = lin(inp, w1, b1)\n",
    "    l2 = relu(l1)\n",
    "    outp = lin(l1, w2, b2)\n",
    "    diff = outp[:,0]-targ\n",
    "    loss = diff.pow(2).mean()\n",
    "    \n",
    "    outp.g = 2*diff[:,None]/inp.shape[0]\n",
    "#     lin_grad(l1, outp, w2, b2)\n",
    "    lin_gradv2(l1, outp, w2, b2)\n",
    "    l1.g = (l1 > 0).float()*l1.g\n",
    "#     lin_grad(inp, l1, w1, b1)    \n",
    "    lin_gradv2(inp, l1, w1, b1)"
   ]
  },
  {
   "cell_type": "code",
   "execution_count": 25,
   "id": "11864fd1",
   "metadata": {},
   "outputs": [
    {
     "name": "stdout",
     "output_type": "stream",
     "text": [
      "CPU times: user 32.6 s, sys: 10min 18s, total: 10min 50s\n",
      "Wall time: 4min 7s\n"
     ]
    }
   ],
   "source": [
    "%time forward_and_backward(x_train, y_train)"
   ]
  },
  {
   "cell_type": "code",
   "execution_count": 33,
   "id": "f3d0cfe8",
   "metadata": {},
   "outputs": [],
   "source": [
    "def get_grad(x):\n",
    "    return x.g.clone()\n",
    "chks = w1,w2,b1,b2,x_train\n",
    "grad = tuple(map(get_grad, chks))"
   ]
  },
  {
   "cell_type": "code",
   "execution_count": 34,
   "id": "a7d2921e",
   "metadata": {},
   "outputs": [],
   "source": [
    "def mk_grad(x):\n",
    "    return x.clone().requires_grad_(True)\n",
    "ptgrads = w12,w22,b12,b22,xt2 = tuple(map(mk_grad, chks))"
   ]
  },
  {
   "cell_type": "code",
   "execution_count": 35,
   "id": "a1123921",
   "metadata": {},
   "outputs": [],
   "source": [
    "def forward(inp, targ):\n",
    "    l1 = lin(inp, w12, b12)\n",
    "    l2 = relu(l1)\n",
    "    outp = lin(l2, w22, b22)\n",
    "    return mse(outp, targ)"
   ]
  },
  {
   "cell_type": "code",
   "execution_count": 36,
   "id": "84379f58",
   "metadata": {},
   "outputs": [],
   "source": [
    "loss = forward(xt2, y_train)\n",
    "loss.backward()"
   ]
  },
  {
   "cell_type": "code",
   "execution_count": 37,
   "id": "44458fa8",
   "metadata": {},
   "outputs": [
    {
     "name": "stdout",
     "output_type": "stream",
     "text": [
      "False\n",
      "False\n",
      "False\n",
      "False\n",
      "False\n"
     ]
    }
   ],
   "source": [
    "for a,b in zip(grad, ptgrads):\n",
    "    print(torch.allclose(a, b, rtol=0.01))"
   ]
  },
  {
   "cell_type": "code",
   "execution_count": 38,
   "id": "fb1f0122",
   "metadata": {},
   "outputs": [],
   "source": [
    "from fastcore.test import test_close"
   ]
  },
  {
   "cell_type": "code",
   "execution_count": 39,
   "id": "f506587f",
   "metadata": {},
   "outputs": [
    {
     "ename": "AssertionError",
     "evalue": "close:\ntensor([[0., 0., 0.,  ..., 0., 0., 0.],\n        [0., 0., 0.,  ..., 0., 0., 0.],\n        [0., 0., 0.,  ..., 0., 0., 0.],\n        ...,\n        [0., 0., 0.,  ..., 0., 0., 0.],\n        [0., 0., 0.,  ..., 0., 0., 0.],\n        [0., 0., 0.,  ..., 0., 0., 0.]])\ntensor([[0., 0., 0.,  ..., 0., 0., 0.],\n        [0., 0., 0.,  ..., 0., 0., 0.],\n        [0., 0., 0.,  ..., 0., 0., 0.],\n        ...,\n        [0., 0., 0.,  ..., 0., 0., 0.],\n        [0., 0., 0.,  ..., 0., 0., 0.],\n        [0., 0., 0.,  ..., 0., 0., 0.]])",
     "output_type": "error",
     "traceback": [
      "\u001b[0;31m---------------------------------------------------------------------------\u001b[0m",
      "\u001b[0;31mAssertionError\u001b[0m                            Traceback (most recent call last)",
      "\u001b[0;32m/var/folders/8k/07c2mpg56x7c31_26k0qj2y00000gn/T/ipykernel_53653/513389351.py\u001b[0m in \u001b[0;36m<module>\u001b[0;34m\u001b[0m\n\u001b[1;32m      1\u001b[0m \u001b[0;32mfor\u001b[0m \u001b[0ma\u001b[0m\u001b[0;34m,\u001b[0m\u001b[0mb\u001b[0m \u001b[0;32min\u001b[0m \u001b[0mzip\u001b[0m\u001b[0;34m(\u001b[0m\u001b[0mgrad\u001b[0m\u001b[0;34m,\u001b[0m \u001b[0mptgrads\u001b[0m\u001b[0;34m)\u001b[0m\u001b[0;34m:\u001b[0m\u001b[0;34m\u001b[0m\u001b[0;34m\u001b[0m\u001b[0m\n\u001b[0;32m----> 2\u001b[0;31m     \u001b[0mprint\u001b[0m\u001b[0;34m(\u001b[0m\u001b[0mtest_close\u001b[0m\u001b[0;34m(\u001b[0m\u001b[0ma\u001b[0m\u001b[0;34m,\u001b[0m \u001b[0mb\u001b[0m\u001b[0;34m.\u001b[0m\u001b[0mgrad\u001b[0m\u001b[0;34m,\u001b[0m \u001b[0meps\u001b[0m\u001b[0;34m=\u001b[0m\u001b[0;36m0.01\u001b[0m\u001b[0;34m)\u001b[0m\u001b[0;34m)\u001b[0m\u001b[0;34m\u001b[0m\u001b[0;34m\u001b[0m\u001b[0m\n\u001b[0m",
      "\u001b[0;32m/Applications/anaconda3/lib/python3.9/site-packages/fastcore/test.py\u001b[0m in \u001b[0;36mtest_close\u001b[0;34m(a, b, eps)\u001b[0m\n\u001b[1;32m     61\u001b[0m \u001b[0;32mdef\u001b[0m \u001b[0mtest_close\u001b[0m\u001b[0;34m(\u001b[0m\u001b[0ma\u001b[0m\u001b[0;34m,\u001b[0m\u001b[0mb\u001b[0m\u001b[0;34m,\u001b[0m\u001b[0meps\u001b[0m\u001b[0;34m=\u001b[0m\u001b[0;36m1e-5\u001b[0m\u001b[0;34m)\u001b[0m\u001b[0;34m:\u001b[0m\u001b[0;34m\u001b[0m\u001b[0;34m\u001b[0m\u001b[0m\n\u001b[1;32m     62\u001b[0m     \u001b[0;34m\"`test` that `a` is within `eps` of `b`\"\u001b[0m\u001b[0;34m\u001b[0m\u001b[0;34m\u001b[0m\u001b[0m\n\u001b[0;32m---> 63\u001b[0;31m     \u001b[0mtest\u001b[0m\u001b[0;34m(\u001b[0m\u001b[0ma\u001b[0m\u001b[0;34m,\u001b[0m\u001b[0mb\u001b[0m\u001b[0;34m,\u001b[0m\u001b[0mpartial\u001b[0m\u001b[0;34m(\u001b[0m\u001b[0mis_close\u001b[0m\u001b[0;34m,\u001b[0m\u001b[0meps\u001b[0m\u001b[0;34m=\u001b[0m\u001b[0meps\u001b[0m\u001b[0;34m)\u001b[0m\u001b[0;34m,\u001b[0m\u001b[0;34m'close'\u001b[0m\u001b[0;34m)\u001b[0m\u001b[0;34m\u001b[0m\u001b[0;34m\u001b[0m\u001b[0m\n\u001b[0m\u001b[1;32m     64\u001b[0m \u001b[0;34m\u001b[0m\u001b[0m\n\u001b[1;32m     65\u001b[0m \u001b[0;31m# %% ../nbs/00_test.ipynb 32\u001b[0m\u001b[0;34m\u001b[0m\u001b[0;34m\u001b[0m\u001b[0m\n",
      "\u001b[0;32m/Applications/anaconda3/lib/python3.9/site-packages/fastcore/test.py\u001b[0m in \u001b[0;36mtest\u001b[0;34m(a, b, cmp, cname)\u001b[0m\n\u001b[1;32m     25\u001b[0m     \u001b[0;34m\"`assert` that `cmp(a,b)`; display inputs and `cname or cmp.__name__` if it fails\"\u001b[0m\u001b[0;34m\u001b[0m\u001b[0;34m\u001b[0m\u001b[0m\n\u001b[1;32m     26\u001b[0m     \u001b[0;32mif\u001b[0m \u001b[0mcname\u001b[0m \u001b[0;32mis\u001b[0m \u001b[0;32mNone\u001b[0m\u001b[0;34m:\u001b[0m \u001b[0mcname\u001b[0m\u001b[0;34m=\u001b[0m\u001b[0mcmp\u001b[0m\u001b[0;34m.\u001b[0m\u001b[0m__name__\u001b[0m\u001b[0;34m\u001b[0m\u001b[0;34m\u001b[0m\u001b[0m\n\u001b[0;32m---> 27\u001b[0;31m     \u001b[0;32massert\u001b[0m \u001b[0mcmp\u001b[0m\u001b[0;34m(\u001b[0m\u001b[0ma\u001b[0m\u001b[0;34m,\u001b[0m\u001b[0mb\u001b[0m\u001b[0;34m)\u001b[0m\u001b[0;34m,\u001b[0m\u001b[0;34mf\"{cname}:\\n{a}\\n{b}\"\u001b[0m\u001b[0;34m\u001b[0m\u001b[0;34m\u001b[0m\u001b[0m\n\u001b[0m\u001b[1;32m     28\u001b[0m \u001b[0;34m\u001b[0m\u001b[0m\n\u001b[1;32m     29\u001b[0m \u001b[0;31m# %% ../nbs/00_test.ipynb 16\u001b[0m\u001b[0;34m\u001b[0m\u001b[0;34m\u001b[0m\u001b[0m\n",
      "\u001b[0;31mAssertionError\u001b[0m: close:\ntensor([[0., 0., 0.,  ..., 0., 0., 0.],\n        [0., 0., 0.,  ..., 0., 0., 0.],\n        [0., 0., 0.,  ..., 0., 0., 0.],\n        ...,\n        [0., 0., 0.,  ..., 0., 0., 0.],\n        [0., 0., 0.,  ..., 0., 0., 0.],\n        [0., 0., 0.,  ..., 0., 0., 0.]])\ntensor([[0., 0., 0.,  ..., 0., 0., 0.],\n        [0., 0., 0.,  ..., 0., 0., 0.],\n        [0., 0., 0.,  ..., 0., 0., 0.],\n        ...,\n        [0., 0., 0.,  ..., 0., 0., 0.],\n        [0., 0., 0.,  ..., 0., 0., 0.],\n        [0., 0., 0.,  ..., 0., 0., 0.]])"
     ]
    }
   ],
   "source": [
    "for a,b in zip(grad, ptgrads):\n",
    "    print(test_close(a, b.grad, eps=0.01))"
   ]
  },
  {
   "cell_type": "code",
   "execution_count": null,
   "id": "01b375f7",
   "metadata": {},
   "outputs": [],
   "source": []
  }
 ],
 "metadata": {
  "kernelspec": {
   "display_name": "Python 3 (ipykernel)",
   "language": "python",
   "name": "python3"
  },
  "language_info": {
   "codemirror_mode": {
    "name": "ipython",
    "version": 3
   },
   "file_extension": ".py",
   "mimetype": "text/x-python",
   "name": "python",
   "nbconvert_exporter": "python",
   "pygments_lexer": "ipython3",
   "version": "3.9.7"
  }
 },
 "nbformat": 4,
 "nbformat_minor": 5
}
