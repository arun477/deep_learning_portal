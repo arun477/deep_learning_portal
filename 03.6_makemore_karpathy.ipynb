{
 "cells": [
  {
   "cell_type": "code",
   "execution_count": 238,
   "id": "b0e9377e",
   "metadata": {},
   "outputs": [],
   "source": [
    "import torch, math\n",
    "import matplotlib.pyplot as plt\n",
    "import torch.nn.functional as F\n",
    "%matplotlib inline"
   ]
  },
  {
   "cell_type": "code",
   "execution_count": 239,
   "id": "14f8478b",
   "metadata": {},
   "outputs": [
    {
     "data": {
      "text/plain": [
       "21974"
      ]
     },
     "execution_count": 239,
     "metadata": {},
     "output_type": "execute_result"
    }
   ],
   "source": [
    "words = open('data/names.txt').read().splitlines()\n",
    "words = list(set(w.lower() for w in words))\n",
    "len(words)"
   ]
  },
  {
   "cell_type": "code",
   "execution_count": 240,
   "id": "11ab07cf",
   "metadata": {},
   "outputs": [
    {
     "data": {
      "text/plain": [
       "29"
      ]
     },
     "execution_count": 240,
     "metadata": {},
     "output_type": "execute_result"
    }
   ],
   "source": [
    "chars = sorted(list(set(\"\".join(words))))\n",
    "stoi = {s:i for i,s in enumerate(chars)}\n",
    "stoi['.'] = 0\n",
    "itos = {i:s for s,i in stoi.items()}\n",
    "vocab_size = len(itos)\n",
    "vocab_size"
   ]
  },
  {
   "cell_type": "code",
   "execution_count": 241,
   "id": "9e176659",
   "metadata": {},
   "outputs": [],
   "source": [
    "block_size = 3\n",
    "\n",
    "def build_dataset(words):\n",
    "    X,Y = [], []\n",
    "    context = [0]*block_size\n",
    "    for w in words:\n",
    "        for ch in w+'.':\n",
    "            ix = stoi[ch]\n",
    "            Y.append(ix)\n",
    "            X.append(context)\n",
    "            context = context[1:] + [ix]\n",
    "    X,Y = torch.tensor(X), torch.tensor(Y)\n",
    "    print(X.shape, Y.shape)\n",
    "    return X,Y"
   ]
  },
  {
   "cell_type": "code",
   "execution_count": 242,
   "id": "560507d5",
   "metadata": {},
   "outputs": [
    {
     "name": "stdout",
     "output_type": "stream",
     "text": [
      "torch.Size([125900, 3]) torch.Size([125900])\n",
      "torch.Size([15695, 3]) torch.Size([15695])\n",
      "torch.Size([15685, 3]) torch.Size([15685])\n"
     ]
    }
   ],
   "source": [
    "import random\n",
    "\n",
    "random.shuffle(words)\n",
    "\n",
    "n1 = int(0.8*len(words))\n",
    "n2 = int(0.9*len(words))\n",
    "\n",
    "Xtr,Ytr = build_dataset(words[:n1])\n",
    "Xdev,Ydev = build_dataset(words[n1:n2])\n",
    "Xte,Yte = build_dataset(words[n2:])"
   ]
  },
  {
   "cell_type": "code",
   "execution_count": 253,
   "id": "529c4220",
   "metadata": {},
   "outputs": [],
   "source": [
    "def cmp(s, dt, t):\n",
    "    exc = torch.all(dt==t.grad).item()\n",
    "    app = torch.allclose(dt, t.grad)\n",
    "    maxdiff = (dt-t.grad).abs().max().item()\n",
    "    print(f\"{s:15s} | exact {str(exc):5s} | abs {str(app):5s} | maxdiff {maxdiff:}\")"
   ]
  },
  {
   "cell_type": "code",
   "execution_count": 254,
   "id": "6fedd398",
   "metadata": {},
   "outputs": [
    {
     "name": "stdout",
     "output_type": "stream",
     "text": [
      "4287\n"
     ]
    }
   ],
   "source": [
    "n_emb = 10\n",
    "n_hidden = 64\n",
    "\n",
    "C = torch.randn((vocab_size, n_emb))\n",
    "\n",
    "W1 = torch.randn((n_emb*block_size, n_hidden)) * (5/3)/((n_emb*block_size)**0.5)\n",
    "b1 = torch.randn(n_hidden) * 0.1\n",
    "\n",
    "bngain = torch.randn((1, n_hidden))*0.1 + 1.0\n",
    "bnbias = torch.randn((1, n_hidden))*0.1\n",
    "\n",
    "W2 = torch.randn((n_hidden, vocab_size)) * 0.1\n",
    "b2 = torch.randn(vocab_size) * 0.1\n",
    "\n",
    "\n",
    "parameters = [C, W1, b1, W2, b2, bngain, bnbias]\n",
    "print(sum(p.nelement() for p in parameters))\n",
    "for p in parameters:\n",
    "    p.requires_grad = True"
   ]
  },
  {
   "cell_type": "code",
   "execution_count": 255,
   "id": "7390c801",
   "metadata": {},
   "outputs": [
    {
     "data": {
      "text/plain": [
       "(torch.Size([32, 3]), torch.Size([32]))"
      ]
     },
     "execution_count": 255,
     "metadata": {},
     "output_type": "execute_result"
    }
   ],
   "source": [
    "batch_size = 32\n",
    "n = batch_size\n",
    "bix = torch.randint(0, Xtr.shape[0], (n,))\n",
    "Xb,Yb = Xtr[bix], Ytr[bix]\n",
    "Xb.shape, Yb.shape"
   ]
  },
  {
   "cell_type": "code",
   "execution_count": 256,
   "id": "be865195",
   "metadata": {},
   "outputs": [
    {
     "data": {
      "text/plain": [
       "tensor(3.6158, grad_fn=<NegBackward0>)"
      ]
     },
     "execution_count": 256,
     "metadata": {},
     "output_type": "execute_result"
    }
   ],
   "source": [
    "emb = C[Xb]\n",
    "emb_cat = emb.view(emb.shape[0], -1)\n",
    "hprebn = emb_cat @ W1 + b1\n",
    "\n",
    "bnmeani = 1/n*hprebn.sum(0, keepdim=True)\n",
    "bndiff = hprebn - bnmeani\n",
    "bndiff2 = bndiff**2\n",
    "\n",
    "bnvar = 1/(n-1)*bndiff2.sum(0, keepdim=True)\n",
    "bnvar_inv = (bnvar + 1e-5)**-0.5\n",
    "\n",
    "bnraw = bndiff * bnvar_inv\n",
    "\n",
    "hpreact = bngain * bnraw + bnbias\n",
    "\n",
    "h = torch.tanh(hpreact)\n",
    "\n",
    "logits = h @ W2 + b2\n",
    "\n",
    "logits_max = logits.max(1, keepdim=True).values\n",
    "logits_norm = logits - logits_max\n",
    "counts = logits_norm.exp()\n",
    "counts_sum = counts.sum(1, keepdim=True)\n",
    "counts_sum_inv = counts_sum**-1\n",
    "probs = counts*counts_sum_inv\n",
    "logprobs = probs.log()\n",
    "loss = -logprobs[range(n), Yb].mean()\n",
    "\n",
    "\n",
    "for p in parameters:\n",
    "    p.grad = None\n",
    "    \n",
    "    \n",
    "for t in [logprobs, probs, counts, counts_sum, counts_sum_inv,\n",
    "          logits_norm, logits_max, logits, h, hpreact, bnraw, bnvar,\n",
    "          bnvar_inv, bndiff2, bndiff, hprebn, bnmeani,emb_cat, emb\n",
    "         ]:\n",
    "    t.retain_grad()\n",
    "loss.backward()\n",
    "loss"
   ]
  },
  {
   "cell_type": "code",
   "execution_count": 292,
   "id": "f30d09ee",
   "metadata": {
    "scrolled": true
   },
   "outputs": [
    {
     "name": "stdout",
     "output_type": "stream",
     "text": [
      "logprobs        | exact True  | abs True  | maxdiff 0.0\n",
      "probs           | exact True  | abs True  | maxdiff 0.0\n",
      "count_sum_inv   | exact True  | abs True  | maxdiff 0.0\n",
      "counts          | exact True  | abs True  | maxdiff 0.0\n",
      "counts_sum      | exact True  | abs True  | maxdiff 0.0\n",
      "logits_norm     | exact True  | abs True  | maxdiff 0.0\n",
      "logits          | exact True  | abs True  | maxdiff 0.0\n",
      "logits_max      | exact True  | abs True  | maxdiff 0.0\n",
      "h               | exact True  | abs True  | maxdiff 0.0\n",
      "W2              | exact True  | abs True  | maxdiff 0.0\n",
      "b2              | exact True  | abs True  | maxdiff 0.0\n",
      "hpreact         | exact True  | abs True  | maxdiff 0.0\n",
      "bngain          | exact True  | abs True  | maxdiff 0.0\n",
      "bnbias          | exact True  | abs True  | maxdiff 0.0\n",
      "bnraw           | exact True  | abs True  | maxdiff 0.0\n",
      "bndiff          | exact True  | abs True  | maxdiff 0.0\n",
      "bnvar_inv       | exact True  | abs True  | maxdiff 0.0\n",
      "bnvar           | exact True  | abs True  | maxdiff 0.0\n",
      "bndiff2         | exact True  | abs True  | maxdiff 0.0\n",
      "bndiff          | exact True  | abs True  | maxdiff 0.0\n",
      "hprebn          | exact True  | abs True  | maxdiff 0.0\n",
      "bnmeani         | exact True  | abs True  | maxdiff 0.0\n",
      "embcat          | exact True  | abs True  | maxdiff 0.0\n",
      "W1              | exact True  | abs True  | maxdiff 0.0\n",
      "b1              | exact True  | abs True  | maxdiff 0.0\n",
      "emb             | exact True  | abs True  | maxdiff 0.0\n",
      "C               | exact True  | abs True  | maxdiff 0.0\n"
     ]
    }
   ],
   "source": [
    "dlogprobs = torch.zeros_like(logprobs)\n",
    "dlogprobs[range(n), Yb] = -1.0/n\n",
    "\n",
    "dprobs = (1.0/probs)*dlogprobs\n",
    "dcounts_sum_inv = (counts*dprobs).sum(1, keepdim=True)\n",
    "dcounts = counts_sum_inv*dprobs\n",
    "dcounts_sum = (-counts_sum**-2) * dcounts_sum_inv\n",
    "\n",
    "dcounts += torch.ones_like(counts)*dcounts_sum\n",
    "dlogits_norm = counts*dcounts\n",
    "dlogits = dlogits_norm.clone()\n",
    "dlogits_max = (-dlogits_norm).sum(1, keepdim=True)\n",
    "dlogits += F.one_hot(logits.max(1).indices,  num_classes=logits.shape[1]) * dlogits_max\n",
    "\n",
    "dh = dlogits @ W2.T\n",
    "dW2 = h.T @ dlogits\n",
    "db2 = dlogits.sum(0)\n",
    "\n",
    "dhpreact = (1.0-h**2)*dh\n",
    "dbngain = (bnraw*dhpreact).sum(0, keepdim=True)\n",
    "dbnraw = bngain*dhpreact\n",
    "\n",
    "dbnbias = dhpreact.sum(0, keepdim=True)\n",
    "dbndiff = bnvar_inv * dbnraw\n",
    "\n",
    "\n",
    "dbnvar_inv = (bndiff*dbnraw).sum(0, keepdim=True)\n",
    "dbnvar = -0.5*((bnvar+1e-5)**-1.5) * dbnvar_inv\n",
    "\n",
    "dbndiff2 = (1.0/(n-1)) * (torch.ones_like(bndiff2) * dbnvar)\n",
    "dbndiff += 2*(bndiff)* dbndiff2\n",
    "\n",
    "dhprebn = dbndiff.clone()\n",
    "\n",
    "dbnmeani =(-dbndiff).sum(0)\n",
    "\n",
    "dhprebn += 1/n * (torch.ones_like(hprebn)*dbnmeani)\n",
    "demb_cat = dhprebn @ W1.T\n",
    "dW1 = emb_cat.T @ dhprebn\n",
    "db1 = dhprebn.sum(0)\n",
    "demb = demb_cat.view(emb.shape)\n",
    "\n",
    "dC = torch.zeros_like(C)\n",
    "for k in range(Xb.shape[0]):\n",
    "    for j in range(Xb.shape[1]):\n",
    "        ix = Xb[k, j]\n",
    "        dC[ix] += demb[k,j]\n",
    "        \n",
    "cmp('logprobs', dlogprobs, logprobs)\n",
    "cmp('probs', dprobs, probs)\n",
    "cmp('count_sum_inv', dcounts_sum_inv, counts_sum_inv)\n",
    "cmp('counts', dcounts, counts)\n",
    "cmp('counts_sum', dcounts_sum, counts_sum)\n",
    "cmp('logits_norm', dlogits_norm, logits_norm)\n",
    "cmp('logits', dlogits, logits)\n",
    "cmp('logits_max', dlogits_max, logits_max)\n",
    "cmp('h', dh, h)\n",
    "cmp('W2', dW2, W2)\n",
    "cmp('b2', db2, b2)\n",
    "cmp('hpreact', dhpreact, hpreact)\n",
    "cmp('bngain', dbngain, bngain)\n",
    "cmp('bnbias', dbnbias, bnbias)\n",
    "cmp('bnraw',dbnraw, bnraw)\n",
    "cmp('bndiff', dbndiff, bndiff)\n",
    "cmp('bnvar_inv', dbnvar_inv, bnvar_inv)\n",
    "cmp('bnvar', dbnvar, bnvar)\n",
    "cmp('bndiff2', dbndiff2, bndiff2)\n",
    "cmp('bndiff', dbndiff, bndiff)\n",
    "cmp('hprebn', dhprebn, hprebn)\n",
    "cmp('bnmeani', dbnmeani, bnmeani)\n",
    "cmp('embcat', demb_cat, emb_cat)\n",
    "cmp('W1', dW1, W1)\n",
    "cmp('b1', db1, b1)\n",
    "cmp('emb', demb, emb)\n",
    "cmp('C', dC, C)"
   ]
  },
  {
   "cell_type": "code",
   "execution_count": 295,
   "id": "748f6fe8",
   "metadata": {},
   "outputs": [
    {
     "name": "stdout",
     "output_type": "stream",
     "text": [
      "3.6158320903778076 diff -2.384185791015625e-07\n"
     ]
    }
   ],
   "source": [
    "loss_fast = F.cross_entropy(logits, Yb)\n",
    "print(loss_fast.item(),f\"diff {(loss_fast - loss).item()}\")"
   ]
  },
  {
   "cell_type": "code",
   "execution_count": 300,
   "id": "74e9c4d8",
   "metadata": {},
   "outputs": [
    {
     "name": "stdout",
     "output_type": "stream",
     "text": [
      "logits          | exact False | abs False | maxdiff 0.1296791136264801\n"
     ]
    }
   ],
   "source": [
    "dlogits = F.softmax(logits, 1)\n",
    "dlogits[range(n), Yb] -= 1\n",
    "dlogits /= n\n",
    "cmp('logits', dlogits, logits)"
   ]
  },
  {
   "cell_type": "code",
   "execution_count": 303,
   "id": "fad6f712",
   "metadata": {},
   "outputs": [
    {
     "data": {
      "image/png": "[encoded data removed]",
      "text/plain": [
       "<Figure size 432x288 with 1 Axes>"
      ]
     },
     "metadata": {
      "needs_background": "light"
     },
     "output_type": "display_data"
    }
   ],
   "source": [
    "plt.imshow(dlogits.detach(), cmap='gray');"
   ]
  },
  {
   "cell_type": "code",
   "execution_count": 310,
   "id": "c0beda01",
   "metadata": {},
   "outputs": [
    {
     "name": "stdout",
     "output_type": "stream",
     "text": [
      "max diff 4.76837158203125e-07\n"
     ]
    }
   ],
   "source": [
    "hpreact_fast = bngain * (hprebn - hprebn.mean(0, keepdim=True))\\\n",
    "/ torch.sqrt(hprebn.var(0, keepdim=True, unbiased=True)+1e-5) + bnbias\n",
    "\n",
    "print('max diff', (hpreact_fast-hpreact).abs().max().item())"
   ]
  },
  {
   "cell_type": "code",
   "execution_count": 311,
   "id": "97fd4110",
   "metadata": {},
   "outputs": [
    {
     "name": "stdout",
     "output_type": "stream",
     "text": [
      "hprebh          | exact False | abs True  | maxdiff 9.313225746154785e-10\n"
     ]
    }
   ],
   "source": [
    "dhprebn = bngain*bnvar_inv/n * (n*dhpreact - dhpreact.sum(0) - n/(n-1)*bnraw*(dhpreact*bnraw).sum(0))\n",
    "cmp('hprebh', dhprebn, hprebn)"
   ]
  },
  {
   "cell_type": "code",
   "execution_count": null,
   "id": "d1a966ce",
   "metadata": {},
   "outputs": [],
   "source": []
  },
  {
   "cell_type": "code",
   "execution_count": 317,
   "id": "660de22c",
   "metadata": {},
   "outputs": [
    {
     "name": "stdout",
     "output_type": "stream",
     "text": [
      "12719\n"
     ]
    }
   ],
   "source": [
    "n_emb = 10\n",
    "n_hidden = 200\n",
    "\n",
    "C = torch.randn((vocab_size, n_emb))\n",
    "\n",
    "W1 = torch.randn((n_emb*block_size, n_hidden)) * (5/3)/((n_emb*block_size)**0.5)\n",
    "b1 = torch.randn(n_hidden) * 0.1\n",
    "\n",
    "bngain = torch.randn((1, n_hidden)) * 0.1 + 1.0\n",
    "bnbias = torch.randn((1, n_hidden)) * 0.1\n",
    "\n",
    "W2 = torch.randn((n_hidden, vocab_size)) * 0.1\n",
    "b2 = torch.randn(vocab_size) * 0.1\n",
    "\n",
    "parameters = [C, W1, b1, W2, b2, bngain, bnbias]\n",
    "print(sum(p.nelement() for p in parameters))\n",
    "for p in parameters:\n",
    "    p.require_grad = True\n",
    "    \n",
    "    \n",
    "n = batch_size\n",
    "max_steps = 200000\n",
    "lossi = []\n",
    "\n",
    "for i in range(max_steps):\n",
    "    ix = torch.randint(0, Xtr.shape[0], (batch_size,))\n",
    "    Xb,Yb = Xtr[ix], Ytr[ix]\n",
    "    \n",
    "    emb = C[Xb]\n",
    "    emb_cat = emb.view(emb.shape[0], -1)\n",
    "    \n",
    "    hprebn = emb_cat @ W1 + b1\n",
    "    \n",
    "    bnmean = hprebn.mean(0, keepdim=True)\n",
    "    bnvar = hprebn.var(0, keepdim=True, unbiased=True)\n",
    "    bnvar_inv = (bnvar + 1e-5)**-0.5\n",
    "    bnraw = (hprebn - bnmean) * bnvar_inv\n",
    "    hpreact = bngain * bnraw + bnbias\n",
    "    \n",
    "    h = torch.tanh(hpreact)\n",
    "    logits = h @ W2 + b1\n",
    "    loss = F.cross_entropy(logits, Yb)\n",
    "    \n",
    "    for p in parameters:\n",
    "        p.grad = None\n",
    "        \n",
    "    \n",
    "    \n",
    "    \n",
    "    break"
   ]
  },
  {
   "cell_type": "code",
   "execution_count": null,
   "id": "250534e7",
   "metadata": {},
   "outputs": [],
   "source": []
  }
 ],
 "metadata": {
  "kernelspec": {
   "display_name": "Python 3 (ipykernel)",
   "language": "python",
   "name": "python3"
  },
  "language_info": {
   "codemirror_mode": {
    "name": "ipython",
    "version": 3
   },
   "file_extension": ".py",
   "mimetype": "text/x-python",
   "name": "python",
   "nbconvert_exporter": "python",
   "pygments_lexer": "ipython3",
   "version": "3.9.7"
  }
 },
 "nbformat": 4,
 "nbformat_minor": 5
}
