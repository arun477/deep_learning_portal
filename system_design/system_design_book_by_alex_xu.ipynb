{
 "cells": [
  {
   "cell_type": "markdown",
   "id": "f945145f",
   "metadata": {},
   "source": [
    "nosql database categories\n",
    "\n",
    "1. key value stores\n",
    "    - `simple and quick access`\n",
    "    \n",
    "    - redis\n",
    "    - amazon dynamo db\n",
    "    - riak\n",
    "    \n",
    "2. graph stores\n",
    "    - `relationships between data points`\n",
    "    \n",
    "    - neo4js\n",
    "    - amazon neptune\n",
    "    - arangodb\n",
    "    \n",
    "3. column stores\n",
    "    - `efficient for analytical queries and aggregations, more like rational but data stored in columnwise not like row in relational database`\n",
    "    \n",
    "    - apache cassandra\n",
    "    - HBase\n",
    "    - google bigtable\n",
    "    \n",
    "    \n",
    "4. document stores\n",
    "    - `stores as a document formet like JSON or BSON format`\n",
    "    \n",
    "    - elasticsearchdb\n",
    "    - mongodb\n",
    "    - couchdb"
   ]
  },
  {
   "cell_type": "markdown",
   "id": "36981dcf",
   "metadata": {},
   "source": [
    "two types of scalling\n",
    "\n",
    "1. web tier \n",
    "    - webservers which handles the http request\n",
    "\n",
    "\n",
    "2. database tier\n",
    "    - usal databases"
   ]
  },
  {
   "cell_type": "markdown",
   "id": "20f2df87",
   "metadata": {},
   "source": [
    "load balancer"
   ]
  },
  {
   "cell_type": "markdown",
   "id": "da58df60",
   "metadata": {},
   "source": [
    "- which points pointed to the internet as a public facing IP and redirects the request to the web servers.\n",
    "- internally which connects bunch of private IP web servers, and based on availability which redirects the request respecitvely each servers.\n",
    "- web tier scalling done easly by adding more server to the pool of the load balancer. "
   ]
  },
  {
   "cell_type": "code",
   "execution_count": null,
   "id": "6f74923a",
   "metadata": {},
   "outputs": [],
   "source": []
  }
 ],
 "metadata": {
  "kernelspec": {
   "display_name": "Python 3 (ipykernel)",
   "language": "python",
   "name": "python3"
  },
  "language_info": {
   "codemirror_mode": {
    "name": "ipython",
    "version": 3
   },
   "file_extension": ".py",
   "mimetype": "text/x-python",
   "name": "python",
   "nbconvert_exporter": "python",
   "pygments_lexer": "ipython3",
   "version": "3.9.7"
  }
 },
 "nbformat": 4,
 "nbformat_minor": 5
}
