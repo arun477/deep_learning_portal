{
 "cells": [
  {
   "cell_type": "markdown",
   "id": "dbf85457",
   "metadata": {},
   "source": [
    "nosql database categories\n",
    "\n",
    "1. key value stores\n",
    "    - `simple and quick access`\n",
    "    \n",
    "    - redis\n",
    "    - amazon dynamo db\n",
    "    - riak\n",
    "    \n",
    "2. graph stores\n",
    "    - `relationships between data points`\n",
    "    \n",
    "    - neo4js\n",
    "    - amazon neptune\n",
    "    - arangodb\n",
    "    \n",
    "3. column stores\n",
    "    - `efficient for analytical queries and aggregations, more like rational but data stored in columnwise not like row in relational database`\n",
    "    \n",
    "    - apache cassandra\n",
    "    - HBase\n",
    "    - google bigtable\n",
    "    \n",
    "    \n",
    "4. document stores\n",
    "    - `stores as a document formet like JSON or BSON format`\n",
    "    \n",
    "    - elasticsearchdb\n",
    "    - mongodb\n",
    "    - couchdb"
   ]
  },
  {
   "cell_type": "code",
   "execution_count": null,
   "id": "72985fd1",
   "metadata": {},
   "outputs": [],
   "source": []
  }
 ],
 "metadata": {
  "kernelspec": {
   "display_name": "Python 3 (ipykernel)",
   "language": "python",
   "name": "python3"
  },
  "language_info": {
   "codemirror_mode": {
    "name": "ipython",
    "version": 3
   },
   "file_extension": ".py",
   "mimetype": "text/x-python",
   "name": "python",
   "nbconvert_exporter": "python",
   "pygments_lexer": "ipython3",
   "version": "3.9.7"
  }
 },
 "nbformat": 4,
 "nbformat_minor": 5
}
