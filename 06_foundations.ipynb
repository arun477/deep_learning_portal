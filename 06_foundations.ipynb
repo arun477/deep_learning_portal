{
 "cells": [
  {
   "cell_type": "code",
   "execution_count": 1,
   "id": "55d09b0b",
   "metadata": {},
   "outputs": [],
   "source": [
    "import torch\n",
    "import matplotlib.pyplot as plt\n",
    "import random"
   ]
  },
  {
   "cell_type": "markdown",
   "id": "cb4efaf8",
   "metadata": {},
   "source": [
    "#### widgets"
   ]
  },
  {
   "cell_type": "code",
   "execution_count": 3,
   "id": "3f192d6a",
   "metadata": {},
   "outputs": [],
   "source": [
    "import ipywidgets as widgets"
   ]
  },
  {
   "cell_type": "code",
   "execution_count": 9,
   "id": "0cec36a5",
   "metadata": {},
   "outputs": [
    {
     "data": {
      "application/vnd.jupyter.widget-view+json": {
       "model_id": "3bcf4975f3ca49239bd1b2fa833ade24",
       "version_major": 2,
       "version_minor": 0
      },
      "text/plain": [
       "Button(description='click', style=ButtonStyle())"
      ]
     },
     "metadata": {},
     "output_type": "display_data"
    },
    {
     "name": "stdout",
     "output_type": "stream",
     "text": [
      "hi\n",
      "hi\n"
     ]
    }
   ],
   "source": [
    "w = widgets.Button(description='click')\n",
    "w.on_click(lambda x: print('hi'))\n",
    "w"
   ]
  },
  {
   "cell_type": "markdown",
   "id": "41a8aed7",
   "metadata": {},
   "source": [
    "#### callback basics"
   ]
  },
  {
   "cell_type": "code",
   "execution_count": 10,
   "id": "cb09a34b",
   "metadata": {},
   "outputs": [],
   "source": [
    "import time"
   ]
  },
  {
   "cell_type": "code",
   "execution_count": 11,
   "id": "3a3d714e",
   "metadata": {},
   "outputs": [],
   "source": [
    "def slow_calc():\n",
    "    res = 0\n",
    "    for i in range(5):\n",
    "        res += i**2\n",
    "        time.sleep(1)\n",
    "    return res"
   ]
  },
  {
   "cell_type": "code",
   "execution_count": 12,
   "id": "3cadccc4",
   "metadata": {},
   "outputs": [
    {
     "data": {
      "text/plain": [
       "30"
      ]
     },
     "execution_count": 12,
     "metadata": {},
     "output_type": "execute_result"
    }
   ],
   "source": [
    "slow_calc()"
   ]
  },
  {
   "cell_type": "code",
   "execution_count": 18,
   "id": "6dbc1178",
   "metadata": {},
   "outputs": [],
   "source": [
    "def slow_calc(cb=None):\n",
    "    res = 0\n",
    "    for i in range(5):\n",
    "        res += i**2\n",
    "        time.sleep(1)\n",
    "        if cb:\n",
    "            cb(i+1)\n",
    "    return res"
   ]
  },
  {
   "cell_type": "code",
   "execution_count": 19,
   "id": "e892ae32",
   "metadata": {},
   "outputs": [],
   "source": [
    "def show_progress(i):\n",
    "    print(f\"completed: {i}\")"
   ]
  },
  {
   "cell_type": "code",
   "execution_count": 20,
   "id": "49d44572",
   "metadata": {},
   "outputs": [
    {
     "name": "stdout",
     "output_type": "stream",
     "text": [
      "completed: 1\n",
      "completed: 2\n",
      "completed: 3\n",
      "completed: 4\n",
      "completed: 5\n"
     ]
    },
    {
     "data": {
      "text/plain": [
       "30"
      ]
     },
     "execution_count": 20,
     "metadata": {},
     "output_type": "execute_result"
    }
   ],
   "source": [
    "slow_calc(cb=show_progress)"
   ]
  },
  {
   "cell_type": "markdown",
   "id": "d5b35761",
   "metadata": {},
   "source": [
    "#### partials"
   ]
  },
  {
   "cell_type": "code",
   "execution_count": 21,
   "id": "779c39cf",
   "metadata": {},
   "outputs": [],
   "source": [
    "def show_progress(msg, i):\n",
    "    print(f\"{msg}: {i}\")"
   ]
  },
  {
   "cell_type": "code",
   "execution_count": 22,
   "id": "8d95b2fb",
   "metadata": {},
   "outputs": [
    {
     "name": "stdout",
     "output_type": "stream",
     "text": [
      "hey completed!: 1\n",
      "hey completed!: 2\n",
      "hey completed!: 3\n",
      "hey completed!: 4\n",
      "hey completed!: 5\n"
     ]
    },
    {
     "data": {
      "text/plain": [
       "30"
      ]
     },
     "execution_count": 22,
     "metadata": {},
     "output_type": "execute_result"
    }
   ],
   "source": [
    "slow_calc(lambda i: show_progress('hey completed!', i))"
   ]
  },
  {
   "cell_type": "code",
   "execution_count": 23,
   "id": "70b00735",
   "metadata": {},
   "outputs": [],
   "source": [
    "def make_show_progress(msg):\n",
    "    def _f(i):\n",
    "        print(f\"{msg}: {i}\")\n",
    "    return _f"
   ]
  },
  {
   "cell_type": "code",
   "execution_count": 24,
   "id": "e1cec725",
   "metadata": {},
   "outputs": [
    {
     "name": "stdout",
     "output_type": "stream",
     "text": [
      "Nice: 1\n",
      "Nice: 2\n",
      "Nice: 3\n",
      "Nice: 4\n",
      "Nice: 5\n"
     ]
    },
    {
     "data": {
      "text/plain": [
       "30"
      ]
     },
     "execution_count": 24,
     "metadata": {},
     "output_type": "execute_result"
    }
   ],
   "source": [
    "slow_calc(make_show_progress('Nice'))"
   ]
  },
  {
   "cell_type": "code",
   "execution_count": 25,
   "id": "c0d7b5f8",
   "metadata": {},
   "outputs": [],
   "source": [
    "from functools import partial"
   ]
  },
  {
   "cell_type": "code",
   "execution_count": null,
   "id": "062b7e8a",
   "metadata": {},
   "outputs": [
    {
     "name": "stdout",
     "output_type": "stream",
     "text": [
      "oha: 1\n",
      "oha: 2\n"
     ]
    }
   ],
   "source": [
    "slow_calc(partial(show_progress, 'oha'))"
   ]
  },
  {
   "cell_type": "code",
   "execution_count": null,
   "id": "4f2ed6b7",
   "metadata": {},
   "outputs": [],
   "source": []
  }
 ],
 "metadata": {
  "kernelspec": {
   "display_name": "Python 3 (ipykernel)",
   "language": "python",
   "name": "python3"
  },
  "language_info": {
   "codemirror_mode": {
    "name": "ipython",
    "version": 3
   },
   "file_extension": ".py",
   "mimetype": "text/x-python",
   "name": "python",
   "nbconvert_exporter": "python",
   "pygments_lexer": "ipython3",
   "version": "3.9.7"
  }
 },
 "nbformat": 4,
 "nbformat_minor": 5
}
